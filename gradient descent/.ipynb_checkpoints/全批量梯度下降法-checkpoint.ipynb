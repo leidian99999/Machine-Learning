{
 "cells": [
  {
   "cell_type": "code",
   "execution_count": null,
   "metadata": {
    "collapsed": true
   },
   "outputs": [],
   "source": [
    "import pandas as pd\n",
    "import numpy as np"
   ]
  },
  {
   "cell_type": "code",
   "execution_count": null,
   "metadata": {
    "scrolled": true
   },
   "outputs": [],
   "source": [
    "#导入数据\n",
    "data_train = pd.read_csv('dataset/')\n",
    "data_test  = pd.read_csv('dataset/sofa/data/test.csv')\n",
    "data_submit= pd.read_csv('dataset/sofa/data/sample_submit.csv')\n",
    "data_train.head(5)"
   ]
  },
  {
   "cell_type": "markdown",
   "metadata": {},
   "source": [
    "![title](gradient descent/buzou.png)"
   ]
  },
  {
   "cell_type": "code",
   "execution_count": null,
   "metadata": {
    "collapsed": true
   },
   "outputs": [],
   "source": [
    "#初始设置\n",
    "beta = [1,1]\n",
    "alpha = 0.2\n",
    "tol_L = 0.1"
   ]
  },
  {
   "cell_type": "markdown",
   "metadata": {},
   "source": [
    "第一步\n",
    "![title](gradient descent/huigui.png)"
   ]
  },
  {
   "cell_type": "code",
   "execution_count": null,
   "metadata": {
    "collapsed": true
   },
   "outputs": [],
   "source": [
    "#对x进行归一化\n",
    "max_x = max(data_train['id']) #2253\n",
    "x = data_train['id'] / max_x\n",
    "y = data_train['questions']"
   ]
  },
  {
   "cell_type": "markdown",
   "metadata": {},
   "source": [
    "损失函数的梯度,梯度就是多元函数的导数\n",
    "![title](gradient descent/gradient.png)"
   ]
  },
  {
   "cell_type": "code",
   "execution_count": null,
   "metadata": {
    "collapsed": true
   },
   "outputs": [],
   "source": [
    "#定义计算梯度的函数\n",
    "def compute_gradient(beta,x,y):\n",
    "    gradient = [0,0]\n",
    "    gradient[0] = 2. * np.mean(beta[0] + beta[1] * x -y)\n",
    "    gradient[1] = 2. * np.mean(x * (beta[0] + beta[1] * x - y))\n",
    "    return np.array(gradient)"
   ]
  },
  {
   "cell_type": "markdown",
   "metadata": {},
   "source": [
    "![title](gradient descent/disanbu.png)"
   ]
  },
  {
   "cell_type": "code",
   "execution_count": null,
   "metadata": {
    "collapsed": true
   },
   "outputs": [],
   "source": [
    "#更新beta\n",
    "def update_beta(beta,alpha,gradient):\n",
    "    new_beta = np.array(beta) - alpha * gradient\n",
    "    return new_beta"
   ]
  },
  {
   "cell_type": "markdown",
   "metadata": {},
   "source": [
    "第四步\n",
    "![title](gradient descent/disibu.png)"
   ]
  },
  {
   "cell_type": "code",
   "execution_count": null,
   "metadata": {
    "collapsed": true
   },
   "outputs": [],
   "source": [
    "#计算RMSE（均方根误差）的函数\n",
    "def rmse(beta,x,y):\n",
    "    squared_error = (beta[0] + beta[1] * x - y) ** 2\n",
    "    result = np.sqrt(np.mean(squared_error))\n",
    "    return result"
   ]
  },
  {
   "cell_type": "code",
   "execution_count": null,
   "metadata": {
    "collapsed": true
   },
   "outputs": [],
   "source": [
    "#开始进行第一次计算\n",
    "gradient = compute_gradient(beta,x,y)\n",
    "loss = rmse(beta,x,y)\n",
    "beta = update_beta(beta,alpha,gradient)\n",
    "new_beta = rmse(beta,x,y)"
   ]
  },
  {
   "cell_type": "code",
   "execution_count": null,
   "metadata": {
    "collapsed": true
   },
   "outputs": [],
   "source": []
  }
 ],
 "metadata": {
  "kernelspec": {
   "display_name": "Python 3",
   "language": "python",
   "name": "python3"
  },
  "language_info": {
   "codemirror_mode": {
    "name": "ipython",
    "version": 3
   },
   "file_extension": ".py",
   "mimetype": "text/x-python",
   "name": "python",
   "nbconvert_exporter": "python",
   "pygments_lexer": "ipython3",
   "version": "3.6.1"
  }
 },
 "nbformat": 4,
 "nbformat_minor": 2
}
