{
 "cells": [
  {
   "cell_type": "code",
   "execution_count": null,
   "metadata": {},
   "outputs": [],
   "source": [
    "import datetime\n",
    "def get_nday_list(n):\n",
    "    import datetime\n",
    "    before_n_days = []\n",
    "    for i in range(1, n + 1)[::-1]:\n",
    "        before_n_days.append(str(datetime.date.today() - datetime.timedelta(days=i)))\n",
    "    return before_n_days\n",
    "\n",
    "a = get_nday_list(7)\n",
    "print(a)\n",
    "['2017-02-22', '2017-02-23', '2017-02-24', '2017-02-25', '2017-02-26', '2017-02-27', '2017-02-28']"
   ]
  }
 ],
 "metadata": {
  "kernelspec": {
   "display_name": "Python 3",
   "language": "python",
   "name": "python3"
  },
  "language_info": {
   "codemirror_mode": {
    "name": "ipython",
    "version": 3
   },
   "file_extension": ".py",
   "mimetype": "text/x-python",
   "name": "python",
   "nbconvert_exporter": "python",
   "pygments_lexer": "ipython3",
   "version": "3.6.6"
  }
 },
 "nbformat": 4,
 "nbformat_minor": 2
}
