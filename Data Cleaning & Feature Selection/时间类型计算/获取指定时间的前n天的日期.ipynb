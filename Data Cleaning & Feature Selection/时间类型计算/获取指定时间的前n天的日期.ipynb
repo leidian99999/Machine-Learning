{
 "cells": [
  {
   "cell_type": "code",
   "execution_count": null,
   "metadata": {},
   "outputs": [],
   "source": [
    "import datetime\n",
    "def get_day_nday_ago(date,n):\n",
    "    t = time.strptime(date, \"%Y-%m-%d\")\n",
    "    y, m, d = t[0:3]\n",
    "    Date = str(datetime.datetime(y, m, d) - datetime.timedelta(n)).split()\n",
    "    return Date[0]\n",
    "\n",
    "# 示例\n",
    "a=get_day_nday_ago('2017-02-11',7)\n",
    "print a\n",
    "2017-02-04\n"
   ]
  }
 ],
 "metadata": {
  "kernelspec": {
   "display_name": "Python 3",
   "language": "python",
   "name": "python3"
  },
  "language_info": {
   "codemirror_mode": {
    "name": "ipython",
    "version": 3
   },
   "file_extension": ".py",
   "mimetype": "text/x-python",
   "name": "python",
   "nbconvert_exporter": "python",
   "pygments_lexer": "ipython3",
   "version": "3.6.6"
  }
 },
 "nbformat": 4,
 "nbformat_minor": 2
}
