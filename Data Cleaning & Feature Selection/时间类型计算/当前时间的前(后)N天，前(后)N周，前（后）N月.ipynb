{
 "cells": [
  {
   "cell_type": "code",
   "execution_count": null,
   "metadata": {},
   "outputs": [],
   "source": [
    "def get_days_before_today(n=0):\n",
    "    '''''\n",
    "    date format = \"YYYY-MM-DD HH:MM:SS\"\n",
    "    '''\n",
    "    now = datetime.datetime.now()\n",
    "    if(n<0):\n",
    "\treturn datetime.datetime(now.year, now.month, now.day, now.hour, now.minute, now.second)\n",
    "    else:\n",
    "\tn_days_before = now - timedelta(days=n)\n",
    "    return datetime.datetime(n_days_before.year, n_days_before.month, n_days_before.day, n_days_before.hour, n_days_before.minute, n_days_before.second)\n"
   ]
  }
 ],
 "metadata": {
  "kernelspec": {
   "display_name": "Python 3",
   "language": "python",
   "name": "python3"
  },
  "language_info": {
   "codemirror_mode": {
    "name": "ipython",
    "version": 3
   },
   "file_extension": ".py",
   "mimetype": "text/x-python",
   "name": "python",
   "nbconvert_exporter": "python",
   "pygments_lexer": "ipython3",
   "version": "3.6.6"
  }
 },
 "nbformat": 4,
 "nbformat_minor": 2
}
