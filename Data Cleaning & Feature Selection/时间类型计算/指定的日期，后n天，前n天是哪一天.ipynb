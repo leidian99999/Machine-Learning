{
 "cells": [
  {
   "cell_type": "code",
   "execution_count": null,
   "metadata": {},
   "outputs": [],
   "source": [
    "import datetime\n",
    "\n",
    "def getday(y=2017,m=8,d=15,n=0):\n",
    "    the_date = datetime.datetime(y,m,d)\n",
    "    result_date = the_date + datetime.timedelta(days=n)\n",
    "    d = result_date.strftime('%Y-%m-%d')\n",
    "    return d\n",
    "print getday(2017,8,15,21) #8月15日后21天\n",
    "print getday(2017,9,1,-10) #9月1日前10天"
   ]
  }
 ],
 "metadata": {
  "kernelspec": {
   "display_name": "Python 3",
   "language": "python",
   "name": "python3"
  },
  "language_info": {
   "codemirror_mode": {
    "name": "ipython",
    "version": 3
   },
   "file_extension": ".py",
   "mimetype": "text/x-python",
   "name": "python",
   "nbconvert_exporter": "python",
   "pygments_lexer": "ipython3",
   "version": "3.6.6"
  }
 },
 "nbformat": 4,
 "nbformat_minor": 2
}
