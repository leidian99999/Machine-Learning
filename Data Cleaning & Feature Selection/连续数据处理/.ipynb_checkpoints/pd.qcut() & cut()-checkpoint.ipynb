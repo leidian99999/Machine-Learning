{
 "cells": [
  {
   "cell_type": "markdown",
   "metadata": {},
   "source": [
    "pandas的qcut可以把一组数字按大小区间进行分区"
   ]
  },
  {
   "cell_type": "code",
   "execution_count": 6,
   "metadata": {},
   "outputs": [],
   "source": [
    "import pandas as pd\n",
    "import numpy as np"
   ]
  },
  {
   "cell_type": "code",
   "execution_count": 2,
   "metadata": {},
   "outputs": [],
   "source": [
    "data = pd.Series([0,8,1,5,3,7,2,6,10,4,9])"
   ]
  },
  {
   "cell_type": "code",
   "execution_count": 3,
   "metadata": {},
   "outputs": [
    {
     "data": {
      "text/plain": [
       "0      0\n",
       "1      8\n",
       "2      1\n",
       "3      5\n",
       "4      3\n",
       "5      7\n",
       "6      2\n",
       "7      6\n",
       "8     10\n",
       "9      4\n",
       "10     9\n",
       "dtype: int64"
      ]
     },
     "execution_count": 3,
     "metadata": {},
     "output_type": "execute_result"
    }
   ],
   "source": [
    "data"
   ]
  },
  {
   "cell_type": "code",
   "execution_count": 4,
   "metadata": {},
   "outputs": [
    {
     "name": "stdout",
     "output_type": "stream",
     "text": [
      "0     small number\n",
      "1     large number\n",
      "2     small number\n",
      "3     small number\n",
      "4     small number\n",
      "5     large number\n",
      "6     small number\n",
      "7     large number\n",
      "8     large number\n",
      "9     small number\n",
      "10    large number\n",
      "dtype: category\n",
      "Categories (2, object): [small number < large number]\n"
     ]
    }
   ],
   "source": [
    "# 数据分成两部分,一半大的,一半小的,如果是小的数,值就变成'small number',大的数,值就变成'large number':\n",
    "print(pd.qcut(data,[0,0.5,1],labels=['small number','large number']))"
   ]
  },
  {
   "cell_type": "markdown",
   "metadata": {},
   "source": [
    " qcut() 方法第一个参数是数据,第二个参数定义区间的分割方法,比如这里把数字分成两半,那就是 [0, 0.5, 1] 如果要分成4份,就是 [0, 0.25, 0.5, 0.75, 1] ,也可以不是均分,比如 [0, 0.1, 0.2, 0.3, 1] ,这就就会按照 1:1:1:7 进行分布"
   ]
  },
  {
   "cell_type": "code",
   "execution_count": 5,
   "metadata": {
    "scrolled": true
   },
   "outputs": [
    {
     "name": "stdout",
     "output_type": "stream",
     "text": [
      "0      first 10%\n",
      "1            70%\n",
      "2      first 10%\n",
      "3            70%\n",
      "4      third 10%\n",
      "5            70%\n",
      "6     second 10%\n",
      "7            70%\n",
      "8            70%\n",
      "9            70%\n",
      "10           70%\n",
      "dtype: category\n",
      "Categories (4, object): [first 10% < second 10% < third 10% < 70%]\n"
     ]
    }
   ],
   "source": [
    "data1 = pd.Series([0,8,1,5,3,7,2,6,10,4,9])\n",
    "print(pd.qcut(data1,[0, 0.1, 0.2, 0.3, 1],labels=['first 10%','second 10%','third 10%','70%']))"
   ]
  },
  {
   "cell_type": "markdown",
   "metadata": {},
   "source": [
    "#### qcut() 方法第三个参数是要替换的值,就是对应区间的值应该替换成什么值,顺序和区间保持一致就好了,注意有几个区间,就要给几个值,不能多也不能少."
   ]
  },
  {
   "cell_type": "markdown",
   "metadata": {},
   "source": [
    "## 详解"
   ]
  },
  {
   "cell_type": "code",
   "execution_count": 8,
   "metadata": {},
   "outputs": [
    {
     "data": {
      "text/plain": [
       "array([-0.74219399, -1.85494203,  1.29540879,  1.48205625,  0.04482996,\n",
       "        0.39032538,  1.42227708,  1.27902157, -0.89085492])"
      ]
     },
     "execution_count": 8,
     "metadata": {},
     "output_type": "execute_result"
    }
   ],
   "source": [
    "factors = np.random.randn(9)\n",
    "factors"
   ]
  },
  {
   "cell_type": "markdown",
   "metadata": {},
   "source": [
    "#### pd.cut()\n",
    "qcut是根据这些值的频率来选择箱子的均匀间隔，即每个箱子中含有的数的数量是相同的\n",
    "\n",
    "传入q参数"
   ]
  },
  {
   "cell_type": "code",
   "execution_count": 9,
   "metadata": {},
   "outputs": [
    {
     "data": {
      "text/plain": [
       "[(-1.8559999999999999, -0.218], (-1.8559999999999999, -0.218], (1.284, 1.482], (1.284, 1.482], (-0.218, 1.284], (-0.218, 1.284], (1.284, 1.482], (-0.218, 1.284], (-1.8559999999999999, -0.218]]\n",
       "Categories (3, interval[float64]): [(-1.8559999999999999, -0.218] < (-0.218, 1.284] < (1.284, 1.482]]"
      ]
     },
     "execution_count": 9,
     "metadata": {},
     "output_type": "execute_result"
    }
   ],
   "source": [
    "pd.qcut(factors, 3) #返回每个数对应的分组"
   ]
  },
  {
   "cell_type": "code",
   "execution_count": 10,
   "metadata": {},
   "outputs": [
    {
     "data": {
      "text/plain": [
       "(-1.8559999999999999, -0.218]    3\n",
       "(-0.218, 1.284]                  3\n",
       "(1.284, 1.482]                   3\n",
       "dtype: int64"
      ]
     },
     "execution_count": 10,
     "metadata": {},
     "output_type": "execute_result"
    }
   ],
   "source": [
    "pd.qcut(factors, 3).value_counts() #计算每个分组中含有的数的数量"
   ]
  },
  {
   "cell_type": "code",
   "execution_count": 11,
   "metadata": {},
   "outputs": [
    {
     "data": {
      "text/plain": [
       "[a, a, c, c, b, b, c, b, a]\n",
       "Categories (3, object): [a < b < c]"
      ]
     },
     "execution_count": 11,
     "metadata": {},
     "output_type": "execute_result"
    }
   ],
   "source": [
    "# 传入label\n",
    "pd.qcut(factors, 3,labels=[\"a\",\"b\",\"c\"]) #返回每个数对应的分组，但分组名称由label指示"
   ]
  },
  {
   "cell_type": "code",
   "execution_count": 12,
   "metadata": {},
   "outputs": [
    {
     "data": {
      "text/plain": [
       "array([0, 0, 2, 2, 1, 1, 2, 1, 0], dtype=int64)"
      ]
     },
     "execution_count": 12,
     "metadata": {},
     "output_type": "execute_result"
    }
   ],
   "source": [
    "pd.qcut(factors, 3,labels=False) #返回每个数对应的分组，但仅显示分组下标"
   ]
  },
  {
   "cell_type": "code",
   "execution_count": 13,
   "metadata": {},
   "outputs": [
    {
     "data": {
      "text/plain": [
       "([(-1.8559999999999999, -0.218], (-1.8559999999999999, -0.218], (1.284, 1.482], (1.284, 1.482], (-0.218, 1.284], (-0.218, 1.284], (1.284, 1.482], (-0.218, 1.284], (-1.8559999999999999, -0.218]]\n",
       " Categories (3, interval[float64]): [(-1.8559999999999999, -0.218] < (-0.218, 1.284] < (1.284, 1.482]],\n",
       " array([-1.85494203, -0.21751136,  1.28448398,  1.48205625]))"
      ]
     },
     "execution_count": 13,
     "metadata": {},
     "output_type": "execute_result"
    }
   ],
   "source": [
    "#传入retbins参数\n",
    "pd.qcut(factors, 3,retbins=True)# 返回每个数对应的分组，且额外返回bins，即每个边界值"
   ]
  },
  {
   "cell_type": "code",
   "execution_count": null,
   "metadata": {},
   "outputs": [],
   "source": []
  }
 ],
 "metadata": {
  "kernelspec": {
   "display_name": "Python 3",
   "language": "python",
   "name": "python3"
  },
  "language_info": {
   "codemirror_mode": {
    "name": "ipython",
    "version": 3
   },
   "file_extension": ".py",
   "mimetype": "text/x-python",
   "name": "python",
   "nbconvert_exporter": "python",
   "pygments_lexer": "ipython3",
   "version": "3.5.2"
  }
 },
 "nbformat": 4,
 "nbformat_minor": 2
}
