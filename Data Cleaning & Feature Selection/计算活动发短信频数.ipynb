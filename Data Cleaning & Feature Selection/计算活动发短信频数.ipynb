{
 "cells": [
  {
   "cell_type": "code",
   "execution_count": 1,
   "metadata": {},
   "outputs": [],
   "source": [
    "import pandas as pd\n",
    "import numpy as np"
   ]
  },
  {
   "cell_type": "code",
   "execution_count": 2,
   "metadata": {},
   "outputs": [
    {
     "data": {
      "text/plain": [
       "(394889, 26)"
      ]
     },
     "execution_count": 2,
     "metadata": {},
     "output_type": "execute_result"
    }
   ],
   "source": [
    "data = pd.read_excel(r\"G:\\work\\日报\\短信\\输出\\11.15-11.25本网短信汇总明细.xlsx\")\n",
    "data = data[data['订单生成时间'].str.contains('订单生成时间') == False]\n",
    "data.shape"
   ]
  },
  {
   "cell_type": "code",
   "execution_count": 3,
   "metadata": {},
   "outputs": [
    {
     "data": {
      "text/plain": [
       "(395552, 14)"
      ]
     },
     "execution_count": 3,
     "metadata": {},
     "output_type": "execute_result"
    }
   ],
   "source": [
    "data2 = pd.read_excel(r\"G:\\work\\日报\\短信反馈\\11.1-11.25激活明细.xlsx\")\n",
    "data2 = data2[data2['交易完成时间'].str.contains('交易完成时间') == False]\n",
    "data2.shape"
   ]
  },
  {
   "cell_type": "code",
   "execution_count": 4,
   "metadata": {},
   "outputs": [
    {
     "name": "stdout",
     "output_type": "stream",
     "text": [
      "Index(['订单生成时间', '订单编号', '收货人电话号码', '收货人姓名', '收货地址', '物流签收时间', '入网手机号',\n",
      "       '销售品名称_x', '套餐', '号码归属地', '销售品编号', '是否线下模式', '是否线下转线上', '所属省', '地区',\n",
      "       '日期', '订单时间', '销售品名称_y', '分类', '号段', '运营商', 'Unnamed: 2', 'Unnamed: 3',\n",
      "       'Unnamed: 4', 'Unnamed: 5', '天数'],\n",
      "      dtype='object')\n",
      "****************************************************************************************************\n",
      "Index(['交易完成时间', '入网身份证号', '入网手机号', '收货地址', '号码归属地', '销售品编号', '所属省', '所属地区',\n",
      "       '销售品名称', '分类', '生日', '年龄', 'sex', '性别'],\n",
      "      dtype='object')\n"
     ]
    }
   ],
   "source": [
    "print(data.columns)\n",
    "print(\"*\"*100)\n",
    "print(data2.columns)"
   ]
  },
  {
   "cell_type": "code",
   "execution_count": 77,
   "metadata": {},
   "outputs": [],
   "source": [
    "df1 = data.copy()\n",
    "df2 = data2.copy()"
   ]
  },
  {
   "cell_type": "code",
   "execution_count": 78,
   "metadata": {},
   "outputs": [],
   "source": [
    "df1 = df1[['订单生成时间','收货人电话号码','收货人姓名','物流签收时间', '入网手机号','所属省','分类']]\n",
    "df2 = df2[['交易完成时间', '入网身份证号', '入网手机号','所属省','分类','生日', '年龄', 'sex', '性别']]\n",
    "df2['入网手机号'] = df2['入网手机号'].astype(\"str\")"
   ]
  },
  {
   "cell_type": "code",
   "execution_count": 35,
   "metadata": {},
   "outputs": [
    {
     "data": {
      "text/plain": [
       "(36881, 15)"
      ]
     },
     "execution_count": 35,
     "metadata": {},
     "output_type": "execute_result"
    }
   ],
   "source": [
    "# df3 = pd.merge(df1,df2,how=\"inner\",on='入网手机号')\n",
    "# df3.shape"
   ]
  },
  {
   "cell_type": "code",
   "execution_count": 79,
   "metadata": {},
   "outputs": [
    {
     "data": {
      "text/plain": [
       "(394889, 15)"
      ]
     },
     "execution_count": 79,
     "metadata": {},
     "output_type": "execute_result"
    }
   ],
   "source": [
    "dft = pd.merge(df1,df2,how=\"left\",on=\"入网手机号\")\n",
    "dft.shape"
   ]
  },
  {
   "cell_type": "code",
   "execution_count": 37,
   "metadata": {},
   "outputs": [
    {
     "data": {
      "text/plain": [
       "Index(['订单生成时间', '收货人电话号码', '收货人姓名', '物流签收时间', '入网手机号', '所属省_x', '分类_x',\n",
       "       '交易完成时间', '入网身份证号', '所属省_y', '分类_y', '生日', '年龄', 'sex', '性别'],\n",
       "      dtype='object')"
      ]
     },
     "execution_count": 37,
     "metadata": {},
     "output_type": "execute_result"
    }
   ],
   "source": [
    "dft.columns"
   ]
  },
  {
   "cell_type": "code",
   "execution_count": 38,
   "metadata": {},
   "outputs": [
    {
     "data": {
      "text/plain": [
       "True     358008\n",
       "False     36881\n",
       "Name: 交易完成时间, dtype: int64"
      ]
     },
     "execution_count": 38,
     "metadata": {},
     "output_type": "execute_result"
    }
   ],
   "source": [
    "dft['交易完成时间'].isnull().value_counts()"
   ]
  },
  {
   "cell_type": "code",
   "execution_count": 80,
   "metadata": {},
   "outputs": [
    {
     "data": {
      "text/html": [
       "<div>\n",
       "<style scoped>\n",
       "    .dataframe tbody tr th:only-of-type {\n",
       "        vertical-align: middle;\n",
       "    }\n",
       "\n",
       "    .dataframe tbody tr th {\n",
       "        vertical-align: top;\n",
       "    }\n",
       "\n",
       "    .dataframe thead th {\n",
       "        text-align: right;\n",
       "    }\n",
       "</style>\n",
       "<table border=\"1\" class=\"dataframe\">\n",
       "  <thead>\n",
       "    <tr style=\"text-align: right;\">\n",
       "      <th></th>\n",
       "      <th>订单生成时间</th>\n",
       "      <th>收货人电话号码</th>\n",
       "      <th>收货人姓名</th>\n",
       "      <th>物流签收时间</th>\n",
       "      <th>入网手机号</th>\n",
       "      <th>所属省_x</th>\n",
       "      <th>分类_x</th>\n",
       "      <th>交易完成时间</th>\n",
       "      <th>入网身份证号</th>\n",
       "      <th>所属省_y</th>\n",
       "      <th>分类_y</th>\n",
       "      <th>生日</th>\n",
       "      <th>年龄</th>\n",
       "      <th>sex</th>\n",
       "      <th>性别</th>\n",
       "      <th>is_null</th>\n",
       "    </tr>\n",
       "  </thead>\n",
       "  <tbody>\n",
       "    <tr>\n",
       "      <th>0</th>\n",
       "      <td>2018-10-31 23:59:39</td>\n",
       "      <td>15331572305</td>\n",
       "      <td>杨闳翔</td>\n",
       "      <td>2018-11-02 17:30:09</td>\n",
       "      <td>17387458830</td>\n",
       "      <td>云南省</td>\n",
       "      <td>网易白金卡</td>\n",
       "      <td>2018-11-19 12:53:38</td>\n",
       "      <td>530326200001200013</td>\n",
       "      <td>云南省</td>\n",
       "      <td>网易白金卡</td>\n",
       "      <td>2000-01-20</td>\n",
       "      <td>18.0</td>\n",
       "      <td>1.0</td>\n",
       "      <td>男</td>\n",
       "      <td>False</td>\n",
       "    </tr>\n",
       "    <tr>\n",
       "      <th>1</th>\n",
       "      <td>2018-10-31 23:58:43</td>\n",
       "      <td>17752465515</td>\n",
       "      <td>白小静</td>\n",
       "      <td>2018-11-02 11:06:11</td>\n",
       "      <td>17709570527</td>\n",
       "      <td>宁夏回族自治区</td>\n",
       "      <td>百度圣卡</td>\n",
       "      <td>NaN</td>\n",
       "      <td>NaN</td>\n",
       "      <td>NaN</td>\n",
       "      <td>NaN</td>\n",
       "      <td>NaT</td>\n",
       "      <td>NaN</td>\n",
       "      <td>NaN</td>\n",
       "      <td>NaN</td>\n",
       "      <td>True</td>\n",
       "    </tr>\n",
       "    <tr>\n",
       "      <th>2</th>\n",
       "      <td>2018-10-31 23:57:08</td>\n",
       "      <td>18949893797</td>\n",
       "      <td>胡勇</td>\n",
       "      <td>2018-11-03 13:26:09</td>\n",
       "      <td>18939739374</td>\n",
       "      <td>上海市</td>\n",
       "      <td>米粉卡</td>\n",
       "      <td>NaN</td>\n",
       "      <td>NaN</td>\n",
       "      <td>NaN</td>\n",
       "      <td>NaN</td>\n",
       "      <td>NaT</td>\n",
       "      <td>NaN</td>\n",
       "      <td>NaN</td>\n",
       "      <td>NaN</td>\n",
       "      <td>True</td>\n",
       "    </tr>\n",
       "    <tr>\n",
       "      <th>3</th>\n",
       "      <td>2018-10-31 23:57:06</td>\n",
       "      <td>18073236312</td>\n",
       "      <td>李恒军</td>\n",
       "      <td>2018-11-02 14:50:52</td>\n",
       "      <td>17352694672</td>\n",
       "      <td>湖南省</td>\n",
       "      <td>米粉卡</td>\n",
       "      <td>NaN</td>\n",
       "      <td>NaN</td>\n",
       "      <td>NaN</td>\n",
       "      <td>NaN</td>\n",
       "      <td>NaT</td>\n",
       "      <td>NaN</td>\n",
       "      <td>NaN</td>\n",
       "      <td>NaN</td>\n",
       "      <td>True</td>\n",
       "    </tr>\n",
       "    <tr>\n",
       "      <th>4</th>\n",
       "      <td>2018-10-31 23:57:02</td>\n",
       "      <td>18970904801</td>\n",
       "      <td>杜璇</td>\n",
       "      <td>2018-11-02 10:24:13</td>\n",
       "      <td>15350015010</td>\n",
       "      <td>江西省</td>\n",
       "      <td>米粉卡</td>\n",
       "      <td>NaN</td>\n",
       "      <td>NaN</td>\n",
       "      <td>NaN</td>\n",
       "      <td>NaN</td>\n",
       "      <td>NaT</td>\n",
       "      <td>NaN</td>\n",
       "      <td>NaN</td>\n",
       "      <td>NaN</td>\n",
       "      <td>True</td>\n",
       "    </tr>\n",
       "    <tr>\n",
       "      <th>5</th>\n",
       "      <td>2018-10-31 23:56:48</td>\n",
       "      <td>17377559774</td>\n",
       "      <td>周醒</td>\n",
       "      <td>2018-11-02 11:52:09</td>\n",
       "      <td>17776782856</td>\n",
       "      <td>广西壮族自治区</td>\n",
       "      <td>京东体验卡</td>\n",
       "      <td>NaN</td>\n",
       "      <td>NaN</td>\n",
       "      <td>NaN</td>\n",
       "      <td>NaN</td>\n",
       "      <td>NaT</td>\n",
       "      <td>NaN</td>\n",
       "      <td>NaN</td>\n",
       "      <td>NaN</td>\n",
       "      <td>True</td>\n",
       "    </tr>\n",
       "    <tr>\n",
       "      <th>6</th>\n",
       "      <td>2018-10-31 23:55:18</td>\n",
       "      <td>17765027590</td>\n",
       "      <td>王浩然</td>\n",
       "      <td>2018-11-02 11:34:08</td>\n",
       "      <td>17319598543</td>\n",
       "      <td>陕西省</td>\n",
       "      <td>网易白金卡</td>\n",
       "      <td>NaN</td>\n",
       "      <td>NaN</td>\n",
       "      <td>NaN</td>\n",
       "      <td>NaN</td>\n",
       "      <td>NaT</td>\n",
       "      <td>NaN</td>\n",
       "      <td>NaN</td>\n",
       "      <td>NaN</td>\n",
       "      <td>True</td>\n",
       "    </tr>\n",
       "    <tr>\n",
       "      <th>7</th>\n",
       "      <td>2018-10-31 23:54:00</td>\n",
       "      <td>13364676949</td>\n",
       "      <td>李忠扬</td>\n",
       "      <td>2018-11-02 14:04:20</td>\n",
       "      <td>17343845345</td>\n",
       "      <td>吉林省</td>\n",
       "      <td>百度圣卡</td>\n",
       "      <td>NaN</td>\n",
       "      <td>NaN</td>\n",
       "      <td>NaN</td>\n",
       "      <td>NaN</td>\n",
       "      <td>NaT</td>\n",
       "      <td>NaN</td>\n",
       "      <td>NaN</td>\n",
       "      <td>NaN</td>\n",
       "      <td>True</td>\n",
       "    </tr>\n",
       "    <tr>\n",
       "      <th>8</th>\n",
       "      <td>2018-10-31 23:52:49</td>\n",
       "      <td>13391850660</td>\n",
       "      <td>王俊帅</td>\n",
       "      <td>2018-11-02 09:52:19</td>\n",
       "      <td>17354700515</td>\n",
       "      <td>浙江省</td>\n",
       "      <td>阿里宝卡</td>\n",
       "      <td>NaN</td>\n",
       "      <td>NaN</td>\n",
       "      <td>NaN</td>\n",
       "      <td>NaN</td>\n",
       "      <td>NaT</td>\n",
       "      <td>NaN</td>\n",
       "      <td>NaN</td>\n",
       "      <td>NaN</td>\n",
       "      <td>True</td>\n",
       "    </tr>\n",
       "    <tr>\n",
       "      <th>9</th>\n",
       "      <td>2018-10-31 23:52:34</td>\n",
       "      <td>18989112486</td>\n",
       "      <td>姚家新</td>\n",
       "      <td>2018-11-03 16:48:10</td>\n",
       "      <td>17360382466</td>\n",
       "      <td>四川省</td>\n",
       "      <td>网易白金卡</td>\n",
       "      <td>2018-11-15 15:12:00</td>\n",
       "      <td>511002199807096424</td>\n",
       "      <td>四川省</td>\n",
       "      <td>网易白金卡</td>\n",
       "      <td>1998-07-09</td>\n",
       "      <td>20.0</td>\n",
       "      <td>2.0</td>\n",
       "      <td>女</td>\n",
       "      <td>False</td>\n",
       "    </tr>\n",
       "  </tbody>\n",
       "</table>\n",
       "</div>"
      ],
      "text/plain": [
       "                订单生成时间      收货人电话号码 收货人姓名               物流签收时间        入网手机号  \\\n",
       "0  2018-10-31 23:59:39  15331572305   杨闳翔  2018-11-02 17:30:09  17387458830   \n",
       "1  2018-10-31 23:58:43  17752465515   白小静  2018-11-02 11:06:11  17709570527   \n",
       "2  2018-10-31 23:57:08  18949893797    胡勇  2018-11-03 13:26:09  18939739374   \n",
       "3  2018-10-31 23:57:06  18073236312   李恒军  2018-11-02 14:50:52  17352694672   \n",
       "4  2018-10-31 23:57:02  18970904801    杜璇  2018-11-02 10:24:13  15350015010   \n",
       "5  2018-10-31 23:56:48  17377559774    周醒  2018-11-02 11:52:09  17776782856   \n",
       "6  2018-10-31 23:55:18  17765027590   王浩然  2018-11-02 11:34:08  17319598543   \n",
       "7  2018-10-31 23:54:00  13364676949   李忠扬  2018-11-02 14:04:20  17343845345   \n",
       "8  2018-10-31 23:52:49  13391850660   王俊帅  2018-11-02 09:52:19  17354700515   \n",
       "9  2018-10-31 23:52:34  18989112486   姚家新  2018-11-03 16:48:10  17360382466   \n",
       "\n",
       "     所属省_x   分类_x               交易完成时间              入网身份证号 所属省_y   分类_y  \\\n",
       "0      云南省  网易白金卡  2018-11-19 12:53:38  530326200001200013   云南省  网易白金卡   \n",
       "1  宁夏回族自治区   百度圣卡                  NaN                 NaN   NaN    NaN   \n",
       "2      上海市    米粉卡                  NaN                 NaN   NaN    NaN   \n",
       "3      湖南省    米粉卡                  NaN                 NaN   NaN    NaN   \n",
       "4      江西省    米粉卡                  NaN                 NaN   NaN    NaN   \n",
       "5  广西壮族自治区  京东体验卡                  NaN                 NaN   NaN    NaN   \n",
       "6      陕西省  网易白金卡                  NaN                 NaN   NaN    NaN   \n",
       "7      吉林省   百度圣卡                  NaN                 NaN   NaN    NaN   \n",
       "8      浙江省   阿里宝卡                  NaN                 NaN   NaN    NaN   \n",
       "9      四川省  网易白金卡  2018-11-15 15:12:00  511002199807096424   四川省  网易白金卡   \n",
       "\n",
       "          生日    年龄  sex   性别  is_null  \n",
       "0 2000-01-20  18.0  1.0    男    False  \n",
       "1        NaT   NaN  NaN  NaN     True  \n",
       "2        NaT   NaN  NaN  NaN     True  \n",
       "3        NaT   NaN  NaN  NaN     True  \n",
       "4        NaT   NaN  NaN  NaN     True  \n",
       "5        NaT   NaN  NaN  NaN     True  \n",
       "6        NaT   NaN  NaN  NaN     True  \n",
       "7        NaT   NaN  NaN  NaN     True  \n",
       "8        NaT   NaN  NaN  NaN     True  \n",
       "9 1998-07-09  20.0  2.0    女    False  "
      ]
     },
     "execution_count": 80,
     "metadata": {},
     "output_type": "execute_result"
    }
   ],
   "source": [
    "\n",
    "dft[\"is_null\"] = dft['交易完成时间'].isnull()\n",
    "dft.head(10)"
   ]
  },
  {
   "cell_type": "code",
   "execution_count": 81,
   "metadata": {},
   "outputs": [],
   "source": [
    "dft[\"is_null\"]= dft[\"is_null\"].astype(\"str\")"
   ]
  },
  {
   "cell_type": "code",
   "execution_count": 82,
   "metadata": {},
   "outputs": [
    {
     "data": {
      "text/plain": [
       "(36881, 16)"
      ]
     },
     "execution_count": 82,
     "metadata": {},
     "output_type": "execute_result"
    }
   ],
   "source": [
    "dfa = dft[dft[\"is_null\"].str.contains('False')]\n",
    "dfa.shape"
   ]
  },
  {
   "cell_type": "code",
   "execution_count": 83,
   "metadata": {},
   "outputs": [
    {
     "data": {
      "text/plain": [
       "(358008, 16)"
      ]
     },
     "execution_count": 83,
     "metadata": {},
     "output_type": "execute_result"
    }
   ],
   "source": [
    "dfb = dft[dft[\"is_null\"].str.contains('True')]\n",
    "dfb.shape"
   ]
  },
  {
   "cell_type": "code",
   "execution_count": 84,
   "metadata": {},
   "outputs": [
    {
     "data": {
      "text/plain": [
       "(12943, 1)"
      ]
     },
     "execution_count": 84,
     "metadata": {},
     "output_type": "execute_result"
    }
   ],
   "source": [
    "a_MsgNum = dfa.groupby(by=[\"收货人电话号码\",'分类_x']).agg({\"收货人电话号码\":\"count\"})\n",
    "a_MsgNum.shape"
   ]
  },
  {
   "cell_type": "code",
   "execution_count": 85,
   "metadata": {},
   "outputs": [
    {
     "data": {
      "text/plain": [
       "(47519, 1)"
      ]
     },
     "execution_count": 85,
     "metadata": {},
     "output_type": "execute_result"
    }
   ],
   "source": [
    "b_MsgNum = dfb.groupby(by=[\"收货人电话号码\",'分类_x']).agg({\"收货人电话号码\":\"count\"})\n",
    "b_MsgNum.shape"
   ]
  },
  {
   "cell_type": "code",
   "execution_count": 86,
   "metadata": {},
   "outputs": [],
   "source": [
    "a_MsgNum = a_MsgNum.rename(columns={'收货人电话号码':\"发短信数\"})\n",
    "b_MsgNum = b_MsgNum.rename(columns={'收货人电话号码':\"发短信数\"})"
   ]
  },
  {
   "cell_type": "code",
   "execution_count": 55,
   "metadata": {},
   "outputs": [],
   "source": [
    "# a_MsgNum['分类_x'] = pd.MultiIndex.to_frame(a_MsgNum.index)['分类_x']\n",
    "# a_MsgNum['收货人电话号码'] = pd.MultiIndex.to_frame(a_MsgNum.index)['收货人电话号码']\n",
    "\n",
    "# b_MsgNum['分类_x'] = pd.MultiIndex.to_frame(b_MsgNum.index)['分类_x']\n",
    "# b_MsgNum['收货人电话号码'] = pd.MultiIndex.to_frame(b_MsgNum.index)['收货人电话号码']"
   ]
  },
  {
   "cell_type": "code",
   "execution_count": 87,
   "metadata": {},
   "outputs": [
    {
     "name": "stdout",
     "output_type": "stream",
     "text": [
      "(12943, 1)\n"
     ]
    },
    {
     "data": {
      "text/html": [
       "<div>\n",
       "<style scoped>\n",
       "    .dataframe tbody tr th:only-of-type {\n",
       "        vertical-align: middle;\n",
       "    }\n",
       "\n",
       "    .dataframe tbody tr th {\n",
       "        vertical-align: top;\n",
       "    }\n",
       "\n",
       "    .dataframe thead th {\n",
       "        text-align: right;\n",
       "    }\n",
       "</style>\n",
       "<table border=\"1\" class=\"dataframe\">\n",
       "  <thead>\n",
       "    <tr style=\"text-align: right;\">\n",
       "      <th></th>\n",
       "      <th>收货人电话号码</th>\n",
       "      <th>分类_x</th>\n",
       "      <th>发短信数</th>\n",
       "    </tr>\n",
       "  </thead>\n",
       "  <tbody>\n",
       "    <tr>\n",
       "      <th>0</th>\n",
       "      <td>13301066920</td>\n",
       "      <td>米粉卡</td>\n",
       "      <td>1</td>\n",
       "    </tr>\n",
       "    <tr>\n",
       "      <th>1</th>\n",
       "      <td>13301130539</td>\n",
       "      <td>米粉卡</td>\n",
       "      <td>2</td>\n",
       "    </tr>\n",
       "    <tr>\n",
       "      <th>2</th>\n",
       "      <td>13301152241</td>\n",
       "      <td>京东体验卡</td>\n",
       "      <td>1</td>\n",
       "    </tr>\n",
       "    <tr>\n",
       "      <th>3</th>\n",
       "      <td>13301364227</td>\n",
       "      <td>京东体验卡</td>\n",
       "      <td>3</td>\n",
       "    </tr>\n",
       "    <tr>\n",
       "      <th>4</th>\n",
       "      <td>13301369694</td>\n",
       "      <td>米粉卡</td>\n",
       "      <td>7</td>\n",
       "    </tr>\n",
       "  </tbody>\n",
       "</table>\n",
       "</div>"
      ],
      "text/plain": [
       "       收货人电话号码   分类_x  发短信数\n",
       "0  13301066920    米粉卡     1\n",
       "1  13301130539    米粉卡     2\n",
       "2  13301152241  京东体验卡     1\n",
       "3  13301364227  京东体验卡     3\n",
       "4  13301369694    米粉卡     7"
      ]
     },
     "execution_count": 87,
     "metadata": {},
     "output_type": "execute_result"
    }
   ],
   "source": [
    "print(a_MsgNum.shape)\n",
    "a_MsgNum = a_MsgNum.reset_index()\n",
    "a_MsgNum.head()"
   ]
  },
  {
   "cell_type": "code",
   "execution_count": 88,
   "metadata": {},
   "outputs": [
    {
     "name": "stdout",
     "output_type": "stream",
     "text": [
      "(47519, 1)\n"
     ]
    },
    {
     "data": {
      "text/html": [
       "<div>\n",
       "<style scoped>\n",
       "    .dataframe tbody tr th:only-of-type {\n",
       "        vertical-align: middle;\n",
       "    }\n",
       "\n",
       "    .dataframe tbody tr th {\n",
       "        vertical-align: top;\n",
       "    }\n",
       "\n",
       "    .dataframe thead th {\n",
       "        text-align: right;\n",
       "    }\n",
       "</style>\n",
       "<table border=\"1\" class=\"dataframe\">\n",
       "  <thead>\n",
       "    <tr style=\"text-align: right;\">\n",
       "      <th></th>\n",
       "      <th>收货人电话号码</th>\n",
       "      <th>分类_x</th>\n",
       "      <th>发短信数</th>\n",
       "    </tr>\n",
       "  </thead>\n",
       "  <tbody>\n",
       "    <tr>\n",
       "      <th>0</th>\n",
       "      <td>13301056848</td>\n",
       "      <td>网易白金卡</td>\n",
       "      <td>11</td>\n",
       "    </tr>\n",
       "    <tr>\n",
       "      <th>1</th>\n",
       "      <td>13301057589</td>\n",
       "      <td>百度圣卡</td>\n",
       "      <td>5</td>\n",
       "    </tr>\n",
       "    <tr>\n",
       "      <th>2</th>\n",
       "      <td>13301079648</td>\n",
       "      <td>抖音卡</td>\n",
       "      <td>3</td>\n",
       "    </tr>\n",
       "    <tr>\n",
       "      <th>3</th>\n",
       "      <td>13301108200</td>\n",
       "      <td>网易白金卡</td>\n",
       "      <td>5</td>\n",
       "    </tr>\n",
       "    <tr>\n",
       "      <th>4</th>\n",
       "      <td>13301109073</td>\n",
       "      <td>米粉卡</td>\n",
       "      <td>11</td>\n",
       "    </tr>\n",
       "  </tbody>\n",
       "</table>\n",
       "</div>"
      ],
      "text/plain": [
       "       收货人电话号码   分类_x  发短信数\n",
       "0  13301056848  网易白金卡    11\n",
       "1  13301057589   百度圣卡     5\n",
       "2  13301079648    抖音卡     3\n",
       "3  13301108200  网易白金卡     5\n",
       "4  13301109073    米粉卡    11"
      ]
     },
     "execution_count": 88,
     "metadata": {},
     "output_type": "execute_result"
    }
   ],
   "source": [
    "print(b_MsgNum.shape)\n",
    "b_MsgNum = b_MsgNum.reset_index()\n",
    "b_MsgNum.head()"
   ]
  },
  {
   "cell_type": "code",
   "execution_count": 89,
   "metadata": {},
   "outputs": [
    {
     "data": {
      "text/plain": [
       "(59453, 16)"
      ]
     },
     "execution_count": 89,
     "metadata": {},
     "output_type": "execute_result"
    }
   ],
   "source": [
    "df4 = dft.drop_duplicates(subset=['收货人电话号码'],keep='first')\n",
    "df4.shape"
   ]
  },
  {
   "cell_type": "code",
   "execution_count": 74,
   "metadata": {},
   "outputs": [
    {
     "data": {
      "text/plain": [
       "Index(['订单生成时间', '收货人电话号码', '收货人姓名', '物流签收时间', '入网手机号', '所属省_x', '分类_x',\n",
       "       '交易完成时间', '入网身份证号', '所属省_y', '分类_y', '生日', '年龄', 'sex', '性别',\n",
       "       'is_null'],\n",
       "      dtype='object')"
      ]
     },
     "execution_count": 74,
     "metadata": {},
     "output_type": "execute_result"
    }
   ],
   "source": [
    "df4.columns"
   ]
  },
  {
   "cell_type": "code",
   "execution_count": 76,
   "metadata": {},
   "outputs": [
    {
     "name": "stdout",
     "output_type": "stream",
     "text": [
      "<class 'pandas.core.frame.DataFrame'>\n",
      "RangeIndex: 12943 entries, 0 to 12942\n",
      "Data columns (total 3 columns):\n",
      "发短信数    12943 non-null object\n",
      "分类_x    12943 non-null object\n",
      "发短信数    12943 non-null int64\n",
      "dtypes: int64(1), object(2)\n",
      "memory usage: 303.4+ KB\n"
     ]
    }
   ],
   "source": [
    "a_MsgNum.info()"
   ]
  },
  {
   "cell_type": "code",
   "execution_count": 90,
   "metadata": {},
   "outputs": [],
   "source": [
    "df5a = pd.merge(a_MsgNum,df4,how=\"inner\",on=\"收货人电话号码\")"
   ]
  },
  {
   "cell_type": "code",
   "execution_count": 92,
   "metadata": {},
   "outputs": [
    {
     "data": {
      "text/plain": [
       "(12943, 18)"
      ]
     },
     "execution_count": 92,
     "metadata": {},
     "output_type": "execute_result"
    }
   ],
   "source": [
    "df5a.shape"
   ]
  },
  {
   "cell_type": "code",
   "execution_count": 93,
   "metadata": {},
   "outputs": [],
   "source": [
    "df5b = pd.merge(b_MsgNum,df4,how=\"inner\",on=\"收货人电话号码\")"
   ]
  },
  {
   "cell_type": "code",
   "execution_count": 94,
   "metadata": {},
   "outputs": [
    {
     "data": {
      "text/plain": [
       "(47519, 18)"
      ]
     },
     "execution_count": 94,
     "metadata": {},
     "output_type": "execute_result"
    }
   ],
   "source": [
    "df5b.shape"
   ]
  },
  {
   "cell_type": "code",
   "execution_count": 95,
   "metadata": {},
   "outputs": [],
   "source": [
    "#计算激活时效\n",
    "df5a['订单生成时间'] = pd.to_datetime(df5a['订单生成时间'])\n",
    "df5a['交易完成时间'] = pd.to_datetime(df5a['交易完成时间'])\n",
    "df5a[\"激活时效\"] = (df5a['交易完成时间'] - df5a['订单生成时间']).dt.days"
   ]
  },
  {
   "cell_type": "code",
   "execution_count": 96,
   "metadata": {},
   "outputs": [],
   "source": [
    "#计算激活时效\n",
    "df5b['订单生成时间'] = pd.to_datetime(df5b['订单生成时间'])\n",
    "df5b['交易完成时间'] = pd.to_datetime(df5b['交易完成时间'])\n",
    "df5b[\"激活时效\"] = (df5b['交易完成时间'] - df5b['订单生成时间']).dt.days"
   ]
  },
  {
   "cell_type": "code",
   "execution_count": 97,
   "metadata": {},
   "outputs": [],
   "source": [
    "# 区分沉默用户\n",
    "bins =[-1,10,100] \n",
    "df5a['silence'] = pd.cut(df5a['激活时效'],bins,labels=[\"非沉默用户\",\"沉默用户\"])\n",
    "df5b['silence'] = pd.cut(df5b['激活时效'],bins,labels=[\"非沉默用户\",\"沉默用户\"])"
   ]
  },
  {
   "cell_type": "code",
   "execution_count": 98,
   "metadata": {
    "scrolled": true
   },
   "outputs": [
    {
     "data": {
      "text/html": [
       "<div>\n",
       "<style scoped>\n",
       "    .dataframe tbody tr th:only-of-type {\n",
       "        vertical-align: middle;\n",
       "    }\n",
       "\n",
       "    .dataframe tbody tr th {\n",
       "        vertical-align: top;\n",
       "    }\n",
       "\n",
       "    .dataframe thead th {\n",
       "        text-align: right;\n",
       "    }\n",
       "</style>\n",
       "<table border=\"1\" class=\"dataframe\">\n",
       "  <thead>\n",
       "    <tr style=\"text-align: right;\">\n",
       "      <th></th>\n",
       "      <th>收货人电话号码</th>\n",
       "      <th>分类_x_x</th>\n",
       "      <th>发短信数</th>\n",
       "      <th>订单生成时间</th>\n",
       "      <th>收货人姓名</th>\n",
       "      <th>物流签收时间</th>\n",
       "      <th>入网手机号</th>\n",
       "      <th>所属省_x</th>\n",
       "      <th>分类_x_y</th>\n",
       "      <th>交易完成时间</th>\n",
       "      <th>入网身份证号</th>\n",
       "      <th>所属省_y</th>\n",
       "      <th>分类_y</th>\n",
       "      <th>生日</th>\n",
       "      <th>年龄</th>\n",
       "      <th>sex</th>\n",
       "      <th>性别</th>\n",
       "      <th>is_null</th>\n",
       "      <th>激活时效</th>\n",
       "      <th>silence</th>\n",
       "    </tr>\n",
       "  </thead>\n",
       "  <tbody>\n",
       "    <tr>\n",
       "      <th>0</th>\n",
       "      <td>13301066920</td>\n",
       "      <td>米粉卡</td>\n",
       "      <td>1</td>\n",
       "      <td>2018-11-11 20:15:08</td>\n",
       "      <td>刘楠</td>\n",
       "      <td>2018-11-13 12:47:33</td>\n",
       "      <td>17319054926</td>\n",
       "      <td>北京</td>\n",
       "      <td>米粉卡</td>\n",
       "      <td>2018-11-15 09:02:46</td>\n",
       "      <td>110229198611250814</td>\n",
       "      <td>北京</td>\n",
       "      <td>米粉卡</td>\n",
       "      <td>1986-11-25</td>\n",
       "      <td>32.0</td>\n",
       "      <td>1.0</td>\n",
       "      <td>男</td>\n",
       "      <td>False</td>\n",
       "      <td>3.0</td>\n",
       "      <td>非沉默用户</td>\n",
       "    </tr>\n",
       "    <tr>\n",
       "      <th>1</th>\n",
       "      <td>13301130539</td>\n",
       "      <td>米粉卡</td>\n",
       "      <td>2</td>\n",
       "      <td>2018-11-15 02:10:08</td>\n",
       "      <td>范刚华</td>\n",
       "      <td>2018-11-16 20:35:57</td>\n",
       "      <td>17319074039</td>\n",
       "      <td>北京</td>\n",
       "      <td>米粉卡</td>\n",
       "      <td>2018-11-20 01:31:09</td>\n",
       "      <td>412323197411057273</td>\n",
       "      <td>北京</td>\n",
       "      <td>米粉卡</td>\n",
       "      <td>1974-11-05</td>\n",
       "      <td>44.0</td>\n",
       "      <td>7.0</td>\n",
       "      <td>男</td>\n",
       "      <td>False</td>\n",
       "      <td>4.0</td>\n",
       "      <td>非沉默用户</td>\n",
       "    </tr>\n",
       "  </tbody>\n",
       "</table>\n",
       "</div>"
      ],
      "text/plain": [
       "       收货人电话号码 分类_x_x  发短信数              订单生成时间 收货人姓名               物流签收时间  \\\n",
       "0  13301066920    米粉卡     1 2018-11-11 20:15:08    刘楠  2018-11-13 12:47:33   \n",
       "1  13301130539    米粉卡     2 2018-11-15 02:10:08   范刚华  2018-11-16 20:35:57   \n",
       "\n",
       "         入网手机号 所属省_x 分类_x_y              交易完成时间              入网身份证号 所属省_y  \\\n",
       "0  17319054926    北京    米粉卡 2018-11-15 09:02:46  110229198611250814    北京   \n",
       "1  17319074039    北京    米粉卡 2018-11-20 01:31:09  412323197411057273    北京   \n",
       "\n",
       "  分类_y         生日    年龄  sex 性别 is_null  激活时效 silence  \n",
       "0  米粉卡 1986-11-25  32.0  1.0  男   False   3.0   非沉默用户  \n",
       "1  米粉卡 1974-11-05  44.0  7.0  男   False   4.0   非沉默用户  "
      ]
     },
     "execution_count": 98,
     "metadata": {},
     "output_type": "execute_result"
    }
   ],
   "source": [
    "df5a.head(2)"
   ]
  },
  {
   "cell_type": "code",
   "execution_count": 99,
   "metadata": {},
   "outputs": [
    {
     "data": {
      "text/html": [
       "<div>\n",
       "<style scoped>\n",
       "    .dataframe tbody tr th:only-of-type {\n",
       "        vertical-align: middle;\n",
       "    }\n",
       "\n",
       "    .dataframe tbody tr th {\n",
       "        vertical-align: top;\n",
       "    }\n",
       "\n",
       "    .dataframe thead th {\n",
       "        text-align: right;\n",
       "    }\n",
       "</style>\n",
       "<table border=\"1\" class=\"dataframe\">\n",
       "  <thead>\n",
       "    <tr style=\"text-align: right;\">\n",
       "      <th></th>\n",
       "      <th>收货人电话号码</th>\n",
       "      <th>分类_x_x</th>\n",
       "      <th>发短信数</th>\n",
       "      <th>订单生成时间</th>\n",
       "      <th>收货人姓名</th>\n",
       "      <th>物流签收时间</th>\n",
       "      <th>入网手机号</th>\n",
       "      <th>所属省_x</th>\n",
       "      <th>分类_x_y</th>\n",
       "      <th>交易完成时间</th>\n",
       "      <th>入网身份证号</th>\n",
       "      <th>所属省_y</th>\n",
       "      <th>分类_y</th>\n",
       "      <th>生日</th>\n",
       "      <th>年龄</th>\n",
       "      <th>sex</th>\n",
       "      <th>性别</th>\n",
       "      <th>is_null</th>\n",
       "      <th>激活时效</th>\n",
       "      <th>silence</th>\n",
       "    </tr>\n",
       "  </thead>\n",
       "  <tbody>\n",
       "    <tr>\n",
       "      <th>0</th>\n",
       "      <td>13301056848</td>\n",
       "      <td>网易白金卡</td>\n",
       "      <td>11</td>\n",
       "      <td>2018-11-01 10:10:41</td>\n",
       "      <td>董文彤</td>\n",
       "      <td>2018-11-02 12:54:35</td>\n",
       "      <td>15321066408</td>\n",
       "      <td>北京</td>\n",
       "      <td>网易白金卡</td>\n",
       "      <td>NaT</td>\n",
       "      <td>NaN</td>\n",
       "      <td>NaN</td>\n",
       "      <td>NaN</td>\n",
       "      <td>NaT</td>\n",
       "      <td>NaN</td>\n",
       "      <td>NaN</td>\n",
       "      <td>NaN</td>\n",
       "      <td>True</td>\n",
       "      <td>NaN</td>\n",
       "      <td>NaN</td>\n",
       "    </tr>\n",
       "    <tr>\n",
       "      <th>1</th>\n",
       "      <td>13301057589</td>\n",
       "      <td>百度圣卡</td>\n",
       "      <td>5</td>\n",
       "      <td>2018-11-20 02:33:12</td>\n",
       "      <td>史岚君</td>\n",
       "      <td>2018-11-20 18:16:35</td>\n",
       "      <td>18101320418</td>\n",
       "      <td>北京</td>\n",
       "      <td>百度圣卡</td>\n",
       "      <td>NaT</td>\n",
       "      <td>NaN</td>\n",
       "      <td>NaN</td>\n",
       "      <td>NaN</td>\n",
       "      <td>NaT</td>\n",
       "      <td>NaN</td>\n",
       "      <td>NaN</td>\n",
       "      <td>NaN</td>\n",
       "      <td>True</td>\n",
       "      <td>NaN</td>\n",
       "      <td>NaN</td>\n",
       "    </tr>\n",
       "  </tbody>\n",
       "</table>\n",
       "</div>"
      ],
      "text/plain": [
       "       收货人电话号码 分类_x_x  发短信数              订单生成时间 收货人姓名               物流签收时间  \\\n",
       "0  13301056848  网易白金卡    11 2018-11-01 10:10:41   董文彤  2018-11-02 12:54:35   \n",
       "1  13301057589   百度圣卡     5 2018-11-20 02:33:12   史岚君  2018-11-20 18:16:35   \n",
       "\n",
       "         入网手机号 所属省_x 分类_x_y 交易完成时间 入网身份证号 所属省_y 分类_y  生日  年龄  sex   性别  \\\n",
       "0  15321066408    北京  网易白金卡    NaT    NaN   NaN  NaN NaT NaN  NaN  NaN   \n",
       "1  18101320418    北京   百度圣卡    NaT    NaN   NaN  NaN NaT NaN  NaN  NaN   \n",
       "\n",
       "  is_null  激活时效 silence  \n",
       "0    True   NaN     NaN  \n",
       "1    True   NaN     NaN  "
      ]
     },
     "execution_count": 99,
     "metadata": {},
     "output_type": "execute_result"
    }
   ],
   "source": [
    "df5b.head(2)"
   ]
  },
  {
   "cell_type": "code",
   "execution_count": 100,
   "metadata": {},
   "outputs": [],
   "source": [
    "df5b.to_excel(r\"G:\\work\\日报\\短信\\输出\\11.15-11.25本网短信频数明细未激活.xlsx\",index=False)"
   ]
  },
  {
   "cell_type": "code",
   "execution_count": null,
   "metadata": {},
   "outputs": [],
   "source": [
    "a.columns"
   ]
  },
  {
   "cell_type": "code",
   "execution_count": null,
   "metadata": {},
   "outputs": [],
   "source": []
  },
  {
   "cell_type": "code",
   "execution_count": null,
   "metadata": {},
   "outputs": [],
   "source": []
  },
  {
   "cell_type": "code",
   "execution_count": null,
   "metadata": {},
   "outputs": [],
   "source": []
  },
  {
   "cell_type": "code",
   "execution_count": null,
   "metadata": {},
   "outputs": [],
   "source": []
  }
 ],
 "metadata": {
  "kernelspec": {
   "display_name": "Python 3",
   "language": "python",
   "name": "python3"
  },
  "language_info": {
   "codemirror_mode": {
    "name": "ipython",
    "version": 3
   },
   "file_extension": ".py",
   "mimetype": "text/x-python",
   "name": "python",
   "nbconvert_exporter": "python",
   "pygments_lexer": "ipython3",
   "version": "3.6.6"
  }
 },
 "nbformat": 4,
 "nbformat_minor": 2
}
