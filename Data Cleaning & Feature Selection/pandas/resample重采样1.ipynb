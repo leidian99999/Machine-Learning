{
 "cells": [
  {
   "cell_type": "code",
   "execution_count": 23,
   "metadata": {},
   "outputs": [],
   "source": [
    "import pandas as pd \n",
    "import numpy as np"
   ]
  },
  {
   "cell_type": "markdown",
   "metadata": {},
   "source": [
    "Pandas中的resample，重新采样，是对原样本重新处理的一个方法，是一个对常规时间序列数据重新采样和频率转换的便捷的方法。\n",
    "\n",
    "降采样：高频数据到低频数据\n",
    "\n",
    "升采样：低频数据到高频数据\n",
    "\n",
    "主要函数：resample()（pandas对象都会有这个方法）"
   ]
  },
  {
   "cell_type": "markdown",
   "metadata": {},
   "source": [
    "参数\t说明<br>\n",
    "freq\t表示重采样频率，例如‘M’、‘5min’，Second(15)<br>\n",
    "how=’mean’\t用于产生聚合值的函数名或数组函数，例如‘mean’、‘ohlc’、np.max等，默认是‘mean’，其他常用的值由：‘first’、‘last’、‘median’、‘max’、‘min’<br>\n",
    "axis=0\t默认是纵轴，横轴设置axis=1<br>\n",
    "fill_method = None\t升采样时如何插值，比如‘ffill’、‘bfill’等<br>\n",
    "closed = ‘right’\t在降采样时，各时间段的哪一段是闭合的，‘right’或‘left’，默认‘right’<br>\n",
    "label= ‘right’\t在降采样时，如何设置聚合值的标签，例如，9：30-9：35会被标记成9：30还是9：35,默认9：35<br>\n",
    "loffset = None\t面元标签的时间校正值，比如‘-1s’或Second(-1)用于将聚合标签调早1秒<br>\n",
    "limit=None\t在向前或向后填充时，允许填充的最大时期数<br>\n",
    "kind = None\t聚合到时期（‘period’）或时间戳（‘timestamp’），默认聚合到时间序列的索引类型<br>\n",
    "convention = None\t当重采样时期时，将低频率转换到高频率所采用的约定（start或end）。默认‘end’<br>"
   ]
  },
  {
   "cell_type": "code",
   "execution_count": 2,
   "metadata": {},
   "outputs": [
    {
     "data": {
      "text/plain": [
       "DatetimeIndex(['2000-01-01 00:00:00', '2000-01-01 00:01:00',\n",
       "               '2000-01-01 00:02:00', '2000-01-01 00:03:00',\n",
       "               '2000-01-01 00:04:00', '2000-01-01 00:05:00',\n",
       "               '2000-01-01 00:06:00', '2000-01-01 00:07:00',\n",
       "               '2000-01-01 00:08:00'],\n",
       "              dtype='datetime64[ns]', freq='T')"
      ]
     },
     "execution_count": 2,
     "metadata": {},
     "output_type": "execute_result"
    }
   ],
   "source": [
    "index = pd.date_range('1/1/2000',freq='T',periods=9)\n",
    "index"
   ]
  },
  {
   "cell_type": "code",
   "execution_count": 4,
   "metadata": {},
   "outputs": [
    {
     "data": {
      "text/plain": [
       "2000-01-01 00:00:00    0\n",
       "2000-01-01 00:01:00    1\n",
       "2000-01-01 00:02:00    2\n",
       "2000-01-01 00:03:00    3\n",
       "2000-01-01 00:04:00    4\n",
       "2000-01-01 00:05:00    5\n",
       "2000-01-01 00:06:00    6\n",
       "2000-01-01 00:07:00    7\n",
       "2000-01-01 00:08:00    8\n",
       "Freq: T, dtype: int64"
      ]
     },
     "execution_count": 4,
     "metadata": {},
     "output_type": "execute_result"
    }
   ],
   "source": [
    "serise = pd.Series(range(9),index=index)\n",
    "serise"
   ]
  },
  {
   "cell_type": "markdown",
   "metadata": {},
   "source": [
    "#### 降低采样频率为三分钟"
   ]
  },
  {
   "cell_type": "code",
   "execution_count": 8,
   "metadata": {},
   "outputs": [
    {
     "data": {
      "text/plain": [
       "2000-01-01 00:00:00     3\n",
       "2000-01-01 00:03:00    12\n",
       "2000-01-01 00:06:00    21\n",
       "Freq: 3T, dtype: int64"
      ]
     },
     "execution_count": 8,
     "metadata": {},
     "output_type": "execute_result"
    }
   ],
   "source": [
    "serise.resample('3T').sum()"
   ]
  },
  {
   "cell_type": "markdown",
   "metadata": {},
   "source": [
    "#### 降低采样频率为三分钟，但是每个标签使用right来代替left。请注意，bucket中值的用作标签。"
   ]
  },
  {
   "cell_type": "code",
   "execution_count": 9,
   "metadata": {},
   "outputs": [
    {
     "data": {
      "text/plain": [
       "2000-01-01 00:03:00     3\n",
       "2000-01-01 00:06:00    12\n",
       "2000-01-01 00:09:00    21\n",
       "Freq: 3T, dtype: int64"
      ]
     },
     "execution_count": 9,
     "metadata": {},
     "output_type": "execute_result"
    }
   ],
   "source": [
    "serise.resample('3T',label='right').sum()"
   ]
  },
  {
   "cell_type": "code",
   "execution_count": 10,
   "metadata": {},
   "outputs": [
    {
     "data": {
      "text/plain": [
       "2000-01-01 00:00:00     3\n",
       "2000-01-01 00:03:00    12\n",
       "2000-01-01 00:06:00    21\n",
       "Freq: 3T, dtype: int64"
      ]
     },
     "execution_count": 10,
     "metadata": {},
     "output_type": "execute_result"
    }
   ],
   "source": [
    "serise.resample('3T',label='left').sum()"
   ]
  },
  {
   "cell_type": "markdown",
   "metadata": {},
   "source": [
    "#### 降低采样频率为三分钟，但是关闭right区间。<br>\n",
    "#### 此时第一个区间为：2000-01-01 00:00:01~2000-01-01 00:03:00，故sum为6，label为：2000-01-01 00:03:00"
   ]
  },
  {
   "cell_type": "code",
   "execution_count": 11,
   "metadata": {},
   "outputs": [
    {
     "data": {
      "text/plain": [
       "2000-01-01 00:00:00     0\n",
       "2000-01-01 00:03:00     6\n",
       "2000-01-01 00:06:00    15\n",
       "2000-01-01 00:09:00    15\n",
       "Freq: 3T, dtype: int64"
      ]
     },
     "execution_count": 11,
     "metadata": {},
     "output_type": "execute_result"
    }
   ],
   "source": [
    "serise.resample('3T',label='right',closed='right').sum()"
   ]
  },
  {
   "cell_type": "markdown",
   "metadata": {},
   "source": [
    "#### 增加采样频率到30秒"
   ]
  },
  {
   "cell_type": "code",
   "execution_count": 14,
   "metadata": {},
   "outputs": [
    {
     "data": {
      "text/plain": [
       "2000-01-01 00:00:00    0.0\n",
       "2000-01-01 00:00:30    NaN\n",
       "2000-01-01 00:01:00    1.0\n",
       "2000-01-01 00:01:30    NaN\n",
       "2000-01-01 00:02:00    2.0\n",
       "2000-01-01 00:02:30    NaN\n",
       "2000-01-01 00:03:00    3.0\n",
       "2000-01-01 00:03:30    NaN\n",
       "2000-01-01 00:04:00    4.0\n",
       "2000-01-01 00:04:30    NaN\n",
       "2000-01-01 00:05:00    5.0\n",
       "2000-01-01 00:05:30    NaN\n",
       "2000-01-01 00:06:00    6.0\n",
       "2000-01-01 00:06:30    NaN\n",
       "2000-01-01 00:07:00    7.0\n",
       "2000-01-01 00:07:30    NaN\n",
       "2000-01-01 00:08:00    8.0\n",
       "Freq: 30S, dtype: float64"
      ]
     },
     "execution_count": 14,
     "metadata": {},
     "output_type": "execute_result"
    }
   ],
   "source": [
    "serise.resample(\"30S\").asfreq()"
   ]
  },
  {
   "cell_type": "markdown",
   "metadata": {},
   "source": [
    "#### 增加采样频率到30S,使用pad方法填充nan值。"
   ]
  },
  {
   "cell_type": "code",
   "execution_count": 15,
   "metadata": {},
   "outputs": [
    {
     "data": {
      "text/plain": [
       "2000-01-01 00:00:00    0\n",
       "2000-01-01 00:00:30    0\n",
       "2000-01-01 00:01:00    1\n",
       "2000-01-01 00:01:30    1\n",
       "2000-01-01 00:02:00    2\n",
       "2000-01-01 00:02:30    2\n",
       "2000-01-01 00:03:00    3\n",
       "2000-01-01 00:03:30    3\n",
       "2000-01-01 00:04:00    4\n",
       "2000-01-01 00:04:30    4\n",
       "2000-01-01 00:05:00    5\n",
       "2000-01-01 00:05:30    5\n",
       "2000-01-01 00:06:00    6\n",
       "2000-01-01 00:06:30    6\n",
       "2000-01-01 00:07:00    7\n",
       "2000-01-01 00:07:30    7\n",
       "2000-01-01 00:08:00    8\n",
       "Freq: 30S, dtype: int64"
      ]
     },
     "execution_count": 15,
     "metadata": {},
     "output_type": "execute_result"
    }
   ],
   "source": [
    "serise.resample('30S').pad()"
   ]
  },
  {
   "cell_type": "markdown",
   "metadata": {},
   "source": [
    "#### 增加采样频率到30S,使用bfill方法填充nan值。"
   ]
  },
  {
   "cell_type": "code",
   "execution_count": 16,
   "metadata": {},
   "outputs": [
    {
     "data": {
      "text/plain": [
       "2000-01-01 00:00:00    0\n",
       "2000-01-01 00:00:30    1\n",
       "2000-01-01 00:01:00    1\n",
       "2000-01-01 00:01:30    2\n",
       "2000-01-01 00:02:00    2\n",
       "2000-01-01 00:02:30    3\n",
       "2000-01-01 00:03:00    3\n",
       "2000-01-01 00:03:30    4\n",
       "2000-01-01 00:04:00    4\n",
       "2000-01-01 00:04:30    5\n",
       "2000-01-01 00:05:00    5\n",
       "2000-01-01 00:05:30    6\n",
       "2000-01-01 00:06:00    6\n",
       "2000-01-01 00:06:30    7\n",
       "2000-01-01 00:07:00    7\n",
       "2000-01-01 00:07:30    8\n",
       "2000-01-01 00:08:00    8\n",
       "Freq: 30S, dtype: int64"
      ]
     },
     "execution_count": 16,
     "metadata": {},
     "output_type": "execute_result"
    }
   ],
   "source": [
    "serise.resample('30S').bfill()"
   ]
  },
  {
   "cell_type": "markdown",
   "metadata": {},
   "source": [
    "#### 通过apply运行一个自定义函数"
   ]
  },
  {
   "cell_type": "code",
   "execution_count": 26,
   "metadata": {},
   "outputs": [],
   "source": [
    "def custom_resampler(x):\n",
    "    return np.sum(x) + 5"
   ]
  },
  {
   "cell_type": "code",
   "execution_count": 27,
   "metadata": {},
   "outputs": [
    {
     "data": {
      "text/plain": [
       "2000-01-01 00:00:00     8\n",
       "2000-01-01 00:03:00    17\n",
       "2000-01-01 00:06:00    26\n",
       "Freq: 3T, dtype: int64"
      ]
     },
     "execution_count": 27,
     "metadata": {},
     "output_type": "execute_result"
    }
   ],
   "source": [
    "serise.resample('3T').apply(custom_resampler)"
   ]
  },
  {
   "cell_type": "code",
   "execution_count": null,
   "metadata": {},
   "outputs": [],
   "source": []
  }
 ],
 "metadata": {
  "kernelspec": {
   "display_name": "Python 3",
   "language": "python",
   "name": "python3"
  },
  "language_info": {
   "codemirror_mode": {
    "name": "ipython",
    "version": 3
   },
   "file_extension": ".py",
   "mimetype": "text/x-python",
   "name": "python",
   "nbconvert_exporter": "python",
   "pygments_lexer": "ipython3",
   "version": "3.6.6"
  }
 },
 "nbformat": 4,
 "nbformat_minor": 2
}
