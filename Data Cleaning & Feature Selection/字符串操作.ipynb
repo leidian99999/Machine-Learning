{
 "cells": [
  {
   "cell_type": "markdown",
   "metadata": {},
   "source": [
    "### 单引号"
   ]
  },
  {
   "cell_type": "code",
   "execution_count": 2,
   "metadata": {},
   "outputs": [
    {
     "name": "stdout",
     "output_type": "stream",
     "text": [
      "hello world!\n"
     ]
    }
   ],
   "source": [
    "print('hello world!')"
   ]
  },
  {
   "cell_type": "markdown",
   "metadata": {},
   "source": [
    "### 双引号"
   ]
  },
  {
   "cell_type": "code",
   "execution_count": 4,
   "metadata": {},
   "outputs": [
    {
     "name": "stdout",
     "output_type": "stream",
     "text": [
      "hello world!\n"
     ]
    }
   ],
   "source": [
    "print(\"hello world!\")"
   ]
  },
  {
   "cell_type": "markdown",
   "metadata": {},
   "source": [
    "### 三引号"
   ]
  },
  {
   "cell_type": "code",
   "execution_count": 5,
   "metadata": {},
   "outputs": [
    {
     "name": "stdout",
     "output_type": "stream",
     "text": [
      "this is first line\n",
      "this is second line\n",
      "this is last line\n"
     ]
    }
   ],
   "source": [
    "print('''this is first line\n",
    "this is second line\n",
    "this is last line''')"
   ]
  },
  {
   "cell_type": "markdown",
   "metadata": {},
   "source": [
    "## format 格式化 ，相当于%s(字符串)%d(整数)\n",
    "%s    字符串 (采用str()的显示)\n",
    "\n",
    "%r    字符串 (采用repr()的显示)\n",
    "\n",
    "%c    单个字符\n",
    "\n",
    "%b    二进制整数\n",
    "\n",
    "%d    十进制整数\n",
    "\n",
    "%i    十进制整数\n",
    "\n",
    "%o    八进制整数\n",
    "\n",
    "%x    十六进制整数\n",
    "\n",
    "%e    指数 (基底写为e)\n",
    "\n",
    "%E    指数 (基底写为E)\n",
    "\n",
    "%f    浮点数\n",
    "\n",
    "%F    浮点数，与上相同\n",
    "\n",
    "%g    指数(e)\u0010或浮点数 (根据显示长度)\n",
    "\n",
    "%G    指数(E)或浮点数 (根据显示长度)"
   ]
  },
  {
   "cell_type": "code",
   "execution_count": 29,
   "metadata": {},
   "outputs": [
    {
     "name": "stdout",
     "output_type": "stream",
     "text": [
      "Tom was 3 years old\n",
      "I'm Vamei. I'm 99 year old\n",
      "************以下为str.format用法*************\n",
      "Tom was 3 years old\n",
      "kzc,18\n",
      "kzc,18\n",
      "18,kzc,18\n",
      "kzc,18\n",
      "******************高级用法******************\n"
     ]
    }
   ],
   "source": [
    "age = 3\n",
    "name = 'Tom'\n",
    "\n",
    "print(\"%s was %d years old\" %(name,age))\n",
    "\n",
    "print(\"I'm %(name)s. I'm %(age)d year old\" % {'name':'Vamei', 'age':99})\n",
    "\n",
    "print(\"以下为str.format用法\".center(40,'*'))\n",
    "\n",
    "print(\"{0} was {1} years old\" .format(name,age))\n",
    "\n",
    "print('{0},{1}'.format('kzc',18)) \n",
    "\n",
    "print('{},{}'.format('kzc',18))\n",
    "\n",
    "print('{1},{0},{1}'.format('kzc',18)) \n",
    "\n",
    "print('{name},{age}'.format(age=18,name='kzc'))\n"
   ]
  },
  {
   "cell_type": "markdown",
   "metadata": {},
   "source": [
    "## str.format高级用法"
   ]
  },
  {
   "cell_type": "code",
   "execution_count": 32,
   "metadata": {},
   "outputs": [
    {
     "data": {
      "text/plain": [
       "'kzc,18'"
      ]
     },
     "execution_count": 32,
     "metadata": {},
     "output_type": "execute_result"
    }
   ],
   "source": [
    "p=['kzc',18]\n",
    "'{0[0]},{0[1]}'.format(p)"
   ]
  },
  {
   "cell_type": "markdown",
   "metadata": {},
   "source": [
    "## 填充与对齐\n",
    "填充常跟对齐一起使用<br>\n",
    "^、<、>分别是居中、左对齐、右对齐，后面带宽度<br>\n",
    ":号后面带填充的字符，只能是一个字符，不指定的话默认是用空格填充<br>\n",
    "比如"
   ]
  },
  {
   "cell_type": "code",
   "execution_count": 33,
   "metadata": {},
   "outputs": [
    {
     "name": "stdout",
     "output_type": "stream",
     "text": [
      "     189\n",
      "00000189\n",
      "aaaaa189\n"
     ]
    }
   ],
   "source": [
    "print('{:>8}'.format('189'))\n",
    "print('{:0>8}'.format('189'))\n",
    "print('{:a>8}'.format('189'))"
   ]
  },
  {
   "cell_type": "markdown",
   "metadata": {},
   "source": [
    "### 精度与类型f\n",
    "精度常跟类型f一起使用"
   ]
  },
  {
   "cell_type": "code",
   "execution_count": 34,
   "metadata": {},
   "outputs": [
    {
     "data": {
      "text/plain": [
       "'321.33'"
      ]
     },
     "execution_count": 34,
     "metadata": {},
     "output_type": "execute_result"
    }
   ],
   "source": [
    "'{:.2f}'.format(321.33345)\n",
    "#其中.2表示长度为2的精度，f表示float类型。"
   ]
  },
  {
   "cell_type": "markdown",
   "metadata": {},
   "source": [
    "### 其他类型\n",
    "主要就是进制了，b、d、o、x分别是二进制、十进制、八进制、十六进制。"
   ]
  },
  {
   "cell_type": "code",
   "execution_count": 35,
   "metadata": {},
   "outputs": [
    {
     "name": "stdout",
     "output_type": "stream",
     "text": [
      "10001\n",
      "17\n",
      "21\n",
      "11\n"
     ]
    }
   ],
   "source": [
    "print('{:b}'.format(17))\n",
    "print('{:d}'.format(17))\n",
    "print('{:o}'.format(17))\n",
    "print('{:x}'.format(17))"
   ]
  },
  {
   "cell_type": "code",
   "execution_count": 36,
   "metadata": {},
   "outputs": [
    {
     "data": {
      "text/plain": [
       "'1,234,567,890'"
      ]
     },
     "execution_count": 36,
     "metadata": {},
     "output_type": "execute_result"
    }
   ],
   "source": [
    "#千位分隔符\n",
    "'{:,}'.format(1234567890)"
   ]
  },
  {
   "cell_type": "markdown",
   "metadata": {},
   "source": [
    "# +联动"
   ]
  },
  {
   "cell_type": "code",
   "execution_count": 7,
   "metadata": {},
   "outputs": [
    {
     "name": "stdout",
     "output_type": "stream",
     "text": [
      "Tom was 3 years old\n"
     ]
    }
   ],
   "source": [
    "print(name + \" was \" + str(age) + \" years old\")"
   ]
  },
  {
   "cell_type": "markdown",
   "metadata": {},
   "source": [
    "## 换行符 | 空格"
   ]
  },
  {
   "cell_type": "code",
   "execution_count": 18,
   "metadata": {},
   "outputs": [
    {
     "name": "stdout",
     "output_type": "stream",
     "text": [
      "What's your name? \n",
      "Tom\n",
      "what's\tyour\tname?\n"
     ]
    }
   ],
   "source": [
    "print(\"What's your name? \\nTom\")\n",
    "print(\"what's\\tyour\\tname?\")"
   ]
  },
  {
   "cell_type": "markdown",
   "metadata": {
    "collapsed": true
   },
   "source": [
    "## 文字居中"
   ]
  },
  {
   "cell_type": "code",
   "execution_count": 9,
   "metadata": {},
   "outputs": [
    {
     "name": "stdout",
     "output_type": "stream",
     "text": [
      "*********你好*********\n"
     ]
    }
   ],
   "source": [
    "a = '你好'\n",
    "print(a.center(20,\"*\"))"
   ]
  },
  {
   "cell_type": "markdown",
   "metadata": {},
   "source": [
    "### 首字母小写变大写\n",
    "\n",
    "S.upper()#S中的字母大写 <br>\n",
    "S.lower() #S中的字母小写 <br>\n",
    "S.capitalize() #首字母大写 <br>\n",
    "S.istitle() #S是否是首字母大写的 <br>\n",
    "S.isupper() #S中的字母是否便是大写 <br>\n",
    "S.islower() #S中的字母是否全是小写 <br>"
   ]
  },
  {
   "cell_type": "code",
   "execution_count": 11,
   "metadata": {},
   "outputs": [
    {
     "name": "stdout",
     "output_type": "stream",
     "text": [
      "Hehe lala\n"
     ]
    }
   ],
   "source": [
    "b = 'hehe lala'\n",
    "print(b.capitalize())"
   ]
  },
  {
   "cell_type": "markdown",
   "metadata": {},
   "source": [
    "### 大写、小写转换"
   ]
  },
  {
   "cell_type": "code",
   "execution_count": 2,
   "metadata": {},
   "outputs": [
    {
     "name": "stdout",
     "output_type": "stream",
     "text": [
      "ski\n",
      "Ski\n",
      "ski\n",
      "SKI\n"
     ]
    }
   ],
   "source": [
    "c = \"SKI\"\n",
    "cc = \"ski\"\n",
    "print(c.casefold()) #全小写\n",
    "print(c.title()) #首字母大写，其余小写\n",
    "print(c.lower()) #全小写\n",
    "print(cc.upper()) #全大写"
   ]
  },
  {
   "cell_type": "markdown",
   "metadata": {},
   "source": [
    "### 字符串频数"
   ]
  },
  {
   "cell_type": "code",
   "execution_count": 16,
   "metadata": {},
   "outputs": [
    {
     "name": "stdout",
     "output_type": "stream",
     "text": [
      "查询从第5个字符串到第11个字符串,共有2个b\n",
      "查询所有变量,共有3个b\n"
     ]
    }
   ],
   "source": [
    "d = \"aaabaaabbcc\"\n",
    "print('查询从第4个字符串到第11个字符串,共有%s个b' %d.count('b',4,11))\n",
    "print('查询所有变量,共有%d个b' % d.count('b'))"
   ]
  },
  {
   "cell_type": "markdown",
   "metadata": {},
   "source": [
    "### 字符串查询1"
   ]
  },
  {
   "cell_type": "code",
   "execution_count": 41,
   "metadata": {},
   "outputs": [
    {
     "name": "stdout",
     "output_type": "stream",
     "text": [
      "0\n",
      "3\n",
      "-1\n"
     ]
    }
   ],
   "source": [
    "# 1 find()方法：\n",
    "\n",
    "info1 = 'abca'\n",
    "print(info1.find('a'))##从下标0开始，查找在字符串里第一个出现的子串，返回结果：0\n",
    "\n",
    "info2 = 'abca'\n",
    "print(info2.find('a',1))##从下标1开始，查找在字符串里第一个出现的子串：返回结果3\n",
    "\n",
    "info3 = 'abca'\n",
    "print(info3.find('333'))##返回-1,查找不到返回-1"
   ]
  },
  {
   "cell_type": "markdown",
   "metadata": {},
   "source": [
    "#### 2 index()方法：\n",
    "\n",
    "python 的index方法是在字符串里查找子串第一次出现的位置，类似字符串的find方法，不过比find方法更好的是，如果查找不到子串，会抛出异常，而不是返回-1"
   ]
  },
  {
   "cell_type": "code",
   "execution_count": 43,
   "metadata": {},
   "outputs": [
    {
     "name": "stdout",
     "output_type": "stream",
     "text": [
      "0\n"
     ]
    },
    {
     "ename": "ValueError",
     "evalue": "substring not found",
     "output_type": "error",
     "traceback": [
      "\u001b[1;31m---------------------------------------\u001b[0m",
      "\u001b[1;31mValueError\u001b[0mTraceback (most recent call last)",
      "\u001b[1;32m<ipython-input-43-d9237025cfb1>\u001b[0m in \u001b[0;36m<module>\u001b[1;34m()\u001b[0m\n\u001b[0;32m      1\u001b[0m \u001b[0minfo4\u001b[0m \u001b[1;33m=\u001b[0m \u001b[1;34m'abca'\u001b[0m\u001b[1;33m\u001b[0m\u001b[0m\n\u001b[0;32m      2\u001b[0m \u001b[0mprint\u001b[0m\u001b[1;33m(\u001b[0m\u001b[0minfo4\u001b[0m\u001b[1;33m.\u001b[0m\u001b[0mindex\u001b[0m\u001b[1;33m(\u001b[0m\u001b[1;34m'a'\u001b[0m\u001b[1;33m)\u001b[0m\u001b[1;33m)\u001b[0m\u001b[1;33m\u001b[0m\u001b[0m\n\u001b[1;32m----> 3\u001b[1;33m \u001b[0mprint\u001b[0m\u001b[1;33m(\u001b[0m\u001b[0minfo4\u001b[0m\u001b[1;33m.\u001b[0m\u001b[0mindex\u001b[0m\u001b[1;33m(\u001b[0m\u001b[1;34m'33'\u001b[0m\u001b[1;33m)\u001b[0m\u001b[1;33m)\u001b[0m\u001b[1;33m\u001b[0m\u001b[0m\n\u001b[0m",
      "\u001b[1;31mValueError\u001b[0m: substring not found"
     ]
    }
   ],
   "source": [
    "info4 = 'abca'\n",
    "print(info4.index('a'))\n",
    "print(info4.index('33'))"
   ]
  },
  {
   "cell_type": "markdown",
   "metadata": {},
   "source": [
    "### 字符串去空格\n",
    "通过strip(),lstrip(),rstrip()方法去除字符串的空格<br>\n",
    "\n",
    "S.strip()去掉字符串的左右空格<br>\n",
    "S.lstrip()去掉字符串的左边空格<br>\n",
    "S.rstrip()去掉字符串的右边空格<br>"
   ]
  },
  {
   "cell_type": "markdown",
   "metadata": {},
   "source": [
    "### 字符串分割\n",
    "字符串分割，可以用split,rsplit方法，通过相应的规则来切割成生成列表对象"
   ]
  },
  {
   "cell_type": "code",
   "execution_count": 38,
   "metadata": {
    "scrolled": true
   },
   "outputs": [
    {
     "name": "stdout",
     "output_type": "stream",
     "text": [
      "['name:haha,age:20', 'name:python,age:30', 'name:fef,age:55']\n"
     ]
    }
   ],
   "source": [
    "info = 'name:haha,age:20$name:python,age:30$name:fef,age:55'\n",
    "content = info.split('$')\n",
    "print(content)"
   ]
  },
  {
   "cell_type": "markdown",
   "metadata": {},
   "source": [
    "### 字符串长度"
   ]
  },
  {
   "cell_type": "code",
   "execution_count": 40,
   "metadata": {},
   "outputs": [
    {
     "name": "stdout",
     "output_type": "stream",
     "text": [
      "5\n",
      "1\n"
     ]
    }
   ],
   "source": [
    "aa = 'afebb'\n",
    "bb = '你'\n",
    "print(len(aa))\n",
    "print(len(bb))"
   ]
  },
  {
   "cell_type": "code",
   "execution_count": null,
   "metadata": {
    "collapsed": true
   },
   "outputs": [],
   "source": []
  },
  {
   "cell_type": "code",
   "execution_count": null,
   "metadata": {
    "collapsed": true
   },
   "outputs": [],
   "source": []
  }
 ],
 "metadata": {
  "kernelspec": {
   "display_name": "Python 3",
   "language": "python",
   "name": "python3"
  },
  "language_info": {
   "codemirror_mode": {
    "name": "ipython",
    "version": 3
   },
   "file_extension": ".py",
   "mimetype": "text/x-python",
   "name": "python",
   "nbconvert_exporter": "python",
   "pygments_lexer": "ipython3",
   "version": "3.6.3"
  }
 },
 "nbformat": 4,
 "nbformat_minor": 2
}
