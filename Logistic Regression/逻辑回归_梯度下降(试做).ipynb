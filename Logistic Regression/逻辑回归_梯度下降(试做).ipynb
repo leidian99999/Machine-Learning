{
 "cells": [
  {
   "cell_type": "code",
   "execution_count": 1,
   "metadata": {
    "collapsed": true
   },
   "outputs": [],
   "source": [
    "import numpy as np\n",
    "import pandas as pd\n",
    "import matplotlib.pyplot as plt \n",
    "%matplotlib inline"
   ]
  },
  {
   "cell_type": "code",
   "execution_count": 2,
   "metadata": {},
   "outputs": [
    {
     "data": {
      "text/html": [
       "<div>\n",
       "<style>\n",
       "    .dataframe thead tr:only-child th {\n",
       "        text-align: right;\n",
       "    }\n",
       "\n",
       "    .dataframe thead th {\n",
       "        text-align: left;\n",
       "    }\n",
       "\n",
       "    .dataframe tbody tr th {\n",
       "        vertical-align: top;\n",
       "    }\n",
       "</style>\n",
       "<table border=\"1\" class=\"dataframe\">\n",
       "  <thead>\n",
       "    <tr style=\"text-align: right;\">\n",
       "      <th></th>\n",
       "      <th>EX1</th>\n",
       "      <th>EX2</th>\n",
       "      <th>Admitted</th>\n",
       "    </tr>\n",
       "  </thead>\n",
       "  <tbody>\n",
       "    <tr>\n",
       "      <th>0</th>\n",
       "      <td>34.623660</td>\n",
       "      <td>78.024693</td>\n",
       "      <td>0</td>\n",
       "    </tr>\n",
       "    <tr>\n",
       "      <th>1</th>\n",
       "      <td>30.286711</td>\n",
       "      <td>43.894998</td>\n",
       "      <td>0</td>\n",
       "    </tr>\n",
       "    <tr>\n",
       "      <th>2</th>\n",
       "      <td>35.847409</td>\n",
       "      <td>72.902198</td>\n",
       "      <td>0</td>\n",
       "    </tr>\n",
       "    <tr>\n",
       "      <th>3</th>\n",
       "      <td>60.182599</td>\n",
       "      <td>86.308552</td>\n",
       "      <td>1</td>\n",
       "    </tr>\n",
       "    <tr>\n",
       "      <th>4</th>\n",
       "      <td>79.032736</td>\n",
       "      <td>75.344376</td>\n",
       "      <td>1</td>\n",
       "    </tr>\n",
       "  </tbody>\n",
       "</table>\n",
       "</div>"
      ],
      "text/plain": [
       "         EX1        EX2  Admitted\n",
       "0  34.623660  78.024693         0\n",
       "1  30.286711  43.894998         0\n",
       "2  35.847409  72.902198         0\n",
       "3  60.182599  86.308552         1\n",
       "4  79.032736  75.344376         1"
      ]
     },
     "execution_count": 2,
     "metadata": {},
     "output_type": "execute_result"
    }
   ],
   "source": [
    "data = pd.read_csv('logistic regression_data.txt',\n",
    "                     header=None,\n",
    "                     names=['EX1','EX2','Admitted'])\n",
    "data.head(5)"
   ]
  },
  {
   "cell_type": "code",
   "execution_count": 3,
   "metadata": {},
   "outputs": [
    {
     "data": {
      "text/plain": [
       "(100, 3)"
      ]
     },
     "execution_count": 3,
     "metadata": {},
     "output_type": "execute_result"
    }
   ],
   "source": [
    "data.shape"
   ]
  },
  {
   "cell_type": "code",
   "execution_count": 4,
   "metadata": {},
   "outputs": [
    {
     "data": {
      "text/html": [
       "<div>\n",
       "<style>\n",
       "    .dataframe thead tr:only-child th {\n",
       "        text-align: right;\n",
       "    }\n",
       "\n",
       "    .dataframe thead th {\n",
       "        text-align: left;\n",
       "    }\n",
       "\n",
       "    .dataframe tbody tr th {\n",
       "        vertical-align: top;\n",
       "    }\n",
       "</style>\n",
       "<table border=\"1\" class=\"dataframe\">\n",
       "  <thead>\n",
       "    <tr style=\"text-align: right;\">\n",
       "      <th></th>\n",
       "      <th>EX1</th>\n",
       "      <th>EX2</th>\n",
       "      <th>Admitted</th>\n",
       "    </tr>\n",
       "  </thead>\n",
       "  <tbody>\n",
       "    <tr>\n",
       "      <th>3</th>\n",
       "      <td>60.182599</td>\n",
       "      <td>86.308552</td>\n",
       "      <td>1</td>\n",
       "    </tr>\n",
       "    <tr>\n",
       "      <th>4</th>\n",
       "      <td>79.032736</td>\n",
       "      <td>75.344376</td>\n",
       "      <td>1</td>\n",
       "    </tr>\n",
       "    <tr>\n",
       "      <th>6</th>\n",
       "      <td>61.106665</td>\n",
       "      <td>96.511426</td>\n",
       "      <td>1</td>\n",
       "    </tr>\n",
       "    <tr>\n",
       "      <th>7</th>\n",
       "      <td>75.024746</td>\n",
       "      <td>46.554014</td>\n",
       "      <td>1</td>\n",
       "    </tr>\n",
       "    <tr>\n",
       "      <th>8</th>\n",
       "      <td>76.098787</td>\n",
       "      <td>87.420570</td>\n",
       "      <td>1</td>\n",
       "    </tr>\n",
       "  </tbody>\n",
       "</table>\n",
       "</div>"
      ],
      "text/plain": [
       "         EX1        EX2  Admitted\n",
       "3  60.182599  86.308552         1\n",
       "4  79.032736  75.344376         1\n",
       "6  61.106665  96.511426         1\n",
       "7  75.024746  46.554014         1\n",
       "8  76.098787  87.420570         1"
      ]
     },
     "execution_count": 4,
     "metadata": {},
     "output_type": "execute_result"
    }
   ],
   "source": [
    "positive = data[data['Admitted'] == 1]\n",
    "negative= data[data['Admitted'] == 0]\n",
    "positive.head(5)"
   ]
  },
  {
   "cell_type": "code",
   "execution_count": 5,
   "metadata": {},
   "outputs": [
    {
     "data": {
      "text/plain": [
       "Text(0,0.5,'Ex 2 Score')"
      ]
     },
     "execution_count": 5,
     "metadata": {},
     "output_type": "execute_result"
    },
    {
     "data": {
      "image/png": "[encoded data removed]",
      "text/plain": [
       "<Figure size 720x360 with 1 Axes>"
      ]
     },
     "metadata": {},
     "output_type": "display_data"
    }
   ],
   "source": [
    "fig,ax = plt.subplots(figsize=(10,5))\n",
    "ax.scatter(positive['EX1'],\n",
    "           positive['EX2'],\n",
    "           s=30,\n",
    "           c='b',\n",
    "           marker='o',\n",
    "           label='Admitted')\n",
    "ax.scatter(negative['EX1'],\n",
    "           negative['EX2'],\n",
    "           s=30,\n",
    "           c='r',\n",
    "           marker='x',\n",
    "           label='Not Admitted')\n",
    "ax.legend()\n",
    "ax.set_xlabel('Ex 1 Score')\n",
    "ax.set_ylabel('Ex 2 Score')"
   ]
  },
  {
   "cell_type": "markdown",
   "metadata": {},
   "source": [
    "目标：建立分类器（求解出三个参数 $\\theta_0         \\theta_1         \\theta_2 $）\n",
    "\n",
    "\n",
    "设定阈值，根据阈值判断录取结果\n",
    "\n",
    "### 要完成的模块\n",
    "-  `sigmoid` : 映射到概率的函数\n",
    "\n",
    "-  `model` : 返回预测结果值\n",
    "\n",
    "-  `cost` : 根据参数计算损失\n",
    "\n",
    "-  `gradient` : 计算每个参数的梯度方向\n",
    "\n",
    "-  `descent` : 进行参数更新\n",
    "\n",
    "-  `accuracy`: 计算精度"
   ]
  },
  {
   "cell_type": "markdown",
   "metadata": {},
   "source": [
    "###  `sigmoid` 函数\n",
    "\n",
    "$$\n",
    "g(z) = \\frac{1}{1+e^{-z}}   \n",
    "$$"
   ]
  },
  {
   "cell_type": "code",
   "execution_count": 6,
   "metadata": {
    "collapsed": true
   },
   "outputs": [],
   "source": [
    "def sigmoid(z):\n",
    "    return 1/(1+np.exp(-z))"
   ]
  },
  {
   "cell_type": "code",
   "execution_count": 7,
   "metadata": {},
   "outputs": [
    {
     "data": {
      "text/plain": [
       "[<matplotlib.lines.Line2D at 0x1f9e7a0c6a0>]"
      ]
     },
     "execution_count": 7,
     "metadata": {},
     "output_type": "execute_result"
    },
    {
     "data": {
      "image/png": "[encoded data removed]",
      "text/plain": [
       "<Figure size 864x288 with 1 Axes>"
      ]
     },
     "metadata": {},
     "output_type": "display_data"
    }
   ],
   "source": [
    "nums = np.arange(-10,10,step=1) #创建数组\n",
    "fig,ax =plt.subplots(figsize=(12,4))\n",
    "ax.plot(nums,sigmoid(nums),'r')"
   ]
  },
  {
   "cell_type": "markdown",
   "metadata": {},
   "source": [
    "### Sigmoid\n",
    "* $g:\\mathbb{R} \\to [0,1]$\n",
    "* $g(0)=0.5$\n",
    "* $g(- \\infty)=0$\n",
    "* $g(+ \\infty)=1$"
   ]
  },
  {
   "cell_type": "code",
   "execution_count": 8,
   "metadata": {
    "collapsed": true
   },
   "outputs": [],
   "source": [
    "#预测函数\n",
    "def model(x,theta):\n",
    "    return sigmoid(np.dot(x,theta.T))"
   ]
  },
  {
   "cell_type": "markdown",
   "metadata": {},
   "source": [
    "$$\n",
    "\\begin{array}{ccc}\n",
    "\\begin{pmatrix}\\theta_{0} & \\theta_{1} & \\theta_{2}\n",
    "\\end{pmatrix} & \\times & \n",
    "\\begin{pmatrix}1\\\\\n",
    "x_{1}\\\\\n",
    "x_{2}\n",
    "\\end{pmatrix}\n",
    "\\end{array}=\\theta_{0}+\\theta_{1}x_{1}+\\theta_{2}x_{2}\n",
    "$$"
   ]
  },
  {
   "cell_type": "code",
   "execution_count": 9,
   "metadata": {
    "collapsed": true
   },
   "outputs": [],
   "source": [
    "data.insert(0,'ones',1) #对应theta0\n",
    "matrix_data = data.as_matrix() #数据集矩阵化"
   ]
  },
  {
   "cell_type": "code",
   "execution_count": 10,
   "metadata": {
    "collapsed": true
   },
   "outputs": [],
   "source": [
    "columns = matrix_data.shape[1]\n",
    "x = matrix_data[:,0:columns - 1]\n",
    "y = matrix_data[:,columns - 1:columns] "
   ]
  },
  {
   "cell_type": "code",
   "execution_count": 11,
   "metadata": {},
   "outputs": [
    {
     "data": {
      "text/plain": [
       "array([[0., 0., 0.]])"
      ]
     },
     "execution_count": 11,
     "metadata": {},
     "output_type": "execute_result"
    }
   ],
   "source": [
    "theta = np.zeros([1,3])\n",
    "theta"
   ]
  },
  {
   "cell_type": "code",
   "execution_count": 12,
   "metadata": {},
   "outputs": [
    {
     "data": {
      "text/plain": [
       "array([[ 1.        , 34.62365962, 78.02469282],\n",
       "       [ 1.        , 30.28671077, 43.89499752],\n",
       "       [ 1.        , 35.84740877, 72.90219803],\n",
       "       [ 1.        , 60.18259939, 86.3085521 ],\n",
       "       [ 1.        , 79.03273605, 75.34437644]])"
      ]
     },
     "execution_count": 12,
     "metadata": {},
     "output_type": "execute_result"
    }
   ],
   "source": [
    "x[:5]"
   ]
  },
  {
   "cell_type": "markdown",
   "metadata": {},
   "source": [
    "### 损失函数\n",
    "将对数似然函数去负号\n",
    "\n",
    "$$\n",
    "D(h_\\theta(x), y) = -y\\log(h_\\theta(x)) - (1-y)\\log(1-h_\\theta(x))\n",
    "$$\n",
    "求平均损失\n",
    "$$\n",
    "J(\\theta)=\\frac{1}{n}\\sum_{i=1}^{n} D(h_\\theta(x_i), y_i)\n",
    "$$"
   ]
  },
  {
   "cell_type": "code",
   "execution_count": 13,
   "metadata": {
    "collapsed": true
   },
   "outputs": [],
   "source": [
    "def cost(x,y,theta):\n",
    "    left = np.multiply(-y,np.log(model(x,theta)))\n",
    "    right = np.multiply(1 - y,np.log(1 - model(x,theta)))\n",
    "    return np.sum((left - right) / len(x))"
   ]
  },
  {
   "cell_type": "code",
   "execution_count": 14,
   "metadata": {},
   "outputs": [
    {
     "data": {
      "text/plain": [
       "0.6931471805599457"
      ]
     },
     "execution_count": 14,
     "metadata": {},
     "output_type": "execute_result"
    }
   ],
   "source": [
    "cost(x,y,theta)"
   ]
  },
  {
   "cell_type": "markdown",
   "metadata": {},
   "source": [
    "### 计算梯度\n",
    "\n",
    "\n",
    "$$\n",
    "\\frac{\\partial J}{\\partial \\theta_j}=-\\frac{1}{m}\\sum_{i=1}^n (y_i - h_\\theta (x_i))x_{ij}\n",
    "$$"
   ]
  },
  {
   "cell_type": "code",
   "execution_count": 26,
   "metadata": {
    "collapsed": true
   },
   "outputs": [],
   "source": [
    "def gradient_descent(x,y,theta):\n",
    "    gradient = np.zeros(theta.shape)\n",
    "    for j in range(len(theta.ravel())):\n",
    "        term = np.multiply((model(x,theta) - y).ravel(),x[:,j])\n",
    "        gradient[0,j] = np.sum(term) / len(x)\n",
    "    return gradient"
   ]
  },
  {
   "cell_type": "markdown",
   "metadata": {},
   "source": [
    "<h2>比较三种不同梯度下降法<h2>"
   ]
  },
  {
   "cell_type": "code",
   "execution_count": 16,
   "metadata": {
    "collapsed": true
   },
   "outputs": [],
   "source": [
    "STOP_ITER = 0\n",
    "STOP_COST = 1\n",
    "STOP_GRAD = 2\n",
    "\n",
    "def stopCriterion(type, value, threshold):\n",
    "    #设定三种不同的停止策略\n",
    "    if type == STOP_ITER:        return value > threshold\n",
    "    elif type == STOP_COST:      return abs(value[-1]-value[-2]) < threshold\n",
    "    elif type == STOP_GRAD:      return np.linalg.norm(value) < threshold"
   ]
  },
  {
   "cell_type": "code",
   "execution_count": 17,
   "metadata": {
    "collapsed": true
   },
   "outputs": [],
   "source": [
    "import numpy.random\n",
    "#洗牌\n",
    "def shuffleData(data):\n",
    "    np.random.shuffle(data)\n",
    "    cols = data.shape[1]\n",
    "    X = data[:, 0:cols-1]\n",
    "    y = data[:, cols-1:]\n",
    "    return X, y"
   ]
  },
  {
   "cell_type": "code",
   "execution_count": 29,
   "metadata": {
    "collapsed": true
   },
   "outputs": [],
   "source": [
    "import time\n",
    "\n",
    "def descent(data, theta, batchSize, stopType, thresh, alpha):\n",
    "    #梯度下降求解\n",
    "    \n",
    "    #初始化\n",
    "    init_time = time.time()\n",
    "    i = 0 # 迭代次数\n",
    "    k = 0 # batch\n",
    "    X, y = shuffleData(data)\n",
    "    grad = np.zeros(theta.shape) # 计算的梯度\n",
    "    costs = [cost(X, y, theta)] # 损失值\n",
    "\n",
    "    \n",
    "    while True:\n",
    "        gradient = gradient_descent(X[k:k+batchSize], y[k:k+batchSize], theta)\n",
    "        k += batchSize #取batch数量个数据\n",
    "        if k >= n: \n",
    "            k = 0 \n",
    "            X, y = shuffleData(data) #重新洗牌\n",
    "        theta = theta - alpha*gradient # 参数更新\n",
    "        costs.append(cost(X, y, theta)) # 计算新的损失\n",
    "        i += 1 \n",
    "\n",
    "        if stopType == STOP_ITER:       value = i\n",
    "        elif stopType == STOP_COST:     value = costs\n",
    "        elif stopType == STOP_GRAD:     value = gradient\n",
    "        if stopCriterion(stopType, value, thresh): break\n",
    "    \n",
    "    return theta, i-1, costs, gradient, time.time() - init_time"
   ]
  },
  {
   "cell_type": "code",
   "execution_count": 19,
   "metadata": {
    "collapsed": true
   },
   "outputs": [],
   "source": [
    "def runExpe(data, theta, batchSize, stopType, thresh, alpha):\n",
    "    #import pdb; pdb.set_trace();\n",
    "    theta, iter, costs, gradient, dur = descent(data, theta, batchSize, stopType, thresh, alpha)\n",
    "    name = \"Original\" if (data[:,1]>2).sum() > 1 else \"Scaled\"\n",
    "    name += \" data - learning rate: {} - \".format(alpha)\n",
    "    if batchSize==n: strDescType = \"Gradient\"\n",
    "    elif batchSize==1:  strDescType = \"Stochastic\"\n",
    "    else: strDescType = \"Mini-batch ({})\".format(batchSize)\n",
    "    name += strDescType + \" descent - Stop: \"\n",
    "    if stopType == STOP_ITER: strStop = \"{} iterations\".format(thresh)\n",
    "    elif stopType == STOP_COST: strStop = \"costs change < {}\".format(thresh)\n",
    "    else: strStop = \"gradient norm < {}\".format(thresh)\n",
    "    name += strStop\n",
    "    print (\"***{}\\nTheta: {} - Iter: {} - Last cost: {:03.2f} - Duration: {:03.2f}s\".format(\n",
    "        name, theta, iter, costs[-1], dur))\n",
    "    fig, ax = plt.subplots(figsize=(12,4))\n",
    "    ax.plot(np.arange(len(costs)), costs, 'r')\n",
    "    ax.set_xlabel('Iterations')\n",
    "    ax.set_ylabel('Cost')\n",
    "    ax.set_title(name.upper() + ' - Error vs. Iteration')\n",
    "    return theta"
   ]
  },
  {
   "cell_type": "markdown",
   "metadata": {},
   "source": [
    "### 不同的停止策略"
   ]
  },
  {
   "cell_type": "markdown",
   "metadata": {},
   "source": [
    "##### 设定迭代次数"
   ]
  },
  {
   "cell_type": "code",
   "execution_count": 28,
   "metadata": {},
   "outputs": [
    {
     "name": "stdout",
     "output_type": "stream",
     "text": [
      "***Original data - learning rate: 1e-06 - Gradient descent - Stop: 5000 iterations\n",
      "Theta: [[-0.00027127  0.00705232  0.00376711]] - Iter: 5000 - Last cost: 0.63 - Duration: 1.00s\n"
     ]
    },
    {
     "data": {
      "text/plain": [
       "array([[-0.00027127,  0.00705232,  0.00376711]])"
      ]
     },
     "execution_count": 28,
     "metadata": {},
     "output_type": "execute_result"
    },
    {
     "data": {
      "image/png": "[encoded data removed]",
      "text/plain": [
       "<Figure size 864x288 with 1 Axes>"
      ]
     },
     "metadata": {},
     "output_type": "display_data"
    }
   ],
   "source": [
    "#选择的梯度下降方法是基于所有样本的\n",
    "n=100\n",
    "runExpe(matrix_data, theta, n, STOP_ITER, thresh=5000, alpha=0.000001)"
   ]
  },
  {
   "cell_type": "code",
   "execution_count": null,
   "metadata": {
    "collapsed": true
   },
   "outputs": [],
   "source": []
  }
 ],
 "metadata": {
  "kernelspec": {
   "display_name": "Python 3",
   "language": "python",
   "name": "python3"
  },
  "language_info": {
   "codemirror_mode": {
    "name": "ipython",
    "version": 3
   },
   "file_extension": ".py",
   "mimetype": "text/x-python",
   "name": "python",
   "nbconvert_exporter": "python",
   "pygments_lexer": "ipython3",
   "version": "3.5.2"
  }
 },
 "nbformat": 4,
 "nbformat_minor": 2
}
