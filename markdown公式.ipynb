{
 "cells": [
  {
   "cell_type": "markdown",
   "metadata": {},
   "source": [
    "### 公式显示"
   ]
  },
  {
   "cell_type": "markdown",
   "metadata": {},
   "source": [
    "一元一次方程：$y=a+bx$\n"
   ]
  },
  {
   "cell_type": "markdown",
   "metadata": {},
   "source": [
    "一元一次方程：$$y=a+bx$$"
   ]
  },
  {
   "cell_type": "markdown",
   "metadata": {},
   "source": [
    "### 上下标"
   ]
  },
  {
   "cell_type": "markdown",
   "metadata": {},
   "source": [
    "下标以\"_\"为引导，上标以“^”为引导，对于多个字符组成的上标和下标，以“{}”括起来。\n",
    "<br>\n",
    "$$y=a+bx_{ij}^2$$"
   ]
  },
  {
   "cell_type": "markdown",
   "metadata": {},
   "source": [
    "### 求和"
   ]
  },
  {
   "cell_type": "markdown",
   "metadata": {},
   "source": [
    "求和以\\sum表示\n",
    "\n",
    "求和  $$\\sum_{i=0}^{n}(x_i^2 + y_j^3)$$"
   ]
  },
  {
   "cell_type": "markdown",
   "metadata": {},
   "source": [
    "### 分数\n",
    "使用 \\frac{分子}{分母}，或\\cfrac{分子}{分母}\n",
    "$$\\frac{1}{3} - \\frac{x_i^2}{y_j^3}$$"
   ]
  },
  {
   "cell_type": "markdown",
   "metadata": {},
   "source": [
    "### 多行公式\n",
    "$$ \n",
    "\\begin{eqnarray*}\n",
    "\\cos2\\theta & = & \\cos^2 \\theta - \\sin^2 \\theta\\\\\n",
    "&= & 2\\cos^2 \\theta - 1 \n",
    "\\end{eqnarray*}\n",
    "$$\n"
   ]
  },
  {
   "cell_type": "markdown",
   "metadata": {},
   "source": [
    "### 大号括号"
   ]
  },
  {
   "cell_type": "markdown",
   "metadata": {},
   "source": [
    "$$ x + \\left( y^2 + \\frac{x^2+z}{1+z^2} \\right)  $$\n",
    "大括号\\{ \\}"
   ]
  },
  {
   "cell_type": "markdown",
   "metadata": {},
   "source": [
    "### 省略号\n",
    "$$ f(x_1,x_2,\\ldots,x_i) = x_1+x_2+\\cdots + x_i $$"
   ]
  },
  {
   "cell_type": "markdown",
   "metadata": {},
   "source": [
    "### 矩阵"
   ]
  },
  {
   "cell_type": "markdown",
   "metadata": {},
   "source": [
    "##### 无括号\n",
    "\n",
    "$$\n",
    "\\begin{matrix}\n",
    "1&2&3\\\\\n",
    "4&5&6\\\\\n",
    "7&8&9\n",
    "\\end{matrix} \\tag{1}\n",
    "$$"
   ]
  },
  {
   "cell_type": "markdown",
   "metadata": {},
   "source": [
    "##### 有括号\n",
    "\n",
    "$$\n",
    "\\left[\n",
    "\\begin{matrix}\n",
    "1&2&3\\\\\n",
    "4&5&6\\\\\n",
    "7&8&9\n",
    "\\end{matrix} \\right]\\tag{1}\n",
    "$$\n",
    "\n",
    "$$\n",
    "\\begin{bmatrix}\n",
    "1&2&3\\\\\n",
    "4&5&6\\\\\n",
    "7&8&9\n",
    "\\end{bmatrix} \\tag{1}\n",
    "$$"
   ]
  },
  {
   "cell_type": "markdown",
   "metadata": {},
   "source": [
    "$$\n",
    "\\begin{pmatrix}\n",
    "1&2&3\\\\\n",
    "4&5&6\\\\\n",
    "7&8&9\n",
    "\\end{pmatrix} \\tag{1}\n",
    "$$\n",
    "\n",
    "$$\n",
    "\\begin{Bmatrix}\n",
    "1&2&3\\\\\n",
    "4&5&6\\\\\n",
    "7&8&9\n",
    "\\end{Bmatrix} \\tag{1}\n",
    "$$\n",
    "\n",
    "$$\n",
    "\\begin{vmatrix}\n",
    "1&2&3\\\\\n",
    "4&5&6\\\\\n",
    "7&8&9\n",
    "\\end{vmatrix} \\tag{1}\n",
    "$$\n",
    "\n",
    "$$\n",
    "\\begin{Vmatrix}\n",
    "1&2&3\\\\\n",
    "4&5&6\\\\\n",
    "7&8&9\n",
    "\\end{Vmatrix} \\tag{1}\n",
    "$$"
   ]
  },
  {
   "cell_type": "markdown",
   "metadata": {},
   "source": [
    "### 希腊数字"
   ]
  },
  {
   "cell_type": "markdown",
   "metadata": {},
   "source": [
    "\\alpha"
   ]
  },
  {
   "cell_type": "code",
   "execution_count": null,
   "metadata": {},
   "outputs": [],
   "source": []
  }
 ],
 "metadata": {
  "kernelspec": {
   "display_name": "Python 3",
   "language": "python",
   "name": "python3"
  },
  "language_info": {
   "codemirror_mode": {
    "name": "ipython",
    "version": 3
   },
   "file_extension": ".py",
   "mimetype": "text/x-python",
   "name": "python",
   "nbconvert_exporter": "python",
   "pygments_lexer": "ipython3",
   "version": "3.5.2"
  }
 },
 "nbformat": 4,
 "nbformat_minor": 2
}
