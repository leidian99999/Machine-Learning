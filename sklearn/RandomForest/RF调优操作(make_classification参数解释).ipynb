{
 "cells": [
  {
   "cell_type": "code",
   "execution_count": 2,
   "metadata": {},
   "outputs": [],
   "source": [
    "#导入需要的库\n",
    "import pandas as pd\n",
    "import numpy as np\n",
    "from sklearn.ensemble import RandomForestClassifier\n",
    "from sklearn.model_selection import GridSearchCV\n",
    "from sklearn.model_selection import train_test_split\n",
    "from sklearn import metrics\n",
    "import matplotlib.pylab as plt\n",
    "from sklearn.datasets import make_classification"
   ]
  },
  {
   "cell_type": "markdown",
   "metadata": {},
   "source": [
    "## make_classification参数解释\n",
    "\n",
    "**n_samples**：默认100,生成样本数量<br>\n",
    "**n_features**:默认20,总的特征数量,是从有信息的数据点，冗余数据点，重复数据点，和特征点-有信息的点-冗余的点-重复点中随机选择的。<br>\n",
    "**n_informative**:<br>\n",
    "**n_redundant**:冗余特征数<br>\n",
    "**n_repeated**:<br>\n",
    "**n_classes**:输出类别数<br>\n",
    "**n_clusters_per_class**:<br>\n",
    "**weights**:floats列表 or None，默认none。权重<br>\n",
    "**flip_y**:<br>\n",
    "**class_sep**:<br>\n",
    "**hypercube**:<br>\n",
    "**shift**:<br>\n",
    "**scale**:<br>\n",
    "**shuffle**:<br>\n",
    "**random_state**:<br>\n",
    "如果是int，random_state是随机数发生器使用的种子; <br>\n",
    "如果RandomState实例，random_state是随机数生成器; <br>\n",
    "如果没有，则随机数生成器是np.random使用的RandomState实例<br>"
   ]
  },
  {
   "cell_type": "code",
   "execution_count": 4,
   "metadata": {},
   "outputs": [],
   "source": [
    "# 生成数据\n",
    "X,y = make_classification(n_samples = 1000, # 样本数\n",
    "                         n_features = 50, # 特征数\n",
    "                         n_clusters_per_class = 1,\n",
    "                         n_informative = 15,\n",
    "                         random_state = 111)"
   ]
  },
  {
   "cell_type": "code",
   "execution_count": 6,
   "metadata": {},
   "outputs": [
    {
     "name": "stdout",
     "output_type": "stream",
     "text": [
      "(1000, 50)\n",
      "(1000,)\n"
     ]
    }
   ],
   "source": [
    "print(X.shape)\n",
    "print(y.shape)"
   ]
  },
  {
   "cell_type": "code",
   "execution_count": null,
   "metadata": {},
   "outputs": [],
   "source": []
  }
 ],
 "metadata": {
  "kernelspec": {
   "display_name": "Python 3",
   "language": "python",
   "name": "python3"
  },
  "language_info": {
   "codemirror_mode": {
    "name": "ipython",
    "version": 3
   },
   "file_extension": ".py",
   "mimetype": "text/x-python",
   "name": "python",
   "nbconvert_exporter": "python",
   "pygments_lexer": "ipython3",
   "version": "3.6.6"
  }
 },
 "nbformat": 4,
 "nbformat_minor": 2
}
