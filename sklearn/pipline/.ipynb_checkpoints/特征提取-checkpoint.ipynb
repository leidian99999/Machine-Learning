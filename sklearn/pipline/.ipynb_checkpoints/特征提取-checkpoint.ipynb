{
 "cells": [
  {
   "cell_type": "code",
   "execution_count": 1,
   "metadata": {},
   "outputs": [
    {
     "name": "stdout",
     "output_type": "stream",
     "text": [
      "['sepal length (cm)', 'sepal width (cm)', 'petal length (cm)', 'petal width (cm)']\n"
     ]
    }
   ],
   "source": [
    "# 导入数据并描述\n",
    "from sklearn.datasets import load_iris\n",
    "iris = load_iris()\n",
    "print(iris.feature_names)"
   ]
  },
  {
   "cell_type": "code",
   "execution_count": 2,
   "metadata": {},
   "outputs": [
    {
     "name": "stdout",
     "output_type": "stream",
     "text": [
      "['setosa' 'versicolor' 'virginica']\n"
     ]
    }
   ],
   "source": [
    "print(iris.target_names)\n",
    "# print(iris.data)\n",
    "# print(iris.target) "
   ]
  },
  {
   "cell_type": "code",
   "execution_count": 4,
   "metadata": {},
   "outputs": [],
   "source": [
    "# 加载包\n",
    "from sklearn.pipeline import Pipeline\n",
    "from sklearn.pipeline import FeatureUnion\n",
    "from sklearn.model_selection import GridSearchCV\n",
    "from sklearn.svm import SVC\n",
    "from sklearn.datasets import load_iris\n",
    "from sklearn.decomposition import PCA\n",
    "from sklearn.feature_selection import SelectKBest"
   ]
  },
  {
   "cell_type": "code",
   "execution_count": 5,
   "metadata": {},
   "outputs": [],
   "source": [
    "# 第一步 加载数据\n",
    "iris = load_iris()\n",
    "X,y = iris.data,iris.target"
   ]
  },
  {
   "cell_type": "code",
   "execution_count": 6,
   "metadata": {},
   "outputs": [],
   "source": [
    "# 第二步 特征提取\n",
    "# 主成分法：通过奇异值分解实现降维\n",
    "pca = PCA(n_components=2)"
   ]
  },
  {
   "cell_type": "code",
   "execution_count": 7,
   "metadata": {},
   "outputs": [],
   "source": [
    "# 最大分数法\n",
    "# 根据方差分析计算类标签与特征之间的F值，进而选择F值最大的特征。\n",
    "selection = SelectKBest(k=1)"
   ]
  },
  {
   "cell_type": "code",
   "execution_count": 8,
   "metadata": {},
   "outputs": [],
   "source": [
    "# 集成方法\n",
    "# 组合pca与单变量选择器，建立特征选择估计量。\n",
    "combined_features = FeatureUnion(\n",
    "    [\n",
    "        (\"pca\",pca),(\"univ_select\",selection)\n",
    "    ]\n",
    "\n",
    ")\n",
    "# 参数是元组(tuples)型的，在每一个元组里，前一半是转换器的名字，后一半是转换器"
   ]
  },
  {
   "cell_type": "code",
   "execution_count": 10,
   "metadata": {},
   "outputs": [],
   "source": [
    "# 建立估计量后，使用它的组合特征转换数据集\n",
    "X_features = combined_features.fit(X,y).transform(X)"
   ]
  },
  {
   "cell_type": "code",
   "execution_count": 11,
   "metadata": {},
   "outputs": [],
   "source": [
    "# 建立线性核函数的C支持向量分类器\n",
    "svm = SVC(kernel=\"linear\")"
   ]
  },
  {
   "cell_type": "code",
   "execution_count": 15,
   "metadata": {},
   "outputs": [],
   "source": [
    "# pipline\n",
    "\n",
    "pipeline = Pipeline(\n",
    "    [\n",
    "        (\"features\",combined_features),\n",
    "        (\"svm\",svm)\n",
    "    ]\n",
    ")"
   ]
  },
  {
   "cell_type": "code",
   "execution_count": 13,
   "metadata": {},
   "outputs": [],
   "source": [
    "# 最后在三种特征提取方法上做网格搜索\n",
    "\n",
    "param_grid = dict(features__pca__n_components=[1, 2, 3],\n",
    "                  features__univ_select__k=[1, 2],\n",
    "                  svm__C=[0.1, 1, 10])"
   ]
  },
  {
   "cell_type": "code",
   "execution_count": 16,
   "metadata": {},
   "outputs": [
    {
     "name": "stdout",
     "output_type": "stream",
     "text": [
      "Fitting 3 folds for each of 18 candidates, totalling 54 fits\n",
      "[CV] features__univ_select__k=1, features__pca__n_components=1, svm__C=0.1 \n",
      "[CV]  features__univ_select__k=1, features__pca__n_components=1, svm__C=0.1, score=0.9607843137254902, total=   0.0s\n",
      "[CV] features__univ_select__k=1, features__pca__n_components=1, svm__C=0.1 \n",
      "[CV]  features__univ_select__k=1, features__pca__n_components=1, svm__C=0.1, score=0.9019607843137255, total=   0.0s\n",
      "[CV] features__univ_select__k=1, features__pca__n_components=1, svm__C=0.1 \n",
      "[CV]  features__univ_select__k=1, features__pca__n_components=1, svm__C=0.1, score=0.9791666666666666, total=   0.0s\n",
      "[CV] features__univ_select__k=1, features__pca__n_components=1, svm__C=1 \n",
      "[CV]  features__univ_select__k=1, features__pca__n_components=1, svm__C=1, score=0.9411764705882353, total=   0.0s\n",
      "[CV] features__univ_select__k=1, features__pca__n_components=1, svm__C=1 \n",
      "[CV]  features__univ_select__k=1, features__pca__n_components=1, svm__C=1, score=0.9215686274509803, total=   0.0s\n",
      "[CV] features__univ_select__k=1, features__pca__n_components=1, svm__C=1 \n",
      "[CV]  features__univ_select__k=1, features__pca__n_components=1, svm__C=1, score=0.9791666666666666, total=   0.0s\n",
      "[CV] features__univ_select__k=1, features__pca__n_components=1, svm__C=10 \n",
      "[CV]  features__univ_select__k=1, features__pca__n_components=1, svm__C=10, score=0.9607843137254902, total=   0.0s\n",
      "[CV] features__univ_select__k=1, features__pca__n_components=1, svm__C=10 \n",
      "[CV]  features__univ_select__k=1, features__pca__n_components=1, svm__C=10, score=0.9215686274509803, total=   0.0s\n",
      "[CV] features__univ_select__k=1, features__pca__n_components=1, svm__C=10 \n"
     ]
    },
    {
     "name": "stderr",
     "output_type": "stream",
     "text": [
      "[Parallel(n_jobs=1)]: Done   1 out of   1 | elapsed:    0.0s remaining:    0.0s\n",
      "[Parallel(n_jobs=1)]: Done   2 out of   2 | elapsed:    0.0s remaining:    0.0s\n",
      "[Parallel(n_jobs=1)]: Done   3 out of   3 | elapsed:    0.0s remaining:    0.0s\n",
      "[Parallel(n_jobs=1)]: Done   4 out of   4 | elapsed:    0.0s remaining:    0.0s\n",
      "[Parallel(n_jobs=1)]: Done   5 out of   5 | elapsed:    0.0s remaining:    0.0s\n",
      "[Parallel(n_jobs=1)]: Done   6 out of   6 | elapsed:    0.0s remaining:    0.0s\n",
      "[Parallel(n_jobs=1)]: Done   7 out of   7 | elapsed:    0.0s remaining:    0.0s\n",
      "[Parallel(n_jobs=1)]: Done   8 out of   8 | elapsed:    0.1s remaining:    0.0s\n",
      "[Parallel(n_jobs=1)]: Done   9 out of   9 | elapsed:    0.1s remaining:    0.0s\n"
     ]
    },
    {
     "name": "stdout",
     "output_type": "stream",
     "text": [
      "[CV]  features__univ_select__k=1, features__pca__n_components=1, svm__C=10, score=0.9791666666666666, total=   0.0s\n",
      "[CV] features__univ_select__k=2, features__pca__n_components=1, svm__C=0.1 \n",
      "[CV]  features__univ_select__k=2, features__pca__n_components=1, svm__C=0.1, score=0.9607843137254902, total=   0.0s\n",
      "[CV] features__univ_select__k=2, features__pca__n_components=1, svm__C=0.1 \n",
      "[CV]  features__univ_select__k=2, features__pca__n_components=1, svm__C=0.1, score=0.9215686274509803, total=   0.0s\n",
      "[CV] features__univ_select__k=2, features__pca__n_components=1, svm__C=0.1 \n",
      "[CV]  features__univ_select__k=2, features__pca__n_components=1, svm__C=0.1, score=0.9791666666666666, total=   0.0s\n",
      "[CV] features__univ_select__k=2, features__pca__n_components=1, svm__C=1 \n",
      "[CV]  features__univ_select__k=2, features__pca__n_components=1, svm__C=1, score=0.9607843137254902, total=   0.0s\n",
      "[CV] features__univ_select__k=2, features__pca__n_components=1, svm__C=1 \n",
      "[CV]  features__univ_select__k=2, features__pca__n_components=1, svm__C=1, score=0.9215686274509803, total=   0.0s\n",
      "[CV] features__univ_select__k=2, features__pca__n_components=1, svm__C=1 \n",
      "[CV]  features__univ_select__k=2, features__pca__n_components=1, svm__C=1, score=1.0, total=   0.0s\n",
      "[CV] features__univ_select__k=2, features__pca__n_components=1, svm__C=10 \n",
      "[CV]  features__univ_select__k=2, features__pca__n_components=1, svm__C=10, score=0.9803921568627451, total=   0.0s\n",
      "[CV] features__univ_select__k=2, features__pca__n_components=1, svm__C=10 \n",
      "[CV]  features__univ_select__k=2, features__pca__n_components=1, svm__C=10, score=0.9019607843137255, total=   0.0s\n",
      "[CV] features__univ_select__k=2, features__pca__n_components=1, svm__C=10 \n",
      "[CV]  features__univ_select__k=2, features__pca__n_components=1, svm__C=10, score=1.0, total=   0.0s\n",
      "[CV] features__univ_select__k=1, features__pca__n_components=2, svm__C=0.1 \n",
      "[CV]  features__univ_select__k=1, features__pca__n_components=2, svm__C=0.1, score=0.9607843137254902, total=   0.0s\n",
      "[CV] features__univ_select__k=1, features__pca__n_components=2, svm__C=0.1 \n",
      "[CV]  features__univ_select__k=1, features__pca__n_components=2, svm__C=0.1, score=0.9019607843137255, total=   0.0s\n",
      "[CV] features__univ_select__k=1, features__pca__n_components=2, svm__C=0.1 \n",
      "[CV]  features__univ_select__k=1, features__pca__n_components=2, svm__C=0.1, score=0.9791666666666666, total=   0.0s\n",
      "[CV] features__univ_select__k=1, features__pca__n_components=2, svm__C=1 \n",
      "[CV]  features__univ_select__k=1, features__pca__n_components=2, svm__C=1, score=0.9803921568627451, total=   0.0s\n",
      "[CV] features__univ_select__k=1, features__pca__n_components=2, svm__C=1 \n",
      "[CV]  features__univ_select__k=1, features__pca__n_components=2, svm__C=1, score=0.9411764705882353, total=   0.0s\n",
      "[CV] features__univ_select__k=1, features__pca__n_components=2, svm__C=1 \n",
      "[CV]  features__univ_select__k=1, features__pca__n_components=2, svm__C=1, score=0.9791666666666666, total=   0.0s\n",
      "[CV] features__univ_select__k=1, features__pca__n_components=2, svm__C=10 \n",
      "[CV]  features__univ_select__k=1, features__pca__n_components=2, svm__C=10, score=0.9803921568627451, total=   0.0s\n",
      "[CV] features__univ_select__k=1, features__pca__n_components=2, svm__C=10 \n",
      "[CV]  features__univ_select__k=1, features__pca__n_components=2, svm__C=10, score=0.9411764705882353, total=   0.0s\n",
      "[CV] features__univ_select__k=1, features__pca__n_components=2, svm__C=10 \n",
      "[CV]  features__univ_select__k=1, features__pca__n_components=2, svm__C=10, score=0.9791666666666666, total=   0.0s\n",
      "[CV] features__univ_select__k=2, features__pca__n_components=2, svm__C=0.1 \n",
      "[CV]  features__univ_select__k=2, features__pca__n_components=2, svm__C=0.1, score=0.9803921568627451, total=   0.0s\n",
      "[CV] features__univ_select__k=2, features__pca__n_components=2, svm__C=0.1 \n",
      "[CV]  features__univ_select__k=2, features__pca__n_components=2, svm__C=0.1, score=0.9411764705882353, total=   0.0s\n",
      "[CV] features__univ_select__k=2, features__pca__n_components=2, svm__C=0.1 \n",
      "[CV]  features__univ_select__k=2, features__pca__n_components=2, svm__C=0.1, score=0.9791666666666666, total=   0.0s\n",
      "[CV] features__univ_select__k=2, features__pca__n_components=2, svm__C=1 \n",
      "[CV]  features__univ_select__k=2, features__pca__n_components=2, svm__C=1, score=1.0, total=   0.0s\n",
      "[CV] features__univ_select__k=2, features__pca__n_components=2, svm__C=1 \n",
      "[CV]  features__univ_select__k=2, features__pca__n_components=2, svm__C=1, score=0.9607843137254902, total=   0.0s\n",
      "[CV] features__univ_select__k=2, features__pca__n_components=2, svm__C=1 \n",
      "[CV]  features__univ_select__k=2, features__pca__n_components=2, svm__C=1, score=0.9791666666666666, total=   0.0s\n",
      "[CV] features__univ_select__k=2, features__pca__n_components=2, svm__C=10 \n",
      "[CV]  features__univ_select__k=2, features__pca__n_components=2, svm__C=10, score=0.9803921568627451, total=   0.0s\n",
      "[CV] features__univ_select__k=2, features__pca__n_components=2, svm__C=10 \n",
      "[CV]  features__univ_select__k=2, features__pca__n_components=2, svm__C=10, score=0.9215686274509803, total=   0.0s\n",
      "[CV] features__univ_select__k=2, features__pca__n_components=2, svm__C=10 \n",
      "[CV]  features__univ_select__k=2, features__pca__n_components=2, svm__C=10, score=1.0, total=   0.0s\n",
      "[CV] features__univ_select__k=1, features__pca__n_components=3, svm__C=0.1 \n",
      "[CV]  features__univ_select__k=1, features__pca__n_components=3, svm__C=0.1, score=0.9803921568627451, total=   0.0s\n",
      "[CV] features__univ_select__k=1, features__pca__n_components=3, svm__C=0.1 \n",
      "[CV]  features__univ_select__k=1, features__pca__n_components=3, svm__C=0.1, score=0.9411764705882353, total=   0.0s\n",
      "[CV] features__univ_select__k=1, features__pca__n_components=3, svm__C=0.1 \n",
      "[CV]  features__univ_select__k=1, features__pca__n_components=3, svm__C=0.1, score=0.9791666666666666, total=   0.0s\n",
      "[CV] features__univ_select__k=1, features__pca__n_components=3, svm__C=1 \n",
      "[CV]  features__univ_select__k=1, features__pca__n_components=3, svm__C=1, score=1.0, total=   0.0s\n",
      "[CV] features__univ_select__k=1, features__pca__n_components=3, svm__C=1 \n",
      "[CV]  features__univ_select__k=1, features__pca__n_components=3, svm__C=1, score=0.9411764705882353, total=   0.0s\n",
      "[CV] features__univ_select__k=1, features__pca__n_components=3, svm__C=1 \n",
      "[CV]  features__univ_select__k=1, features__pca__n_components=3, svm__C=1, score=0.9791666666666666, total=   0.0s\n",
      "[CV] features__univ_select__k=1, features__pca__n_components=3, svm__C=10 \n",
      "[CV]  features__univ_select__k=1, features__pca__n_components=3, svm__C=10, score=1.0, total=   0.0s\n",
      "[CV] features__univ_select__k=1, features__pca__n_components=3, svm__C=10 \n",
      "[CV]  features__univ_select__k=1, features__pca__n_components=3, svm__C=10, score=0.9215686274509803, total=   0.0s\n",
      "[CV] features__univ_select__k=1, features__pca__n_components=3, svm__C=10 \n",
      "[CV]  features__univ_select__k=1, features__pca__n_components=3, svm__C=10, score=1.0, total=   0.0s\n",
      "[CV] features__univ_select__k=2, features__pca__n_components=3, svm__C=0.1 \n",
      "[CV]  features__univ_select__k=2, features__pca__n_components=3, svm__C=0.1, score=0.9803921568627451, total=   0.0s\n",
      "[CV] features__univ_select__k=2, features__pca__n_components=3, svm__C=0.1 \n",
      "[CV]  features__univ_select__k=2, features__pca__n_components=3, svm__C=0.1, score=0.9411764705882353, total=   0.0s\n",
      "[CV] features__univ_select__k=2, features__pca__n_components=3, svm__C=0.1 \n",
      "[CV]  features__univ_select__k=2, features__pca__n_components=3, svm__C=0.1, score=0.9791666666666666, total=   0.0s\n",
      "[CV] features__univ_select__k=2, features__pca__n_components=3, svm__C=1 \n",
      "[CV]  features__univ_select__k=2, features__pca__n_components=3, svm__C=1, score=1.0, total=   0.0s\n",
      "[CV] features__univ_select__k=2, features__pca__n_components=3, svm__C=1 \n",
      "[CV]  features__univ_select__k=2, features__pca__n_components=3, svm__C=1, score=0.9607843137254902, total=   0.0s\n",
      "[CV] features__univ_select__k=2, features__pca__n_components=3, svm__C=1 \n",
      "[CV]  features__univ_select__k=2, features__pca__n_components=3, svm__C=1, score=0.9791666666666666, total=   0.0s\n",
      "[CV] features__univ_select__k=2, features__pca__n_components=3, svm__C=10 \n",
      "[CV]  features__univ_select__k=2, features__pca__n_components=3, svm__C=10, score=1.0, total=   0.0s\n",
      "[CV] features__univ_select__k=2, features__pca__n_components=3, svm__C=10 \n",
      "[CV]  features__univ_select__k=2, features__pca__n_components=3, svm__C=10, score=0.9215686274509803, total=   0.0s\n"
     ]
    },
    {
     "name": "stdout",
     "output_type": "stream",
     "text": [
      "[CV] features__univ_select__k=2, features__pca__n_components=3, svm__C=10 \n",
      "[CV]  features__univ_select__k=2, features__pca__n_components=3, svm__C=10, score=1.0, total=   0.0s\n",
      "Pipeline(memory=None,\n",
      "     steps=[('features', FeatureUnion(n_jobs=1,\n",
      "       transformer_list=[('pca', PCA(copy=True, iterated_power='auto', n_components=2, random_state=None,\n",
      "  svd_solver='auto', tol=0.0, whiten=False)), ('univ_select', SelectKBest(k=2, score_func=<function f_classif at 0x000001C75E4D6048>))],\n",
      "       transfo...,\n",
      "  max_iter=-1, probability=False, random_state=None, shrinking=True,\n",
      "  tol=0.001, verbose=False))])\n"
     ]
    },
    {
     "name": "stderr",
     "output_type": "stream",
     "text": [
      "[Parallel(n_jobs=1)]: Done  54 out of  54 | elapsed:    0.6s finished\n"
     ]
    }
   ],
   "source": [
    "grid_search = GridSearchCV(\n",
    "                            pipeline,\n",
    "                               param_grid=param_grid,\n",
    "verbose=10\n",
    ")\n",
    "grid_search.fit(X,y)\n",
    "print(grid_search.best_estimator_)"
   ]
  },
  {
   "cell_type": "code",
   "execution_count": null,
   "metadata": {},
   "outputs": [],
   "source": []
  }
 ],
 "metadata": {
  "kernelspec": {
   "display_name": "Python 3",
   "language": "python",
   "name": "python3"
  },
  "language_info": {
   "codemirror_mode": {
    "name": "ipython",
    "version": 3
   },
   "file_extension": ".py",
   "mimetype": "text/x-python",
   "name": "python",
   "nbconvert_exporter": "python",
   "pygments_lexer": "ipython3",
   "version": "3.5.2"
  }
 },
 "nbformat": 4,
 "nbformat_minor": 2
}
