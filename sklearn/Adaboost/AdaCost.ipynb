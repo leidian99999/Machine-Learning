{
 "cells": [
  {
   "cell_type": "code",
   "execution_count": 2,
   "metadata": {},
   "outputs": [],
   "source": [
    "import pandas as pd\n",
    "from AdaCost import AdaCostClassifier  # 上节定义好的类，我把它单独放在了AdaCost.py 文件中\n",
    "from sklearn.ensemble import AdaBoostClassifier\n",
    "from sklearn.model_selection import train_test_split\n",
    "from sklearn.metrics import recall_score, precision_score, f1_score"
   ]
  },
  {
   "cell_type": "code",
   "execution_count": 8,
   "metadata": {},
   "outputs": [],
   "source": [
    "def load_creditcard_data():  # 将数据集读进来，注意将正例标记为1，负例标记为-1\n",
    "    df = pd.read_csv(r'E:\\datasets\\kaggle\\creditcardfraud\\creditcard.csv')\n",
    "    df.loc[df.Class == 1, 'Class'] = -1\n",
    "    df.loc[df.Class == 0, 'Class'] = 1\n",
    "    print(df.shape)\n",
    "    print(df.Class.value_counts())\n",
    "    return df.drop('Class', axis=1), df['Class']"
   ]
  },
  {
   "cell_type": "code",
   "execution_count": 9,
   "metadata": {},
   "outputs": [],
   "source": [
    "def compare(clfs):  # 比较不同分类器的结果\n",
    "    for clf in clfs:\n",
    "        y_pred = clf.predict(X_test)\n",
    "        print(pd.Series(y_pred).value_counts())\n",
    "        print(recall_score(y_test, y_pred, pos_label=-1),\n",
    "              precision_score(y_test, y_pred, pos_label=-1),\n",
    "              f1_score(y_test, y_pred, pos_label=-1), '\\n')\n",
    "    return"
   ]
  },
  {
   "cell_type": "code",
   "execution_count": 10,
   "metadata": {},
   "outputs": [
    {
     "name": "stdout",
     "output_type": "stream",
     "text": [
      "(284807, 31)\n",
      " 1    284315\n",
      "-1       492\n",
      "Name: Class, dtype: int64\n",
      " 1    85296\n",
      "-1      147\n",
      "Name: Class, dtype: int64\n",
      " 1    85323\n",
      "-1      120\n",
      "dtype: int64\n",
      "0.7414965986394558 0.9083333333333333 0.8164794007490637 \n",
      "\n",
      " 1    85356\n",
      "-1       87\n",
      "dtype: int64\n",
      "0.564625850340136 0.9540229885057471 0.7094017094017092 \n",
      "\n"
     ]
    }
   ],
   "source": [
    "if __name__ == '__main__':\n",
    "    X, y = load_creditcard_data()\n",
    "    X_train, X_test, y_train, y_test = train_test_split(X, y, test_size=0.3, random_state=0)\n",
    "    print(pd.Series(y_test).value_counts())\n",
    "\n",
    "    clf1 = AdaBoostClassifier(n_estimators=100)\n",
    "    clf1.fit(X_train, y_train)\n",
    "\n",
    "    clf2 = AdaCostClassifier(n_estimators=100)\n",
    "    clf2.fit(X_train, y_train)\n",
    "\n",
    "    compare([clf1, clf2])"
   ]
  },
  {
   "cell_type": "markdown",
   "metadata": {},
   "source": [
    "https://www.jianshu.com/p/0bfce1806235"
   ]
  }
 ],
 "metadata": {
  "kernelspec": {
   "display_name": "Python 3",
   "language": "python",
   "name": "python3"
  },
  "language_info": {
   "codemirror_mode": {
    "name": "ipython",
    "version": 3
   },
   "file_extension": ".py",
   "mimetype": "text/x-python",
   "name": "python",
   "nbconvert_exporter": "python",
   "pygments_lexer": "ipython3",
   "version": "3.6.6"
  }
 },
 "nbformat": 4,
 "nbformat_minor": 2
}
