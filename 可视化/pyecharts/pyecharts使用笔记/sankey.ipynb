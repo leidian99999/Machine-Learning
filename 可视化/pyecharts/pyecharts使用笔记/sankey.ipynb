{
 "cells": [
  {
   "cell_type": "code",
   "execution_count": 11,
   "metadata": {
    "ExecuteTime": {
     "end_time": "2019-10-28T07:52:13.660311Z",
     "start_time": "2019-10-28T07:52:09.231131Z"
    }
   },
   "outputs": [],
   "source": [
    "import pandas as pd\n",
    "from pyecharts.charts import Page,Sankey\n",
    "from pyecharts import options as opts"
   ]
  },
  {
   "cell_type": "code",
   "execution_count": 12,
   "metadata": {
    "ExecuteTime": {
     "end_time": "2019-10-28T07:54:24.495867Z",
     "start_time": "2019-10-28T07:54:20.160608Z"
    }
   },
   "outputs": [],
   "source": [
    "data = pd.read_excel(\"D:/GitHub/Machine_Learning/可视化/pyecharts/test1.xlsx\",header=None)"
   ]
  },
  {
   "cell_type": "code",
   "execution_count": 18,
   "metadata": {
    "ExecuteTime": {
     "end_time": "2019-10-28T07:56:58.142417Z",
     "start_time": "2019-10-28T07:56:58.136465Z"
    }
   },
   "outputs": [],
   "source": [
    "# 生成nodes\n",
    "nodes = []\n",
    "nodes.append({'name':'总支出'})\n",
    "for i in data[0].unique():\n",
    "    dic = {}\n",
    "    dic['name'] = i\n",
    "    nodes.append(dic)"
   ]
  },
  {
   "cell_type": "code",
   "execution_count": 26,
   "metadata": {
    "ExecuteTime": {
     "end_time": "2019-10-28T08:11:07.346184Z",
     "start_time": "2019-10-28T08:11:07.339201Z"
    }
   },
   "outputs": [
    {
     "data": {
      "text/plain": [
       "[{'name': '总支出'},\n",
       " {'name': '牛仔裤'},\n",
       " {'name': '毛衣'},\n",
       " {'name': '短袖'},\n",
       " {'name': '皮鞋'},\n",
       " {'name': '衬衫'},\n",
       " {'name': '地铁'},\n",
       " {'name': '火车'},\n",
       " {'name': '飞机'},\n",
       " {'name': '上网'},\n",
       " {'name': 'KTV'},\n",
       " {'name': '游乐园'},\n",
       " {'name': '电影票'},\n",
       " {'name': '外卖'},\n",
       " {'name': '奶茶'},\n",
       " {'name': '图书'},\n",
       " {'name': '付费课程'},\n",
       " {'name': '感冒药'},\n",
       " {'name': '拔牙'},\n",
       " {'name': '健身'},\n",
       " {'name': '滑雪'},\n",
       " {'name': '瑜伽'},\n",
       " {'name': '服饰'},\n",
       " {'name': '交通'},\n",
       " {'name': '餐饮'},\n",
       " {'name': '娱乐'},\n",
       " {'name': '教育'},\n",
       " {'name': '医疗'},\n",
       " {'name': '体育'},\n",
       " {'name': '衣食住行'},\n",
       " {'name': '娱乐教育'},\n",
       " {'name': '医疗体育'}]"
      ]
     },
     "execution_count": 26,
     "metadata": {},
     "output_type": "execute_result"
    }
   ],
   "source": [
    "nodes"
   ]
  },
  {
   "cell_type": "code",
   "execution_count": 19,
   "metadata": {
    "ExecuteTime": {
     "end_time": "2019-10-28T07:57:17.203322Z",
     "start_time": "2019-10-28T07:57:17.198336Z"
    }
   },
   "outputs": [],
   "source": [
    "# 生成links\n",
    "links = []\n",
    "for i in data.values:\n",
    "    dic = {}\n",
    "    dic['source'] = i[0]\n",
    "    dic['target'] = i[1]\n",
    "    dic['value'] = i[2]\n",
    "    links.append(dic)"
   ]
  },
  {
   "cell_type": "code",
   "execution_count": 27,
   "metadata": {
    "ExecuteTime": {
     "end_time": "2019-10-28T08:15:59.170430Z",
     "start_time": "2019-10-28T08:15:59.163449Z"
    }
   },
   "outputs": [
    {
     "data": {
      "text/plain": [
       "[{'source': '牛仔裤', 'target': '服饰', 'value': 500},\n",
       " {'source': '毛衣', 'target': '服饰', 'value': 800},\n",
       " {'source': '短袖', 'target': '服饰', 'value': 400},\n",
       " {'source': '皮鞋', 'target': '服饰', 'value': 1000},\n",
       " {'source': '衬衫', 'target': '服饰', 'value': 700},\n",
       " {'source': '地铁', 'target': '交通', 'value': 200},\n",
       " {'source': '火车', 'target': '交通', 'value': 650},\n",
       " {'source': '飞机', 'target': '交通', 'value': 2000},\n",
       " {'source': '上网', 'target': '娱乐', 'value': 300},\n",
       " {'source': 'KTV', 'target': '娱乐', 'value': 500},\n",
       " {'source': '游乐园', 'target': '娱乐', 'value': 300},\n",
       " {'source': '电影票', 'target': '娱乐', 'value': 600},\n",
       " {'source': '外卖', 'target': '餐饮', 'value': 1200},\n",
       " {'source': '奶茶', 'target': '餐饮', 'value': 200},\n",
       " {'source': '图书', 'target': '教育', 'value': 700},\n",
       " {'source': '付费课程', 'target': '教育', 'value': 1500},\n",
       " {'source': '感冒药', 'target': '医疗', 'value': 100},\n",
       " {'source': '拔牙', 'target': '医疗', 'value': 1200},\n",
       " {'source': '健身', 'target': '体育', 'value': 1500},\n",
       " {'source': '滑雪', 'target': '体育', 'value': 300},\n",
       " {'source': '瑜伽', 'target': '体育', 'value': 800},\n",
       " {'source': '服饰', 'target': '衣食住行', 'value': 3400},\n",
       " {'source': '交通', 'target': '衣食住行', 'value': 2850},\n",
       " {'source': '餐饮', 'target': '衣食住行', 'value': 1400},\n",
       " {'source': '娱乐', 'target': '娱乐教育', 'value': 1700},\n",
       " {'source': '教育', 'target': '娱乐教育', 'value': 2200},\n",
       " {'source': '医疗', 'target': '医疗体育', 'value': 1300},\n",
       " {'source': '体育', 'target': '医疗体育', 'value': 1800},\n",
       " {'source': '衣食住行', 'target': '总支出', 'value': 7650},\n",
       " {'source': '娱乐教育', 'target': '总支出', 'value': 3900},\n",
       " {'source': '医疗体育', 'target': '总支出', 'value': 3100}]"
      ]
     },
     "execution_count": 27,
     "metadata": {},
     "output_type": "execute_result"
    }
   ],
   "source": [
    "links"
   ]
  },
  {
   "cell_type": "code",
   "execution_count": 25,
   "metadata": {
    "ExecuteTime": {
     "end_time": "2019-10-28T08:00:55.047450Z",
     "start_time": "2019-10-28T08:00:55.007555Z"
    }
   },
   "outputs": [
    {
     "data": {
      "text/plain": [
       "'D:\\\\GitHub\\\\Machine_Learning\\\\可视化\\\\pyecharts\\\\pyecharts使用笔记\\\\result.html'"
      ]
     },
     "execution_count": 25,
     "metadata": {},
     "output_type": "execute_result"
    }
   ],
   "source": [
    "# pyecharts 所有方法均支持链式调用。\n",
    "c = (Sankey().add(\"费用/元\",\n",
    "                  nodes,\n",
    "                  links,\n",
    "                  linestyle_opt = opts.LineStyleOpts(opacity=0.2, curve=0.5, color=\"source\",type_=\"dotted\"),\n",
    "                  label_opts=opts.LabelOpts(position=\"right\",),\n",
    "                 )\n",
    "     .set_global_opts(title_opts=opts.TitleOpts(title=\"我的生活支出一览\"))\n",
    "    )\n",
    "# 输出html可视化结果\n",
    "c.render('result.html')"
   ]
  },
  {
   "cell_type": "code",
   "execution_count": null,
   "metadata": {},
   "outputs": [],
   "source": []
  }
 ],
 "metadata": {
  "kernelspec": {
   "display_name": "Python 3",
   "language": "python",
   "name": "python3"
  },
  "language_info": {
   "codemirror_mode": {
    "name": "ipython",
    "version": 3
   },
   "file_extension": ".py",
   "mimetype": "text/x-python",
   "name": "python",
   "nbconvert_exporter": "python",
   "pygments_lexer": "ipython3",
   "version": "3.6.5"
  }
 },
 "nbformat": 4,
 "nbformat_minor": 2
}
