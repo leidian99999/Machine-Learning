{
 "cells": [
  {
   "cell_type": "code",
   "execution_count": 1,
   "metadata": {
    "ExecuteTime": {
     "end_time": "2019-10-29T04:11:41.600959Z",
     "start_time": "2019-10-29T04:11:40.884993Z"
    }
   },
   "outputs": [
    {
     "name": "stderr",
     "output_type": "stream",
     "text": [
      "ERROR:lml.utils:failed to import pyecharts_snapshot\n",
      "Traceback (most recent call last):\n",
      "  File \"d:\\python\\virtualenvs\\jupy36\\lib\\site-packages\\lml\\utils.py\", line 43, in do_import\n",
      "    plugin_module = __import__(plugin_module_name)\n",
      "ModuleNotFoundError: No module named 'pyecharts_snapshot'\n"
     ]
    }
   ],
   "source": [
    "# 导入相关库\n",
    "import pandas as pd\n",
    "from pyecharts import Sankey\n",
    "pd.set_option('display.max_rows', 500)"
   ]
  },
  {
   "cell_type": "code",
   "execution_count": 2,
   "metadata": {
    "ExecuteTime": {
     "end_time": "2019-10-29T04:11:42.029327Z",
     "start_time": "2019-10-29T04:11:41.602947Z"
    }
   },
   "outputs": [],
   "source": [
    "# data = pd.read_csv(r\"D:\\GitHub\\datasets\\YTX\\info\\data_main_10k1gai2.csv\")\n",
    "data = pd.read_excel(\"D:/GitHub/datasets/YTX/汇总表/9月各线路进出站流量汇总.xlsx\")"
   ]
  },
  {
   "cell_type": "code",
   "execution_count": 3,
   "metadata": {
    "ExecuteTime": {
     "end_time": "2019-10-29T04:11:42.040332Z",
     "start_time": "2019-10-29T04:11:42.031320Z"
    }
   },
   "outputs": [
    {
     "data": {
      "text/plain": [
       "(447, 3)"
      ]
     },
     "execution_count": 3,
     "metadata": {},
     "output_type": "execute_result"
    }
   ],
   "source": [
    "data.shape"
   ]
  },
  {
   "cell_type": "code",
   "execution_count": 4,
   "metadata": {
    "ExecuteTime": {
     "end_time": "2019-10-29T04:11:42.152307Z",
     "start_time": "2019-10-29T04:11:42.043292Z"
    },
    "scrolled": true
   },
   "outputs": [
    {
     "name": "stdout",
     "output_type": "stream",
     "text": [
      "<class 'pandas.core.frame.DataFrame'>\n",
      "RangeIndex: 447 entries, 0 to 446\n",
      "Data columns (total 3 columns):\n",
      "entry_line_id    447 non-null int64\n",
      "exit_line_id     447 non-null int64\n",
      "jishu            447 non-null int64\n",
      "dtypes: int64(3)\n",
      "memory usage: 10.6 KB\n"
     ]
    }
   ],
   "source": [
    "data.info()"
   ]
  },
  {
   "cell_type": "markdown",
   "metadata": {},
   "source": [
    "#### 提取数据"
   ]
  },
  {
   "cell_type": "code",
   "execution_count": 5,
   "metadata": {
    "ExecuteTime": {
     "end_time": "2019-10-29T04:11:42.240668Z",
     "start_time": "2019-10-29T04:11:42.158281Z"
    }
   },
   "outputs": [],
   "source": [
    "# df = data[[\"entry_station_name\",\"entry_line\",\"entry_所在区\",\"exit_line\",\"exit_所在区\",\"exit_station_name\",\"status\"]]\n",
    "df = data.copy()"
   ]
  },
  {
   "cell_type": "code",
   "execution_count": 6,
   "metadata": {
    "ExecuteTime": {
     "end_time": "2019-10-29T04:11:42.349023Z",
     "start_time": "2019-10-29T04:11:42.242659Z"
    }
   },
   "outputs": [],
   "source": [
    "df[\"entry_line_id\"] = df[\"entry_line_id\"].map(lambda x:str(x))\n",
    "df[\"exit_line_id\"] = df[\"exit_line_id\"].map(lambda x:str(x))"
   ]
  },
  {
   "cell_type": "code",
   "execution_count": 7,
   "metadata": {
    "ExecuteTime": {
     "end_time": "2019-10-29T04:11:42.472846Z",
     "start_time": "2019-10-29T04:11:42.349976Z"
    }
   },
   "outputs": [
    {
     "name": "stdout",
     "output_type": "stream",
     "text": [
      "<class 'pandas.core.frame.DataFrame'>\n",
      "RangeIndex: 447 entries, 0 to 446\n",
      "Data columns (total 3 columns):\n",
      "entry_line_id    447 non-null object\n",
      "exit_line_id     447 non-null object\n",
      "jishu            447 non-null int64\n",
      "dtypes: int64(1), object(2)\n",
      "memory usage: 10.6+ KB\n"
     ]
    }
   ],
   "source": [
    "df.info()"
   ]
  },
  {
   "cell_type": "code",
   "execution_count": 8,
   "metadata": {
    "ExecuteTime": {
     "end_time": "2019-10-29T04:11:42.575578Z",
     "start_time": "2019-10-29T04:11:42.492791Z"
    }
   },
   "outputs": [],
   "source": [
    "dict_stations = {\"1\":\"1号线\",\"2\":\"2号线\",\"4\":\"4号线\",\"5\":\"5号线\",\"6\":\"6号线\",\"7\":\"7号线\",\"8\":\"8号线\",\n",
    "\"9\":\"9号线\",\"10\":\"10号线\",\"13\":\"13号线\",\"14\":\"14号线\",\"15\":\"15号线\",\"16\":\"16号线\",\"90\":\"10号线\",\n",
    "\"91\":\"S1线\",\"92\":\"燕房线\",\"93\":\"大兴线\",\"94\":\"昌平线\",\"95\":\"房山线\",\"96\":\"亦庄线\",\"97\":\"八通线\",\n",
    "\"98\":\"首都机场线\",\"83\":\"S2线\",\"84\":\"怀柔密云线\",\"85\":\"副中心线\",\n",
    "\"88\":\"大兴机场线\",\"89\":\"西郊线\"}\n",
    "group_commuting_start = df.replace(dict_stations)\n",
    "# dict_stations ={\"10号线二期发行中心\":\"10号线\",\"14号线发行中心\":\"14号线\",\"8号线（奥运专线）\":\"8号线\"}\n",
    "# df = df.replace(dict_stations)"
   ]
  },
  {
   "cell_type": "code",
   "execution_count": 9,
   "metadata": {
    "ExecuteTime": {
     "end_time": "2019-10-29T04:11:42.693811Z",
     "start_time": "2019-10-29T04:11:42.578562Z"
    }
   },
   "outputs": [],
   "source": [
    "# df_commuting_start = df[df[\"status\"] == \"通勤出发\"].reset_index(drop=True)\n",
    "# df_commuting_start.shape"
   ]
  },
  {
   "cell_type": "code",
   "execution_count": 10,
   "metadata": {
    "ExecuteTime": {
     "end_time": "2019-10-29T04:11:42.813961Z",
     "start_time": "2019-10-29T04:11:42.703772Z"
    }
   },
   "outputs": [],
   "source": [
    "# df_commuting_start[(df_commuting_start[\"entry_line\"] == \"10号线\") & (df_commuting_start[\"exit_line\"] == \"S1线\")]"
   ]
  },
  {
   "cell_type": "code",
   "execution_count": 11,
   "metadata": {
    "ExecuteTime": {
     "end_time": "2019-10-29T04:11:42.908029Z",
     "start_time": "2019-10-29T04:11:42.818948Z"
    }
   },
   "outputs": [],
   "source": [
    "# group_commuting_start = df_commuting_start.groupby([\"entry_line\",\"exit_line\"])[\"exit_line\"].agg([('jishu','count')]).reset_index()\n",
    "# group_commuting_start.shape"
   ]
  },
  {
   "cell_type": "code",
   "execution_count": 12,
   "metadata": {
    "ExecuteTime": {
     "end_time": "2019-10-29T04:11:43.022649Z",
     "start_time": "2019-10-29T04:11:42.911034Z"
    }
   },
   "outputs": [],
   "source": [
    "targets = group_commuting_start"
   ]
  },
  {
   "cell_type": "code",
   "execution_count": 13,
   "metadata": {
    "ExecuteTime": {
     "end_time": "2019-10-29T04:11:43.163510Z",
     "start_time": "2019-10-29T04:11:43.028636Z"
    }
   },
   "outputs": [
    {
     "data": {
      "text/html": [
       "<div>\n",
       "<style scoped>\n",
       "    .dataframe tbody tr th:only-of-type {\n",
       "        vertical-align: middle;\n",
       "    }\n",
       "\n",
       "    .dataframe tbody tr th {\n",
       "        vertical-align: top;\n",
       "    }\n",
       "\n",
       "    .dataframe thead th {\n",
       "        text-align: right;\n",
       "    }\n",
       "</style>\n",
       "<table border=\"1\" class=\"dataframe\">\n",
       "  <thead>\n",
       "    <tr style=\"text-align: right;\">\n",
       "      <th></th>\n",
       "      <th>entry_line_id</th>\n",
       "      <th>exit_line_id</th>\n",
       "      <th>jishu</th>\n",
       "    </tr>\n",
       "  </thead>\n",
       "  <tbody>\n",
       "    <tr>\n",
       "      <th>0</th>\n",
       "      <td>4号线</td>\n",
       "      <td>燕房线</td>\n",
       "      <td>6037</td>\n",
       "    </tr>\n",
       "    <tr>\n",
       "      <th>1</th>\n",
       "      <td>7号线</td>\n",
       "      <td>S1线</td>\n",
       "      <td>3410</td>\n",
       "    </tr>\n",
       "    <tr>\n",
       "      <th>2</th>\n",
       "      <td>8号线</td>\n",
       "      <td>4号线</td>\n",
       "      <td>185476</td>\n",
       "    </tr>\n",
       "    <tr>\n",
       "      <th>3</th>\n",
       "      <td>13号线</td>\n",
       "      <td>9号线</td>\n",
       "      <td>63185</td>\n",
       "    </tr>\n",
       "    <tr>\n",
       "      <th>4</th>\n",
       "      <td>1号线</td>\n",
       "      <td>8号线</td>\n",
       "      <td>96911</td>\n",
       "    </tr>\n",
       "  </tbody>\n",
       "</table>\n",
       "</div>"
      ],
      "text/plain": [
       "  entry_line_id exit_line_id   jishu\n",
       "0           4号线          燕房线    6037\n",
       "1           7号线          S1线    3410\n",
       "2           8号线          4号线  185476\n",
       "3          13号线          9号线   63185\n",
       "4           1号线          8号线   96911"
      ]
     },
     "execution_count": 13,
     "metadata": {},
     "output_type": "execute_result"
    }
   ],
   "source": [
    "targets.head()"
   ]
  },
  {
   "cell_type": "code",
   "execution_count": 14,
   "metadata": {
    "ExecuteTime": {
     "end_time": "2019-10-29T04:11:43.266694Z",
     "start_time": "2019-10-29T04:11:43.166501Z"
    }
   },
   "outputs": [],
   "source": [
    "targets[\"entry_line_id\"] = targets[\"entry_line_id\"] + \"_in\"\n",
    "targets[\"exit_line_id\"] = targets[\"exit_line_id\"] + \"_out\""
   ]
  },
  {
   "cell_type": "code",
   "execution_count": 15,
   "metadata": {
    "ExecuteTime": {
     "end_time": "2019-10-29T04:11:43.422951Z",
     "start_time": "2019-10-29T04:11:43.268538Z"
    }
   },
   "outputs": [],
   "source": [
    "targets = targets.sort_values(by = \"jishu\",ascending = False)"
   ]
  },
  {
   "cell_type": "code",
   "execution_count": 16,
   "metadata": {
    "ExecuteTime": {
     "end_time": "2019-10-29T04:11:43.558598Z",
     "start_time": "2019-10-29T04:11:43.429931Z"
    }
   },
   "outputs": [],
   "source": [
    "targets[\"cumsum\"] = targets[\"jishu\"].cumsum() # 新生成累加列\n",
    "targets[\"cum_percent\"] = 100*targets[\"cumsum\"]/targets[\"jishu\"].sum()\n",
    "targets = targets.reset_index(drop=True)"
   ]
  },
  {
   "cell_type": "code",
   "execution_count": 28,
   "metadata": {
    "ExecuteTime": {
     "end_time": "2019-10-29T04:13:30.306274Z",
     "start_time": "2019-10-29T04:13:30.292312Z"
    },
    "scrolled": true
   },
   "outputs": [
    {
     "data": {
      "text/html": [
       "<div>\n",
       "<style scoped>\n",
       "    .dataframe tbody tr th:only-of-type {\n",
       "        vertical-align: middle;\n",
       "    }\n",
       "\n",
       "    .dataframe tbody tr th {\n",
       "        vertical-align: top;\n",
       "    }\n",
       "\n",
       "    .dataframe thead th {\n",
       "        text-align: right;\n",
       "    }\n",
       "</style>\n",
       "<table border=\"1\" class=\"dataframe\">\n",
       "  <thead>\n",
       "    <tr style=\"text-align: right;\">\n",
       "      <th></th>\n",
       "      <th>entry_line_id</th>\n",
       "      <th>exit_line_id</th>\n",
       "      <th>jishu</th>\n",
       "      <th>cumsum</th>\n",
       "      <th>cum_percent</th>\n",
       "    </tr>\n",
       "  </thead>\n",
       "  <tbody>\n",
       "    <tr>\n",
       "      <th>0</th>\n",
       "      <td>6号线_in</td>\n",
       "      <td>6号线_out</td>\n",
       "      <td>1789490</td>\n",
       "      <td>1789490</td>\n",
       "      <td>3.255572</td>\n",
       "    </tr>\n",
       "    <tr>\n",
       "      <th>12</th>\n",
       "      <td>6号线_in</td>\n",
       "      <td>10号线_out</td>\n",
       "      <td>541772</td>\n",
       "      <td>11359968</td>\n",
       "      <td>20.666889</td>\n",
       "    </tr>\n",
       "    <tr>\n",
       "      <th>18</th>\n",
       "      <td>6号线_in</td>\n",
       "      <td>14号线_out</td>\n",
       "      <td>443400</td>\n",
       "      <td>14289607</td>\n",
       "      <td>25.996704</td>\n",
       "    </tr>\n",
       "    <tr>\n",
       "      <th>26</th>\n",
       "      <td>6号线_in</td>\n",
       "      <td>2号线_out</td>\n",
       "      <td>393934</td>\n",
       "      <td>17566550</td>\n",
       "      <td>31.958360</td>\n",
       "    </tr>\n",
       "    <tr>\n",
       "      <th>34</th>\n",
       "      <td>6号线_in</td>\n",
       "      <td>4号线_out</td>\n",
       "      <td>328376</td>\n",
       "      <td>20416051</td>\n",
       "      <td>37.142382</td>\n",
       "    </tr>\n",
       "    <tr>\n",
       "      <th>37</th>\n",
       "      <td>6号线_in</td>\n",
       "      <td>5号线_out</td>\n",
       "      <td>316348</td>\n",
       "      <td>21380403</td>\n",
       "      <td>38.896802</td>\n",
       "    </tr>\n",
       "    <tr>\n",
       "      <th>63</th>\n",
       "      <td>6号线_in</td>\n",
       "      <td>10号线_out</td>\n",
       "      <td>239149</td>\n",
       "      <td>28584004</td>\n",
       "      <td>52.002122</td>\n",
       "    </tr>\n",
       "    <tr>\n",
       "      <th>82</th>\n",
       "      <td>6号线_in</td>\n",
       "      <td>1号线_out</td>\n",
       "      <td>214699</td>\n",
       "      <td>32851285</td>\n",
       "      <td>59.765474</td>\n",
       "    </tr>\n",
       "    <tr>\n",
       "      <th>87</th>\n",
       "      <td>6号线_in</td>\n",
       "      <td>9号线_out</td>\n",
       "      <td>203128</td>\n",
       "      <td>33879927</td>\n",
       "      <td>61.636855</td>\n",
       "    </tr>\n",
       "    <tr>\n",
       "      <th>102</th>\n",
       "      <td>6号线_in</td>\n",
       "      <td>8号线_out</td>\n",
       "      <td>183108</td>\n",
       "      <td>36727332</td>\n",
       "      <td>66.817064</td>\n",
       "    </tr>\n",
       "    <tr>\n",
       "      <th>129</th>\n",
       "      <td>6号线_in</td>\n",
       "      <td>7号线_out</td>\n",
       "      <td>138760</td>\n",
       "      <td>40993200</td>\n",
       "      <td>74.577844</td>\n",
       "    </tr>\n",
       "    <tr>\n",
       "      <th>157</th>\n",
       "      <td>6号线_in</td>\n",
       "      <td>13号线_out</td>\n",
       "      <td>111297</td>\n",
       "      <td>44452775</td>\n",
       "      <td>80.871758</td>\n",
       "    </tr>\n",
       "    <tr>\n",
       "      <th>173</th>\n",
       "      <td>6号线_in</td>\n",
       "      <td>15号线_out</td>\n",
       "      <td>98580</td>\n",
       "      <td>46128315</td>\n",
       "      <td>83.920023</td>\n",
       "    </tr>\n",
       "    <tr>\n",
       "      <th>186</th>\n",
       "      <td>6号线_in</td>\n",
       "      <td>大兴线_out</td>\n",
       "      <td>92249</td>\n",
       "      <td>47370799</td>\n",
       "      <td>86.180442</td>\n",
       "    </tr>\n",
       "    <tr>\n",
       "      <th>210</th>\n",
       "      <td>6号线_in</td>\n",
       "      <td>昌平线_out</td>\n",
       "      <td>69739</td>\n",
       "      <td>49244256</td>\n",
       "      <td>89.588772</td>\n",
       "    </tr>\n",
       "    <tr>\n",
       "      <th>229</th>\n",
       "      <td>6号线_in</td>\n",
       "      <td>亦庄线_out</td>\n",
       "      <td>62617</td>\n",
       "      <td>50494155</td>\n",
       "      <td>91.862681</td>\n",
       "    </tr>\n",
       "    <tr>\n",
       "      <th>243</th>\n",
       "      <td>6号线_in</td>\n",
       "      <td>S1线_out</td>\n",
       "      <td>57069</td>\n",
       "      <td>51333989</td>\n",
       "      <td>93.390568</td>\n",
       "    </tr>\n",
       "    <tr>\n",
       "      <th>252</th>\n",
       "      <td>6号线_in</td>\n",
       "      <td>房山线_out</td>\n",
       "      <td>50420</td>\n",
       "      <td>51816895</td>\n",
       "      <td>94.269106</td>\n",
       "    </tr>\n",
       "    <tr>\n",
       "      <th>282</th>\n",
       "      <td>6号线_in</td>\n",
       "      <td>八通线_out</td>\n",
       "      <td>34999</td>\n",
       "      <td>53088103</td>\n",
       "      <td>96.581781</td>\n",
       "    </tr>\n",
       "    <tr>\n",
       "      <th>296</th>\n",
       "      <td>6号线_in</td>\n",
       "      <td>16号线_out</td>\n",
       "      <td>28549</td>\n",
       "      <td>53535455</td>\n",
       "      <td>97.395637</td>\n",
       "    </tr>\n",
       "    <tr>\n",
       "      <th>397</th>\n",
       "      <td>6号线_in</td>\n",
       "      <td>燕房线_out</td>\n",
       "      <td>4006</td>\n",
       "      <td>54886810</td>\n",
       "      <td>99.854122</td>\n",
       "    </tr>\n",
       "  </tbody>\n",
       "</table>\n",
       "</div>"
      ],
      "text/plain": [
       "    entry_line_id exit_line_id    jishu    cumsum  cum_percent\n",
       "0          6号线_in      6号线_out  1789490   1789490     3.255572\n",
       "12         6号线_in     10号线_out   541772  11359968    20.666889\n",
       "18         6号线_in     14号线_out   443400  14289607    25.996704\n",
       "26         6号线_in      2号线_out   393934  17566550    31.958360\n",
       "34         6号线_in      4号线_out   328376  20416051    37.142382\n",
       "37         6号线_in      5号线_out   316348  21380403    38.896802\n",
       "63         6号线_in     10号线_out   239149  28584004    52.002122\n",
       "82         6号线_in      1号线_out   214699  32851285    59.765474\n",
       "87         6号线_in      9号线_out   203128  33879927    61.636855\n",
       "102        6号线_in      8号线_out   183108  36727332    66.817064\n",
       "129        6号线_in      7号线_out   138760  40993200    74.577844\n",
       "157        6号线_in     13号线_out   111297  44452775    80.871758\n",
       "173        6号线_in     15号线_out    98580  46128315    83.920023\n",
       "186        6号线_in      大兴线_out    92249  47370799    86.180442\n",
       "210        6号线_in      昌平线_out    69739  49244256    89.588772\n",
       "229        6号线_in      亦庄线_out    62617  50494155    91.862681\n",
       "243        6号线_in      S1线_out    57069  51333989    93.390568\n",
       "252        6号线_in      房山线_out    50420  51816895    94.269106\n",
       "282        6号线_in      八通线_out    34999  53088103    96.581781\n",
       "296        6号线_in     16号线_out    28549  53535455    97.395637\n",
       "397        6号线_in      燕房线_out     4006  54886810    99.854122"
      ]
     },
     "execution_count": 28,
     "metadata": {},
     "output_type": "execute_result"
    }
   ],
   "source": [
    "targets[targets[\"entry_line_id\"] == \"6号线_in\"]"
   ]
  },
  {
   "cell_type": "code",
   "execution_count": 18,
   "metadata": {
    "ExecuteTime": {
     "end_time": "2019-10-29T04:11:43.795738Z",
     "start_time": "2019-10-29T04:11:43.747853Z"
    }
   },
   "outputs": [],
   "source": [
    "# targets = targets[targets[\"cum_percent\"] <= 100]"
   ]
  },
  {
   "cell_type": "code",
   "execution_count": 19,
   "metadata": {
    "ExecuteTime": {
     "end_time": "2019-10-29T04:11:43.901439Z",
     "start_time": "2019-10-29T04:11:43.797716Z"
    }
   },
   "outputs": [
    {
     "data": {
      "text/plain": [
       "(447, 5)"
      ]
     },
     "execution_count": 19,
     "metadata": {},
     "output_type": "execute_result"
    }
   ],
   "source": [
    "targets.shape"
   ]
  },
  {
   "cell_type": "code",
   "execution_count": 20,
   "metadata": {
    "ExecuteTime": {
     "end_time": "2019-10-29T04:11:44.015307Z",
     "start_time": "2019-10-29T04:11:43.903434Z"
    }
   },
   "outputs": [],
   "source": [
    "nodes_list_in  = list(targets.entry_line_id.unique())\n",
    "nodes_list_out = list(targets.exit_line_id.unique())\n",
    "nodes_list = nodes_list_in + nodes_list_out"
   ]
  },
  {
   "cell_type": "code",
   "execution_count": 21,
   "metadata": {
    "ExecuteTime": {
     "end_time": "2019-10-29T04:11:44.129517Z",
     "start_time": "2019-10-29T04:11:44.017268Z"
    }
   },
   "outputs": [
    {
     "data": {
      "text/plain": [
       "26"
      ]
     },
     "execution_count": 21,
     "metadata": {},
     "output_type": "execute_result"
    }
   ],
   "source": [
    "len(nodes_list_in)"
   ]
  },
  {
   "cell_type": "code",
   "execution_count": 22,
   "metadata": {
    "ExecuteTime": {
     "end_time": "2019-10-29T04:11:44.224359Z",
     "start_time": "2019-10-29T04:11:44.136498Z"
    }
   },
   "outputs": [],
   "source": [
    "# 生成nodes\n",
    "nodes = []\n",
    "# nodes.append({'name':'总支出'})\n",
    "for i in nodes_list:\n",
    "    dic = {}\n",
    "    dic['name'] = i\n",
    "    nodes.append(dic)"
   ]
  },
  {
   "cell_type": "code",
   "execution_count": 23,
   "metadata": {
    "ExecuteTime": {
     "end_time": "2019-10-29T04:11:44.335693Z",
     "start_time": "2019-10-29T04:11:44.228345Z"
    }
   },
   "outputs": [],
   "source": [
    "# print(nodes)"
   ]
  },
  {
   "cell_type": "code",
   "execution_count": 24,
   "metadata": {
    "ExecuteTime": {
     "end_time": "2019-10-29T04:11:44.450715Z",
     "start_time": "2019-10-29T04:11:44.348660Z"
    }
   },
   "outputs": [],
   "source": [
    "# 生成links\n",
    "links = []\n",
    "for i in targets.values:\n",
    "    dic = {}\n",
    "    dic['source'] = i[0]\n",
    "    dic['target'] = i[1]\n",
    "    dic['value'] = i[2]\n",
    "    links.append(dic)"
   ]
  },
  {
   "cell_type": "code",
   "execution_count": 25,
   "metadata": {
    "ExecuteTime": {
     "end_time": "2019-10-29T04:11:44.573005Z",
     "start_time": "2019-10-29T04:11:44.459687Z"
    }
   },
   "outputs": [],
   "source": [
    "# print(links)"
   ]
  },
  {
   "cell_type": "code",
   "execution_count": 26,
   "metadata": {
    "ExecuteTime": {
     "end_time": "2019-10-29T04:11:44.765299Z",
     "start_time": "2019-10-29T04:11:44.579981Z"
    }
   },
   "outputs": [],
   "source": [
    "# # pyecharts 所有方法均支持链式调用。\n",
    "# c = (Sankey().add(\"客流量/人\",nodes,links,\n",
    "#             linestyle_opt=opts.LineStyleOpts(width = 50, # 线宽\n",
    "#                                              opacity=0.2,  # 线透明度\n",
    "#                                              curve=0.5,  # 线弯曲度，0表示完全不弯曲\n",
    "#                                              color=\"target\",\n",
    "#                                              type_=\"solid\" # 'solid', 'dashed', 'dotted'\n",
    "#                                             ), \n",
    "#             label_opts=opts.LabelOpts(position=\"right\",#'top','left','right','bottom','inside','insideLeft'，'insideRight'# 'insideTop'，'insideBottom'， 'insideTopLeft'，'insideBottomLeft'# 'insideTopRight'，'insideBottomRight'\n",
    "#                                      font_style=\"italic\", # 'normal'，'italic'，'oblique'\n",
    "#                                       font_size = 14\n",
    "#                                      ),\n",
    "#                  ).set_global_opts(title_opts=opts.TitleOpts(title=\"19年1-6月客流量\")))\n",
    "# # 输出html可视化结果\n",
    "# c.render('result1.html')"
   ]
  },
  {
   "cell_type": "code",
   "execution_count": 27,
   "metadata": {
    "ExecuteTime": {
     "end_time": "2019-10-29T04:11:44.966087Z",
     "start_time": "2019-10-29T04:11:44.772273Z"
    }
   },
   "outputs": [],
   "source": [
    "sankey = Sankey(\"19年9月主要线路客流走向\", width=1200, height=800)\n",
    "sankey.add(\n",
    "    \"sankey\",\n",
    "    nodes,\n",
    "    links,\n",
    "    line_opacity=0.2,\n",
    "    line_curve=0.5,\n",
    "    line_color=\"target\",\n",
    "    is_label_show = True,\n",
    "    is_legend_show = False,\n",
    "    label_pos=\"right\",\n",
    ")\n",
    "sankey.render(\"19年9月主要线路客流走向100%.html\")"
   ]
  },
  {
   "cell_type": "code",
   "execution_count": null,
   "metadata": {},
   "outputs": [],
   "source": []
  }
 ],
 "metadata": {
  "kernelspec": {
   "display_name": "Python 3",
   "language": "python",
   "name": "python3"
  },
  "language_info": {
   "codemirror_mode": {
    "name": "ipython",
    "version": 3
   },
   "file_extension": ".py",
   "mimetype": "text/x-python",
   "name": "python",
   "nbconvert_exporter": "python",
   "pygments_lexer": "ipython3",
   "version": "3.6.5"
  }
 },
 "nbformat": 4,
 "nbformat_minor": 2
}
