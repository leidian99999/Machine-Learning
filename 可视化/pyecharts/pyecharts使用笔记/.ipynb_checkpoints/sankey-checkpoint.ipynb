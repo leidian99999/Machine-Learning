{
 "cells": [
  {
   "cell_type": "code",
   "execution_count": 11,
   "metadata": {
    "ExecuteTime": {
     "end_time": "2019-10-28T07:52:13.660311Z",
     "start_time": "2019-10-28T07:52:09.231131Z"
    }
   },
   "outputs": [],
   "source": [
    "import pandas as pd\n",
    "from pyecharts.charts import Page,Sankey\n",
    "from pyecharts import options as opts"
   ]
  },
  {
   "cell_type": "code",
   "execution_count": 12,
   "metadata": {
    "ExecuteTime": {
     "end_time": "2019-10-28T07:54:24.495867Z",
     "start_time": "2019-10-28T07:54:20.160608Z"
    }
   },
   "outputs": [],
   "source": [
    "data = pd.read_excel(\"D:/GitHub/Machine_Learning/可视化/pyecharts/test1.xlsx\",header=None)"
   ]
  },
  {
   "cell_type": "code",
   "execution_count": 18,
   "metadata": {
    "ExecuteTime": {
     "end_time": "2019-10-28T07:56:58.142417Z",
     "start_time": "2019-10-28T07:56:58.136465Z"
    }
   },
   "outputs": [],
   "source": [
    "# 生成nodes\n",
    "nodes = []\n",
    "nodes.append({'name':'总支出'})\n",
    "for i in data[0].unique():\n",
    "    dic = {}\n",
    "    dic['name'] = i\n",
    "    nodes.append(dic)"
   ]
  },
  {
   "cell_type": "code",
   "execution_count": 19,
   "metadata": {
    "ExecuteTime": {
     "end_time": "2019-10-28T07:57:17.203322Z",
     "start_time": "2019-10-28T07:57:17.198336Z"
    }
   },
   "outputs": [],
   "source": [
    "# 生成links\n",
    "links = []\n",
    "for i in data.values:\n",
    "    dic = {}\n",
    "    dic['source'] = i[0]\n",
    "    dic['target'] = i[1]\n",
    "    dic['value'] = i[2]\n",
    "    links.append(dic)"
   ]
  },
  {
   "cell_type": "code",
   "execution_count": 25,
   "metadata": {
    "ExecuteTime": {
     "end_time": "2019-10-28T08:00:55.047450Z",
     "start_time": "2019-10-28T08:00:55.007555Z"
    }
   },
   "outputs": [
    {
     "data": {
      "text/plain": [
       "'D:\\\\GitHub\\\\Machine_Learning\\\\可视化\\\\pyecharts\\\\pyecharts使用笔记\\\\result.html'"
      ]
     },
     "execution_count": 25,
     "metadata": {},
     "output_type": "execute_result"
    }
   ],
   "source": [
    "# pyecharts 所有方法均支持链式调用。\n",
    "c = (Sankey().add(\"费用/元\",\n",
    "                  nodes,\n",
    "                  links,\n",
    "                  linestyle_opt = opts.LineStyleOpts(opacity=0.2, curve=0.5, color=\"source\",type_=\"dotted\"),\n",
    "                  label_opts=opts.LabelOpts(position=\"right\",),\n",
    "                 )\n",
    "     .set_global_opts(title_opts=opts.TitleOpts(title=\"我的生活支出一览\"))\n",
    "    )\n",
    "# 输出html可视化结果\n",
    "c.render('result.html')"
   ]
  },
  {
   "cell_type": "code",
   "execution_count": null,
   "metadata": {},
   "outputs": [],
   "source": []
  }
 ],
 "metadata": {
  "kernelspec": {
   "display_name": "Python 3",
   "language": "python",
   "name": "python3"
  },
  "language_info": {
   "codemirror_mode": {
    "name": "ipython",
    "version": 3
   },
   "file_extension": ".py",
   "mimetype": "text/x-python",
   "name": "python",
   "nbconvert_exporter": "python",
   "pygments_lexer": "ipython3",
   "version": "3.6.5"
  }
 },
 "nbformat": 4,
 "nbformat_minor": 2
}
