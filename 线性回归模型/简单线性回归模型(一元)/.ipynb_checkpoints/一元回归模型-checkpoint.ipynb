{
 "cells": [
  {
   "cell_type": "markdown",
   "metadata": {},
   "source": [
    "# # 线性回归模型与诊断\n",
    "# 数据说明：本数据是一份汽车贷款数据\n",
    "\n",
    "# |字段名|中文含义|\n",
    "# |:--:|:--:|\n",
    "# |id|id|\n",
    "# |Acc|是否开卡(1=已开通)|\n",
    "# |avg_exp|月均信用卡支出（元）|\n",
    "# |avg_exp_ln|月均信用卡支出的自然对数|\n",
    "# |gender|性别(男=1)|\n",
    "# |Age|年龄|\n",
    "# |Income|年收入（万元）|\n",
    "# |Ownrent|是否自有住房（有=1；无=0)|\n",
    "# |Selfempl|是否自谋职业(1=yes, 0=no)|\n",
    "# |dist_home_val|所住小区房屋均价(万元)|\n",
    "# |dist_avg_income|当地人均收入|\n",
    "# |high_avg|高出当地平均收入|\n",
    "# |edu_class|教育等级：小学及以下开通=0，中学=1，本科=2，研究生=3|"
   ]
  },
  {
   "cell_type": "code",
   "execution_count": 1,
   "metadata": {},
   "outputs": [],
   "source": [
    "import matplotlib.pyplot as plt\n",
    "import os\n",
    "import numpy as np\n",
    "import pandas as pd\n",
    "import statsmodels.api as sm\n",
    "from statsmodels.formula.api import ols"
   ]
  },
  {
   "cell_type": "code",
   "execution_count": 2,
   "metadata": {},
   "outputs": [
    {
     "data": {
      "text/html": [
       "<div>\n",
       "<style scoped>\n",
       "    .dataframe tbody tr th:only-of-type {\n",
       "        vertical-align: middle;\n",
       "    }\n",
       "\n",
       "    .dataframe tbody tr th {\n",
       "        vertical-align: top;\n",
       "    }\n",
       "\n",
       "    .dataframe thead th {\n",
       "        text-align: right;\n",
       "    }\n",
       "</style>\n",
       "<table border=\"1\" class=\"dataframe\">\n",
       "  <thead>\n",
       "    <tr style=\"text-align: right;\">\n",
       "      <th></th>\n",
       "      <th>id</th>\n",
       "      <th>Acc</th>\n",
       "      <th>avg_exp</th>\n",
       "      <th>avg_exp_ln</th>\n",
       "      <th>gender</th>\n",
       "      <th>Age</th>\n",
       "      <th>Income</th>\n",
       "      <th>Ownrent</th>\n",
       "      <th>Selfempl</th>\n",
       "      <th>dist_home_val</th>\n",
       "      <th>dist_avg_income</th>\n",
       "      <th>age2</th>\n",
       "      <th>high_avg</th>\n",
       "      <th>edu_class</th>\n",
       "    </tr>\n",
       "  </thead>\n",
       "  <tbody>\n",
       "    <tr>\n",
       "      <th>0</th>\n",
       "      <td>19</td>\n",
       "      <td>1</td>\n",
       "      <td>1217.03</td>\n",
       "      <td>7.104169</td>\n",
       "      <td>1</td>\n",
       "      <td>40</td>\n",
       "      <td>16.03515</td>\n",
       "      <td>1</td>\n",
       "      <td>1</td>\n",
       "      <td>99.93</td>\n",
       "      <td>15.932789</td>\n",
       "      <td>1600</td>\n",
       "      <td>0.102361</td>\n",
       "      <td>3</td>\n",
       "    </tr>\n",
       "    <tr>\n",
       "      <th>1</th>\n",
       "      <td>5</td>\n",
       "      <td>1</td>\n",
       "      <td>1251.50</td>\n",
       "      <td>7.132098</td>\n",
       "      <td>1</td>\n",
       "      <td>32</td>\n",
       "      <td>15.84750</td>\n",
       "      <td>1</td>\n",
       "      <td>0</td>\n",
       "      <td>49.88</td>\n",
       "      <td>15.796316</td>\n",
       "      <td>1024</td>\n",
       "      <td>0.051184</td>\n",
       "      <td>2</td>\n",
       "    </tr>\n",
       "    <tr>\n",
       "      <th>2</th>\n",
       "      <td>95</td>\n",
       "      <td>0</td>\n",
       "      <td>NaN</td>\n",
       "      <td>NaN</td>\n",
       "      <td>1</td>\n",
       "      <td>36</td>\n",
       "      <td>8.40000</td>\n",
       "      <td>0</td>\n",
       "      <td>0</td>\n",
       "      <td>88.61</td>\n",
       "      <td>7.490000</td>\n",
       "      <td>1296</td>\n",
       "      <td>0.910000</td>\n",
       "      <td>1</td>\n",
       "    </tr>\n",
       "    <tr>\n",
       "      <th>3</th>\n",
       "      <td>86</td>\n",
       "      <td>1</td>\n",
       "      <td>856.57</td>\n",
       "      <td>6.752936</td>\n",
       "      <td>1</td>\n",
       "      <td>41</td>\n",
       "      <td>11.47285</td>\n",
       "      <td>1</td>\n",
       "      <td>0</td>\n",
       "      <td>16.10</td>\n",
       "      <td>11.275632</td>\n",
       "      <td>1681</td>\n",
       "      <td>0.197218</td>\n",
       "      <td>3</td>\n",
       "    </tr>\n",
       "    <tr>\n",
       "      <th>4</th>\n",
       "      <td>50</td>\n",
       "      <td>1</td>\n",
       "      <td>1321.83</td>\n",
       "      <td>7.186772</td>\n",
       "      <td>1</td>\n",
       "      <td>28</td>\n",
       "      <td>13.40915</td>\n",
       "      <td>1</td>\n",
       "      <td>0</td>\n",
       "      <td>100.39</td>\n",
       "      <td>13.346474</td>\n",
       "      <td>784</td>\n",
       "      <td>0.062676</td>\n",
       "      <td>2</td>\n",
       "    </tr>\n",
       "  </tbody>\n",
       "</table>\n",
       "</div>"
      ],
      "text/plain": [
       "   id  Acc  avg_exp  avg_exp_ln  gender  Age    Income  Ownrent  Selfempl  \\\n",
       "0  19    1  1217.03    7.104169       1   40  16.03515        1         1   \n",
       "1   5    1  1251.50    7.132098       1   32  15.84750        1         0   \n",
       "2  95    0      NaN         NaN       1   36   8.40000        0         0   \n",
       "3  86    1   856.57    6.752936       1   41  11.47285        1         0   \n",
       "4  50    1  1321.83    7.186772       1   28  13.40915        1         0   \n",
       "\n",
       "   dist_home_val  dist_avg_income  age2  high_avg  edu_class  \n",
       "0          99.93        15.932789  1600  0.102361          3  \n",
       "1          49.88        15.796316  1024  0.051184          2  \n",
       "2          88.61         7.490000  1296  0.910000          1  \n",
       "3          16.10        11.275632  1681  0.197218          3  \n",
       "4         100.39        13.346474   784  0.062676          2  "
      ]
     },
     "execution_count": 2,
     "metadata": {},
     "output_type": "execute_result"
    }
   ],
   "source": [
    "# 导入数据\n",
    "raw = pd.read_csv(r\"creditcard_exp.csv\",skipinitialspace=True) #忽略分隔符后的空格\n",
    "raw.head()"
   ]
  },
  {
   "cell_type": "code",
   "execution_count": 3,
   "metadata": {},
   "outputs": [
    {
     "data": {
      "text/html": [
       "<div>\n",
       "<style scoped>\n",
       "    .dataframe tbody tr th:only-of-type {\n",
       "        vertical-align: middle;\n",
       "    }\n",
       "\n",
       "    .dataframe tbody tr th {\n",
       "        vertical-align: top;\n",
       "    }\n",
       "\n",
       "    .dataframe thead th {\n",
       "        text-align: right;\n",
       "    }\n",
       "</style>\n",
       "<table border=\"1\" class=\"dataframe\">\n",
       "  <thead>\n",
       "    <tr style=\"text-align: right;\">\n",
       "      <th></th>\n",
       "      <th>avg_exp</th>\n",
       "      <th>avg_exp_ln</th>\n",
       "      <th>gender</th>\n",
       "      <th>Age</th>\n",
       "      <th>Income</th>\n",
       "      <th>Ownrent</th>\n",
       "      <th>Selfempl</th>\n",
       "      <th>dist_home_val</th>\n",
       "      <th>dist_avg_income</th>\n",
       "      <th>high_avg</th>\n",
       "      <th>edu_class</th>\n",
       "    </tr>\n",
       "  </thead>\n",
       "  <tbody>\n",
       "    <tr>\n",
       "      <th>0</th>\n",
       "      <td>1217.03</td>\n",
       "      <td>7.104169</td>\n",
       "      <td>1</td>\n",
       "      <td>40</td>\n",
       "      <td>16.03515</td>\n",
       "      <td>1</td>\n",
       "      <td>1</td>\n",
       "      <td>99.93</td>\n",
       "      <td>15.932789</td>\n",
       "      <td>0.102361</td>\n",
       "      <td>3</td>\n",
       "    </tr>\n",
       "    <tr>\n",
       "      <th>1</th>\n",
       "      <td>1251.50</td>\n",
       "      <td>7.132098</td>\n",
       "      <td>1</td>\n",
       "      <td>32</td>\n",
       "      <td>15.84750</td>\n",
       "      <td>1</td>\n",
       "      <td>0</td>\n",
       "      <td>49.88</td>\n",
       "      <td>15.796316</td>\n",
       "      <td>0.051184</td>\n",
       "      <td>2</td>\n",
       "    </tr>\n",
       "    <tr>\n",
       "      <th>3</th>\n",
       "      <td>856.57</td>\n",
       "      <td>6.752936</td>\n",
       "      <td>1</td>\n",
       "      <td>41</td>\n",
       "      <td>11.47285</td>\n",
       "      <td>1</td>\n",
       "      <td>0</td>\n",
       "      <td>16.10</td>\n",
       "      <td>11.275632</td>\n",
       "      <td>0.197218</td>\n",
       "      <td>3</td>\n",
       "    </tr>\n",
       "    <tr>\n",
       "      <th>4</th>\n",
       "      <td>1321.83</td>\n",
       "      <td>7.186772</td>\n",
       "      <td>1</td>\n",
       "      <td>28</td>\n",
       "      <td>13.40915</td>\n",
       "      <td>1</td>\n",
       "      <td>0</td>\n",
       "      <td>100.39</td>\n",
       "      <td>13.346474</td>\n",
       "      <td>0.062676</td>\n",
       "      <td>2</td>\n",
       "    </tr>\n",
       "    <tr>\n",
       "      <th>5</th>\n",
       "      <td>816.03</td>\n",
       "      <td>6.704451</td>\n",
       "      <td>1</td>\n",
       "      <td>41</td>\n",
       "      <td>10.03015</td>\n",
       "      <td>0</td>\n",
       "      <td>1</td>\n",
       "      <td>119.76</td>\n",
       "      <td>10.332263</td>\n",
       "      <td>-0.302113</td>\n",
       "      <td>3</td>\n",
       "    </tr>\n",
       "  </tbody>\n",
       "</table>\n",
       "</div>"
      ],
      "text/plain": [
       "   avg_exp  avg_exp_ln  gender  Age    Income  Ownrent  Selfempl  \\\n",
       "0  1217.03    7.104169       1   40  16.03515        1         1   \n",
       "1  1251.50    7.132098       1   32  15.84750        1         0   \n",
       "3   856.57    6.752936       1   41  11.47285        1         0   \n",
       "4  1321.83    7.186772       1   28  13.40915        1         0   \n",
       "5   816.03    6.704451       1   41  10.03015        0         1   \n",
       "\n",
       "   dist_home_val  dist_avg_income  high_avg  edu_class  \n",
       "0          99.93        15.932789  0.102361          3  \n",
       "1          49.88        15.796316  0.051184          2  \n",
       "3          16.10        11.275632  0.197218          3  \n",
       "4         100.39        13.346474  0.062676          2  \n",
       "5         119.76        10.332263 -0.302113          3  "
      ]
     },
     "execution_count": 3,
     "metadata": {},
     "output_type": "execute_result"
    }
   ],
   "source": [
    "exp = raw[raw[\"avg_exp\"].notnull()].copy().iloc[:,2:].drop(\"age2\",axis=1)\n",
    "exp.head()"
   ]
  },
  {
   "cell_type": "code",
   "execution_count": 4,
   "metadata": {},
   "outputs": [
    {
     "data": {
      "text/html": [
       "<div>\n",
       "<style scoped>\n",
       "    .dataframe tbody tr th:only-of-type {\n",
       "        vertical-align: middle;\n",
       "    }\n",
       "\n",
       "    .dataframe tbody tr th {\n",
       "        vertical-align: top;\n",
       "    }\n",
       "\n",
       "    .dataframe thead th {\n",
       "        text-align: right;\n",
       "    }\n",
       "</style>\n",
       "<table border=\"1\" class=\"dataframe\">\n",
       "  <thead>\n",
       "    <tr style=\"text-align: right;\">\n",
       "      <th></th>\n",
       "      <th>avg_exp</th>\n",
       "      <th>avg_exp_ln</th>\n",
       "      <th>gender</th>\n",
       "      <th>Age</th>\n",
       "      <th>Income</th>\n",
       "      <th>Ownrent</th>\n",
       "      <th>Selfempl</th>\n",
       "      <th>dist_home_val</th>\n",
       "      <th>dist_avg_income</th>\n",
       "      <th>high_avg</th>\n",
       "      <th>edu_class</th>\n",
       "    </tr>\n",
       "  </thead>\n",
       "  <tbody>\n",
       "    <tr>\n",
       "      <th>2</th>\n",
       "      <td>NaN</td>\n",
       "      <td>NaN</td>\n",
       "      <td>1</td>\n",
       "      <td>36</td>\n",
       "      <td>8.40</td>\n",
       "      <td>0</td>\n",
       "      <td>0</td>\n",
       "      <td>88.61</td>\n",
       "      <td>7.49</td>\n",
       "      <td>0.91</td>\n",
       "      <td>1</td>\n",
       "    </tr>\n",
       "    <tr>\n",
       "      <th>11</th>\n",
       "      <td>NaN</td>\n",
       "      <td>NaN</td>\n",
       "      <td>1</td>\n",
       "      <td>22</td>\n",
       "      <td>5.10</td>\n",
       "      <td>0</td>\n",
       "      <td>0</td>\n",
       "      <td>109.07</td>\n",
       "      <td>4.78</td>\n",
       "      <td>0.32</td>\n",
       "      <td>1</td>\n",
       "    </tr>\n",
       "    <tr>\n",
       "      <th>13</th>\n",
       "      <td>NaN</td>\n",
       "      <td>NaN</td>\n",
       "      <td>0</td>\n",
       "      <td>27</td>\n",
       "      <td>4.90</td>\n",
       "      <td>0</td>\n",
       "      <td>1</td>\n",
       "      <td>53.93</td>\n",
       "      <td>5.43</td>\n",
       "      <td>-0.53</td>\n",
       "      <td>1</td>\n",
       "    </tr>\n",
       "    <tr>\n",
       "      <th>19</th>\n",
       "      <td>NaN</td>\n",
       "      <td>NaN</td>\n",
       "      <td>0</td>\n",
       "      <td>41</td>\n",
       "      <td>4.39</td>\n",
       "      <td>0</td>\n",
       "      <td>1</td>\n",
       "      <td>97.06</td>\n",
       "      <td>4.65</td>\n",
       "      <td>-0.26</td>\n",
       "      <td>1</td>\n",
       "    </tr>\n",
       "    <tr>\n",
       "      <th>20</th>\n",
       "      <td>NaN</td>\n",
       "      <td>NaN</td>\n",
       "      <td>1</td>\n",
       "      <td>54</td>\n",
       "      <td>4.18</td>\n",
       "      <td>0</td>\n",
       "      <td>0</td>\n",
       "      <td>10.01</td>\n",
       "      <td>4.59</td>\n",
       "      <td>-0.41</td>\n",
       "      <td>0</td>\n",
       "    </tr>\n",
       "  </tbody>\n",
       "</table>\n",
       "</div>"
      ],
      "text/plain": [
       "    avg_exp  avg_exp_ln  gender  Age  Income  Ownrent  Selfempl  \\\n",
       "2       NaN         NaN       1   36    8.40        0         0   \n",
       "11      NaN         NaN       1   22    5.10        0         0   \n",
       "13      NaN         NaN       0   27    4.90        0         1   \n",
       "19      NaN         NaN       0   41    4.39        0         1   \n",
       "20      NaN         NaN       1   54    4.18        0         0   \n",
       "\n",
       "    dist_home_val  dist_avg_income  high_avg  edu_class  \n",
       "2           88.61             7.49      0.91          1  \n",
       "11         109.07             4.78      0.32          1  \n",
       "13          53.93             5.43     -0.53          1  \n",
       "19          97.06             4.65     -0.26          1  \n",
       "20          10.01             4.59     -0.41          0  "
      ]
     },
     "execution_count": 4,
     "metadata": {},
     "output_type": "execute_result"
    }
   ],
   "source": [
    "exp_new = raw[raw[\"avg_exp\"].isnull()].copy().iloc[:,2:].drop(\"age2\",axis=1)\n",
    "exp_new.head()"
   ]
  },
  {
   "cell_type": "code",
   "execution_count": 5,
   "metadata": {},
   "outputs": [
    {
     "data": {
      "text/html": [
       "<div>\n",
       "<style scoped>\n",
       "    .dataframe tbody tr th:only-of-type {\n",
       "        vertical-align: middle;\n",
       "    }\n",
       "\n",
       "    .dataframe tbody tr th {\n",
       "        vertical-align: top;\n",
       "    }\n",
       "\n",
       "    .dataframe thead th {\n",
       "        text-align: right;\n",
       "    }\n",
       "</style>\n",
       "<table border=\"1\" class=\"dataframe\">\n",
       "  <thead>\n",
       "    <tr style=\"text-align: right;\">\n",
       "      <th></th>\n",
       "      <th>avg_exp</th>\n",
       "      <th>avg_exp_ln</th>\n",
       "      <th>gender</th>\n",
       "      <th>Age</th>\n",
       "      <th>Income</th>\n",
       "      <th>Ownrent</th>\n",
       "      <th>Selfempl</th>\n",
       "      <th>dist_home_val</th>\n",
       "      <th>dist_avg_income</th>\n",
       "      <th>high_avg</th>\n",
       "      <th>edu_class</th>\n",
       "    </tr>\n",
       "  </thead>\n",
       "  <tbody>\n",
       "    <tr>\n",
       "      <th>count</th>\n",
       "      <td>70.000000</td>\n",
       "      <td>70.000000</td>\n",
       "      <td>70.000000</td>\n",
       "      <td>70.000000</td>\n",
       "      <td>70.000000</td>\n",
       "      <td>70.000000</td>\n",
       "      <td>70.000000</td>\n",
       "      <td>70.000000</td>\n",
       "      <td>70.000000</td>\n",
       "      <td>70.000000</td>\n",
       "      <td>70.000000</td>\n",
       "    </tr>\n",
       "    <tr>\n",
       "      <th>mean</th>\n",
       "      <td>983.655429</td>\n",
       "      <td>6.787787</td>\n",
       "      <td>0.285714</td>\n",
       "      <td>31.157143</td>\n",
       "      <td>7.424706</td>\n",
       "      <td>0.385714</td>\n",
       "      <td>0.028571</td>\n",
       "      <td>74.540857</td>\n",
       "      <td>8.005472</td>\n",
       "      <td>-0.580766</td>\n",
       "      <td>1.928571</td>\n",
       "    </tr>\n",
       "    <tr>\n",
       "      <th>std</th>\n",
       "      <td>446.294237</td>\n",
       "      <td>0.476035</td>\n",
       "      <td>0.455016</td>\n",
       "      <td>7.206349</td>\n",
       "      <td>3.077986</td>\n",
       "      <td>0.490278</td>\n",
       "      <td>0.167802</td>\n",
       "      <td>36.949228</td>\n",
       "      <td>3.070744</td>\n",
       "      <td>0.432808</td>\n",
       "      <td>0.873464</td>\n",
       "    </tr>\n",
       "    <tr>\n",
       "      <th>min</th>\n",
       "      <td>163.180000</td>\n",
       "      <td>5.094854</td>\n",
       "      <td>0.000000</td>\n",
       "      <td>20.000000</td>\n",
       "      <td>3.493900</td>\n",
       "      <td>0.000000</td>\n",
       "      <td>0.000000</td>\n",
       "      <td>13.130000</td>\n",
       "      <td>3.828842</td>\n",
       "      <td>-1.526850</td>\n",
       "      <td>0.000000</td>\n",
       "    </tr>\n",
       "    <tr>\n",
       "      <th>25%</th>\n",
       "      <td>697.155000</td>\n",
       "      <td>6.547003</td>\n",
       "      <td>0.000000</td>\n",
       "      <td>26.000000</td>\n",
       "      <td>5.175662</td>\n",
       "      <td>0.000000</td>\n",
       "      <td>0.000000</td>\n",
       "      <td>49.302500</td>\n",
       "      <td>5.915553</td>\n",
       "      <td>-0.887981</td>\n",
       "      <td>1.000000</td>\n",
       "    </tr>\n",
       "    <tr>\n",
       "      <th>50%</th>\n",
       "      <td>884.150000</td>\n",
       "      <td>6.784627</td>\n",
       "      <td>0.000000</td>\n",
       "      <td>30.000000</td>\n",
       "      <td>6.443525</td>\n",
       "      <td>0.000000</td>\n",
       "      <td>0.000000</td>\n",
       "      <td>65.660000</td>\n",
       "      <td>7.084184</td>\n",
       "      <td>-0.612068</td>\n",
       "      <td>2.000000</td>\n",
       "    </tr>\n",
       "    <tr>\n",
       "      <th>75%</th>\n",
       "      <td>1229.585000</td>\n",
       "      <td>7.114415</td>\n",
       "      <td>1.000000</td>\n",
       "      <td>36.000000</td>\n",
       "      <td>8.494237</td>\n",
       "      <td>1.000000</td>\n",
       "      <td>0.000000</td>\n",
       "      <td>105.067500</td>\n",
       "      <td>9.123105</td>\n",
       "      <td>-0.302082</td>\n",
       "      <td>3.000000</td>\n",
       "    </tr>\n",
       "    <tr>\n",
       "      <th>max</th>\n",
       "      <td>2430.030000</td>\n",
       "      <td>7.795659</td>\n",
       "      <td>1.000000</td>\n",
       "      <td>55.000000</td>\n",
       "      <td>16.900150</td>\n",
       "      <td>1.000000</td>\n",
       "      <td>1.000000</td>\n",
       "      <td>157.900000</td>\n",
       "      <td>18.427000</td>\n",
       "      <td>0.259337</td>\n",
       "      <td>3.000000</td>\n",
       "    </tr>\n",
       "  </tbody>\n",
       "</table>\n",
       "</div>"
      ],
      "text/plain": [
       "           avg_exp  avg_exp_ln     gender        Age     Income    Ownrent  \\\n",
       "count    70.000000   70.000000  70.000000  70.000000  70.000000  70.000000   \n",
       "mean    983.655429    6.787787   0.285714  31.157143   7.424706   0.385714   \n",
       "std     446.294237    0.476035   0.455016   7.206349   3.077986   0.490278   \n",
       "min     163.180000    5.094854   0.000000  20.000000   3.493900   0.000000   \n",
       "25%     697.155000    6.547003   0.000000  26.000000   5.175662   0.000000   \n",
       "50%     884.150000    6.784627   0.000000  30.000000   6.443525   0.000000   \n",
       "75%    1229.585000    7.114415   1.000000  36.000000   8.494237   1.000000   \n",
       "max    2430.030000    7.795659   1.000000  55.000000  16.900150   1.000000   \n",
       "\n",
       "        Selfempl  dist_home_val  dist_avg_income   high_avg  edu_class  \n",
       "count  70.000000      70.000000        70.000000  70.000000  70.000000  \n",
       "mean    0.028571      74.540857         8.005472  -0.580766   1.928571  \n",
       "std     0.167802      36.949228         3.070744   0.432808   0.873464  \n",
       "min     0.000000      13.130000         3.828842  -1.526850   0.000000  \n",
       "25%     0.000000      49.302500         5.915553  -0.887981   1.000000  \n",
       "50%     0.000000      65.660000         7.084184  -0.612068   2.000000  \n",
       "75%     0.000000     105.067500         9.123105  -0.302082   3.000000  \n",
       "max     1.000000     157.900000        18.427000   0.259337   3.000000  "
      ]
     },
     "execution_count": 5,
     "metadata": {},
     "output_type": "execute_result"
    }
   ],
   "source": [
    "exp.describe(include=\"all\")"
   ]
  },
  {
   "cell_type": "code",
   "execution_count": 6,
   "metadata": {},
   "outputs": [
    {
     "data": {
      "image/png": "[encoded data removed]",
      "text/plain": [
       "<Figure size 432x288 with 1 Axes>"
      ]
     },
     "metadata": {
      "needs_background": "light"
     },
     "output_type": "display_data"
    }
   ],
   "source": [
    "# 相关性分析\n",
    "exp.plot('Income', 'avg_exp', kind='scatter')\n",
    "plt.show()"
   ]
  },
  {
   "cell_type": "code",
   "execution_count": 7,
   "metadata": {},
   "outputs": [
    {
     "data": {
      "text/html": [
       "<div>\n",
       "<style scoped>\n",
       "    .dataframe tbody tr th:only-of-type {\n",
       "        vertical-align: middle;\n",
       "    }\n",
       "\n",
       "    .dataframe tbody tr th {\n",
       "        vertical-align: top;\n",
       "    }\n",
       "\n",
       "    .dataframe thead th {\n",
       "        text-align: right;\n",
       "    }\n",
       "</style>\n",
       "<table border=\"1\" class=\"dataframe\">\n",
       "  <thead>\n",
       "    <tr style=\"text-align: right;\">\n",
       "      <th></th>\n",
       "      <th>Income</th>\n",
       "      <th>avg_exp</th>\n",
       "      <th>Age</th>\n",
       "      <th>dist_home_val</th>\n",
       "    </tr>\n",
       "  </thead>\n",
       "  <tbody>\n",
       "    <tr>\n",
       "      <th>Income</th>\n",
       "      <td>1.000000</td>\n",
       "      <td>0.674011</td>\n",
       "      <td>0.369129</td>\n",
       "      <td>0.249153</td>\n",
       "    </tr>\n",
       "    <tr>\n",
       "      <th>avg_exp</th>\n",
       "      <td>0.674011</td>\n",
       "      <td>1.000000</td>\n",
       "      <td>0.258478</td>\n",
       "      <td>0.319499</td>\n",
       "    </tr>\n",
       "    <tr>\n",
       "      <th>Age</th>\n",
       "      <td>0.369129</td>\n",
       "      <td>0.258478</td>\n",
       "      <td>1.000000</td>\n",
       "      <td>0.109323</td>\n",
       "    </tr>\n",
       "    <tr>\n",
       "      <th>dist_home_val</th>\n",
       "      <td>0.249153</td>\n",
       "      <td>0.319499</td>\n",
       "      <td>0.109323</td>\n",
       "      <td>1.000000</td>\n",
       "    </tr>\n",
       "  </tbody>\n",
       "</table>\n",
       "</div>"
      ],
      "text/plain": [
       "                 Income   avg_exp       Age  dist_home_val\n",
       "Income         1.000000  0.674011  0.369129       0.249153\n",
       "avg_exp        0.674011  1.000000  0.258478       0.319499\n",
       "Age            0.369129  0.258478  1.000000       0.109323\n",
       "dist_home_val  0.249153  0.319499  0.109323       1.000000"
      ]
     },
     "execution_count": 7,
     "metadata": {},
     "output_type": "execute_result"
    }
   ],
   "source": [
    "# 确定自变量和因变量之间是否存在线性关系\n",
    "exp[['Income', 'avg_exp', 'Age', 'dist_home_val']].corr(method='pearson')"
   ]
  },
  {
   "cell_type": "markdown",
   "metadata": {},
   "source": [
    "income 和 avg_exp相关性较高，用于建模"
   ]
  },
  {
   "cell_type": "code",
   "execution_count": 8,
   "metadata": {},
   "outputs": [
    {
     "name": "stdout",
     "output_type": "stream",
     "text": [
      "Intercept    258.049498\n",
      "Income        97.728578\n",
      "dtype: float64\n"
     ]
    }
   ],
   "source": [
    "# 一元线性回归\n",
    "lm_s = ols('avg_exp ~ Income', data=exp).fit()\n",
    "print(lm_s.params)"
   ]
  },
  {
   "cell_type": "markdown",
   "metadata": {},
   "source": [
    "### 回归公式为：<br> $Y=258.05 + 97.73x + \\varepsilon$"
   ]
  },
  {
   "cell_type": "code",
   "execution_count": 9,
   "metadata": {
    "scrolled": true
   },
   "outputs": [
    {
     "data": {
      "text/html": [
       "<table class=\"simpletable\">\n",
       "<caption>OLS Regression Results</caption>\n",
       "<tr>\n",
       "  <th>Dep. Variable:</th>         <td>avg_exp</td>     <th>  R-squared:         </th> <td>   0.454</td>\n",
       "</tr>\n",
       "<tr>\n",
       "  <th>Model:</th>                   <td>OLS</td>       <th>  Adj. R-squared:    </th> <td>   0.446</td>\n",
       "</tr>\n",
       "<tr>\n",
       "  <th>Method:</th>             <td>Least Squares</td>  <th>  F-statistic:       </th> <td>   56.61</td>\n",
       "</tr>\n",
       "<tr>\n",
       "  <th>Date:</th>             <td>Sat, 01 Dec 2018</td> <th>  Prob (F-statistic):</th> <td>1.60e-10</td>\n",
       "</tr>\n",
       "<tr>\n",
       "  <th>Time:</th>                 <td>21:13:46</td>     <th>  Log-Likelihood:    </th> <td> -504.69</td>\n",
       "</tr>\n",
       "<tr>\n",
       "  <th>No. Observations:</th>      <td>    70</td>      <th>  AIC:               </th> <td>   1013.</td>\n",
       "</tr>\n",
       "<tr>\n",
       "  <th>Df Residuals:</th>          <td>    68</td>      <th>  BIC:               </th> <td>   1018.</td>\n",
       "</tr>\n",
       "<tr>\n",
       "  <th>Df Model:</th>              <td>     1</td>      <th>                     </th>     <td> </td>   \n",
       "</tr>\n",
       "<tr>\n",
       "  <th>Covariance Type:</th>      <td>nonrobust</td>    <th>                     </th>     <td> </td>   \n",
       "</tr>\n",
       "</table>\n",
       "<table class=\"simpletable\">\n",
       "<tr>\n",
       "      <td></td>         <th>coef</th>     <th>std err</th>      <th>t</th>      <th>P>|t|</th>  <th>[0.025</th>    <th>0.975]</th>  \n",
       "</tr>\n",
       "<tr>\n",
       "  <th>Intercept</th> <td>  258.0495</td> <td>  104.290</td> <td>    2.474</td> <td> 0.016</td> <td>   49.942</td> <td>  466.157</td>\n",
       "</tr>\n",
       "<tr>\n",
       "  <th>Income</th>    <td>   97.7286</td> <td>   12.989</td> <td>    7.524</td> <td> 0.000</td> <td>   71.809</td> <td>  123.648</td>\n",
       "</tr>\n",
       "</table>\n",
       "<table class=\"simpletable\">\n",
       "<tr>\n",
       "  <th>Omnibus:</th>       <td> 3.714</td> <th>  Durbin-Watson:     </th> <td>   1.424</td>\n",
       "</tr>\n",
       "<tr>\n",
       "  <th>Prob(Omnibus):</th> <td> 0.156</td> <th>  Jarque-Bera (JB):  </th> <td>   3.507</td>\n",
       "</tr>\n",
       "<tr>\n",
       "  <th>Skew:</th>          <td> 0.485</td> <th>  Prob(JB):          </th> <td>   0.173</td>\n",
       "</tr>\n",
       "<tr>\n",
       "  <th>Kurtosis:</th>      <td> 2.490</td> <th>  Cond. No.          </th> <td>    21.4</td>\n",
       "</tr>\n",
       "</table><br/><br/>Warnings:<br/>[1] Standard Errors assume that the covariance matrix of the errors is correctly specified."
      ],
      "text/plain": [
       "<class 'statsmodels.iolib.summary.Summary'>\n",
       "\"\"\"\n",
       "                            OLS Regression Results                            \n",
       "==============================================================================\n",
       "Dep. Variable:                avg_exp   R-squared:                       0.454\n",
       "Model:                            OLS   Adj. R-squared:                  0.446\n",
       "Method:                 Least Squares   F-statistic:                     56.61\n",
       "Date:                Sat, 01 Dec 2018   Prob (F-statistic):           1.60e-10\n",
       "Time:                        21:13:46   Log-Likelihood:                -504.69\n",
       "No. Observations:                  70   AIC:                             1013.\n",
       "Df Residuals:                      68   BIC:                             1018.\n",
       "Df Model:                           1                                         \n",
       "Covariance Type:            nonrobust                                         \n",
       "==============================================================================\n",
       "                 coef    std err          t      P>|t|      [0.025      0.975]\n",
       "------------------------------------------------------------------------------\n",
       "Intercept    258.0495    104.290      2.474      0.016      49.942     466.157\n",
       "Income        97.7286     12.989      7.524      0.000      71.809     123.648\n",
       "==============================================================================\n",
       "Omnibus:                        3.714   Durbin-Watson:                   1.424\n",
       "Prob(Omnibus):                  0.156   Jarque-Bera (JB):                3.507\n",
       "Skew:                           0.485   Prob(JB):                        0.173\n",
       "Kurtosis:                       2.490   Cond. No.                         21.4\n",
       "==============================================================================\n",
       "\n",
       "Warnings:\n",
       "[1] Standard Errors assume that the covariance matrix of the errors is correctly specified.\n",
       "\"\"\""
      ]
     },
     "execution_count": 9,
     "metadata": {},
     "output_type": "execute_result"
    }
   ],
   "source": [
    "lm_s.summary()"
   ]
  },
  {
   "cell_type": "code",
   "execution_count": 10,
   "metadata": {},
   "outputs": [
    {
     "data": {
      "text/html": [
       "<div>\n",
       "<style scoped>\n",
       "    .dataframe tbody tr th:only-of-type {\n",
       "        vertical-align: middle;\n",
       "    }\n",
       "\n",
       "    .dataframe tbody tr th {\n",
       "        vertical-align: top;\n",
       "    }\n",
       "\n",
       "    .dataframe thead th {\n",
       "        text-align: right;\n",
       "    }\n",
       "</style>\n",
       "<table border=\"1\" class=\"dataframe\">\n",
       "  <thead>\n",
       "    <tr style=\"text-align: right;\">\n",
       "      <th></th>\n",
       "      <th>predict</th>\n",
       "      <th>resid</th>\n",
       "    </tr>\n",
       "  </thead>\n",
       "  <tbody>\n",
       "    <tr>\n",
       "      <th>0</th>\n",
       "      <td>1825.141904</td>\n",
       "      <td>-608.111904</td>\n",
       "    </tr>\n",
       "    <tr>\n",
       "      <th>1</th>\n",
       "      <td>1806.803136</td>\n",
       "      <td>-555.303136</td>\n",
       "    </tr>\n",
       "    <tr>\n",
       "      <th>3</th>\n",
       "      <td>1379.274813</td>\n",
       "      <td>-522.704813</td>\n",
       "    </tr>\n",
       "    <tr>\n",
       "      <th>4</th>\n",
       "      <td>1568.506658</td>\n",
       "      <td>-246.676658</td>\n",
       "    </tr>\n",
       "    <tr>\n",
       "      <th>5</th>\n",
       "      <td>1238.281793</td>\n",
       "      <td>-422.251793</td>\n",
       "    </tr>\n",
       "  </tbody>\n",
       "</table>\n",
       "</div>"
      ],
      "text/plain": [
       "       predict       resid\n",
       "0  1825.141904 -608.111904\n",
       "1  1806.803136 -555.303136\n",
       "3  1379.274813 -522.704813\n",
       "4  1568.506658 -246.676658\n",
       "5  1238.281793 -422.251793"
      ]
     },
     "execution_count": 10,
     "metadata": {},
     "output_type": "execute_result"
    }
   ],
   "source": [
    "# 使用线性回归模型在训练集上进行预测和计算残差\n",
    "pd.DataFrame([lm_s.predict(exp),lm_s.resid],index=['predict','resid']).T.head()"
   ]
  },
  {
   "cell_type": "code",
   "execution_count": 11,
   "metadata": {},
   "outputs": [
    {
     "data": {
      "text/plain": [
       "2     1078.969552\n",
       "11     756.465245\n",
       "13     736.919530\n",
       "19     687.077955\n",
       "20     666.554953\n",
       "dtype: float64"
      ]
     },
     "execution_count": 11,
     "metadata": {},
     "output_type": "execute_result"
    }
   ],
   "source": [
    "# 验证预测效果\n",
    "lm_s.predict(exp_new)[:5]"
   ]
  },
  {
   "cell_type": "markdown",
   "metadata": {},
   "source": [
    "# <b>多元线性模型</b>"
   ]
  },
  {
   "cell_type": "code",
   "execution_count": 12,
   "metadata": {},
   "outputs": [
    {
     "data": {
      "text/html": [
       "<table class=\"simpletable\">\n",
       "<caption>OLS Regression Results</caption>\n",
       "<tr>\n",
       "  <th>Dep. Variable:</th>         <td>avg_exp</td>     <th>  R-squared:         </th> <td>   0.542</td>\n",
       "</tr>\n",
       "<tr>\n",
       "  <th>Model:</th>                   <td>OLS</td>       <th>  Adj. R-squared:    </th> <td>   0.513</td>\n",
       "</tr>\n",
       "<tr>\n",
       "  <th>Method:</th>             <td>Least Squares</td>  <th>  F-statistic:       </th> <td>   19.20</td>\n",
       "</tr>\n",
       "<tr>\n",
       "  <th>Date:</th>             <td>Sat, 01 Dec 2018</td> <th>  Prob (F-statistic):</th> <td>1.82e-10</td>\n",
       "</tr>\n",
       "<tr>\n",
       "  <th>Time:</th>                 <td>21:13:46</td>     <th>  Log-Likelihood:    </th> <td> -498.59</td>\n",
       "</tr>\n",
       "<tr>\n",
       "  <th>No. Observations:</th>      <td>    70</td>      <th>  AIC:               </th> <td>   1007.</td>\n",
       "</tr>\n",
       "<tr>\n",
       "  <th>Df Residuals:</th>          <td>    65</td>      <th>  BIC:               </th> <td>   1018.</td>\n",
       "</tr>\n",
       "<tr>\n",
       "  <th>Df Model:</th>              <td>     4</td>      <th>                     </th>     <td> </td>   \n",
       "</tr>\n",
       "<tr>\n",
       "  <th>Covariance Type:</th>      <td>nonrobust</td>    <th>                     </th>     <td> </td>   \n",
       "</tr>\n",
       "</table>\n",
       "<table class=\"simpletable\">\n",
       "<tr>\n",
       "         <td></td>            <th>coef</th>     <th>std err</th>      <th>t</th>      <th>P>|t|</th>  <th>[0.025</th>    <th>0.975]</th>  \n",
       "</tr>\n",
       "<tr>\n",
       "  <th>Intercept</th>       <td>  -32.0078</td> <td>  186.874</td> <td>   -0.171</td> <td> 0.865</td> <td> -405.221</td> <td>  341.206</td>\n",
       "</tr>\n",
       "<tr>\n",
       "  <th>Age</th>             <td>    1.3723</td> <td>    5.605</td> <td>    0.245</td> <td> 0.807</td> <td>   -9.822</td> <td>   12.566</td>\n",
       "</tr>\n",
       "<tr>\n",
       "  <th>Income</th>          <td> -166.7204</td> <td>   87.607</td> <td>   -1.903</td> <td> 0.061</td> <td> -341.684</td> <td>    8.243</td>\n",
       "</tr>\n",
       "<tr>\n",
       "  <th>dist_home_val</th>   <td>    1.5329</td> <td>    1.057</td> <td>    1.450</td> <td> 0.152</td> <td>   -0.578</td> <td>    3.644</td>\n",
       "</tr>\n",
       "<tr>\n",
       "  <th>dist_avg_income</th> <td>  261.8827</td> <td>   87.807</td> <td>    2.982</td> <td> 0.004</td> <td>   86.521</td> <td>  437.245</td>\n",
       "</tr>\n",
       "</table>\n",
       "<table class=\"simpletable\">\n",
       "<tr>\n",
       "  <th>Omnibus:</th>       <td> 5.234</td> <th>  Durbin-Watson:     </th> <td>   1.582</td>\n",
       "</tr>\n",
       "<tr>\n",
       "  <th>Prob(Omnibus):</th> <td> 0.073</td> <th>  Jarque-Bera (JB):  </th> <td>   5.174</td>\n",
       "</tr>\n",
       "<tr>\n",
       "  <th>Skew:</th>          <td> 0.625</td> <th>  Prob(JB):          </th> <td>  0.0752</td>\n",
       "</tr>\n",
       "<tr>\n",
       "  <th>Kurtosis:</th>      <td> 2.540</td> <th>  Cond. No.          </th> <td>    459.</td>\n",
       "</tr>\n",
       "</table><br/><br/>Warnings:<br/>[1] Standard Errors assume that the covariance matrix of the errors is correctly specified."
      ],
      "text/plain": [
       "<class 'statsmodels.iolib.summary.Summary'>\n",
       "\"\"\"\n",
       "                            OLS Regression Results                            \n",
       "==============================================================================\n",
       "Dep. Variable:                avg_exp   R-squared:                       0.542\n",
       "Model:                            OLS   Adj. R-squared:                  0.513\n",
       "Method:                 Least Squares   F-statistic:                     19.20\n",
       "Date:                Sat, 01 Dec 2018   Prob (F-statistic):           1.82e-10\n",
       "Time:                        21:13:46   Log-Likelihood:                -498.59\n",
       "No. Observations:                  70   AIC:                             1007.\n",
       "Df Residuals:                      65   BIC:                             1018.\n",
       "Df Model:                           4                                         \n",
       "Covariance Type:            nonrobust                                         \n",
       "===================================================================================\n",
       "                      coef    std err          t      P>|t|      [0.025      0.975]\n",
       "-----------------------------------------------------------------------------------\n",
       "Intercept         -32.0078    186.874     -0.171      0.865    -405.221     341.206\n",
       "Age                 1.3723      5.605      0.245      0.807      -9.822      12.566\n",
       "Income           -166.7204     87.607     -1.903      0.061    -341.684       8.243\n",
       "dist_home_val       1.5329      1.057      1.450      0.152      -0.578       3.644\n",
       "dist_avg_income   261.8827     87.807      2.982      0.004      86.521     437.245\n",
       "==============================================================================\n",
       "Omnibus:                        5.234   Durbin-Watson:                   1.582\n",
       "Prob(Omnibus):                  0.073   Jarque-Bera (JB):                5.174\n",
       "Skew:                           0.625   Prob(JB):                       0.0752\n",
       "Kurtosis:                       2.540   Cond. No.                         459.\n",
       "==============================================================================\n",
       "\n",
       "Warnings:\n",
       "[1] Standard Errors assume that the covariance matrix of the errors is correctly specified.\n",
       "\"\"\""
      ]
     },
     "execution_count": 12,
     "metadata": {},
     "output_type": "execute_result"
    }
   ],
   "source": [
    "lm_m = ols('avg_exp ~ Age + Income + dist_home_val + dist_avg_income',data=exp).fit()\n",
    "lm_m.summary()"
   ]
  },
  {
   "cell_type": "markdown",
   "metadata": {},
   "source": [
    "  # 多元线性回归变量筛选"
   ]
  },
  {
   "cell_type": "code",
   "execution_count": 13,
   "metadata": {},
   "outputs": [],
   "source": [
    "'''forward select'''\n",
    "def forward_select(data, response):\n",
    "    remaining = set(data.columns)\n",
    "    remaining.remove(response)\n",
    "    selected = []\n",
    "    current_score, best_new_score = float('inf'), float('inf')\n",
    "    while remaining:\n",
    "        aic_with_candidates=[]\n",
    "        for candidate in remaining:\n",
    "            formula = \"{} ~ {}\".format(\n",
    "                response,' + '.join(selected + [candidate]))\n",
    "            aic = ols(formula=formula, data=data).fit().aic\n",
    "            aic_with_candidates.append((aic, candidate))\n",
    "        aic_with_candidates.sort(reverse=True)\n",
    "        best_new_score, best_candidate=aic_with_candidates.pop()\n",
    "        if current_score > best_new_score: \n",
    "            remaining.remove(best_candidate)\n",
    "            selected.append(best_candidate)\n",
    "            current_score = best_new_score\n",
    "            print ('aic is {},continuing!'.format(current_score))\n",
    "        else:        \n",
    "            print ('forward selection over!')\n",
    "            break\n",
    "            \n",
    "    formula = \"{} ~ {} \".format(response,' + '.join(selected))\n",
    "    print('final formula is {}'.format(formula))\n",
    "    model = ols(formula=formula, data=data).fit()\n",
    "    return(model)"
   ]
  },
  {
   "cell_type": "code",
   "execution_count": 14,
   "metadata": {},
   "outputs": [
    {
     "name": "stdout",
     "output_type": "stream",
     "text": [
      "aic is 1007.6801413968117,continuing!\n",
      "aic is 1005.4969816306302,continuing!\n",
      "aic is 1005.2487355956046,continuing!\n",
      "forward selection over!\n",
      "final formula is avg_exp ~ dist_avg_income + Income + dist_home_val \n",
      "0.541151292841195\n"
     ]
    }
   ],
   "source": [
    "data_for_select = exp[['avg_exp', 'Income', 'Age', 'dist_home_val', 'dist_avg_income']]\n",
    "lm_m = forward_select(data=data_for_select, response='avg_exp')\n",
    "print(lm_m.rsquared)"
   ]
  },
  {
   "cell_type": "markdown",
   "metadata": {},
   "source": [
    "# 残差分析\n",
    "\n",
    "1.残差不能与自变量相关（不能检验）\n",
    "\n",
    "2.残差独立同分布\n",
    "\n",
    "3.残差方差齐性"
   ]
  },
  {
   "cell_type": "code",
   "execution_count": 15,
   "metadata": {},
   "outputs": [],
   "source": [
    "ana1 = lm_s"
   ]
  },
  {
   "cell_type": "code",
   "execution_count": 16,
   "metadata": {},
   "outputs": [
    {
     "data": {
      "image/png": "[encoded data removed]",
      "text/plain": [
       "<Figure size 432x288 with 1 Axes>"
      ]
     },
     "metadata": {
      "needs_background": "light"
     },
     "output_type": "display_data"
    }
   ],
   "source": [
    "exp['Pred'] = ana1.predict(exp)\n",
    "exp['resid'] = ana1.resid\n",
    "exp.plot('Pred', 'resid',kind='scatter')\n",
    "plt.show()"
   ]
  },
  {
   "cell_type": "markdown",
   "metadata": {},
   "source": [
    "##### 随预测值增大，残差基本保持上下对称，但残差正负的幅度有逐渐变化的趋势，即模型方差不齐"
   ]
  },
  {
   "cell_type": "code",
   "execution_count": 17,
   "metadata": {},
   "outputs": [
    {
     "data": {
      "image/png": "[encoded data removed]",
      "text/plain": [
       "<Figure size 432x288 with 1 Axes>"
      ]
     },
     "metadata": {
      "needs_background": "light"
     },
     "output_type": "display_data"
    }
   ],
   "source": [
    "ana2 = ols(\"avg_exp_ln ~ Income\",exp).fit()\n",
    "exp['Pred'] = ana2.predict(exp)\n",
    "exp['redid'] = ana2.resid\n",
    "exp.plot('Income','resid',kind='scatter')\n",
    "plt.show()"
   ]
  },
  {
   "cell_type": "code",
   "execution_count": 18,
   "metadata": {
    "scrolled": true
   },
   "outputs": [
    {
     "data": {
      "image/png": "[encoded data removed]",
      "text/plain": [
       "<Figure size 432x288 with 1 Axes>"
      ]
     },
     "metadata": {
      "needs_background": "light"
     },
     "output_type": "display_data"
    }
   ],
   "source": [
    "# 取对数可以抑制方差不齐\n",
    "exp['Income_ln'] = np.log(exp['Income'])\n",
    "ana3 = ols('avg_exp_ln ~ Income_ln', exp).fit()\n",
    "exp['Pred'] = ana3.predict(exp)\n",
    "exp['resid'] = ana3.resid\n",
    "exp.plot('Income_ln', 'resid',kind='scatter')\n",
    "plt.show()"
   ]
  },
  {
   "cell_type": "code",
   "execution_count": 19,
   "metadata": {},
   "outputs": [
    {
     "name": "stdout",
     "output_type": "stream",
     "text": [
      "{'exp~Income': 0.45429062315565294, 'ln(exp)~Income': 0.4030855555329651, 'ln(exp)~ln(Income)': 0.48039279938931057}\n"
     ]
    }
   ],
   "source": [
    "# 对比结果\n",
    "r_sq = {'exp~Income':ana1.rsquared, 'ln(exp)~Income':ana2.rsquared, 'ln(exp)~ln(Income)':ana3.rsquared}\n",
    "print(r_sq)"
   ]
  },
  {
   "cell_type": "markdown",
   "metadata": {},
   "source": [
    "对收入和支出都取对数时，$R^2$最大"
   ]
  },
  {
   "cell_type": "code",
   "execution_count": 20,
   "metadata": {},
   "outputs": [
    {
     "data": {
      "text/html": [
       "<table class=\"simpletable\">\n",
       "<caption>OLS Regression Results</caption>\n",
       "<tr>\n",
       "  <th>Dep. Variable:</th>       <td>avg_exp_ln</td>    <th>  R-squared:         </th> <td>   0.480</td>\n",
       "</tr>\n",
       "<tr>\n",
       "  <th>Model:</th>                   <td>OLS</td>       <th>  Adj. R-squared:    </th> <td>   0.473</td>\n",
       "</tr>\n",
       "<tr>\n",
       "  <th>Method:</th>             <td>Least Squares</td>  <th>  F-statistic:       </th> <td>   62.87</td>\n",
       "</tr>\n",
       "<tr>\n",
       "  <th>Date:</th>             <td>Sat, 01 Dec 2018</td> <th>  Prob (F-statistic):</th> <td>2.95e-11</td>\n",
       "</tr>\n",
       "<tr>\n",
       "  <th>Time:</th>                 <td>21:13:47</td>     <th>  Log-Likelihood:    </th> <td> -23.950</td>\n",
       "</tr>\n",
       "<tr>\n",
       "  <th>No. Observations:</th>      <td>    70</td>      <th>  AIC:               </th> <td>   51.90</td>\n",
       "</tr>\n",
       "<tr>\n",
       "  <th>Df Residuals:</th>          <td>    68</td>      <th>  BIC:               </th> <td>   56.40</td>\n",
       "</tr>\n",
       "<tr>\n",
       "  <th>Df Model:</th>              <td>     1</td>      <th>                     </th>     <td> </td>   \n",
       "</tr>\n",
       "<tr>\n",
       "  <th>Covariance Type:</th>      <td>nonrobust</td>    <th>                     </th>     <td> </td>   \n",
       "</tr>\n",
       "</table>\n",
       "<table class=\"simpletable\">\n",
       "<tr>\n",
       "      <td></td>         <th>coef</th>     <th>std err</th>      <th>t</th>      <th>P>|t|</th>  <th>[0.025</th>    <th>0.975]</th>  \n",
       "</tr>\n",
       "<tr>\n",
       "  <th>Intercept</th> <td>    5.0611</td> <td>    0.222</td> <td>   22.833</td> <td> 0.000</td> <td>    4.619</td> <td>    5.503</td>\n",
       "</tr>\n",
       "<tr>\n",
       "  <th>Income_ln</th> <td>    0.8932</td> <td>    0.113</td> <td>    7.929</td> <td> 0.000</td> <td>    0.668</td> <td>    1.118</td>\n",
       "</tr>\n",
       "</table>\n",
       "<table class=\"simpletable\">\n",
       "<tr>\n",
       "  <th>Omnibus:</th>       <td> 8.382</td> <th>  Durbin-Watson:     </th> <td>   1.368</td>\n",
       "</tr>\n",
       "<tr>\n",
       "  <th>Prob(Omnibus):</th> <td> 0.015</td> <th>  Jarque-Bera (JB):  </th> <td>   8.074</td>\n",
       "</tr>\n",
       "<tr>\n",
       "  <th>Skew:</th>          <td>-0.668</td> <th>  Prob(JB):          </th> <td>  0.0177</td>\n",
       "</tr>\n",
       "<tr>\n",
       "  <th>Kurtosis:</th>      <td> 3.992</td> <th>  Cond. No.          </th> <td>    13.2</td>\n",
       "</tr>\n",
       "</table><br/><br/>Warnings:<br/>[1] Standard Errors assume that the covariance matrix of the errors is correctly specified."
      ],
      "text/plain": [
       "<class 'statsmodels.iolib.summary.Summary'>\n",
       "\"\"\"\n",
       "                            OLS Regression Results                            \n",
       "==============================================================================\n",
       "Dep. Variable:             avg_exp_ln   R-squared:                       0.480\n",
       "Model:                            OLS   Adj. R-squared:                  0.473\n",
       "Method:                 Least Squares   F-statistic:                     62.87\n",
       "Date:                Sat, 01 Dec 2018   Prob (F-statistic):           2.95e-11\n",
       "Time:                        21:13:47   Log-Likelihood:                -23.950\n",
       "No. Observations:                  70   AIC:                             51.90\n",
       "Df Residuals:                      68   BIC:                             56.40\n",
       "Df Model:                           1                                         \n",
       "Covariance Type:            nonrobust                                         \n",
       "==============================================================================\n",
       "                 coef    std err          t      P>|t|      [0.025      0.975]\n",
       "------------------------------------------------------------------------------\n",
       "Intercept      5.0611      0.222     22.833      0.000       4.619       5.503\n",
       "Income_ln      0.8932      0.113      7.929      0.000       0.668       1.118\n",
       "==============================================================================\n",
       "Omnibus:                        8.382   Durbin-Watson:                   1.368\n",
       "Prob(Omnibus):                  0.015   Jarque-Bera (JB):                8.074\n",
       "Skew:                          -0.668   Prob(JB):                       0.0177\n",
       "Kurtosis:                       3.992   Cond. No.                         13.2\n",
       "==============================================================================\n",
       "\n",
       "Warnings:\n",
       "[1] Standard Errors assume that the covariance matrix of the errors is correctly specified.\n",
       "\"\"\""
      ]
     },
     "execution_count": 20,
     "metadata": {},
     "output_type": "execute_result"
    }
   ],
   "source": [
    "ana3.summary()"
   ]
  },
  {
   "cell_type": "markdown",
   "metadata": {},
   "source": [
    "验证残差自相关性，DW检验，接近2证明无自相关性"
   ]
  },
  {
   "cell_type": "markdown",
   "metadata": {},
   "source": [
    "### 强影响点分析（离群值）\n",
    "一元线性回归：散点图<br>\n",
    "多元线性回归：预测值-学生化残差图（SR）,<br>\n",
    "指标准化后的残差，当<br>\n",
    "样本量为几百时：大于2为强影响点<br>\n",
    "样本量为上千时：大于3为强影响点<br>"
   ]
  },
  {
   "cell_type": "code",
   "execution_count": 21,
   "metadata": {},
   "outputs": [
    {
     "data": {
      "text/html": [
       "<div>\n",
       "<style scoped>\n",
       "    .dataframe tbody tr th:only-of-type {\n",
       "        vertical-align: middle;\n",
       "    }\n",
       "\n",
       "    .dataframe tbody tr th {\n",
       "        vertical-align: top;\n",
       "    }\n",
       "\n",
       "    .dataframe thead th {\n",
       "        text-align: right;\n",
       "    }\n",
       "</style>\n",
       "<table border=\"1\" class=\"dataframe\">\n",
       "  <thead>\n",
       "    <tr style=\"text-align: right;\">\n",
       "      <th></th>\n",
       "      <th>avg_exp</th>\n",
       "      <th>avg_exp_ln</th>\n",
       "      <th>gender</th>\n",
       "      <th>Age</th>\n",
       "      <th>Income</th>\n",
       "      <th>Ownrent</th>\n",
       "      <th>Selfempl</th>\n",
       "      <th>dist_home_val</th>\n",
       "      <th>dist_avg_income</th>\n",
       "      <th>high_avg</th>\n",
       "      <th>edu_class</th>\n",
       "      <th>Pred</th>\n",
       "      <th>resid</th>\n",
       "      <th>redid</th>\n",
       "      <th>Income_ln</th>\n",
       "      <th>resid_t</th>\n",
       "    </tr>\n",
       "  </thead>\n",
       "  <tbody>\n",
       "    <tr>\n",
       "      <th>73</th>\n",
       "      <td>251.56</td>\n",
       "      <td>5.527682</td>\n",
       "      <td>0</td>\n",
       "      <td>29</td>\n",
       "      <td>5.1578</td>\n",
       "      <td>0</td>\n",
       "      <td>0</td>\n",
       "      <td>63.23</td>\n",
       "      <td>5.492947</td>\n",
       "      <td>-0.335147</td>\n",
       "      <td>0</td>\n",
       "      <td>6.526331</td>\n",
       "      <td>-0.998649</td>\n",
       "      <td>-1.037516</td>\n",
       "      <td>1.640510</td>\n",
       "      <td>-2.910292</td>\n",
       "    </tr>\n",
       "    <tr>\n",
       "      <th>98</th>\n",
       "      <td>163.18</td>\n",
       "      <td>5.094854</td>\n",
       "      <td>0</td>\n",
       "      <td>22</td>\n",
       "      <td>3.8159</td>\n",
       "      <td>0</td>\n",
       "      <td>0</td>\n",
       "      <td>63.27</td>\n",
       "      <td>3.997789</td>\n",
       "      <td>-0.181889</td>\n",
       "      <td>0</td>\n",
       "      <td>6.257191</td>\n",
       "      <td>-1.162337</td>\n",
       "      <td>-1.338582</td>\n",
       "      <td>1.339177</td>\n",
       "      <td>-3.387317</td>\n",
       "    </tr>\n",
       "  </tbody>\n",
       "</table>\n",
       "</div>"
      ],
      "text/plain": [
       "    avg_exp  avg_exp_ln  gender  Age  Income  Ownrent  Selfempl  \\\n",
       "73   251.56    5.527682       0   29  5.1578        0         0   \n",
       "98   163.18    5.094854       0   22  3.8159        0         0   \n",
       "\n",
       "    dist_home_val  dist_avg_income  high_avg  edu_class      Pred     resid  \\\n",
       "73          63.23         5.492947 -0.335147          0  6.526331 -0.998649   \n",
       "98          63.27         3.997789 -0.181889          0  6.257191 -1.162337   \n",
       "\n",
       "       redid  Income_ln   resid_t  \n",
       "73 -1.037516   1.640510 -2.910292  \n",
       "98 -1.338582   1.339177 -3.387317  "
      ]
     },
     "execution_count": 21,
     "metadata": {},
     "output_type": "execute_result"
    }
   ],
   "source": [
    "exp['resid_t'] = (exp['resid'] - exp['resid'].mean()) / exp['resid'].std()\n",
    "exp[abs(exp['resid_t']) > 2]"
   ]
  },
  {
   "cell_type": "markdown",
   "metadata": {},
   "source": [
    "两条信息，说明他们是消费行为较特殊的样本，删除后再看"
   ]
  },
  {
   "cell_type": "code",
   "execution_count": 22,
   "metadata": {},
   "outputs": [
    {
     "data": {
      "image/png": "[encoded data removed]",
      "text/plain": [
       "<Figure size 432x288 with 1 Axes>"
      ]
     },
     "metadata": {
      "needs_background": "light"
     },
     "output_type": "display_data"
    }
   ],
   "source": [
    "exp2 = exp[abs(exp['resid_t']) <= 2].copy()\n",
    "ana4 = ols('avg_exp_ln ~ Income_ln', exp2).fit()\n",
    "exp2['Pred'] = ana4.predict(exp2)\n",
    "exp2['resid'] = ana4.resid\n",
    "exp2.plot('Income', 'resid', kind='scatter')\n",
    "plt.show()"
   ]
  },
  {
   "cell_type": "code",
   "execution_count": 23,
   "metadata": {},
   "outputs": [
    {
     "name": "stdout",
     "output_type": "stream",
     "text": [
      "{'exp~Income': 0.45429062315565294, 'ana4': 0.49397191385172456, 'ln(exp)~Income': 0.4030855555329651, 'ln(exp)~ln(Income)': 0.48039279938931057}\n"
     ]
    }
   ],
   "source": [
    "r_sq1 = {'exp~Income':ana1.rsquared, 'ln(exp)~Income':ana2.rsquared, 'ln(exp)~ln(Income)':ana3.rsquared,\"ana4\":ana4.rsquared}\n",
    "print(r_sq1)"
   ]
  },
  {
   "cell_type": "markdown",
   "metadata": {},
   "source": [
    "## 多重共线性\n",
    "\n",
    "是线性回归的死敌，减轻的办法有：方差膨胀因子，特征根，条件指数，无截距的多重共线性分析"
   ]
  },
  {
   "cell_type": "markdown",
   "metadata": {},
   "source": [
    "# 膨胀因子\n",
    " $$VIF_i =  \\frac{1}{1-R^2_i}$$"
   ]
  },
  {
   "cell_type": "code",
   "execution_count": 24,
   "metadata": {},
   "outputs": [],
   "source": [
    "def vif(df, col_i):\n",
    "    cols = list(df.columns)\n",
    "    cols.remove(col_i)\n",
    "    cols_noti = cols\n",
    "    formula = col_i + '~' + '+'.join(cols_noti)\n",
    "    r2 = ols(formula, df).fit().rsquared\n",
    "    return 1. / (1. - r2)"
   ]
  },
  {
   "cell_type": "code",
   "execution_count": 27,
   "metadata": {},
   "outputs": [],
   "source": [
    "exp2['dist_home_val_ln'] = np.log(exp2['dist_home_val'])\n",
    "exp2['dist_avg_income_ln'] = np.log(exp2['dist_avg_income'])"
   ]
  },
  {
   "cell_type": "code",
   "execution_count": 28,
   "metadata": {},
   "outputs": [
    {
     "data": {
      "text/html": [
       "<table class=\"simpletable\">\n",
       "<caption>OLS Regression Results</caption>\n",
       "<tr>\n",
       "  <th>Dep. Variable:</th>       <td>avg_exp_ln</td>    <th>  R-squared:         </th> <td>   0.553</td>\n",
       "</tr>\n",
       "<tr>\n",
       "  <th>Model:</th>                   <td>OLS</td>       <th>  Adj. R-squared:    </th> <td>   0.525</td>\n",
       "</tr>\n",
       "<tr>\n",
       "  <th>Method:</th>             <td>Least Squares</td>  <th>  F-statistic:       </th> <td>   19.48</td>\n",
       "</tr>\n",
       "<tr>\n",
       "  <th>Date:</th>             <td>Sat, 01 Dec 2018</td> <th>  Prob (F-statistic):</th> <td>1.79e-10</td>\n",
       "</tr>\n",
       "<tr>\n",
       "  <th>Time:</th>                 <td>21:21:44</td>     <th>  Log-Likelihood:    </th> <td> -7.3496</td>\n",
       "</tr>\n",
       "<tr>\n",
       "  <th>No. Observations:</th>      <td>    68</td>      <th>  AIC:               </th> <td>   24.70</td>\n",
       "</tr>\n",
       "<tr>\n",
       "  <th>Df Residuals:</th>          <td>    63</td>      <th>  BIC:               </th> <td>   35.80</td>\n",
       "</tr>\n",
       "<tr>\n",
       "  <th>Df Model:</th>              <td>     4</td>      <th>                     </th>     <td> </td>   \n",
       "</tr>\n",
       "<tr>\n",
       "  <th>Covariance Type:</th>      <td>nonrobust</td>    <th>                     </th>     <td> </td>   \n",
       "</tr>\n",
       "</table>\n",
       "<table class=\"simpletable\">\n",
       "<tr>\n",
       "           <td></td>             <th>coef</th>     <th>std err</th>      <th>t</th>      <th>P>|t|</th>  <th>[0.025</th>    <th>0.975]</th>  \n",
       "</tr>\n",
       "<tr>\n",
       "  <th>Intercept</th>          <td>    4.6265</td> <td>    0.317</td> <td>   14.574</td> <td> 0.000</td> <td>    3.992</td> <td>    5.261</td>\n",
       "</tr>\n",
       "<tr>\n",
       "  <th>Age</th>                <td>   -0.0006</td> <td>    0.005</td> <td>   -0.117</td> <td> 0.907</td> <td>   -0.011</td> <td>    0.010</td>\n",
       "</tr>\n",
       "<tr>\n",
       "  <th>Income_ln</th>          <td>   -0.1802</td> <td>    0.569</td> <td>   -0.317</td> <td> 0.752</td> <td>   -1.317</td> <td>    0.957</td>\n",
       "</tr>\n",
       "<tr>\n",
       "  <th>dist_home_val_ln</th>   <td>    0.1258</td> <td>    0.058</td> <td>    2.160</td> <td> 0.035</td> <td>    0.009</td> <td>    0.242</td>\n",
       "</tr>\n",
       "<tr>\n",
       "  <th>dist_avg_income_ln</th> <td>    1.0093</td> <td>    0.612</td> <td>    1.649</td> <td> 0.104</td> <td>   -0.214</td> <td>    2.233</td>\n",
       "</tr>\n",
       "</table>\n",
       "<table class=\"simpletable\">\n",
       "<tr>\n",
       "  <th>Omnibus:</th>       <td> 4.111</td> <th>  Durbin-Watson:     </th> <td>   1.609</td>\n",
       "</tr>\n",
       "<tr>\n",
       "  <th>Prob(Omnibus):</th> <td> 0.128</td> <th>  Jarque-Bera (JB):  </th> <td>   2.466</td>\n",
       "</tr>\n",
       "<tr>\n",
       "  <th>Skew:</th>          <td> 0.248</td> <th>  Prob(JB):          </th> <td>   0.291</td>\n",
       "</tr>\n",
       "<tr>\n",
       "  <th>Kurtosis:</th>      <td> 2.210</td> <th>  Cond. No.          </th> <td>    807.</td>\n",
       "</tr>\n",
       "</table><br/><br/>Warnings:<br/>[1] Standard Errors assume that the covariance matrix of the errors is correctly specified."
      ],
      "text/plain": [
       "<class 'statsmodels.iolib.summary.Summary'>\n",
       "\"\"\"\n",
       "                            OLS Regression Results                            \n",
       "==============================================================================\n",
       "Dep. Variable:             avg_exp_ln   R-squared:                       0.553\n",
       "Model:                            OLS   Adj. R-squared:                  0.525\n",
       "Method:                 Least Squares   F-statistic:                     19.48\n",
       "Date:                Sat, 01 Dec 2018   Prob (F-statistic):           1.79e-10\n",
       "Time:                        21:21:44   Log-Likelihood:                -7.3496\n",
       "No. Observations:                  68   AIC:                             24.70\n",
       "Df Residuals:                      63   BIC:                             35.80\n",
       "Df Model:                           4                                         \n",
       "Covariance Type:            nonrobust                                         \n",
       "======================================================================================\n",
       "                         coef    std err          t      P>|t|      [0.025      0.975]\n",
       "--------------------------------------------------------------------------------------\n",
       "Intercept              4.6265      0.317     14.574      0.000       3.992       5.261\n",
       "Age                   -0.0006      0.005     -0.117      0.907      -0.011       0.010\n",
       "Income_ln             -0.1802      0.569     -0.317      0.752      -1.317       0.957\n",
       "dist_home_val_ln       0.1258      0.058      2.160      0.035       0.009       0.242\n",
       "dist_avg_income_ln     1.0093      0.612      1.649      0.104      -0.214       2.233\n",
       "==============================================================================\n",
       "Omnibus:                        4.111   Durbin-Watson:                   1.609\n",
       "Prob(Omnibus):                  0.128   Jarque-Bera (JB):                2.466\n",
       "Skew:                           0.248   Prob(JB):                        0.291\n",
       "Kurtosis:                       2.210   Cond. No.                         807.\n",
       "==============================================================================\n",
       "\n",
       "Warnings:\n",
       "[1] Standard Errors assume that the covariance matrix of the errors is correctly specified.\n",
       "\"\"\""
      ]
     },
     "execution_count": 28,
     "metadata": {},
     "output_type": "execute_result"
    }
   ],
   "source": [
    "ana5 = ols('''avg_exp_ln ~ Age + Income_ln + \n",
    "           dist_home_val_ln + dist_avg_income_ln''', exp2).fit()\n",
    "ana5.summary()"
   ]
  },
  {
   "cell_type": "code",
   "execution_count": 30,
   "metadata": {},
   "outputs": [
    {
     "name": "stdout",
     "output_type": "stream",
     "text": [
      "{'ana5': 0.5529068646270383, 'ana4': 0.49397191385172456, 'ana1': 0.45429062315565294, 'ana3': 0.48039279938931057, 'ana2': 0.4030855555329651}\n"
     ]
    }
   ],
   "source": [
    "r_sq1 = {\n",
    "    'ana1':ana1.rsquared, \n",
    "    'ana2':ana2.rsquared, \n",
    "    'ana3':ana3.rsquared,\n",
    "    \"ana4\":ana4.rsquared,\n",
    "    \"ana5\":ana5.rsquared\n",
    "}\n",
    "print(r_sq1)"
   ]
  },
  {
   "cell_type": "code",
   "execution_count": 31,
   "metadata": {},
   "outputs": [
    {
     "data": {
      "text/plain": [
       "Intercept             0.317453\n",
       "Age                   0.005124\n",
       "Income_ln             0.568848\n",
       "dist_home_val_ln      0.058210\n",
       "dist_avg_income_ln    0.612197\n",
       "dtype: float64"
      ]
     },
     "execution_count": 31,
     "metadata": {},
     "output_type": "execute_result"
    }
   ],
   "source": [
    "# 参数估计的标准误差\n",
    "ana5.bse "
   ]
  },
  {
   "cell_type": "markdown",
   "metadata": {},
   "source": [
    "exog = exp2[['Income_ln', 'dist_home_val_ln','dist_avg_income_ln']]"
   ]
  },
  {
   "cell_type": "code",
   "execution_count": 26,
   "metadata": {
    "scrolled": true
   },
   "outputs": [
    {
     "data": {
      "text/html": [
       "<div>\n",
       "<style scoped>\n",
       "    .dataframe tbody tr th:only-of-type {\n",
       "        vertical-align: middle;\n",
       "    }\n",
       "\n",
       "    .dataframe tbody tr th {\n",
       "        vertical-align: top;\n",
       "    }\n",
       "\n",
       "    .dataframe thead th {\n",
       "        text-align: right;\n",
       "    }\n",
       "</style>\n",
       "<table border=\"1\" class=\"dataframe\">\n",
       "  <thead>\n",
       "    <tr style=\"text-align: right;\">\n",
       "      <th></th>\n",
       "      <th>avg_exp</th>\n",
       "      <th>avg_exp_ln</th>\n",
       "      <th>gender</th>\n",
       "      <th>Age</th>\n",
       "      <th>Income</th>\n",
       "      <th>Ownrent</th>\n",
       "      <th>Selfempl</th>\n",
       "      <th>dist_home_val</th>\n",
       "      <th>dist_avg_income</th>\n",
       "      <th>high_avg</th>\n",
       "      <th>edu_class</th>\n",
       "      <th>Pred</th>\n",
       "      <th>resid</th>\n",
       "      <th>redid</th>\n",
       "      <th>Income_ln</th>\n",
       "      <th>resid_t</th>\n",
       "    </tr>\n",
       "  </thead>\n",
       "  <tbody>\n",
       "    <tr>\n",
       "      <th>0</th>\n",
       "      <td>1217.03</td>\n",
       "      <td>7.104169</td>\n",
       "      <td>1</td>\n",
       "      <td>40</td>\n",
       "      <td>16.03515</td>\n",
       "      <td>1</td>\n",
       "      <td>1</td>\n",
       "      <td>99.93</td>\n",
       "      <td>15.932789</td>\n",
       "      <td>0.102361</td>\n",
       "      <td>3</td>\n",
       "      <td>7.477774</td>\n",
       "      <td>-0.373605</td>\n",
       "      <td>-0.529085</td>\n",
       "      <td>2.774783</td>\n",
       "      <td>-1.268422</td>\n",
       "    </tr>\n",
       "    <tr>\n",
       "      <th>1</th>\n",
       "      <td>1251.50</td>\n",
       "      <td>7.132098</td>\n",
       "      <td>1</td>\n",
       "      <td>32</td>\n",
       "      <td>15.84750</td>\n",
       "      <td>1</td>\n",
       "      <td>0</td>\n",
       "      <td>49.88</td>\n",
       "      <td>15.796316</td>\n",
       "      <td>0.051184</td>\n",
       "      <td>2</td>\n",
       "      <td>7.468587</td>\n",
       "      <td>-0.336489</td>\n",
       "      <td>-0.482730</td>\n",
       "      <td>2.763012</td>\n",
       "      <td>-1.156390</td>\n",
       "    </tr>\n",
       "    <tr>\n",
       "      <th>3</th>\n",
       "      <td>856.57</td>\n",
       "      <td>6.752936</td>\n",
       "      <td>1</td>\n",
       "      <td>41</td>\n",
       "      <td>11.47285</td>\n",
       "      <td>1</td>\n",
       "      <td>0</td>\n",
       "      <td>16.10</td>\n",
       "      <td>11.275632</td>\n",
       "      <td>0.197218</td>\n",
       "      <td>3</td>\n",
       "      <td>7.216497</td>\n",
       "      <td>-0.463561</td>\n",
       "      <td>-0.432342</td>\n",
       "      <td>2.439983</td>\n",
       "      <td>-1.420551</td>\n",
       "    </tr>\n",
       "    <tr>\n",
       "      <th>4</th>\n",
       "      <td>1321.83</td>\n",
       "      <td>7.186772</td>\n",
       "      <td>1</td>\n",
       "      <td>28</td>\n",
       "      <td>13.40915</td>\n",
       "      <td>1</td>\n",
       "      <td>0</td>\n",
       "      <td>100.39</td>\n",
       "      <td>13.346474</td>\n",
       "      <td>0.062676</td>\n",
       "      <td>2</td>\n",
       "      <td>7.338203</td>\n",
       "      <td>-0.151430</td>\n",
       "      <td>-0.188632</td>\n",
       "      <td>2.595937</td>\n",
       "      <td>-0.562182</td>\n",
       "    </tr>\n",
       "    <tr>\n",
       "      <th>5</th>\n",
       "      <td>816.03</td>\n",
       "      <td>6.704451</td>\n",
       "      <td>1</td>\n",
       "      <td>41</td>\n",
       "      <td>10.03015</td>\n",
       "      <td>0</td>\n",
       "      <td>1</td>\n",
       "      <td>119.76</td>\n",
       "      <td>10.332263</td>\n",
       "      <td>-0.302113</td>\n",
       "      <td>3</td>\n",
       "      <td>7.111621</td>\n",
       "      <td>-0.407170</td>\n",
       "      <td>-0.339167</td>\n",
       "      <td>2.305596</td>\n",
       "      <td>-1.212052</td>\n",
       "    </tr>\n",
       "  </tbody>\n",
       "</table>\n",
       "</div>"
      ],
      "text/plain": [
       "   avg_exp  avg_exp_ln  gender  Age    Income  Ownrent  Selfempl  \\\n",
       "0  1217.03    7.104169       1   40  16.03515        1         1   \n",
       "1  1251.50    7.132098       1   32  15.84750        1         0   \n",
       "3   856.57    6.752936       1   41  11.47285        1         0   \n",
       "4  1321.83    7.186772       1   28  13.40915        1         0   \n",
       "5   816.03    6.704451       1   41  10.03015        0         1   \n",
       "\n",
       "   dist_home_val  dist_avg_income  high_avg  edu_class      Pred     resid  \\\n",
       "0          99.93        15.932789  0.102361          3  7.477774 -0.373605   \n",
       "1          49.88        15.796316  0.051184          2  7.468587 -0.336489   \n",
       "3          16.10        11.275632  0.197218          3  7.216497 -0.463561   \n",
       "4         100.39        13.346474  0.062676          2  7.338203 -0.151430   \n",
       "5         119.76        10.332263 -0.302113          3  7.111621 -0.407170   \n",
       "\n",
       "      redid  Income_ln   resid_t  \n",
       "0 -0.529085   2.774783 -1.268422  \n",
       "1 -0.482730   2.763012 -1.156390  \n",
       "3 -0.432342   2.439983 -1.420551  \n",
       "4 -0.188632   2.595937 -0.562182  \n",
       "5 -0.339167   2.305596 -1.212052  "
      ]
     },
     "execution_count": 26,
     "metadata": {},
     "output_type": "execute_result"
    }
   ],
   "source": [
    "exp2.head()"
   ]
  },
  {
   "cell_type": "code",
   "execution_count": 32,
   "metadata": {},
   "outputs": [],
   "source": [
    "exog = exp2[['Income_ln', 'dist_home_val_ln','dist_avg_income_ln']]"
   ]
  },
  {
   "cell_type": "code",
   "execution_count": 33,
   "metadata": {},
   "outputs": [
    {
     "name": "stdout",
     "output_type": "stream",
     "text": [
      "Income_ln \t 36.653639058963186\n",
      "dist_home_val_ln \t 1.053596313570258\n",
      "dist_avg_income_ln \t 36.894876856102\n"
     ]
    }
   ],
   "source": [
    "for i in exog.columns:\n",
    "    print(i, '\\t', vif(df=exog, col_i=i))"
   ]
  },
  {
   "cell_type": "markdown",
   "metadata": {},
   "source": [
    "可见Income_ln 与 dist_avg_income_ln 的方差膨胀因子都大于10，存在多重共线性<br>\n",
    "Income_ln与dist_avg_income_ln具有共线性，使用“高出平均收入的比率”代替其中一个<br>"
   ]
  },
  {
   "cell_type": "code",
   "execution_count": 34,
   "metadata": {},
   "outputs": [],
   "source": [
    "exp2['high_avg_ratio'] = exp2['high_avg'] / exp2['dist_avg_income']"
   ]
  },
  {
   "cell_type": "code",
   "execution_count": 35,
   "metadata": {},
   "outputs": [
    {
     "name": "stdout",
     "output_type": "stream",
     "text": [
      "high_avg_ratio \t 1.1230220802048871\n",
      "dist_home_val_ln \t 1.0527009887483532\n",
      "dist_avg_income_ln \t 1.1762825351755393\n"
     ]
    }
   ],
   "source": [
    "exog1 = exp2[['high_avg_ratio', 'dist_home_val_ln','dist_avg_income_ln']]\n",
    "\n",
    "for i in exog1.columns:\n",
    "    print(i, '\\t', vif(df=exog1, col_i=i))"
   ]
  },
  {
   "cell_type": "markdown",
   "metadata": {},
   "source": [
    "# 小结"
   ]
  },
  {
   "cell_type": "markdown",
   "metadata": {},
   "source": [
    "步骤：\n",
    "\n",
    "1、在模型设置时，选择何种回归方法，如何选变量，以及变量以何种形式放入模型（根据理论，看散点图）\n",
    "\n",
    "2、自变量与扰动项不能相关（根据理论或常识判断，无法检验）\n",
    "\n",
    "3、自变量之间不能强线性相关（膨胀系数）\n",
    "\n",
    "4、扰动项独立同分布（异方差检验，DW检验）\n",
    "\n",
    "5、扰动项服从正态分布（QQ检验）"
   ]
  },
  {
   "cell_type": "markdown",
   "metadata": {},
   "source": [
    "### 建模流程\n",
    "\n",
    "1.初始分析\n",
    "\n",
    "2.变量选择\n",
    "\n",
    "3.验证模型假定\n",
    "\n",
    "4.多重共线性与强影响点的诊断与分析\n",
    "\n",
    "5.模型是否有问题\n",
    "\n",
    "6.预测和解释"
   ]
  },
  {
   "cell_type": "code",
   "execution_count": null,
   "metadata": {},
   "outputs": [],
   "source": []
  }
 ],
 "metadata": {
  "kernelspec": {
   "display_name": "Python 3",
   "language": "python",
   "name": "python3"
  },
  "language_info": {
   "codemirror_mode": {
    "name": "ipython",
    "version": 3
   },
   "file_extension": ".py",
   "mimetype": "text/x-python",
   "name": "python",
   "nbconvert_exporter": "python",
   "pygments_lexer": "ipython3",
   "version": "3.5.2"
  }
 },
 "nbformat": 4,
 "nbformat_minor": 2
}
