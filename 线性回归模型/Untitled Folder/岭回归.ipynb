{
 "cells": [
  {
   "cell_type": "markdown",
   "metadata": {},
   "source": [
    "### 本次只使用连续变量，之后更新离散变量"
   ]
  },
  {
   "cell_type": "code",
   "execution_count": 1,
   "metadata": {},
   "outputs": [],
   "source": [
    "import matplotlib.pyplot as plt\n",
    "import os\n",
    "import numpy as np\n",
    "import pandas as pd\n",
    "import statsmodels.api as sm\n",
    "from statsmodels.formula.api import ols"
   ]
  },
  {
   "cell_type": "code",
   "execution_count": 2,
   "metadata": {
    "scrolled": true
   },
   "outputs": [
    {
     "data": {
      "text/html": [
       "<div>\n",
       "<style scoped>\n",
       "    .dataframe tbody tr th:only-of-type {\n",
       "        vertical-align: middle;\n",
       "    }\n",
       "\n",
       "    .dataframe tbody tr th {\n",
       "        vertical-align: top;\n",
       "    }\n",
       "\n",
       "    .dataframe thead th {\n",
       "        text-align: right;\n",
       "    }\n",
       "</style>\n",
       "<table border=\"1\" class=\"dataframe\">\n",
       "  <thead>\n",
       "    <tr style=\"text-align: right;\">\n",
       "      <th></th>\n",
       "      <th>id</th>\n",
       "      <th>Acc</th>\n",
       "      <th>avg_exp</th>\n",
       "      <th>avg_exp_ln</th>\n",
       "      <th>gender</th>\n",
       "      <th>Age</th>\n",
       "      <th>Income</th>\n",
       "      <th>Ownrent</th>\n",
       "      <th>Selfempl</th>\n",
       "      <th>dist_home_val</th>\n",
       "      <th>dist_avg_income</th>\n",
       "      <th>age2</th>\n",
       "      <th>high_avg</th>\n",
       "      <th>edu_class</th>\n",
       "    </tr>\n",
       "  </thead>\n",
       "  <tbody>\n",
       "    <tr>\n",
       "      <th>0</th>\n",
       "      <td>19</td>\n",
       "      <td>1</td>\n",
       "      <td>1217.03</td>\n",
       "      <td>7.104169</td>\n",
       "      <td>1</td>\n",
       "      <td>40</td>\n",
       "      <td>16.03515</td>\n",
       "      <td>1</td>\n",
       "      <td>1</td>\n",
       "      <td>99.93</td>\n",
       "      <td>15.932789</td>\n",
       "      <td>1600</td>\n",
       "      <td>0.102361</td>\n",
       "      <td>3</td>\n",
       "    </tr>\n",
       "    <tr>\n",
       "      <th>1</th>\n",
       "      <td>5</td>\n",
       "      <td>1</td>\n",
       "      <td>1251.50</td>\n",
       "      <td>7.132098</td>\n",
       "      <td>1</td>\n",
       "      <td>32</td>\n",
       "      <td>15.84750</td>\n",
       "      <td>1</td>\n",
       "      <td>0</td>\n",
       "      <td>49.88</td>\n",
       "      <td>15.796316</td>\n",
       "      <td>1024</td>\n",
       "      <td>0.051184</td>\n",
       "      <td>2</td>\n",
       "    </tr>\n",
       "    <tr>\n",
       "      <th>2</th>\n",
       "      <td>95</td>\n",
       "      <td>0</td>\n",
       "      <td>NaN</td>\n",
       "      <td>NaN</td>\n",
       "      <td>1</td>\n",
       "      <td>36</td>\n",
       "      <td>8.40000</td>\n",
       "      <td>0</td>\n",
       "      <td>0</td>\n",
       "      <td>88.61</td>\n",
       "      <td>7.490000</td>\n",
       "      <td>1296</td>\n",
       "      <td>0.910000</td>\n",
       "      <td>1</td>\n",
       "    </tr>\n",
       "    <tr>\n",
       "      <th>3</th>\n",
       "      <td>86</td>\n",
       "      <td>1</td>\n",
       "      <td>856.57</td>\n",
       "      <td>6.752936</td>\n",
       "      <td>1</td>\n",
       "      <td>41</td>\n",
       "      <td>11.47285</td>\n",
       "      <td>1</td>\n",
       "      <td>0</td>\n",
       "      <td>16.10</td>\n",
       "      <td>11.275632</td>\n",
       "      <td>1681</td>\n",
       "      <td>0.197218</td>\n",
       "      <td>3</td>\n",
       "    </tr>\n",
       "    <tr>\n",
       "      <th>4</th>\n",
       "      <td>50</td>\n",
       "      <td>1</td>\n",
       "      <td>1321.83</td>\n",
       "      <td>7.186772</td>\n",
       "      <td>1</td>\n",
       "      <td>28</td>\n",
       "      <td>13.40915</td>\n",
       "      <td>1</td>\n",
       "      <td>0</td>\n",
       "      <td>100.39</td>\n",
       "      <td>13.346474</td>\n",
       "      <td>784</td>\n",
       "      <td>0.062676</td>\n",
       "      <td>2</td>\n",
       "    </tr>\n",
       "  </tbody>\n",
       "</table>\n",
       "</div>"
      ],
      "text/plain": [
       "   id  Acc  avg_exp  avg_exp_ln  gender  Age    Income  Ownrent  Selfempl  \\\n",
       "0  19    1  1217.03    7.104169       1   40  16.03515        1         1   \n",
       "1   5    1  1251.50    7.132098       1   32  15.84750        1         0   \n",
       "2  95    0      NaN         NaN       1   36   8.40000        0         0   \n",
       "3  86    1   856.57    6.752936       1   41  11.47285        1         0   \n",
       "4  50    1  1321.83    7.186772       1   28  13.40915        1         0   \n",
       "\n",
       "   dist_home_val  dist_avg_income  age2  high_avg  edu_class  \n",
       "0          99.93        15.932789  1600  0.102361          3  \n",
       "1          49.88        15.796316  1024  0.051184          2  \n",
       "2          88.61         7.490000  1296  0.910000          1  \n",
       "3          16.10        11.275632  1681  0.197218          3  \n",
       "4         100.39        13.346474   784  0.062676          2  "
      ]
     },
     "execution_count": 2,
     "metadata": {},
     "output_type": "execute_result"
    }
   ],
   "source": [
    "raw = pd.read_csv(r'../简单线性回归模型(一元)/creditcard_exp.csv', skipinitialspace=True)\n",
    "raw.head()"
   ]
  },
  {
   "cell_type": "code",
   "execution_count": 16,
   "metadata": {},
   "outputs": [],
   "source": [
    "exp = raw[raw[\"avg_exp\"].notnull()].copy().iloc[:,2:].drop(\"age2\",axis=1)\n",
    "exp_new = raw[raw['avg_exp'].isnull()].copy().iloc[:, 2:].drop('age2',axis=1)"
   ]
  },
  {
   "cell_type": "markdown",
   "metadata": {},
   "source": [
    "## 岭回归 \n",
    "\n",
    "提前去量纲化，否则惩罚力度不一样"
   ]
  },
  {
   "cell_type": "code",
   "execution_count": 5,
   "metadata": {},
   "outputs": [
    {
     "name": "stdout",
     "output_type": "stream",
     "text": [
      "None\n"
     ]
    }
   ],
   "source": [
    "lmr = ols('avg_exp ~ Income + dist_home_val + dist_avg_income',data=exp).fit_regularized(alpha=1, L1_wt=0)\n",
    "\n",
    "print(lmr.summary())\n",
    "# L1_wt参数为0则使用岭回归，为1使用lasso"
   ]
  },
  {
   "cell_type": "markdown",
   "metadata": {},
   "source": [
    "What's the fuck?\n",
    "\n",
    "## 用sklearn!!!"
   ]
  },
  {
   "cell_type": "code",
   "execution_count": 6,
   "metadata": {},
   "outputs": [],
   "source": [
    "from sklearn.preprocessing import StandardScaler"
   ]
  },
  {
   "cell_type": "code",
   "execution_count": 8,
   "metadata": {},
   "outputs": [],
   "source": [
    "continuous_xcols = ['Age', 'Income', 'dist_home_val', 'dist_avg_income']   #  抽取连续变量\n",
    "scaler = StandardScaler()  # 标准化\n",
    "X = scaler.fit_transform(exp[continuous_xcols]) #自变量\n",
    "y = exp['avg_exp_ln']  # 因变量"
   ]
  },
  {
   "cell_type": "code",
   "execution_count": 9,
   "metadata": {},
   "outputs": [],
   "source": [
    "# 使用交叉验证不同正则化系数\n",
    "\n",
    "from sklearn.linear_model import RidgeCV"
   ]
  },
  {
   "cell_type": "markdown",
   "metadata": {},
   "source": [
    "自动生成一个在$10^{-2}$到$10^3$范围内的数组"
   ]
  },
  {
   "cell_type": "code",
   "execution_count": 21,
   "metadata": {},
   "outputs": [],
   "source": [
    "alphas = np.logspace(-2,3,100,base=10) "
   ]
  },
  {
   "cell_type": "code",
   "execution_count": 22,
   "metadata": {},
   "outputs": [
    {
     "data": {
      "text/plain": [
       "RidgeCV(alphas=array([1.00000e-02, 1.12332e-02, ..., 8.90215e+02, 1.00000e+03]),\n",
       "    cv=None, fit_intercept=True, gcv_mode=None, normalize=False,\n",
       "    scoring=None, store_cv_values=True)"
      ]
     },
     "execution_count": 22,
     "metadata": {},
     "output_type": "execute_result"
    }
   ],
   "source": [
    "# 用交叉验证找出最小MSE\n",
    "rcv = RidgeCV(alphas = alphas,\n",
    "              store_cv_values=True) # True 保留每次交叉验证结果\n",
    "rcv.fit(X,y)\n"
   ]
  },
  {
   "cell_type": "markdown",
   "metadata": {},
   "source": [
    "使用数据集训练（fit方法后），对象rcv包含了当前搜索空间中最优参数以该参数下的模型$R^2$"
   ]
  },
  {
   "cell_type": "code",
   "execution_count": 13,
   "metadata": {},
   "outputs": [
    {
     "name": "stdout",
     "output_type": "stream",
     "text": [
      "The best alpha is 0.2915053062825176\n",
      "The r-square is 0.4756826777019508\n"
     ]
    }
   ],
   "source": [
    "print('The best alpha is {}'.format(rcv.alpha_))\n",
    "print('The r-square is {}'.format(rcv.score(X, y))) "
   ]
  },
  {
   "cell_type": "code",
   "execution_count": 17,
   "metadata": {},
   "outputs": [
    {
     "data": {
      "text/plain": [
       "array([759.67677561, 606.74024213, 661.20654568, 681.888929  ,\n",
       "       641.06967182])"
      ]
     },
     "execution_count": 17,
     "metadata": {},
     "output_type": "execute_result"
    }
   ],
   "source": [
    "#可直接用于预测\n",
    "X_new = scaler.transform(exp_new[continuous_xcols])\n",
    "np.exp(rcv.predict(X_new)[:5])"
   ]
  },
  {
   "cell_type": "code",
   "execution_count": 23,
   "metadata": {},
   "outputs": [
    {
     "data": {
      "image/png": "[encoded data removed]",
      "text/plain": [
       "<Figure size 432x288 with 1 Axes>"
      ]
     },
     "metadata": {
      "needs_background": "light"
     },
     "output_type": "display_data"
    }
   ],
   "source": [
    "cv_values = rcv.cv_values_\n",
    "n_fold, n_alphas = cv_values.shape\n",
    "\n",
    "cv_mean = cv_values.mean(axis=0)\n",
    "cv_std = cv_values.std(axis=0)\n",
    "ub = cv_mean + cv_std / np.sqrt(n_fold)\n",
    "lb = cv_mean - cv_std / np.sqrt(n_fold)\n",
    "\n",
    "plt.semilogx(alphas, cv_mean, label='mean_score')\n",
    "plt.fill_between(alphas, lb, ub, alpha=0.2)\n",
    "plt.xlabel(\"$\\\\alpha$\")\n",
    "plt.ylabel(\"mean squared errors\")\n",
    "plt.legend(loc=\"best\")\n",
    "plt.show()"
   ]
  },
  {
   "cell_type": "code",
   "execution_count": 24,
   "metadata": {},
   "outputs": [
    {
     "data": {
      "text/plain": [
       "array([ 0.03321449, -0.30956185,  0.05551208,  0.59067449])"
      ]
     },
     "execution_count": 24,
     "metadata": {},
     "output_type": "execute_result"
    }
   ],
   "source": [
    "rcv.coef_ #不符合业务规律"
   ]
  },
  {
   "cell_type": "code",
   "execution_count": 25,
   "metadata": {},
   "outputs": [],
   "source": [
    "# 岭迹图 ：在不同正则化系数下变量系数的轨迹\n",
    "from sklearn.linear_model import Ridge\n",
    "#将不同正则化系数下的变量系数保存下来\n",
    "ridge = Ridge()\n",
    "\n",
    "coefs = []\n",
    "for alpha in alphas:\n",
    "    ridge.set_params(alpha=alpha)\n",
    "    ridge.fit(X, y)\n",
    "    coefs.append(ridge.coef_)\n"
   ]
  },
  {
   "cell_type": "code",
   "execution_count": 26,
   "metadata": {},
   "outputs": [
    {
     "data": {
      "image/png": "[encoded data removed]",
      "text/plain": [
       "<Figure size 432x288 with 1 Axes>"
      ]
     },
     "metadata": {
      "needs_background": "light"
     },
     "output_type": "display_data"
    }
   ],
   "source": [
    "#可视化\n",
    "ax = plt.gca()\n",
    "\n",
    "ax.plot(alphas, coefs)\n",
    "ax.set_xscale('log')\n",
    "plt.xlabel('alpha')\n",
    "plt.ylabel('weights')\n",
    "plt.title('Ridge coefficients as a function of the regularization')\n",
    "plt.axis('tight')\n",
    "plt.show()"
   ]
  },
  {
   "cell_type": "markdown",
   "metadata": {},
   "source": [
    "1. 有两个变量的系数在不同的正则化参数下都接近于0，可以删除\n",
    "\n",
    "2.正则化参数越大，对变量系数的惩罚越大，所有变量系数都趋近于0。<br>\n",
    "这是由于如果正则化参数非常大，那么要令损失函数$\\sum_{i=0}^{n}(y_i - y_i)$"
   ]
  },
  {
   "cell_type": "code",
   "execution_count": 27,
   "metadata": {},
   "outputs": [
    {
     "data": {
      "text/plain": [
       "array([0.03293109, 0.09907747, 0.04976305, 0.12101456])"
      ]
     },
     "execution_count": 27,
     "metadata": {},
     "output_type": "execute_result"
    }
   ],
   "source": [
    "ridge.set_params(alpha=40)\n",
    "ridge.fit(X, y)\n",
    "ridge.coef_"
   ]
  },
  {
   "cell_type": "code",
   "execution_count": 28,
   "metadata": {},
   "outputs": [
    {
     "data": {
      "text/plain": [
       "0.4255673043353688"
      ]
     },
     "execution_count": 28,
     "metadata": {},
     "output_type": "execute_result"
    }
   ],
   "source": [
    "ridge.score(X,y)"
   ]
  },
  {
   "cell_type": "code",
   "execution_count": 29,
   "metadata": {},
   "outputs": [
    {
     "data": {
      "text/plain": [
       "array([934.79025945, 727.11042209, 703.88143602, 759.04342764,\n",
       "       709.54172995])"
      ]
     },
     "execution_count": 29,
     "metadata": {},
     "output_type": "execute_result"
    }
   ],
   "source": [
    "# 预测结果\n",
    "np.exp(ridge.predict(X_new)[:5])"
   ]
  },
  {
   "cell_type": "code",
   "execution_count": null,
   "metadata": {},
   "outputs": [],
   "source": []
  }
 ],
 "metadata": {
  "kernelspec": {
   "display_name": "Python 3",
   "language": "python",
   "name": "python3"
  },
  "language_info": {
   "codemirror_mode": {
    "name": "ipython",
    "version": 3
   },
   "file_extension": ".py",
   "mimetype": "text/x-python",
   "name": "python",
   "nbconvert_exporter": "python",
   "pygments_lexer": "ipython3",
   "version": "3.5.2"
  }
 },
 "nbformat": 4,
 "nbformat_minor": 2
}
