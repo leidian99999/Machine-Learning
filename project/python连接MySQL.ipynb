{
 "cells": [
  {
   "cell_type": "code",
   "execution_count": 1,
   "metadata": {},
   "outputs": [],
   "source": [
    "import pymysql"
   ]
  },
  {
   "cell_type": "code",
   "execution_count": 2,
   "metadata": {},
   "outputs": [],
   "source": [
    "# 创建连接\n",
    "# 参数依次对应服务器地址，用户名，密码，数据库\n",
    "conn = pymysql.connect(host='rr-2zeam7183985tg357.mysql.rds.aliyuncs.com', \n",
    "                       user='readtest', \n",
    "                       passwd='Ryx@2017', \n",
    "                       db='ruubypayanalysis')\n"
   ]
  },
  {
   "cell_type": "code",
   "execution_count": 3,
   "metadata": {},
   "outputs": [],
   "source": [
    "# 创建游标\n",
    "cursor = conn.cursor(cursor=pymysql.cursors.DictCursor)"
   ]
  },
  {
   "cell_type": "code",
   "execution_count": 4,
   "metadata": {},
   "outputs": [
    {
     "name": "stdout",
     "output_type": "stream",
     "text": [
      "30\n"
     ]
    }
   ],
   "source": [
    "# 执行语句返回影响的行数\n",
    "effect_row = cursor.execute(\"show tables;\")\n",
    "print(effect_row)"
   ]
  },
  {
   "cell_type": "code",
   "execution_count": null,
   "metadata": {},
   "outputs": [],
   "source": [
    "result = cursor.fetchall() # 获取所有数据\n",
    "result = cursor.fetchone() # 获取下一个数据\n",
    "result = cursor.fetchone() # 获取下一个数据（在上一个的基础之上）"
   ]
  },
  {
   "cell_type": "code",
   "execution_count": null,
   "metadata": {},
   "outputs": [],
   "source": [
    "# 提交，不然无法保存新建或者修改的数据\n",
    "conn.commit()\n",
    "# 关闭游标\n",
    "cursor.close()\n",
    "# 关闭连接\n",
    "conn.close()"
   ]
  }
 ],
 "metadata": {
  "kernelspec": {
   "display_name": "Python 3",
   "language": "python",
   "name": "python3"
  },
  "language_info": {
   "codemirror_mode": {
    "name": "ipython",
    "version": 3
   },
   "file_extension": ".py",
   "mimetype": "text/x-python",
   "name": "python",
   "nbconvert_exporter": "python",
   "pygments_lexer": "ipython3",
   "version": "3.6.5"
  }
 },
 "nbformat": 4,
 "nbformat_minor": 2
}
