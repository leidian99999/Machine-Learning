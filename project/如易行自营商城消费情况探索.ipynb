{
 "cells": [
  {
   "cell_type": "code",
   "execution_count": 28,
   "metadata": {},
   "outputs": [],
   "source": [
    "import pandas as pd\n",
    "import numpy as np\n",
    "import matplotlib.pyplot as plt\n",
    "from datetime import datetime\n",
    "%matplotlib inline\n",
    "plt.style.use('ggplot')\n",
    "from impala.dbapi import connect\n",
    "import warnings\n",
    "\n",
    "warnings.filterwarnings('ignore')"
   ]
  },
  {
   "cell_type": "code",
   "execution_count": 2,
   "metadata": {},
   "outputs": [],
   "source": [
    "# 查询所有字段\n",
    "def list_col(localhost,database, port,tabls_name):\n",
    "    db = connect(localhost,port,database)\n",
    "    cursor = db.cursor()\n",
    "    cursor.execute(\"select * from %s\" % tabls_name)\n",
    "    col_name_list = [tuple[0] for tuple in cursor.description]\n",
    "    db.close()\n",
    "    return col_name_list"
   ]
  },
  {
   "cell_type": "code",
   "execution_count": 3,
   "metadata": {},
   "outputs": [],
   "source": [
    "# 列出所有的表\n",
    "def list_table(localhost,database,port):\n",
    "    db = connect(localhost,database,port)\n",
    "    cursor = db.cursor()\n",
    "    cursor.execute(\"show tables\")\n",
    "    table_list = [tuple[0] for tuple in cursor.fetchall()]\n",
    "    db.close()\n",
    "    return table_list"
   ]
  },
  {
   "cell_type": "code",
   "execution_count": 4,
   "metadata": {},
   "outputs": [],
   "source": [
    "port = 21050\n",
    "localhost = \"172.22.210.29\" # 连接地址\n",
    "database = \"bigtables\" # 数据库名\n",
    "tabls_name = \"shop_order\""
   ]
  },
  {
   "cell_type": "code",
   "execution_count": 5,
   "metadata": {},
   "outputs": [
    {
     "name": "stdout",
     "output_type": "stream",
     "text": [
      "表中所有字段名:\n",
      "  order_no\n",
      "  user_id\n",
      "  user_card_no\n",
      "  total_amount\n",
      "  total_rmb_amount\n",
      "  payable_rmb_amount\n",
      "  payable_amount\n",
      "  status\n",
      "  create_date\n",
      "  payment_date\n",
      "  pay_order_no\n",
      "  payment_channel_no\n",
      "  payment_channel\n",
      "  fail_reason\n",
      "  fail_code\n",
      "  close_date\n",
      "  finish_date\n",
      "  refund_date\n",
      "  reward_amount\n",
      "  user_rmb_amount\n",
      "  paychannel_discount_amount\n",
      "  product_id\n",
      "  product_name\n",
      "  product_sub_name\n",
      "  product_image\n",
      "  conpon_card_num\n",
      "  buy_num\n",
      "  amount\n",
      "  amount_rmb\n",
      "  num\n",
      "  object_type\n",
      "  object_id\n",
      "  external_order_no\n",
      "  goods_valid_startdate\n",
      "  goods_valid_enddate\n",
      "  province\n",
      "  city\n",
      "  gender\n",
      "  age\n",
      "  regdate\n",
      "  phoneregion\n",
      "  phonebrand\n",
      "  phonecarrier\n",
      "  cardnumber\n",
      "  cardnickname\n",
      "  cardtype\n",
      "  securetype\n",
      "  paymentmethod\n",
      "  binddate\n",
      "  cardstatus\n",
      "  firstentry\n",
      "  dt\n"
     ]
    }
   ],
   "source": [
    "# tables = list_table(localhost,port,database) \n",
    "# print('库中所有表名:',*tables,sep = '\\n  ')\n",
    "columns = list_col(localhost,database, port,tabls_name)\n",
    "# print('表中所有字段名:',*columns,sep = '\\n  ')"
   ]
  },
  {
   "cell_type": "code",
   "execution_count": 6,
   "metadata": {},
   "outputs": [],
   "source": [
    "conn = connect(host=\"172.22.210.29\",port =21050 , database = \"bigtables\",timeout=3600 )\n",
    "cur_data = conn.cursor()\n",
    "cur_data.execute('''SELECT * from shop_order;''')"
   ]
  },
  {
   "cell_type": "code",
   "execution_count": 7,
   "metadata": {},
   "outputs": [],
   "source": [
    "data=cur_data.fetchall()"
   ]
  },
  {
   "cell_type": "code",
   "execution_count": 8,
   "metadata": {},
   "outputs": [],
   "source": [
    "data = pd.DataFrame(data,columns=columns)"
   ]
  },
  {
   "cell_type": "code",
   "execution_count": 51,
   "metadata": {},
   "outputs": [],
   "source": [
    "data1 = data.copy()"
   ]
  },
  {
   "cell_type": "code",
   "execution_count": 52,
   "metadata": {},
   "outputs": [
    {
     "data": {
      "text/html": [
       "<div>\n",
       "<style scoped>\n",
       "    .dataframe tbody tr th:only-of-type {\n",
       "        vertical-align: middle;\n",
       "    }\n",
       "\n",
       "    .dataframe tbody tr th {\n",
       "        vertical-align: top;\n",
       "    }\n",
       "\n",
       "    .dataframe thead th {\n",
       "        text-align: right;\n",
       "    }\n",
       "</style>\n",
       "<table border=\"1\" class=\"dataframe\">\n",
       "  <thead>\n",
       "    <tr style=\"text-align: right;\">\n",
       "      <th></th>\n",
       "      <th>order_no</th>\n",
       "      <th>user_id</th>\n",
       "      <th>user_card_no</th>\n",
       "      <th>total_amount</th>\n",
       "      <th>total_rmb_amount</th>\n",
       "      <th>payable_rmb_amount</th>\n",
       "      <th>payable_amount</th>\n",
       "      <th>status</th>\n",
       "      <th>create_date</th>\n",
       "      <th>payment_date</th>\n",
       "      <th>...</th>\n",
       "      <th>phonecarrier</th>\n",
       "      <th>cardnumber</th>\n",
       "      <th>cardnickname</th>\n",
       "      <th>cardtype</th>\n",
       "      <th>securetype</th>\n",
       "      <th>paymentmethod</th>\n",
       "      <th>binddate</th>\n",
       "      <th>cardstatus</th>\n",
       "      <th>firstentry</th>\n",
       "      <th>dt</th>\n",
       "    </tr>\n",
       "  </thead>\n",
       "  <tbody>\n",
       "    <tr>\n",
       "      <th>0</th>\n",
       "      <td>181228194053458358</td>\n",
       "      <td>5988</td>\n",
       "      <td>null</td>\n",
       "      <td>0.0</td>\n",
       "      <td>7.0</td>\n",
       "      <td>7.0</td>\n",
       "      <td>0.0</td>\n",
       "      <td>2</td>\n",
       "      <td>2018-12-28 19:40:22</td>\n",
       "      <td>null</td>\n",
       "      <td>...</td>\n",
       "      <td>移动</td>\n",
       "      <td>10100053205000000003</td>\n",
       "      <td></td>\n",
       "      <td>02</td>\n",
       "      <td>03</td>\n",
       "      <td>31.0</td>\n",
       "      <td>2017-09-06</td>\n",
       "      <td>0000000000000000000000000000000000000001</td>\n",
       "      <td>20170909171422</td>\n",
       "      <td>FULL</td>\n",
       "    </tr>\n",
       "    <tr>\n",
       "      <th>1</th>\n",
       "      <td>181228194294315593</td>\n",
       "      <td>1009675</td>\n",
       "      <td>null</td>\n",
       "      <td>0.0</td>\n",
       "      <td>7.0</td>\n",
       "      <td>7.0</td>\n",
       "      <td>0.0</td>\n",
       "      <td>7</td>\n",
       "      <td>2018-12-28 19:42:22</td>\n",
       "      <td>2018-12-28 19:43:38</td>\n",
       "      <td>...</td>\n",
       "      <td>移动</td>\n",
       "      <td>10100053205000404089</td>\n",
       "      <td></td>\n",
       "      <td>02</td>\n",
       "      <td>03</td>\n",
       "      <td>31.0</td>\n",
       "      <td>2018-01-23</td>\n",
       "      <td>0000000000000000000000000000000000000001</td>\n",
       "      <td>20180428212952</td>\n",
       "      <td>FULL</td>\n",
       "    </tr>\n",
       "    <tr>\n",
       "      <th>2</th>\n",
       "      <td>181228194687915299</td>\n",
       "      <td>71</td>\n",
       "      <td>null</td>\n",
       "      <td>0.0</td>\n",
       "      <td>7.0</td>\n",
       "      <td>7.0</td>\n",
       "      <td>0.0</td>\n",
       "      <td>6</td>\n",
       "      <td>2018-12-28 19:46:04</td>\n",
       "      <td>2018-12-28 19:46:30</td>\n",
       "      <td>...</td>\n",
       "      <td>移动</td>\n",
       "      <td>10100053205000003067</td>\n",
       "      <td></td>\n",
       "      <td>02</td>\n",
       "      <td>03</td>\n",
       "      <td>31.0</td>\n",
       "      <td>2017-09-20</td>\n",
       "      <td>0000000000000000000000000000000000000001</td>\n",
       "      <td>20180324030026</td>\n",
       "      <td>FULL</td>\n",
       "    </tr>\n",
       "    <tr>\n",
       "      <th>3</th>\n",
       "      <td>181228194793578628</td>\n",
       "      <td>1009675</td>\n",
       "      <td>null</td>\n",
       "      <td>0.0</td>\n",
       "      <td>7.0</td>\n",
       "      <td>7.0</td>\n",
       "      <td>0.0</td>\n",
       "      <td>6</td>\n",
       "      <td>2018-12-28 19:47:26</td>\n",
       "      <td>2018-12-28 19:47:49</td>\n",
       "      <td>...</td>\n",
       "      <td>移动</td>\n",
       "      <td>10100053205000404089</td>\n",
       "      <td></td>\n",
       "      <td>02</td>\n",
       "      <td>03</td>\n",
       "      <td>31.0</td>\n",
       "      <td>2018-01-23</td>\n",
       "      <td>0000000000000000000000000000000000000001</td>\n",
       "      <td>20180428212952</td>\n",
       "      <td>FULL</td>\n",
       "    </tr>\n",
       "    <tr>\n",
       "      <th>4</th>\n",
       "      <td>181228194810769766</td>\n",
       "      <td>71</td>\n",
       "      <td>null</td>\n",
       "      <td>0.0</td>\n",
       "      <td>7.0</td>\n",
       "      <td>7.0</td>\n",
       "      <td>0.0</td>\n",
       "      <td>1</td>\n",
       "      <td>2018-12-28 19:48:29</td>\n",
       "      <td>2018-12-28 19:50:19</td>\n",
       "      <td>...</td>\n",
       "      <td>移动</td>\n",
       "      <td>10100053205000003067</td>\n",
       "      <td></td>\n",
       "      <td>02</td>\n",
       "      <td>03</td>\n",
       "      <td>31.0</td>\n",
       "      <td>2017-09-20</td>\n",
       "      <td>0000000000000000000000000000000000000001</td>\n",
       "      <td>20180324030026</td>\n",
       "      <td>FULL</td>\n",
       "    </tr>\n",
       "  </tbody>\n",
       "</table>\n",
       "<p>5 rows × 52 columns</p>\n",
       "</div>"
      ],
      "text/plain": [
       "             order_no  user_id user_card_no  total_amount  total_rmb_amount  \\\n",
       "0  181228194053458358     5988         null           0.0               7.0   \n",
       "1  181228194294315593  1009675         null           0.0               7.0   \n",
       "2  181228194687915299       71         null           0.0               7.0   \n",
       "3  181228194793578628  1009675         null           0.0               7.0   \n",
       "4  181228194810769766       71         null           0.0               7.0   \n",
       "\n",
       "   payable_rmb_amount  payable_amount  status          create_date  \\\n",
       "0                 7.0             0.0       2  2018-12-28 19:40:22   \n",
       "1                 7.0             0.0       7  2018-12-28 19:42:22   \n",
       "2                 7.0             0.0       6  2018-12-28 19:46:04   \n",
       "3                 7.0             0.0       6  2018-12-28 19:47:26   \n",
       "4                 7.0             0.0       1  2018-12-28 19:48:29   \n",
       "\n",
       "          payment_date  ... phonecarrier            cardnumber  cardnickname  \\\n",
       "0                 null  ...           移动  10100053205000000003                 \n",
       "1  2018-12-28 19:43:38  ...           移动  10100053205000404089                 \n",
       "2  2018-12-28 19:46:30  ...           移动  10100053205000003067                 \n",
       "3  2018-12-28 19:47:49  ...           移动  10100053205000404089                 \n",
       "4  2018-12-28 19:50:19  ...           移动  10100053205000003067                 \n",
       "\n",
       "  cardtype securetype paymentmethod    binddate  \\\n",
       "0       02         03          31.0  2017-09-06   \n",
       "1       02         03          31.0  2018-01-23   \n",
       "2       02         03          31.0  2017-09-20   \n",
       "3       02         03          31.0  2018-01-23   \n",
       "4       02         03          31.0  2017-09-20   \n",
       "\n",
       "                                 cardstatus      firstentry    dt  \n",
       "0  0000000000000000000000000000000000000001  20170909171422  FULL  \n",
       "1  0000000000000000000000000000000000000001  20180428212952  FULL  \n",
       "2  0000000000000000000000000000000000000001  20180324030026  FULL  \n",
       "3  0000000000000000000000000000000000000001  20180428212952  FULL  \n",
       "4  0000000000000000000000000000000000000001  20180324030026  FULL  \n",
       "\n",
       "[5 rows x 52 columns]"
      ]
     },
     "execution_count": 52,
     "metadata": {},
     "output_type": "execute_result"
    }
   ],
   "source": [
    "data1.head()"
   ]
  },
  {
   "cell_type": "code",
   "execution_count": 53,
   "metadata": {},
   "outputs": [
    {
     "data": {
      "text/plain": [
       "(222579, 52)"
      ]
     },
     "execution_count": 53,
     "metadata": {},
     "output_type": "execute_result"
    }
   ],
   "source": [
    "data1 = data1[data1[\"status\"] == 1]\n",
    "data1.shape"
   ]
  },
  {
   "cell_type": "code",
   "execution_count": 54,
   "metadata": {
    "scrolled": true
   },
   "outputs": [],
   "source": [
    "df = data1[[\"user_id\",\"create_date\",\"payable_rmb_amount\"]]"
   ]
  },
  {
   "cell_type": "code",
   "execution_count": 55,
   "metadata": {},
   "outputs": [],
   "source": [
    "df[\"create_date\"] = pd.to_datetime(df[\"create_date\"])"
   ]
  },
  {
   "cell_type": "code",
   "execution_count": 56,
   "metadata": {},
   "outputs": [],
   "source": [
    "df[\"date\"] = df[\"create_date\"].dt.date"
   ]
  },
  {
   "cell_type": "code",
   "execution_count": 57,
   "metadata": {},
   "outputs": [],
   "source": [
    "df[\"month\"] = df[\"date\"].values.astype('datetime64[M]')"
   ]
  },
  {
   "cell_type": "code",
   "execution_count": 64,
   "metadata": {},
   "outputs": [
    {
     "name": "stdout",
     "output_type": "stream",
     "text": [
      "<class 'pandas.core.frame.DataFrame'>\n",
      "Int64Index: 222579 entries, 4 to 334638\n",
      "Data columns (total 5 columns):\n",
      "user_id               222579 non-null object\n",
      "create_date           222579 non-null datetime64[ns]\n",
      "payable_rmb_amount    222579 non-null float64\n",
      "date                  222579 non-null object\n",
      "month                 222579 non-null datetime64[ns]\n",
      "dtypes: datetime64[ns](2), float64(1), object(2)\n",
      "memory usage: 10.2+ MB\n"
     ]
    }
   ],
   "source": [
    "df.info()"
   ]
  },
  {
   "cell_type": "code",
   "execution_count": 63,
   "metadata": {
    "scrolled": true
   },
   "outputs": [
    {
     "data": {
      "text/html": [
       "<div>\n",
       "<style scoped>\n",
       "    .dataframe tbody tr th:only-of-type {\n",
       "        vertical-align: middle;\n",
       "    }\n",
       "\n",
       "    .dataframe tbody tr th {\n",
       "        vertical-align: top;\n",
       "    }\n",
       "\n",
       "    .dataframe thead th {\n",
       "        text-align: right;\n",
       "    }\n",
       "</style>\n",
       "<table border=\"1\" class=\"dataframe\">\n",
       "  <thead>\n",
       "    <tr style=\"text-align: right;\">\n",
       "      <th></th>\n",
       "      <th>payable_rmb_amount</th>\n",
       "    </tr>\n",
       "  </thead>\n",
       "  <tbody>\n",
       "    <tr>\n",
       "      <th>count</th>\n",
       "      <td>222579.000000</td>\n",
       "    </tr>\n",
       "    <tr>\n",
       "      <th>mean</th>\n",
       "      <td>7.160822</td>\n",
       "    </tr>\n",
       "    <tr>\n",
       "      <th>std</th>\n",
       "      <td>14.315368</td>\n",
       "    </tr>\n",
       "    <tr>\n",
       "      <th>min</th>\n",
       "      <td>0.000000</td>\n",
       "    </tr>\n",
       "    <tr>\n",
       "      <th>25%</th>\n",
       "      <td>3.990000</td>\n",
       "    </tr>\n",
       "    <tr>\n",
       "      <th>50%</th>\n",
       "      <td>4.990000</td>\n",
       "    </tr>\n",
       "    <tr>\n",
       "      <th>75%</th>\n",
       "      <td>5.990000</td>\n",
       "    </tr>\n",
       "    <tr>\n",
       "      <th>max</th>\n",
       "      <td>365.000000</td>\n",
       "    </tr>\n",
       "  </tbody>\n",
       "</table>\n",
       "</div>"
      ],
      "text/plain": [
       "       payable_rmb_amount\n",
       "count       222579.000000\n",
       "mean             7.160822\n",
       "std             14.315368\n",
       "min              0.000000\n",
       "25%              3.990000\n",
       "50%              4.990000\n",
       "75%              5.990000\n",
       "max            365.000000"
      ]
     },
     "execution_count": 63,
     "metadata": {},
     "output_type": "execute_result"
    }
   ],
   "source": [
    "# 共222579单支付成功，平均每单消费7.16元，75%消费6元以下\n",
    "df.describe()"
   ]
  },
  {
   "cell_type": "code",
   "execution_count": 61,
   "metadata": {},
   "outputs": [],
   "source": [
    "user_grouped = df.groupby(\"user_id\").sum()"
   ]
  },
  {
   "cell_type": "code",
   "execution_count": 62,
   "metadata": {},
   "outputs": [
    {
     "data": {
      "text/html": [
       "<div>\n",
       "<style scoped>\n",
       "    .dataframe tbody tr th:only-of-type {\n",
       "        vertical-align: middle;\n",
       "    }\n",
       "\n",
       "    .dataframe tbody tr th {\n",
       "        vertical-align: top;\n",
       "    }\n",
       "\n",
       "    .dataframe thead th {\n",
       "        text-align: right;\n",
       "    }\n",
       "</style>\n",
       "<table border=\"1\" class=\"dataframe\">\n",
       "  <thead>\n",
       "    <tr style=\"text-align: right;\">\n",
       "      <th></th>\n",
       "      <th>payable_rmb_amount</th>\n",
       "    </tr>\n",
       "    <tr>\n",
       "      <th>user_id</th>\n",
       "      <th></th>\n",
       "    </tr>\n",
       "  </thead>\n",
       "  <tbody>\n",
       "    <tr>\n",
       "      <th>10</th>\n",
       "      <td>0.00</td>\n",
       "    </tr>\n",
       "    <tr>\n",
       "      <th>10000055</th>\n",
       "      <td>9.98</td>\n",
       "    </tr>\n",
       "    <tr>\n",
       "      <th>10000061</th>\n",
       "      <td>3.99</td>\n",
       "    </tr>\n",
       "    <tr>\n",
       "      <th>10000128</th>\n",
       "      <td>0.99</td>\n",
       "    </tr>\n",
       "    <tr>\n",
       "      <th>10000353</th>\n",
       "      <td>17.18</td>\n",
       "    </tr>\n",
       "  </tbody>\n",
       "</table>\n",
       "</div>"
      ],
      "text/plain": [
       "          payable_rmb_amount\n",
       "user_id                     \n",
       "10                      0.00\n",
       "10000055                9.98\n",
       "10000061                3.99\n",
       "10000128                0.99\n",
       "10000353               17.18"
      ]
     },
     "execution_count": 62,
     "metadata": {},
     "output_type": "execute_result"
    }
   ],
   "source": [
    "user_grouped.head()"
   ]
  },
  {
   "cell_type": "code",
   "execution_count": 65,
   "metadata": {},
   "outputs": [
    {
     "data": {
      "text/html": [
       "<div>\n",
       "<style scoped>\n",
       "    .dataframe tbody tr th:only-of-type {\n",
       "        vertical-align: middle;\n",
       "    }\n",
       "\n",
       "    .dataframe tbody tr th {\n",
       "        vertical-align: top;\n",
       "    }\n",
       "\n",
       "    .dataframe thead th {\n",
       "        text-align: right;\n",
       "    }\n",
       "</style>\n",
       "<table border=\"1\" class=\"dataframe\">\n",
       "  <thead>\n",
       "    <tr style=\"text-align: right;\">\n",
       "      <th></th>\n",
       "      <th>payable_rmb_amount</th>\n",
       "    </tr>\n",
       "  </thead>\n",
       "  <tbody>\n",
       "    <tr>\n",
       "      <th>count</th>\n",
       "      <td>101843.000000</td>\n",
       "    </tr>\n",
       "    <tr>\n",
       "      <th>mean</th>\n",
       "      <td>15.650056</td>\n",
       "    </tr>\n",
       "    <tr>\n",
       "      <th>std</th>\n",
       "      <td>28.766285</td>\n",
       "    </tr>\n",
       "    <tr>\n",
       "      <th>min</th>\n",
       "      <td>0.000000</td>\n",
       "    </tr>\n",
       "    <tr>\n",
       "      <th>25%</th>\n",
       "      <td>3.990000</td>\n",
       "    </tr>\n",
       "    <tr>\n",
       "      <th>50%</th>\n",
       "      <td>7.000000</td>\n",
       "    </tr>\n",
       "    <tr>\n",
       "      <th>75%</th>\n",
       "      <td>16.990000</td>\n",
       "    </tr>\n",
       "    <tr>\n",
       "      <th>max</th>\n",
       "      <td>1062.550000</td>\n",
       "    </tr>\n",
       "  </tbody>\n",
       "</table>\n",
       "</div>"
      ],
      "text/plain": [
       "       payable_rmb_amount\n",
       "count       101843.000000\n",
       "mean            15.650056\n",
       "std             28.766285\n",
       "min              0.000000\n",
       "25%              3.990000\n",
       "50%              7.000000\n",
       "75%             16.990000\n",
       "max           1062.550000"
      ]
     },
     "execution_count": 65,
     "metadata": {},
     "output_type": "execute_result"
    }
   ],
   "source": [
    "# 用户数101843人(截止190821下午)，人均消费15.65元.75%用户消费17元以下\n",
    "# \n",
    "user_grouped.describe()"
   ]
  },
  {
   "cell_type": "code",
   "execution_count": 67,
   "metadata": {},
   "outputs": [
    {
     "data": {
      "text/plain": [
       "<matplotlib.axes._subplots.AxesSubplot at 0x18feac142b0>"
      ]
     },
     "execution_count": 67,
     "metadata": {},
     "output_type": "execute_result"
    },
    {
     "data": {
      "image/png": "[encoded data removed]",
      "text/plain": [
       "<Figure size 432x288 with 1 Axes>"
      ]
     },
     "metadata": {},
     "output_type": "display_data"
    }
   ],
   "source": [
    "df.groupby('month').payable_rmb_amount.sum().plot()"
   ]
  },
  {
   "cell_type": "code",
   "execution_count": 68,
   "metadata": {},
   "outputs": [
    {
     "data": {
      "text/plain": [
       "count    222579.000000\n",
       "mean          7.160822\n",
       "std          14.315368\n",
       "min           0.000000\n",
       "25%           3.990000\n",
       "50%           4.990000\n",
       "75%           5.990000\n",
       "max         365.000000\n",
       "Name: payable_rmb_amount, dtype: float64"
      ]
     },
     "execution_count": 68,
     "metadata": {},
     "output_type": "execute_result"
    }
   ],
   "source": [
    "df[\"payable_rmb_amount\"].describe()"
   ]
  },
  {
   "cell_type": "code",
   "execution_count": null,
   "metadata": {},
   "outputs": [],
   "source": []
  },
  {
   "cell_type": "code",
   "execution_count": null,
   "metadata": {},
   "outputs": [],
   "source": []
  },
  {
   "cell_type": "code",
   "execution_count": null,
   "metadata": {},
   "outputs": [],
   "source": []
  },
  {
   "cell_type": "code",
   "execution_count": null,
   "metadata": {},
   "outputs": [],
   "source": []
  },
  {
   "cell_type": "code",
   "execution_count": null,
   "metadata": {},
   "outputs": [],
   "source": []
  },
  {
   "cell_type": "code",
   "execution_count": null,
   "metadata": {},
   "outputs": [],
   "source": []
  }
 ],
 "metadata": {
  "kernelspec": {
   "display_name": "Python 3",
   "language": "python",
   "name": "python3"
  },
  "language_info": {
   "codemirror_mode": {
    "name": "ipython",
    "version": 3
   },
   "file_extension": ".py",
   "mimetype": "text/x-python",
   "name": "python",
   "nbconvert_exporter": "python",
   "pygments_lexer": "ipython3",
   "version": "3.6.5"
  }
 },
 "nbformat": 4,
 "nbformat_minor": 2
}
