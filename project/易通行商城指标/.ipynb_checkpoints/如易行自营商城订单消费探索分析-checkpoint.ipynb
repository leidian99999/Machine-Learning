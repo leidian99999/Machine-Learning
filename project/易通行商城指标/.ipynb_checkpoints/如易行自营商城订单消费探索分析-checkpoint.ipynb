{
 "cells": [
  {
   "cell_type": "code",
   "execution_count": 1,
   "metadata": {
    "ExecuteTime": {
     "end_time": "2019-08-29T07:15:14.206086Z",
     "start_time": "2019-08-29T07:15:00.837422Z"
    }
   },
   "outputs": [],
   "source": [
    "import pandas as pd\n",
    "import numpy as np\n",
    "import matplotlib.pyplot as plt\n",
    "from datetime import datetime\n",
    "%matplotlib inline\n",
    "plt.style.use('ggplot')\n",
    "from impala.dbapi import connect\n",
    "import warnings\n",
    "warnings.filterwarnings('ignore')\n",
    "pd.set_option('max_colwidth',1000)\n",
    "from matplotlib.font_manager import FontProperties\n",
    "chinese = FontProperties(fname = 'C:/Windows/Fonts/msyh.ttc')\n",
    "plt.rcParams['font.sans-serif'] = [u'SimHei']\n",
    "plt.rcParams['axes.unicode_minus'] = False"
   ]
  },
  {
   "cell_type": "code",
   "execution_count": 2,
   "metadata": {
    "ExecuteTime": {
     "end_time": "2019-08-29T07:15:14.217030Z",
     "start_time": "2019-08-29T07:15:14.211045Z"
    }
   },
   "outputs": [],
   "source": [
    "# # data = pd.read_csv(\"D:/GitHub/datasets/190821_ShopOrders.csv\")\n",
    "\n",
    "# # 查询所有字段\n",
    "# def list_col(localhost,database, port,tabls_name):\n",
    "#     db = connect(localhost,port,database)\n",
    "#     cursor = db.cursor()\n",
    "#     cursor.execute(\"select * from %s\" % tabls_name)\n",
    "#     col_name_list = [tuple[0] for tuple in cursor.description]\n",
    "#     db.close()\n",
    "#     return col_name_list\n",
    "\n",
    "# # 列出所有的表\n",
    "# def list_table(localhost,database,port):\n",
    "#     db = connect(localhost,database,port)\n",
    "#     cursor = db.cursor()\n",
    "#     cursor.execute(\"show tables\")\n",
    "#     table_list = [tuple[0] for tuple in cursor.fetchall()]\n",
    "#     db.close()\n",
    "#     return table_list\n",
    "\n",
    "# # 数据库信息\n",
    "# port = 21050 # 端口号\n",
    "# host = \"172.22.210.29\" # 连接地址\n",
    "# database = \"bigtables\" # 数据库名\n",
    "# tabls_name = \"shop_order\" # 表名\n",
    "\n",
    "# table_names = list_table(host,port,database) \n",
    "# # print('库中所有表名:',*table_names,sep = '\\n  ')\n",
    "# column_names = list_col(host,database, port,tabls_name)\n",
    "# # column_names = [\"user_id\",\"create_date\",\"payable_rmb_amount\",\"buy_num\",\"status\"]\n",
    "# # print('表中所有字段名:',*column_names,sep = '\\n  ')\n",
    "\n",
    "# conn = connect(host=host,port =port , database = database,timeout=3600 )\n",
    "# cur_data = conn.cursor()\n",
    "# cur_data.execute('''SELECT *\n",
    "# from shop_order \n",
    "# where create_date between \"2019-01-01 00:00:00\" AND \"2019-07-31 23:59:59\";''')\n",
    "# data=cur_data.fetchall()\n",
    "# data = pd.DataFrame(data,columns=column_names)\n",
    "\n",
    "# data = pd.read_csv(\"D:/GitHub/datasets/shop_order_190101_190731.csv\")"
   ]
  },
  {
   "cell_type": "code",
   "execution_count": 3,
   "metadata": {
    "ExecuteTime": {
     "end_time": "2019-08-29T07:15:14.457703Z",
     "start_time": "2019-08-29T07:15:14.220982Z"
    }
   },
   "outputs": [],
   "source": [
    "# data.shape\n",
    "# data1 = data.copy()\n",
    "# data1 = data1[data1[\"status\"] == 1]\n",
    "# data1.shape\n",
    "# df = data1[[\"user_id\",\"create_date\",\"payable_rmb_amount\",\"buy_num\"]]\n",
    "# df[\"create_date\"] = pd.to_datetime(df[\"create_date\"])\n",
    "# df[\"date\"] = df[\"create_date\"].dt.date\n",
    "# df[\"month\"] = df[\"date\"].values.astype('datetime64[M]')"
   ]
  },
  {
   "cell_type": "code",
   "execution_count": 4,
   "metadata": {
    "ExecuteTime": {
     "end_time": "2019-08-29T07:15:16.823421Z",
     "start_time": "2019-08-29T07:15:14.459697Z"
    }
   },
   "outputs": [],
   "source": [
    "df = pd.read_csv(\"D:/GitHub/datasets/shop_order_190101_190731.csv\")\n",
    "# df.to_csv(\"D:/GitHub/datasets/shop_order_190101_190731.csv\",index=False)\n"
   ]
  },
  {
   "cell_type": "code",
   "execution_count": 5,
   "metadata": {
    "ExecuteTime": {
     "end_time": "2019-08-29T07:15:17.724545Z",
     "start_time": "2019-08-29T07:15:16.831350Z"
    }
   },
   "outputs": [
    {
     "data": {
      "text/html": [
       "<div>\n",
       "<style scoped>\n",
       "    .dataframe tbody tr th:only-of-type {\n",
       "        vertical-align: middle;\n",
       "    }\n",
       "\n",
       "    .dataframe tbody tr th {\n",
       "        vertical-align: top;\n",
       "    }\n",
       "\n",
       "    .dataframe thead th {\n",
       "        text-align: right;\n",
       "    }\n",
       "</style>\n",
       "<table border=\"1\" class=\"dataframe\">\n",
       "  <thead>\n",
       "    <tr style=\"text-align: right;\">\n",
       "      <th></th>\n",
       "      <th>user_id</th>\n",
       "      <th>create_date</th>\n",
       "      <th>payable_rmb_amount</th>\n",
       "      <th>buy_num</th>\n",
       "      <th>date</th>\n",
       "      <th>month</th>\n",
       "    </tr>\n",
       "  </thead>\n",
       "  <tbody>\n",
       "    <tr>\n",
       "      <th>0</th>\n",
       "      <td>3059210</td>\n",
       "      <td>2019/1/1 7:32</td>\n",
       "      <td>7.0</td>\n",
       "      <td>1</td>\n",
       "      <td>2019/1/1</td>\n",
       "      <td>2019/1/1</td>\n",
       "    </tr>\n",
       "    <tr>\n",
       "      <th>1</th>\n",
       "      <td>2055349</td>\n",
       "      <td>2019/1/1 7:38</td>\n",
       "      <td>7.0</td>\n",
       "      <td>1</td>\n",
       "      <td>2019/1/1</td>\n",
       "      <td>2019/1/1</td>\n",
       "    </tr>\n",
       "    <tr>\n",
       "      <th>2</th>\n",
       "      <td>9457140</td>\n",
       "      <td>2019/1/1 8:46</td>\n",
       "      <td>7.0</td>\n",
       "      <td>1</td>\n",
       "      <td>2019/1/1</td>\n",
       "      <td>2019/1/1</td>\n",
       "    </tr>\n",
       "    <tr>\n",
       "      <th>3</th>\n",
       "      <td>9937889</td>\n",
       "      <td>2019/1/1 11:04</td>\n",
       "      <td>7.0</td>\n",
       "      <td>1</td>\n",
       "      <td>2019/1/1</td>\n",
       "      <td>2019/1/1</td>\n",
       "    </tr>\n",
       "    <tr>\n",
       "      <th>4</th>\n",
       "      <td>4963922</td>\n",
       "      <td>2019/1/1 11:19</td>\n",
       "      <td>7.0</td>\n",
       "      <td>1</td>\n",
       "      <td>2019/1/1</td>\n",
       "      <td>2019/1/1</td>\n",
       "    </tr>\n",
       "  </tbody>\n",
       "</table>\n",
       "</div>"
      ],
      "text/plain": [
       "   user_id     create_date  payable_rmb_amount  buy_num      date     month\n",
       "0  3059210   2019/1/1 7:32                 7.0        1  2019/1/1  2019/1/1\n",
       "1  2055349   2019/1/1 7:38                 7.0        1  2019/1/1  2019/1/1\n",
       "2  9457140   2019/1/1 8:46                 7.0        1  2019/1/1  2019/1/1\n",
       "3  9937889  2019/1/1 11:04                 7.0        1  2019/1/1  2019/1/1\n",
       "4  4963922  2019/1/1 11:19                 7.0        1  2019/1/1  2019/1/1"
      ]
     },
     "execution_count": 5,
     "metadata": {},
     "output_type": "execute_result"
    }
   ],
   "source": [
    "df.head()"
   ]
  },
  {
   "cell_type": "code",
   "execution_count": 6,
   "metadata": {
    "ExecuteTime": {
     "end_time": "2019-08-29T07:15:17.912190Z",
     "start_time": "2019-08-29T07:15:17.726222Z"
    }
   },
   "outputs": [
    {
     "name": "stdout",
     "output_type": "stream",
     "text": [
      "<class 'pandas.core.frame.DataFrame'>\n",
      "RangeIndex: 213843 entries, 0 to 213842\n",
      "Data columns (total 6 columns):\n",
      "user_id               213843 non-null int64\n",
      "create_date           213843 non-null object\n",
      "payable_rmb_amount    213843 non-null float64\n",
      "buy_num               213843 non-null int64\n",
      "date                  213843 non-null object\n",
      "month                 213843 non-null object\n",
      "dtypes: float64(1), int64(2), object(3)\n",
      "memory usage: 9.8+ MB\n"
     ]
    }
   ],
   "source": [
    "df.info()"
   ]
  },
  {
   "cell_type": "code",
   "execution_count": 7,
   "metadata": {
    "ExecuteTime": {
     "end_time": "2019-08-29T07:15:18.269312Z",
     "start_time": "2019-08-29T07:15:17.915190Z"
    },
    "scrolled": true
   },
   "outputs": [
    {
     "data": {
      "text/html": [
       "<div>\n",
       "<style scoped>\n",
       "    .dataframe tbody tr th:only-of-type {\n",
       "        vertical-align: middle;\n",
       "    }\n",
       "\n",
       "    .dataframe tbody tr th {\n",
       "        vertical-align: top;\n",
       "    }\n",
       "\n",
       "    .dataframe thead th {\n",
       "        text-align: right;\n",
       "    }\n",
       "</style>\n",
       "<table border=\"1\" class=\"dataframe\">\n",
       "  <thead>\n",
       "    <tr style=\"text-align: right;\">\n",
       "      <th></th>\n",
       "      <th>user_id</th>\n",
       "      <th>payable_rmb_amount</th>\n",
       "      <th>buy_num</th>\n",
       "    </tr>\n",
       "  </thead>\n",
       "  <tbody>\n",
       "    <tr>\n",
       "      <th>count</th>\n",
       "      <td>2.138430e+05</td>\n",
       "      <td>213843.000000</td>\n",
       "      <td>213843.0</td>\n",
       "    </tr>\n",
       "    <tr>\n",
       "      <th>mean</th>\n",
       "      <td>5.663011e+06</td>\n",
       "      <td>7.237698</td>\n",
       "      <td>1.0</td>\n",
       "    </tr>\n",
       "    <tr>\n",
       "      <th>std</th>\n",
       "      <td>4.104763e+06</td>\n",
       "      <td>14.468073</td>\n",
       "      <td>0.0</td>\n",
       "    </tr>\n",
       "    <tr>\n",
       "      <th>min</th>\n",
       "      <td>3.000000e+00</td>\n",
       "      <td>0.000000</td>\n",
       "      <td>1.0</td>\n",
       "    </tr>\n",
       "    <tr>\n",
       "      <th>25%</th>\n",
       "      <td>2.104415e+06</td>\n",
       "      <td>3.990000</td>\n",
       "      <td>1.0</td>\n",
       "    </tr>\n",
       "    <tr>\n",
       "      <th>50%</th>\n",
       "      <td>4.503539e+06</td>\n",
       "      <td>4.990000</td>\n",
       "      <td>1.0</td>\n",
       "    </tr>\n",
       "    <tr>\n",
       "      <th>75%</th>\n",
       "      <td>9.526026e+06</td>\n",
       "      <td>5.990000</td>\n",
       "      <td>1.0</td>\n",
       "    </tr>\n",
       "    <tr>\n",
       "      <th>max</th>\n",
       "      <td>1.697181e+07</td>\n",
       "      <td>299.000000</td>\n",
       "      <td>1.0</td>\n",
       "    </tr>\n",
       "  </tbody>\n",
       "</table>\n",
       "</div>"
      ],
      "text/plain": [
       "            user_id  payable_rmb_amount   buy_num\n",
       "count  2.138430e+05       213843.000000  213843.0\n",
       "mean   5.663011e+06            7.237698       1.0\n",
       "std    4.104763e+06           14.468073       0.0\n",
       "min    3.000000e+00            0.000000       1.0\n",
       "25%    2.104415e+06            3.990000       1.0\n",
       "50%    4.503539e+06            4.990000       1.0\n",
       "75%    9.526026e+06            5.990000       1.0\n",
       "max    1.697181e+07          299.000000       1.0"
      ]
     },
     "execution_count": 7,
     "metadata": {},
     "output_type": "execute_result"
    }
   ],
   "source": [
    "# 共222983单支付成功，平均每单消费7.16元，75%消费6元以下\n",
    "df.describe()"
   ]
  },
  {
   "cell_type": "code",
   "execution_count": 8,
   "metadata": {
    "ExecuteTime": {
     "end_time": "2019-08-29T07:15:18.614831Z",
     "start_time": "2019-08-29T07:15:18.272274Z"
    }
   },
   "outputs": [],
   "source": [
    "# 按用户分组\n",
    "user_grouped = df.groupby(\"user_id\").sum()"
   ]
  },
  {
   "cell_type": "code",
   "execution_count": 9,
   "metadata": {
    "ExecuteTime": {
     "end_time": "2019-08-29T07:15:18.629793Z",
     "start_time": "2019-08-29T07:15:18.617824Z"
    }
   },
   "outputs": [
    {
     "data": {
      "text/html": [
       "<div>\n",
       "<style scoped>\n",
       "    .dataframe tbody tr th:only-of-type {\n",
       "        vertical-align: middle;\n",
       "    }\n",
       "\n",
       "    .dataframe tbody tr th {\n",
       "        vertical-align: top;\n",
       "    }\n",
       "\n",
       "    .dataframe thead th {\n",
       "        text-align: right;\n",
       "    }\n",
       "</style>\n",
       "<table border=\"1\" class=\"dataframe\">\n",
       "  <thead>\n",
       "    <tr style=\"text-align: right;\">\n",
       "      <th></th>\n",
       "      <th>payable_rmb_amount</th>\n",
       "      <th>buy_num</th>\n",
       "    </tr>\n",
       "    <tr>\n",
       "      <th>user_id</th>\n",
       "      <th></th>\n",
       "      <th></th>\n",
       "    </tr>\n",
       "  </thead>\n",
       "  <tbody>\n",
       "    <tr>\n",
       "      <th>3</th>\n",
       "      <td>0.99</td>\n",
       "      <td>1</td>\n",
       "    </tr>\n",
       "    <tr>\n",
       "      <th>11</th>\n",
       "      <td>0.00</td>\n",
       "      <td>1</td>\n",
       "    </tr>\n",
       "    <tr>\n",
       "      <th>13</th>\n",
       "      <td>0.00</td>\n",
       "      <td>1</td>\n",
       "    </tr>\n",
       "    <tr>\n",
       "      <th>16</th>\n",
       "      <td>1.98</td>\n",
       "      <td>2</td>\n",
       "    </tr>\n",
       "    <tr>\n",
       "      <th>35</th>\n",
       "      <td>0.00</td>\n",
       "      <td>1</td>\n",
       "    </tr>\n",
       "  </tbody>\n",
       "</table>\n",
       "</div>"
      ],
      "text/plain": [
       "         payable_rmb_amount  buy_num\n",
       "user_id                             \n",
       "3                      0.99        1\n",
       "11                     0.00        1\n",
       "13                     0.00        1\n",
       "16                     1.98        2\n",
       "35                     0.00        1"
      ]
     },
     "execution_count": 9,
     "metadata": {},
     "output_type": "execute_result"
    }
   ],
   "source": [
    "user_grouped.head()"
   ]
  },
  {
   "cell_type": "code",
   "execution_count": 10,
   "metadata": {
    "ExecuteTime": {
     "end_time": "2019-08-29T07:15:18.769947Z",
     "start_time": "2019-08-29T07:15:18.632786Z"
    }
   },
   "outputs": [
    {
     "data": {
      "text/html": [
       "<div>\n",
       "<style scoped>\n",
       "    .dataframe tbody tr th:only-of-type {\n",
       "        vertical-align: middle;\n",
       "    }\n",
       "\n",
       "    .dataframe tbody tr th {\n",
       "        vertical-align: top;\n",
       "    }\n",
       "\n",
       "    .dataframe thead th {\n",
       "        text-align: right;\n",
       "    }\n",
       "</style>\n",
       "<table border=\"1\" class=\"dataframe\">\n",
       "  <thead>\n",
       "    <tr style=\"text-align: right;\">\n",
       "      <th></th>\n",
       "      <th>payable_rmb_amount</th>\n",
       "      <th>buy_num</th>\n",
       "    </tr>\n",
       "  </thead>\n",
       "  <tbody>\n",
       "    <tr>\n",
       "      <th>count</th>\n",
       "      <td>100102.000000</td>\n",
       "      <td>100102.000000</td>\n",
       "    </tr>\n",
       "    <tr>\n",
       "      <th>mean</th>\n",
       "      <td>15.461539</td>\n",
       "      <td>2.136251</td>\n",
       "    </tr>\n",
       "    <tr>\n",
       "      <th>std</th>\n",
       "      <td>28.469532</td>\n",
       "      <td>2.367325</td>\n",
       "    </tr>\n",
       "    <tr>\n",
       "      <th>min</th>\n",
       "      <td>0.000000</td>\n",
       "      <td>1.000000</td>\n",
       "    </tr>\n",
       "    <tr>\n",
       "      <th>25%</th>\n",
       "      <td>3.990000</td>\n",
       "      <td>1.000000</td>\n",
       "    </tr>\n",
       "    <tr>\n",
       "      <th>50%</th>\n",
       "      <td>7.000000</td>\n",
       "      <td>1.000000</td>\n",
       "    </tr>\n",
       "    <tr>\n",
       "      <th>75%</th>\n",
       "      <td>16.990000</td>\n",
       "      <td>2.000000</td>\n",
       "    </tr>\n",
       "    <tr>\n",
       "      <th>max</th>\n",
       "      <td>1062.550000</td>\n",
       "      <td>262.000000</td>\n",
       "    </tr>\n",
       "  </tbody>\n",
       "</table>\n",
       "</div>"
      ],
      "text/plain": [
       "       payable_rmb_amount        buy_num\n",
       "count       100102.000000  100102.000000\n",
       "mean            15.461539       2.136251\n",
       "std             28.469532       2.367325\n",
       "min              0.000000       1.000000\n",
       "25%              3.990000       1.000000\n",
       "50%              7.000000       1.000000\n",
       "75%             16.990000       2.000000\n",
       "max           1062.550000     262.000000"
      ]
     },
     "execution_count": 10,
     "metadata": {},
     "output_type": "execute_result"
    }
   ],
   "source": [
    "# 用户数101911人(截止190822下午)，人均消费15.65元.75%用户消费17元以下\n",
    "# \n",
    "user_grouped.describe()"
   ]
  },
  {
   "cell_type": "code",
   "execution_count": 11,
   "metadata": {
    "ExecuteTime": {
     "end_time": "2019-08-29T07:15:20.228614Z",
     "start_time": "2019-08-29T07:15:18.771942Z"
    },
    "scrolled": false
   },
   "outputs": [
    {
     "data": {
      "text/plain": [
       "Text(0.5, 1.0, '各月用户支付金额')"
      ]
     },
     "execution_count": 11,
     "metadata": {},
     "output_type": "execute_result"
    },
    {
     "data": {
      "image/png": "[encoded data removed]",
      "text/plain": [
       "<Figure size 864x432 with 1 Axes>"
      ]
     },
     "metadata": {
      "needs_background": "light"
     },
     "output_type": "display_data"
    }
   ],
   "source": [
    "plt.figure(figsize = (12,6))\n",
    "ax = df.groupby('month').payable_rmb_amount.sum().plot()\n",
    "ax.set_xlabel(\"月份\",fontproperties=chinese)\n",
    "ax.set_ylabel(\"实付金额\",fontproperties=chinese)\n",
    "ax.set_title(\"各月用户支付金额\",fontproperties=chinese)"
   ]
  },
  {
   "cell_type": "code",
   "execution_count": 12,
   "metadata": {
    "ExecuteTime": {
     "end_time": "2019-08-29T07:15:20.251520Z",
     "start_time": "2019-08-29T07:15:20.230583Z"
    }
   },
   "outputs": [
    {
     "data": {
      "text/plain": [
       "month\n",
       "2019/1/1     28544.64\n",
       "2019/2/1    412093.04\n",
       "2019/3/1    421263.63\n",
       "2019/4/1    222778.42\n",
       "2019/5/1    126009.79\n",
       "2019/6/1    159751.58\n",
       "2019/7/1    177289.85\n",
       "Name: payable_rmb_amount, dtype: float64"
      ]
     },
     "execution_count": 12,
     "metadata": {},
     "output_type": "execute_result"
    }
   ],
   "source": [
    "df.groupby('month').payable_rmb_amount.sum()"
   ]
  },
  {
   "cell_type": "markdown",
   "metadata": {},
   "source": [
    "#### 19年2-3月销量达到高峰，之后4-5出现一次大幅下降，最后趋于平稳"
   ]
  },
  {
   "cell_type": "code",
   "execution_count": 13,
   "metadata": {
    "ExecuteTime": {
     "end_time": "2019-08-29T07:15:20.648814Z",
     "start_time": "2019-08-29T07:15:20.253515Z"
    },
    "scrolled": false
   },
   "outputs": [
    {
     "data": {
      "text/plain": [
       "Text(0.5, 1.0, '各月用户购买商品数(订单数)')"
      ]
     },
     "execution_count": 13,
     "metadata": {},
     "output_type": "execute_result"
    },
    {
     "data": {
      "image/png": "[encoded data removed]",
      "text/plain": [
       "<Figure size 720x432 with 1 Axes>"
      ]
     },
     "metadata": {
      "needs_background": "light"
     },
     "output_type": "display_data"
    }
   ],
   "source": [
    "plt.figure(figsize = (10,6))\n",
    "ax = df.groupby('month').buy_num.sum().plot()\n",
    "ax.set_xlabel(\"月份\",fontproperties=chinese)\n",
    "ax.set_ylabel(\"商品购买数\",fontproperties=chinese)\n",
    "ax.set_title(\"各月用户购买商品数(订单数)\",fontproperties=chinese)"
   ]
  },
  {
   "cell_type": "markdown",
   "metadata": {},
   "source": [
    "##### 4月销量下滑趋势没有金额幅度大，可能是商品价格下降导致"
   ]
  },
  {
   "cell_type": "code",
   "execution_count": 14,
   "metadata": {
    "ExecuteTime": {
     "end_time": "2019-08-29T07:15:22.606289Z",
     "start_time": "2019-08-29T07:15:20.650807Z"
    }
   },
   "outputs": [
    {
     "data": {
      "text/plain": [
       "Text(0.5, 1.0, '各用户实付金额与购买商品数关系')"
      ]
     },
     "execution_count": 14,
     "metadata": {},
     "output_type": "execute_result"
    },
    {
     "data": {
      "text/plain": [
       "<Figure size 720x432 with 0 Axes>"
      ]
     },
     "metadata": {},
     "output_type": "display_data"
    },
    {
     "data": {
      "image/png": "[encoded data removed]",
      "text/plain": [
       "<Figure size 432x288 with 1 Axes>"
      ]
     },
     "metadata": {
      "needs_background": "light"
     },
     "output_type": "display_data"
    }
   ],
   "source": [
    "plt.figure(figsize = (10,6))\n",
    "ax = df.groupby('user_id').sum().plot.scatter(\"payable_rmb_amount\",\"buy_num\")\n",
    "ax.set_xlabel(\"实付金额\",fontproperties=chinese)\n",
    "ax.set_ylabel(\"购买商品数\",fontproperties=chinese)\n",
    "ax.set_title(\"各用户实付金额与购买商品数关系\",fontproperties=chinese)"
   ]
  },
  {
   "cell_type": "markdown",
   "metadata": {},
   "source": [
    "#### 总体还算正常，有极少数异常值，但数量不够影响全局"
   ]
  },
  {
   "cell_type": "code",
   "execution_count": 15,
   "metadata": {
    "ExecuteTime": {
     "end_time": "2019-08-29T07:15:23.373424Z",
     "start_time": "2019-08-29T07:15:22.609241Z"
    }
   },
   "outputs": [
    {
     "data": {
      "text/plain": [
       "Text(0.5, 1.0, '用户购买商品数分布')"
      ]
     },
     "execution_count": 15,
     "metadata": {},
     "output_type": "execute_result"
    },
    {
     "data": {
      "image/png": "[encoded data removed]",
      "text/plain": [
       "<Figure size 1152x432 with 2 Axes>"
      ]
     },
     "metadata": {
      "needs_background": "light"
     },
     "output_type": "display_data"
    }
   ],
   "source": [
    "# 画个直方图看看分布\n",
    "plt.figure(figsize=(16,6))\n",
    "plt.subplot(121)\n",
    "ax = df.groupby(\"user_id\")[\"payable_rmb_amount\"].sum().hist(bins = 50)\n",
    "ax.set_xlabel(\"实付金额\",fontproperties=chinese)\n",
    "ax.set_ylabel(\"用户数\",fontproperties=chinese)\n",
    "ax.set_xlim(0,150)\n",
    "ax.set_title(\"用户消费金额分布\",fontproperties = chinese)\n",
    "plt.subplot(122)\n",
    "ax = df.groupby('user_id').buy_num.count().hist(bins = 50)\n",
    "ax.set_xlabel('商品购买数',fontproperties = chinese)\n",
    "ax.set_ylabel(\"用户数\",fontproperties = chinese)\n",
    "ax.set_xlim(0,2000)\n",
    "ax.set_title(\"用户购买商品数分布\",fontproperties = chinese)"
   ]
  },
  {
   "cell_type": "code",
   "execution_count": 16,
   "metadata": {
    "ExecuteTime": {
     "end_time": "2019-08-29T07:15:32.994613Z",
     "start_time": "2019-08-29T07:15:23.376386Z"
    }
   },
   "outputs": [
    {
     "name": "stdout",
     "output_type": "stream",
     "text": [
      "用户首次消费月份(每月新客数)\n",
      "2019/2/1    35107\n",
      "2019/3/1    22006\n",
      "2019/4/1    12294\n",
      "2019/1/1    10948\n",
      "2019/6/1     9280\n",
      "2019/5/1     6047\n",
      "2019/7/1     4420\n",
      "Name: month, dtype: int64\n"
     ]
    }
   ],
   "source": [
    "print(\"用户首次消费月份(每月新客数)\")\n",
    "print(df.groupby(\"user_id\").month.min().value_counts())"
   ]
  },
  {
   "cell_type": "code",
   "execution_count": 17,
   "metadata": {
    "ExecuteTime": {
     "end_time": "2019-08-29T07:15:42.053690Z",
     "start_time": "2019-08-29T07:15:32.996595Z"
    }
   },
   "outputs": [
    {
     "name": "stdout",
     "output_type": "stream",
     "text": [
      "用户末次消费月份：(末次消费)\n",
      "2019/2/1    27444\n",
      "2019/3/1    18383\n",
      "2019/7/1    17068\n",
      "2019/4/1    13504\n",
      "2019/6/1    11099\n",
      "2019/1/1     7496\n",
      "2019/5/1     5108\n",
      "Name: month, dtype: int64\n"
     ]
    }
   ],
   "source": [
    "print(\"用户末次消费月份：(末次消费)\")\n",
    "print(df.groupby('user_id').month.max().value_counts())"
   ]
  },
  {
   "cell_type": "markdown",
   "metadata": {},
   "source": [
    "### 复购率:当月购买2次及以上为复购用户"
   ]
  },
  {
   "cell_type": "code",
   "execution_count": 18,
   "metadata": {
    "ExecuteTime": {
     "end_time": "2019-08-29T07:15:43.002242Z",
     "start_time": "2019-08-29T07:15:42.056688Z"
    }
   },
   "outputs": [
    {
     "data": {
      "text/html": [
       "<div>\n",
       "<style scoped>\n",
       "    .dataframe tbody tr th:only-of-type {\n",
       "        vertical-align: middle;\n",
       "    }\n",
       "\n",
       "    .dataframe tbody tr th {\n",
       "        vertical-align: top;\n",
       "    }\n",
       "\n",
       "    .dataframe thead th {\n",
       "        text-align: right;\n",
       "    }\n",
       "</style>\n",
       "<table border=\"1\" class=\"dataframe\">\n",
       "  <thead>\n",
       "    <tr style=\"text-align: right;\">\n",
       "      <th>month</th>\n",
       "      <th>2019/1/1</th>\n",
       "      <th>2019/2/1</th>\n",
       "      <th>2019/3/1</th>\n",
       "      <th>2019/4/1</th>\n",
       "      <th>2019/5/1</th>\n",
       "      <th>2019/6/1</th>\n",
       "      <th>2019/7/1</th>\n",
       "    </tr>\n",
       "    <tr>\n",
       "      <th>user_id</th>\n",
       "      <th></th>\n",
       "      <th></th>\n",
       "      <th></th>\n",
       "      <th></th>\n",
       "      <th></th>\n",
       "      <th></th>\n",
       "      <th></th>\n",
       "    </tr>\n",
       "  </thead>\n",
       "  <tbody>\n",
       "    <tr>\n",
       "      <th>3</th>\n",
       "      <td>0.0</td>\n",
       "      <td>1.0</td>\n",
       "      <td>0.0</td>\n",
       "      <td>0.0</td>\n",
       "      <td>0.0</td>\n",
       "      <td>0.0</td>\n",
       "      <td>0.0</td>\n",
       "    </tr>\n",
       "    <tr>\n",
       "      <th>11</th>\n",
       "      <td>0.0</td>\n",
       "      <td>0.0</td>\n",
       "      <td>0.0</td>\n",
       "      <td>1.0</td>\n",
       "      <td>0.0</td>\n",
       "      <td>0.0</td>\n",
       "      <td>0.0</td>\n",
       "    </tr>\n",
       "    <tr>\n",
       "      <th>13</th>\n",
       "      <td>0.0</td>\n",
       "      <td>0.0</td>\n",
       "      <td>0.0</td>\n",
       "      <td>1.0</td>\n",
       "      <td>0.0</td>\n",
       "      <td>0.0</td>\n",
       "      <td>0.0</td>\n",
       "    </tr>\n",
       "    <tr>\n",
       "      <th>16</th>\n",
       "      <td>0.0</td>\n",
       "      <td>0.0</td>\n",
       "      <td>0.0</td>\n",
       "      <td>2.0</td>\n",
       "      <td>0.0</td>\n",
       "      <td>0.0</td>\n",
       "      <td>0.0</td>\n",
       "    </tr>\n",
       "    <tr>\n",
       "      <th>35</th>\n",
       "      <td>0.0</td>\n",
       "      <td>0.0</td>\n",
       "      <td>0.0</td>\n",
       "      <td>0.0</td>\n",
       "      <td>1.0</td>\n",
       "      <td>0.0</td>\n",
       "      <td>0.0</td>\n",
       "    </tr>\n",
       "    <tr>\n",
       "      <th>37</th>\n",
       "      <td>7.0</td>\n",
       "      <td>3.0</td>\n",
       "      <td>1.0</td>\n",
       "      <td>5.0</td>\n",
       "      <td>0.0</td>\n",
       "      <td>0.0</td>\n",
       "      <td>0.0</td>\n",
       "    </tr>\n",
       "    <tr>\n",
       "      <th>39</th>\n",
       "      <td>1.0</td>\n",
       "      <td>0.0</td>\n",
       "      <td>1.0</td>\n",
       "      <td>1.0</td>\n",
       "      <td>0.0</td>\n",
       "      <td>0.0</td>\n",
       "      <td>0.0</td>\n",
       "    </tr>\n",
       "    <tr>\n",
       "      <th>58</th>\n",
       "      <td>0.0</td>\n",
       "      <td>0.0</td>\n",
       "      <td>1.0</td>\n",
       "      <td>0.0</td>\n",
       "      <td>0.0</td>\n",
       "      <td>0.0</td>\n",
       "      <td>0.0</td>\n",
       "    </tr>\n",
       "    <tr>\n",
       "      <th>68</th>\n",
       "      <td>0.0</td>\n",
       "      <td>1.0</td>\n",
       "      <td>1.0</td>\n",
       "      <td>0.0</td>\n",
       "      <td>0.0</td>\n",
       "      <td>0.0</td>\n",
       "      <td>0.0</td>\n",
       "    </tr>\n",
       "    <tr>\n",
       "      <th>69</th>\n",
       "      <td>0.0</td>\n",
       "      <td>0.0</td>\n",
       "      <td>0.0</td>\n",
       "      <td>0.0</td>\n",
       "      <td>0.0</td>\n",
       "      <td>0.0</td>\n",
       "      <td>1.0</td>\n",
       "    </tr>\n",
       "  </tbody>\n",
       "</table>\n",
       "</div>"
      ],
      "text/plain": [
       "month    2019/1/1  2019/2/1  2019/3/1  2019/4/1  2019/5/1  2019/6/1  2019/7/1\n",
       "user_id                                                                      \n",
       "3             0.0       1.0       0.0       0.0       0.0       0.0       0.0\n",
       "11            0.0       0.0       0.0       1.0       0.0       0.0       0.0\n",
       "13            0.0       0.0       0.0       1.0       0.0       0.0       0.0\n",
       "16            0.0       0.0       0.0       2.0       0.0       0.0       0.0\n",
       "35            0.0       0.0       0.0       0.0       1.0       0.0       0.0\n",
       "37            7.0       3.0       1.0       5.0       0.0       0.0       0.0\n",
       "39            1.0       0.0       1.0       1.0       0.0       0.0       0.0\n",
       "58            0.0       0.0       1.0       0.0       0.0       0.0       0.0\n",
       "68            0.0       1.0       1.0       0.0       0.0       0.0       0.0\n",
       "69            0.0       0.0       0.0       0.0       0.0       0.0       1.0"
      ]
     },
     "execution_count": 18,
     "metadata": {},
     "output_type": "execute_result"
    }
   ],
   "source": [
    "# 算出每个用户下单月份\n",
    "df_FuGou = df.pivot_table(index='user_id',columns='month',\n",
    "                             values='date',aggfunc='count').fillna(0)\n",
    "df_FuGou.head(10)"
   ]
  },
  {
   "cell_type": "code",
   "execution_count": 19,
   "metadata": {
    "ExecuteTime": {
     "end_time": "2019-08-29T07:15:43.332675Z",
     "start_time": "2019-08-29T07:15:43.005229Z"
    }
   },
   "outputs": [],
   "source": [
    "# 数据转化，消费两次及以上的记为1，一次记为0，没有消费记为NaN\n",
    "df_FuGou_transf = df_FuGou.applymap(lambda x:1 if x > 1 else np.NaN if x == 0 else 0)"
   ]
  },
  {
   "cell_type": "code",
   "execution_count": 20,
   "metadata": {
    "ExecuteTime": {
     "end_time": "2019-08-29T07:15:43.712036Z",
     "start_time": "2019-08-29T07:15:43.333664Z"
    }
   },
   "outputs": [
    {
     "data": {
      "text/plain": [
       "Text(0.5, 1.0, '各月复购率')"
      ]
     },
     "execution_count": 20,
     "metadata": {},
     "output_type": "execute_result"
    },
    {
     "data": {
      "image/png": "[encoded data removed]",
      "text/plain": [
       "<Figure size 720x288 with 1 Axes>"
      ]
     },
     "metadata": {
      "needs_background": "light"
     },
     "output_type": "display_data"
    }
   ],
   "source": [
    "#计算复购率并作图\n",
    "ax = (df_FuGou_transf.sum()/df_FuGou_transf.count()).plot(figsize = (10,4))\n",
    "ax.set_xlabel(\"月份\",fontproperties=chinese)\n",
    "ax.set_ylabel(\"复购百分比\",fontproperties=chinese)\n",
    "ax.set_title(\"各月复购率\",fontproperties=chinese)"
   ]
  },
  {
   "cell_type": "code",
   "execution_count": 21,
   "metadata": {
    "ExecuteTime": {
     "end_time": "2019-08-29T07:15:44.621260Z",
     "start_time": "2019-08-29T07:15:43.714030Z"
    }
   },
   "outputs": [
    {
     "data": {
      "text/plain": [
       "<matplotlib.legend.Legend at 0x160abf98d68>"
      ]
     },
     "execution_count": 21,
     "metadata": {},
     "output_type": "execute_result"
    },
    {
     "data": {
      "image/png": "[encoded data removed]",
      "text/plain": [
       "<Figure size 864x288 with 1 Axes>"
      ]
     },
     "metadata": {
      "needs_background": "light"
     },
     "output_type": "display_data"
    }
   ],
   "source": [
    "# 细分一下\n",
    "\n",
    "fig , ax = plt.subplots(figsize = (12,4))\n",
    "ax.plot(df_FuGou_transf.count())\n",
    "ax.plot(df_FuGou_transf.sum())\n",
    "ax.set_xlabel(\"月份\",fontproperties=chinese)\n",
    "ax.set_ylabel(\"购买人数\",fontproperties=chinese)\n",
    "ax.set_title(\"各月二次消费与总消费用户数对比\")\n",
    "legends = [\"总消费人数\",\"多于二次消费人数\"]\n",
    "ax.legend(legends,prop=chinese,loc='upper right')"
   ]
  },
  {
   "cell_type": "markdown",
   "metadata": {},
   "source": [
    "##### 复购人数从19年3月起开始趋于稳定，证明沉淀下来此部分用户忠诚度很高。"
   ]
  },
  {
   "cell_type": "markdown",
   "metadata": {},
   "source": [
    "### 回购率：某时间段内消费的用户，在下个时间周期内仍消费的占比。"
   ]
  },
  {
   "cell_type": "code",
   "execution_count": 22,
   "metadata": {
    "ExecuteTime": {
     "end_time": "2019-08-29T07:15:44.859431Z",
     "start_time": "2019-08-29T07:15:44.623068Z"
    }
   },
   "outputs": [
    {
     "data": {
      "text/html": [
       "<div>\n",
       "<style scoped>\n",
       "    .dataframe tbody tr th:only-of-type {\n",
       "        vertical-align: middle;\n",
       "    }\n",
       "\n",
       "    .dataframe tbody tr th {\n",
       "        vertical-align: top;\n",
       "    }\n",
       "\n",
       "    .dataframe thead th {\n",
       "        text-align: right;\n",
       "    }\n",
       "</style>\n",
       "<table border=\"1\" class=\"dataframe\">\n",
       "  <thead>\n",
       "    <tr style=\"text-align: right;\">\n",
       "      <th>month</th>\n",
       "      <th>2019/1/1</th>\n",
       "      <th>2019/2/1</th>\n",
       "      <th>2019/3/1</th>\n",
       "      <th>2019/4/1</th>\n",
       "      <th>2019/5/1</th>\n",
       "      <th>2019/6/1</th>\n",
       "      <th>2019/7/1</th>\n",
       "    </tr>\n",
       "    <tr>\n",
       "      <th>user_id</th>\n",
       "      <th></th>\n",
       "      <th></th>\n",
       "      <th></th>\n",
       "      <th></th>\n",
       "      <th></th>\n",
       "      <th></th>\n",
       "      <th></th>\n",
       "    </tr>\n",
       "  </thead>\n",
       "  <tbody>\n",
       "    <tr>\n",
       "      <th>3</th>\n",
       "      <td>0.0</td>\n",
       "      <td>1.0</td>\n",
       "      <td>0.0</td>\n",
       "      <td>0.0</td>\n",
       "      <td>0.0</td>\n",
       "      <td>0.0</td>\n",
       "      <td>0.0</td>\n",
       "    </tr>\n",
       "    <tr>\n",
       "      <th>11</th>\n",
       "      <td>0.0</td>\n",
       "      <td>0.0</td>\n",
       "      <td>0.0</td>\n",
       "      <td>1.0</td>\n",
       "      <td>0.0</td>\n",
       "      <td>0.0</td>\n",
       "      <td>0.0</td>\n",
       "    </tr>\n",
       "    <tr>\n",
       "      <th>13</th>\n",
       "      <td>0.0</td>\n",
       "      <td>0.0</td>\n",
       "      <td>0.0</td>\n",
       "      <td>1.0</td>\n",
       "      <td>0.0</td>\n",
       "      <td>0.0</td>\n",
       "      <td>0.0</td>\n",
       "    </tr>\n",
       "    <tr>\n",
       "      <th>16</th>\n",
       "      <td>0.0</td>\n",
       "      <td>0.0</td>\n",
       "      <td>0.0</td>\n",
       "      <td>2.0</td>\n",
       "      <td>0.0</td>\n",
       "      <td>0.0</td>\n",
       "      <td>0.0</td>\n",
       "    </tr>\n",
       "    <tr>\n",
       "      <th>35</th>\n",
       "      <td>0.0</td>\n",
       "      <td>0.0</td>\n",
       "      <td>0.0</td>\n",
       "      <td>0.0</td>\n",
       "      <td>1.0</td>\n",
       "      <td>0.0</td>\n",
       "      <td>0.0</td>\n",
       "    </tr>\n",
       "  </tbody>\n",
       "</table>\n",
       "</div>"
      ],
      "text/plain": [
       "month    2019/1/1  2019/2/1  2019/3/1  2019/4/1  2019/5/1  2019/6/1  2019/7/1\n",
       "user_id                                                                      \n",
       "3             0.0       1.0       0.0       0.0       0.0       0.0       0.0\n",
       "11            0.0       0.0       0.0       1.0       0.0       0.0       0.0\n",
       "13            0.0       0.0       0.0       1.0       0.0       0.0       0.0\n",
       "16            0.0       0.0       0.0       2.0       0.0       0.0       0.0\n",
       "35            0.0       0.0       0.0       0.0       1.0       0.0       0.0"
      ]
     },
     "execution_count": 22,
     "metadata": {},
     "output_type": "execute_result"
    }
   ],
   "source": [
    "# 算出每个用户各月购买次数\n",
    "df_HuiGou = df.pivot_table(index=\"user_id\",columns=\"month\",\n",
    "                          values=\"date\",aggfunc='count').fillna(0)\n",
    "df_HuiGou.head()"
   ]
  },
  {
   "cell_type": "code",
   "execution_count": 23,
   "metadata": {
    "ExecuteTime": {
     "end_time": "2019-08-29T07:15:45.195550Z",
     "start_time": "2019-08-29T07:15:44.865444Z"
    }
   },
   "outputs": [
    {
     "data": {
      "text/html": [
       "<div>\n",
       "<style scoped>\n",
       "    .dataframe tbody tr th:only-of-type {\n",
       "        vertical-align: middle;\n",
       "    }\n",
       "\n",
       "    .dataframe tbody tr th {\n",
       "        vertical-align: top;\n",
       "    }\n",
       "\n",
       "    .dataframe thead th {\n",
       "        text-align: right;\n",
       "    }\n",
       "</style>\n",
       "<table border=\"1\" class=\"dataframe\">\n",
       "  <thead>\n",
       "    <tr style=\"text-align: right;\">\n",
       "      <th>month</th>\n",
       "      <th>2019/1/1</th>\n",
       "      <th>2019/2/1</th>\n",
       "      <th>2019/3/1</th>\n",
       "      <th>2019/4/1</th>\n",
       "      <th>2019/5/1</th>\n",
       "      <th>2019/6/1</th>\n",
       "      <th>2019/7/1</th>\n",
       "    </tr>\n",
       "    <tr>\n",
       "      <th>user_id</th>\n",
       "      <th></th>\n",
       "      <th></th>\n",
       "      <th></th>\n",
       "      <th></th>\n",
       "      <th></th>\n",
       "      <th></th>\n",
       "      <th></th>\n",
       "    </tr>\n",
       "  </thead>\n",
       "  <tbody>\n",
       "    <tr>\n",
       "      <th>3</th>\n",
       "      <td>0</td>\n",
       "      <td>1</td>\n",
       "      <td>0</td>\n",
       "      <td>0</td>\n",
       "      <td>0</td>\n",
       "      <td>0</td>\n",
       "      <td>0</td>\n",
       "    </tr>\n",
       "    <tr>\n",
       "      <th>11</th>\n",
       "      <td>0</td>\n",
       "      <td>0</td>\n",
       "      <td>0</td>\n",
       "      <td>1</td>\n",
       "      <td>0</td>\n",
       "      <td>0</td>\n",
       "      <td>0</td>\n",
       "    </tr>\n",
       "    <tr>\n",
       "      <th>13</th>\n",
       "      <td>0</td>\n",
       "      <td>0</td>\n",
       "      <td>0</td>\n",
       "      <td>1</td>\n",
       "      <td>0</td>\n",
       "      <td>0</td>\n",
       "      <td>0</td>\n",
       "    </tr>\n",
       "    <tr>\n",
       "      <th>16</th>\n",
       "      <td>0</td>\n",
       "      <td>0</td>\n",
       "      <td>0</td>\n",
       "      <td>1</td>\n",
       "      <td>0</td>\n",
       "      <td>0</td>\n",
       "      <td>0</td>\n",
       "    </tr>\n",
       "    <tr>\n",
       "      <th>35</th>\n",
       "      <td>0</td>\n",
       "      <td>0</td>\n",
       "      <td>0</td>\n",
       "      <td>0</td>\n",
       "      <td>1</td>\n",
       "      <td>0</td>\n",
       "      <td>0</td>\n",
       "    </tr>\n",
       "    <tr>\n",
       "      <th>37</th>\n",
       "      <td>1</td>\n",
       "      <td>1</td>\n",
       "      <td>1</td>\n",
       "      <td>1</td>\n",
       "      <td>0</td>\n",
       "      <td>0</td>\n",
       "      <td>0</td>\n",
       "    </tr>\n",
       "    <tr>\n",
       "      <th>39</th>\n",
       "      <td>1</td>\n",
       "      <td>0</td>\n",
       "      <td>1</td>\n",
       "      <td>1</td>\n",
       "      <td>0</td>\n",
       "      <td>0</td>\n",
       "      <td>0</td>\n",
       "    </tr>\n",
       "    <tr>\n",
       "      <th>58</th>\n",
       "      <td>0</td>\n",
       "      <td>0</td>\n",
       "      <td>1</td>\n",
       "      <td>0</td>\n",
       "      <td>0</td>\n",
       "      <td>0</td>\n",
       "      <td>0</td>\n",
       "    </tr>\n",
       "    <tr>\n",
       "      <th>68</th>\n",
       "      <td>0</td>\n",
       "      <td>1</td>\n",
       "      <td>1</td>\n",
       "      <td>0</td>\n",
       "      <td>0</td>\n",
       "      <td>0</td>\n",
       "      <td>0</td>\n",
       "    </tr>\n",
       "    <tr>\n",
       "      <th>69</th>\n",
       "      <td>0</td>\n",
       "      <td>0</td>\n",
       "      <td>0</td>\n",
       "      <td>0</td>\n",
       "      <td>0</td>\n",
       "      <td>0</td>\n",
       "      <td>1</td>\n",
       "    </tr>\n",
       "  </tbody>\n",
       "</table>\n",
       "</div>"
      ],
      "text/plain": [
       "month    2019/1/1  2019/2/1  2019/3/1  2019/4/1  2019/5/1  2019/6/1  2019/7/1\n",
       "user_id                                                                      \n",
       "3               0         1         0         0         0         0         0\n",
       "11              0         0         0         1         0         0         0\n",
       "13              0         0         0         1         0         0         0\n",
       "16              0         0         0         1         0         0         0\n",
       "35              0         0         0         0         1         0         0\n",
       "37              1         1         1         1         0         0         0\n",
       "39              1         0         1         1         0         0         0\n",
       "58              0         0         1         0         0         0         0\n",
       "68              0         1         1         0         0         0         0\n",
       "69              0         0         0         0         0         0         1"
      ]
     },
     "execution_count": 23,
     "metadata": {},
     "output_type": "execute_result"
    }
   ],
   "source": [
    "# 数据转化，购买过为1，没买为0\n",
    "df_HuiGou_transf = df_HuiGou.applymap(lambda x:1 if x>0 else 0)\n",
    "df_HuiGou_transf.head(10)"
   ]
  },
  {
   "cell_type": "code",
   "execution_count": null,
   "metadata": {},
   "outputs": [],
   "source": []
  },
  {
   "cell_type": "code",
   "execution_count": 24,
   "metadata": {
    "ExecuteTime": {
     "end_time": "2019-08-29T07:15:45.203523Z",
     "start_time": "2019-08-29T07:15:45.197538Z"
    }
   },
   "outputs": [],
   "source": [
    "#定义函数，每个月都要跟后面一个月对比下，\n",
    "#本月有消费且下月也有消费，则本月记为1，\n",
    "#本月有消费且下月没有消费，则本月记为0，\n",
    "#本月没有消费则为NaN，\n",
    "#由于最后个月没有下月数据，规定全为NaN\n",
    "def purchase_return(data):\n",
    "    status = []\n",
    "    for i in range(6):\n",
    "        if data[i] == 1:\n",
    "            if data[i+1] == 1:\n",
    "                status.append(1)\n",
    "            if data[i+1] == 0:\n",
    "                status.append(0)\n",
    "        else:\n",
    "            status.append(np.NaN)\n",
    "    status.append(np.NaN)       \n",
    "    return pd.Series(status)\n",
    "#     return status\n",
    "    "
   ]
  },
  {
   "cell_type": "code",
   "execution_count": 25,
   "metadata": {
    "ExecuteTime": {
     "end_time": "2019-08-29T07:16:20.495186Z",
     "start_time": "2019-08-29T07:15:45.205518Z"
    }
   },
   "outputs": [],
   "source": [
    "df_HuiGou_return = df_HuiGou_transf.apply(purchase_return, axis = 1)\n",
    "# df_HuiGou_return.head()"
   ]
  },
  {
   "cell_type": "code",
   "execution_count": 26,
   "metadata": {
    "ExecuteTime": {
     "end_time": "2019-08-29T07:16:20.649741Z",
     "start_time": "2019-08-29T07:16:20.497149Z"
    }
   },
   "outputs": [],
   "source": [
    "# 出图看看\n",
    "columns = df.month.sort_values().unique()\n",
    "df_HuiGou_return.columns = columns"
   ]
  },
  {
   "cell_type": "code",
   "execution_count": 27,
   "metadata": {
    "ExecuteTime": {
     "end_time": "2019-08-29T07:16:21.005612Z",
     "start_time": "2019-08-29T07:16:20.654730Z"
    }
   },
   "outputs": [
    {
     "data": {
      "text/plain": [
       "Text(0.5, 1.0, '各月回购率')"
      ]
     },
     "execution_count": 27,
     "metadata": {},
     "output_type": "execute_result"
    },
    {
     "data": {
      "image/png": "[encoded data removed]",
      "text/plain": [
       "<Figure size 720x288 with 1 Axes>"
      ]
     },
     "metadata": {
      "needs_background": "light"
     },
     "output_type": "display_data"
    }
   ],
   "source": [
    "ax = (df_HuiGou_return.sum()/df_HuiGou_return.count()).plot(figsize = (10,4))\n",
    "ax.set_xlabel(\"月份\",fontproperties=chinese)\n",
    "ax.set_ylabel(\"百分比\",fontproperties=chinese)\n",
    "ax.set_title(\"各月回购率\",fontproperties=chinese)"
   ]
  },
  {
   "cell_type": "markdown",
   "metadata": {},
   "source": [
    "##### 6，7月上了什么产品或活动吗？ 回购率超过50%"
   ]
  },
  {
   "cell_type": "code",
   "execution_count": 28,
   "metadata": {
    "ExecuteTime": {
     "end_time": "2019-08-29T07:16:21.280882Z",
     "start_time": "2019-08-29T07:16:21.008609Z"
    }
   },
   "outputs": [
    {
     "data": {
      "text/plain": [
       "<matplotlib.legend.Legend at 0x160abed6f60>"
      ]
     },
     "execution_count": 28,
     "metadata": {},
     "output_type": "execute_result"
    },
    {
     "data": {
      "image/png": "[encoded data removed]",
      "text/plain": [
       "<Figure size 720x288 with 1 Axes>"
      ]
     },
     "metadata": {
      "needs_background": "light"
     },
     "output_type": "display_data"
    }
   ],
   "source": [
    "# 细化一下\n",
    "\n",
    "fig,ax = plt.subplots(figsize = (10,4))\n",
    "ax.plot(df_HuiGou_return.count()) # 消费人数\n",
    "ax.plot(df_HuiGou_return.sum()) # 回购人数\n",
    "ax.set_xlabel(\"月份\",fontproperties=chinese)\n",
    "ax.set_ylabel(\"用户数\",fontproperties=chinese)\n",
    "legends = [\"各月消费人数\",\"各月回购人数\"]\n",
    "ax.legend(legends,prop=chinese,loc=\"upper right\")"
   ]
  },
  {
   "cell_type": "markdown",
   "metadata": {},
   "source": [
    "#####  与复购人数接近，5000-10000，趋势平稳，证明这部分用户已经养成了固定使用消费习惯。应该是同一拨人，稍后会验证一下。 但是7月表现出下滑趋势。"
   ]
  },
  {
   "cell_type": "markdown",
   "metadata": {},
   "source": [
    "#### 2率都呈现上升趋势，后几个月基本与总消费人数变化趋势相近"
   ]
  },
  {
   "cell_type": "markdown",
   "metadata": {},
   "source": [
    "### 用户分层\n",
    "##### 新用户的定义是第一次消费。活跃用户即老客，在某一个时间窗口内有过消费。不活跃用户则是时间窗口内没有消费过的老客。回流用户是在上一个窗口中没有消费，而在当前时间窗口内有过消费。以上的时间窗口都是按月统计。"
   ]
  },
  {
   "cell_type": "code",
   "execution_count": 29,
   "metadata": {
    "ExecuteTime": {
     "end_time": "2019-08-29T07:16:21.379757Z",
     "start_time": "2019-08-29T07:16:21.283875Z"
    }
   },
   "outputs": [],
   "source": [
    "def active_status(data):\n",
    "    status = []\n",
    "    for i in range(7):\n",
    "        \n",
    "        #若本月没有消费\n",
    "        if data[i] == 0:\n",
    "            if len(status) > 0:\n",
    "                if status[i-1] == '未注册':\n",
    "                    status.append('未注册')\n",
    "                else:\n",
    "                    status.append('不活跃')\n",
    "            else:\n",
    "                status.append('未注册')\n",
    "                \n",
    "        # 若本月有消费\n",
    "        else:\n",
    "            if len(status) == 0:\n",
    "                status.append('新客')\n",
    "            else:\n",
    "                if status[i-1] == '不活跃':\n",
    "                    status.append('回流用户')\n",
    "                elif status[i-1] == '未注册':\n",
    "                    status.append('新客')\n",
    "                else:\n",
    "                    status.append('活跃')\n",
    "    return status"
   ]
  },
  {
   "cell_type": "code",
   "execution_count": 30,
   "metadata": {
    "ExecuteTime": {
     "end_time": "2019-08-29T07:16:22.112188Z",
     "start_time": "2019-08-29T07:16:21.385685Z"
    }
   },
   "outputs": [
    {
     "data": {
      "text/html": [
       "<div>\n",
       "<style scoped>\n",
       "    .dataframe tbody tr th:only-of-type {\n",
       "        vertical-align: middle;\n",
       "    }\n",
       "\n",
       "    .dataframe tbody tr th {\n",
       "        vertical-align: top;\n",
       "    }\n",
       "\n",
       "    .dataframe thead th {\n",
       "        text-align: right;\n",
       "    }\n",
       "</style>\n",
       "<table border=\"1\" class=\"dataframe\">\n",
       "  <thead>\n",
       "    <tr style=\"text-align: right;\">\n",
       "      <th>month</th>\n",
       "      <th>2019/1/1</th>\n",
       "      <th>2019/2/1</th>\n",
       "      <th>2019/3/1</th>\n",
       "      <th>2019/4/1</th>\n",
       "      <th>2019/5/1</th>\n",
       "      <th>2019/6/1</th>\n",
       "      <th>2019/7/1</th>\n",
       "    </tr>\n",
       "    <tr>\n",
       "      <th>user_id</th>\n",
       "      <th></th>\n",
       "      <th></th>\n",
       "      <th></th>\n",
       "      <th></th>\n",
       "      <th></th>\n",
       "      <th></th>\n",
       "      <th></th>\n",
       "    </tr>\n",
       "  </thead>\n",
       "  <tbody>\n",
       "    <tr>\n",
       "      <th>3</th>\n",
       "      <td>0.0</td>\n",
       "      <td>1.0</td>\n",
       "      <td>0.0</td>\n",
       "      <td>0.0</td>\n",
       "      <td>0.0</td>\n",
       "      <td>0.0</td>\n",
       "      <td>0.0</td>\n",
       "    </tr>\n",
       "    <tr>\n",
       "      <th>11</th>\n",
       "      <td>0.0</td>\n",
       "      <td>0.0</td>\n",
       "      <td>0.0</td>\n",
       "      <td>1.0</td>\n",
       "      <td>0.0</td>\n",
       "      <td>0.0</td>\n",
       "      <td>0.0</td>\n",
       "    </tr>\n",
       "    <tr>\n",
       "      <th>13</th>\n",
       "      <td>0.0</td>\n",
       "      <td>0.0</td>\n",
       "      <td>0.0</td>\n",
       "      <td>1.0</td>\n",
       "      <td>0.0</td>\n",
       "      <td>0.0</td>\n",
       "      <td>0.0</td>\n",
       "    </tr>\n",
       "    <tr>\n",
       "      <th>16</th>\n",
       "      <td>0.0</td>\n",
       "      <td>0.0</td>\n",
       "      <td>0.0</td>\n",
       "      <td>2.0</td>\n",
       "      <td>0.0</td>\n",
       "      <td>0.0</td>\n",
       "      <td>0.0</td>\n",
       "    </tr>\n",
       "    <tr>\n",
       "      <th>35</th>\n",
       "      <td>0.0</td>\n",
       "      <td>0.0</td>\n",
       "      <td>0.0</td>\n",
       "      <td>0.0</td>\n",
       "      <td>1.0</td>\n",
       "      <td>0.0</td>\n",
       "      <td>0.0</td>\n",
       "    </tr>\n",
       "  </tbody>\n",
       "</table>\n",
       "</div>"
      ],
      "text/plain": [
       "month    2019/1/1  2019/2/1  2019/3/1  2019/4/1  2019/5/1  2019/6/1  2019/7/1\n",
       "user_id                                                                      \n",
       "3             0.0       1.0       0.0       0.0       0.0       0.0       0.0\n",
       "11            0.0       0.0       0.0       1.0       0.0       0.0       0.0\n",
       "13            0.0       0.0       0.0       1.0       0.0       0.0       0.0\n",
       "16            0.0       0.0       0.0       2.0       0.0       0.0       0.0\n",
       "35            0.0       0.0       0.0       0.0       1.0       0.0       0.0"
      ]
     },
     "execution_count": 30,
     "metadata": {},
     "output_type": "execute_result"
    }
   ],
   "source": [
    "df_FenCeng = df.pivot_table(index=\"user_id\",columns=\"month\",\n",
    "                          values=\"date\",aggfunc='count').fillna(0)\n",
    "df_FenCeng.head()"
   ]
  },
  {
   "cell_type": "code",
   "execution_count": 31,
   "metadata": {
    "ExecuteTime": {
     "end_time": "2019-08-29T07:16:22.596056Z",
     "start_time": "2019-08-29T07:16:22.114152Z"
    }
   },
   "outputs": [
    {
     "data": {
      "text/html": [
       "<div>\n",
       "<style scoped>\n",
       "    .dataframe tbody tr th:only-of-type {\n",
       "        vertical-align: middle;\n",
       "    }\n",
       "\n",
       "    .dataframe tbody tr th {\n",
       "        vertical-align: top;\n",
       "    }\n",
       "\n",
       "    .dataframe thead th {\n",
       "        text-align: right;\n",
       "    }\n",
       "</style>\n",
       "<table border=\"1\" class=\"dataframe\">\n",
       "  <thead>\n",
       "    <tr style=\"text-align: right;\">\n",
       "      <th>month</th>\n",
       "      <th>2019/1/1</th>\n",
       "      <th>2019/2/1</th>\n",
       "      <th>2019/3/1</th>\n",
       "      <th>2019/4/1</th>\n",
       "      <th>2019/5/1</th>\n",
       "      <th>2019/6/1</th>\n",
       "      <th>2019/7/1</th>\n",
       "    </tr>\n",
       "    <tr>\n",
       "      <th>user_id</th>\n",
       "      <th></th>\n",
       "      <th></th>\n",
       "      <th></th>\n",
       "      <th></th>\n",
       "      <th></th>\n",
       "      <th></th>\n",
       "      <th></th>\n",
       "    </tr>\n",
       "  </thead>\n",
       "  <tbody>\n",
       "    <tr>\n",
       "      <th>3</th>\n",
       "      <td>0</td>\n",
       "      <td>1</td>\n",
       "      <td>0</td>\n",
       "      <td>0</td>\n",
       "      <td>0</td>\n",
       "      <td>0</td>\n",
       "      <td>0</td>\n",
       "    </tr>\n",
       "    <tr>\n",
       "      <th>11</th>\n",
       "      <td>0</td>\n",
       "      <td>0</td>\n",
       "      <td>0</td>\n",
       "      <td>1</td>\n",
       "      <td>0</td>\n",
       "      <td>0</td>\n",
       "      <td>0</td>\n",
       "    </tr>\n",
       "    <tr>\n",
       "      <th>13</th>\n",
       "      <td>0</td>\n",
       "      <td>0</td>\n",
       "      <td>0</td>\n",
       "      <td>1</td>\n",
       "      <td>0</td>\n",
       "      <td>0</td>\n",
       "      <td>0</td>\n",
       "    </tr>\n",
       "    <tr>\n",
       "      <th>16</th>\n",
       "      <td>0</td>\n",
       "      <td>0</td>\n",
       "      <td>0</td>\n",
       "      <td>1</td>\n",
       "      <td>0</td>\n",
       "      <td>0</td>\n",
       "      <td>0</td>\n",
       "    </tr>\n",
       "    <tr>\n",
       "      <th>35</th>\n",
       "      <td>0</td>\n",
       "      <td>0</td>\n",
       "      <td>0</td>\n",
       "      <td>0</td>\n",
       "      <td>1</td>\n",
       "      <td>0</td>\n",
       "      <td>0</td>\n",
       "    </tr>\n",
       "    <tr>\n",
       "      <th>37</th>\n",
       "      <td>1</td>\n",
       "      <td>1</td>\n",
       "      <td>1</td>\n",
       "      <td>1</td>\n",
       "      <td>0</td>\n",
       "      <td>0</td>\n",
       "      <td>0</td>\n",
       "    </tr>\n",
       "    <tr>\n",
       "      <th>39</th>\n",
       "      <td>1</td>\n",
       "      <td>0</td>\n",
       "      <td>1</td>\n",
       "      <td>1</td>\n",
       "      <td>0</td>\n",
       "      <td>0</td>\n",
       "      <td>0</td>\n",
       "    </tr>\n",
       "    <tr>\n",
       "      <th>58</th>\n",
       "      <td>0</td>\n",
       "      <td>0</td>\n",
       "      <td>1</td>\n",
       "      <td>0</td>\n",
       "      <td>0</td>\n",
       "      <td>0</td>\n",
       "      <td>0</td>\n",
       "    </tr>\n",
       "    <tr>\n",
       "      <th>68</th>\n",
       "      <td>0</td>\n",
       "      <td>1</td>\n",
       "      <td>1</td>\n",
       "      <td>0</td>\n",
       "      <td>0</td>\n",
       "      <td>0</td>\n",
       "      <td>0</td>\n",
       "    </tr>\n",
       "    <tr>\n",
       "      <th>69</th>\n",
       "      <td>0</td>\n",
       "      <td>0</td>\n",
       "      <td>0</td>\n",
       "      <td>0</td>\n",
       "      <td>0</td>\n",
       "      <td>0</td>\n",
       "      <td>1</td>\n",
       "    </tr>\n",
       "  </tbody>\n",
       "</table>\n",
       "</div>"
      ],
      "text/plain": [
       "month    2019/1/1  2019/2/1  2019/3/1  2019/4/1  2019/5/1  2019/6/1  2019/7/1\n",
       "user_id                                                                      \n",
       "3               0         1         0         0         0         0         0\n",
       "11              0         0         0         1         0         0         0\n",
       "13              0         0         0         1         0         0         0\n",
       "16              0         0         0         1         0         0         0\n",
       "35              0         0         0         0         1         0         0\n",
       "37              1         1         1         1         0         0         0\n",
       "39              1         0         1         1         0         0         0\n",
       "58              0         0         1         0         0         0         0\n",
       "68              0         1         1         0         0         0         0\n",
       "69              0         0         0         0         0         0         1"
      ]
     },
     "execution_count": 31,
     "metadata": {},
     "output_type": "execute_result"
    }
   ],
   "source": [
    "# 数据转化，购买过为1，没买为0\n",
    "df_FenCeng_transf = df_FenCeng.applymap(lambda x:1 if x>0 else 0)\n",
    "df_FenCeng_transf.head(10)"
   ]
  },
  {
   "cell_type": "code",
   "execution_count": null,
   "metadata": {
    "ExecuteTime": {
     "start_time": "2019-08-29T07:15:00.915Z"
    },
    "scrolled": true
   },
   "outputs": [],
   "source": [
    "df_FenCeng_status = df_FenCeng_transf.apply(lambda x: pd.Series(active_status(x)),axis=1)\n",
    "df_FenCeng_status.columns = columns\n",
    "df_FenCeng_status.head()"
   ]
  },
  {
   "cell_type": "code",
   "execution_count": null,
   "metadata": {
    "ExecuteTime": {
     "start_time": "2019-08-29T07:15:00.917Z"
    }
   },
   "outputs": [],
   "source": [
    "# 统计每月各分类用户，未注册用户数不计数替换成NaN\n",
    "df_FenCeng_count = df_FenCeng_status.replace(\"未注册\",np.NaN).apply(lambda x:pd.value_counts(x))\n",
    "df_FenCeng_count"
   ]
  },
  {
   "cell_type": "code",
   "execution_count": null,
   "metadata": {
    "ExecuteTime": {
     "start_time": "2019-08-29T07:15:00.919Z"
    }
   },
   "outputs": [],
   "source": [
    "# 出图看看\n",
    "ax = df_FenCeng_count.fillna(0).T.plot.area(figsize = (12,6))\n",
    "ax.set_xlabel(\"月份\", fontproperties=chinese)\n",
    "ax.set_ylabel(\"用户数\", fontproperties=chinese)\n",
    "ax.set_title(\"各月各类用户占比\", fontproperties=chinese)"
   ]
  },
  {
   "cell_type": "code",
   "execution_count": null,
   "metadata": {
    "ExecuteTime": {
     "start_time": "2019-08-29T07:15:00.921Z"
    }
   },
   "outputs": [],
   "source": [
    "# 回流占比：某个时间窗口内回流用户在总用户中的占比。\n",
    "return_rate = df_FenCeng_count.apply(lambda x: x/x.sum())"
   ]
  },
  {
   "cell_type": "code",
   "execution_count": null,
   "metadata": {
    "ExecuteTime": {
     "start_time": "2019-08-29T07:15:01.005Z"
    }
   },
   "outputs": [],
   "source": [
    "return_rate"
   ]
  },
  {
   "cell_type": "code",
   "execution_count": null,
   "metadata": {
    "ExecuteTime": {
     "start_time": "2019-08-29T07:15:01.007Z"
    }
   },
   "outputs": [],
   "source": [
    "ax = return_rate.loc['回流用户'].plot(figsize = (12,6))\n",
    "ax.set_xlabel('月份', fontproperties=chinese) \n",
    "ax.set_ylabel('占比', fontproperties=chinese) \n",
    "ax.set_title('每月回流用户占比', fontproperties=chinese)"
   ]
  },
  {
   "cell_type": "code",
   "execution_count": null,
   "metadata": {
    "ExecuteTime": {
     "start_time": "2019-08-29T07:15:01.009Z"
    }
   },
   "outputs": [],
   "source": [
    "ax = return_rate.loc['活跃'].plot(figsize = (12,6))\n",
    "ax.set_xlabel('月份', fontproperties=chinese) \n",
    "ax.set_ylabel('占比', fontproperties=chinese) \n",
    "ax.set_title('每月活跃用户占比', fontproperties=chinese)"
   ]
  },
  {
   "cell_type": "markdown",
   "metadata": {},
   "source": [
    "### 用户质量：高质量用户贡献了多少消费？"
   ]
  },
  {
   "cell_type": "code",
   "execution_count": null,
   "metadata": {
    "ExecuteTime": {
     "start_time": "2019-08-29T07:15:01.013Z"
    }
   },
   "outputs": [],
   "source": [
    "user_amount = df.groupby(\"user_id\").payable_rmb_amount.sum().sort_values().reset_index()\n",
    "user_amount['amount_cumsum'] = user_amount.payable_rmb_amount.cumsum()"
   ]
  },
  {
   "cell_type": "code",
   "execution_count": null,
   "metadata": {
    "ExecuteTime": {
     "start_time": "2019-08-29T07:15:01.015Z"
    }
   },
   "outputs": [],
   "source": [
    "user_amount.tail()"
   ]
  },
  {
   "cell_type": "code",
   "execution_count": null,
   "metadata": {
    "ExecuteTime": {
     "start_time": "2019-08-29T07:15:01.018Z"
    },
    "scrolled": false
   },
   "outputs": [],
   "source": [
    "#计算出各阶段金额占总金额的百分比\n",
    "amount_total = user_amount.amount_cumsum.max()\n",
    "user_amount['prop'] = user_amount.amount_cumsum.apply(lambda x: x / amount_total)\n",
    "ax = user_amount.prop.plot()\n",
    "ax.set_xlabel('人数（人）', fontproperties=chinese) \n",
    "ax.set_ylabel('百分数（%）', fontproperties=chinese) \n",
    "ax.set_title('用户累计贡献金额百分比', fontproperties=chinese)"
   ]
  },
  {
   "cell_type": "markdown",
   "metadata": {},
   "source": [
    "##### 典型的二八分布，共101911人中，前80000人贡献了不到40%的消费。。。"
   ]
  },
  {
   "cell_type": "markdown",
   "metadata": {},
   "source": [
    "### 用户生命周期:这里我们定义第一次消费至最后一次消费为整个用户生命。"
   ]
  },
  {
   "cell_type": "code",
   "execution_count": null,
   "metadata": {
    "ExecuteTime": {
     "start_time": "2019-08-29T07:15:01.021Z"
    }
   },
   "outputs": [],
   "source": [
    "df_life = df"
   ]
  },
  {
   "cell_type": "code",
   "execution_count": null,
   "metadata": {
    "ExecuteTime": {
     "start_time": "2019-08-29T07:15:01.024Z"
    }
   },
   "outputs": [],
   "source": [
    "df.head()"
   ]
  },
  {
   "cell_type": "code",
   "execution_count": null,
   "metadata": {
    "ExecuteTime": {
     "start_time": "2019-08-29T07:15:01.027Z"
    }
   },
   "outputs": [],
   "source": [
    "order_date_min = df_life.groupby('user_id').create_date.min()\n",
    "order_date_min = pd.to_datetime(order_date_min)\n",
    "order_date_max = df_life.groupby('user_id').create_date.max()\n",
    "order_date_max = pd.to_datetime(order_date_max)"
   ]
  },
  {
   "cell_type": "code",
   "execution_count": null,
   "metadata": {
    "ExecuteTime": {
     "start_time": "2019-08-29T07:15:01.030Z"
    }
   },
   "outputs": [],
   "source": [
    "life_time.sort_values(by=\"create_date\")"
   ]
  },
  {
   "cell_type": "code",
   "execution_count": null,
   "metadata": {
    "ExecuteTime": {
     "start_time": "2019-08-29T07:15:01.033Z"
    },
    "scrolled": false
   },
   "outputs": [],
   "source": [
    "life_time = (order_date_max-order_date_min).reset_index()\n",
    "life_time.describe()"
   ]
  },
  {
   "cell_type": "markdown",
   "metadata": {},
   "source": [
    "##### 用户平均生命周期为24天，超过一半的用户的首次购买也是最后消费，75分为天数为31天，大约均值，即最后25%的用户是为对商城贡献由主要贡献的高质量用户"
   ]
  },
  {
   "cell_type": "code",
   "execution_count": null,
   "metadata": {
    "ExecuteTime": {
     "start_time": "2019-08-29T07:15:01.035Z"
    }
   },
   "outputs": [],
   "source": [
    "\n",
    "import datetime\n",
    "d1 = datetime.datetime(2019,1,1)   # 第一个日期\n",
    "d2 = datetime.datetime(2019,7,31)   # 第二个日期\n",
    "interval = d2 - d1                   # 两日期差距\n",
    "interval.days \n"
   ]
  },
  {
   "cell_type": "code",
   "execution_count": null,
   "metadata": {
    "ExecuteTime": {
     "start_time": "2019-08-29T07:15:01.036Z"
    }
   },
   "outputs": [],
   "source": [
    "life_time['life_time'] = life_time.create_date/np.timedelta64(1,'D')"
   ]
  },
  {
   "cell_type": "code",
   "execution_count": null,
   "metadata": {
    "ExecuteTime": {
     "start_time": "2019-08-29T07:15:01.038Z"
    }
   },
   "outputs": [],
   "source": [
    "len(life_time[life_time.life_time > 0])"
   ]
  },
  {
   "cell_type": "code",
   "execution_count": null,
   "metadata": {
    "ExecuteTime": {
     "start_time": "2019-08-29T07:15:01.040Z"
    },
    "scrolled": true
   },
   "outputs": [],
   "source": [
    "ax = life_time[life_time.life_time > 0].life_time.hist(bins =100,figsize = (12,6))\n",
    "ax.set_xlabel('天数（天）', fontproperties=chinese) \n",
    "ax.set_ylabel('人数（人）', fontproperties=chinese) \n",
    "ax.set_title('二次消费以上用户的生命周期直方图', fontproperties=chinese)"
   ]
  },
  {
   "cell_type": "code",
   "execution_count": null,
   "metadata": {
    "ExecuteTime": {
     "start_time": "2019-08-29T07:15:01.045Z"
    }
   },
   "outputs": [],
   "source": [
    "# 生命周期在200天以上的用户数\n",
    "len(life_time[life_time.life_time > 150])"
   ]
  },
  {
   "cell_type": "code",
   "execution_count": null,
   "metadata": {
    "ExecuteTime": {
     "start_time": "2019-08-29T07:15:01.047Z"
    }
   },
   "outputs": [],
   "source": [
    "# 生命周期总用户数平均值\n",
    "life_time[life_time.life_time > 0].life_time.mean()"
   ]
  },
  {
   "cell_type": "markdown",
   "metadata": {},
   "source": [
    "##### 二次购买两次以上的用户生命周期为62天，根据运营角度说明，应该更多引导用户二次消费，从而提高用户生命周期，能带来2倍的增量。"
   ]
  },
  {
   "cell_type": "markdown",
   "metadata": {
    "ExecuteTime": {
     "end_time": "2019-08-26T06:20:04.572623Z",
     "start_time": "2019-08-26T06:20:04.564674Z"
    }
   },
   "source": [
    "### 留存率：第一次消费后有多少比率进行第二次消费"
   ]
  },
  {
   "cell_type": "code",
   "execution_count": null,
   "metadata": {
    "ExecuteTime": {
     "start_time": "2019-08-29T07:15:01.051Z"
    }
   },
   "outputs": [],
   "source": [
    "df_retention = df"
   ]
  },
  {
   "cell_type": "code",
   "execution_count": null,
   "metadata": {
    "ExecuteTime": {
     "start_time": "2019-08-29T07:15:01.053Z"
    }
   },
   "outputs": [],
   "source": [
    "user_purchase_retention = pd.merge(left = df_retention, right = order_date_min.reset_index(), how = 'inner', on = 'user_id', suffixes=('', '_min'))\n"
   ]
  },
  {
   "cell_type": "code",
   "execution_count": null,
   "metadata": {
    "ExecuteTime": {
     "start_time": "2019-08-29T07:15:01.055Z"
    },
    "scrolled": true
   },
   "outputs": [],
   "source": [
    "user_purchase_retention.head()"
   ]
  },
  {
   "cell_type": "code",
   "execution_count": null,
   "metadata": {
    "ExecuteTime": {
     "start_time": "2019-08-29T07:15:01.057Z"
    },
    "scrolled": true
   },
   "outputs": [],
   "source": [
    "user_purchase_retention[\"create_date\"] = pd.to_datetime(user_purchase_retention[\"create_date\"])"
   ]
  },
  {
   "cell_type": "code",
   "execution_count": null,
   "metadata": {
    "ExecuteTime": {
     "start_time": "2019-08-29T07:15:01.058Z"
    }
   },
   "outputs": [],
   "source": [
    "user_purchase_retention.info()"
   ]
  },
  {
   "cell_type": "code",
   "execution_count": null,
   "metadata": {
    "ExecuteTime": {
     "start_time": "2019-08-29T07:15:01.061Z"
    },
    "scrolled": true
   },
   "outputs": [],
   "source": [
    "user_purchase_retention['order_date_diff'] = user_purchase_retention.create_date - user_purchase_retention.create_date_min\n",
    "user_purchase_retention['date_diff'] = user_purchase_retention.order_date_diff.apply(lambda x: x/np.timedelta64(1,'D'))\n",
    "user_purchase_retention = user_purchase_retention.sort_values(by=\"order_date_diff\",ascending=True)\n",
    "user_purchase_retention.head(30)"
   ]
  },
  {
   "cell_type": "code",
   "execution_count": null,
   "metadata": {
    "ExecuteTime": {
     "start_time": "2019-08-29T07:15:01.063Z"
    }
   },
   "outputs": [],
   "source": [
    "user_purchase_retention[user_purchase_retention[\"user_id\"]  == 190368 ]"
   ]
  },
  {
   "cell_type": "code",
   "execution_count": null,
   "metadata": {
    "ExecuteTime": {
     "start_time": "2019-08-29T07:15:01.065Z"
    },
    "scrolled": true
   },
   "outputs": [],
   "source": [
    "bin = [0,30,60,90,120,150,180]\n",
    "user_purchase_retention['date_diff_bin'] = pd.cut(user_purchase_retention.date_diff, bins = bin)\n",
    "user_purchase_retention.head(20)"
   ]
  },
  {
   "cell_type": "code",
   "execution_count": null,
   "metadata": {
    "ExecuteTime": {
     "start_time": "2019-08-29T07:15:01.067Z"
    }
   },
   "outputs": [],
   "source": [
    "pivoted_retention= user_purchase_retention.groupby(['user_id','date_diff_bin']).payable_rmb_amount.sum().unstack()\n",
    "pivoted_retention.head(10)"
   ]
  },
  {
   "cell_type": "code",
   "execution_count": null,
   "metadata": {
    "ExecuteTime": {
     "start_time": "2019-08-29T07:15:01.070Z"
    }
   },
   "outputs": [],
   "source": [
    "pivoted_retention2= user_purchase_retention.groupby(['user_id','date_diff_bin']).buy_num.sum().unstack()\n",
    "pivoted_retention2.head(10)"
   ]
  },
  {
   "cell_type": "code",
   "execution_count": null,
   "metadata": {
    "ExecuteTime": {
     "start_time": "2019-08-29T07:15:01.072Z"
    }
   },
   "outputs": [],
   "source": [
    "# 直接用金额表达不出留存率，我们还是按照之前的算法，把消费过的转换成1，未消费过的转换成0，毕竟留存率看的是是否有消费。\n",
    "pivoted_retention_trans = pivoted_retention.fillna(0).applymap(lambda x: 1 if x >0 else 0)\n",
    "ax = (pivoted_retention_trans.sum()/pivoted_retention_trans.count()).plot.bar(figsize = (12,6))\n",
    "ax.set_xlabel('时间跨度（天）', fontproperties=chinese) \n",
    "ax.set_ylabel('百分数（%）', fontproperties=chinese) \n",
    "ax.set_title('各时间段的用户留存率', fontproperties=chinese)"
   ]
  },
  {
   "cell_type": "markdown",
   "metadata": {},
   "source": [
    "##### 由上图可知，头一个月留存高达65%，次月留存也在50%左右。但是第三个月就掉到30%以下。从第三个月开始就趋势性减少。从运营角度来看，这对刺激引导消费的活动或营销政策应该集中在前两个月开始使用，特别的第一个月。"
   ]
  },
  {
   "cell_type": "markdown",
   "metadata": {},
   "source": [
    "##### 为了更好的确定营销节点，在看下平均购买周期。"
   ]
  },
  {
   "cell_type": "markdown",
   "metadata": {},
   "source": [
    "### 平均购买周期：用户两次购买之间的间隔"
   ]
  },
  {
   "cell_type": "code",
   "execution_count": null,
   "metadata": {
    "ExecuteTime": {
     "start_time": "2019-08-29T07:15:01.075Z"
    }
   },
   "outputs": [],
   "source": [
    "#创建函数，返回时间差\n",
    "def diff(group):\n",
    "    d = group.date_diff - group.date_diff.shift(-1)\n",
    "    return d"
   ]
  },
  {
   "cell_type": "code",
   "execution_count": null,
   "metadata": {
    "ExecuteTime": {
     "start_time": "2019-08-29T07:15:01.077Z"
    }
   },
   "outputs": [],
   "source": [
    "user_purchase_retention = user_purchase_retention.sort_values(by=\"order_date_diff\",ascending=True)"
   ]
  },
  {
   "cell_type": "code",
   "execution_count": null,
   "metadata": {
    "ExecuteTime": {
     "start_time": "2019-08-29T07:15:01.079Z"
    }
   },
   "outputs": [],
   "source": [
    "user_purchase_retention[\"order_date_diff\"][0:20]"
   ]
  },
  {
   "cell_type": "code",
   "execution_count": null,
   "metadata": {},
   "outputs": [],
   "source": []
  },
  {
   "cell_type": "code",
   "execution_count": null,
   "metadata": {
    "ExecuteTime": {
     "start_time": "2019-08-29T07:15:01.084Z"
    }
   },
   "outputs": [],
   "source": [
    "last_diff = user_purchase_retention.groupby('user_id').apply(diff)\n"
   ]
  },
  {
   "cell_type": "code",
   "execution_count": null,
   "metadata": {
    "ExecuteTime": {
     "start_time": "2019-08-29T07:15:01.085Z"
    }
   },
   "outputs": [],
   "source": [
    "last_dd = last_diff.reset_index()"
   ]
  },
  {
   "cell_type": "code",
   "execution_count": null,
   "metadata": {
    "ExecuteTime": {
     "start_time": "2019-08-29T07:15:01.088Z"
    },
    "scrolled": false
   },
   "outputs": [],
   "source": [
    "last_dd[last_dd[\"user_id\"] == 9835106]"
   ]
  },
  {
   "cell_type": "code",
   "execution_count": null,
   "metadata": {
    "ExecuteTime": {
     "start_time": "2019-08-29T07:15:01.089Z"
    }
   },
   "outputs": [],
   "source": [
    "fig, ax = plt.subplots(figsize = (12,6))\n",
    "ax = last_diff.hist(bins = 20)\n",
    "ax.set_xlabel('时间跨度（天）', fontproperties=chinese) \n",
    "ax.set_ylabel('人数（人）', fontproperties=chinese) \n",
    "ax.set_title('用户平均购买周期直方图', fontproperties=chinese)"
   ]
  },
  {
   "cell_type": "code",
   "execution_count": null,
   "metadata": {
    "ExecuteTime": {
     "start_time": "2019-08-29T07:15:01.091Z"
    }
   },
   "outputs": [],
   "source": [
    "user_purchase_retention[[\"user_id\",\"date_diff\"]].head(30)"
   ]
  },
  {
   "cell_type": "code",
   "execution_count": null,
   "metadata": {
    "ExecuteTime": {
     "start_time": "2019-08-29T07:15:01.093Z"
    }
   },
   "outputs": [],
   "source": [
    "user_purchase_retention['date_diff'][0:10]"
   ]
  },
  {
   "cell_type": "code",
   "execution_count": null,
   "metadata": {
    "ExecuteTime": {
     "start_time": "2019-08-29T07:15:01.097Z"
    }
   },
   "outputs": [],
   "source": [
    "user_purchase_retention['date_diff'][0:10].shift(-1)"
   ]
  },
  {
   "cell_type": "code",
   "execution_count": null,
   "metadata": {},
   "outputs": [],
   "source": []
  },
  {
   "cell_type": "code",
   "execution_count": null,
   "metadata": {},
   "outputs": [],
   "source": []
  },
  {
   "cell_type": "code",
   "execution_count": null,
   "metadata": {},
   "outputs": [],
   "source": []
  },
  {
   "cell_type": "code",
   "execution_count": null,
   "metadata": {},
   "outputs": [],
   "source": []
  }
 ],
 "metadata": {
  "kernelspec": {
   "display_name": "Python 3",
   "language": "python",
   "name": "python3"
  },
  "language_info": {
   "codemirror_mode": {
    "name": "ipython",
    "version": 3
   },
   "file_extension": ".py",
   "mimetype": "text/x-python",
   "name": "python",
   "nbconvert_exporter": "python",
   "pygments_lexer": "ipython3",
   "version": "3.6.5"
  }
 },
 "nbformat": 4,
 "nbformat_minor": 2
}
