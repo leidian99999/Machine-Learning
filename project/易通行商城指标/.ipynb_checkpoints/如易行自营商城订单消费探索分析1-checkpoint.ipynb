{
 "cells": [
  {
   "cell_type": "code",
   "execution_count": 1,
   "metadata": {
    "ExecuteTime": {
     "end_time": "2019-08-27T08:59:26.502001Z",
     "start_time": "2019-08-27T08:58:49.932379Z"
    }
   },
   "outputs": [],
   "source": [
    "import pandas as pd\n",
    "import numpy as np\n",
    "import matplotlib.pyplot as plt\n",
    "from datetime import datetime\n",
    "%matplotlib inline\n",
    "plt.style.use('ggplot')\n",
    "from impala.dbapi import connect\n",
    "import warnings\n",
    "warnings.filterwarnings('ignore')\n",
    "pd.set_option('max_colwidth',1000)\n",
    "from matplotlib.font_manager import FontProperties\n",
    "chinese = FontProperties(fname = 'C:/Windows/Fonts/msyh.ttc')\n",
    "plt.rcParams['font.sans-serif'] = [u'SimHei']\n",
    "plt.rcParams['axes.unicode_minus'] = False"
   ]
  },
  {
   "cell_type": "code",
   "execution_count": 2,
   "metadata": {
    "ExecuteTime": {
     "end_time": "2019-08-27T08:59:26.508824Z",
     "start_time": "2019-08-27T08:59:26.503837Z"
    }
   },
   "outputs": [],
   "source": [
    "# data = pd.read_csv(\"D:/GitHub/datasets/190821_ShopOrders.csv\")\n",
    "\n",
    "# 查询所有字段\n",
    "# def list_col(localhost,database, port,tabls_name):\n",
    "#     db = connect(localhost,port,database)\n",
    "#     cursor = db.cursor()\n",
    "#     cursor.execute(\"select * from %s\" % tabls_name)\n",
    "#     col_name_list = [tuple[0] for tuple in cursor.description]\n",
    "#     db.close()\n",
    "#     return col_name_list\n",
    "\n",
    "# # 列出所有的表\n",
    "# def list_table(localhost,database,port):\n",
    "#     db = connect(localhost,database,port)\n",
    "#     cursor = db.cursor()\n",
    "#     cursor.execute(\"show tables\")\n",
    "#     table_list = [tuple[0] for tuple in cursor.fetchall()]\n",
    "#     db.close()\n",
    "#     return table_list\n",
    "\n",
    "# # 数据库信息\n",
    "# port = 21050 # 端口号\n",
    "# host = \"172.22.210.29\" # 连接地址\n",
    "# database = \"bigtables\" # 数据库名\n",
    "# tabls_name = \"shop_order\" # 表名\n",
    "\n",
    "# table_names = list_table(host,port,database) \n",
    "# # print('库中所有表名:',*table_names,sep = '\\n  ')\n",
    "# column_names = list_col(host,database, port,tabls_name)\n",
    "# # column_names = [\"user_id\",\"create_date\",\"payable_rmb_amount\",\"buy_num\",\"status\"]\n",
    "# # print('表中所有字段名:',*column_names,sep = '\\n  ')\n",
    "\n",
    "# conn = connect(host=host,port =port , database = database,timeout=3600 )\n",
    "# cur_data = conn.cursor()\n",
    "# cur_data.execute('''SELECT *\n",
    "# from shop_order \n",
    "# where create_date between \"2019-01-01 00:00:00\" AND \"2019-07-31 23:59:59\";''')\n",
    "# data=cur_data.fetchall()\n",
    "# data = pd.DataFrame(data,columns=column_names)\n",
    "\n",
    "# data = pd.read_csv(\"D:/GitHub/datasets/shop_order_190101_190731.csv\")"
   ]
  },
  {
   "cell_type": "code",
   "execution_count": 3,
   "metadata": {
    "ExecuteTime": {
     "end_time": "2019-08-27T08:59:26.648479Z",
     "start_time": "2019-08-27T08:59:26.511815Z"
    }
   },
   "outputs": [],
   "source": [
    "# data.shape\n",
    "# data1 = data.copy()\n",
    "# data1 = data1[data1[\"status\"] == 1]\n",
    "# data1.shape\n",
    "# df = data1[[\"user_id\",\"create_date\",\"payable_rmb_amount\",\"buy_num\"]]\n",
    "# df[\"create_date\"] = pd.to_datetime(df[\"create_date\"])\n",
    "# df[\"date\"] = df[\"create_date\"].dt.date\n",
    "# df[\"month\"] = df[\"date\"].values.astype('datetime64[M]')"
   ]
  },
  {
   "cell_type": "code",
   "execution_count": 4,
   "metadata": {
    "ExecuteTime": {
     "end_time": "2019-08-27T08:59:31.115528Z",
     "start_time": "2019-08-27T08:59:26.655430Z"
    }
   },
   "outputs": [],
   "source": [
    "df = pd.read_csv(\"D:/GitHub/datasets/shop_order_190101_190731.csv\")\n",
    "# df.to_csv(\"D:/GitHub/datasets/shop_order_190101_190731.csv\",index=False)\n"
   ]
  },
  {
   "cell_type": "code",
   "execution_count": 5,
   "metadata": {
    "ExecuteTime": {
     "end_time": "2019-08-27T08:59:31.766810Z",
     "start_time": "2019-08-27T08:59:31.117494Z"
    }
   },
   "outputs": [
    {
     "data": {
      "text/html": [
       "<div>\n",
       "<style scoped>\n",
       "    .dataframe tbody tr th:only-of-type {\n",
       "        vertical-align: middle;\n",
       "    }\n",
       "\n",
       "    .dataframe tbody tr th {\n",
       "        vertical-align: top;\n",
       "    }\n",
       "\n",
       "    .dataframe thead th {\n",
       "        text-align: right;\n",
       "    }\n",
       "</style>\n",
       "<table border=\"1\" class=\"dataframe\">\n",
       "  <thead>\n",
       "    <tr style=\"text-align: right;\">\n",
       "      <th></th>\n",
       "      <th>user_id</th>\n",
       "      <th>create_date</th>\n",
       "      <th>payable_rmb_amount</th>\n",
       "      <th>buy_num</th>\n",
       "      <th>date</th>\n",
       "      <th>month</th>\n",
       "    </tr>\n",
       "  </thead>\n",
       "  <tbody>\n",
       "    <tr>\n",
       "      <th>0</th>\n",
       "      <td>2227633</td>\n",
       "      <td>2019-01-01 06:45:46</td>\n",
       "      <td>7.0</td>\n",
       "      <td>1.0</td>\n",
       "      <td>2019-01-01</td>\n",
       "      <td>2019-01-01</td>\n",
       "    </tr>\n",
       "    <tr>\n",
       "      <th>1</th>\n",
       "      <td>99</td>\n",
       "      <td>2019-01-01 08:35:27</td>\n",
       "      <td>17.0</td>\n",
       "      <td>1.0</td>\n",
       "      <td>2019-01-01</td>\n",
       "      <td>2019-01-01</td>\n",
       "    </tr>\n",
       "    <tr>\n",
       "      <th>2</th>\n",
       "      <td>2436006</td>\n",
       "      <td>2019-01-01 09:10:40</td>\n",
       "      <td>7.0</td>\n",
       "      <td>1.0</td>\n",
       "      <td>2019-01-01</td>\n",
       "      <td>2019-01-01</td>\n",
       "    </tr>\n",
       "    <tr>\n",
       "      <th>3</th>\n",
       "      <td>9473330</td>\n",
       "      <td>2019-01-01 11:11:21</td>\n",
       "      <td>7.0</td>\n",
       "      <td>1.0</td>\n",
       "      <td>2019-01-01</td>\n",
       "      <td>2019-01-01</td>\n",
       "    </tr>\n",
       "    <tr>\n",
       "      <th>4</th>\n",
       "      <td>8664508</td>\n",
       "      <td>2019-01-01 11:49:55</td>\n",
       "      <td>7.0</td>\n",
       "      <td>1.0</td>\n",
       "      <td>2019-01-01</td>\n",
       "      <td>2019-01-01</td>\n",
       "    </tr>\n",
       "  </tbody>\n",
       "</table>\n",
       "</div>"
      ],
      "text/plain": [
       "   user_id          create_date  payable_rmb_amount  buy_num        date  \\\n",
       "0  2227633  2019-01-01 06:45:46                 7.0      1.0  2019-01-01   \n",
       "1       99  2019-01-01 08:35:27                17.0      1.0  2019-01-01   \n",
       "2  2436006  2019-01-01 09:10:40                 7.0      1.0  2019-01-01   \n",
       "3  9473330  2019-01-01 11:11:21                 7.0      1.0  2019-01-01   \n",
       "4  8664508  2019-01-01 11:49:55                 7.0      1.0  2019-01-01   \n",
       "\n",
       "        month  \n",
       "0  2019-01-01  \n",
       "1  2019-01-01  \n",
       "2  2019-01-01  \n",
       "3  2019-01-01  \n",
       "4  2019-01-01  "
      ]
     },
     "execution_count": 5,
     "metadata": {},
     "output_type": "execute_result"
    }
   ],
   "source": [
    "df.head()"
   ]
  },
  {
   "cell_type": "code",
   "execution_count": 6,
   "metadata": {
    "ExecuteTime": {
     "end_time": "2019-08-27T08:59:31.918499Z",
     "start_time": "2019-08-27T08:59:31.773740Z"
    }
   },
   "outputs": [
    {
     "name": "stdout",
     "output_type": "stream",
     "text": [
      "<class 'pandas.core.frame.DataFrame'>\n",
      "RangeIndex: 213843 entries, 0 to 213842\n",
      "Data columns (total 6 columns):\n",
      "user_id               213843 non-null int64\n",
      "create_date           213843 non-null object\n",
      "payable_rmb_amount    213843 non-null float64\n",
      "buy_num               213843 non-null float64\n",
      "date                  213843 non-null object\n",
      "month                 213843 non-null object\n",
      "dtypes: float64(2), int64(1), object(3)\n",
      "memory usage: 9.8+ MB\n"
     ]
    }
   ],
   "source": [
    "df.info()"
   ]
  },
  {
   "cell_type": "code",
   "execution_count": 7,
   "metadata": {
    "ExecuteTime": {
     "end_time": "2019-08-27T08:59:32.599677Z",
     "start_time": "2019-08-27T08:59:31.920463Z"
    },
    "scrolled": true
   },
   "outputs": [
    {
     "data": {
      "text/html": [
       "<div>\n",
       "<style scoped>\n",
       "    .dataframe tbody tr th:only-of-type {\n",
       "        vertical-align: middle;\n",
       "    }\n",
       "\n",
       "    .dataframe tbody tr th {\n",
       "        vertical-align: top;\n",
       "    }\n",
       "\n",
       "    .dataframe thead th {\n",
       "        text-align: right;\n",
       "    }\n",
       "</style>\n",
       "<table border=\"1\" class=\"dataframe\">\n",
       "  <thead>\n",
       "    <tr style=\"text-align: right;\">\n",
       "      <th></th>\n",
       "      <th>user_id</th>\n",
       "      <th>payable_rmb_amount</th>\n",
       "      <th>buy_num</th>\n",
       "    </tr>\n",
       "  </thead>\n",
       "  <tbody>\n",
       "    <tr>\n",
       "      <th>count</th>\n",
       "      <td>2.138430e+05</td>\n",
       "      <td>213843.000000</td>\n",
       "      <td>213843.0</td>\n",
       "    </tr>\n",
       "    <tr>\n",
       "      <th>mean</th>\n",
       "      <td>5.663011e+06</td>\n",
       "      <td>7.237698</td>\n",
       "      <td>1.0</td>\n",
       "    </tr>\n",
       "    <tr>\n",
       "      <th>std</th>\n",
       "      <td>4.104763e+06</td>\n",
       "      <td>14.468073</td>\n",
       "      <td>0.0</td>\n",
       "    </tr>\n",
       "    <tr>\n",
       "      <th>min</th>\n",
       "      <td>3.000000e+00</td>\n",
       "      <td>0.000000</td>\n",
       "      <td>1.0</td>\n",
       "    </tr>\n",
       "    <tr>\n",
       "      <th>25%</th>\n",
       "      <td>2.104415e+06</td>\n",
       "      <td>3.990000</td>\n",
       "      <td>1.0</td>\n",
       "    </tr>\n",
       "    <tr>\n",
       "      <th>50%</th>\n",
       "      <td>4.503539e+06</td>\n",
       "      <td>4.990000</td>\n",
       "      <td>1.0</td>\n",
       "    </tr>\n",
       "    <tr>\n",
       "      <th>75%</th>\n",
       "      <td>9.526026e+06</td>\n",
       "      <td>5.990000</td>\n",
       "      <td>1.0</td>\n",
       "    </tr>\n",
       "    <tr>\n",
       "      <th>max</th>\n",
       "      <td>1.697181e+07</td>\n",
       "      <td>299.000000</td>\n",
       "      <td>1.0</td>\n",
       "    </tr>\n",
       "  </tbody>\n",
       "</table>\n",
       "</div>"
      ],
      "text/plain": [
       "            user_id  payable_rmb_amount   buy_num\n",
       "count  2.138430e+05       213843.000000  213843.0\n",
       "mean   5.663011e+06            7.237698       1.0\n",
       "std    4.104763e+06           14.468073       0.0\n",
       "min    3.000000e+00            0.000000       1.0\n",
       "25%    2.104415e+06            3.990000       1.0\n",
       "50%    4.503539e+06            4.990000       1.0\n",
       "75%    9.526026e+06            5.990000       1.0\n",
       "max    1.697181e+07          299.000000       1.0"
      ]
     },
     "execution_count": 7,
     "metadata": {},
     "output_type": "execute_result"
    }
   ],
   "source": [
    "# 共222983单支付成功，平均每单消费7.16元，75%消费6元以下\n",
    "df.describe()"
   ]
  },
  {
   "cell_type": "code",
   "execution_count": 8,
   "metadata": {
    "ExecuteTime": {
     "end_time": "2019-08-27T08:59:32.938801Z",
     "start_time": "2019-08-27T08:59:32.602640Z"
    }
   },
   "outputs": [],
   "source": [
    "# 按用户分组\n",
    "user_grouped = df.groupby(\"user_id\").sum()"
   ]
  },
  {
   "cell_type": "code",
   "execution_count": 9,
   "metadata": {
    "ExecuteTime": {
     "end_time": "2019-08-27T08:59:32.963672Z",
     "start_time": "2019-08-27T08:59:32.941733Z"
    }
   },
   "outputs": [
    {
     "data": {
      "text/html": [
       "<div>\n",
       "<style scoped>\n",
       "    .dataframe tbody tr th:only-of-type {\n",
       "        vertical-align: middle;\n",
       "    }\n",
       "\n",
       "    .dataframe tbody tr th {\n",
       "        vertical-align: top;\n",
       "    }\n",
       "\n",
       "    .dataframe thead th {\n",
       "        text-align: right;\n",
       "    }\n",
       "</style>\n",
       "<table border=\"1\" class=\"dataframe\">\n",
       "  <thead>\n",
       "    <tr style=\"text-align: right;\">\n",
       "      <th></th>\n",
       "      <th>payable_rmb_amount</th>\n",
       "      <th>buy_num</th>\n",
       "    </tr>\n",
       "    <tr>\n",
       "      <th>user_id</th>\n",
       "      <th></th>\n",
       "      <th></th>\n",
       "    </tr>\n",
       "  </thead>\n",
       "  <tbody>\n",
       "    <tr>\n",
       "      <th>3</th>\n",
       "      <td>0.99</td>\n",
       "      <td>1.0</td>\n",
       "    </tr>\n",
       "    <tr>\n",
       "      <th>11</th>\n",
       "      <td>0.00</td>\n",
       "      <td>1.0</td>\n",
       "    </tr>\n",
       "    <tr>\n",
       "      <th>13</th>\n",
       "      <td>0.00</td>\n",
       "      <td>1.0</td>\n",
       "    </tr>\n",
       "    <tr>\n",
       "      <th>16</th>\n",
       "      <td>1.98</td>\n",
       "      <td>2.0</td>\n",
       "    </tr>\n",
       "    <tr>\n",
       "      <th>35</th>\n",
       "      <td>0.00</td>\n",
       "      <td>1.0</td>\n",
       "    </tr>\n",
       "  </tbody>\n",
       "</table>\n",
       "</div>"
      ],
      "text/plain": [
       "         payable_rmb_amount  buy_num\n",
       "user_id                             \n",
       "3                      0.99      1.0\n",
       "11                     0.00      1.0\n",
       "13                     0.00      1.0\n",
       "16                     1.98      2.0\n",
       "35                     0.00      1.0"
      ]
     },
     "execution_count": 9,
     "metadata": {},
     "output_type": "execute_result"
    }
   ],
   "source": [
    "user_grouped.head()"
   ]
  },
  {
   "cell_type": "code",
   "execution_count": 10,
   "metadata": {
    "ExecuteTime": {
     "end_time": "2019-08-27T08:59:33.205195Z",
     "start_time": "2019-08-27T08:59:32.965667Z"
    }
   },
   "outputs": [
    {
     "data": {
      "text/html": [
       "<div>\n",
       "<style scoped>\n",
       "    .dataframe tbody tr th:only-of-type {\n",
       "        vertical-align: middle;\n",
       "    }\n",
       "\n",
       "    .dataframe tbody tr th {\n",
       "        vertical-align: top;\n",
       "    }\n",
       "\n",
       "    .dataframe thead th {\n",
       "        text-align: right;\n",
       "    }\n",
       "</style>\n",
       "<table border=\"1\" class=\"dataframe\">\n",
       "  <thead>\n",
       "    <tr style=\"text-align: right;\">\n",
       "      <th></th>\n",
       "      <th>payable_rmb_amount</th>\n",
       "      <th>buy_num</th>\n",
       "    </tr>\n",
       "  </thead>\n",
       "  <tbody>\n",
       "    <tr>\n",
       "      <th>count</th>\n",
       "      <td>100102.000000</td>\n",
       "      <td>100102.000000</td>\n",
       "    </tr>\n",
       "    <tr>\n",
       "      <th>mean</th>\n",
       "      <td>15.461539</td>\n",
       "      <td>2.136251</td>\n",
       "    </tr>\n",
       "    <tr>\n",
       "      <th>std</th>\n",
       "      <td>28.469532</td>\n",
       "      <td>2.367325</td>\n",
       "    </tr>\n",
       "    <tr>\n",
       "      <th>min</th>\n",
       "      <td>0.000000</td>\n",
       "      <td>1.000000</td>\n",
       "    </tr>\n",
       "    <tr>\n",
       "      <th>25%</th>\n",
       "      <td>3.990000</td>\n",
       "      <td>1.000000</td>\n",
       "    </tr>\n",
       "    <tr>\n",
       "      <th>50%</th>\n",
       "      <td>7.000000</td>\n",
       "      <td>1.000000</td>\n",
       "    </tr>\n",
       "    <tr>\n",
       "      <th>75%</th>\n",
       "      <td>16.990000</td>\n",
       "      <td>2.000000</td>\n",
       "    </tr>\n",
       "    <tr>\n",
       "      <th>max</th>\n",
       "      <td>1062.550000</td>\n",
       "      <td>262.000000</td>\n",
       "    </tr>\n",
       "  </tbody>\n",
       "</table>\n",
       "</div>"
      ],
      "text/plain": [
       "       payable_rmb_amount        buy_num\n",
       "count       100102.000000  100102.000000\n",
       "mean            15.461539       2.136251\n",
       "std             28.469532       2.367325\n",
       "min              0.000000       1.000000\n",
       "25%              3.990000       1.000000\n",
       "50%              7.000000       1.000000\n",
       "75%             16.990000       2.000000\n",
       "max           1062.550000     262.000000"
      ]
     },
     "execution_count": 10,
     "metadata": {},
     "output_type": "execute_result"
    }
   ],
   "source": [
    "# 用户数101911人(截止190822下午)，人均消费15.65元.75%用户消费17元以下\n",
    "# \n",
    "user_grouped.describe()"
   ]
  },
  {
   "cell_type": "code",
   "execution_count": 11,
   "metadata": {
    "ExecuteTime": {
     "end_time": "2019-08-27T08:59:34.020225Z",
     "start_time": "2019-08-27T08:59:33.208188Z"
    },
    "scrolled": false
   },
   "outputs": [
    {
     "data": {
      "text/plain": [
       "Text(0.5, 1.0, '各月用户支付金额')"
      ]
     },
     "execution_count": 11,
     "metadata": {},
     "output_type": "execute_result"
    },
    {
     "data": {
      "image/png": "[encoded data removed]",
      "text/plain": [
       "<Figure size 864x432 with 1 Axes>"
      ]
     },
     "metadata": {
      "needs_background": "light"
     },
     "output_type": "display_data"
    }
   ],
   "source": [
    "plt.figure(figsize = (12,6))\n",
    "ax = df.groupby('month').payable_rmb_amount.sum().plot()\n",
    "ax.set_xlabel(\"月份\",fontproperties=chinese)\n",
    "ax.set_ylabel(\"实付金额\",fontproperties=chinese)\n",
    "ax.set_title(\"各月用户支付金额\",fontproperties=chinese)"
   ]
  },
  {
   "cell_type": "code",
   "execution_count": 12,
   "metadata": {
    "ExecuteTime": {
     "end_time": "2019-08-27T08:59:34.049143Z",
     "start_time": "2019-08-27T08:59:34.022185Z"
    }
   },
   "outputs": [
    {
     "data": {
      "text/plain": [
       "month\n",
       "2019-01-01     28544.64\n",
       "2019-02-01    412093.04\n",
       "2019-03-01    421263.63\n",
       "2019-04-01    222778.42\n",
       "2019-05-01    126009.79\n",
       "2019-06-01    159751.58\n",
       "2019-07-01    177289.85\n",
       "Name: payable_rmb_amount, dtype: float64"
      ]
     },
     "execution_count": 12,
     "metadata": {},
     "output_type": "execute_result"
    }
   ],
   "source": [
    "df.groupby('month').payable_rmb_amount.sum()"
   ]
  },
  {
   "cell_type": "markdown",
   "metadata": {},
   "source": [
    "#### 19年2-3月销量达到高峰，之后4-5出现一次大幅下降，最后趋于平稳"
   ]
  },
  {
   "cell_type": "code",
   "execution_count": 13,
   "metadata": {
    "ExecuteTime": {
     "end_time": "2019-08-27T08:59:34.724304Z",
     "start_time": "2019-08-27T08:59:34.051106Z"
    },
    "scrolled": false
   },
   "outputs": [
    {
     "data": {
      "text/plain": [
       "Text(0.5, 1.0, '各月用户购买商品数(订单数)')"
      ]
     },
     "execution_count": 13,
     "metadata": {},
     "output_type": "execute_result"
    },
    {
     "data": {
      "image/png": "[encoded data removed]",
      "text/plain": [
       "<Figure size 720x432 with 1 Axes>"
      ]
     },
     "metadata": {
      "needs_background": "light"
     },
     "output_type": "display_data"
    }
   ],
   "source": [
    "plt.figure(figsize = (10,6))\n",
    "ax = df.groupby('month').buy_num.sum().plot()\n",
    "ax.set_xlabel(\"月份\",fontproperties=chinese)\n",
    "ax.set_ylabel(\"商品购买数\",fontproperties=chinese)\n",
    "ax.set_title(\"各月用户购买商品数(订单数)\",fontproperties=chinese)"
   ]
  },
  {
   "cell_type": "markdown",
   "metadata": {},
   "source": [
    "##### 4月销量下滑趋势没有金额幅度大，可能是商品价格下降导致"
   ]
  },
  {
   "cell_type": "code",
   "execution_count": 14,
   "metadata": {
    "ExecuteTime": {
     "end_time": "2019-08-27T08:59:36.504823Z",
     "start_time": "2019-08-27T08:59:34.726301Z"
    }
   },
   "outputs": [
    {
     "data": {
      "text/plain": [
       "Text(0.5, 1.0, '各用户实付金额与购买商品数关系')"
      ]
     },
     "execution_count": 14,
     "metadata": {},
     "output_type": "execute_result"
    },
    {
     "data": {
      "text/plain": [
       "<Figure size 720x432 with 0 Axes>"
      ]
     },
     "metadata": {},
     "output_type": "display_data"
    },
    {
     "data": {
      "image/png": "[encoded data removed]",
      "text/plain": [
       "<Figure size 432x288 with 1 Axes>"
      ]
     },
     "metadata": {
      "needs_background": "light"
     },
     "output_type": "display_data"
    }
   ],
   "source": [
    "plt.figure(figsize = (10,6))\n",
    "ax = df.groupby('user_id').sum().plot.scatter(\"payable_rmb_amount\",\"buy_num\")\n",
    "ax.set_xlabel(\"实付金额\",fontproperties=chinese)\n",
    "ax.set_ylabel(\"购买商品数\",fontproperties=chinese)\n",
    "ax.set_title(\"各用户实付金额与购买商品数关系\",fontproperties=chinese)"
   ]
  },
  {
   "cell_type": "markdown",
   "metadata": {},
   "source": [
    "#### 总体还算正常，有极少数异常值，但数量不够影响全局"
   ]
  },
  {
   "cell_type": "code",
   "execution_count": 15,
   "metadata": {
    "ExecuteTime": {
     "end_time": "2019-08-27T08:59:37.347578Z",
     "start_time": "2019-08-27T08:59:36.507816Z"
    }
   },
   "outputs": [
    {
     "data": {
      "text/plain": [
       "Text(0.5, 1.0, '用户购买商品数分布')"
      ]
     },
     "execution_count": 15,
     "metadata": {},
     "output_type": "execute_result"
    },
    {
     "data": {
      "image/png": "[encoded data removed]",
      "text/plain": [
       "<Figure size 1152x432 with 2 Axes>"
      ]
     },
     "metadata": {
      "needs_background": "light"
     },
     "output_type": "display_data"
    }
   ],
   "source": [
    "# 画个直方图看看分布\n",
    "plt.figure(figsize=(16,6))\n",
    "plt.subplot(121)\n",
    "ax = df.groupby(\"user_id\")[\"payable_rmb_amount\"].sum().hist(bins = 50)\n",
    "ax.set_xlabel(\"实付金额\",fontproperties=chinese)\n",
    "ax.set_ylabel(\"用户数\",fontproperties=chinese)\n",
    "ax.set_xlim(0,150)\n",
    "ax.set_title(\"用户消费金额分布\",fontproperties = chinese)\n",
    "plt.subplot(122)\n",
    "ax = df.groupby('user_id').buy_num.count().hist(bins = 50)\n",
    "ax.set_xlabel('商品购买数',fontproperties = chinese)\n",
    "ax.set_ylabel(\"用户数\",fontproperties = chinese)\n",
    "ax.set_xlim(0,2000)\n",
    "ax.set_title(\"用户购买商品数分布\",fontproperties = chinese)"
   ]
  },
  {
   "cell_type": "code",
   "execution_count": 16,
   "metadata": {
    "ExecuteTime": {
     "end_time": "2019-08-27T08:59:57.186070Z",
     "start_time": "2019-08-27T08:59:37.349574Z"
    }
   },
   "outputs": [
    {
     "name": "stdout",
     "output_type": "stream",
     "text": [
      "用户首次消费月份(每月新客数)\n",
      "2019-02-01    35107\n",
      "2019-03-01    22006\n",
      "2019-04-01    12294\n",
      "2019-01-01    10948\n",
      "2019-06-01     9280\n",
      "2019-05-01     6047\n",
      "2019-07-01     4420\n",
      "Name: month, dtype: int64\n"
     ]
    }
   ],
   "source": [
    "print(\"用户首次消费月份(每月新客数)\")\n",
    "print(df.groupby(\"user_id\").month.min().value_counts())"
   ]
  },
  {
   "cell_type": "code",
   "execution_count": 17,
   "metadata": {
    "ExecuteTime": {
     "end_time": "2019-08-27T09:00:18.234759Z",
     "start_time": "2019-08-27T08:59:57.190059Z"
    }
   },
   "outputs": [
    {
     "name": "stdout",
     "output_type": "stream",
     "text": [
      "用户末次消费月份：(末次消费)\n",
      "2019-02-01    27444\n",
      "2019-03-01    18383\n",
      "2019-07-01    17068\n",
      "2019-04-01    13504\n",
      "2019-06-01    11099\n",
      "2019-01-01     7496\n",
      "2019-05-01     5108\n",
      "Name: month, dtype: int64\n"
     ]
    }
   ],
   "source": [
    "print(\"用户末次消费月份：(末次消费)\")\n",
    "print(df.groupby('user_id').month.max().value_counts())"
   ]
  },
  {
   "cell_type": "markdown",
   "metadata": {},
   "source": [
    "### 复购率:当月购买2次及以上为复购用户"
   ]
  },
  {
   "cell_type": "code",
   "execution_count": 18,
   "metadata": {
    "ExecuteTime": {
     "end_time": "2019-08-27T09:00:18.986786Z",
     "start_time": "2019-08-27T09:00:18.237754Z"
    }
   },
   "outputs": [],
   "source": [
    "# 算出每个用户下单月份\n",
    "df_FuGou = df.pivot_table(index='user_id',columns='month',\n",
    "                             values='date',aggfunc='count').fillna(0)\n",
    "# df_FuGou.head(10)"
   ]
  },
  {
   "cell_type": "code",
   "execution_count": 19,
   "metadata": {
    "ExecuteTime": {
     "end_time": "2019-08-27T09:00:19.520992Z",
     "start_time": "2019-08-27T09:00:18.989779Z"
    }
   },
   "outputs": [],
   "source": [
    "# 数据转化，消费两次及以上的记为1，一次记为0，没有消费记为NaN\n",
    "df_FuGou_transf = df_FuGou.applymap(lambda x:1 if x > 1 else np.NaN if x == 0 else 0)"
   ]
  },
  {
   "cell_type": "code",
   "execution_count": 20,
   "metadata": {
    "ExecuteTime": {
     "end_time": "2019-08-27T09:00:20.049503Z",
     "start_time": "2019-08-27T09:00:19.523914Z"
    }
   },
   "outputs": [
    {
     "data": {
      "text/plain": [
       "Text(0.5, 1.0, '各月复购率')"
      ]
     },
     "execution_count": 20,
     "metadata": {},
     "output_type": "execute_result"
    },
    {
     "data": {
      "image/png": "[encoded data removed]",
      "text/plain": [
       "<Figure size 720x288 with 1 Axes>"
      ]
     },
     "metadata": {
      "needs_background": "light"
     },
     "output_type": "display_data"
    }
   ],
   "source": [
    "#计算复购率并作图\n",
    "ax = (df_FuGou_transf.sum()/df_FuGou_transf.count()).plot(figsize = (10,4))\n",
    "ax.set_xlabel(\"月份\",fontproperties=chinese)\n",
    "ax.set_ylabel(\"复购百分比\",fontproperties=chinese)\n",
    "ax.set_title(\"各月复购率\",fontproperties=chinese)"
   ]
  },
  {
   "cell_type": "code",
   "execution_count": 21,
   "metadata": {
    "ExecuteTime": {
     "end_time": "2019-08-27T09:00:21.965413Z",
     "start_time": "2019-08-27T09:00:20.052497Z"
    }
   },
   "outputs": [
    {
     "data": {
      "text/plain": [
       "<matplotlib.legend.Legend at 0x288c9ea6b00>"
      ]
     },
     "execution_count": 21,
     "metadata": {},
     "output_type": "execute_result"
    },
    {
     "data": {
      "image/png": "[encoded data removed]",
      "text/plain": [
       "<Figure size 864x288 with 1 Axes>"
      ]
     },
     "metadata": {
      "needs_background": "light"
     },
     "output_type": "display_data"
    }
   ],
   "source": [
    "# 细分一下\n",
    "\n",
    "fig , ax = plt.subplots(figsize = (12,4))\n",
    "ax.plot(df_FuGou_transf.count())\n",
    "ax.plot(df_FuGou_transf.sum())\n",
    "ax.set_xlabel(\"月份\",fontproperties=chinese)\n",
    "ax.set_ylabel(\"购买人数\",fontproperties=chinese)\n",
    "ax.set_title(\"各月二次消费与总消费用户数对比\")\n",
    "legends = [\"总消费人数\",\"多于二次消费人数\"]\n",
    "ax.legend(legends,prop=chinese,loc='upper right')"
   ]
  },
  {
   "cell_type": "markdown",
   "metadata": {},
   "source": [
    "##### 复购人数从19年3月起开始趋于稳定，证明沉淀下来此部分用户忠诚度很高。"
   ]
  },
  {
   "cell_type": "markdown",
   "metadata": {},
   "source": [
    "### 回购率：某时间段内消费的用户，在下个时间周期内仍消费的占比。"
   ]
  },
  {
   "cell_type": "code",
   "execution_count": 22,
   "metadata": {
    "ExecuteTime": {
     "end_time": "2019-08-27T09:00:22.301515Z",
     "start_time": "2019-08-27T09:00:21.968371Z"
    }
   },
   "outputs": [],
   "source": [
    "# 算出每个用户各月购买次数\n",
    "df_HuiGou = df.pivot_table(index=\"user_id\",columns=\"month\",\n",
    "                          values=\"date\",aggfunc='count').fillna(0)\n",
    "# df_HuiGou.head()"
   ]
  },
  {
   "cell_type": "code",
   "execution_count": 23,
   "metadata": {
    "ExecuteTime": {
     "end_time": "2019-08-27T09:00:22.926037Z",
     "start_time": "2019-08-27T09:00:22.312486Z"
    }
   },
   "outputs": [],
   "source": [
    "# 数据转化，购买过为1，没买为0\n",
    "df_HuiGou_transf = df_HuiGou.applymap(lambda x:1 if x>0 else 0)\n",
    "# df_HuiGou_transf.head(10)"
   ]
  },
  {
   "cell_type": "code",
   "execution_count": null,
   "metadata": {},
   "outputs": [],
   "source": []
  },
  {
   "cell_type": "code",
   "execution_count": 24,
   "metadata": {
    "ExecuteTime": {
     "end_time": "2019-08-27T09:00:22.943028Z",
     "start_time": "2019-08-27T09:00:22.932022Z"
    }
   },
   "outputs": [],
   "source": [
    "#定义函数，每个月都要跟后面一个月对比下，\n",
    "#本月有消费且下月也有消费，则本月记为1，\n",
    "#本月有消费且下月没有消费，则本月记为0，\n",
    "#本月没有消费则为NaN，\n",
    "#由于最后个月没有下月数据，规定全为NaN\n",
    "def purchase_return(data):\n",
    "    status = []\n",
    "    for i in range(6):\n",
    "        if data[i] == 1:\n",
    "            if data[i+1] == 1:\n",
    "                status.append(1)\n",
    "            if data[i+1] == 0:\n",
    "                status.append(0)\n",
    "        else:\n",
    "            status.append(np.NaN)\n",
    "    status.append(np.NaN)       \n",
    "    return pd.Series(status)\n",
    "#     return status\n",
    "    "
   ]
  },
  {
   "cell_type": "code",
   "execution_count": 25,
   "metadata": {
    "ExecuteTime": {
     "end_time": "2019-08-27T09:01:51.494157Z",
     "start_time": "2019-08-27T09:00:22.947979Z"
    }
   },
   "outputs": [],
   "source": [
    "df_HuiGou_return = df_HuiGou_transf.apply(purchase_return, axis = 1)\n",
    "# df_HuiGou_return.head()"
   ]
  },
  {
   "cell_type": "code",
   "execution_count": 26,
   "metadata": {
    "ExecuteTime": {
     "end_time": "2019-08-27T09:01:51.771405Z",
     "start_time": "2019-08-27T09:01:51.497091Z"
    }
   },
   "outputs": [],
   "source": [
    "# 出图看看\n",
    "columns = df.month.sort_values().unique()\n",
    "df_HuiGou_return.columns = columns"
   ]
  },
  {
   "cell_type": "code",
   "execution_count": 27,
   "metadata": {
    "ExecuteTime": {
     "end_time": "2019-08-27T09:01:52.248082Z",
     "start_time": "2019-08-27T09:01:51.775345Z"
    }
   },
   "outputs": [
    {
     "data": {
      "text/plain": [
       "Text(0.5, 1.0, '各月回购率')"
      ]
     },
     "execution_count": 27,
     "metadata": {},
     "output_type": "execute_result"
    },
    {
     "data": {
      "image/png": "[encoded data removed]",
      "text/plain": [
       "<Figure size 720x288 with 1 Axes>"
      ]
     },
     "metadata": {
      "needs_background": "light"
     },
     "output_type": "display_data"
    }
   ],
   "source": [
    "ax = (df_HuiGou_return.sum()/df_HuiGou_return.count()).plot(figsize = (10,4))\n",
    "ax.set_xlabel(\"月份\",fontproperties=chinese)\n",
    "ax.set_ylabel(\"百分比\",fontproperties=chinese)\n",
    "ax.set_title(\"各月回购率\",fontproperties=chinese)"
   ]
  },
  {
   "cell_type": "markdown",
   "metadata": {},
   "source": [
    "##### 6，7月上了什么产品或活动吗？ 回购率超过50%"
   ]
  },
  {
   "cell_type": "code",
   "execution_count": 28,
   "metadata": {
    "ExecuteTime": {
     "end_time": "2019-08-27T09:01:52.655988Z",
     "start_time": "2019-08-27T09:01:52.253067Z"
    }
   },
   "outputs": [
    {
     "data": {
      "text/plain": [
       "<matplotlib.legend.Legend at 0x288ca153940>"
      ]
     },
     "execution_count": 28,
     "metadata": {},
     "output_type": "execute_result"
    },
    {
     "data": {
      "image/png": "[encoded data removed]",
      "text/plain": [
       "<Figure size 720x288 with 1 Axes>"
      ]
     },
     "metadata": {
      "needs_background": "light"
     },
     "output_type": "display_data"
    }
   ],
   "source": [
    "# 细化一下\n",
    "\n",
    "fig,ax = plt.subplots(figsize = (10,4))\n",
    "ax.plot(df_HuiGou_return.count()) # 消费人数\n",
    "ax.plot(df_HuiGou_return.sum()) # 回购人数\n",
    "ax.set_xlabel(\"月份\",fontproperties=chinese)\n",
    "ax.set_ylabel(\"用户数\",fontproperties=chinese)\n",
    "legends = [\"各月消费人数\",\"各月回购人数\"]\n",
    "ax.legend(legends,prop=chinese,loc=\"upper right\")"
   ]
  },
  {
   "cell_type": "markdown",
   "metadata": {},
   "source": [
    "#####  与复购人数接近，5000-10000，趋势平稳，证明这部分用户已经养成了固定使用消费习惯。应该是同一拨人，稍后会验证一下。 但是7月表现出下滑趋势。"
   ]
  },
  {
   "cell_type": "markdown",
   "metadata": {},
   "source": [
    "#### 2率都呈现上升趋势，后几个月基本与总消费人数变化趋势相近"
   ]
  },
  {
   "cell_type": "markdown",
   "metadata": {},
   "source": [
    "### 用户分层\n",
    "##### 新用户的定义是第一次消费。活跃用户即老客，在某一个时间窗口内有过消费。不活跃用户则是时间窗口内没有消费过的老客。回流用户是在上一个窗口中没有消费，而在当前时间窗口内有过消费。以上的时间窗口都是按月统计。"
   ]
  },
  {
   "cell_type": "code",
   "execution_count": 29,
   "metadata": {
    "ExecuteTime": {
     "end_time": "2019-08-27T09:01:52.671946Z",
     "start_time": "2019-08-27T09:01:52.659977Z"
    }
   },
   "outputs": [],
   "source": [
    "def active_status(data):\n",
    "    status = []\n",
    "    for i in range(7):\n",
    "        \n",
    "        #若本月没有消费\n",
    "        if data[i] == 0:\n",
    "            if len(status) > 0:\n",
    "                if status[i-1] == '未注册':\n",
    "                    status.append('未注册')\n",
    "                else:\n",
    "                    status.append('不活跃')\n",
    "            else:\n",
    "                status.append('未注册')\n",
    "                \n",
    "        # 若本月有消费\n",
    "        else:\n",
    "            if len(status) == 0:\n",
    "                status.append('新客')\n",
    "            else:\n",
    "                if status[i-1] == '不活跃':\n",
    "                    status.append('回流用户')\n",
    "                elif status[i-1] == '未注册':\n",
    "                    status.append('新客')\n",
    "                else:\n",
    "                    status.append('活跃')\n",
    "    return status"
   ]
  },
  {
   "cell_type": "code",
   "execution_count": 30,
   "metadata": {
    "ExecuteTime": {
     "end_time": "2019-08-27T09:01:53.129821Z",
     "start_time": "2019-08-27T09:01:52.676933Z"
    }
   },
   "outputs": [],
   "source": [
    "# df_PurchaseStatus = \n",
    "df_FenCeng = df.pivot_table(index=\"user_id\",columns=\"month\",\n",
    "                          values=\"date\",aggfunc='count').fillna(0)\n",
    "# df_FenCeng.head()"
   ]
  },
  {
   "cell_type": "code",
   "execution_count": 31,
   "metadata": {
    "ExecuteTime": {
     "end_time": "2019-08-27T09:01:53.661436Z",
     "start_time": "2019-08-27T09:01:53.132816Z"
    }
   },
   "outputs": [],
   "source": [
    "# 数据转化，购买过为1，没买为0\n",
    "df_FenCeng_transf = df_FenCeng.applymap(lambda x:1 if x>0 else 0)\n",
    "# df_FenCeng_transf.head(10)"
   ]
  },
  {
   "cell_type": "code",
   "execution_count": 32,
   "metadata": {
    "ExecuteTime": {
     "end_time": "2019-08-27T09:03:13.092905Z",
     "start_time": "2019-08-27T09:01:53.664428Z"
    },
    "scrolled": true
   },
   "outputs": [],
   "source": [
    "df_FenCeng_status = df_FenCeng_transf.apply(lambda x: pd.Series(active_status(x)),axis=1)\n",
    "df_FenCeng_status.columns = columns\n",
    "# df_FenCeng_status.head()"
   ]
  },
  {
   "cell_type": "code",
   "execution_count": 33,
   "metadata": {
    "ExecuteTime": {
     "end_time": "2019-08-27T09:03:13.281406Z",
     "start_time": "2019-08-27T09:03:13.095882Z"
    }
   },
   "outputs": [],
   "source": [
    "# 统计每月各分类用户，未注册用户数不计数替换成NaN\n",
    "df_FenCeng_count = df_FenCeng_status.replace(\"未注册\",np.NaN).apply(lambda x:pd.value_counts(x))\n",
    "# df_FenCeng_count"
   ]
  },
  {
   "cell_type": "code",
   "execution_count": 34,
   "metadata": {
    "ExecuteTime": {
     "end_time": "2019-08-27T09:03:13.925684Z",
     "start_time": "2019-08-27T09:03:13.284365Z"
    }
   },
   "outputs": [
    {
     "data": {
      "text/plain": [
       "Text(0.5, 1.0, '各月各类用户占比')"
      ]
     },
     "execution_count": 34,
     "metadata": {},
     "output_type": "execute_result"
    },
    {
     "data": {
      "image/png": "[encoded data removed]",
      "text/plain": [
       "<Figure size 864x432 with 1 Axes>"
      ]
     },
     "metadata": {
      "needs_background": "light"
     },
     "output_type": "display_data"
    }
   ],
   "source": [
    "# 出图看看\n",
    "ax = df_FenCeng_count.fillna(0).T.plot.area(figsize = (12,6))\n",
    "ax.set_xlabel(\"月份\", fontproperties=chinese)\n",
    "ax.set_ylabel(\"用户数\", fontproperties=chinese)\n",
    "ax.set_title(\"各月各类用户占比\", fontproperties=chinese)"
   ]
  },
  {
   "cell_type": "code",
   "execution_count": 35,
   "metadata": {
    "ExecuteTime": {
     "end_time": "2019-08-27T09:03:13.939618Z",
     "start_time": "2019-08-27T09:03:13.928639Z"
    }
   },
   "outputs": [],
   "source": [
    "# 回流占比：某个时间窗口内回流用户在总用户中的占比。\n",
    "return_rate = df_FenCeng_count.apply(lambda x: x/x.sum())"
   ]
  },
  {
   "cell_type": "code",
   "execution_count": 36,
   "metadata": {
    "ExecuteTime": {
     "end_time": "2019-08-27T09:03:14.891064Z",
     "start_time": "2019-08-27T09:03:13.944598Z"
    }
   },
   "outputs": [
    {
     "data": {
      "text/html": [
       "<div>\n",
       "<style scoped>\n",
       "    .dataframe tbody tr th:only-of-type {\n",
       "        vertical-align: middle;\n",
       "    }\n",
       "\n",
       "    .dataframe tbody tr th {\n",
       "        vertical-align: top;\n",
       "    }\n",
       "\n",
       "    .dataframe thead th {\n",
       "        text-align: right;\n",
       "    }\n",
       "</style>\n",
       "<table border=\"1\" class=\"dataframe\">\n",
       "  <thead>\n",
       "    <tr style=\"text-align: right;\">\n",
       "      <th></th>\n",
       "      <th>2019-01-01</th>\n",
       "      <th>2019-02-01</th>\n",
       "      <th>2019-03-01</th>\n",
       "      <th>2019-04-01</th>\n",
       "      <th>2019-05-01</th>\n",
       "      <th>2019-06-01</th>\n",
       "      <th>2019-07-01</th>\n",
       "    </tr>\n",
       "  </thead>\n",
       "  <tbody>\n",
       "    <tr>\n",
       "      <th>不活跃</th>\n",
       "      <td>NaN</td>\n",
       "      <td>0.185561</td>\n",
       "      <td>0.574250</td>\n",
       "      <td>0.731131</td>\n",
       "      <td>0.847480</td>\n",
       "      <td>0.771106</td>\n",
       "      <td>0.829494</td>\n",
       "    </tr>\n",
       "    <tr>\n",
       "      <th>回流用户</th>\n",
       "      <td>NaN</td>\n",
       "      <td>NaN</td>\n",
       "      <td>0.007905</td>\n",
       "      <td>0.028187</td>\n",
       "      <td>0.027835</td>\n",
       "      <td>0.054911</td>\n",
       "      <td>0.018441</td>\n",
       "    </tr>\n",
       "    <tr>\n",
       "      <th>新客</th>\n",
       "      <td>1.0</td>\n",
       "      <td>0.762284</td>\n",
       "      <td>0.323328</td>\n",
       "      <td>0.152996</td>\n",
       "      <td>0.069987</td>\n",
       "      <td>0.096988</td>\n",
       "      <td>0.044155</td>\n",
       "    </tr>\n",
       "    <tr>\n",
       "      <th>活跃</th>\n",
       "      <td>NaN</td>\n",
       "      <td>0.052155</td>\n",
       "      <td>0.094518</td>\n",
       "      <td>0.087686</td>\n",
       "      <td>0.054698</td>\n",
       "      <td>0.076995</td>\n",
       "      <td>0.107910</td>\n",
       "    </tr>\n",
       "  </tbody>\n",
       "</table>\n",
       "</div>"
      ],
      "text/plain": [
       "      2019-01-01  2019-02-01  2019-03-01  2019-04-01  2019-05-01  2019-06-01  \\\n",
       "不活跃          NaN    0.185561    0.574250    0.731131    0.847480    0.771106   \n",
       "回流用户         NaN         NaN    0.007905    0.028187    0.027835    0.054911   \n",
       "新客           1.0    0.762284    0.323328    0.152996    0.069987    0.096988   \n",
       "活跃           NaN    0.052155    0.094518    0.087686    0.054698    0.076995   \n",
       "\n",
       "      2019-07-01  \n",
       "不活跃     0.829494  \n",
       "回流用户    0.018441  \n",
       "新客      0.044155  \n",
       "活跃      0.107910  "
      ]
     },
     "execution_count": 36,
     "metadata": {},
     "output_type": "execute_result"
    }
   ],
   "source": [
    "return_rate"
   ]
  },
  {
   "cell_type": "code",
   "execution_count": 37,
   "metadata": {
    "ExecuteTime": {
     "end_time": "2019-08-27T09:03:15.297129Z",
     "start_time": "2019-08-27T09:03:14.896052Z"
    }
   },
   "outputs": [
    {
     "data": {
      "text/plain": [
       "Text(0.5, 1.0, '每月回流用户占比')"
      ]
     },
     "execution_count": 37,
     "metadata": {},
     "output_type": "execute_result"
    },
    {
     "data": {
      "image/png": "[encoded data removed]",
      "text/plain": [
       "<Figure size 864x432 with 1 Axes>"
      ]
     },
     "metadata": {
      "needs_background": "light"
     },
     "output_type": "display_data"
    }
   ],
   "source": [
    "ax = return_rate.loc['回流用户'].plot(figsize = (12,6))\n",
    "ax.set_xlabel('月份', fontproperties=chinese) \n",
    "ax.set_ylabel('占比', fontproperties=chinese) \n",
    "ax.set_title('每月回流用户占比', fontproperties=chinese)"
   ]
  },
  {
   "cell_type": "code",
   "execution_count": 38,
   "metadata": {
    "ExecuteTime": {
     "end_time": "2019-08-27T09:03:15.661179Z",
     "start_time": "2019-08-27T09:03:15.300112Z"
    }
   },
   "outputs": [
    {
     "data": {
      "text/plain": [
       "Text(0.5, 1.0, '每月活跃用户占比')"
      ]
     },
     "execution_count": 38,
     "metadata": {},
     "output_type": "execute_result"
    },
    {
     "data": {
      "image/png": "[encoded data removed]",
      "text/plain": [
       "<Figure size 864x432 with 1 Axes>"
      ]
     },
     "metadata": {
      "needs_background": "light"
     },
     "output_type": "display_data"
    }
   ],
   "source": [
    "ax = return_rate.loc['活跃'].plot(figsize = (12,6))\n",
    "ax.set_xlabel('月份', fontproperties=chinese) \n",
    "ax.set_ylabel('占比', fontproperties=chinese) \n",
    "ax.set_title('每月活跃用户占比', fontproperties=chinese)"
   ]
  },
  {
   "cell_type": "markdown",
   "metadata": {},
   "source": [
    "### 用户质量：高质量用户贡献了多少消费？"
   ]
  },
  {
   "cell_type": "code",
   "execution_count": 39,
   "metadata": {
    "ExecuteTime": {
     "end_time": "2019-08-27T09:03:15.750938Z",
     "start_time": "2019-08-27T09:03:15.665167Z"
    }
   },
   "outputs": [],
   "source": [
    "user_amount = df.groupby(\"user_id\").payable_rmb_amount.sum().sort_values().reset_index()\n",
    "user_amount['amount_cumsum'] = user_amount.payable_rmb_amount.cumsum()"
   ]
  },
  {
   "cell_type": "code",
   "execution_count": 40,
   "metadata": {
    "ExecuteTime": {
     "end_time": "2019-08-27T09:03:15.771854Z",
     "start_time": "2019-08-27T09:03:15.753931Z"
    }
   },
   "outputs": [],
   "source": [
    "# user_amount.tail()"
   ]
  },
  {
   "cell_type": "code",
   "execution_count": 41,
   "metadata": {
    "ExecuteTime": {
     "end_time": "2019-08-27T09:03:17.566950Z",
     "start_time": "2019-08-27T09:03:15.774874Z"
    },
    "scrolled": false
   },
   "outputs": [
    {
     "data": {
      "text/plain": [
       "Text(0.5, 1.0, '用户累计贡献金额百分比')"
      ]
     },
     "execution_count": 41,
     "metadata": {},
     "output_type": "execute_result"
    },
    {
     "data": {
      "image/png": "[encoded data removed]",
      "text/plain": [
       "<Figure size 432x288 with 1 Axes>"
      ]
     },
     "metadata": {
      "needs_background": "light"
     },
     "output_type": "display_data"
    }
   ],
   "source": [
    "#计算出各阶段金额占总金额的百分比\n",
    "amount_total = user_amount.amount_cumsum.max()\n",
    "user_amount['prop'] = user_amount.amount_cumsum.apply(lambda x: x / amount_total)\n",
    "ax = user_amount.prop.plot()\n",
    "ax.set_xlabel('人数（人）', fontproperties=chinese) \n",
    "ax.set_ylabel('百分数（%）', fontproperties=chinese) \n",
    "ax.set_title('用户累计贡献金额百分比', fontproperties=chinese)"
   ]
  },
  {
   "cell_type": "markdown",
   "metadata": {},
   "source": [
    "##### 典型的二八分布，共101911人中，前80000人贡献了不到40%的消费。。。"
   ]
  },
  {
   "cell_type": "markdown",
   "metadata": {},
   "source": [
    "### 用户生命周期:这里我们定义第一次消费至最后一次消费为整个用户生命。"
   ]
  },
  {
   "cell_type": "code",
   "execution_count": 42,
   "metadata": {
    "ExecuteTime": {
     "end_time": "2019-08-27T09:49:08.891805Z",
     "start_time": "2019-08-27T09:49:08.885823Z"
    }
   },
   "outputs": [],
   "source": [
    "df_life = df"
   ]
  },
  {
   "cell_type": "code",
   "execution_count": 43,
   "metadata": {
    "ExecuteTime": {
     "end_time": "2019-08-27T09:49:30.499655Z",
     "start_time": "2019-08-27T09:49:09.865284Z"
    }
   },
   "outputs": [],
   "source": [
    "order_date_min = df_life.groupby('user_id').create_date.min()\n",
    "order_date_min = pd.to_datetime(order_date_min)\n",
    "order_date_max = df_life.groupby('user_id').create_date.max()\n",
    "order_date_max = pd.to_datetime(order_date_max)"
   ]
  },
  {
   "cell_type": "code",
   "execution_count": 44,
   "metadata": {
    "ExecuteTime": {
     "end_time": "2019-08-27T09:49:30.773243Z",
     "start_time": "2019-08-27T09:49:30.501515Z"
    },
    "scrolled": false
   },
   "outputs": [
    {
     "data": {
      "text/html": [
       "<div>\n",
       "<style scoped>\n",
       "    .dataframe tbody tr th:only-of-type {\n",
       "        vertical-align: middle;\n",
       "    }\n",
       "\n",
       "    .dataframe tbody tr th {\n",
       "        vertical-align: top;\n",
       "    }\n",
       "\n",
       "    .dataframe thead th {\n",
       "        text-align: right;\n",
       "    }\n",
       "</style>\n",
       "<table border=\"1\" class=\"dataframe\">\n",
       "  <thead>\n",
       "    <tr style=\"text-align: right;\">\n",
       "      <th></th>\n",
       "      <th>user_id</th>\n",
       "      <th>create_date</th>\n",
       "    </tr>\n",
       "  </thead>\n",
       "  <tbody>\n",
       "    <tr>\n",
       "      <th>count</th>\n",
       "      <td>1.001020e+05</td>\n",
       "      <td>100102</td>\n",
       "    </tr>\n",
       "    <tr>\n",
       "      <th>mean</th>\n",
       "      <td>5.733906e+06</td>\n",
       "      <td>22 days 16:07:28.973127</td>\n",
       "    </tr>\n",
       "    <tr>\n",
       "      <th>std</th>\n",
       "      <td>4.123792e+06</td>\n",
       "      <td>40 days 23:24:18.386910</td>\n",
       "    </tr>\n",
       "    <tr>\n",
       "      <th>min</th>\n",
       "      <td>3.000000e+00</td>\n",
       "      <td>0 days 00:00:00</td>\n",
       "    </tr>\n",
       "    <tr>\n",
       "      <th>25%</th>\n",
       "      <td>2.197772e+06</td>\n",
       "      <td>0 days 00:00:00</td>\n",
       "    </tr>\n",
       "    <tr>\n",
       "      <th>50%</th>\n",
       "      <td>4.599300e+06</td>\n",
       "      <td>0 days 00:00:00</td>\n",
       "    </tr>\n",
       "    <tr>\n",
       "      <th>75%</th>\n",
       "      <td>9.534100e+06</td>\n",
       "      <td>31 days 02:06:54.500000</td>\n",
       "    </tr>\n",
       "    <tr>\n",
       "      <th>max</th>\n",
       "      <td>1.697181e+07</td>\n",
       "      <td>209 days 00:33:07</td>\n",
       "    </tr>\n",
       "  </tbody>\n",
       "</table>\n",
       "</div>"
      ],
      "text/plain": [
       "            user_id              create_date\n",
       "count  1.001020e+05                   100102\n",
       "mean   5.733906e+06  22 days 16:07:28.973127\n",
       "std    4.123792e+06  40 days 23:24:18.386910\n",
       "min    3.000000e+00          0 days 00:00:00\n",
       "25%    2.197772e+06          0 days 00:00:00\n",
       "50%    4.599300e+06          0 days 00:00:00\n",
       "75%    9.534100e+06  31 days 02:06:54.500000\n",
       "max    1.697181e+07        209 days 00:33:07"
      ]
     },
     "execution_count": 44,
     "metadata": {},
     "output_type": "execute_result"
    }
   ],
   "source": [
    "life_time = (order_date_max-order_date_min).reset_index()\n",
    "life_time.describe()"
   ]
  },
  {
   "cell_type": "markdown",
   "metadata": {},
   "source": [
    "##### 用户平均生命周期为24天，超过一半的用户的首次购买也是最后消费，75分为天数为31天，大约均值，即最后25%的用户是为对商城贡献由主要贡献的高质量用户"
   ]
  },
  {
   "cell_type": "code",
   "execution_count": 45,
   "metadata": {
    "ExecuteTime": {
     "end_time": "2019-08-27T09:49:30.783197Z",
     "start_time": "2019-08-27T09:49:30.775217Z"
    }
   },
   "outputs": [
    {
     "data": {
      "text/plain": [
       "211"
      ]
     },
     "execution_count": 45,
     "metadata": {},
     "output_type": "execute_result"
    }
   ],
   "source": [
    "\n",
    "import datetime\n",
    "d1 = datetime.datetime(2019,1,1)   # 第一个日期\n",
    "d2 = datetime.datetime(2019,7,31)   # 第二个日期\n",
    "interval = d2 - d1                   # 两日期差距\n",
    "interval.days \n"
   ]
  },
  {
   "cell_type": "code",
   "execution_count": null,
   "metadata": {},
   "outputs": [],
   "source": []
  },
  {
   "cell_type": "code",
   "execution_count": null,
   "metadata": {},
   "outputs": [],
   "source": []
  },
  {
   "cell_type": "code",
   "execution_count": 46,
   "metadata": {
    "ExecuteTime": {
     "end_time": "2019-08-27T09:49:30.912907Z",
     "start_time": "2019-08-27T09:49:30.787189Z"
    }
   },
   "outputs": [],
   "source": [
    "life_time['life_time'] = life_time.create_date/np.timedelta64(1,'D')\n"
   ]
  },
  {
   "cell_type": "code",
   "execution_count": 47,
   "metadata": {
    "ExecuteTime": {
     "end_time": "2019-08-27T09:49:31.036520Z",
     "start_time": "2019-08-27T09:49:30.914844Z"
    }
   },
   "outputs": [
    {
     "data": {
      "text/plain": [
       "38905"
      ]
     },
     "execution_count": 47,
     "metadata": {},
     "output_type": "execute_result"
    }
   ],
   "source": [
    "len(life_time[life_time.life_time > 0])"
   ]
  },
  {
   "cell_type": "code",
   "execution_count": 48,
   "metadata": {
    "ExecuteTime": {
     "end_time": "2019-08-27T09:49:31.518350Z",
     "start_time": "2019-08-27T09:49:31.043503Z"
    },
    "scrolled": true
   },
   "outputs": [
    {
     "data": {
      "text/plain": [
       "Text(0.5, 1.0, '二次消费以上用户的生命周期直方图')"
      ]
     },
     "execution_count": 48,
     "metadata": {},
     "output_type": "execute_result"
    },
    {
     "data": {
      "image/png": "[encoded data removed]",
      "text/plain": [
       "<Figure size 864x432 with 1 Axes>"
      ]
     },
     "metadata": {
      "needs_background": "light"
     },
     "output_type": "display_data"
    }
   ],
   "source": [
    "ax = life_time[life_time.life_time > 0].life_time.hist(bins =100,figsize = (12,6))\n",
    "ax.set_xlabel('天数（天）', fontproperties=chinese) \n",
    "ax.set_ylabel('人数（人）', fontproperties=chinese) \n",
    "ax.set_title('二次消费以上用户的生命周期直方图', fontproperties=chinese)"
   ]
  },
  {
   "cell_type": "code",
   "execution_count": 49,
   "metadata": {
    "ExecuteTime": {
     "end_time": "2019-08-27T09:49:31.530317Z",
     "start_time": "2019-08-27T09:49:31.520344Z"
    }
   },
   "outputs": [
    {
     "data": {
      "text/plain": [
       "2024"
      ]
     },
     "execution_count": 49,
     "metadata": {},
     "output_type": "execute_result"
    }
   ],
   "source": [
    "# 生命周期在200天以上的用户数\n",
    "len(life_time[life_time.life_time > 150])"
   ]
  },
  {
   "cell_type": "code",
   "execution_count": 50,
   "metadata": {
    "ExecuteTime": {
     "end_time": "2019-08-27T09:49:31.634629Z",
     "start_time": "2019-08-27T09:49:31.533310Z"
    }
   },
   "outputs": [
    {
     "data": {
      "text/plain": [
       "58.334374541261475"
      ]
     },
     "execution_count": 50,
     "metadata": {},
     "output_type": "execute_result"
    }
   ],
   "source": [
    "# 生命周期总用户数平均值\n",
    "life_time[life_time.life_time > 0].life_time.mean()"
   ]
  },
  {
   "cell_type": "markdown",
   "metadata": {},
   "source": [
    "##### 二次购买两次以上的用户生命周期为62天，根据运营角度说明，应该更多引导用户二次消费，从而提高用户生命周期，能带来2倍的增量。"
   ]
  },
  {
   "cell_type": "markdown",
   "metadata": {
    "ExecuteTime": {
     "end_time": "2019-08-26T06:20:04.572623Z",
     "start_time": "2019-08-26T06:20:04.564674Z"
    }
   },
   "source": [
    "### 留存率：第一次消费后有多少比率进行第二次消费"
   ]
  },
  {
   "cell_type": "code",
   "execution_count": 51,
   "metadata": {
    "ExecuteTime": {
     "end_time": "2019-08-27T09:55:58.222874Z",
     "start_time": "2019-08-27T09:55:58.216927Z"
    }
   },
   "outputs": [],
   "source": [
    "df_retention = df"
   ]
  },
  {
   "cell_type": "code",
   "execution_count": 52,
   "metadata": {
    "ExecuteTime": {
     "end_time": "2019-08-27T09:55:58.766056Z",
     "start_time": "2019-08-27T09:55:58.391764Z"
    }
   },
   "outputs": [],
   "source": [
    "user_purchase_retention = pd.merge(left = df_retention, right = order_date_min.reset_index(), how = 'inner', on = 'user_id', suffixes=('', '_min'))\n"
   ]
  },
  {
   "cell_type": "code",
   "execution_count": 53,
   "metadata": {
    "ExecuteTime": {
     "end_time": "2019-08-27T09:55:58.798977Z",
     "start_time": "2019-08-27T09:55:58.768020Z"
    },
    "scrolled": true
   },
   "outputs": [],
   "source": [
    "# user_purchase_retention.head()"
   ]
  },
  {
   "cell_type": "code",
   "execution_count": 54,
   "metadata": {
    "ExecuteTime": {
     "end_time": "2019-08-27T09:55:58.972745Z",
     "start_time": "2019-08-27T09:55:58.801931Z"
    },
    "scrolled": true
   },
   "outputs": [],
   "source": [
    "user_purchase_retention[\"create_date\"] = pd.to_datetime(user_purchase_retention[\"create_date\"])"
   ]
  },
  {
   "cell_type": "code",
   "execution_count": 55,
   "metadata": {
    "ExecuteTime": {
     "end_time": "2019-08-27T09:55:59.209262Z",
     "start_time": "2019-08-27T09:55:58.975731Z"
    }
   },
   "outputs": [],
   "source": [
    "# user_purchase_retention.info()"
   ]
  },
  {
   "cell_type": "code",
   "execution_count": 56,
   "metadata": {
    "ExecuteTime": {
     "end_time": "2019-08-27T11:28:35.677017Z",
     "start_time": "2019-08-27T11:28:32.942302Z"
    },
    "scrolled": true
   },
   "outputs": [],
   "source": [
    "user_purchase_retention['order_date_diff'] = user_purchase_retention.create_date - user_purchase_retention.create_date_min\n",
    "user_purchase_retention['date_diff'] = user_purchase_retention.order_date_diff.apply(lambda x: x/np.timedelta64(1,'D'))\n",
    "user_purchase_retention = user_purchase_retention.sort_values(by=\"order_date_diff\",ascending=True)\n",
    "# user_purchase_retention.head(30)"
   ]
  },
  {
   "cell_type": "code",
   "execution_count": 57,
   "metadata": {
    "ExecuteTime": {
     "end_time": "2019-08-27T11:27:09.983838Z",
     "start_time": "2019-08-27T11:27:09.965854Z"
    }
   },
   "outputs": [],
   "source": [
    "# user_purchase_retention[user_purchase_retention[\"user_id\"]  == 190368 ]"
   ]
  },
  {
   "cell_type": "code",
   "execution_count": 58,
   "metadata": {
    "ExecuteTime": {
     "end_time": "2019-08-27T09:56:03.344781Z",
     "start_time": "2019-08-27T09:56:02.364360Z"
    },
    "scrolled": true
   },
   "outputs": [],
   "source": [
    "bin = [0,30,60,90,120,150,180]\n",
    "user_purchase_retention['date_diff_bin'] = pd.cut(user_purchase_retention.date_diff, bins = bin)\n",
    "# user_purchase_retention.head(20)"
   ]
  },
  {
   "cell_type": "code",
   "execution_count": 59,
   "metadata": {
    "ExecuteTime": {
     "end_time": "2019-08-27T09:56:03.507560Z",
     "start_time": "2019-08-27T09:56:03.346750Z"
    }
   },
   "outputs": [],
   "source": [
    "pivoted_retention= user_purchase_retention.groupby(['user_id','date_diff_bin']).payable_rmb_amount.sum().unstack()\n",
    "# pivoted_retention.head(10)"
   ]
  },
  {
   "cell_type": "code",
   "execution_count": 60,
   "metadata": {
    "ExecuteTime": {
     "end_time": "2019-08-27T09:56:03.653362Z",
     "start_time": "2019-08-27T09:56:03.509552Z"
    }
   },
   "outputs": [],
   "source": [
    "pivoted_retention2= user_purchase_retention.groupby(['user_id','date_diff_bin']).buy_num.sum().unstack()\n",
    "# pivoted_retention2.head(10)"
   ]
  },
  {
   "cell_type": "code",
   "execution_count": 61,
   "metadata": {
    "ExecuteTime": {
     "end_time": "2019-08-27T09:56:03.989136Z",
     "start_time": "2019-08-27T09:56:03.657342Z"
    }
   },
   "outputs": [
    {
     "data": {
      "text/plain": [
       "Text(0.5, 1.0, '各时间段的用户留存率')"
      ]
     },
     "execution_count": 61,
     "metadata": {},
     "output_type": "execute_result"
    },
    {
     "data": {
      "image/png": "[encoded data removed]",
      "text/plain": [
       "<Figure size 864x432 with 1 Axes>"
      ]
     },
     "metadata": {
      "needs_background": "light"
     },
     "output_type": "display_data"
    }
   ],
   "source": [
    "# 直接用金额表达不出留存率，我们还是按照之前的算法，把消费过的转换成1，未消费过的转换成0，毕竟留存率看的是是否有消费。\n",
    "pivoted_retention_trans = pivoted_retention.fillna(0).applymap(lambda x: 1 if x >0 else 0)\n",
    "ax = (pivoted_retention_trans.sum()/pivoted_retention_trans.count()).plot.bar(figsize = (12,6))\n",
    "ax.set_xlabel('时间跨度（天）', fontproperties=chinese) \n",
    "ax.set_ylabel('百分数（%）', fontproperties=chinese) \n",
    "ax.set_title('各时间段的用户留存率', fontproperties=chinese)"
   ]
  },
  {
   "cell_type": "markdown",
   "metadata": {},
   "source": [
    "##### 由上图可知，头一个月留存高达65%，次月留存也在50%左右。但是第三个月就掉到30%以下。从第三个月开始就趋势性减少。从运营角度来看，这对刺激引导消费的活动或营销政策应该集中在前两个月开始使用，特别的第一个月。"
   ]
  },
  {
   "cell_type": "markdown",
   "metadata": {},
   "source": [
    "##### 为了更好的确定营销节点，在看下平均购买周期。"
   ]
  },
  {
   "cell_type": "markdown",
   "metadata": {},
   "source": [
    "### 平均购买周期：用户两次购买之间的间隔"
   ]
  },
  {
   "cell_type": "code",
   "execution_count": 62,
   "metadata": {
    "ExecuteTime": {
     "end_time": "2019-08-27T09:56:03.998087Z",
     "start_time": "2019-08-27T09:56:03.992094Z"
    }
   },
   "outputs": [],
   "source": [
    "#创建函数，返回时间差\n",
    "def diff(group):\n",
    "    d = group.date_diff - group.date_diff.shift(-1)\n",
    "    return d"
   ]
  },
  {
   "cell_type": "code",
   "execution_count": 63,
   "metadata": {
    "ExecuteTime": {
     "end_time": "2019-08-27T11:26:43.283557Z",
     "start_time": "2019-08-27T11:26:43.227708Z"
    }
   },
   "outputs": [],
   "source": [
    "user_purchase_retention = user_purchase_retention.sort_values(by=\"order_date_diff\",ascending=True)"
   ]
  },
  {
   "cell_type": "code",
   "execution_count": 64,
   "metadata": {
    "ExecuteTime": {
     "end_time": "2019-08-27T10:59:25.916373Z",
     "start_time": "2019-08-27T10:58:24.344100Z"
    }
   },
   "outputs": [],
   "source": [
    "last_diff = user_purchase_retention.groupby('user_id').apply(diff)"
   ]
  },
  {
   "cell_type": "code",
   "execution_count": 65,
   "metadata": {
    "ExecuteTime": {
     "end_time": "2019-08-27T11:17:03.214091Z",
     "start_time": "2019-08-27T11:17:03.198092Z"
    }
   },
   "outputs": [],
   "source": [
    "last_dd = last_diff.reset_index()"
   ]
  },
  {
   "cell_type": "code",
   "execution_count": 66,
   "metadata": {
    "ExecuteTime": {
     "end_time": "2019-08-27T09:57:16.062810Z",
     "start_time": "2019-08-27T09:57:15.522838Z"
    }
   },
   "outputs": [
    {
     "data": {
      "text/plain": [
       "Text(0.5, 1.0, '用户平均购买周期直方图')"
      ]
     },
     "execution_count": 66,
     "metadata": {},
     "output_type": "execute_result"
    },
    {
     "data": {
      "image/png": "[encoded data removed]",
      "text/plain": [
       "<Figure size 864x432 with 1 Axes>"
      ]
     },
     "metadata": {
      "needs_background": "light"
     },
     "output_type": "display_data"
    }
   ],
   "source": [
    "fig, ax = plt.subplots(figsize = (12,6))\n",
    "ax = last_diff.hist(bins = 20)\n",
    "ax.set_xlabel('时间跨度（天）', fontproperties=chinese) \n",
    "ax.set_ylabel('人数（人）', fontproperties=chinese) \n",
    "ax.set_title('用户平均购买周期直方图', fontproperties=chinese)"
   ]
  }
 ],
 "metadata": {
  "kernelspec": {
   "display_name": "Python 3",
   "language": "python",
   "name": "python3"
  },
  "language_info": {
   "codemirror_mode": {
    "name": "ipython",
    "version": 3
   },
   "file_extension": ".py",
   "mimetype": "text/x-python",
   "name": "python",
   "nbconvert_exporter": "python",
   "pygments_lexer": "ipython3",
   "version": "3.6.5"
  }
 },
 "nbformat": 4,
 "nbformat_minor": 2
}
