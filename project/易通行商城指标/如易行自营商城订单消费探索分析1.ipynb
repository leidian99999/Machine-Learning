{
 "cells": [
  {
   "cell_type": "code",
   "execution_count": 1,
   "metadata": {
    "ExecuteTime": {
     "end_time": "2019-09-04T07:00:08.489766Z",
     "start_time": "2019-09-04T07:00:04.867729Z"
    }
   },
   "outputs": [],
   "source": [
    "import pandas as pd\n",
    "import numpy as np\n",
    "import matplotlib.pyplot as plt\n",
    "from datetime import datetime\n",
    "%matplotlib inline\n",
    "plt.style.use('ggplot')\n",
    "from impala.dbapi import connect\n",
    "import warnings\n",
    "warnings.filterwarnings('ignore')\n",
    "pd.set_option('max_colwidth',1000)\n",
    "from matplotlib.font_manager import FontProperties\n",
    "chinese = FontProperties(fname = 'C:/Windows/Fonts/msyh.ttc')\n",
    "plt.rcParams['font.sans-serif'] = [u'SimHei']\n",
    "plt.rcParams['axes.unicode_minus'] = False"
   ]
  },
  {
   "cell_type": "code",
   "execution_count": 2,
   "metadata": {
    "ExecuteTime": {
     "end_time": "2019-09-04T07:00:08.496487Z",
     "start_time": "2019-09-04T07:00:08.491499Z"
    }
   },
   "outputs": [],
   "source": [
    "# data = pd.read_csv(\"D:/GitHub/datasets/190821_ShopOrders.csv\")\n",
    "\n",
    "# 查询所有字段\n",
    "# def list_col(localhost,database, port,tabls_name):\n",
    "#     db = connect(localhost,port,database)\n",
    "#     cursor = db.cursor()\n",
    "#     cursor.execute(\"select * from %s\" % tabls_name)\n",
    "#     col_name_list = [tuple[0] for tuple in cursor.description]\n",
    "#     db.close()\n",
    "#     return col_name_list\n",
    "\n",
    "# # 列出所有的表\n",
    "# def list_table(localhost,database,port):\n",
    "#     db = connect(localhost,database,port)\n",
    "#     cursor = db.cursor()\n",
    "#     cursor.execute(\"show tables\")\n",
    "#     table_list = [tuple[0] for tuple in cursor.fetchall()]\n",
    "#     db.close()\n",
    "#     return table_list\n",
    "\n",
    "# # 数据库信息\n",
    "# port = 21050 # 端口号\n",
    "# host = \"172.22.210.29\" # 连接地址\n",
    "# database = \"bigtables\" # 数据库名\n",
    "# tabls_name = \"shop_order\" # 表名\n",
    "\n",
    "# table_names = list_table(host,port,database) \n",
    "# # print('库中所有表名:',*table_names,sep = '\\n  ')\n",
    "# column_names = list_col(host,database, port,tabls_name)\n",
    "# # column_names = [\"user_id\",\"create_date\",\"payable_rmb_amount\",\"buy_num\",\"status\"]\n",
    "# # print('表中所有字段名:',*column_names,sep = '\\n  ')\n",
    "\n",
    "# conn = connect(host=host,port =port , database = database,timeout=3600 )\n",
    "# cur_data = conn.cursor()\n",
    "# cur_data.execute('''SELECT *\n",
    "# from shop_order \n",
    "# where create_date between \"2019-01-01 00:00:00\" AND \"2019-07-31 23:59:59\";''')\n",
    "# data=cur_data.fetchall()\n",
    "# data = pd.DataFrame(data,columns=column_names)\n",
    "\n",
    "# data = pd.read_csv(\"D:/GitHub/datasets/shop_order_190101_190731.csv\")"
   ]
  },
  {
   "cell_type": "code",
   "execution_count": 3,
   "metadata": {
    "ExecuteTime": {
     "end_time": "2019-09-04T07:00:08.671029Z",
     "start_time": "2019-09-04T07:00:08.498481Z"
    }
   },
   "outputs": [],
   "source": [
    "# data.shape\n",
    "# data1 = data.copy()\n",
    "# data1 = data1[data1[\"status\"] == 1]\n",
    "# data1.shape\n",
    "# df = data1[[\"user_id\",\"create_date\",\"payable_rmb_amount\",\"buy_num\"]]\n",
    "# df[\"create_date\"] = pd.to_datetime(df[\"create_date\"])\n",
    "# df[\"date\"] = df[\"create_date\"].dt.date\n",
    "# df[\"month\"] = df[\"date\"].values.astype('datetime64[M]')"
   ]
  },
  {
   "cell_type": "code",
   "execution_count": 4,
   "metadata": {
    "ExecuteTime": {
     "end_time": "2019-09-04T07:00:09.158034Z",
     "start_time": "2019-09-04T07:00:08.681845Z"
    }
   },
   "outputs": [],
   "source": [
    "df = pd.read_csv(\"D:/GitHub/datasets/shop_order_190101_190731.csv\")\n",
    "# df.to_csv(\"D:/GitHub/datasets/shop_order_190101_190731.csv\",index=False)\n"
   ]
  },
  {
   "cell_type": "code",
   "execution_count": 5,
   "metadata": {
    "ExecuteTime": {
     "end_time": "2019-09-04T07:00:09.204094Z",
     "start_time": "2019-09-04T07:00:09.161023Z"
    }
   },
   "outputs": [
    {
     "data": {
      "text/html": [
       "<div>\n",
       "<style scoped>\n",
       "    .dataframe tbody tr th:only-of-type {\n",
       "        vertical-align: middle;\n",
       "    }\n",
       "\n",
       "    .dataframe tbody tr th {\n",
       "        vertical-align: top;\n",
       "    }\n",
       "\n",
       "    .dataframe thead th {\n",
       "        text-align: right;\n",
       "    }\n",
       "</style>\n",
       "<table border=\"1\" class=\"dataframe\">\n",
       "  <thead>\n",
       "    <tr style=\"text-align: right;\">\n",
       "      <th></th>\n",
       "      <th>user_id</th>\n",
       "      <th>create_date</th>\n",
       "      <th>payable_rmb_amount</th>\n",
       "      <th>buy_num</th>\n",
       "      <th>date</th>\n",
       "      <th>month</th>\n",
       "    </tr>\n",
       "  </thead>\n",
       "  <tbody>\n",
       "    <tr>\n",
       "      <th>0</th>\n",
       "      <td>3059210</td>\n",
       "      <td>2019/1/1 7:32</td>\n",
       "      <td>7.0</td>\n",
       "      <td>1</td>\n",
       "      <td>2019/1/1</td>\n",
       "      <td>2019/1</td>\n",
       "    </tr>\n",
       "    <tr>\n",
       "      <th>1</th>\n",
       "      <td>2055349</td>\n",
       "      <td>2019/1/1 7:38</td>\n",
       "      <td>7.0</td>\n",
       "      <td>1</td>\n",
       "      <td>2019/1/1</td>\n",
       "      <td>2019/1</td>\n",
       "    </tr>\n",
       "    <tr>\n",
       "      <th>2</th>\n",
       "      <td>9457140</td>\n",
       "      <td>2019/1/1 8:46</td>\n",
       "      <td>7.0</td>\n",
       "      <td>1</td>\n",
       "      <td>2019/1/1</td>\n",
       "      <td>2019/1</td>\n",
       "    </tr>\n",
       "    <tr>\n",
       "      <th>3</th>\n",
       "      <td>9937889</td>\n",
       "      <td>2019/1/1 11:04</td>\n",
       "      <td>7.0</td>\n",
       "      <td>1</td>\n",
       "      <td>2019/1/1</td>\n",
       "      <td>2019/1</td>\n",
       "    </tr>\n",
       "    <tr>\n",
       "      <th>4</th>\n",
       "      <td>4963922</td>\n",
       "      <td>2019/1/1 11:19</td>\n",
       "      <td>7.0</td>\n",
       "      <td>1</td>\n",
       "      <td>2019/1/1</td>\n",
       "      <td>2019/1</td>\n",
       "    </tr>\n",
       "  </tbody>\n",
       "</table>\n",
       "</div>"
      ],
      "text/plain": [
       "   user_id     create_date  payable_rmb_amount  buy_num      date   month\n",
       "0  3059210   2019/1/1 7:32                 7.0        1  2019/1/1  2019/1\n",
       "1  2055349   2019/1/1 7:38                 7.0        1  2019/1/1  2019/1\n",
       "2  9457140   2019/1/1 8:46                 7.0        1  2019/1/1  2019/1\n",
       "3  9937889  2019/1/1 11:04                 7.0        1  2019/1/1  2019/1\n",
       "4  4963922  2019/1/1 11:19                 7.0        1  2019/1/1  2019/1"
      ]
     },
     "execution_count": 5,
     "metadata": {},
     "output_type": "execute_result"
    }
   ],
   "source": [
    "df.head()"
   ]
  },
  {
   "cell_type": "code",
   "execution_count": 6,
   "metadata": {
    "ExecuteTime": {
     "end_time": "2019-09-04T07:00:09.337395Z",
     "start_time": "2019-09-04T07:00:09.206089Z"
    }
   },
   "outputs": [
    {
     "name": "stdout",
     "output_type": "stream",
     "text": [
      "<class 'pandas.core.frame.DataFrame'>\n",
      "RangeIndex: 213843 entries, 0 to 213842\n",
      "Data columns (total 6 columns):\n",
      "user_id               213843 non-null int64\n",
      "create_date           213843 non-null object\n",
      "payable_rmb_amount    213843 non-null float64\n",
      "buy_num               213843 non-null int64\n",
      "date                  213843 non-null object\n",
      "month                 213843 non-null object\n",
      "dtypes: float64(1), int64(2), object(3)\n",
      "memory usage: 9.8+ MB\n"
     ]
    }
   ],
   "source": [
    "df.info()"
   ]
  },
  {
   "cell_type": "code",
   "execution_count": 7,
   "metadata": {
    "ExecuteTime": {
     "end_time": "2019-09-04T07:00:09.496392Z",
     "start_time": "2019-09-04T07:00:09.339359Z"
    },
    "scrolled": true
   },
   "outputs": [
    {
     "data": {
      "text/html": [
       "<div>\n",
       "<style scoped>\n",
       "    .dataframe tbody tr th:only-of-type {\n",
       "        vertical-align: middle;\n",
       "    }\n",
       "\n",
       "    .dataframe tbody tr th {\n",
       "        vertical-align: top;\n",
       "    }\n",
       "\n",
       "    .dataframe thead th {\n",
       "        text-align: right;\n",
       "    }\n",
       "</style>\n",
       "<table border=\"1\" class=\"dataframe\">\n",
       "  <thead>\n",
       "    <tr style=\"text-align: right;\">\n",
       "      <th></th>\n",
       "      <th>user_id</th>\n",
       "      <th>payable_rmb_amount</th>\n",
       "      <th>buy_num</th>\n",
       "    </tr>\n",
       "  </thead>\n",
       "  <tbody>\n",
       "    <tr>\n",
       "      <th>count</th>\n",
       "      <td>2.138430e+05</td>\n",
       "      <td>213843.000000</td>\n",
       "      <td>213843.0</td>\n",
       "    </tr>\n",
       "    <tr>\n",
       "      <th>mean</th>\n",
       "      <td>5.663011e+06</td>\n",
       "      <td>7.237698</td>\n",
       "      <td>1.0</td>\n",
       "    </tr>\n",
       "    <tr>\n",
       "      <th>std</th>\n",
       "      <td>4.104763e+06</td>\n",
       "      <td>14.468073</td>\n",
       "      <td>0.0</td>\n",
       "    </tr>\n",
       "    <tr>\n",
       "      <th>min</th>\n",
       "      <td>3.000000e+00</td>\n",
       "      <td>0.000000</td>\n",
       "      <td>1.0</td>\n",
       "    </tr>\n",
       "    <tr>\n",
       "      <th>25%</th>\n",
       "      <td>2.104415e+06</td>\n",
       "      <td>3.990000</td>\n",
       "      <td>1.0</td>\n",
       "    </tr>\n",
       "    <tr>\n",
       "      <th>50%</th>\n",
       "      <td>4.503539e+06</td>\n",
       "      <td>4.990000</td>\n",
       "      <td>1.0</td>\n",
       "    </tr>\n",
       "    <tr>\n",
       "      <th>75%</th>\n",
       "      <td>9.526026e+06</td>\n",
       "      <td>5.990000</td>\n",
       "      <td>1.0</td>\n",
       "    </tr>\n",
       "    <tr>\n",
       "      <th>max</th>\n",
       "      <td>1.697181e+07</td>\n",
       "      <td>299.000000</td>\n",
       "      <td>1.0</td>\n",
       "    </tr>\n",
       "  </tbody>\n",
       "</table>\n",
       "</div>"
      ],
      "text/plain": [
       "            user_id  payable_rmb_amount   buy_num\n",
       "count  2.138430e+05       213843.000000  213843.0\n",
       "mean   5.663011e+06            7.237698       1.0\n",
       "std    4.104763e+06           14.468073       0.0\n",
       "min    3.000000e+00            0.000000       1.0\n",
       "25%    2.104415e+06            3.990000       1.0\n",
       "50%    4.503539e+06            4.990000       1.0\n",
       "75%    9.526026e+06            5.990000       1.0\n",
       "max    1.697181e+07          299.000000       1.0"
      ]
     },
     "execution_count": 7,
     "metadata": {},
     "output_type": "execute_result"
    }
   ],
   "source": [
    "# 共222983单支付成功，平均每单消费7.16元，75%消费6元以下\n",
    "df.describe()"
   ]
  },
  {
   "cell_type": "code",
   "execution_count": 8,
   "metadata": {
    "ExecuteTime": {
     "end_time": "2019-09-04T07:00:09.592323Z",
     "start_time": "2019-09-04T07:00:09.499357Z"
    }
   },
   "outputs": [],
   "source": [
    "# 按用户分组\n",
    "user_grouped = df.groupby(\"user_id\").sum()"
   ]
  },
  {
   "cell_type": "code",
   "execution_count": 9,
   "metadata": {
    "ExecuteTime": {
     "end_time": "2019-09-04T07:00:09.609315Z",
     "start_time": "2019-09-04T07:00:09.594320Z"
    }
   },
   "outputs": [
    {
     "data": {
      "text/html": [
       "<div>\n",
       "<style scoped>\n",
       "    .dataframe tbody tr th:only-of-type {\n",
       "        vertical-align: middle;\n",
       "    }\n",
       "\n",
       "    .dataframe tbody tr th {\n",
       "        vertical-align: top;\n",
       "    }\n",
       "\n",
       "    .dataframe thead th {\n",
       "        text-align: right;\n",
       "    }\n",
       "</style>\n",
       "<table border=\"1\" class=\"dataframe\">\n",
       "  <thead>\n",
       "    <tr style=\"text-align: right;\">\n",
       "      <th></th>\n",
       "      <th>payable_rmb_amount</th>\n",
       "      <th>buy_num</th>\n",
       "    </tr>\n",
       "    <tr>\n",
       "      <th>user_id</th>\n",
       "      <th></th>\n",
       "      <th></th>\n",
       "    </tr>\n",
       "  </thead>\n",
       "  <tbody>\n",
       "    <tr>\n",
       "      <th>3</th>\n",
       "      <td>0.99</td>\n",
       "      <td>1</td>\n",
       "    </tr>\n",
       "    <tr>\n",
       "      <th>11</th>\n",
       "      <td>0.00</td>\n",
       "      <td>1</td>\n",
       "    </tr>\n",
       "    <tr>\n",
       "      <th>13</th>\n",
       "      <td>0.00</td>\n",
       "      <td>1</td>\n",
       "    </tr>\n",
       "    <tr>\n",
       "      <th>16</th>\n",
       "      <td>1.98</td>\n",
       "      <td>2</td>\n",
       "    </tr>\n",
       "    <tr>\n",
       "      <th>35</th>\n",
       "      <td>0.00</td>\n",
       "      <td>1</td>\n",
       "    </tr>\n",
       "  </tbody>\n",
       "</table>\n",
       "</div>"
      ],
      "text/plain": [
       "         payable_rmb_amount  buy_num\n",
       "user_id                             \n",
       "3                      0.99        1\n",
       "11                     0.00        1\n",
       "13                     0.00        1\n",
       "16                     1.98        2\n",
       "35                     0.00        1"
      ]
     },
     "execution_count": 9,
     "metadata": {},
     "output_type": "execute_result"
    }
   ],
   "source": [
    "user_grouped.head()"
   ]
  },
  {
   "cell_type": "code",
   "execution_count": 10,
   "metadata": {
    "ExecuteTime": {
     "end_time": "2019-09-04T07:00:09.732369Z",
     "start_time": "2019-09-04T07:00:09.611275Z"
    }
   },
   "outputs": [
    {
     "data": {
      "text/html": [
       "<div>\n",
       "<style scoped>\n",
       "    .dataframe tbody tr th:only-of-type {\n",
       "        vertical-align: middle;\n",
       "    }\n",
       "\n",
       "    .dataframe tbody tr th {\n",
       "        vertical-align: top;\n",
       "    }\n",
       "\n",
       "    .dataframe thead th {\n",
       "        text-align: right;\n",
       "    }\n",
       "</style>\n",
       "<table border=\"1\" class=\"dataframe\">\n",
       "  <thead>\n",
       "    <tr style=\"text-align: right;\">\n",
       "      <th></th>\n",
       "      <th>payable_rmb_amount</th>\n",
       "      <th>buy_num</th>\n",
       "    </tr>\n",
       "  </thead>\n",
       "  <tbody>\n",
       "    <tr>\n",
       "      <th>count</th>\n",
       "      <td>100102.000000</td>\n",
       "      <td>100102.000000</td>\n",
       "    </tr>\n",
       "    <tr>\n",
       "      <th>mean</th>\n",
       "      <td>15.461539</td>\n",
       "      <td>2.136251</td>\n",
       "    </tr>\n",
       "    <tr>\n",
       "      <th>std</th>\n",
       "      <td>28.469532</td>\n",
       "      <td>2.367325</td>\n",
       "    </tr>\n",
       "    <tr>\n",
       "      <th>min</th>\n",
       "      <td>0.000000</td>\n",
       "      <td>1.000000</td>\n",
       "    </tr>\n",
       "    <tr>\n",
       "      <th>25%</th>\n",
       "      <td>3.990000</td>\n",
       "      <td>1.000000</td>\n",
       "    </tr>\n",
       "    <tr>\n",
       "      <th>50%</th>\n",
       "      <td>7.000000</td>\n",
       "      <td>1.000000</td>\n",
       "    </tr>\n",
       "    <tr>\n",
       "      <th>75%</th>\n",
       "      <td>16.990000</td>\n",
       "      <td>2.000000</td>\n",
       "    </tr>\n",
       "    <tr>\n",
       "      <th>max</th>\n",
       "      <td>1062.550000</td>\n",
       "      <td>262.000000</td>\n",
       "    </tr>\n",
       "  </tbody>\n",
       "</table>\n",
       "</div>"
      ],
      "text/plain": [
       "       payable_rmb_amount        buy_num\n",
       "count       100102.000000  100102.000000\n",
       "mean            15.461539       2.136251\n",
       "std             28.469532       2.367325\n",
       "min              0.000000       1.000000\n",
       "25%              3.990000       1.000000\n",
       "50%              7.000000       1.000000\n",
       "75%             16.990000       2.000000\n",
       "max           1062.550000     262.000000"
      ]
     },
     "execution_count": 10,
     "metadata": {},
     "output_type": "execute_result"
    }
   ],
   "source": [
    "# 用户数101911人(截止190822下午)，人均消费15.65元.75%用户消费17元以下\n",
    "# \n",
    "user_grouped.describe()"
   ]
  },
  {
   "cell_type": "code",
   "execution_count": 11,
   "metadata": {
    "ExecuteTime": {
     "end_time": "2019-09-04T07:00:10.239155Z",
     "start_time": "2019-09-04T07:00:09.734338Z"
    },
    "scrolled": false
   },
   "outputs": [
    {
     "data": {
      "text/plain": [
       "Text(0.5, 1.0, '各月用户支付金额')"
      ]
     },
     "execution_count": 11,
     "metadata": {},
     "output_type": "execute_result"
    },
    {
     "data": {
      "image/png": "[encoded data removed]",
      "text/plain": [
       "<Figure size 864x432 with 1 Axes>"
      ]
     },
     "metadata": {
      "needs_background": "light"
     },
     "output_type": "display_data"
    }
   ],
   "source": [
    "plt.figure(figsize = (12,6))\n",
    "ax = df.groupby('month').payable_rmb_amount.sum().plot()\n",
    "ax.set_xlabel(\"月份\",fontproperties=chinese)\n",
    "ax.set_ylabel(\"实付金额\",fontproperties=chinese)\n",
    "ax.set_title(\"各月用户支付金额\",fontproperties=chinese)"
   ]
  },
  {
   "cell_type": "code",
   "execution_count": 12,
   "metadata": {
    "ExecuteTime": {
     "end_time": "2019-09-04T07:00:10.258072Z",
     "start_time": "2019-09-04T07:00:10.241117Z"
    }
   },
   "outputs": [
    {
     "data": {
      "text/plain": [
       "month\n",
       "2019/1     28544.64\n",
       "2019/2    412093.04\n",
       "2019/3    421263.63\n",
       "2019/4    222778.42\n",
       "2019/5    126009.79\n",
       "2019/6    159751.58\n",
       "2019/7    177289.85\n",
       "Name: payable_rmb_amount, dtype: float64"
      ]
     },
     "execution_count": 12,
     "metadata": {},
     "output_type": "execute_result"
    }
   ],
   "source": [
    "df.groupby('month').payable_rmb_amount.sum()"
   ]
  },
  {
   "cell_type": "markdown",
   "metadata": {},
   "source": [
    "#### 19年2-3月销量达到高峰，之后4-5出现一次大幅下降，最后趋于平稳"
   ]
  },
  {
   "cell_type": "code",
   "execution_count": 13,
   "metadata": {
    "ExecuteTime": {
     "end_time": "2019-09-04T07:00:10.561463Z",
     "start_time": "2019-09-04T07:00:10.260065Z"
    },
    "scrolled": false
   },
   "outputs": [
    {
     "data": {
      "text/plain": [
       "Text(0.5, 1.0, '各月用户购买商品数(订单数)')"
      ]
     },
     "execution_count": 13,
     "metadata": {},
     "output_type": "execute_result"
    },
    {
     "data": {
      "image/png": "[encoded data removed]",
      "text/plain": [
       "<Figure size 720x432 with 1 Axes>"
      ]
     },
     "metadata": {
      "needs_background": "light"
     },
     "output_type": "display_data"
    }
   ],
   "source": [
    "plt.figure(figsize = (10,6))\n",
    "ax = df.groupby('month').buy_num.sum().plot()\n",
    "ax.set_xlabel(\"月份\",fontproperties=chinese)\n",
    "ax.set_ylabel(\"商品购买数\",fontproperties=chinese)\n",
    "ax.set_title(\"各月用户购买商品数(订单数)\",fontproperties=chinese)"
   ]
  },
  {
   "cell_type": "markdown",
   "metadata": {},
   "source": [
    "##### 4月销量下滑趋势没有金额幅度大，可能是商品价格下降导致"
   ]
  },
  {
   "cell_type": "code",
   "execution_count": 14,
   "metadata": {
    "ExecuteTime": {
     "end_time": "2019-09-04T07:00:11.683425Z",
     "start_time": "2019-09-04T07:00:10.563424Z"
    }
   },
   "outputs": [
    {
     "data": {
      "text/plain": [
       "Text(0.5, 1.0, '各用户实付金额与购买商品数关系')"
      ]
     },
     "execution_count": 14,
     "metadata": {},
     "output_type": "execute_result"
    },
    {
     "data": {
      "text/plain": [
       "<Figure size 720x432 with 0 Axes>"
      ]
     },
     "metadata": {},
     "output_type": "display_data"
    },
    {
     "data": {
      "image/png": "[encoded data removed]",
      "text/plain": [
       "<Figure size 432x288 with 1 Axes>"
      ]
     },
     "metadata": {
      "needs_background": "light"
     },
     "output_type": "display_data"
    }
   ],
   "source": [
    "plt.figure(figsize = (10,6))\n",
    "ax = df.groupby('user_id').sum().plot.scatter(\"payable_rmb_amount\",\"buy_num\")\n",
    "ax.set_xlabel(\"实付金额\",fontproperties=chinese)\n",
    "ax.set_ylabel(\"购买商品数\",fontproperties=chinese)\n",
    "ax.set_title(\"各用户实付金额与购买商品数关系\",fontproperties=chinese)"
   ]
  },
  {
   "cell_type": "markdown",
   "metadata": {},
   "source": [
    "#### 总体还算正常，有极少数异常值，但数量不够影响全局"
   ]
  },
  {
   "cell_type": "code",
   "execution_count": 15,
   "metadata": {
    "ExecuteTime": {
     "end_time": "2019-09-04T07:00:12.281825Z",
     "start_time": "2019-09-04T07:00:11.685421Z"
    }
   },
   "outputs": [
    {
     "data": {
      "text/plain": [
       "Text(0.5, 1.0, '用户购买商品数分布')"
      ]
     },
     "execution_count": 15,
     "metadata": {},
     "output_type": "execute_result"
    },
    {
     "data": {
      "image/png": "[encoded data removed]",
      "text/plain": [
       "<Figure size 1152x432 with 2 Axes>"
      ]
     },
     "metadata": {
      "needs_background": "light"
     },
     "output_type": "display_data"
    }
   ],
   "source": [
    "# 画个直方图看看分布\n",
    "plt.figure(figsize=(16,6))\n",
    "plt.subplot(121)\n",
    "ax = df.groupby(\"user_id\")[\"payable_rmb_amount\"].sum().hist(bins = 50)\n",
    "ax.set_xlabel(\"实付金额\",fontproperties=chinese)\n",
    "ax.set_ylabel(\"用户数\",fontproperties=chinese)\n",
    "ax.set_xlim(0,150)\n",
    "ax.set_title(\"用户消费金额分布\",fontproperties = chinese)\n",
    "plt.subplot(122)\n",
    "ax = df.groupby('user_id').buy_num.count().hist(bins = 50)\n",
    "ax.set_xlabel('商品购买数',fontproperties = chinese)\n",
    "ax.set_ylabel(\"用户数\",fontproperties = chinese)\n",
    "ax.set_xlim(0,2000)\n",
    "ax.set_title(\"用户购买商品数分布\",fontproperties = chinese)"
   ]
  },
  {
   "cell_type": "code",
   "execution_count": 16,
   "metadata": {
    "ExecuteTime": {
     "end_time": "2019-09-04T07:00:20.915725Z",
     "start_time": "2019-09-04T07:00:12.284817Z"
    }
   },
   "outputs": [
    {
     "name": "stdout",
     "output_type": "stream",
     "text": [
      "用户首次消费月份(每月新客数)\n",
      "2019/2    35107\n",
      "2019/3    22006\n",
      "2019/4    12294\n",
      "2019/1    10948\n",
      "2019/6     9280\n",
      "2019/5     6047\n",
      "2019/7     4420\n",
      "Name: month, dtype: int64\n"
     ]
    }
   ],
   "source": [
    "print(\"用户首次消费月份(每月新客数)\")\n",
    "print(df.groupby(\"user_id\").month.min().value_counts())"
   ]
  },
  {
   "cell_type": "code",
   "execution_count": 17,
   "metadata": {
    "ExecuteTime": {
     "end_time": "2019-09-04T07:00:29.625420Z",
     "start_time": "2019-09-04T07:00:20.917718Z"
    }
   },
   "outputs": [
    {
     "name": "stdout",
     "output_type": "stream",
     "text": [
      "用户末次消费月份：(末次消费)\n",
      "2019/2    27444\n",
      "2019/3    18383\n",
      "2019/7    17068\n",
      "2019/4    13504\n",
      "2019/6    11099\n",
      "2019/1     7496\n",
      "2019/5     5108\n",
      "Name: month, dtype: int64\n"
     ]
    }
   ],
   "source": [
    "print(\"用户末次消费月份：(末次消费)\")\n",
    "print(df.groupby('user_id').month.max().value_counts())"
   ]
  },
  {
   "cell_type": "markdown",
   "metadata": {},
   "source": [
    "### 复购率:当月购买2次及以上为复购用户"
   ]
  },
  {
   "cell_type": "code",
   "execution_count": 18,
   "metadata": {
    "ExecuteTime": {
     "end_time": "2019-09-04T07:00:29.835889Z",
     "start_time": "2019-09-04T07:00:29.627416Z"
    }
   },
   "outputs": [],
   "source": [
    "# 算出每个用户下单月份\n",
    "df_FuGou = df.pivot_table(index='user_id',columns='month',\n",
    "                             values='date',aggfunc='count').fillna(0)\n",
    "# df_FuGou.head(10)"
   ]
  },
  {
   "cell_type": "code",
   "execution_count": 19,
   "metadata": {
    "ExecuteTime": {
     "end_time": "2019-09-04T07:00:30.132230Z",
     "start_time": "2019-09-04T07:00:29.837886Z"
    }
   },
   "outputs": [],
   "source": [
    "# 数据转化，消费两次及以上的记为1，一次记为0，没有消费记为NaN\n",
    "df_FuGou_transf = df_FuGou.applymap(lambda x:1 if x > 1 else np.NaN if x == 0 else 0)"
   ]
  },
  {
   "cell_type": "code",
   "execution_count": 20,
   "metadata": {
    "ExecuteTime": {
     "end_time": "2019-09-04T07:00:30.634260Z",
     "start_time": "2019-09-04T07:00:30.135037Z"
    }
   },
   "outputs": [
    {
     "data": {
      "text/plain": [
       "Text(0.5, 1.0, '各月复购率')"
      ]
     },
     "execution_count": 20,
     "metadata": {},
     "output_type": "execute_result"
    },
    {
     "data": {
      "image/png": "[encoded data removed]",
      "text/plain": [
       "<Figure size 720x288 with 1 Axes>"
      ]
     },
     "metadata": {
      "needs_background": "light"
     },
     "output_type": "display_data"
    }
   ],
   "source": [
    "#计算复购率并作图\n",
    "ax = (df_FuGou_transf.sum()/df_FuGou_transf.count()).plot(figsize = (10,4))\n",
    "ax.set_xlabel(\"月份\",fontproperties=chinese)\n",
    "ax.set_ylabel(\"复购百分比\",fontproperties=chinese)\n",
    "ax.set_title(\"各月复购率\",fontproperties=chinese)"
   ]
  },
  {
   "cell_type": "code",
   "execution_count": 21,
   "metadata": {
    "ExecuteTime": {
     "end_time": "2019-09-04T07:00:31.053582Z",
     "start_time": "2019-09-04T07:00:30.636223Z"
    }
   },
   "outputs": [
    {
     "data": {
      "text/plain": [
       "<matplotlib.legend.Legend at 0x2a5bdfc8588>"
      ]
     },
     "execution_count": 21,
     "metadata": {},
     "output_type": "execute_result"
    },
    {
     "data": {
      "image/png": "[encoded data removed]",
      "text/plain": [
       "<Figure size 864x288 with 1 Axes>"
      ]
     },
     "metadata": {
      "needs_background": "light"
     },
     "output_type": "display_data"
    }
   ],
   "source": [
    "# 细分一下\n",
    "\n",
    "fig , ax = plt.subplots(figsize = (12,4))\n",
    "ax.plot(df_FuGou_transf.count())\n",
    "ax.plot(df_FuGou_transf.sum())\n",
    "ax.set_xlabel(\"月份\",fontproperties=chinese)\n",
    "ax.set_ylabel(\"购买人数\",fontproperties=chinese)\n",
    "ax.set_title(\"各月二次消费与总消费用户数对比\")\n",
    "legends = [\"总消费人数\",\"多于二次消费人数\"]\n",
    "ax.legend(legends,prop=chinese,loc='upper right')"
   ]
  },
  {
   "cell_type": "markdown",
   "metadata": {},
   "source": [
    "##### 复购人数从19年3月起开始趋于稳定，证明沉淀下来此部分用户忠诚度很高。"
   ]
  },
  {
   "cell_type": "markdown",
   "metadata": {},
   "source": [
    "### 回购率：某时间段内消费的用户，在下个时间周期内仍消费的占比。"
   ]
  },
  {
   "cell_type": "code",
   "execution_count": 22,
   "metadata": {
    "ExecuteTime": {
     "end_time": "2019-09-04T07:00:31.257272Z",
     "start_time": "2019-09-04T07:00:31.055579Z"
    }
   },
   "outputs": [],
   "source": [
    "# 算出每个用户各月购买次数\n",
    "df_HuiGou = df.pivot_table(index=\"user_id\",columns=\"month\",\n",
    "                          values=\"date\",aggfunc='count').fillna(0)\n",
    "# df_HuiGou.head()"
   ]
  },
  {
   "cell_type": "code",
   "execution_count": 23,
   "metadata": {
    "ExecuteTime": {
     "end_time": "2019-09-04T07:00:31.535554Z",
     "start_time": "2019-09-04T07:00:31.262266Z"
    }
   },
   "outputs": [],
   "source": [
    "# 数据转化，购买过为1，没买为0\n",
    "df_HuiGou_transf = df_HuiGou.applymap(lambda x:1 if x>0 else 0)\n",
    "# df_HuiGou_transf.head(10)"
   ]
  },
  {
   "cell_type": "code",
   "execution_count": null,
   "metadata": {},
   "outputs": [],
   "source": []
  },
  {
   "cell_type": "code",
   "execution_count": 24,
   "metadata": {
    "ExecuteTime": {
     "end_time": "2019-09-04T07:00:31.543508Z",
     "start_time": "2019-09-04T07:00:31.537524Z"
    }
   },
   "outputs": [],
   "source": [
    "#定义函数，每个月都要跟后面一个月对比下，\n",
    "#本月有消费且下月也有消费，则本月记为1，\n",
    "#本月有消费且下月没有消费，则本月记为0，\n",
    "#本月没有消费则为NaN，\n",
    "#由于最后个月没有下月数据，规定全为NaN\n",
    "def purchase_return(data):\n",
    "    status = []\n",
    "    for i in range(6):\n",
    "        if data[i] == 1:\n",
    "            if data[i+1] == 1:\n",
    "                status.append(1)\n",
    "            if data[i+1] == 0:\n",
    "                status.append(0)\n",
    "        else:\n",
    "            status.append(np.NaN)\n",
    "    status.append(np.NaN)       \n",
    "    return pd.Series(status)\n",
    "#     return status\n",
    "    "
   ]
  },
  {
   "cell_type": "code",
   "execution_count": 25,
   "metadata": {
    "ExecuteTime": {
     "end_time": "2019-09-04T07:01:02.685743Z",
     "start_time": "2019-09-04T07:00:31.544505Z"
    }
   },
   "outputs": [],
   "source": [
    "df_HuiGou_return = df_HuiGou_transf.apply(purchase_return, axis = 1)\n",
    "# df_HuiGou_return.head()"
   ]
  },
  {
   "cell_type": "code",
   "execution_count": 26,
   "metadata": {
    "ExecuteTime": {
     "end_time": "2019-09-04T07:01:02.811555Z",
     "start_time": "2019-09-04T07:01:02.687717Z"
    }
   },
   "outputs": [],
   "source": [
    "# 出图看看\n",
    "columns = df.month.sort_values().unique()\n",
    "df_HuiGou_return.columns = columns"
   ]
  },
  {
   "cell_type": "code",
   "execution_count": 27,
   "metadata": {
    "ExecuteTime": {
     "end_time": "2019-09-04T07:01:03.142692Z",
     "start_time": "2019-09-04T07:01:02.813382Z"
    }
   },
   "outputs": [
    {
     "data": {
      "text/plain": [
       "Text(0.5, 1.0, '各月回购率')"
      ]
     },
     "execution_count": 27,
     "metadata": {},
     "output_type": "execute_result"
    },
    {
     "data": {
      "image/png": "[encoded data removed]",
      "text/plain": [
       "<Figure size 720x288 with 1 Axes>"
      ]
     },
     "metadata": {
      "needs_background": "light"
     },
     "output_type": "display_data"
    }
   ],
   "source": [
    "ax = (df_HuiGou_return.sum()/df_HuiGou_return.count()).plot(figsize = (10,4))\n",
    "ax.set_xlabel(\"月份\",fontproperties=chinese)\n",
    "ax.set_ylabel(\"百分比\",fontproperties=chinese)\n",
    "ax.set_title(\"各月回购率\",fontproperties=chinese)"
   ]
  },
  {
   "cell_type": "markdown",
   "metadata": {},
   "source": [
    "##### 6，7月上了什么产品或活动吗？ 回购率超过50%"
   ]
  },
  {
   "cell_type": "code",
   "execution_count": 28,
   "metadata": {
    "ExecuteTime": {
     "end_time": "2019-09-04T07:01:03.338135Z",
     "start_time": "2019-09-04T07:01:03.143655Z"
    },
    "scrolled": true
   },
   "outputs": [
    {
     "data": {
      "text/plain": [
       "<matplotlib.legend.Legend at 0x2a5d2890048>"
      ]
     },
     "execution_count": 28,
     "metadata": {},
     "output_type": "execute_result"
    },
    {
     "data": {
      "image/png": "[encoded data removed]",
      "text/plain": [
       "<Figure size 720x288 with 1 Axes>"
      ]
     },
     "metadata": {
      "needs_background": "light"
     },
     "output_type": "display_data"
    }
   ],
   "source": [
    "# 细化一下\n",
    "\n",
    "fig,ax = plt.subplots(figsize = (10,4))\n",
    "ax.plot(df_HuiGou_return.count()) # 消费人数\n",
    "ax.plot(df_HuiGou_return.sum()) # 回购人数\n",
    "ax.set_xlabel(\"月份\",fontproperties=chinese)\n",
    "ax.set_ylabel(\"用户数\",fontproperties=chinese)\n",
    "legends = [\"各月消费人数\",\"各月回购人数\"]\n",
    "ax.legend(legends,prop=chinese,loc=\"upper right\")"
   ]
  },
  {
   "cell_type": "markdown",
   "metadata": {},
   "source": [
    "#####  与复购人数接近，5000-10000，趋势平稳，证明这部分用户已经养成了固定使用消费习惯。应该是同一拨人，稍后会验证一下。 但是7月表现出下滑趋势。"
   ]
  },
  {
   "cell_type": "markdown",
   "metadata": {},
   "source": [
    "#### 2率都呈现上升趋势，后几个月基本与总消费人数变化趋势相近"
   ]
  },
  {
   "cell_type": "markdown",
   "metadata": {},
   "source": [
    "### 用户分层\n",
    "##### 新用户的定义是第一次消费。活跃用户即老客，在某一个时间窗口内有过消费。不活跃用户则是时间窗口内没有消费过的老客。回流用户是在上一个窗口中没有消费，而在当前时间窗口内有过消费。以上的时间窗口都是按月统计。"
   ]
  },
  {
   "cell_type": "code",
   "execution_count": 29,
   "metadata": {
    "ExecuteTime": {
     "end_time": "2019-09-04T07:01:03.346149Z",
     "start_time": "2019-09-04T07:01:03.340130Z"
    }
   },
   "outputs": [],
   "source": [
    "def active_status(data):\n",
    "    status = []\n",
    "    for i in range(7):\n",
    "        \n",
    "        #若本月没有消费\n",
    "        if data[i] == 0:\n",
    "            if len(status) > 0:\n",
    "                if status[i-1] == '未注册':\n",
    "                    status.append('未注册')\n",
    "                else:\n",
    "                    status.append('不活跃')\n",
    "            else:\n",
    "                status.append('未注册')\n",
    "                \n",
    "        # 若本月有消费\n",
    "        else:\n",
    "            if len(status) == 0:\n",
    "                status.append('新客')\n",
    "            else:\n",
    "                if status[i-1] == '不活跃':\n",
    "                    status.append('回流用户')\n",
    "                elif status[i-1] == '未注册':\n",
    "                    status.append('新客')\n",
    "                else:\n",
    "                    status.append('活跃')\n",
    "    return status"
   ]
  },
  {
   "cell_type": "code",
   "execution_count": 30,
   "metadata": {
    "ExecuteTime": {
     "end_time": "2019-09-04T07:01:03.614774Z",
     "start_time": "2019-09-04T07:01:03.348108Z"
    }
   },
   "outputs": [],
   "source": [
    "# df_PurchaseStatus = \n",
    "df_FenCeng = df.pivot_table(index=\"user_id\",columns=\"month\",\n",
    "                          values=\"date\",aggfunc='count').fillna(0)\n",
    "# df_FenCeng.head()"
   ]
  },
  {
   "cell_type": "code",
   "execution_count": 31,
   "metadata": {
    "ExecuteTime": {
     "end_time": "2019-09-04T07:01:03.888224Z",
     "start_time": "2019-09-04T07:01:03.616634Z"
    }
   },
   "outputs": [],
   "source": [
    "# 数据转化，购买过为1，没买为0\n",
    "df_FenCeng_transf = df_FenCeng.applymap(lambda x:1 if x>0 else 0)\n",
    "# df_FenCeng_transf.head(10)"
   ]
  },
  {
   "cell_type": "code",
   "execution_count": 32,
   "metadata": {
    "ExecuteTime": {
     "end_time": "2019-09-04T07:01:36.727192Z",
     "start_time": "2019-09-04T07:01:03.890886Z"
    },
    "scrolled": true
   },
   "outputs": [],
   "source": [
    "df_FenCeng_status = df_FenCeng_transf.apply(lambda x: pd.Series(active_status(x)),axis=1)\n",
    "df_FenCeng_status.columns = columns\n",
    "# df_FenCeng_status.head()"
   ]
  },
  {
   "cell_type": "code",
   "execution_count": 33,
   "metadata": {
    "ExecuteTime": {
     "end_time": "2019-09-04T07:01:36.844021Z",
     "start_time": "2019-09-04T07:01:36.729176Z"
    }
   },
   "outputs": [],
   "source": [
    "# 统计每月各分类用户，未注册用户数不计数替换成NaN\n",
    "df_FenCeng_count = df_FenCeng_status.replace(\"未注册\",np.NaN).apply(lambda x:pd.value_counts(x))\n",
    "# df_FenCeng_count"
   ]
  },
  {
   "cell_type": "code",
   "execution_count": 34,
   "metadata": {
    "ExecuteTime": {
     "end_time": "2019-09-04T07:01:37.483957Z",
     "start_time": "2019-09-04T07:01:36.845864Z"
    }
   },
   "outputs": [
    {
     "data": {
      "text/plain": [
       "Text(0.5, 1.0, '各月各类用户占比')"
      ]
     },
     "execution_count": 34,
     "metadata": {},
     "output_type": "execute_result"
    },
    {
     "data": {
      "image/png": "[encoded data removed]",
      "text/plain": [
       "<Figure size 864x432 with 1 Axes>"
      ]
     },
     "metadata": {
      "needs_background": "light"
     },
     "output_type": "display_data"
    }
   ],
   "source": [
    "# 出图看看\n",
    "ax = df_FenCeng_count.fillna(0).T.plot.area(figsize = (12,6))\n",
    "ax.set_xlabel(\"月份\", fontproperties=chinese)\n",
    "ax.set_ylabel(\"用户数\", fontproperties=chinese)\n",
    "ax.set_title(\"各月各类用户占比\", fontproperties=chinese)"
   ]
  },
  {
   "cell_type": "code",
   "execution_count": 35,
   "metadata": {
    "ExecuteTime": {
     "end_time": "2019-09-04T07:01:37.494900Z",
     "start_time": "2019-09-04T07:01:37.485925Z"
    }
   },
   "outputs": [],
   "source": [
    "# 回流占比：某个时间窗口内回流用户在总用户中的占比。\n",
    "return_rate = df_FenCeng_count.apply(lambda x: x/x.sum())"
   ]
  },
  {
   "cell_type": "code",
   "execution_count": 36,
   "metadata": {
    "ExecuteTime": {
     "end_time": "2019-09-04T07:01:37.577490Z",
     "start_time": "2019-09-04T07:01:37.496895Z"
    }
   },
   "outputs": [
    {
     "data": {
      "text/html": [
       "<div>\n",
       "<style scoped>\n",
       "    .dataframe tbody tr th:only-of-type {\n",
       "        vertical-align: middle;\n",
       "    }\n",
       "\n",
       "    .dataframe tbody tr th {\n",
       "        vertical-align: top;\n",
       "    }\n",
       "\n",
       "    .dataframe thead th {\n",
       "        text-align: right;\n",
       "    }\n",
       "</style>\n",
       "<table border=\"1\" class=\"dataframe\">\n",
       "  <thead>\n",
       "    <tr style=\"text-align: right;\">\n",
       "      <th></th>\n",
       "      <th>2019/1</th>\n",
       "      <th>2019/2</th>\n",
       "      <th>2019/3</th>\n",
       "      <th>2019/4</th>\n",
       "      <th>2019/5</th>\n",
       "      <th>2019/6</th>\n",
       "      <th>2019/7</th>\n",
       "    </tr>\n",
       "  </thead>\n",
       "  <tbody>\n",
       "    <tr>\n",
       "      <th>不活跃</th>\n",
       "      <td>NaN</td>\n",
       "      <td>0.185561</td>\n",
       "      <td>0.574250</td>\n",
       "      <td>0.731131</td>\n",
       "      <td>0.847480</td>\n",
       "      <td>0.771106</td>\n",
       "      <td>0.829494</td>\n",
       "    </tr>\n",
       "    <tr>\n",
       "      <th>回流用户</th>\n",
       "      <td>NaN</td>\n",
       "      <td>NaN</td>\n",
       "      <td>0.007905</td>\n",
       "      <td>0.028187</td>\n",
       "      <td>0.027835</td>\n",
       "      <td>0.054911</td>\n",
       "      <td>0.018441</td>\n",
       "    </tr>\n",
       "    <tr>\n",
       "      <th>新客</th>\n",
       "      <td>1.0</td>\n",
       "      <td>0.762284</td>\n",
       "      <td>0.323328</td>\n",
       "      <td>0.152996</td>\n",
       "      <td>0.069987</td>\n",
       "      <td>0.096988</td>\n",
       "      <td>0.044155</td>\n",
       "    </tr>\n",
       "    <tr>\n",
       "      <th>活跃</th>\n",
       "      <td>NaN</td>\n",
       "      <td>0.052155</td>\n",
       "      <td>0.094518</td>\n",
       "      <td>0.087686</td>\n",
       "      <td>0.054698</td>\n",
       "      <td>0.076995</td>\n",
       "      <td>0.107910</td>\n",
       "    </tr>\n",
       "  </tbody>\n",
       "</table>\n",
       "</div>"
      ],
      "text/plain": [
       "      2019/1    2019/2    2019/3    2019/4    2019/5    2019/6    2019/7\n",
       "不活跃      NaN  0.185561  0.574250  0.731131  0.847480  0.771106  0.829494\n",
       "回流用户     NaN       NaN  0.007905  0.028187  0.027835  0.054911  0.018441\n",
       "新客       1.0  0.762284  0.323328  0.152996  0.069987  0.096988  0.044155\n",
       "活跃       NaN  0.052155  0.094518  0.087686  0.054698  0.076995  0.107910"
      ]
     },
     "execution_count": 36,
     "metadata": {},
     "output_type": "execute_result"
    }
   ],
   "source": [
    "return_rate"
   ]
  },
  {
   "cell_type": "code",
   "execution_count": 37,
   "metadata": {
    "ExecuteTime": {
     "end_time": "2019-09-04T07:01:37.837697Z",
     "start_time": "2019-09-04T07:01:37.579484Z"
    }
   },
   "outputs": [
    {
     "data": {
      "text/plain": [
       "Text(0.5, 1.0, '每月回流用户占比')"
      ]
     },
     "execution_count": 37,
     "metadata": {},
     "output_type": "execute_result"
    },
    {
     "data": {
      "image/png": "[encoded data removed]",
      "text/plain": [
       "<Figure size 864x432 with 1 Axes>"
      ]
     },
     "metadata": {
      "needs_background": "light"
     },
     "output_type": "display_data"
    }
   ],
   "source": [
    "ax = return_rate.loc['回流用户'].plot(figsize = (12,6))\n",
    "ax.set_xlabel('月份', fontproperties=chinese) \n",
    "ax.set_ylabel('占比', fontproperties=chinese) \n",
    "ax.set_title('每月回流用户占比', fontproperties=chinese)"
   ]
  },
  {
   "cell_type": "code",
   "execution_count": 38,
   "metadata": {
    "ExecuteTime": {
     "end_time": "2019-09-04T07:01:38.034204Z",
     "start_time": "2019-09-04T07:01:37.839691Z"
    }
   },
   "outputs": [
    {
     "data": {
      "text/plain": [
       "Text(0.5, 1.0, '每月活跃用户占比')"
      ]
     },
     "execution_count": 38,
     "metadata": {},
     "output_type": "execute_result"
    },
    {
     "data": {
      "image/png": "[encoded data removed]",
      "text/plain": [
       "<Figure size 864x432 with 1 Axes>"
      ]
     },
     "metadata": {
      "needs_background": "light"
     },
     "output_type": "display_data"
    }
   ],
   "source": [
    "ax = return_rate.loc['活跃'].plot(figsize = (12,6))\n",
    "ax.set_xlabel('月份', fontproperties=chinese) \n",
    "ax.set_ylabel('占比', fontproperties=chinese) \n",
    "ax.set_title('每月活跃用户占比', fontproperties=chinese)"
   ]
  },
  {
   "cell_type": "markdown",
   "metadata": {},
   "source": [
    "### 用户质量：高质量用户贡献了多少消费？"
   ]
  },
  {
   "cell_type": "code",
   "execution_count": 39,
   "metadata": {
    "ExecuteTime": {
     "end_time": "2019-09-04T07:01:38.084070Z",
     "start_time": "2019-09-04T07:01:38.036166Z"
    }
   },
   "outputs": [],
   "source": [
    "user_amount = df.groupby(\"user_id\").payable_rmb_amount.sum().sort_values().reset_index()\n",
    "user_amount['amount_cumsum'] = user_amount.payable_rmb_amount.cumsum()"
   ]
  },
  {
   "cell_type": "code",
   "execution_count": 40,
   "metadata": {
    "ExecuteTime": {
     "end_time": "2019-09-04T07:01:38.109972Z",
     "start_time": "2019-09-04T07:01:38.086031Z"
    }
   },
   "outputs": [],
   "source": [
    "# user_amount.tail()"
   ]
  },
  {
   "cell_type": "code",
   "execution_count": 41,
   "metadata": {
    "ExecuteTime": {
     "end_time": "2019-09-04T07:01:38.396604Z",
     "start_time": "2019-09-04T07:01:38.112990Z"
    },
    "scrolled": false
   },
   "outputs": [
    {
     "data": {
      "text/plain": [
       "Text(0.5, 1.0, '用户累计贡献金额百分比')"
      ]
     },
     "execution_count": 41,
     "metadata": {},
     "output_type": "execute_result"
    },
    {
     "data": {
      "image/png": "[encoded data removed]",
      "text/plain": [
       "<Figure size 432x288 with 1 Axes>"
      ]
     },
     "metadata": {
      "needs_background": "light"
     },
     "output_type": "display_data"
    }
   ],
   "source": [
    "#计算出各阶段金额占总金额的百分比\n",
    "amount_total = user_amount.amount_cumsum.max()\n",
    "user_amount['prop'] = user_amount.amount_cumsum.apply(lambda x: x / amount_total)\n",
    "ax = user_amount.prop.plot()\n",
    "ax.set_xlabel('人数（人）', fontproperties=chinese) \n",
    "ax.set_ylabel('百分数（%）', fontproperties=chinese) \n",
    "ax.set_title('用户累计贡献金额百分比', fontproperties=chinese)"
   ]
  },
  {
   "cell_type": "markdown",
   "metadata": {},
   "source": [
    "##### 典型的二八分布，共101911人中，前80000人贡献了不到40%的消费。。。"
   ]
  },
  {
   "cell_type": "markdown",
   "metadata": {},
   "source": [
    "### 用户生命周期:这里我们定义第一次消费至最后一次消费为整个用户生命。"
   ]
  },
  {
   "cell_type": "code",
   "execution_count": 72,
   "metadata": {
    "ExecuteTime": {
     "end_time": "2019-09-04T07:15:09.382887Z",
     "start_time": "2019-09-04T07:15:09.378929Z"
    }
   },
   "outputs": [],
   "source": [
    "df_life = df"
   ]
  },
  {
   "cell_type": "code",
   "execution_count": 73,
   "metadata": {
    "ExecuteTime": {
     "end_time": "2019-09-04T07:15:31.577499Z",
     "start_time": "2019-09-04T07:15:13.958345Z"
    }
   },
   "outputs": [],
   "source": [
    "order_date_min = df_life.groupby('user_id').create_date.min()\n",
    "order_date_min = pd.to_datetime(order_date_min)\n",
    "order_date_max = df_life.groupby('user_id').create_date.max()\n",
    "order_date_max = pd.to_datetime(order_date_max)"
   ]
  },
  {
   "cell_type": "code",
   "execution_count": 75,
   "metadata": {
    "ExecuteTime": {
     "end_time": "2019-09-04T07:16:15.438658Z",
     "start_time": "2019-09-04T07:16:15.428716Z"
    },
    "scrolled": false
   },
   "outputs": [],
   "source": [
    "life_time = (order_date_max-order_date_min).reset_index()"
   ]
  },
  {
   "cell_type": "code",
   "execution_count": 80,
   "metadata": {
    "ExecuteTime": {
     "end_time": "2019-09-04T07:21:21.893153Z",
     "start_time": "2019-09-04T07:21:14.614911Z"
    }
   },
   "outputs": [],
   "source": [
    "life_time.to_excel(\"D:/work/数据分析报告/新建文件夹/自营商城数据分析190829/life_time.xlsx\",index=False)"
   ]
  },
  {
   "cell_type": "code",
   "execution_count": null,
   "metadata": {},
   "outputs": [],
   "source": []
  },
  {
   "cell_type": "code",
   "execution_count": 78,
   "metadata": {
    "ExecuteTime": {
     "end_time": "2019-09-04T07:17:21.967108Z",
     "start_time": "2019-09-04T07:17:21.957103Z"
    }
   },
   "outputs": [
    {
     "data": {
      "text/html": [
       "<div>\n",
       "<style scoped>\n",
       "    .dataframe tbody tr th:only-of-type {\n",
       "        vertical-align: middle;\n",
       "    }\n",
       "\n",
       "    .dataframe tbody tr th {\n",
       "        vertical-align: top;\n",
       "    }\n",
       "\n",
       "    .dataframe thead th {\n",
       "        text-align: right;\n",
       "    }\n",
       "</style>\n",
       "<table border=\"1\" class=\"dataframe\">\n",
       "  <thead>\n",
       "    <tr style=\"text-align: right;\">\n",
       "      <th></th>\n",
       "      <th>user_id</th>\n",
       "      <th>create_date</th>\n",
       "    </tr>\n",
       "  </thead>\n",
       "  <tbody>\n",
       "    <tr>\n",
       "      <th>0</th>\n",
       "      <td>3</td>\n",
       "      <td>0 days 00:00:00</td>\n",
       "    </tr>\n",
       "    <tr>\n",
       "      <th>1</th>\n",
       "      <td>11</td>\n",
       "      <td>0 days 00:00:00</td>\n",
       "    </tr>\n",
       "    <tr>\n",
       "      <th>2</th>\n",
       "      <td>13</td>\n",
       "      <td>0 days 00:00:00</td>\n",
       "    </tr>\n",
       "    <tr>\n",
       "      <th>3</th>\n",
       "      <td>16</td>\n",
       "      <td>1 days 23:14:00</td>\n",
       "    </tr>\n",
       "    <tr>\n",
       "      <th>4</th>\n",
       "      <td>35</td>\n",
       "      <td>0 days 00:00:00</td>\n",
       "    </tr>\n",
       "    <tr>\n",
       "      <th>5</th>\n",
       "      <td>37</td>\n",
       "      <td>105 days 02:15:00</td>\n",
       "    </tr>\n",
       "    <tr>\n",
       "      <th>6</th>\n",
       "      <td>39</td>\n",
       "      <td>93 days 12:36:00</td>\n",
       "    </tr>\n",
       "    <tr>\n",
       "      <th>7</th>\n",
       "      <td>58</td>\n",
       "      <td>0 days 00:00:00</td>\n",
       "    </tr>\n",
       "    <tr>\n",
       "      <th>8</th>\n",
       "      <td>68</td>\n",
       "      <td>34 days 18:48:00</td>\n",
       "    </tr>\n",
       "    <tr>\n",
       "      <th>9</th>\n",
       "      <td>69</td>\n",
       "      <td>0 days 00:00:00</td>\n",
       "    </tr>\n",
       "    <tr>\n",
       "      <th>10</th>\n",
       "      <td>71</td>\n",
       "      <td>183 days 03:03:00</td>\n",
       "    </tr>\n",
       "    <tr>\n",
       "      <th>11</th>\n",
       "      <td>72</td>\n",
       "      <td>0 days 00:00:00</td>\n",
       "    </tr>\n",
       "    <tr>\n",
       "      <th>12</th>\n",
       "      <td>73</td>\n",
       "      <td>129 days 14:41:00</td>\n",
       "    </tr>\n",
       "    <tr>\n",
       "      <th>13</th>\n",
       "      <td>74</td>\n",
       "      <td>0 days 00:00:00</td>\n",
       "    </tr>\n",
       "    <tr>\n",
       "      <th>14</th>\n",
       "      <td>87</td>\n",
       "      <td>109 days 12:51:00</td>\n",
       "    </tr>\n",
       "    <tr>\n",
       "      <th>15</th>\n",
       "      <td>89</td>\n",
       "      <td>91 days 05:07:00</td>\n",
       "    </tr>\n",
       "    <tr>\n",
       "      <th>16</th>\n",
       "      <td>91</td>\n",
       "      <td>39 days 03:43:00</td>\n",
       "    </tr>\n",
       "    <tr>\n",
       "      <th>17</th>\n",
       "      <td>94</td>\n",
       "      <td>26 days 08:09:00</td>\n",
       "    </tr>\n",
       "    <tr>\n",
       "      <th>18</th>\n",
       "      <td>95</td>\n",
       "      <td>0 days 00:00:00</td>\n",
       "    </tr>\n",
       "    <tr>\n",
       "      <th>19</th>\n",
       "      <td>99</td>\n",
       "      <td>21 days 00:29:00</td>\n",
       "    </tr>\n",
       "    <tr>\n",
       "      <th>20</th>\n",
       "      <td>106</td>\n",
       "      <td>67 days 15:44:00</td>\n",
       "    </tr>\n",
       "    <tr>\n",
       "      <th>21</th>\n",
       "      <td>107</td>\n",
       "      <td>130 days 00:15:00</td>\n",
       "    </tr>\n",
       "    <tr>\n",
       "      <th>22</th>\n",
       "      <td>108</td>\n",
       "      <td>175 days 23:37:00</td>\n",
       "    </tr>\n",
       "    <tr>\n",
       "      <th>23</th>\n",
       "      <td>115</td>\n",
       "      <td>151 days 18:18:00</td>\n",
       "    </tr>\n",
       "    <tr>\n",
       "      <th>24</th>\n",
       "      <td>152</td>\n",
       "      <td>175 days 02:07:00</td>\n",
       "    </tr>\n",
       "    <tr>\n",
       "      <th>25</th>\n",
       "      <td>155</td>\n",
       "      <td>0 days 00:00:00</td>\n",
       "    </tr>\n",
       "    <tr>\n",
       "      <th>26</th>\n",
       "      <td>160</td>\n",
       "      <td>115 days 03:50:00</td>\n",
       "    </tr>\n",
       "    <tr>\n",
       "      <th>27</th>\n",
       "      <td>169</td>\n",
       "      <td>0 days 00:00:00</td>\n",
       "    </tr>\n",
       "    <tr>\n",
       "      <th>28</th>\n",
       "      <td>198</td>\n",
       "      <td>6 days 05:59:00</td>\n",
       "    </tr>\n",
       "    <tr>\n",
       "      <th>29</th>\n",
       "      <td>202</td>\n",
       "      <td>0 days 00:00:00</td>\n",
       "    </tr>\n",
       "  </tbody>\n",
       "</table>\n",
       "</div>"
      ],
      "text/plain": [
       "    user_id       create_date\n",
       "0         3   0 days 00:00:00\n",
       "1        11   0 days 00:00:00\n",
       "2        13   0 days 00:00:00\n",
       "3        16   1 days 23:14:00\n",
       "4        35   0 days 00:00:00\n",
       "5        37 105 days 02:15:00\n",
       "6        39  93 days 12:36:00\n",
       "7        58   0 days 00:00:00\n",
       "8        68  34 days 18:48:00\n",
       "9        69   0 days 00:00:00\n",
       "10       71 183 days 03:03:00\n",
       "11       72   0 days 00:00:00\n",
       "12       73 129 days 14:41:00\n",
       "13       74   0 days 00:00:00\n",
       "14       87 109 days 12:51:00\n",
       "15       89  91 days 05:07:00\n",
       "16       91  39 days 03:43:00\n",
       "17       94  26 days 08:09:00\n",
       "18       95   0 days 00:00:00\n",
       "19       99  21 days 00:29:00\n",
       "20      106  67 days 15:44:00\n",
       "21      107 130 days 00:15:00\n",
       "22      108 175 days 23:37:00\n",
       "23      115 151 days 18:18:00\n",
       "24      152 175 days 02:07:00\n",
       "25      155   0 days 00:00:00\n",
       "26      160 115 days 03:50:00\n",
       "27      169   0 days 00:00:00\n",
       "28      198   6 days 05:59:00\n",
       "29      202   0 days 00:00:00"
      ]
     },
     "execution_count": 78,
     "metadata": {},
     "output_type": "execute_result"
    }
   ],
   "source": [
    "life_time.head(30)"
   ]
  },
  {
   "cell_type": "code",
   "execution_count": 77,
   "metadata": {
    "ExecuteTime": {
     "end_time": "2019-09-04T07:16:47.279347Z",
     "start_time": "2019-09-04T07:16:47.253416Z"
    }
   },
   "outputs": [
    {
     "data": {
      "text/html": [
       "<div>\n",
       "<style scoped>\n",
       "    .dataframe tbody tr th:only-of-type {\n",
       "        vertical-align: middle;\n",
       "    }\n",
       "\n",
       "    .dataframe tbody tr th {\n",
       "        vertical-align: top;\n",
       "    }\n",
       "\n",
       "    .dataframe thead th {\n",
       "        text-align: right;\n",
       "    }\n",
       "</style>\n",
       "<table border=\"1\" class=\"dataframe\">\n",
       "  <thead>\n",
       "    <tr style=\"text-align: right;\">\n",
       "      <th></th>\n",
       "      <th>user_id</th>\n",
       "      <th>create_date</th>\n",
       "    </tr>\n",
       "  </thead>\n",
       "  <tbody>\n",
       "    <tr>\n",
       "      <th>count</th>\n",
       "      <td>1.001020e+05</td>\n",
       "      <td>100102</td>\n",
       "    </tr>\n",
       "    <tr>\n",
       "      <th>mean</th>\n",
       "      <td>5.733906e+06</td>\n",
       "      <td>20 days 14:26:31.957603</td>\n",
       "    </tr>\n",
       "    <tr>\n",
       "      <th>std</th>\n",
       "      <td>4.123792e+06</td>\n",
       "      <td>39 days 06:55:30.256647</td>\n",
       "    </tr>\n",
       "    <tr>\n",
       "      <th>min</th>\n",
       "      <td>3.000000e+00</td>\n",
       "      <td>-27 days +21:12:00</td>\n",
       "    </tr>\n",
       "    <tr>\n",
       "      <th>25%</th>\n",
       "      <td>2.197772e+06</td>\n",
       "      <td>0 days 00:00:00</td>\n",
       "    </tr>\n",
       "    <tr>\n",
       "      <th>50%</th>\n",
       "      <td>4.599300e+06</td>\n",
       "      <td>0 days 00:00:00</td>\n",
       "    </tr>\n",
       "    <tr>\n",
       "      <th>75%</th>\n",
       "      <td>9.534100e+06</td>\n",
       "      <td>26 days 03:12:30</td>\n",
       "    </tr>\n",
       "    <tr>\n",
       "      <th>max</th>\n",
       "      <td>1.697181e+07</td>\n",
       "      <td>209 days 00:34:00</td>\n",
       "    </tr>\n",
       "  </tbody>\n",
       "</table>\n",
       "</div>"
      ],
      "text/plain": [
       "            user_id              create_date\n",
       "count  1.001020e+05                   100102\n",
       "mean   5.733906e+06  20 days 14:26:31.957603\n",
       "std    4.123792e+06  39 days 06:55:30.256647\n",
       "min    3.000000e+00       -27 days +21:12:00\n",
       "25%    2.197772e+06          0 days 00:00:00\n",
       "50%    4.599300e+06          0 days 00:00:00\n",
       "75%    9.534100e+06         26 days 03:12:30\n",
       "max    1.697181e+07        209 days 00:34:00"
      ]
     },
     "execution_count": 77,
     "metadata": {},
     "output_type": "execute_result"
    }
   ],
   "source": [
    "life_time.describe()"
   ]
  },
  {
   "cell_type": "markdown",
   "metadata": {},
   "source": [
    "##### 用户平均生命周期为24天，超过一半的用户的首次购买也是最后消费，75分为天数为31天，大约均值，即最后25%的用户是为对商城贡献由主要贡献的高质量用户"
   ]
  },
  {
   "cell_type": "code",
   "execution_count": 45,
   "metadata": {
    "ExecuteTime": {
     "end_time": "2019-09-04T07:01:56.691421Z",
     "start_time": "2019-09-04T07:01:56.316039Z"
    }
   },
   "outputs": [
    {
     "data": {
      "text/plain": [
       "211"
      ]
     },
     "execution_count": 45,
     "metadata": {},
     "output_type": "execute_result"
    }
   ],
   "source": [
    "\n",
    "import datetime\n",
    "d1 = datetime.datetime(2019,1,1)   # 第一个日期\n",
    "d2 = datetime.datetime(2019,7,31)   # 第二个日期\n",
    "interval = d2 - d1                   # 两日期差距\n",
    "interval.days \n"
   ]
  },
  {
   "cell_type": "code",
   "execution_count": null,
   "metadata": {},
   "outputs": [],
   "source": []
  },
  {
   "cell_type": "code",
   "execution_count": null,
   "metadata": {},
   "outputs": [],
   "source": []
  },
  {
   "cell_type": "code",
   "execution_count": 46,
   "metadata": {
    "ExecuteTime": {
     "end_time": "2019-09-04T07:01:56.770726Z",
     "start_time": "2019-09-04T07:01:56.694374Z"
    }
   },
   "outputs": [],
   "source": [
    "life_time['life_time'] = life_time.create_date/np.timedelta64(1,'D')\n"
   ]
  },
  {
   "cell_type": "code",
   "execution_count": 47,
   "metadata": {
    "ExecuteTime": {
     "end_time": "2019-09-04T07:01:56.830910Z",
     "start_time": "2019-09-04T07:01:56.772665Z"
    }
   },
   "outputs": [
    {
     "data": {
      "text/plain": [
       "36356"
      ]
     },
     "execution_count": 47,
     "metadata": {},
     "output_type": "execute_result"
    }
   ],
   "source": [
    "len(life_time[life_time.life_time > 0])"
   ]
  },
  {
   "cell_type": "code",
   "execution_count": 48,
   "metadata": {
    "ExecuteTime": {
     "end_time": "2019-09-04T07:01:57.240520Z",
     "start_time": "2019-09-04T07:01:56.832926Z"
    },
    "scrolled": true
   },
   "outputs": [
    {
     "data": {
      "text/plain": [
       "Text(0.5, 1.0, '二次消费以上用户的生命周期直方图')"
      ]
     },
     "execution_count": 48,
     "metadata": {},
     "output_type": "execute_result"
    },
    {
     "data": {
      "image/png": "[encoded data removed]",
      "text/plain": [
       "<Figure size 864x432 with 1 Axes>"
      ]
     },
     "metadata": {
      "needs_background": "light"
     },
     "output_type": "display_data"
    }
   ],
   "source": [
    "ax = life_time[life_time.life_time > 0].life_time.hist(bins =100,figsize = (12,6))\n",
    "ax.set_xlabel('天数（天）', fontproperties=chinese) \n",
    "ax.set_ylabel('人数（人）', fontproperties=chinese) \n",
    "ax.set_title('二次消费以上用户的生命周期直方图', fontproperties=chinese)"
   ]
  },
  {
   "cell_type": "code",
   "execution_count": 49,
   "metadata": {
    "ExecuteTime": {
     "end_time": "2019-09-04T07:01:57.250505Z",
     "start_time": "2019-09-04T07:01:57.242486Z"
    }
   },
   "outputs": [
    {
     "data": {
      "text/plain": [
       "1434"
      ]
     },
     "execution_count": 49,
     "metadata": {},
     "output_type": "execute_result"
    }
   ],
   "source": [
    "# 生命周期在200天以上的用户数\n",
    "len(life_time[life_time.life_time > 150])"
   ]
  },
  {
   "cell_type": "code",
   "execution_count": 50,
   "metadata": {
    "ExecuteTime": {
     "end_time": "2019-09-04T07:01:57.321402Z",
     "start_time": "2019-09-04T07:01:57.252488Z"
    }
   },
   "outputs": [
    {
     "data": {
      "text/plain": [
       "57.38792186984268"
      ]
     },
     "execution_count": 50,
     "metadata": {},
     "output_type": "execute_result"
    }
   ],
   "source": [
    "# 生命周期总用户数平均值\n",
    "life_time[life_time.life_time > 0].life_time.mean()"
   ]
  },
  {
   "cell_type": "markdown",
   "metadata": {},
   "source": [
    "##### 二次购买两次以上的用户生命周期为62天，根据运营角度说明，应该更多引导用户二次消费，从而提高用户生命周期，能带来2倍的增量。"
   ]
  },
  {
   "cell_type": "markdown",
   "metadata": {
    "ExecuteTime": {
     "end_time": "2019-08-26T06:20:04.572623Z",
     "start_time": "2019-08-26T06:20:04.564674Z"
    }
   },
   "source": [
    "### 留存率：第一次消费后有多少比率进行第二次消费"
   ]
  },
  {
   "cell_type": "code",
   "execution_count": 68,
   "metadata": {
    "ExecuteTime": {
     "end_time": "2019-09-04T07:06:43.098698Z",
     "start_time": "2019-09-04T07:06:43.094714Z"
    }
   },
   "outputs": [],
   "source": [
    "df_retention = df"
   ]
  },
  {
   "cell_type": "code",
   "execution_count": 69,
   "metadata": {
    "ExecuteTime": {
     "end_time": "2019-09-04T07:06:44.711573Z",
     "start_time": "2019-09-04T07:06:44.599898Z"
    }
   },
   "outputs": [],
   "source": [
    "user_purchase_retention = pd.merge(left = df_retention, \n",
    "                                   right = order_date_min.reset_index(), \n",
    "                                   how = 'inner', \n",
    "                                   on = 'user_id', \n",
    "                                   suffixes=('', '_min'))\n"
   ]
  },
  {
   "cell_type": "code",
   "execution_count": 70,
   "metadata": {
    "ExecuteTime": {
     "end_time": "2019-09-04T07:06:45.356507Z",
     "start_time": "2019-09-04T07:06:45.345562Z"
    },
    "scrolled": true
   },
   "outputs": [
    {
     "data": {
      "text/html": [
       "<div>\n",
       "<style scoped>\n",
       "    .dataframe tbody tr th:only-of-type {\n",
       "        vertical-align: middle;\n",
       "    }\n",
       "\n",
       "    .dataframe tbody tr th {\n",
       "        vertical-align: top;\n",
       "    }\n",
       "\n",
       "    .dataframe thead th {\n",
       "        text-align: right;\n",
       "    }\n",
       "</style>\n",
       "<table border=\"1\" class=\"dataframe\">\n",
       "  <thead>\n",
       "    <tr style=\"text-align: right;\">\n",
       "      <th></th>\n",
       "      <th>user_id</th>\n",
       "      <th>create_date</th>\n",
       "      <th>payable_rmb_amount</th>\n",
       "      <th>buy_num</th>\n",
       "      <th>date</th>\n",
       "      <th>month</th>\n",
       "      <th>create_date_min</th>\n",
       "    </tr>\n",
       "  </thead>\n",
       "  <tbody>\n",
       "    <tr>\n",
       "      <th>0</th>\n",
       "      <td>3059210</td>\n",
       "      <td>2019/1/1 7:32</td>\n",
       "      <td>7.0</td>\n",
       "      <td>1</td>\n",
       "      <td>2019/1/1</td>\n",
       "      <td>2019/1</td>\n",
       "      <td>2019-01-01 07:32:00</td>\n",
       "    </tr>\n",
       "    <tr>\n",
       "      <th>1</th>\n",
       "      <td>3059210</td>\n",
       "      <td>2019/2/11 20:54</td>\n",
       "      <td>7.0</td>\n",
       "      <td>1</td>\n",
       "      <td>2019/2/11</td>\n",
       "      <td>2019/2</td>\n",
       "      <td>2019-01-01 07:32:00</td>\n",
       "    </tr>\n",
       "    <tr>\n",
       "      <th>2</th>\n",
       "      <td>2055349</td>\n",
       "      <td>2019/1/1 7:38</td>\n",
       "      <td>7.0</td>\n",
       "      <td>1</td>\n",
       "      <td>2019/1/1</td>\n",
       "      <td>2019/1</td>\n",
       "      <td>2019-01-01 07:38:00</td>\n",
       "    </tr>\n",
       "    <tr>\n",
       "      <th>3</th>\n",
       "      <td>9457140</td>\n",
       "      <td>2019/1/1 8:46</td>\n",
       "      <td>7.0</td>\n",
       "      <td>1</td>\n",
       "      <td>2019/1/1</td>\n",
       "      <td>2019/1</td>\n",
       "      <td>2019-01-01 08:46:00</td>\n",
       "    </tr>\n",
       "    <tr>\n",
       "      <th>4</th>\n",
       "      <td>9457140</td>\n",
       "      <td>2019/1/24 10:44</td>\n",
       "      <td>0.1</td>\n",
       "      <td>1</td>\n",
       "      <td>2019/1/24</td>\n",
       "      <td>2019/1</td>\n",
       "      <td>2019-01-01 08:46:00</td>\n",
       "    </tr>\n",
       "  </tbody>\n",
       "</table>\n",
       "</div>"
      ],
      "text/plain": [
       "   user_id      create_date  payable_rmb_amount  buy_num       date   month  \\\n",
       "0  3059210    2019/1/1 7:32                 7.0        1   2019/1/1  2019/1   \n",
       "1  3059210  2019/2/11 20:54                 7.0        1  2019/2/11  2019/2   \n",
       "2  2055349    2019/1/1 7:38                 7.0        1   2019/1/1  2019/1   \n",
       "3  9457140    2019/1/1 8:46                 7.0        1   2019/1/1  2019/1   \n",
       "4  9457140  2019/1/24 10:44                 0.1        1  2019/1/24  2019/1   \n",
       "\n",
       "      create_date_min  \n",
       "0 2019-01-01 07:32:00  \n",
       "1 2019-01-01 07:32:00  \n",
       "2 2019-01-01 07:38:00  \n",
       "3 2019-01-01 08:46:00  \n",
       "4 2019-01-01 08:46:00  "
      ]
     },
     "execution_count": 70,
     "metadata": {},
     "output_type": "execute_result"
    }
   ],
   "source": [
    "user_purchase_retention.head()"
   ]
  },
  {
   "cell_type": "code",
   "execution_count": 71,
   "metadata": {
    "ExecuteTime": {
     "end_time": "2019-09-04T07:07:26.134288Z",
     "start_time": "2019-09-04T07:07:26.079405Z"
    },
    "scrolled": true
   },
   "outputs": [],
   "source": [
    "user_purchase_retention[\"create_date\"] = pd.to_datetime(user_purchase_retention[\"create_date\"])"
   ]
  },
  {
   "cell_type": "code",
   "execution_count": 55,
   "metadata": {
    "ExecuteTime": {
     "end_time": "2019-09-04T07:01:59.042471Z",
     "start_time": "2019-09-04T07:01:58.971822Z"
    }
   },
   "outputs": [],
   "source": [
    "# user_purchase_retention.info()"
   ]
  },
  {
   "cell_type": "code",
   "execution_count": 56,
   "metadata": {
    "ExecuteTime": {
     "end_time": "2019-09-04T07:02:01.781822Z",
     "start_time": "2019-09-04T07:01:59.044051Z"
    },
    "scrolled": true
   },
   "outputs": [],
   "source": [
    "user_purchase_retention['order_date_diff'] = user_purchase_retention.create_date - user_purchase_retention.create_date_min\n",
    "\n",
    "# user_purchase_retention.head(30)"
   ]
  },
  {
   "cell_type": "code",
   "execution_count": null,
   "metadata": {},
   "outputs": [],
   "source": [
    "user_purchase_retention['date_diff'] = user_purchase_retention.order_date_diff.apply(lambda x: x/np.timedelta64(1,'D'))\n"
   ]
  },
  {
   "cell_type": "code",
   "execution_count": null,
   "metadata": {},
   "outputs": [],
   "source": [
    "user_purchase_retention = user_purchase_retention.sort_values(by=\"order_date_diff\",ascending=True)"
   ]
  },
  {
   "cell_type": "code",
   "execution_count": 57,
   "metadata": {
    "ExecuteTime": {
     "end_time": "2019-09-04T07:02:01.786777Z",
     "start_time": "2019-09-04T07:02:01.783815Z"
    }
   },
   "outputs": [],
   "source": [
    "# user_purchase_retention[user_purchase_retention[\"user_id\"]  == 190368 ]"
   ]
  },
  {
   "cell_type": "code",
   "execution_count": 58,
   "metadata": {
    "ExecuteTime": {
     "end_time": "2019-09-04T07:02:02.233658Z",
     "start_time": "2019-09-04T07:02:01.789770Z"
    },
    "scrolled": true
   },
   "outputs": [],
   "source": [
    "bin = [0,30,60,90,120,150,180]\n",
    "user_purchase_retention['date_diff_bin'] = pd.cut(user_purchase_retention.date_diff, bins = bin)\n",
    "# user_purchase_retention.head(20)"
   ]
  },
  {
   "cell_type": "code",
   "execution_count": 59,
   "metadata": {
    "ExecuteTime": {
     "end_time": "2019-09-04T07:02:02.458240Z",
     "start_time": "2019-09-04T07:02:02.235370Z"
    }
   },
   "outputs": [],
   "source": [
    "pivoted_retention= user_purchase_retention.groupby(['user_id','date_diff_bin']).payable_rmb_amount.sum().unstack()\n",
    "# pivoted_retention.head(10)"
   ]
  },
  {
   "cell_type": "code",
   "execution_count": 60,
   "metadata": {
    "ExecuteTime": {
     "end_time": "2019-09-04T07:02:02.539052Z",
     "start_time": "2019-09-04T07:02:02.460091Z"
    }
   },
   "outputs": [],
   "source": [
    "pivoted_retention2= user_purchase_retention.groupby(['user_id','date_diff_bin']).buy_num.sum().unstack()\n",
    "# pivoted_retention2.head(10)"
   ]
  },
  {
   "cell_type": "code",
   "execution_count": 61,
   "metadata": {
    "ExecuteTime": {
     "end_time": "2019-09-04T07:02:02.796193Z",
     "start_time": "2019-09-04T07:02:02.540879Z"
    }
   },
   "outputs": [
    {
     "data": {
      "text/plain": [
       "Text(0.5, 1.0, '各时间段的用户留存率')"
      ]
     },
     "execution_count": 61,
     "metadata": {},
     "output_type": "execute_result"
    },
    {
     "data": {
      "image/png": "[encoded data removed]",
      "text/plain": [
       "<Figure size 864x432 with 1 Axes>"
      ]
     },
     "metadata": {
      "needs_background": "light"
     },
     "output_type": "display_data"
    }
   ],
   "source": [
    "# 直接用金额表达不出留存率，我们还是按照之前的算法，把消费过的转换成1，未消费过的转换成0，毕竟留存率看的是是否有消费。\n",
    "pivoted_retention_trans = pivoted_retention.fillna(0).applymap(lambda x: 1 if x >0 else 0)\n",
    "ax = (pivoted_retention_trans.sum()/pivoted_retention_trans.count()).plot.bar(figsize = (12,6))\n",
    "ax.set_xlabel('时间跨度（天）', fontproperties=chinese) \n",
    "ax.set_ylabel('百分数（%）', fontproperties=chinese) \n",
    "ax.set_title('各时间段的用户留存率', fontproperties=chinese)"
   ]
  },
  {
   "cell_type": "markdown",
   "metadata": {},
   "source": [
    "##### 由上图可知，头一个月留存高达65%，次月留存也在50%左右。但是第三个月就掉到30%以下。从第三个月开始就趋势性减少。从运营角度来看，这对刺激引导消费的活动或营销政策应该集中在前两个月开始使用，特别的第一个月。"
   ]
  },
  {
   "cell_type": "markdown",
   "metadata": {},
   "source": [
    "##### 为了更好的确定营销节点，在看下平均购买周期。"
   ]
  },
  {
   "cell_type": "markdown",
   "metadata": {},
   "source": [
    "### 平均购买周期：用户两次购买之间的间隔"
   ]
  },
  {
   "cell_type": "code",
   "execution_count": 62,
   "metadata": {
    "ExecuteTime": {
     "end_time": "2019-09-04T07:02:02.802176Z",
     "start_time": "2019-09-04T07:02:02.798188Z"
    }
   },
   "outputs": [],
   "source": [
    "#创建函数，返回时间差\n",
    "def diff(group):\n",
    "    d = group.date_diff - group.date_diff.shift(-1)\n",
    "    return d"
   ]
  },
  {
   "cell_type": "code",
   "execution_count": 63,
   "metadata": {
    "ExecuteTime": {
     "end_time": "2019-09-04T07:02:02.942227Z",
     "start_time": "2019-09-04T07:02:02.804171Z"
    }
   },
   "outputs": [],
   "source": [
    "user_purchase_retention = user_purchase_retention.sort_values(by=\"order_date_diff\",ascending=True)"
   ]
  },
  {
   "cell_type": "code",
   "execution_count": 64,
   "metadata": {
    "ExecuteTime": {
     "end_time": "2019-09-04T07:03:03.956691Z",
     "start_time": "2019-09-04T07:02:02.944222Z"
    }
   },
   "outputs": [],
   "source": [
    "last_diff = user_purchase_retention.groupby('user_id').apply(diff)"
   ]
  },
  {
   "cell_type": "code",
   "execution_count": 65,
   "metadata": {
    "ExecuteTime": {
     "end_time": "2019-09-04T07:03:03.974632Z",
     "start_time": "2019-09-04T07:03:03.958674Z"
    }
   },
   "outputs": [],
   "source": [
    "last_dd = last_diff.reset_index()"
   ]
  },
  {
   "cell_type": "code",
   "execution_count": 66,
   "metadata": {
    "ExecuteTime": {
     "end_time": "2019-09-04T07:03:04.292397Z",
     "start_time": "2019-09-04T07:03:03.978623Z"
    }
   },
   "outputs": [
    {
     "data": {
      "text/plain": [
       "Text(0.5, 1.0, '用户平均购买周期直方图')"
      ]
     },
     "execution_count": 66,
     "metadata": {},
     "output_type": "execute_result"
    },
    {
     "data": {
      "image/png": "[encoded data removed]",
      "text/plain": [
       "<Figure size 864x432 with 1 Axes>"
      ]
     },
     "metadata": {
      "needs_background": "light"
     },
     "output_type": "display_data"
    }
   ],
   "source": [
    "fig, ax = plt.subplots(figsize = (12,6))\n",
    "ax = last_diff.hist(bins = 20)\n",
    "ax.set_xlabel('时间跨度（天）', fontproperties=chinese) \n",
    "ax.set_ylabel('人数（人）', fontproperties=chinese) \n",
    "ax.set_title('用户平均购买周期直方图', fontproperties=chinese)"
   ]
  }
 ],
 "metadata": {
  "kernelspec": {
   "display_name": "Python 3",
   "language": "python",
   "name": "python3"
  },
  "language_info": {
   "codemirror_mode": {
    "name": "ipython",
    "version": 3
   },
   "file_extension": ".py",
   "mimetype": "text/x-python",
   "name": "python",
   "nbconvert_exporter": "python",
   "pygments_lexer": "ipython3",
   "version": "3.6.5"
  }
 },
 "nbformat": 4,
 "nbformat_minor": 2
}
