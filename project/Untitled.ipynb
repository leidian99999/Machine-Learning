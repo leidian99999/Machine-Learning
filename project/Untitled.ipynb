{
 "cells": [
  {
   "cell_type": "code",
   "execution_count": 1,
   "metadata": {},
   "outputs": [],
   "source": [
    "import pandas as pd\n",
    "import numpy as np\n",
    "import matplotlib.pyplot as plt\n",
    "from datetime import datetime\n",
    "%matplotlib inline\n",
    "plt.style.use('ggplot')\n",
    "from impala.dbapi import connect\n",
    "import warnings\n",
    "warnings.filterwarnings('ignore')\n",
    "pd.set_option('max_colwidth',1000)\n",
    "from matplotlib.font_manager import FontProperties\n",
    "chinese = FontProperties(fname = 'C:/Windows/Fonts/msyh.ttc')\n",
    "plt.rcParams['font.sans-serif'] = [u'SimHei']\n",
    "plt.rcParams['axes.unicode_minus'] = False"
   ]
  },
  {
   "cell_type": "code",
   "execution_count": 2,
   "metadata": {},
   "outputs": [],
   "source": [
    "# 查询所有字段\n",
    "def list_col(localhost,database, port,tabls_name):\n",
    "    db = connect(localhost,port,database)\n",
    "    cursor = db.cursor()\n",
    "    cursor.execute(\"select * from %s\" % tabls_name)\n",
    "    col_name_list = [tuple[0] for tuple in cursor.description]\n",
    "    db.close()\n",
    "    return col_name_list"
   ]
  },
  {
   "cell_type": "code",
   "execution_count": 3,
   "metadata": {},
   "outputs": [],
   "source": [
    "# 列出所有的表\n",
    "def list_table(localhost,database,port):\n",
    "    db = connect(localhost,database,port)\n",
    "    cursor = db.cursor()\n",
    "    cursor.execute(\"show tables\")\n",
    "    table_list = [tuple[0] for tuple in cursor.fetchall()]\n",
    "    db.close()\n",
    "    return table_list"
   ]
  },
  {
   "cell_type": "code",
   "execution_count": 4,
   "metadata": {},
   "outputs": [],
   "source": [
    "port = 21050\n",
    "localhost = \"172.22.210.29\" # 连接地址\n",
    "database = \"bigtables\" # 数据库名\n",
    "tabls_name = \"shop_order\""
   ]
  },
  {
   "cell_type": "code",
   "execution_count": 5,
   "metadata": {},
   "outputs": [],
   "source": [
    "columns = list_col(localhost,database, port,tabls_name)"
   ]
  },
  {
   "cell_type": "code",
   "execution_count": 6,
   "metadata": {},
   "outputs": [],
   "source": [
    "conn = connect(host=\"172.22.210.29\",port =21050 , database = \"bigtables\",timeout=3600 )\n",
    "cur_data = conn.cursor()\n",
    "cur_data.execute('''SELECT * from shop_order;''')"
   ]
  },
  {
   "cell_type": "code",
   "execution_count": null,
   "metadata": {},
   "outputs": [],
   "source": []
  }
 ],
 "metadata": {
  "kernelspec": {
   "display_name": "Python 3",
   "language": "python",
   "name": "python3"
  },
  "language_info": {
   "codemirror_mode": {
    "name": "ipython",
    "version": 3
   },
   "file_extension": ".py",
   "mimetype": "text/x-python",
   "name": "python",
   "nbconvert_exporter": "python",
   "pygments_lexer": "ipython3",
   "version": "3.6.5"
  }
 },
 "nbformat": 4,
 "nbformat_minor": 2
}
