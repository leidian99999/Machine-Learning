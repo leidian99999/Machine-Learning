{
 "cells": [
  {
   "cell_type": "code",
   "execution_count": 1,
   "metadata": {},
   "outputs": [],
   "source": [
    "import pandas as pd\n",
    "import numpy as np\n",
    "import matplotlib.pyplot as plt \n",
    "import seaborn as sns"
   ]
  },
  {
   "cell_type": "markdown",
   "metadata": {},
   "source": [
    "银行流水记录bank_detail.txt。共5个字段，其中，第2个字段，时间戳为0表示时间未知；第3个字段，交易类型有两个值，1表示支出、0表示收入；第5个字段，工资收入标记为1时，表示工资收入。"
   ]
  },
  {
   "cell_type": "code",
   "execution_count": 2,
   "metadata": {},
   "outputs": [
    {
     "data": {
      "text/html": [
       "<div>\n",
       "<style scoped>\n",
       "    .dataframe tbody tr th:only-of-type {\n",
       "        vertical-align: middle;\n",
       "    }\n",
       "\n",
       "    .dataframe tbody tr th {\n",
       "        vertical-align: top;\n",
       "    }\n",
       "\n",
       "    .dataframe thead th {\n",
       "        text-align: right;\n",
       "    }\n",
       "</style>\n",
       "<table border=\"1\" class=\"dataframe\">\n",
       "  <thead>\n",
       "    <tr style=\"text-align: right;\">\n",
       "      <th></th>\n",
       "      <th>user_id</th>\n",
       "      <th>time</th>\n",
       "      <th>loan_type</th>\n",
       "      <th>loan_amount</th>\n",
       "      <th>income</th>\n",
       "    </tr>\n",
       "  </thead>\n",
       "  <tbody>\n",
       "    <tr>\n",
       "      <th>0</th>\n",
       "      <td>6965</td>\n",
       "      <td>5894316387</td>\n",
       "      <td>0</td>\n",
       "      <td>13.756664</td>\n",
       "      <td>0</td>\n",
       "    </tr>\n",
       "    <tr>\n",
       "      <th>1</th>\n",
       "      <td>6965</td>\n",
       "      <td>5894321388</td>\n",
       "      <td>1</td>\n",
       "      <td>13.756664</td>\n",
       "      <td>0</td>\n",
       "    </tr>\n",
       "    <tr>\n",
       "      <th>2</th>\n",
       "      <td>6965</td>\n",
       "      <td>5897553564</td>\n",
       "      <td>0</td>\n",
       "      <td>14.449810</td>\n",
       "      <td>0</td>\n",
       "    </tr>\n",
       "    <tr>\n",
       "      <th>3</th>\n",
       "      <td>6965</td>\n",
       "      <td>5897563463</td>\n",
       "      <td>1</td>\n",
       "      <td>10.527763</td>\n",
       "      <td>0</td>\n",
       "    </tr>\n",
       "    <tr>\n",
       "      <th>4</th>\n",
       "      <td>6965</td>\n",
       "      <td>5897564598</td>\n",
       "      <td>1</td>\n",
       "      <td>13.651303</td>\n",
       "      <td>0</td>\n",
       "    </tr>\n",
       "  </tbody>\n",
       "</table>\n",
       "</div>"
      ],
      "text/plain": [
       "   user_id        time  loan_type  loan_amount  income\n",
       "0     6965  5894316387          0    13.756664       0\n",
       "1     6965  5894321388          1    13.756664       0\n",
       "2     6965  5897553564          0    14.449810       0\n",
       "3     6965  5897563463          1    10.527763       0\n",
       "4     6965  5897564598          1    13.651303       0"
      ]
     },
     "execution_count": 2,
     "metadata": {},
     "output_type": "execute_result"
    }
   ],
   "source": [
    "# 银行流水记录表 bank_detail_train.txt\n",
    "colmun_bank = [\"user_id\",\"time\",\"loan_type\",\"loan_amount\",\"income\"]\n",
    "df_bank_train = pd.read_table(r\"E:\\datasets\\rong360_loan\\train\\bank_detail_train.txt\",sep=',',names=colmun_bank)\n",
    "df_bank_train.head()"
   ]
  },
  {
   "cell_type": "code",
   "execution_count": 3,
   "metadata": {},
   "outputs": [
    {
     "data": {
      "text/html": [
       "<div>\n",
       "<style scoped>\n",
       "    .dataframe tbody tr th:only-of-type {\n",
       "        vertical-align: middle;\n",
       "    }\n",
       "\n",
       "    .dataframe tbody tr th {\n",
       "        vertical-align: top;\n",
       "    }\n",
       "\n",
       "    .dataframe thead th {\n",
       "        text-align: right;\n",
       "    }\n",
       "</style>\n",
       "<table border=\"1\" class=\"dataframe\">\n",
       "  <thead>\n",
       "    <tr style=\"text-align: right;\">\n",
       "      <th></th>\n",
       "      <th>user_id</th>\n",
       "      <th>time</th>\n",
       "      <th>bank_id</th>\n",
       "      <th>last_bill_amount</th>\n",
       "      <th>last_repay_amount</th>\n",
       "      <th>credit_amount</th>\n",
       "      <th>cur_bill_bal</th>\n",
       "      <th>cur_bill_minrepay</th>\n",
       "      <th>cons_num</th>\n",
       "      <th>cur_bill_amount</th>\n",
       "      <th>adjust_amount</th>\n",
       "      <th>cyclic_accr</th>\n",
       "      <th>avail_bal</th>\n",
       "      <th>borrow_cash</th>\n",
       "      <th>repay_status</th>\n",
       "    </tr>\n",
       "  </thead>\n",
       "  <tbody>\n",
       "    <tr>\n",
       "      <th>0</th>\n",
       "      <td>3150</td>\n",
       "      <td>5906744363</td>\n",
       "      <td>6</td>\n",
       "      <td>18.626118</td>\n",
       "      <td>18.661937</td>\n",
       "      <td>20.664418</td>\n",
       "      <td>18.905766</td>\n",
       "      <td>17.847133</td>\n",
       "      <td>1</td>\n",
       "      <td>0.0</td>\n",
       "      <td>0.0</td>\n",
       "      <td>0.0</td>\n",
       "      <td>0.0</td>\n",
       "      <td>19.971271</td>\n",
       "      <td>0</td>\n",
       "    </tr>\n",
       "    <tr>\n",
       "      <th>1</th>\n",
       "      <td>3150</td>\n",
       "      <td>5906744401</td>\n",
       "      <td>6</td>\n",
       "      <td>18.905766</td>\n",
       "      <td>18.909954</td>\n",
       "      <td>20.664418</td>\n",
       "      <td>19.113305</td>\n",
       "      <td>17.911506</td>\n",
       "      <td>1</td>\n",
       "      <td>0.0</td>\n",
       "      <td>0.0</td>\n",
       "      <td>0.0</td>\n",
       "      <td>0.0</td>\n",
       "      <td>19.971271</td>\n",
       "      <td>0</td>\n",
       "    </tr>\n",
       "    <tr>\n",
       "      <th>2</th>\n",
       "      <td>3150</td>\n",
       "      <td>5906744427</td>\n",
       "      <td>6</td>\n",
       "      <td>19.113305</td>\n",
       "      <td>19.150290</td>\n",
       "      <td>20.664418</td>\n",
       "      <td>19.300194</td>\n",
       "      <td>17.977610</td>\n",
       "      <td>1</td>\n",
       "      <td>0.0</td>\n",
       "      <td>0.0</td>\n",
       "      <td>0.0</td>\n",
       "      <td>0.0</td>\n",
       "      <td>19.971271</td>\n",
       "      <td>0</td>\n",
       "    </tr>\n",
       "    <tr>\n",
       "      <th>3</th>\n",
       "      <td>3150</td>\n",
       "      <td>5906744515</td>\n",
       "      <td>6</td>\n",
       "      <td>19.300194</td>\n",
       "      <td>19.300280</td>\n",
       "      <td>21.000890</td>\n",
       "      <td>20.303240</td>\n",
       "      <td>18.477177</td>\n",
       "      <td>1</td>\n",
       "      <td>0.0</td>\n",
       "      <td>0.0</td>\n",
       "      <td>0.0</td>\n",
       "      <td>0.0</td>\n",
       "      <td>20.307743</td>\n",
       "      <td>0</td>\n",
       "    </tr>\n",
       "    <tr>\n",
       "      <th>4</th>\n",
       "      <td>3150</td>\n",
       "      <td>5906744562</td>\n",
       "      <td>6</td>\n",
       "      <td>20.303240</td>\n",
       "      <td>20.307744</td>\n",
       "      <td>21.000890</td>\n",
       "      <td>20.357134</td>\n",
       "      <td>18.510985</td>\n",
       "      <td>1</td>\n",
       "      <td>0.0</td>\n",
       "      <td>0.0</td>\n",
       "      <td>0.0</td>\n",
       "      <td>0.0</td>\n",
       "      <td>20.307743</td>\n",
       "      <td>0</td>\n",
       "    </tr>\n",
       "  </tbody>\n",
       "</table>\n",
       "</div>"
      ],
      "text/plain": [
       "   user_id        time  bank_id  last_bill_amount  last_repay_amount  \\\n",
       "0     3150  5906744363        6         18.626118          18.661937   \n",
       "1     3150  5906744401        6         18.905766          18.909954   \n",
       "2     3150  5906744427        6         19.113305          19.150290   \n",
       "3     3150  5906744515        6         19.300194          19.300280   \n",
       "4     3150  5906744562        6         20.303240          20.307744   \n",
       "\n",
       "   credit_amount  cur_bill_bal  cur_bill_minrepay  cons_num  cur_bill_amount  \\\n",
       "0      20.664418     18.905766          17.847133         1              0.0   \n",
       "1      20.664418     19.113305          17.911506         1              0.0   \n",
       "2      20.664418     19.300194          17.977610         1              0.0   \n",
       "3      21.000890     20.303240          18.477177         1              0.0   \n",
       "4      21.000890     20.357134          18.510985         1              0.0   \n",
       "\n",
       "   adjust_amount  cyclic_accr  avail_bal  borrow_cash  repay_status  \n",
       "0            0.0          0.0        0.0    19.971271             0  \n",
       "1            0.0          0.0        0.0    19.971271             0  \n",
       "2            0.0          0.0        0.0    19.971271             0  \n",
       "3            0.0          0.0        0.0    20.307743             0  \n",
       "4            0.0          0.0        0.0    20.307743             0  "
      ]
     },
     "execution_count": 3,
     "metadata": {},
     "output_type": "execute_result"
    }
   ],
   "source": [
    "# 信用卡账单记录bill_detail.txt\n",
    "columns_bill = ['user_id','time','bank_id','last_bill_amount','last_repay_amount','credit_amount','cur_bill_bal','cur_bill_minrepay','cons_num','cur_bill_amount','adjust_amount','cyclic_accr','avail_bal','borrow_cash','repay_status']\n",
    "df_bill_train = pd.read_table(r\"E:\\datasets\\rong360_loan\\train\\bill_detail_train.txt\",sep=',',names=columns_bill)\n",
    "df_bill_train.head()"
   ]
  },
  {
   "cell_type": "code",
   "execution_count": 4,
   "metadata": {},
   "outputs": [
    {
     "data": {
      "text/html": [
       "<div>\n",
       "<style scoped>\n",
       "    .dataframe tbody tr th:only-of-type {\n",
       "        vertical-align: middle;\n",
       "    }\n",
       "\n",
       "    .dataframe tbody tr th {\n",
       "        vertical-align: top;\n",
       "    }\n",
       "\n",
       "    .dataframe thead th {\n",
       "        text-align: right;\n",
       "    }\n",
       "</style>\n",
       "<table border=\"1\" class=\"dataframe\">\n",
       "  <thead>\n",
       "    <tr style=\"text-align: right;\">\n",
       "      <th></th>\n",
       "      <th>user_id</th>\n",
       "      <th>time</th>\n",
       "      <th>brows_beh</th>\n",
       "      <th>brows_num</th>\n",
       "    </tr>\n",
       "  </thead>\n",
       "  <tbody>\n",
       "    <tr>\n",
       "      <th>0</th>\n",
       "      <td>34801</td>\n",
       "      <td>5926003545</td>\n",
       "      <td>173</td>\n",
       "      <td>1</td>\n",
       "    </tr>\n",
       "    <tr>\n",
       "      <th>1</th>\n",
       "      <td>34801</td>\n",
       "      <td>5926003545</td>\n",
       "      <td>164</td>\n",
       "      <td>4</td>\n",
       "    </tr>\n",
       "    <tr>\n",
       "      <th>2</th>\n",
       "      <td>34801</td>\n",
       "      <td>5926003545</td>\n",
       "      <td>38</td>\n",
       "      <td>7</td>\n",
       "    </tr>\n",
       "    <tr>\n",
       "      <th>3</th>\n",
       "      <td>34801</td>\n",
       "      <td>5926003545</td>\n",
       "      <td>45</td>\n",
       "      <td>1</td>\n",
       "    </tr>\n",
       "    <tr>\n",
       "      <th>4</th>\n",
       "      <td>34801</td>\n",
       "      <td>5926003545</td>\n",
       "      <td>110</td>\n",
       "      <td>7</td>\n",
       "    </tr>\n",
       "  </tbody>\n",
       "</table>\n",
       "</div>"
      ],
      "text/plain": [
       "   user_id        time  brows_beh  brows_num\n",
       "0    34801  5926003545        173          1\n",
       "1    34801  5926003545        164          4\n",
       "2    34801  5926003545         38          7\n",
       "3    34801  5926003545         45          1\n",
       "4    34801  5926003545        110          7"
      ]
     },
     "execution_count": 4,
     "metadata": {},
     "output_type": "execute_result"
    }
   ],
   "source": [
    "# 用户浏览行为 browse_history.txt\n",
    "columns_browse = ['user_id','time','brows_beh','brows_num']\n",
    "df_browse_train = pd.read_table(r\"E:\\datasets\\rong360_loan\\train\\browse_history_train.txt\",sep=',',names=columns_browse)\n",
    "df_browse_train.head()"
   ]
  },
  {
   "cell_type": "code",
   "execution_count": 5,
   "metadata": {},
   "outputs": [
    {
     "data": {
      "text/html": [
       "<div>\n",
       "<style scoped>\n",
       "    .dataframe tbody tr th:only-of-type {\n",
       "        vertical-align: middle;\n",
       "    }\n",
       "\n",
       "    .dataframe tbody tr th {\n",
       "        vertical-align: top;\n",
       "    }\n",
       "\n",
       "    .dataframe thead th {\n",
       "        text-align: right;\n",
       "    }\n",
       "</style>\n",
       "<table border=\"1\" class=\"dataframe\">\n",
       "  <thead>\n",
       "    <tr style=\"text-align: right;\">\n",
       "      <th></th>\n",
       "      <th>user_id</th>\n",
       "      <th>time</th>\n",
       "    </tr>\n",
       "  </thead>\n",
       "  <tbody>\n",
       "    <tr>\n",
       "      <th>0</th>\n",
       "      <td>1</td>\n",
       "      <td>5914855887</td>\n",
       "    </tr>\n",
       "    <tr>\n",
       "      <th>1</th>\n",
       "      <td>2</td>\n",
       "      <td>5914855887</td>\n",
       "    </tr>\n",
       "    <tr>\n",
       "      <th>2</th>\n",
       "      <td>3</td>\n",
       "      <td>5914855887</td>\n",
       "    </tr>\n",
       "    <tr>\n",
       "      <th>3</th>\n",
       "      <td>4</td>\n",
       "      <td>5914855887</td>\n",
       "    </tr>\n",
       "    <tr>\n",
       "      <th>4</th>\n",
       "      <td>5</td>\n",
       "      <td>5914855887</td>\n",
       "    </tr>\n",
       "  </tbody>\n",
       "</table>\n",
       "</div>"
      ],
      "text/plain": [
       "   user_id        time\n",
       "0        1  5914855887\n",
       "1        2  5914855887\n",
       "2        3  5914855887\n",
       "3        4  5914855887\n",
       "4        5  5914855887"
      ]
     },
     "execution_count": 5,
     "metadata": {},
     "output_type": "execute_result"
    }
   ],
   "source": [
    "# 放款时间信息loan_time.txt\n",
    "columns_loanTime = ['user_id','time']\n",
    "df_loanTime_train = pd.read_table(r\"E:\\datasets\\rong360_loan\\train\\loan_time_train.txt\",sep=',',names=columns_loanTime)\n",
    "df_loanTime_train.head()"
   ]
  },
  {
   "cell_type": "code",
   "execution_count": 6,
   "metadata": {},
   "outputs": [
    {
     "data": {
      "text/html": [
       "<div>\n",
       "<style scoped>\n",
       "    .dataframe tbody tr th:only-of-type {\n",
       "        vertical-align: middle;\n",
       "    }\n",
       "\n",
       "    .dataframe tbody tr th {\n",
       "        vertical-align: top;\n",
       "    }\n",
       "\n",
       "    .dataframe thead th {\n",
       "        text-align: right;\n",
       "    }\n",
       "</style>\n",
       "<table border=\"1\" class=\"dataframe\">\n",
       "  <thead>\n",
       "    <tr style=\"text-align: right;\">\n",
       "      <th></th>\n",
       "      <th>user_id</th>\n",
       "      <th>overdue</th>\n",
       "    </tr>\n",
       "  </thead>\n",
       "  <tbody>\n",
       "    <tr>\n",
       "      <th>0</th>\n",
       "      <td>1</td>\n",
       "      <td>0</td>\n",
       "    </tr>\n",
       "    <tr>\n",
       "      <th>1</th>\n",
       "      <td>2</td>\n",
       "      <td>0</td>\n",
       "    </tr>\n",
       "    <tr>\n",
       "      <th>2</th>\n",
       "      <td>3</td>\n",
       "      <td>0</td>\n",
       "    </tr>\n",
       "    <tr>\n",
       "      <th>3</th>\n",
       "      <td>4</td>\n",
       "      <td>1</td>\n",
       "    </tr>\n",
       "    <tr>\n",
       "      <th>4</th>\n",
       "      <td>5</td>\n",
       "      <td>0</td>\n",
       "    </tr>\n",
       "  </tbody>\n",
       "</table>\n",
       "</div>"
      ],
      "text/plain": [
       "   user_id  overdue\n",
       "0        1        0\n",
       "1        2        0\n",
       "2        3        0\n",
       "3        4        1\n",
       "4        5        0"
      ]
     },
     "execution_count": 6,
     "metadata": {},
     "output_type": "execute_result"
    }
   ],
   "source": [
    "# 顾客是否发生逾期行为的记录overdue.txt\n",
    "columns_overdue = ['user_id','overdue']\n",
    "df_overdue_train = pd.read_table(r\"E:\\datasets\\rong360_loan\\train\\overdue_train.txt\",sep=',',names=columns_overdue)\n",
    "df_overdue_train.head()"
   ]
  },
  {
   "cell_type": "code",
   "execution_count": 7,
   "metadata": {},
   "outputs": [
    {
     "data": {
      "text/html": [
       "<div>\n",
       "<style scoped>\n",
       "    .dataframe tbody tr th:only-of-type {\n",
       "        vertical-align: middle;\n",
       "    }\n",
       "\n",
       "    .dataframe tbody tr th {\n",
       "        vertical-align: top;\n",
       "    }\n",
       "\n",
       "    .dataframe thead th {\n",
       "        text-align: right;\n",
       "    }\n",
       "</style>\n",
       "<table border=\"1\" class=\"dataframe\">\n",
       "  <thead>\n",
       "    <tr style=\"text-align: right;\">\n",
       "      <th></th>\n",
       "      <th>user_id</th>\n",
       "      <th>sex</th>\n",
       "      <th>job</th>\n",
       "      <th>eduction</th>\n",
       "      <th>marriage</th>\n",
       "      <th>residence</th>\n",
       "    </tr>\n",
       "  </thead>\n",
       "  <tbody>\n",
       "    <tr>\n",
       "      <th>0</th>\n",
       "      <td>3150</td>\n",
       "      <td>1</td>\n",
       "      <td>2</td>\n",
       "      <td>4</td>\n",
       "      <td>1</td>\n",
       "      <td>4</td>\n",
       "    </tr>\n",
       "    <tr>\n",
       "      <th>1</th>\n",
       "      <td>6965</td>\n",
       "      <td>1</td>\n",
       "      <td>2</td>\n",
       "      <td>4</td>\n",
       "      <td>3</td>\n",
       "      <td>2</td>\n",
       "    </tr>\n",
       "    <tr>\n",
       "      <th>2</th>\n",
       "      <td>1265</td>\n",
       "      <td>1</td>\n",
       "      <td>3</td>\n",
       "      <td>4</td>\n",
       "      <td>3</td>\n",
       "      <td>1</td>\n",
       "    </tr>\n",
       "    <tr>\n",
       "      <th>3</th>\n",
       "      <td>6360</td>\n",
       "      <td>1</td>\n",
       "      <td>2</td>\n",
       "      <td>4</td>\n",
       "      <td>3</td>\n",
       "      <td>2</td>\n",
       "    </tr>\n",
       "    <tr>\n",
       "      <th>4</th>\n",
       "      <td>2583</td>\n",
       "      <td>2</td>\n",
       "      <td>2</td>\n",
       "      <td>2</td>\n",
       "      <td>1</td>\n",
       "      <td>1</td>\n",
       "    </tr>\n",
       "  </tbody>\n",
       "</table>\n",
       "</div>"
      ],
      "text/plain": [
       "   user_id  sex  job  eduction  marriage  residence\n",
       "0     3150    1    2         4         1          4\n",
       "1     6965    1    2         4         3          2\n",
       "2     1265    1    3         4         3          1\n",
       "3     6360    1    2         4         3          2\n",
       "4     2583    2    2         2         1          1"
      ]
     },
     "execution_count": 7,
     "metadata": {},
     "output_type": "execute_result"
    }
   ],
   "source": [
    "# 用户基本属性表 user_info_train.txt\n",
    "columns_userinfo = ['user_id','sex','job','eduction','marriage','residence']\n",
    "df_userinfo_train = pd.read_table(r\"E:\\datasets\\rong360_loan\\train\\user_info_train.txt\",sep=',',names=columns_userinfo)\n",
    "df_userinfo_train.head()"
   ]
  },
  {
   "cell_type": "code",
   "execution_count": null,
   "metadata": {},
   "outputs": [],
   "source": []
  },
  {
   "cell_type": "code",
   "execution_count": 8,
   "metadata": {},
   "outputs": [
    {
     "name": "stdout",
     "output_type": "stream",
     "text": [
      "df_bank_train:\n",
      "user_id        0\n",
      "time           0\n",
      "loan_type      0\n",
      "loan_amount    0\n",
      "income         0\n",
      "dtype: int64\n",
      "******************************\n",
      "df_bill_train:\n",
      "user_id              0\n",
      "time                 0\n",
      "bank_id              0\n",
      "last_bill_amount     0\n",
      "last_repay_amount    0\n",
      "credit_amount        0\n",
      "cur_bill_bal         0\n",
      "cur_bill_minrepay    0\n",
      "cons_num             0\n",
      "cur_bill_amount      0\n",
      "adjust_amount        0\n",
      "cyclic_accr          0\n",
      "avail_bal            0\n",
      "borrow_cash          0\n",
      "repay_status         0\n",
      "dtype: int64\n",
      "******************************\n",
      "df_browse_train:\n",
      "user_id      0\n",
      "time         0\n",
      "brows_beh    0\n",
      "brows_num    0\n",
      "dtype: int64\n",
      "******************************\n",
      "df_loanTime_train:\n",
      "user_id    0\n",
      "time       0\n",
      "dtype: int64\n",
      "******************************\n",
      "df_overdue_train:\n",
      "user_id    0\n",
      "overdue    0\n",
      "dtype: int64\n",
      "******************************\n",
      "df_userinfo_train:\n",
      "user_id      0\n",
      "sex          0\n",
      "job          0\n",
      "eduction     0\n",
      "marriage     0\n",
      "residence    0\n",
      "dtype: int64\n"
     ]
    }
   ],
   "source": [
    "# 查看缺失值\n",
    "print(\"df_bank_train:\")\n",
    "print(df_bank_train.isnull().sum())\n",
    "print(\"*\"*30)\n",
    "print(\"df_bill_train:\")\n",
    "print(df_bill_train.isnull().sum())\n",
    "print(\"*\"*30)\n",
    "print(\"df_browse_train:\")\n",
    "print(df_browse_train.isnull().sum())\n",
    "print(\"*\"*30)\n",
    "print(\"df_loanTime_train:\")\n",
    "print(df_loanTime_train.isnull().sum())\n",
    "print(\"*\"*30)\n",
    "print(\"df_overdue_train:\")\n",
    "print(df_overdue_train.isnull().sum())\n",
    "print(\"*\"*30)\n",
    "print(\"df_userinfo_train:\")\n",
    "print(df_userinfo_train.isnull().sum())"
   ]
  },
  {
   "cell_type": "code",
   "execution_count": 9,
   "metadata": {},
   "outputs": [
    {
     "name": "stdout",
     "output_type": "stream",
     "text": [
      "df_bank_train:(6070197, 5)\n",
      "df_bill_train:(2338118, 15)\n",
      "df_browse_train:(22919547, 4)\n",
      "df_loanTime_train(55596, 2)\n",
      "df_overdue_train(55596, 2)\n",
      "df_userinfo_train:(55596, 6)\n"
     ]
    }
   ],
   "source": [
    "# 查看数据集行列数\n",
    "print(\"df_bank_train:\" + str(df_bank_train.shape))\n",
    "print(\"df_bill_train:\" + str(df_bill_train.shape))\n",
    "print(\"df_browse_train:\" + str(df_browse_train.shape))\n",
    "print(\"df_loanTime_train\" + str(df_loanTime_train.shape))\n",
    "print(\"df_overdue_train\" + str(df_overdue_train.shape))\n",
    "print(\"df_userinfo_train:\" + str(df_userinfo_train.shape))\n"
   ]
  },
  {
   "cell_type": "code",
   "execution_count": 10,
   "metadata": {},
   "outputs": [
    {
     "name": "stdout",
     "output_type": "stream",
     "text": [
      "df_bank_train:9294\n",
      "df_bill_train:53174\n",
      "df_browse_train:47330\n",
      "df_loanTime_train:55596\n",
      "df_overdue_train:55596\n",
      "df_userinfo_train:55596\n"
     ]
    }
   ],
   "source": [
    "# 查看用户数\n",
    "print(\"df_bank_train:\" + str(len(df_bank_train.user_id.unique())))\n",
    "print(\"df_bill_train:\" + str(len(df_bill_train.user_id.unique())))\n",
    "print(\"df_browse_train:\" + str(len(df_browse_train.user_id.unique())))\n",
    "print(\"df_loanTime_train:\" + str(len(df_loanTime_train.user_id.unique())))\n",
    "print(\"df_overdue_train:\" + str(len(df_overdue_train.user_id.unique())))\n",
    "print(\"df_userinfo_train:\" + str(len(df_userinfo_train.user_id.unique())))"
   ]
  },
  {
   "cell_type": "code",
   "execution_count": 11,
   "metadata": {},
   "outputs": [
    {
     "name": "stdout",
     "output_type": "stream",
     "text": [
      "<class 'pandas.core.frame.DataFrame'>\n",
      "Int64Index: 9271 entries, 0 to 6069672\n",
      "Data columns (total 1 columns):\n",
      "user_id    9271 non-null int64\n",
      "dtypes: int64(1)\n",
      "memory usage: 144.9 KB\n"
     ]
    }
   ],
   "source": [
    "# 筛选有银行流水的放款用户的用户id\n",
    "df_bankId = pd.merge(df_bank_train,df_loanTime_train,how=\"left\",on=\"user_id\")\n",
    "\n",
    "# 筛选出流水时间 < 放款时间的记录\n",
    "df_bankId = df_bankId[(df_bankId[\"time_x\"] <= df_bankId[\"time_y\"])]\n",
    "\n",
    "# 筛选出有银行流水且放款前的用户id并去重\n",
    "bank_user = df_bankId[[\"user_id\"]]\n",
    "bank_user = bank_user.drop_duplicates(subset=\"user_id\",keep='first')\n",
    "bank_user.info()"
   ]
  },
  {
   "cell_type": "code",
   "execution_count": 12,
   "metadata": {},
   "outputs": [
    {
     "name": "stdout",
     "output_type": "stream",
     "text": [
      "<class 'pandas.core.frame.DataFrame'>\n",
      "Int64Index: 46739 entries, 0 to 2338115\n",
      "Data columns (total 1 columns):\n",
      "user_id    46739 non-null int64\n",
      "dtypes: int64(1)\n",
      "memory usage: 730.3 KB\n"
     ]
    }
   ],
   "source": [
    "# 筛选出账单记录表的放款用户的用户id\n",
    "df_billId = pd.merge(df_bill_train,df_loanTime_train,how=\"left\",on=\"user_id\")\n",
    "\n",
    "# 筛选出流水时间 < 放款时间的记录\n",
    "df_billId = df_billId[(df_billId[\"time_x\"] <= df_billId[\"time_y\"])]\n",
    "\n",
    "# 筛选出有银行流水且放款前的用户id并去重\n",
    "bill_user = df_billId[[\"user_id\"]]\n",
    "bill_user = bill_user.drop_duplicates(subset=\"user_id\",keep='first')\n",
    "bill_user.info()"
   ]
  },
  {
   "cell_type": "code",
   "execution_count": 13,
   "metadata": {},
   "outputs": [
    {
     "name": "stdout",
     "output_type": "stream",
     "text": [
      "<class 'pandas.core.frame.DataFrame'>\n",
      "Int64Index: 44945 entries, 0 to 22919430\n",
      "Data columns (total 1 columns):\n",
      "user_id    44945 non-null int64\n",
      "dtypes: int64(1)\n",
      "memory usage: 702.3 KB\n"
     ]
    }
   ],
   "source": [
    "# 筛选出用户浏览表的放款用户的用户id\n",
    "df_browserId = pd.merge(df_browse_train,df_loanTime_train,how=\"left\",on=\"user_id\")\n",
    "\n",
    "# 筛选出流水时间 < 放款时间的记录\n",
    "df_browserId = df_browserId[(df_browserId[\"time_x\"] <= df_browserId[\"time_y\"])]\n",
    "\n",
    "# 筛选出有浏览且放款前的用户id并去重\n",
    "browser_user = df_browserId[[\"user_id\"]]\n",
    "browser_user = browser_user.drop_duplicates(subset=\"user_id\",keep='first')\n",
    "browser_user.info()"
   ]
  },
  {
   "cell_type": "code",
   "execution_count": 14,
   "metadata": {},
   "outputs": [],
   "source": [
    "# 筛选出以上三张表中共有id\n",
    "user = pd.merge(pd.merge(bank_user,bill_user,how=\"inner\",on=\"user_id\"),browser_user, how = \"inner\",on = \"user_id\")\n",
    "\n",
    "user.info()\n",
    "# 得出5735个用户的记录是完整的。然后通过这5735个id筛选每张表的记录，并进行字段预处理。"
   ]
  },
  {
   "cell_type": "markdown",
   "metadata": {},
   "source": [
    "#### (1)银行记录表\n",
    "先筛选出id在‘user’中的记录，根据收入，支出以及工资这三个字段的交易类型进行筛选，并按id进行分组统计，每个分组中生成新的变量。"
   ]
  },
  {
   "cell_type": "code",
   "execution_count": 16,
   "metadata": {},
   "outputs": [],
   "source": [
    "bank_slced = pd.merge(df_bank_train, user,how=\"inner\",on=\"user_id\")"
   ]
  },
  {
   "cell_type": "code",
   "execution_count": 17,
   "metadata": {},
   "outputs": [
    {
     "name": "stdout",
     "output_type": "stream",
     "text": [
      "<class 'pandas.core.frame.DataFrame'>\n",
      "Int64Index: 3865627 entries, 0 to 3865626\n",
      "Data columns (total 5 columns):\n",
      "user_id        int64\n",
      "time           int64\n",
      "loan_type      int64\n",
      "loan_amount    float64\n",
      "income         int64\n",
      "dtypes: float64(1), int64(4)\n",
      "memory usage: 177.0 MB\n"
     ]
    }
   ],
   "source": [
    "bank_slced.info()"
   ]
  },
  {
   "cell_type": "code",
   "execution_count": 18,
   "metadata": {},
   "outputs": [],
   "source": [
    "bank_slced[\"loan_amount\"] = bank_slced[\"loan_amount\"].map(lambda x:int(x))"
   ]
  },
  {
   "cell_type": "code",
   "execution_count": 19,
   "metadata": {},
   "outputs": [
    {
     "name": "stdout",
     "output_type": "stream",
     "text": [
      "<class 'pandas.core.frame.DataFrame'>\n",
      "Int64Index: 3865627 entries, 0 to 3865626\n",
      "Data columns (total 5 columns):\n",
      "user_id        int64\n",
      "time           int64\n",
      "loan_type      int64\n",
      "loan_amount    int64\n",
      "income         int64\n",
      "dtypes: int64(5)\n",
      "memory usage: 177.0 MB\n"
     ]
    }
   ],
   "source": [
    "bank_slced.info()"
   ]
  },
  {
   "cell_type": "code",
   "execution_count": 20,
   "metadata": {},
   "outputs": [],
   "source": [
    "b1 = bank_slced[(bank_slced['loan_type'] == 0)].groupby(['user_id'], as_index=False)  # 收入统计\n",
    "b2 = bank_slced[(bank_slced['loan_type'] == 1)].groupby(['user_id'], as_index=False)  # 支出统计\n",
    "b3 = bank_slced[(bank_slced['income'] == 1)].groupby(['user_id'], as_index=False)  # 工资收入统计"
   ]
  },
  {
   "cell_type": "code",
   "execution_count": 21,
   "metadata": {},
   "outputs": [],
   "source": [
    "# loan_amount：交易金额\n",
    "c1 = b1['loan_amount'].agg({'income_num': 'count', 'income_amount': 'sum'})  #三表共有用户在放款之前的收入次数和收入总额\n",
    "c2 = b2['loan_amount'].agg({'expend_num': 'count', 'expend_amount': 'sum'})  #支出次数和支出额\n",
    "c3 = b3['loan_amount'].agg({'wages_num' : 'count', 'wages_amount' : 'sum'})  #工资收入次数和工资收入额"
   ]
  },
  {
   "cell_type": "code",
   "execution_count": 22,
   "metadata": {},
   "outputs": [
    {
     "data": {
      "text/html": [
       "<div>\n",
       "<style scoped>\n",
       "    .dataframe tbody tr th:only-of-type {\n",
       "        vertical-align: middle;\n",
       "    }\n",
       "\n",
       "    .dataframe tbody tr th {\n",
       "        vertical-align: top;\n",
       "    }\n",
       "\n",
       "    .dataframe thead th {\n",
       "        text-align: right;\n",
       "    }\n",
       "</style>\n",
       "<table border=\"1\" class=\"dataframe\">\n",
       "  <thead>\n",
       "    <tr style=\"text-align: right;\">\n",
       "      <th></th>\n",
       "      <th>user_id</th>\n",
       "      <th>wages_num</th>\n",
       "      <th>wages_amount</th>\n",
       "    </tr>\n",
       "  </thead>\n",
       "  <tbody>\n",
       "    <tr>\n",
       "      <th>0</th>\n",
       "      <td>67</td>\n",
       "      <td>7</td>\n",
       "      <td>82</td>\n",
       "    </tr>\n",
       "    <tr>\n",
       "      <th>1</th>\n",
       "      <td>117</td>\n",
       "      <td>17</td>\n",
       "      <td>137</td>\n",
       "    </tr>\n",
       "    <tr>\n",
       "      <th>2</th>\n",
       "      <td>119</td>\n",
       "      <td>17</td>\n",
       "      <td>240</td>\n",
       "    </tr>\n",
       "    <tr>\n",
       "      <th>3</th>\n",
       "      <td>178</td>\n",
       "      <td>14</td>\n",
       "      <td>200</td>\n",
       "    </tr>\n",
       "    <tr>\n",
       "      <th>4</th>\n",
       "      <td>189</td>\n",
       "      <td>7</td>\n",
       "      <td>103</td>\n",
       "    </tr>\n",
       "  </tbody>\n",
       "</table>\n",
       "</div>"
      ],
      "text/plain": [
       "   user_id  wages_num  wages_amount\n",
       "0       67          7            82\n",
       "1      117         17           137\n",
       "2      119         17           240\n",
       "3      178         14           200\n",
       "4      189          7           103"
      ]
     },
     "execution_count": 22,
     "metadata": {},
     "output_type": "execute_result"
    }
   ],
   "source": [
    "c3.head()"
   ]
  },
  {
   "cell_type": "code",
   "execution_count": 23,
   "metadata": {},
   "outputs": [
    {
     "data": {
      "text/html": [
       "<div>\n",
       "<style scoped>\n",
       "    .dataframe tbody tr th:only-of-type {\n",
       "        vertical-align: middle;\n",
       "    }\n",
       "\n",
       "    .dataframe tbody tr th {\n",
       "        vertical-align: top;\n",
       "    }\n",
       "\n",
       "    .dataframe thead th {\n",
       "        text-align: right;\n",
       "    }\n",
       "</style>\n",
       "<table border=\"1\" class=\"dataframe\">\n",
       "  <thead>\n",
       "    <tr style=\"text-align: right;\">\n",
       "      <th></th>\n",
       "      <th>user_id</th>\n",
       "      <th>time</th>\n",
       "      <th>loan_type</th>\n",
       "      <th>loan_amount</th>\n",
       "      <th>income</th>\n",
       "    </tr>\n",
       "  </thead>\n",
       "  <tbody>\n",
       "    <tr>\n",
       "      <th>0</th>\n",
       "      <td>3</td>\n",
       "      <td>820019742693</td>\n",
       "      <td>0</td>\n",
       "      <td>2204</td>\n",
       "      <td>0</td>\n",
       "    </tr>\n",
       "    <tr>\n",
       "      <th>1</th>\n",
       "      <td>4</td>\n",
       "      <td>484040480334</td>\n",
       "      <td>0</td>\n",
       "      <td>1121</td>\n",
       "      <td>0</td>\n",
       "    </tr>\n",
       "    <tr>\n",
       "      <th>2</th>\n",
       "      <td>10</td>\n",
       "      <td>833642859267</td>\n",
       "      <td>0</td>\n",
       "      <td>1717</td>\n",
       "      <td>0</td>\n",
       "    </tr>\n",
       "    <tr>\n",
       "      <th>3</th>\n",
       "      <td>14</td>\n",
       "      <td>2720309258307</td>\n",
       "      <td>0</td>\n",
       "      <td>6632</td>\n",
       "      <td>0</td>\n",
       "    </tr>\n",
       "    <tr>\n",
       "      <th>4</th>\n",
       "      <td>16</td>\n",
       "      <td>206357701837</td>\n",
       "      <td>0</td>\n",
       "      <td>466</td>\n",
       "      <td>0</td>\n",
       "    </tr>\n",
       "  </tbody>\n",
       "</table>\n",
       "</div>"
      ],
      "text/plain": [
       "   user_id           time  loan_type  loan_amount  income\n",
       "0        3   820019742693          0         2204       0\n",
       "1        4   484040480334          0         1121       0\n",
       "2       10   833642859267          0         1717       0\n",
       "3       14  2720309258307          0         6632       0\n",
       "4       16   206357701837          0          466       0"
      ]
     },
     "execution_count": 23,
     "metadata": {},
     "output_type": "execute_result"
    }
   ],
   "source": [
    "b1.sum().head()"
   ]
  },
  {
   "cell_type": "code",
   "execution_count": 24,
   "metadata": {},
   "outputs": [],
   "source": [
    "d1 = pd.merge(bank_slced,c1,how = \"left\", on = \"user_id\")\n",
    "d1 = d1.fillna(0)\n",
    "d2 = pd.merge(bank_slced,c2,how = 'left',on='user_id')\n",
    "d2 = d2.fillna(0)\n",
    "d3 = pd.merge(bank_slced,c3,how = 'left',on='user_id')\n",
    "d3 = d3.fillna(0)"
   ]
  },
  {
   "cell_type": "code",
   "execution_count": 25,
   "metadata": {},
   "outputs": [
    {
     "data": {
      "text/html": [
       "<div>\n",
       "<style scoped>\n",
       "    .dataframe tbody tr th:only-of-type {\n",
       "        vertical-align: middle;\n",
       "    }\n",
       "\n",
       "    .dataframe tbody tr th {\n",
       "        vertical-align: top;\n",
       "    }\n",
       "\n",
       "    .dataframe thead th {\n",
       "        text-align: right;\n",
       "    }\n",
       "</style>\n",
       "<table border=\"1\" class=\"dataframe\">\n",
       "  <thead>\n",
       "    <tr style=\"text-align: right;\">\n",
       "      <th></th>\n",
       "      <th>user_id</th>\n",
       "      <th>time</th>\n",
       "      <th>loan_type</th>\n",
       "      <th>loan_amount</th>\n",
       "      <th>income</th>\n",
       "      <th>expend_num</th>\n",
       "      <th>expend_amount</th>\n",
       "    </tr>\n",
       "  </thead>\n",
       "  <tbody>\n",
       "    <tr>\n",
       "      <th>0</th>\n",
       "      <td>6965</td>\n",
       "      <td>5894316387</td>\n",
       "      <td>0</td>\n",
       "      <td>13</td>\n",
       "      <td>0</td>\n",
       "      <td>289.0</td>\n",
       "      <td>3106.0</td>\n",
       "    </tr>\n",
       "    <tr>\n",
       "      <th>1</th>\n",
       "      <td>6965</td>\n",
       "      <td>5894321388</td>\n",
       "      <td>1</td>\n",
       "      <td>13</td>\n",
       "      <td>0</td>\n",
       "      <td>289.0</td>\n",
       "      <td>3106.0</td>\n",
       "    </tr>\n",
       "    <tr>\n",
       "      <th>2</th>\n",
       "      <td>6965</td>\n",
       "      <td>5897553564</td>\n",
       "      <td>0</td>\n",
       "      <td>14</td>\n",
       "      <td>0</td>\n",
       "      <td>289.0</td>\n",
       "      <td>3106.0</td>\n",
       "    </tr>\n",
       "    <tr>\n",
       "      <th>3</th>\n",
       "      <td>6965</td>\n",
       "      <td>5897563463</td>\n",
       "      <td>1</td>\n",
       "      <td>10</td>\n",
       "      <td>0</td>\n",
       "      <td>289.0</td>\n",
       "      <td>3106.0</td>\n",
       "    </tr>\n",
       "    <tr>\n",
       "      <th>4</th>\n",
       "      <td>6965</td>\n",
       "      <td>5897564598</td>\n",
       "      <td>1</td>\n",
       "      <td>13</td>\n",
       "      <td>0</td>\n",
       "      <td>289.0</td>\n",
       "      <td>3106.0</td>\n",
       "    </tr>\n",
       "  </tbody>\n",
       "</table>\n",
       "</div>"
      ],
      "text/plain": [
       "   user_id        time  loan_type  loan_amount  income  expend_num  \\\n",
       "0     6965  5894316387          0           13       0       289.0   \n",
       "1     6965  5894321388          1           13       0       289.0   \n",
       "2     6965  5897553564          0           14       0       289.0   \n",
       "3     6965  5897563463          1           10       0       289.0   \n",
       "4     6965  5897564598          1           13       0       289.0   \n",
       "\n",
       "   expend_amount  \n",
       "0         3106.0  \n",
       "1         3106.0  \n",
       "2         3106.0  \n",
       "3         3106.0  \n",
       "4         3106.0  "
      ]
     },
     "execution_count": 25,
     "metadata": {},
     "output_type": "execute_result"
    }
   ],
   "source": [
    "d2.head()"
   ]
  },
  {
   "cell_type": "code",
   "execution_count": 45,
   "metadata": {},
   "outputs": [
    {
     "ename": "MemoryError",
     "evalue": "",
     "output_type": "error",
     "traceback": [
      "\u001b[1;31m---------------------------------------------------------------------------\u001b[0m",
      "\u001b[1;31mMemoryError\u001b[0m                               Traceback (most recent call last)",
      "\u001b[1;32m<ipython-input-45-2d287a5e804c>\u001b[0m in \u001b[0;36m<module>\u001b[1;34m()\u001b[0m\n\u001b[0;32m      1\u001b[0m \u001b[0mbank_train1\u001b[0m \u001b[1;33m=\u001b[0m \u001b[0md1\u001b[0m\u001b[1;33m.\u001b[0m\u001b[0mmerge\u001b[0m\u001b[1;33m(\u001b[0m\u001b[0md2\u001b[0m\u001b[1;33m)\u001b[0m\u001b[1;33m\u001b[0m\u001b[0m\n\u001b[0;32m      2\u001b[0m \u001b[1;33m\u001b[0m\u001b[0m\n\u001b[1;32m----> 3\u001b[1;33m \u001b[0mbank_train\u001b[0m \u001b[1;33m=\u001b[0m \u001b[0mbank_train1\u001b[0m\u001b[1;33m.\u001b[0m\u001b[0mmerge\u001b[0m\u001b[1;33m(\u001b[0m\u001b[0md3\u001b[0m\u001b[1;33m)\u001b[0m\u001b[1;33m\u001b[0m\u001b[0m\n\u001b[0m",
      "\u001b[1;32md:\\python\\envs\\jupyterpy36\\lib\\site-packages\\pandas\\core\\frame.py\u001b[0m in \u001b[0;36mmerge\u001b[1;34m(self, right, how, on, left_on, right_on, left_index, right_index, sort, suffixes, copy, indicator, validate)\u001b[0m\n\u001b[0;32m   6387\u001b[0m                      \u001b[0mright_on\u001b[0m\u001b[1;33m=\u001b[0m\u001b[0mright_on\u001b[0m\u001b[1;33m,\u001b[0m \u001b[0mleft_index\u001b[0m\u001b[1;33m=\u001b[0m\u001b[0mleft_index\u001b[0m\u001b[1;33m,\u001b[0m\u001b[1;33m\u001b[0m\u001b[0m\n\u001b[0;32m   6388\u001b[0m                      \u001b[0mright_index\u001b[0m\u001b[1;33m=\u001b[0m\u001b[0mright_index\u001b[0m\u001b[1;33m,\u001b[0m \u001b[0msort\u001b[0m\u001b[1;33m=\u001b[0m\u001b[0msort\u001b[0m\u001b[1;33m,\u001b[0m \u001b[0msuffixes\u001b[0m\u001b[1;33m=\u001b[0m\u001b[0msuffixes\u001b[0m\u001b[1;33m,\u001b[0m\u001b[1;33m\u001b[0m\u001b[0m\n\u001b[1;32m-> 6389\u001b[1;33m                      copy=copy, indicator=indicator, validate=validate)\n\u001b[0m\u001b[0;32m   6390\u001b[0m \u001b[1;33m\u001b[0m\u001b[0m\n\u001b[0;32m   6391\u001b[0m     \u001b[1;32mdef\u001b[0m \u001b[0mround\u001b[0m\u001b[1;33m(\u001b[0m\u001b[0mself\u001b[0m\u001b[1;33m,\u001b[0m \u001b[0mdecimals\u001b[0m\u001b[1;33m=\u001b[0m\u001b[1;36m0\u001b[0m\u001b[1;33m,\u001b[0m \u001b[1;33m*\u001b[0m\u001b[0margs\u001b[0m\u001b[1;33m,\u001b[0m \u001b[1;33m**\u001b[0m\u001b[0mkwargs\u001b[0m\u001b[1;33m)\u001b[0m\u001b[1;33m:\u001b[0m\u001b[1;33m\u001b[0m\u001b[0m\n",
      "\u001b[1;32md:\\python\\envs\\jupyterpy36\\lib\\site-packages\\pandas\\core\\reshape\\merge.py\u001b[0m in \u001b[0;36mmerge\u001b[1;34m(left, right, how, on, left_on, right_on, left_index, right_index, sort, suffixes, copy, indicator, validate)\u001b[0m\n\u001b[0;32m     60\u001b[0m                          \u001b[0mcopy\u001b[0m\u001b[1;33m=\u001b[0m\u001b[0mcopy\u001b[0m\u001b[1;33m,\u001b[0m \u001b[0mindicator\u001b[0m\u001b[1;33m=\u001b[0m\u001b[0mindicator\u001b[0m\u001b[1;33m,\u001b[0m\u001b[1;33m\u001b[0m\u001b[0m\n\u001b[0;32m     61\u001b[0m                          validate=validate)\n\u001b[1;32m---> 62\u001b[1;33m     \u001b[1;32mreturn\u001b[0m \u001b[0mop\u001b[0m\u001b[1;33m.\u001b[0m\u001b[0mget_result\u001b[0m\u001b[1;33m(\u001b[0m\u001b[1;33m)\u001b[0m\u001b[1;33m\u001b[0m\u001b[0m\n\u001b[0m\u001b[0;32m     63\u001b[0m \u001b[1;33m\u001b[0m\u001b[0m\n\u001b[0;32m     64\u001b[0m \u001b[1;33m\u001b[0m\u001b[0m\n",
      "\u001b[1;32md:\\python\\envs\\jupyterpy36\\lib\\site-packages\\pandas\\core\\reshape\\merge.py\u001b[0m in \u001b[0;36mget_result\u001b[1;34m(self)\u001b[0m\n\u001b[0;32m    566\u001b[0m                 self.left, self.right)\n\u001b[0;32m    567\u001b[0m \u001b[1;33m\u001b[0m\u001b[0m\n\u001b[1;32m--> 568\u001b[1;33m         \u001b[0mjoin_index\u001b[0m\u001b[1;33m,\u001b[0m \u001b[0mleft_indexer\u001b[0m\u001b[1;33m,\u001b[0m \u001b[0mright_indexer\u001b[0m \u001b[1;33m=\u001b[0m \u001b[0mself\u001b[0m\u001b[1;33m.\u001b[0m\u001b[0m_get_join_info\u001b[0m\u001b[1;33m(\u001b[0m\u001b[1;33m)\u001b[0m\u001b[1;33m\u001b[0m\u001b[0m\n\u001b[0m\u001b[0;32m    569\u001b[0m \u001b[1;33m\u001b[0m\u001b[0m\n\u001b[0;32m    570\u001b[0m         \u001b[0mldata\u001b[0m\u001b[1;33m,\u001b[0m \u001b[0mrdata\u001b[0m \u001b[1;33m=\u001b[0m \u001b[0mself\u001b[0m\u001b[1;33m.\u001b[0m\u001b[0mleft\u001b[0m\u001b[1;33m.\u001b[0m\u001b[0m_data\u001b[0m\u001b[1;33m,\u001b[0m \u001b[0mself\u001b[0m\u001b[1;33m.\u001b[0m\u001b[0mright\u001b[0m\u001b[1;33m.\u001b[0m\u001b[0m_data\u001b[0m\u001b[1;33m\u001b[0m\u001b[0m\n",
      "\u001b[1;32md:\\python\\envs\\jupyterpy36\\lib\\site-packages\\pandas\\core\\reshape\\merge.py\u001b[0m in \u001b[0;36m_get_join_info\u001b[1;34m(self)\u001b[0m\n\u001b[0;32m    775\u001b[0m         \u001b[1;32melse\u001b[0m\u001b[1;33m:\u001b[0m\u001b[1;33m\u001b[0m\u001b[0m\n\u001b[0;32m    776\u001b[0m             (left_indexer,\n\u001b[1;32m--> 777\u001b[1;33m              right_indexer) = self._get_join_indexers()\n\u001b[0m\u001b[0;32m    778\u001b[0m \u001b[1;33m\u001b[0m\u001b[0m\n\u001b[0;32m    779\u001b[0m             \u001b[1;32mif\u001b[0m \u001b[0mself\u001b[0m\u001b[1;33m.\u001b[0m\u001b[0mright_index\u001b[0m\u001b[1;33m:\u001b[0m\u001b[1;33m\u001b[0m\u001b[0m\n",
      "\u001b[1;32md:\\python\\envs\\jupyterpy36\\lib\\site-packages\\pandas\\core\\reshape\\merge.py\u001b[0m in \u001b[0;36m_get_join_indexers\u001b[1;34m(self)\u001b[0m\n\u001b[0;32m    754\u001b[0m                                   \u001b[0mself\u001b[0m\u001b[1;33m.\u001b[0m\u001b[0mright_join_keys\u001b[0m\u001b[1;33m,\u001b[0m\u001b[1;33m\u001b[0m\u001b[0m\n\u001b[0;32m    755\u001b[0m                                   \u001b[0msort\u001b[0m\u001b[1;33m=\u001b[0m\u001b[0mself\u001b[0m\u001b[1;33m.\u001b[0m\u001b[0msort\u001b[0m\u001b[1;33m,\u001b[0m\u001b[1;33m\u001b[0m\u001b[0m\n\u001b[1;32m--> 756\u001b[1;33m                                   how=self.how)\n\u001b[0m\u001b[0;32m    757\u001b[0m \u001b[1;33m\u001b[0m\u001b[0m\n\u001b[0;32m    758\u001b[0m     \u001b[1;32mdef\u001b[0m \u001b[0m_get_join_info\u001b[0m\u001b[1;33m(\u001b[0m\u001b[0mself\u001b[0m\u001b[1;33m)\u001b[0m\u001b[1;33m:\u001b[0m\u001b[1;33m\u001b[0m\u001b[0m\n",
      "\u001b[1;32md:\\python\\envs\\jupyterpy36\\lib\\site-packages\\pandas\\core\\reshape\\merge.py\u001b[0m in \u001b[0;36m_get_join_indexers\u001b[1;34m(left_keys, right_keys, sort, how, **kwargs)\u001b[0m\n\u001b[0;32m   1146\u001b[0m     \u001b[0mjoin_func\u001b[0m \u001b[1;33m=\u001b[0m \u001b[0m_join_functions\u001b[0m\u001b[1;33m[\u001b[0m\u001b[0mhow\u001b[0m\u001b[1;33m]\u001b[0m\u001b[1;33m\u001b[0m\u001b[0m\n\u001b[0;32m   1147\u001b[0m \u001b[1;33m\u001b[0m\u001b[0m\n\u001b[1;32m-> 1148\u001b[1;33m     \u001b[1;32mreturn\u001b[0m \u001b[0mjoin_func\u001b[0m\u001b[1;33m(\u001b[0m\u001b[0mlkey\u001b[0m\u001b[1;33m,\u001b[0m \u001b[0mrkey\u001b[0m\u001b[1;33m,\u001b[0m \u001b[0mcount\u001b[0m\u001b[1;33m,\u001b[0m \u001b[1;33m**\u001b[0m\u001b[0mkwargs\u001b[0m\u001b[1;33m)\u001b[0m\u001b[1;33m\u001b[0m\u001b[0m\n\u001b[0m\u001b[0;32m   1149\u001b[0m \u001b[1;33m\u001b[0m\u001b[0m\n\u001b[0;32m   1150\u001b[0m \u001b[1;33m\u001b[0m\u001b[0m\n",
      "\u001b[1;32mpandas\\_libs\\join.pyx\u001b[0m in \u001b[0;36mpandas._libs.join.inner_join\u001b[1;34m()\u001b[0m\n",
      "\u001b[1;31mMemoryError\u001b[0m: "
     ]
    }
   ],
   "source": [
    "bank_train1 = d1.merge(d2)\n",
    "\n",
    "bank_train = bank_train1.merge(d3)"
   ]
  },
  {
   "cell_type": "markdown",
   "metadata": {},
   "source": [
    "#### (2)账单信息表\n",
    "去掉了时间、银行id、还款状态这几个变量，按用户id分组后对每个字段均值化处理"
   ]
  },
  {
   "cell_type": "code",
   "execution_count": 32,
   "metadata": {},
   "outputs": [
    {
     "data": {
      "text/plain": [
       "(353151, 15)"
      ]
     },
     "execution_count": 32,
     "metadata": {},
     "output_type": "execute_result"
    }
   ],
   "source": [
    "bill_slced = pd.merge(left=df_bill_train,right = user,how='inner',on='user_id')\n",
    "\n",
    "\n",
    "bill_slced.drop(['time','bank_id','repay_status'], axis=1, inplace=True)\n"
   ]
  },
  {
   "cell_type": "code",
   "execution_count": 37,
   "metadata": {},
   "outputs": [
    {
     "data": {
      "text/html": [
       "<div>\n",
       "<style scoped>\n",
       "    .dataframe tbody tr th:only-of-type {\n",
       "        vertical-align: middle;\n",
       "    }\n",
       "\n",
       "    .dataframe tbody tr th {\n",
       "        vertical-align: top;\n",
       "    }\n",
       "\n",
       "    .dataframe thead th {\n",
       "        text-align: right;\n",
       "    }\n",
       "</style>\n",
       "<table border=\"1\" class=\"dataframe\">\n",
       "  <thead>\n",
       "    <tr style=\"text-align: right;\">\n",
       "      <th></th>\n",
       "      <th>user_id</th>\n",
       "      <th>last_bill_amount</th>\n",
       "      <th>last_repay_amount</th>\n",
       "      <th>credit_amount</th>\n",
       "      <th>cur_bill_bal</th>\n",
       "      <th>cur_bill_minrepay</th>\n",
       "      <th>cons_num</th>\n",
       "      <th>cur_bill_amount</th>\n",
       "      <th>adjust_amount</th>\n",
       "      <th>cyclic_accr</th>\n",
       "      <th>avail_bal</th>\n",
       "      <th>borrow_cash</th>\n",
       "    </tr>\n",
       "  </thead>\n",
       "  <tbody>\n",
       "    <tr>\n",
       "      <th>0</th>\n",
       "      <td>3</td>\n",
       "      <td>18.366771</td>\n",
       "      <td>18.580174</td>\n",
       "      <td>18.361833</td>\n",
       "      <td>18.348270</td>\n",
       "      <td>16.045651</td>\n",
       "      <td>2.000000</td>\n",
       "      <td>18.581412</td>\n",
       "      <td>0.000000</td>\n",
       "      <td>0.000000</td>\n",
       "      <td>0.000000</td>\n",
       "      <td>0.000000</td>\n",
       "    </tr>\n",
       "    <tr>\n",
       "      <th>1</th>\n",
       "      <td>4</td>\n",
       "      <td>7.268065</td>\n",
       "      <td>4.948698</td>\n",
       "      <td>16.055204</td>\n",
       "      <td>18.847398</td>\n",
       "      <td>17.456999</td>\n",
       "      <td>0.055556</td>\n",
       "      <td>7.313613</td>\n",
       "      <td>0.000000</td>\n",
       "      <td>0.000000</td>\n",
       "      <td>1.014342</td>\n",
       "      <td>7.808445</td>\n",
       "    </tr>\n",
       "    <tr>\n",
       "      <th>2</th>\n",
       "      <td>10</td>\n",
       "      <td>14.072058</td>\n",
       "      <td>13.703300</td>\n",
       "      <td>19.674681</td>\n",
       "      <td>15.875485</td>\n",
       "      <td>10.862296</td>\n",
       "      <td>0.585000</td>\n",
       "      <td>15.199006</td>\n",
       "      <td>0.000000</td>\n",
       "      <td>0.000000</td>\n",
       "      <td>0.280083</td>\n",
       "      <td>6.072609</td>\n",
       "    </tr>\n",
       "    <tr>\n",
       "      <th>3</th>\n",
       "      <td>14</td>\n",
       "      <td>11.855583</td>\n",
       "      <td>12.122758</td>\n",
       "      <td>13.876785</td>\n",
       "      <td>18.690660</td>\n",
       "      <td>16.362377</td>\n",
       "      <td>0.352941</td>\n",
       "      <td>13.054141</td>\n",
       "      <td>0.000000</td>\n",
       "      <td>0.975514</td>\n",
       "      <td>0.000000</td>\n",
       "      <td>2.307600</td>\n",
       "    </tr>\n",
       "    <tr>\n",
       "      <th>4</th>\n",
       "      <td>16</td>\n",
       "      <td>12.585770</td>\n",
       "      <td>13.352826</td>\n",
       "      <td>21.763030</td>\n",
       "      <td>12.225690</td>\n",
       "      <td>11.066052</td>\n",
       "      <td>0.193548</td>\n",
       "      <td>12.244160</td>\n",
       "      <td>-1.373295</td>\n",
       "      <td>0.000000</td>\n",
       "      <td>0.000000</td>\n",
       "      <td>21.069883</td>\n",
       "    </tr>\n",
       "  </tbody>\n",
       "</table>\n",
       "</div>"
      ],
      "text/plain": [
       "   user_id  last_bill_amount  last_repay_amount  credit_amount  cur_bill_bal  \\\n",
       "0        3         18.366771          18.580174      18.361833     18.348270   \n",
       "1        4          7.268065           4.948698      16.055204     18.847398   \n",
       "2       10         14.072058          13.703300      19.674681     15.875485   \n",
       "3       14         11.855583          12.122758      13.876785     18.690660   \n",
       "4       16         12.585770          13.352826      21.763030     12.225690   \n",
       "\n",
       "   cur_bill_minrepay  cons_num  cur_bill_amount  adjust_amount  cyclic_accr  \\\n",
       "0          16.045651  2.000000        18.581412       0.000000     0.000000   \n",
       "1          17.456999  0.055556         7.313613       0.000000     0.000000   \n",
       "2          10.862296  0.585000        15.199006       0.000000     0.000000   \n",
       "3          16.362377  0.352941        13.054141       0.000000     0.975514   \n",
       "4          11.066052  0.193548        12.244160      -1.373295     0.000000   \n",
       "\n",
       "   avail_bal  borrow_cash  \n",
       "0   0.000000     0.000000  \n",
       "1   1.014342     7.808445  \n",
       "2   0.280083     6.072609  \n",
       "3   0.000000     2.307600  \n",
       "4   0.000000    21.069883  "
      ]
     },
     "execution_count": 37,
     "metadata": {},
     "output_type": "execute_result"
    }
   ],
   "source": [
    "e1=bill_slced.groupby(['user_id'], as_index=False)\n",
    "f1= e1[\n",
    "    'last_bill_amount','last_repay_amount','credit_amount','cur_bill_bal','cur_bill_minrepay','cons_num','cur_bill_amount','adjust_amount','cyclic_accr','avail_bal','borrow_cash'\n",
    "].agg(np.mean)\n",
    "f1.head()"
   ]
  },
  {
   "cell_type": "code",
   "execution_count": 40,
   "metadata": {},
   "outputs": [
    {
     "data": {
      "text/plain": [
       "(5735, 12)"
      ]
     },
     "execution_count": 40,
     "metadata": {},
     "output_type": "execute_result"
    }
   ],
   "source": [
    "bill_train = pd.merge(user,f1,how = 'left',on='user_id')\n",
    "bill_train.shape"
   ]
  },
  {
   "cell_type": "markdown",
   "metadata": {},
   "source": [
    "#### (3)浏览记录表\n",
    "去掉浏览子行为这个变量，对浏览行为数据变量作了按用户id做分组计数统计"
   ]
  },
  {
   "cell_type": "code",
   "execution_count": 42,
   "metadata": {},
   "outputs": [
    {
     "data": {
      "text/html": [
       "<div>\n",
       "<style scoped>\n",
       "    .dataframe tbody tr th:only-of-type {\n",
       "        vertical-align: middle;\n",
       "    }\n",
       "\n",
       "    .dataframe tbody tr th {\n",
       "        vertical-align: top;\n",
       "    }\n",
       "\n",
       "    .dataframe thead th {\n",
       "        text-align: right;\n",
       "    }\n",
       "</style>\n",
       "<table border=\"1\" class=\"dataframe\">\n",
       "  <thead>\n",
       "    <tr style=\"text-align: right;\">\n",
       "      <th></th>\n",
       "      <th>user_id</th>\n",
       "      <th>brows_beh</th>\n",
       "    </tr>\n",
       "  </thead>\n",
       "  <tbody>\n",
       "    <tr>\n",
       "      <th>0</th>\n",
       "      <td>6965</td>\n",
       "      <td>1710</td>\n",
       "    </tr>\n",
       "    <tr>\n",
       "      <th>1</th>\n",
       "      <td>1265</td>\n",
       "      <td>420</td>\n",
       "    </tr>\n",
       "    <tr>\n",
       "      <th>2</th>\n",
       "      <td>2583</td>\n",
       "      <td>702</td>\n",
       "    </tr>\n",
       "    <tr>\n",
       "      <th>3</th>\n",
       "      <td>29165</td>\n",
       "      <td>783</td>\n",
       "    </tr>\n",
       "    <tr>\n",
       "      <th>4</th>\n",
       "      <td>2443</td>\n",
       "      <td>671</td>\n",
       "    </tr>\n",
       "  </tbody>\n",
       "</table>\n",
       "</div>"
      ],
      "text/plain": [
       "   user_id  brows_beh\n",
       "0     6965       1710\n",
       "1     1265        420\n",
       "2     2583        702\n",
       "3    29165        783\n",
       "4     2443        671"
      ]
     },
     "execution_count": 42,
     "metadata": {},
     "output_type": "execute_result"
    }
   ],
   "source": [
    "browse_slced = pd.merge(df_browse_train,user,how='inner',on='user_id')\n",
    "g1= browse_slced.groupby(['user_id'], as_index=False)\n",
    "h1= g1['brows_beh'].agg({'brows_beh': 'count', }) \n",
    "browse_train = pd.merge(user,h1,how = 'left',on='user_id')\n",
    "browse_train.head()"
   ]
  },
  {
   "cell_type": "markdown",
   "metadata": {},
   "source": [
    "#### 对剩下的用户信息表和逾期记录表筛选"
   ]
  },
  {
   "cell_type": "code",
   "execution_count": 44,
   "metadata": {},
   "outputs": [],
   "source": [
    "overdue_train = pd.merge(df_overdue_train,user,how='inner',on='user_id')\n",
    "user_train = pd.merge(df_userinfo_train,user,how='inner',on='user_id')"
   ]
  },
  {
   "cell_type": "markdown",
   "metadata": {},
   "source": [
    "#### 将筛选后的五个表进行合并"
   ]
  },
  {
   "cell_type": "code",
   "execution_count": 46,
   "metadata": {},
   "outputs": [
    {
     "ename": "NameError",
     "evalue": "name 'bank_train' is not defined",
     "output_type": "error",
     "traceback": [
      "\u001b[1;31m---------------------------------------------------------------------------\u001b[0m",
      "\u001b[1;31mNameError\u001b[0m                                 Traceback (most recent call last)",
      "\u001b[1;32m<ipython-input-46-a428b2aa26d1>\u001b[0m in \u001b[0;36m<module>\u001b[1;34m()\u001b[0m\n\u001b[1;32m----> 1\u001b[1;33m \u001b[0mdf_train\u001b[0m \u001b[1;33m=\u001b[0m \u001b[0muser_train\u001b[0m\u001b[1;33m.\u001b[0m\u001b[0mmerge\u001b[0m\u001b[1;33m(\u001b[0m\u001b[0mbank_train\u001b[0m\u001b[1;33m)\u001b[0m\u001b[1;33m\u001b[0m\u001b[0m\n\u001b[0m\u001b[0;32m      2\u001b[0m \u001b[0mdf_train\u001b[0m \u001b[1;33m=\u001b[0m \u001b[0mdf_train\u001b[0m\u001b[1;33m.\u001b[0m\u001b[0mmerge\u001b[0m\u001b[1;33m(\u001b[0m\u001b[0mbill_train\u001b[0m\u001b[1;33m)\u001b[0m\u001b[1;33m\u001b[0m\u001b[0m\n\u001b[0;32m      3\u001b[0m \u001b[0mdf_train\u001b[0m \u001b[1;33m=\u001b[0m \u001b[0mdf_train\u001b[0m\u001b[1;33m.\u001b[0m\u001b[0mmerge\u001b[0m\u001b[1;33m(\u001b[0m\u001b[0mbrowse_train\u001b[0m\u001b[1;33m)\u001b[0m\u001b[1;33m\u001b[0m\u001b[0m\n\u001b[0;32m      4\u001b[0m \u001b[0mdf_train\u001b[0m \u001b[1;33m=\u001b[0m \u001b[0mdf_train\u001b[0m\u001b[1;33m.\u001b[0m\u001b[0mmerge\u001b[0m\u001b[1;33m(\u001b[0m\u001b[0moverdue_train\u001b[0m\u001b[1;33m)\u001b[0m\u001b[1;33m\u001b[0m\u001b[0m\n\u001b[0;32m      5\u001b[0m \u001b[0mdf_train\u001b[0m\u001b[1;33m.\u001b[0m\u001b[0mhead\u001b[0m\u001b[1;33m(\u001b[0m\u001b[1;33m)\u001b[0m\u001b[1;33m\u001b[0m\u001b[0m\n",
      "\u001b[1;31mNameError\u001b[0m: name 'bank_train' is not defined"
     ]
    }
   ],
   "source": [
    "df_train = user_train.merge(bank_train)\n",
    "df_train = df_train.merge(bill_train)\n",
    "df_train = df_train.merge(browse_train)\n",
    "df_train = df_train.merge(overdue_train)\n",
    "df_train.head()"
   ]
  },
  {
   "cell_type": "code",
   "execution_count": null,
   "metadata": {},
   "outputs": [],
   "source": [
    "df_train.info()"
   ]
  }
 ],
 "metadata": {
  "kernelspec": {
   "display_name": "Python 3",
   "language": "python",
   "name": "python3"
  },
  "language_info": {
   "codemirror_mode": {
    "name": "ipython",
    "version": 3
   },
   "file_extension": ".py",
   "mimetype": "text/x-python",
   "name": "python",
   "nbconvert_exporter": "python",
   "pygments_lexer": "ipython3",
   "version": "3.6.6"
  }
 },
 "nbformat": 4,
 "nbformat_minor": 2
}
