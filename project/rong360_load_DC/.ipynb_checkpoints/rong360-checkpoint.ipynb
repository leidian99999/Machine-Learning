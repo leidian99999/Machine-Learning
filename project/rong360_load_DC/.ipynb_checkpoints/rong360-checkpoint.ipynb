{
 "cells": [
  {
   "cell_type": "code",
   "execution_count": 1,
   "metadata": {},
   "outputs": [],
   "source": [
    "import pandas as pd\n",
    "import numpy as np\n",
    "import matplotlib.pyplot as plt \n",
    "import seaborn as sns"
   ]
  },
  {
   "cell_type": "markdown",
   "metadata": {},
   "source": [
    "银行流水记录bank_detail.txt。共5个字段，其中，第2个字段，时间戳为0表示时间未知；第3个字段，交易类型有两个值，1表示支出、0表示收入；第5个字段，工资收入标记为1时，表示工资收入。"
   ]
  },
  {
   "cell_type": "code",
   "execution_count": 2,
   "metadata": {},
   "outputs": [
    {
     "data": {
      "text/html": [
       "<div>\n",
       "<style scoped>\n",
       "    .dataframe tbody tr th:only-of-type {\n",
       "        vertical-align: middle;\n",
       "    }\n",
       "\n",
       "    .dataframe tbody tr th {\n",
       "        vertical-align: top;\n",
       "    }\n",
       "\n",
       "    .dataframe thead th {\n",
       "        text-align: right;\n",
       "    }\n",
       "</style>\n",
       "<table border=\"1\" class=\"dataframe\">\n",
       "  <thead>\n",
       "    <tr style=\"text-align: right;\">\n",
       "      <th></th>\n",
       "      <th>user_id</th>\n",
       "      <th>time</th>\n",
       "      <th>loan_type</th>\n",
       "      <th>loan_amount</th>\n",
       "      <th>income</th>\n",
       "    </tr>\n",
       "  </thead>\n",
       "  <tbody>\n",
       "    <tr>\n",
       "      <th>0</th>\n",
       "      <td>6965</td>\n",
       "      <td>5894316387</td>\n",
       "      <td>0</td>\n",
       "      <td>13.756664</td>\n",
       "      <td>0</td>\n",
       "    </tr>\n",
       "    <tr>\n",
       "      <th>1</th>\n",
       "      <td>6965</td>\n",
       "      <td>5894321388</td>\n",
       "      <td>1</td>\n",
       "      <td>13.756664</td>\n",
       "      <td>0</td>\n",
       "    </tr>\n",
       "    <tr>\n",
       "      <th>2</th>\n",
       "      <td>6965</td>\n",
       "      <td>5897553564</td>\n",
       "      <td>0</td>\n",
       "      <td>14.449810</td>\n",
       "      <td>0</td>\n",
       "    </tr>\n",
       "    <tr>\n",
       "      <th>3</th>\n",
       "      <td>6965</td>\n",
       "      <td>5897563463</td>\n",
       "      <td>1</td>\n",
       "      <td>10.527763</td>\n",
       "      <td>0</td>\n",
       "    </tr>\n",
       "    <tr>\n",
       "      <th>4</th>\n",
       "      <td>6965</td>\n",
       "      <td>5897564598</td>\n",
       "      <td>1</td>\n",
       "      <td>13.651303</td>\n",
       "      <td>0</td>\n",
       "    </tr>\n",
       "  </tbody>\n",
       "</table>\n",
       "</div>"
      ],
      "text/plain": [
       "   user_id        time  loan_type  loan_amount  income\n",
       "0     6965  5894316387          0    13.756664       0\n",
       "1     6965  5894321388          1    13.756664       0\n",
       "2     6965  5897553564          0    14.449810       0\n",
       "3     6965  5897563463          1    10.527763       0\n",
       "4     6965  5897564598          1    13.651303       0"
      ]
     },
     "execution_count": 2,
     "metadata": {},
     "output_type": "execute_result"
    }
   ],
   "source": [
    "# 银行流水记录表 bank_detail_train.txt\n",
    "colmun_bank = [\"user_id\",\"time\",\"loan_type\",\"loan_amount\",\"income\"]\n",
    "df_bank_train = pd.read_table(r\"E:\\datasets\\rong360_loan\\train\\bank_detail_train.txt\",sep=',',names=colmun_bank)\n",
    "df_bank_train.head()"
   ]
  },
  {
   "cell_type": "code",
   "execution_count": 3,
   "metadata": {},
   "outputs": [
    {
     "data": {
      "text/html": [
       "<div>\n",
       "<style scoped>\n",
       "    .dataframe tbody tr th:only-of-type {\n",
       "        vertical-align: middle;\n",
       "    }\n",
       "\n",
       "    .dataframe tbody tr th {\n",
       "        vertical-align: top;\n",
       "    }\n",
       "\n",
       "    .dataframe thead th {\n",
       "        text-align: right;\n",
       "    }\n",
       "</style>\n",
       "<table border=\"1\" class=\"dataframe\">\n",
       "  <thead>\n",
       "    <tr style=\"text-align: right;\">\n",
       "      <th></th>\n",
       "      <th>user_id</th>\n",
       "      <th>time</th>\n",
       "      <th>bank_id</th>\n",
       "      <th>last_bill_amount</th>\n",
       "      <th>last_repay_amount</th>\n",
       "      <th>credit_amount</th>\n",
       "      <th>cur_bill_bal</th>\n",
       "      <th>cur_bill_minrepay</th>\n",
       "      <th>cons_num</th>\n",
       "      <th>cur_bill_amount</th>\n",
       "      <th>adjust_amount</th>\n",
       "      <th>cyclic_accr</th>\n",
       "      <th>avail_bal</th>\n",
       "      <th>borrow_cash</th>\n",
       "      <th>repay_status</th>\n",
       "    </tr>\n",
       "  </thead>\n",
       "  <tbody>\n",
       "    <tr>\n",
       "      <th>0</th>\n",
       "      <td>3150</td>\n",
       "      <td>5906744363</td>\n",
       "      <td>6</td>\n",
       "      <td>18.626118</td>\n",
       "      <td>18.661937</td>\n",
       "      <td>20.664418</td>\n",
       "      <td>18.905766</td>\n",
       "      <td>17.847133</td>\n",
       "      <td>1</td>\n",
       "      <td>0.0</td>\n",
       "      <td>0.0</td>\n",
       "      <td>0.0</td>\n",
       "      <td>0.0</td>\n",
       "      <td>19.971271</td>\n",
       "      <td>0</td>\n",
       "    </tr>\n",
       "    <tr>\n",
       "      <th>1</th>\n",
       "      <td>3150</td>\n",
       "      <td>5906744401</td>\n",
       "      <td>6</td>\n",
       "      <td>18.905766</td>\n",
       "      <td>18.909954</td>\n",
       "      <td>20.664418</td>\n",
       "      <td>19.113305</td>\n",
       "      <td>17.911506</td>\n",
       "      <td>1</td>\n",
       "      <td>0.0</td>\n",
       "      <td>0.0</td>\n",
       "      <td>0.0</td>\n",
       "      <td>0.0</td>\n",
       "      <td>19.971271</td>\n",
       "      <td>0</td>\n",
       "    </tr>\n",
       "    <tr>\n",
       "      <th>2</th>\n",
       "      <td>3150</td>\n",
       "      <td>5906744427</td>\n",
       "      <td>6</td>\n",
       "      <td>19.113305</td>\n",
       "      <td>19.150290</td>\n",
       "      <td>20.664418</td>\n",
       "      <td>19.300194</td>\n",
       "      <td>17.977610</td>\n",
       "      <td>1</td>\n",
       "      <td>0.0</td>\n",
       "      <td>0.0</td>\n",
       "      <td>0.0</td>\n",
       "      <td>0.0</td>\n",
       "      <td>19.971271</td>\n",
       "      <td>0</td>\n",
       "    </tr>\n",
       "    <tr>\n",
       "      <th>3</th>\n",
       "      <td>3150</td>\n",
       "      <td>5906744515</td>\n",
       "      <td>6</td>\n",
       "      <td>19.300194</td>\n",
       "      <td>19.300280</td>\n",
       "      <td>21.000890</td>\n",
       "      <td>20.303240</td>\n",
       "      <td>18.477177</td>\n",
       "      <td>1</td>\n",
       "      <td>0.0</td>\n",
       "      <td>0.0</td>\n",
       "      <td>0.0</td>\n",
       "      <td>0.0</td>\n",
       "      <td>20.307743</td>\n",
       "      <td>0</td>\n",
       "    </tr>\n",
       "    <tr>\n",
       "      <th>4</th>\n",
       "      <td>3150</td>\n",
       "      <td>5906744562</td>\n",
       "      <td>6</td>\n",
       "      <td>20.303240</td>\n",
       "      <td>20.307744</td>\n",
       "      <td>21.000890</td>\n",
       "      <td>20.357134</td>\n",
       "      <td>18.510985</td>\n",
       "      <td>1</td>\n",
       "      <td>0.0</td>\n",
       "      <td>0.0</td>\n",
       "      <td>0.0</td>\n",
       "      <td>0.0</td>\n",
       "      <td>20.307743</td>\n",
       "      <td>0</td>\n",
       "    </tr>\n",
       "  </tbody>\n",
       "</table>\n",
       "</div>"
      ],
      "text/plain": [
       "   user_id        time  bank_id  last_bill_amount  last_repay_amount  \\\n",
       "0     3150  5906744363        6         18.626118          18.661937   \n",
       "1     3150  5906744401        6         18.905766          18.909954   \n",
       "2     3150  5906744427        6         19.113305          19.150290   \n",
       "3     3150  5906744515        6         19.300194          19.300280   \n",
       "4     3150  5906744562        6         20.303240          20.307744   \n",
       "\n",
       "   credit_amount  cur_bill_bal  cur_bill_minrepay  cons_num  cur_bill_amount  \\\n",
       "0      20.664418     18.905766          17.847133         1              0.0   \n",
       "1      20.664418     19.113305          17.911506         1              0.0   \n",
       "2      20.664418     19.300194          17.977610         1              0.0   \n",
       "3      21.000890     20.303240          18.477177         1              0.0   \n",
       "4      21.000890     20.357134          18.510985         1              0.0   \n",
       "\n",
       "   adjust_amount  cyclic_accr  avail_bal  borrow_cash  repay_status  \n",
       "0            0.0          0.0        0.0    19.971271             0  \n",
       "1            0.0          0.0        0.0    19.971271             0  \n",
       "2            0.0          0.0        0.0    19.971271             0  \n",
       "3            0.0          0.0        0.0    20.307743             0  \n",
       "4            0.0          0.0        0.0    20.307743             0  "
      ]
     },
     "execution_count": 3,
     "metadata": {},
     "output_type": "execute_result"
    }
   ],
   "source": [
    "# 信用卡账单记录bill_detail.txt\n",
    "columns_bill = ['user_id','time','bank_id','last_bill_amount','last_repay_amount','credit_amount','cur_bill_bal','cur_bill_minrepay','cons_num','cur_bill_amount','adjust_amount','cyclic_accr','avail_bal','borrow_cash','repay_status']\n",
    "df_bill_train = pd.read_table(r\"E:\\datasets\\rong360_loan\\train\\bill_detail_train.txt\",sep=',',names=columns_bill)\n",
    "df_bill_train.head()"
   ]
  },
  {
   "cell_type": "code",
   "execution_count": 4,
   "metadata": {},
   "outputs": [
    {
     "data": {
      "text/html": [
       "<div>\n",
       "<style scoped>\n",
       "    .dataframe tbody tr th:only-of-type {\n",
       "        vertical-align: middle;\n",
       "    }\n",
       "\n",
       "    .dataframe tbody tr th {\n",
       "        vertical-align: top;\n",
       "    }\n",
       "\n",
       "    .dataframe thead th {\n",
       "        text-align: right;\n",
       "    }\n",
       "</style>\n",
       "<table border=\"1\" class=\"dataframe\">\n",
       "  <thead>\n",
       "    <tr style=\"text-align: right;\">\n",
       "      <th></th>\n",
       "      <th>user_id</th>\n",
       "      <th>time</th>\n",
       "      <th>brows_beh</th>\n",
       "      <th>brows_num</th>\n",
       "    </tr>\n",
       "  </thead>\n",
       "  <tbody>\n",
       "    <tr>\n",
       "      <th>0</th>\n",
       "      <td>34801</td>\n",
       "      <td>5926003545</td>\n",
       "      <td>173</td>\n",
       "      <td>1</td>\n",
       "    </tr>\n",
       "    <tr>\n",
       "      <th>1</th>\n",
       "      <td>34801</td>\n",
       "      <td>5926003545</td>\n",
       "      <td>164</td>\n",
       "      <td>4</td>\n",
       "    </tr>\n",
       "    <tr>\n",
       "      <th>2</th>\n",
       "      <td>34801</td>\n",
       "      <td>5926003545</td>\n",
       "      <td>38</td>\n",
       "      <td>7</td>\n",
       "    </tr>\n",
       "    <tr>\n",
       "      <th>3</th>\n",
       "      <td>34801</td>\n",
       "      <td>5926003545</td>\n",
       "      <td>45</td>\n",
       "      <td>1</td>\n",
       "    </tr>\n",
       "    <tr>\n",
       "      <th>4</th>\n",
       "      <td>34801</td>\n",
       "      <td>5926003545</td>\n",
       "      <td>110</td>\n",
       "      <td>7</td>\n",
       "    </tr>\n",
       "  </tbody>\n",
       "</table>\n",
       "</div>"
      ],
      "text/plain": [
       "   user_id        time  brows_beh  brows_num\n",
       "0    34801  5926003545        173          1\n",
       "1    34801  5926003545        164          4\n",
       "2    34801  5926003545         38          7\n",
       "3    34801  5926003545         45          1\n",
       "4    34801  5926003545        110          7"
      ]
     },
     "execution_count": 4,
     "metadata": {},
     "output_type": "execute_result"
    }
   ],
   "source": [
    "# 用户浏览行为 browse_history.txt\n",
    "columns_browse = ['user_id','time','brows_beh','brows_num']\n",
    "df_browse_train = pd.read_table(r\"E:\\datasets\\rong360_loan\\train\\browse_history_train.txt\",sep=',',names=columns_browse)\n",
    "df_browse_train.head()"
   ]
  },
  {
   "cell_type": "code",
   "execution_count": 5,
   "metadata": {},
   "outputs": [
    {
     "data": {
      "text/html": [
       "<div>\n",
       "<style scoped>\n",
       "    .dataframe tbody tr th:only-of-type {\n",
       "        vertical-align: middle;\n",
       "    }\n",
       "\n",
       "    .dataframe tbody tr th {\n",
       "        vertical-align: top;\n",
       "    }\n",
       "\n",
       "    .dataframe thead th {\n",
       "        text-align: right;\n",
       "    }\n",
       "</style>\n",
       "<table border=\"1\" class=\"dataframe\">\n",
       "  <thead>\n",
       "    <tr style=\"text-align: right;\">\n",
       "      <th></th>\n",
       "      <th>user_id</th>\n",
       "      <th>time</th>\n",
       "    </tr>\n",
       "  </thead>\n",
       "  <tbody>\n",
       "    <tr>\n",
       "      <th>0</th>\n",
       "      <td>1</td>\n",
       "      <td>5914855887</td>\n",
       "    </tr>\n",
       "    <tr>\n",
       "      <th>1</th>\n",
       "      <td>2</td>\n",
       "      <td>5914855887</td>\n",
       "    </tr>\n",
       "    <tr>\n",
       "      <th>2</th>\n",
       "      <td>3</td>\n",
       "      <td>5914855887</td>\n",
       "    </tr>\n",
       "    <tr>\n",
       "      <th>3</th>\n",
       "      <td>4</td>\n",
       "      <td>5914855887</td>\n",
       "    </tr>\n",
       "    <tr>\n",
       "      <th>4</th>\n",
       "      <td>5</td>\n",
       "      <td>5914855887</td>\n",
       "    </tr>\n",
       "  </tbody>\n",
       "</table>\n",
       "</div>"
      ],
      "text/plain": [
       "   user_id        time\n",
       "0        1  5914855887\n",
       "1        2  5914855887\n",
       "2        3  5914855887\n",
       "3        4  5914855887\n",
       "4        5  5914855887"
      ]
     },
     "execution_count": 5,
     "metadata": {},
     "output_type": "execute_result"
    }
   ],
   "source": [
    "# 放款时间信息loan_time.txt\n",
    "columns_loanTime = ['user_id','time']\n",
    "df_loanTime_train = pd.read_table(r\"E:\\datasets\\rong360_loan\\train\\loan_time_train.txt\",sep=',',names=columns_loanTime)\n",
    "df_loanTime_train.head()"
   ]
  },
  {
   "cell_type": "code",
   "execution_count": 6,
   "metadata": {},
   "outputs": [
    {
     "data": {
      "text/html": [
       "<div>\n",
       "<style scoped>\n",
       "    .dataframe tbody tr th:only-of-type {\n",
       "        vertical-align: middle;\n",
       "    }\n",
       "\n",
       "    .dataframe tbody tr th {\n",
       "        vertical-align: top;\n",
       "    }\n",
       "\n",
       "    .dataframe thead th {\n",
       "        text-align: right;\n",
       "    }\n",
       "</style>\n",
       "<table border=\"1\" class=\"dataframe\">\n",
       "  <thead>\n",
       "    <tr style=\"text-align: right;\">\n",
       "      <th></th>\n",
       "      <th>user_id</th>\n",
       "      <th>overdue</th>\n",
       "    </tr>\n",
       "  </thead>\n",
       "  <tbody>\n",
       "    <tr>\n",
       "      <th>0</th>\n",
       "      <td>1</td>\n",
       "      <td>0</td>\n",
       "    </tr>\n",
       "    <tr>\n",
       "      <th>1</th>\n",
       "      <td>2</td>\n",
       "      <td>0</td>\n",
       "    </tr>\n",
       "    <tr>\n",
       "      <th>2</th>\n",
       "      <td>3</td>\n",
       "      <td>0</td>\n",
       "    </tr>\n",
       "    <tr>\n",
       "      <th>3</th>\n",
       "      <td>4</td>\n",
       "      <td>1</td>\n",
       "    </tr>\n",
       "    <tr>\n",
       "      <th>4</th>\n",
       "      <td>5</td>\n",
       "      <td>0</td>\n",
       "    </tr>\n",
       "  </tbody>\n",
       "</table>\n",
       "</div>"
      ],
      "text/plain": [
       "   user_id  overdue\n",
       "0        1        0\n",
       "1        2        0\n",
       "2        3        0\n",
       "3        4        1\n",
       "4        5        0"
      ]
     },
     "execution_count": 6,
     "metadata": {},
     "output_type": "execute_result"
    }
   ],
   "source": [
    "# 顾客是否发生逾期行为的记录overdue.txt\n",
    "columns_overdue = ['user_id','overdue']\n",
    "df_overdue_train = pd.read_table(r\"E:\\datasets\\rong360_loan\\train\\overdue_train.txt\",sep=',',names=columns_overdue)\n",
    "df_overdue_train.head()"
   ]
  },
  {
   "cell_type": "code",
   "execution_count": 7,
   "metadata": {},
   "outputs": [
    {
     "data": {
      "text/html": [
       "<div>\n",
       "<style scoped>\n",
       "    .dataframe tbody tr th:only-of-type {\n",
       "        vertical-align: middle;\n",
       "    }\n",
       "\n",
       "    .dataframe tbody tr th {\n",
       "        vertical-align: top;\n",
       "    }\n",
       "\n",
       "    .dataframe thead th {\n",
       "        text-align: right;\n",
       "    }\n",
       "</style>\n",
       "<table border=\"1\" class=\"dataframe\">\n",
       "  <thead>\n",
       "    <tr style=\"text-align: right;\">\n",
       "      <th></th>\n",
       "      <th>user_id</th>\n",
       "      <th>sex</th>\n",
       "      <th>job</th>\n",
       "      <th>eduction</th>\n",
       "      <th>marriage</th>\n",
       "      <th>residence</th>\n",
       "    </tr>\n",
       "  </thead>\n",
       "  <tbody>\n",
       "    <tr>\n",
       "      <th>0</th>\n",
       "      <td>3150</td>\n",
       "      <td>1</td>\n",
       "      <td>2</td>\n",
       "      <td>4</td>\n",
       "      <td>1</td>\n",
       "      <td>4</td>\n",
       "    </tr>\n",
       "    <tr>\n",
       "      <th>1</th>\n",
       "      <td>6965</td>\n",
       "      <td>1</td>\n",
       "      <td>2</td>\n",
       "      <td>4</td>\n",
       "      <td>3</td>\n",
       "      <td>2</td>\n",
       "    </tr>\n",
       "    <tr>\n",
       "      <th>2</th>\n",
       "      <td>1265</td>\n",
       "      <td>1</td>\n",
       "      <td>3</td>\n",
       "      <td>4</td>\n",
       "      <td>3</td>\n",
       "      <td>1</td>\n",
       "    </tr>\n",
       "    <tr>\n",
       "      <th>3</th>\n",
       "      <td>6360</td>\n",
       "      <td>1</td>\n",
       "      <td>2</td>\n",
       "      <td>4</td>\n",
       "      <td>3</td>\n",
       "      <td>2</td>\n",
       "    </tr>\n",
       "    <tr>\n",
       "      <th>4</th>\n",
       "      <td>2583</td>\n",
       "      <td>2</td>\n",
       "      <td>2</td>\n",
       "      <td>2</td>\n",
       "      <td>1</td>\n",
       "      <td>1</td>\n",
       "    </tr>\n",
       "  </tbody>\n",
       "</table>\n",
       "</div>"
      ],
      "text/plain": [
       "   user_id  sex  job  eduction  marriage  residence\n",
       "0     3150    1    2         4         1          4\n",
       "1     6965    1    2         4         3          2\n",
       "2     1265    1    3         4         3          1\n",
       "3     6360    1    2         4         3          2\n",
       "4     2583    2    2         2         1          1"
      ]
     },
     "execution_count": 7,
     "metadata": {},
     "output_type": "execute_result"
    }
   ],
   "source": [
    "# 用户基本属性表 user_info_train.txt\n",
    "columns_userinfo = ['user_id','sex','job','eduction','marriage','residence']\n",
    "df_userinfo_train = pd.read_table(r\"E:\\datasets\\rong360_loan\\train\\user_info_train.txt\",sep=',',names=columns_userinfo)\n",
    "df_userinfo_train.head()"
   ]
  },
  {
   "cell_type": "code",
   "execution_count": null,
   "metadata": {},
   "outputs": [],
   "source": []
  },
  {
   "cell_type": "code",
   "execution_count": 21,
   "metadata": {},
   "outputs": [
    {
     "name": "stdout",
     "output_type": "stream",
     "text": [
      "df_bank_train:\n",
      "user_id        0\n",
      "time           0\n",
      "loan_type      0\n",
      "loan_amount    0\n",
      "income         0\n",
      "dtype: int64\n",
      "******************************\n",
      "df_bill_train:\n",
      "user_id              0\n",
      "time                 0\n",
      "bank_id              0\n",
      "last_bill_amount     0\n",
      "last_repay_amount    0\n",
      "credit_amount        0\n",
      "cur_bill_bal         0\n",
      "cur_bill_minrepay    0\n",
      "cons_num             0\n",
      "cur_bill_amount      0\n",
      "adjust_amount        0\n",
      "cyclic_accr          0\n",
      "avail_bal            0\n",
      "borrow_cash          0\n",
      "repay_status         0\n",
      "dtype: int64\n",
      "******************************\n",
      "df_browse_train:\n",
      "user_id      0\n",
      "time         0\n",
      "brows_beh    0\n",
      "brows_num    0\n",
      "dtype: int64\n",
      "******************************\n",
      "df_loanTime_train:\n",
      "user_id    0\n",
      "time       0\n",
      "dtype: int64\n",
      "******************************\n",
      "df_overdue_train:\n",
      "user_id    0\n",
      "overdue    0\n",
      "dtype: int64\n",
      "******************************\n",
      "df_userinfo_train:\n",
      "user_id      0\n",
      "sex          0\n",
      "job          0\n",
      "eduction     0\n",
      "marriage     0\n",
      "residence    0\n",
      "dtype: int64\n"
     ]
    }
   ],
   "source": [
    "# 查看缺失值\n",
    "print(\"df_bank_train:\")\n",
    "print(df_bank_train.isnull().sum())\n",
    "print(\"*\"*30)\n",
    "print(\"df_bill_train:\")\n",
    "print(df_bill_train.isnull().sum())\n",
    "print(\"*\"*30)\n",
    "print(\"df_browse_train:\")\n",
    "print(df_browse_train.isnull().sum())\n",
    "print(\"*\"*30)\n",
    "print(\"df_loanTime_train:\")\n",
    "print(df_loanTime_train.isnull().sum())\n",
    "print(\"*\"*30)\n",
    "print(\"df_overdue_train:\")\n",
    "print(df_overdue_train.isnull().sum())\n",
    "print(\"*\"*30)\n",
    "print(\"df_userinfo_train:\")\n",
    "print(df_userinfo_train.isnull().sum())"
   ]
  },
  {
   "cell_type": "code",
   "execution_count": 13,
   "metadata": {},
   "outputs": [
    {
     "name": "stdout",
     "output_type": "stream",
     "text": [
      "df_bank_train:(6070197, 5)\n",
      "df_bill_train:(2338118, 15)\n",
      "df_browse_train:(22919547, 4)\n",
      "df_loanTime_train(55596, 2)\n",
      "df_overdue_train(55596, 2)\n",
      "df_userinfo_train:(55596, 6)\n"
     ]
    }
   ],
   "source": [
    "# 查看数据集行列数\n",
    "print(\"df_bank_train:\" + str(df_bank_train.shape))\n",
    "print(\"df_bill_train:\" + str(df_bill_train.shape))\n",
    "print(\"df_browse_train:\" + str(df_browse_train.shape))\n",
    "print(\"df_loanTime_train\" + str(df_loanTime_train.shape))\n",
    "print(\"df_overdue_train\" + str(df_overdue_train.shape))\n",
    "print(\"df_userinfo_train:\" + str(df_userinfo_train.shape))\n"
   ]
  },
  {
   "cell_type": "code",
   "execution_count": 16,
   "metadata": {},
   "outputs": [
    {
     "name": "stdout",
     "output_type": "stream",
     "text": [
      "df_bank_train:9294\n",
      "df_bill_train:53174\n",
      "df_browse_train:47330\n",
      "df_loanTime_train:55596\n",
      "df_overdue_train:55596\n",
      "df_userinfo_train:55596\n"
     ]
    }
   ],
   "source": [
    "# 查看用户数\n",
    "print(\"df_bank_train:\" + str(len(df_bank_train.user_id.unique())))\n",
    "print(\"df_bill_train:\" + str(len(df_bill_train.user_id.unique())))\n",
    "print(\"df_browse_train:\" + str(len(df_browse_train.user_id.unique())))\n",
    "print(\"df_loanTime_train:\" + str(len(df_loanTime_train.user_id.unique())))\n",
    "print(\"df_overdue_train:\" + str(len(df_overdue_train.user_id.unique())))\n",
    "print(\"df_userinfo_train:\" + str(len(df_userinfo_train.user_id.unique())))"
   ]
  },
  {
   "cell_type": "code",
   "execution_count": 30,
   "metadata": {},
   "outputs": [
    {
     "name": "stdout",
     "output_type": "stream",
     "text": [
      "<class 'pandas.core.frame.DataFrame'>\n",
      "Int64Index: 9271 entries, 0 to 6069672\n",
      "Data columns (total 1 columns):\n",
      "user_id    9271 non-null int64\n",
      "dtypes: int64(1)\n",
      "memory usage: 144.9 KB\n"
     ]
    }
   ],
   "source": [
    "# 筛选有银行流水的放款用户的用户id\n",
    "df_bankId = pd.merge(df_bank_train,df_loanTime_train,how=\"left\",on=\"user_id\")\n",
    "\n",
    "# 筛选出流水时间 < 放款时间的记录\n",
    "df_bankId = df_bankId[(df_bankId[\"time_x\"] <= df_bankId[\"time_y\"])]\n",
    "\n",
    "# 筛选出有银行流水且放款前的用户id并去重\n",
    "bank_user = df_bankId[[\"user_id\"]]\n",
    "bank_user = bank_user.drop_duplicates(subset=\"user_id\",keep='first')\n",
    "bank_user.info()"
   ]
  },
  {
   "cell_type": "code",
   "execution_count": 31,
   "metadata": {},
   "outputs": [
    {
     "name": "stdout",
     "output_type": "stream",
     "text": [
      "<class 'pandas.core.frame.DataFrame'>\n",
      "Int64Index: 46739 entries, 0 to 2338115\n",
      "Data columns (total 1 columns):\n",
      "user_id    46739 non-null int64\n",
      "dtypes: int64(1)\n",
      "memory usage: 730.3 KB\n"
     ]
    }
   ],
   "source": [
    "# 筛选出账单记录表的放款用户的用户id\n",
    "df_billId = pd.merge(df_bill_train,df_loanTime_train,how=\"left\",on=\"user_id\")\n",
    "\n",
    "# 筛选出流水时间 < 放款时间的记录\n",
    "df_billId = df_billId[(df_billId[\"time_x\"] <= df_billId[\"time_y\"])]\n",
    "\n",
    "# 筛选出有银行流水且放款前的用户id并去重\n",
    "bill_user = df_billId[[\"user_id\"]]\n",
    "bill_user = bill_user.drop_duplicates(subset=\"user_id\",keep='first')\n",
    "bill_user.info()"
   ]
  },
  {
   "cell_type": "code",
   "execution_count": 33,
   "metadata": {},
   "outputs": [
    {
     "name": "stdout",
     "output_type": "stream",
     "text": [
      "<class 'pandas.core.frame.DataFrame'>\n",
      "Int64Index: 44945 entries, 0 to 22919430\n",
      "Data columns (total 1 columns):\n",
      "user_id    44945 non-null int64\n",
      "dtypes: int64(1)\n",
      "memory usage: 702.3 KB\n"
     ]
    }
   ],
   "source": [
    "# 筛选出用户浏览表的放款用户的用户id\n",
    "df_browserId = pd.merge(df_browse_train,df_loanTime_train,how=\"left\",on=\"user_id\")\n",
    "\n",
    "# 筛选出流水时间 < 放款时间的记录\n",
    "df_browserId = df_browserId[(df_browserId[\"time_x\"] <= df_browserId[\"time_y\"])]\n",
    "\n",
    "# 筛选出有浏览且放款前的用户id并去重\n",
    "browser_user = df_browserId[[\"user_id\"]]\n",
    "browser_user = browser_user.drop_duplicates(subset=\"user_id\",keep='first')\n",
    "browser_user.info()"
   ]
  },
  {
   "cell_type": "code",
   "execution_count": 34,
   "metadata": {},
   "outputs": [],
   "source": [
    "# 筛选出以上三张表中共有id\n",
    "user = pd.merge(pd.merge(bank_user,bill_user,how=\"inner\",on=\"user_id\"),browser_user, how = \"inner\",on = \"user_id\")"
   ]
  },
  {
   "cell_type": "code",
   "execution_count": 35,
   "metadata": {},
   "outputs": [
    {
     "name": "stdout",
     "output_type": "stream",
     "text": [
      "<class 'pandas.core.frame.DataFrame'>\n",
      "Int64Index: 5735 entries, 0 to 5734\n",
      "Data columns (total 1 columns):\n",
      "user_id    5735 non-null int64\n",
      "dtypes: int64(1)\n",
      "memory usage: 89.6 KB\n"
     ]
    }
   ],
   "source": [
    "user.info()\n",
    "# 得出5735个用户的记录是完整的。然后通过这5735个id筛选每张表的记录，并进行字段预处理。"
   ]
  },
  {
   "cell_type": "markdown",
   "metadata": {},
   "source": [
    "#### (1)银行记录表\n",
    "先筛选出id在‘user’中的记录，根据收入，支出以及工资这三个字段的交易类型进行筛选，并按id进行分组统计，每个分组中生成新的变量。"
   ]
  },
  {
   "cell_type": "code",
   "execution_count": 36,
   "metadata": {},
   "outputs": [],
   "source": [
    "bank_slced = pd.merge(df_bank_train, user,how=\"inner\",on=\"user_id\")"
   ]
  },
  {
   "cell_type": "code",
   "execution_count": 41,
   "metadata": {},
   "outputs": [
    {
     "name": "stdout",
     "output_type": "stream",
     "text": [
      "<class 'pandas.core.frame.DataFrame'>\n",
      "Int64Index: 3865627 entries, 0 to 3865626\n",
      "Data columns (total 5 columns):\n",
      "user_id        int64\n",
      "time           int64\n",
      "loan_type      int64\n",
      "loan_amount    float64\n",
      "income         int64\n",
      "dtypes: float64(1), int64(4)\n",
      "memory usage: 177.0 MB\n"
     ]
    }
   ],
   "source": [
    "bank_slced.info()"
   ]
  },
  {
   "cell_type": "code",
   "execution_count": 48,
   "metadata": {},
   "outputs": [],
   "source": [
    "bank_slced[\"loan_amount\"] = bank_slced[\"loan_amount\"].map(lambda x:int(x))"
   ]
  },
  {
   "cell_type": "code",
   "execution_count": 49,
   "metadata": {},
   "outputs": [
    {
     "name": "stdout",
     "output_type": "stream",
     "text": [
      "<class 'pandas.core.frame.DataFrame'>\n",
      "Int64Index: 3865627 entries, 0 to 3865626\n",
      "Data columns (total 5 columns):\n",
      "user_id        int64\n",
      "time           int64\n",
      "loan_type      int64\n",
      "loan_amount    int64\n",
      "income         int64\n",
      "dtypes: int64(5)\n",
      "memory usage: 177.0 MB\n"
     ]
    }
   ],
   "source": [
    "bank_slced.info()"
   ]
  },
  {
   "cell_type": "code",
   "execution_count": 53,
   "metadata": {},
   "outputs": [],
   "source": [
    "b1 = bank_slced[(bank_slced['loan_type'] == 0)].groupby(['user_id'], as_index=False)  # 收入统计\n",
    "b2 = bank_slced[(bank_slced['loan_type'] == 1)].groupby(['user_id'], as_index=False)  # 支出统计\n",
    "b3 = bank_slced[(bank_slced['income'] == 1)].groupby(['user_id'], as_index=False)  # 工资收入统计"
   ]
  },
  {
   "cell_type": "code",
   "execution_count": 54,
   "metadata": {},
   "outputs": [],
   "source": [
    "# loan_amount：交易金额\n",
    "c1 = b1['loan_amount'].agg({'income_num': 'count', 'income_amount': 'sum'})  #三表共有用户在放款之前的收入次数和收入总额\n",
    "c2 = b2['loan_amount'].agg({'expend_num': 'count', 'expend_amount': 'sum'})  #支出次数和支出额\n",
    "c3 = b3['loan_amount'].agg({'wages_num' : 'count', 'wages_amount' : 'sum'})  #工资收入次数和工资收入额"
   ]
  },
  {
   "cell_type": "code",
   "execution_count": 62,
   "metadata": {},
   "outputs": [
    {
     "data": {
      "text/html": [
       "<div>\n",
       "<style scoped>\n",
       "    .dataframe tbody tr th:only-of-type {\n",
       "        vertical-align: middle;\n",
       "    }\n",
       "\n",
       "    .dataframe tbody tr th {\n",
       "        vertical-align: top;\n",
       "    }\n",
       "\n",
       "    .dataframe thead th {\n",
       "        text-align: right;\n",
       "    }\n",
       "</style>\n",
       "<table border=\"1\" class=\"dataframe\">\n",
       "  <thead>\n",
       "    <tr style=\"text-align: right;\">\n",
       "      <th></th>\n",
       "      <th>user_id</th>\n",
       "      <th>wages_num</th>\n",
       "      <th>wages_amount</th>\n",
       "    </tr>\n",
       "  </thead>\n",
       "  <tbody>\n",
       "    <tr>\n",
       "      <th>0</th>\n",
       "      <td>67</td>\n",
       "      <td>7</td>\n",
       "      <td>82</td>\n",
       "    </tr>\n",
       "    <tr>\n",
       "      <th>1</th>\n",
       "      <td>117</td>\n",
       "      <td>17</td>\n",
       "      <td>137</td>\n",
       "    </tr>\n",
       "    <tr>\n",
       "      <th>2</th>\n",
       "      <td>119</td>\n",
       "      <td>17</td>\n",
       "      <td>240</td>\n",
       "    </tr>\n",
       "    <tr>\n",
       "      <th>3</th>\n",
       "      <td>178</td>\n",
       "      <td>14</td>\n",
       "      <td>200</td>\n",
       "    </tr>\n",
       "    <tr>\n",
       "      <th>4</th>\n",
       "      <td>189</td>\n",
       "      <td>7</td>\n",
       "      <td>103</td>\n",
       "    </tr>\n",
       "  </tbody>\n",
       "</table>\n",
       "</div>"
      ],
      "text/plain": [
       "   user_id  wages_num  wages_amount\n",
       "0       67          7            82\n",
       "1      117         17           137\n",
       "2      119         17           240\n",
       "3      178         14           200\n",
       "4      189          7           103"
      ]
     },
     "execution_count": 62,
     "metadata": {},
     "output_type": "execute_result"
    }
   ],
   "source": [
    "c3.head()"
   ]
  },
  {
   "cell_type": "code",
   "execution_count": 60,
   "metadata": {},
   "outputs": [
    {
     "data": {
      "text/html": [
       "<div>\n",
       "<style scoped>\n",
       "    .dataframe tbody tr th:only-of-type {\n",
       "        vertical-align: middle;\n",
       "    }\n",
       "\n",
       "    .dataframe tbody tr th {\n",
       "        vertical-align: top;\n",
       "    }\n",
       "\n",
       "    .dataframe thead th {\n",
       "        text-align: right;\n",
       "    }\n",
       "</style>\n",
       "<table border=\"1\" class=\"dataframe\">\n",
       "  <thead>\n",
       "    <tr style=\"text-align: right;\">\n",
       "      <th></th>\n",
       "      <th>user_id</th>\n",
       "      <th>time</th>\n",
       "      <th>loan_type</th>\n",
       "      <th>loan_amount</th>\n",
       "      <th>income</th>\n",
       "    </tr>\n",
       "  </thead>\n",
       "  <tbody>\n",
       "    <tr>\n",
       "      <th>0</th>\n",
       "      <td>3</td>\n",
       "      <td>820019742693</td>\n",
       "      <td>0</td>\n",
       "      <td>2204</td>\n",
       "      <td>0</td>\n",
       "    </tr>\n",
       "    <tr>\n",
       "      <th>1</th>\n",
       "      <td>4</td>\n",
       "      <td>484040480334</td>\n",
       "      <td>0</td>\n",
       "      <td>1121</td>\n",
       "      <td>0</td>\n",
       "    </tr>\n",
       "    <tr>\n",
       "      <th>2</th>\n",
       "      <td>10</td>\n",
       "      <td>833642859267</td>\n",
       "      <td>0</td>\n",
       "      <td>1717</td>\n",
       "      <td>0</td>\n",
       "    </tr>\n",
       "    <tr>\n",
       "      <th>3</th>\n",
       "      <td>14</td>\n",
       "      <td>2720309258307</td>\n",
       "      <td>0</td>\n",
       "      <td>6632</td>\n",
       "      <td>0</td>\n",
       "    </tr>\n",
       "    <tr>\n",
       "      <th>4</th>\n",
       "      <td>16</td>\n",
       "      <td>206357701837</td>\n",
       "      <td>0</td>\n",
       "      <td>466</td>\n",
       "      <td>0</td>\n",
       "    </tr>\n",
       "  </tbody>\n",
       "</table>\n",
       "</div>"
      ],
      "text/plain": [
       "   user_id           time  loan_type  loan_amount  income\n",
       "0        3   820019742693          0         2204       0\n",
       "1        4   484040480334          0         1121       0\n",
       "2       10   833642859267          0         1717       0\n",
       "3       14  2720309258307          0         6632       0\n",
       "4       16   206357701837          0          466       0"
      ]
     },
     "execution_count": 60,
     "metadata": {},
     "output_type": "execute_result"
    }
   ],
   "source": [
    "b1.sum().head()"
   ]
  },
  {
   "cell_type": "code",
   "execution_count": null,
   "metadata": {},
   "outputs": [],
   "source": []
  }
 ],
 "metadata": {
  "kernelspec": {
   "display_name": "Python 3",
   "language": "python",
   "name": "python3"
  },
  "language_info": {
   "codemirror_mode": {
    "name": "ipython",
    "version": 3
   },
   "file_extension": ".py",
   "mimetype": "text/x-python",
   "name": "python",
   "nbconvert_exporter": "python",
   "pygments_lexer": "ipython3",
   "version": "3.6.6"
  }
 },
 "nbformat": 4,
 "nbformat_minor": 2
}
