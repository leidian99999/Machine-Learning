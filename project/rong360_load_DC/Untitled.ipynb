{
 "cells": [
  {
   "cell_type": "code",
   "execution_count": 1,
   "metadata": {},
   "outputs": [],
   "source": [
    "import pandas as pd\n",
    "import numpy as np\n",
    "import matplotlib.pyplot as plt \n",
    "import seaborn as sns"
   ]
  },
  {
   "cell_type": "code",
   "execution_count": 2,
   "metadata": {},
   "outputs": [
    {
     "data": {
      "text/html": [
       "<div>\n",
       "<style scoped>\n",
       "    .dataframe tbody tr th:only-of-type {\n",
       "        vertical-align: middle;\n",
       "    }\n",
       "\n",
       "    .dataframe tbody tr th {\n",
       "        vertical-align: top;\n",
       "    }\n",
       "\n",
       "    .dataframe thead th {\n",
       "        text-align: right;\n",
       "    }\n",
       "</style>\n",
       "<table border=\"1\" class=\"dataframe\">\n",
       "  <thead>\n",
       "    <tr style=\"text-align: right;\">\n",
       "      <th></th>\n",
       "      <th>user_id</th>\n",
       "      <th>time</th>\n",
       "      <th>loan_type</th>\n",
       "      <th>loan_amount</th>\n",
       "      <th>income</th>\n",
       "    </tr>\n",
       "  </thead>\n",
       "  <tbody>\n",
       "    <tr>\n",
       "      <th>0</th>\n",
       "      <td>6965</td>\n",
       "      <td>5894316387</td>\n",
       "      <td>0</td>\n",
       "      <td>13.756664</td>\n",
       "      <td>0</td>\n",
       "    </tr>\n",
       "    <tr>\n",
       "      <th>1</th>\n",
       "      <td>6965</td>\n",
       "      <td>5894321388</td>\n",
       "      <td>1</td>\n",
       "      <td>13.756664</td>\n",
       "      <td>0</td>\n",
       "    </tr>\n",
       "    <tr>\n",
       "      <th>2</th>\n",
       "      <td>6965</td>\n",
       "      <td>5897553564</td>\n",
       "      <td>0</td>\n",
       "      <td>14.449810</td>\n",
       "      <td>0</td>\n",
       "    </tr>\n",
       "    <tr>\n",
       "      <th>3</th>\n",
       "      <td>6965</td>\n",
       "      <td>5897563463</td>\n",
       "      <td>1</td>\n",
       "      <td>10.527763</td>\n",
       "      <td>0</td>\n",
       "    </tr>\n",
       "    <tr>\n",
       "      <th>4</th>\n",
       "      <td>6965</td>\n",
       "      <td>5897564598</td>\n",
       "      <td>1</td>\n",
       "      <td>13.651303</td>\n",
       "      <td>0</td>\n",
       "    </tr>\n",
       "  </tbody>\n",
       "</table>\n",
       "</div>"
      ],
      "text/plain": [
       "   user_id        time  loan_type  loan_amount  income\n",
       "0     6965  5894316387          0    13.756664       0\n",
       "1     6965  5894321388          1    13.756664       0\n",
       "2     6965  5897553564          0    14.449810       0\n",
       "3     6965  5897563463          1    10.527763       0\n",
       "4     6965  5897564598          1    13.651303       0"
      ]
     },
     "execution_count": 2,
     "metadata": {},
     "output_type": "execute_result"
    }
   ],
   "source": [
    "# 银行流水记录表 bank_detail_train.txt\n",
    "colmun_bank = [\"user_id\",\"time\",\"loan_type\",\"loan_amount\",\"income\"]\n",
    "df_bank_train = pd.read_table(r\"E:\\datasets\\rong360_loan\\train\\bank_detail_train.txt\",sep=',',names=colmun_bank)\n",
    "df_bank_train.head()"
   ]
  },
  {
   "cell_type": "code",
   "execution_count": 4,
   "metadata": {},
   "outputs": [
    {
     "data": {
      "text/html": [
       "<div>\n",
       "<style scoped>\n",
       "    .dataframe tbody tr th:only-of-type {\n",
       "        vertical-align: middle;\n",
       "    }\n",
       "\n",
       "    .dataframe tbody tr th {\n",
       "        vertical-align: top;\n",
       "    }\n",
       "\n",
       "    .dataframe thead th {\n",
       "        text-align: right;\n",
       "    }\n",
       "</style>\n",
       "<table border=\"1\" class=\"dataframe\">\n",
       "  <thead>\n",
       "    <tr style=\"text-align: right;\">\n",
       "      <th></th>\n",
       "      <th>user_id</th>\n",
       "      <th>time</th>\n",
       "    </tr>\n",
       "  </thead>\n",
       "  <tbody>\n",
       "    <tr>\n",
       "      <th>0</th>\n",
       "      <td>1</td>\n",
       "      <td>5914855887</td>\n",
       "    </tr>\n",
       "    <tr>\n",
       "      <th>1</th>\n",
       "      <td>2</td>\n",
       "      <td>5914855887</td>\n",
       "    </tr>\n",
       "    <tr>\n",
       "      <th>2</th>\n",
       "      <td>3</td>\n",
       "      <td>5914855887</td>\n",
       "    </tr>\n",
       "    <tr>\n",
       "      <th>3</th>\n",
       "      <td>4</td>\n",
       "      <td>5914855887</td>\n",
       "    </tr>\n",
       "    <tr>\n",
       "      <th>4</th>\n",
       "      <td>5</td>\n",
       "      <td>5914855887</td>\n",
       "    </tr>\n",
       "  </tbody>\n",
       "</table>\n",
       "</div>"
      ],
      "text/plain": [
       "   user_id        time\n",
       "0        1  5914855887\n",
       "1        2  5914855887\n",
       "2        3  5914855887\n",
       "3        4  5914855887\n",
       "4        5  5914855887"
      ]
     },
     "execution_count": 4,
     "metadata": {},
     "output_type": "execute_result"
    }
   ],
   "source": [
    "# 放款时间信息loan_time.txt\n",
    "columns_loanTime = ['user_id','time']\n",
    "df_loanTime_train = pd.read_table(r\"E:\\datasets\\rong360_loan\\train\\loan_time_train.txt\",sep=',',names=columns_loanTime)\n",
    "df_loanTime_train.head()"
   ]
  },
  {
   "cell_type": "code",
   "execution_count": 7,
   "metadata": {},
   "outputs": [],
   "source": [
    "# 信用卡账单记录bill_detail.txt\n",
    "columns_bill = ['user_id','time','bank_id','last_bill_amount','last_repay_amount','credit_amount','cur_bill_bal','cur_bill_minrepay','cons_num','cur_bill_amount','adjust_amount','cyclic_accr','avail_bal','borrow_cash','repay_status']\n",
    "df_bill_train = pd.read_table(r\"E:\\datasets\\rong360_loan\\train\\bill_detail_train.txt\",sep=',',names=columns_bill)\n",
    "# df_bill_train.head()"
   ]
  },
  {
   "cell_type": "code",
   "execution_count": 8,
   "metadata": {},
   "outputs": [],
   "source": [
    "# 用户浏览行为 browse_history.txt\n",
    "columns_browse = ['user_id','time','brows_beh','brows_num']\n",
    "df_browse_train = pd.read_table(r\"E:\\datasets\\rong360_loan\\train\\browse_history_train.txt\",sep=',',names=columns_browse)\n",
    "# df_browse_train.head()"
   ]
  },
  {
   "cell_type": "code",
   "execution_count": 5,
   "metadata": {},
   "outputs": [
    {
     "name": "stdout",
     "output_type": "stream",
     "text": [
      "<class 'pandas.core.frame.DataFrame'>\n",
      "Int64Index: 9271 entries, 0 to 6069672\n",
      "Data columns (total 1 columns):\n",
      "user_id    9271 non-null int64\n",
      "dtypes: int64(1)\n",
      "memory usage: 144.9 KB\n"
     ]
    }
   ],
   "source": [
    "# 筛选有银行流水的放款用户的用户id\n",
    "df_bankId = pd.merge(df_bank_train,df_loanTime_train,how=\"left\",on=\"user_id\")\n",
    "\n",
    "# 筛选出流水时间 < 放款时间的记录\n",
    "df_bankId = df_bankId[(df_bankId[\"time_x\"] <= df_bankId[\"time_y\"])]\n",
    "\n",
    "# 筛选出有银行流水且放款前的用户id并去重\n",
    "bank_user = df_bankId[[\"user_id\"]]\n",
    "bank_user = bank_user.drop_duplicates(subset=\"user_id\",keep='first')\n",
    "bank_user.info()"
   ]
  },
  {
   "cell_type": "code",
   "execution_count": 6,
   "metadata": {},
   "outputs": [
    {
     "ename": "NameError",
     "evalue": "name 'bill_user' is not defined",
     "output_type": "error",
     "traceback": [
      "\u001b[1;31m---------------------------------------------------------------------------\u001b[0m",
      "\u001b[1;31mNameError\u001b[0m                                 Traceback (most recent call last)",
      "\u001b[1;32m<ipython-input-6-c001a9c6fece>\u001b[0m in \u001b[0;36m<module>\u001b[1;34m()\u001b[0m\n\u001b[0;32m      1\u001b[0m \u001b[1;31m# 筛选出以上三张表中共有id\u001b[0m\u001b[1;33m\u001b[0m\u001b[1;33m\u001b[0m\u001b[0m\n\u001b[1;32m----> 2\u001b[1;33m \u001b[0muser\u001b[0m \u001b[1;33m=\u001b[0m \u001b[0mpd\u001b[0m\u001b[1;33m.\u001b[0m\u001b[0mmerge\u001b[0m\u001b[1;33m(\u001b[0m\u001b[0mpd\u001b[0m\u001b[1;33m.\u001b[0m\u001b[0mmerge\u001b[0m\u001b[1;33m(\u001b[0m\u001b[0mbank_user\u001b[0m\u001b[1;33m,\u001b[0m\u001b[0mbill_user\u001b[0m\u001b[1;33m,\u001b[0m\u001b[0mhow\u001b[0m\u001b[1;33m=\u001b[0m\u001b[1;34m\"inner\"\u001b[0m\u001b[1;33m,\u001b[0m\u001b[0mon\u001b[0m\u001b[1;33m=\u001b[0m\u001b[1;34m\"user_id\"\u001b[0m\u001b[1;33m)\u001b[0m\u001b[1;33m,\u001b[0m\u001b[0mbrowser_user\u001b[0m\u001b[1;33m,\u001b[0m \u001b[0mhow\u001b[0m \u001b[1;33m=\u001b[0m \u001b[1;34m\"inner\"\u001b[0m\u001b[1;33m,\u001b[0m\u001b[0mon\u001b[0m \u001b[1;33m=\u001b[0m \u001b[1;34m\"user_id\"\u001b[0m\u001b[1;33m)\u001b[0m\u001b[1;33m\u001b[0m\u001b[0m\n\u001b[0m\u001b[0;32m      3\u001b[0m \u001b[1;33m\u001b[0m\u001b[0m\n\u001b[0;32m      4\u001b[0m \u001b[0muser\u001b[0m\u001b[1;33m.\u001b[0m\u001b[0minfo\u001b[0m\u001b[1;33m(\u001b[0m\u001b[1;33m)\u001b[0m\u001b[1;33m\u001b[0m\u001b[0m\n\u001b[0;32m      5\u001b[0m \u001b[1;31m# 得出5735个用户的记录是完整的。然后通过这5735个id筛选每张表的记录，并进行字段预处理。\u001b[0m\u001b[1;33m\u001b[0m\u001b[1;33m\u001b[0m\u001b[0m\n",
      "\u001b[1;31mNameError\u001b[0m: name 'bill_user' is not defined"
     ]
    }
   ],
   "source": [
    "# 筛选出以上三张表中共有id\n",
    "user = pd.merge(pd.merge(bank_user,bill_user,how=\"inner\",on=\"user_id\"),browser_user, how = \"inner\",on = \"user_id\")\n",
    "\n",
    "user.info()\n",
    "# 得出5735个用户的记录是完整的。然后通过这5735个id筛选每张表的记录，并进行字段预处理。"
   ]
  },
  {
   "cell_type": "code",
   "execution_count": null,
   "metadata": {},
   "outputs": [],
   "source": []
  }
 ],
 "metadata": {
  "kernelspec": {
   "display_name": "Python 3",
   "language": "python",
   "name": "python3"
  },
  "language_info": {
   "codemirror_mode": {
    "name": "ipython",
    "version": 3
   },
   "file_extension": ".py",
   "mimetype": "text/x-python",
   "name": "python",
   "nbconvert_exporter": "python",
   "pygments_lexer": "ipython3",
   "version": "3.6.6"
  }
 },
 "nbformat": 4,
 "nbformat_minor": 2
}
