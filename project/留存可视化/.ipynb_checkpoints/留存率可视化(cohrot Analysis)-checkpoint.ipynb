{
 "cells": [
  {
   "cell_type": "code",
   "execution_count": 1,
   "metadata": {
    "collapsed": true
   },
   "outputs": [],
   "source": [
    "import pandas as pd\n",
    "import numpy as np\n",
    "import matplotlib.pyplot as plt\n",
    "import matplotlib as mpl\n",
    "\n",
    "pd.set_option('max_columns', 50)\n",
    "mpl.rcParams['lines.linewidth'] = 2\n",
    "\n",
    "%matplotlib inline"
   ]
  },
  {
   "cell_type": "code",
   "execution_count": 3,
   "metadata": {},
   "outputs": [
    {
     "data": {
      "text/html": [
       "<div>\n",
       "<style>\n",
       "    .dataframe thead tr:only-child th {\n",
       "        text-align: right;\n",
       "    }\n",
       "\n",
       "    .dataframe thead th {\n",
       "        text-align: left;\n",
       "    }\n",
       "\n",
       "    .dataframe tbody tr th {\n",
       "        vertical-align: top;\n",
       "    }\n",
       "</style>\n",
       "<table border=\"1\" class=\"dataframe\">\n",
       "  <thead>\n",
       "    <tr style=\"text-align: right;\">\n",
       "      <th></th>\n",
       "      <th>OrderId</th>\n",
       "      <th>OrderDate</th>\n",
       "      <th>UserId</th>\n",
       "      <th>TotalCharges</th>\n",
       "      <th>CommonId</th>\n",
       "      <th>PupId</th>\n",
       "      <th>PickupDate</th>\n",
       "    </tr>\n",
       "  </thead>\n",
       "  <tbody>\n",
       "    <tr>\n",
       "      <th>0</th>\n",
       "      <td>262</td>\n",
       "      <td>2009-01-11</td>\n",
       "      <td>47</td>\n",
       "      <td>50.67</td>\n",
       "      <td>TRQKD</td>\n",
       "      <td>2</td>\n",
       "      <td>2009-01-12</td>\n",
       "    </tr>\n",
       "    <tr>\n",
       "      <th>1</th>\n",
       "      <td>278</td>\n",
       "      <td>2009-01-20</td>\n",
       "      <td>47</td>\n",
       "      <td>26.60</td>\n",
       "      <td>4HH2S</td>\n",
       "      <td>3</td>\n",
       "      <td>2009-01-20</td>\n",
       "    </tr>\n",
       "    <tr>\n",
       "      <th>2</th>\n",
       "      <td>294</td>\n",
       "      <td>2009-02-03</td>\n",
       "      <td>47</td>\n",
       "      <td>38.71</td>\n",
       "      <td>3TRDC</td>\n",
       "      <td>2</td>\n",
       "      <td>2009-02-04</td>\n",
       "    </tr>\n",
       "    <tr>\n",
       "      <th>3</th>\n",
       "      <td>301</td>\n",
       "      <td>2009-02-06</td>\n",
       "      <td>47</td>\n",
       "      <td>53.38</td>\n",
       "      <td>NGAZJ</td>\n",
       "      <td>2</td>\n",
       "      <td>2009-02-09</td>\n",
       "    </tr>\n",
       "    <tr>\n",
       "      <th>4</th>\n",
       "      <td>302</td>\n",
       "      <td>2009-02-06</td>\n",
       "      <td>47</td>\n",
       "      <td>14.28</td>\n",
       "      <td>FFYHD</td>\n",
       "      <td>2</td>\n",
       "      <td>2009-02-09</td>\n",
       "    </tr>\n",
       "  </tbody>\n",
       "</table>\n",
       "</div>"
      ],
      "text/plain": [
       "   OrderId  OrderDate  UserId  TotalCharges CommonId  PupId PickupDate\n",
       "0      262 2009-01-11      47         50.67    TRQKD      2 2009-01-12\n",
       "1      278 2009-01-20      47         26.60    4HH2S      3 2009-01-20\n",
       "2      294 2009-02-03      47         38.71    3TRDC      2 2009-02-04\n",
       "3      301 2009-02-06      47         53.38    NGAZJ      2 2009-02-09\n",
       "4      302 2009-02-06      47         14.28    FFYHD      2 2009-02-09"
      ]
     },
     "execution_count": 3,
     "metadata": {},
     "output_type": "execute_result"
    }
   ],
   "source": [
    "df = pd.read_excel('relay-foods.xlsx')\n",
    "df.head()"
   ]
  },
  {
   "cell_type": "markdown",
   "metadata": {},
   "source": [
    "## 创建OrderPeriod"
   ]
  },
  {
   "cell_type": "code",
   "execution_count": null,
   "metadata": {
    "collapsed": true
   },
   "outputs": [],
   "source": []
  }
 ],
 "metadata": {
  "kernelspec": {
   "display_name": "Python 3",
   "language": "python",
   "name": "python3"
  },
  "language_info": {
   "codemirror_mode": {
    "name": "ipython",
    "version": 3
   },
   "file_extension": ".py",
   "mimetype": "text/x-python",
   "name": "python",
   "nbconvert_exporter": "python",
   "pygments_lexer": "ipython3",
   "version": "3.6.3"
  }
 },
 "nbformat": 4,
 "nbformat_minor": 2
}
