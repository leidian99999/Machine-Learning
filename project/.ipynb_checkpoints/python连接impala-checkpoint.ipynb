{
 "cells": [
  {
   "cell_type": "code",
   "execution_count": 1,
   "metadata": {},
   "outputs": [],
   "source": [
    "from impala.dbapi import connect"
   ]
  },
  {
   "cell_type": "code",
   "execution_count": 2,
   "metadata": {},
   "outputs": [],
   "source": [
    "conn = connect(host=\"172.22.210.29\",port =21050 , database = \"bigtables\",timeout=3600 )"
   ]
  },
  {
   "cell_type": "code",
   "execution_count": 3,
   "metadata": {},
   "outputs": [],
   "source": [
    "cur_EntryStation = conn.cursor()"
   ]
  },
  {
   "cell_type": "code",
   "execution_count": 4,
   "metadata": {},
   "outputs": [],
   "source": [
    "cur_EntryStation.execute('''SELECT \n",
    "entry_station_name,\n",
    "count(userid) \n",
    "from icr_user_trans \n",
    "WHERE   \n",
    "age BETWEEN 18 and 24 \n",
    "and ticket_type = \"11\"\n",
    "and product_type = \"01\"\n",
    "and entry_station_name in (\"和平西桥\", \"车道沟\", \"大钟寺\", \"六道口\", \"清华东路西口\", \"灯市口\", \"张自忠路\", \"积水潭\", \"魏公村\", \"传媒大学\", \"芍药居\", \"惠新西街南口\", \"惠新西街北口\", \"上地\", \"复兴门\", \"国家图书馆\", \"西土城\", \"五道口\")\n",
    "group by entry_station_name ;''')"
   ]
  },
  {
   "cell_type": "code",
   "execution_count": 5,
   "metadata": {},
   "outputs": [
    {
     "data": {
      "text/plain": [
       "[('车道沟', 293913),\n",
       " ('清华东路西口', 284746),\n",
       " ('国家图书馆', 523110),\n",
       " ('魏公村', 1107934),\n",
       " ('张自忠路', 186043),\n",
       " ('六道口', 656686),\n",
       " ('五道口', 1509386),\n",
       " ('和平西桥', 557310),\n",
       " ('西土城', 876678),\n",
       " ('上地', 879826),\n",
       " ('大钟寺', 615289),\n",
       " ('惠新西街北口', 715732),\n",
       " ('积水潭', 764620),\n",
       " ('复兴门', 428113),\n",
       " ('惠新西街南口', 507001),\n",
       " ('芍药居', 821738),\n",
       " ('传媒大学', 942499),\n",
       " ('灯市口', 617736)]"
      ]
     },
     "execution_count": 5,
     "metadata": {},
     "output_type": "execute_result"
    }
   ],
   "source": [
    "data_EntryStation=cur_EntryStation.fetchall()\n",
    "data_EntryStation # 进站人流量"
   ]
  },
  {
   "cell_type": "code",
   "execution_count": 6,
   "metadata": {},
   "outputs": [],
   "source": [
    "cur_ExitStation = conn.cursor()"
   ]
  },
  {
   "cell_type": "code",
   "execution_count": 7,
   "metadata": {},
   "outputs": [],
   "source": [
    "cur_ExitStation.execute('''SELECT \n",
    "exit_station_name,\n",
    "count(userid) \n",
    "from icr_user_trans \n",
    "WHERE   \n",
    "age BETWEEN 18 and 24 \n",
    "and ticket_type = \"11\"\n",
    "and product_type = \"01\"\n",
    "and exit_station_name in (\"和平西桥\", \"车道沟\", \"大钟寺\", \"六道口\", \"清华东路西口\", \"灯市口\", \"张自忠路\", \"积水潭\", \"魏公村\", \"传媒大学\", \"芍药居\", \"惠新西街南口\", \"惠新西街北口\", \"上地\", \"复兴门\", \"国家图书馆\", \"西土城\", \"五道口\")\n",
    "group by exit_station_name ;''')"
   ]
  },
  {
   "cell_type": "code",
   "execution_count": 8,
   "metadata": {},
   "outputs": [
    {
     "data": {
      "text/plain": [
       "[('车道沟', 308363),\n",
       " ('清华东路西口', 285192),\n",
       " ('魏公村', 1141011),\n",
       " ('国家图书馆', 509943),\n",
       " ('六道口', 641812),\n",
       " ('张自忠路', 182798),\n",
       " ('五道口', 1580040),\n",
       " ('和平西桥', 562734),\n",
       " ('西土城', 883852),\n",
       " ('上地', 892121),\n",
       " ('积水潭', 711374),\n",
       " ('大钟寺', 616081),\n",
       " ('惠新西街北口', 715096),\n",
       " ('复兴门', 461691),\n",
       " ('惠新西街南口', 528004),\n",
       " ('芍药居', 777507),\n",
       " ('传媒大学', 903993),\n",
       " ('灯市口', 620060)]"
      ]
     },
     "execution_count": 8,
     "metadata": {},
     "output_type": "execute_result"
    }
   ],
   "source": [
    "data_ExitStation=cur_ExitStation.fetchall()\n",
    "data_ExitStation # 出站人流量"
   ]
  }
 ],
 "metadata": {
  "kernelspec": {
   "display_name": "Python 3",
   "language": "python",
   "name": "python3"
  },
  "language_info": {
   "codemirror_mode": {
    "name": "ipython",
    "version": 3
   },
   "file_extension": ".py",
   "mimetype": "text/x-python",
   "name": "python",
   "nbconvert_exporter": "python",
   "pygments_lexer": "ipython3",
   "version": "3.6.5"
  }
 },
 "nbformat": 4,
 "nbformat_minor": 2
}
