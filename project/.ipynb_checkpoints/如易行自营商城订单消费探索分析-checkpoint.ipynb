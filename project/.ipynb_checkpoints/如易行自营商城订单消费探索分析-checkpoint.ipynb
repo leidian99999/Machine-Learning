{
 "cells": [
  {
   "cell_type": "code",
   "execution_count": 1,
   "metadata": {
    "ExecuteTime": {
     "end_time": "2019-08-22T09:09:37.461087Z",
     "start_time": "2019-08-22T09:09:31.518079Z"
    }
   },
   "outputs": [],
   "source": [
    "import pandas as pd\n",
    "import numpy as np\n",
    "import matplotlib.pyplot as plt\n",
    "from datetime import datetime\n",
    "%matplotlib inline\n",
    "plt.style.use('ggplot')\n",
    "from impala.dbapi import connect\n",
    "import warnings\n",
    "warnings.filterwarnings('ignore')\n",
    "pd.set_option('max_colwidth',1000)\n",
    "from matplotlib.font_manager import FontProperties\n",
    "chinese = FontProperties(fname = 'C:/Windows/Fonts/msyh.ttc')\n",
    "plt.rcParams['font.sans-serif'] = [u'SimHei']\n",
    "plt.rcParams['axes.unicode_minus'] = False"
   ]
  },
  {
   "cell_type": "code",
   "execution_count": 2,
   "metadata": {
    "ExecuteTime": {
     "end_time": "2019-08-22T09:11:38.419037Z",
     "start_time": "2019-08-22T09:09:37.463939Z"
    }
   },
   "outputs": [],
   "source": [
    "# data = pd.read_csv(\"D:/GitHub/datasets/190821_ShopOrders.csv\")\n",
    "\n",
    "# 查询所有字段\n",
    "def list_col(localhost,database, port,tabls_name):\n",
    "    db = connect(localhost,port,database)\n",
    "    cursor = db.cursor()\n",
    "    cursor.execute(\"select * from %s\" % tabls_name)\n",
    "    col_name_list = [tuple[0] for tuple in cursor.description]\n",
    "    db.close()\n",
    "    return col_name_list\n",
    "\n",
    "# 列出所有的表\n",
    "def list_table(localhost,database,port):\n",
    "    db = connect(localhost,database,port)\n",
    "    cursor = db.cursor()\n",
    "    cursor.execute(\"show tables\")\n",
    "    table_list = [tuple[0] for tuple in cursor.fetchall()]\n",
    "    db.close()\n",
    "    return table_list\n",
    "\n",
    "# 数据库信息\n",
    "port = 21050 # 端口号\n",
    "host = \"172.22.210.29\" # 连接地址\n",
    "database = \"bigtables\" # 数据库名\n",
    "tabls_name = \"shop_order\" # 表名\n",
    "\n",
    "table_names = list_table(host,port,database) \n",
    "# print('库中所有表名:',*table_names,sep = '\\n  ')\n",
    "column_names = list_col(host,database, port,tabls_name)\n",
    "# print('表中所有字段名:',*column_names,sep = '\\n  ')\n",
    "\n",
    "conn = connect(host=host,port =port , database = database,timeout=3600 )\n",
    "cur_data = conn.cursor()\n",
    "cur_data.execute('''SELECT * from shop_order;''')\n",
    "data=cur_data.fetchall()\n",
    "data = pd.DataFrame(data,columns=column_names)"
   ]
  },
  {
   "cell_type": "code",
   "execution_count": 3,
   "metadata": {
    "ExecuteTime": {
     "end_time": "2019-08-22T09:11:38.430008Z",
     "start_time": "2019-08-22T09:11:38.422034Z"
    }
   },
   "outputs": [
    {
     "data": {
      "text/plain": [
       "(335281, 52)"
      ]
     },
     "execution_count": 3,
     "metadata": {},
     "output_type": "execute_result"
    }
   ],
   "source": [
    "data.shape"
   ]
  },
  {
   "cell_type": "code",
   "execution_count": 4,
   "metadata": {
    "ExecuteTime": {
     "end_time": "2019-08-22T09:11:38.836712Z",
     "start_time": "2019-08-22T09:11:38.432284Z"
    }
   },
   "outputs": [],
   "source": [
    "# data.to_csv(\"D:/GitHub/datasets/shop_order_190821.csv\",index=False)\n"
   ]
  },
  {
   "cell_type": "code",
   "execution_count": 5,
   "metadata": {
    "ExecuteTime": {
     "end_time": "2019-08-22T09:11:39.172881Z",
     "start_time": "2019-08-22T09:11:38.842690Z"
    }
   },
   "outputs": [],
   "source": [
    "data1 = data.copy()"
   ]
  },
  {
   "cell_type": "code",
   "execution_count": 6,
   "metadata": {
    "ExecuteTime": {
     "end_time": "2019-08-22T09:11:39.533367Z",
     "start_time": "2019-08-22T09:11:39.174809Z"
    }
   },
   "outputs": [
    {
     "data": {
      "text/plain": [
       "(222983, 52)"
      ]
     },
     "execution_count": 6,
     "metadata": {},
     "output_type": "execute_result"
    }
   ],
   "source": [
    "data1 = data1[data1[\"status\"] == 1]\n",
    "data1.shape"
   ]
  },
  {
   "cell_type": "code",
   "execution_count": 7,
   "metadata": {
    "ExecuteTime": {
     "end_time": "2019-08-22T09:11:39.992448Z",
     "start_time": "2019-08-22T09:11:39.536357Z"
    },
    "scrolled": true
   },
   "outputs": [],
   "source": [
    "df = data1[[\"user_id\",\"create_date\",\"payable_rmb_amount\",\"buy_num\"]]\n",
    "df[\"create_date\"] = pd.to_datetime(df[\"create_date\"])\n",
    "df[\"date\"] = df[\"create_date\"].dt.date\n",
    "df[\"month\"] = df[\"date\"].values.astype('datetime64[M]')"
   ]
  },
  {
   "cell_type": "code",
   "execution_count": 8,
   "metadata": {
    "ExecuteTime": {
     "end_time": "2019-08-22T09:11:40.223696Z",
     "start_time": "2019-08-22T09:11:39.995281Z"
    }
   },
   "outputs": [
    {
     "data": {
      "text/html": [
       "<div>\n",
       "<style scoped>\n",
       "    .dataframe tbody tr th:only-of-type {\n",
       "        vertical-align: middle;\n",
       "    }\n",
       "\n",
       "    .dataframe tbody tr th {\n",
       "        vertical-align: top;\n",
       "    }\n",
       "\n",
       "    .dataframe thead th {\n",
       "        text-align: right;\n",
       "    }\n",
       "</style>\n",
       "<table border=\"1\" class=\"dataframe\">\n",
       "  <thead>\n",
       "    <tr style=\"text-align: right;\">\n",
       "      <th></th>\n",
       "      <th>user_id</th>\n",
       "      <th>create_date</th>\n",
       "      <th>payable_rmb_amount</th>\n",
       "      <th>buy_num</th>\n",
       "      <th>date</th>\n",
       "      <th>month</th>\n",
       "    </tr>\n",
       "  </thead>\n",
       "  <tbody>\n",
       "    <tr>\n",
       "      <th>4</th>\n",
       "      <td>71</td>\n",
       "      <td>2018-12-28 19:48:29</td>\n",
       "      <td>7.0</td>\n",
       "      <td>1.0</td>\n",
       "      <td>2018-12-28</td>\n",
       "      <td>2018-12-01</td>\n",
       "    </tr>\n",
       "    <tr>\n",
       "      <th>15</th>\n",
       "      <td>37</td>\n",
       "      <td>2018-12-28 22:03:50</td>\n",
       "      <td>10.0</td>\n",
       "      <td>1.0</td>\n",
       "      <td>2018-12-28</td>\n",
       "      <td>2018-12-01</td>\n",
       "    </tr>\n",
       "    <tr>\n",
       "      <th>16</th>\n",
       "      <td>956535</td>\n",
       "      <td>2018-12-28 22:06:59</td>\n",
       "      <td>133.0</td>\n",
       "      <td>1.0</td>\n",
       "      <td>2018-12-28</td>\n",
       "      <td>2018-12-01</td>\n",
       "    </tr>\n",
       "    <tr>\n",
       "      <th>17</th>\n",
       "      <td>1009675</td>\n",
       "      <td>2018-12-28 22:59:43</td>\n",
       "      <td>17.0</td>\n",
       "      <td>1.0</td>\n",
       "      <td>2018-12-28</td>\n",
       "      <td>2018-12-01</td>\n",
       "    </tr>\n",
       "    <tr>\n",
       "      <th>18</th>\n",
       "      <td>37</td>\n",
       "      <td>2018-12-28 23:05:29</td>\n",
       "      <td>17.0</td>\n",
       "      <td>1.0</td>\n",
       "      <td>2018-12-28</td>\n",
       "      <td>2018-12-01</td>\n",
       "    </tr>\n",
       "  </tbody>\n",
       "</table>\n",
       "</div>"
      ],
      "text/plain": [
       "    user_id         create_date  payable_rmb_amount  buy_num        date  \\\n",
       "4        71 2018-12-28 19:48:29                 7.0      1.0  2018-12-28   \n",
       "15       37 2018-12-28 22:03:50                10.0      1.0  2018-12-28   \n",
       "16   956535 2018-12-28 22:06:59               133.0      1.0  2018-12-28   \n",
       "17  1009675 2018-12-28 22:59:43                17.0      1.0  2018-12-28   \n",
       "18       37 2018-12-28 23:05:29                17.0      1.0  2018-12-28   \n",
       "\n",
       "        month  \n",
       "4  2018-12-01  \n",
       "15 2018-12-01  \n",
       "16 2018-12-01  \n",
       "17 2018-12-01  \n",
       "18 2018-12-01  "
      ]
     },
     "execution_count": 8,
     "metadata": {},
     "output_type": "execute_result"
    }
   ],
   "source": [
    "df.head()"
   ]
  },
  {
   "cell_type": "code",
   "execution_count": 9,
   "metadata": {
    "ExecuteTime": {
     "end_time": "2019-08-22T09:11:40.355320Z",
     "start_time": "2019-08-22T09:11:40.225665Z"
    }
   },
   "outputs": [
    {
     "name": "stdout",
     "output_type": "stream",
     "text": [
      "<class 'pandas.core.frame.DataFrame'>\n",
      "Int64Index: 222983 entries, 4 to 335277\n",
      "Data columns (total 6 columns):\n",
      "user_id               222983 non-null object\n",
      "create_date           222983 non-null datetime64[ns]\n",
      "payable_rmb_amount    222983 non-null float64\n",
      "buy_num               222983 non-null float64\n",
      "date                  222983 non-null object\n",
      "month                 222983 non-null datetime64[ns]\n",
      "dtypes: datetime64[ns](2), float64(2), object(2)\n",
      "memory usage: 11.9+ MB\n"
     ]
    }
   ],
   "source": [
    "df.info()"
   ]
  },
  {
   "cell_type": "code",
   "execution_count": 10,
   "metadata": {
    "ExecuteTime": {
     "end_time": "2019-08-22T09:11:40.546586Z",
     "start_time": "2019-08-22T09:11:40.357314Z"
    },
    "scrolled": true
   },
   "outputs": [
    {
     "data": {
      "text/html": [
       "<div>\n",
       "<style scoped>\n",
       "    .dataframe tbody tr th:only-of-type {\n",
       "        vertical-align: middle;\n",
       "    }\n",
       "\n",
       "    .dataframe tbody tr th {\n",
       "        vertical-align: top;\n",
       "    }\n",
       "\n",
       "    .dataframe thead th {\n",
       "        text-align: right;\n",
       "    }\n",
       "</style>\n",
       "<table border=\"1\" class=\"dataframe\">\n",
       "  <thead>\n",
       "    <tr style=\"text-align: right;\">\n",
       "      <th></th>\n",
       "      <th>payable_rmb_amount</th>\n",
       "      <th>buy_num</th>\n",
       "    </tr>\n",
       "  </thead>\n",
       "  <tbody>\n",
       "    <tr>\n",
       "      <th>count</th>\n",
       "      <td>222983.000000</td>\n",
       "      <td>222983.0</td>\n",
       "    </tr>\n",
       "    <tr>\n",
       "      <th>mean</th>\n",
       "      <td>7.156496</td>\n",
       "      <td>1.0</td>\n",
       "    </tr>\n",
       "    <tr>\n",
       "      <th>std</th>\n",
       "      <td>14.302916</td>\n",
       "      <td>0.0</td>\n",
       "    </tr>\n",
       "    <tr>\n",
       "      <th>min</th>\n",
       "      <td>0.000000</td>\n",
       "      <td>1.0</td>\n",
       "    </tr>\n",
       "    <tr>\n",
       "      <th>25%</th>\n",
       "      <td>3.990000</td>\n",
       "      <td>1.0</td>\n",
       "    </tr>\n",
       "    <tr>\n",
       "      <th>50%</th>\n",
       "      <td>4.990000</td>\n",
       "      <td>1.0</td>\n",
       "    </tr>\n",
       "    <tr>\n",
       "      <th>75%</th>\n",
       "      <td>5.990000</td>\n",
       "      <td>1.0</td>\n",
       "    </tr>\n",
       "    <tr>\n",
       "      <th>max</th>\n",
       "      <td>365.000000</td>\n",
       "      <td>1.0</td>\n",
       "    </tr>\n",
       "  </tbody>\n",
       "</table>\n",
       "</div>"
      ],
      "text/plain": [
       "       payable_rmb_amount   buy_num\n",
       "count       222983.000000  222983.0\n",
       "mean             7.156496       1.0\n",
       "std             14.302916       0.0\n",
       "min              0.000000       1.0\n",
       "25%              3.990000       1.0\n",
       "50%              4.990000       1.0\n",
       "75%              5.990000       1.0\n",
       "max            365.000000       1.0"
      ]
     },
     "execution_count": 10,
     "metadata": {},
     "output_type": "execute_result"
    }
   ],
   "source": [
    "# 共222983单支付成功，平均每单消费7.16元，75%消费6元以下\n",
    "df.describe()"
   ]
  },
  {
   "cell_type": "code",
   "execution_count": 11,
   "metadata": {
    "ExecuteTime": {
     "end_time": "2019-08-22T09:11:40.866183Z",
     "start_time": "2019-08-22T09:11:40.548545Z"
    }
   },
   "outputs": [],
   "source": [
    "# 按用户分组\n",
    "user_grouped = df.groupby(\"user_id\").sum()"
   ]
  },
  {
   "cell_type": "code",
   "execution_count": 12,
   "metadata": {
    "ExecuteTime": {
     "end_time": "2019-08-22T09:11:40.879149Z",
     "start_time": "2019-08-22T09:11:40.869143Z"
    }
   },
   "outputs": [
    {
     "data": {
      "text/html": [
       "<div>\n",
       "<style scoped>\n",
       "    .dataframe tbody tr th:only-of-type {\n",
       "        vertical-align: middle;\n",
       "    }\n",
       "\n",
       "    .dataframe tbody tr th {\n",
       "        vertical-align: top;\n",
       "    }\n",
       "\n",
       "    .dataframe thead th {\n",
       "        text-align: right;\n",
       "    }\n",
       "</style>\n",
       "<table border=\"1\" class=\"dataframe\">\n",
       "  <thead>\n",
       "    <tr style=\"text-align: right;\">\n",
       "      <th></th>\n",
       "      <th>payable_rmb_amount</th>\n",
       "      <th>buy_num</th>\n",
       "    </tr>\n",
       "    <tr>\n",
       "      <th>user_id</th>\n",
       "      <th></th>\n",
       "      <th></th>\n",
       "    </tr>\n",
       "  </thead>\n",
       "  <tbody>\n",
       "    <tr>\n",
       "      <th>10</th>\n",
       "      <td>0.00</td>\n",
       "      <td>1.0</td>\n",
       "    </tr>\n",
       "    <tr>\n",
       "      <th>10000055</th>\n",
       "      <td>9.98</td>\n",
       "      <td>2.0</td>\n",
       "    </tr>\n",
       "    <tr>\n",
       "      <th>10000061</th>\n",
       "      <td>3.99</td>\n",
       "      <td>1.0</td>\n",
       "    </tr>\n",
       "    <tr>\n",
       "      <th>10000128</th>\n",
       "      <td>0.99</td>\n",
       "      <td>1.0</td>\n",
       "    </tr>\n",
       "    <tr>\n",
       "      <th>10000353</th>\n",
       "      <td>17.18</td>\n",
       "      <td>3.0</td>\n",
       "    </tr>\n",
       "  </tbody>\n",
       "</table>\n",
       "</div>"
      ],
      "text/plain": [
       "          payable_rmb_amount  buy_num\n",
       "user_id                              \n",
       "10                      0.00      1.0\n",
       "10000055                9.98      2.0\n",
       "10000061                3.99      1.0\n",
       "10000128                0.99      1.0\n",
       "10000353               17.18      3.0"
      ]
     },
     "execution_count": 12,
     "metadata": {},
     "output_type": "execute_result"
    }
   ],
   "source": [
    "user_grouped.head()"
   ]
  },
  {
   "cell_type": "code",
   "execution_count": 13,
   "metadata": {
    "ExecuteTime": {
     "end_time": "2019-08-22T09:11:41.010363Z",
     "start_time": "2019-08-22T09:11:40.881116Z"
    }
   },
   "outputs": [
    {
     "data": {
      "text/html": [
       "<div>\n",
       "<style scoped>\n",
       "    .dataframe tbody tr th:only-of-type {\n",
       "        vertical-align: middle;\n",
       "    }\n",
       "\n",
       "    .dataframe tbody tr th {\n",
       "        vertical-align: top;\n",
       "    }\n",
       "\n",
       "    .dataframe thead th {\n",
       "        text-align: right;\n",
       "    }\n",
       "</style>\n",
       "<table border=\"1\" class=\"dataframe\">\n",
       "  <thead>\n",
       "    <tr style=\"text-align: right;\">\n",
       "      <th></th>\n",
       "      <th>payable_rmb_amount</th>\n",
       "      <th>buy_num</th>\n",
       "    </tr>\n",
       "  </thead>\n",
       "  <tbody>\n",
       "    <tr>\n",
       "      <th>count</th>\n",
       "      <td>101911.000000</td>\n",
       "      <td>101911.000000</td>\n",
       "    </tr>\n",
       "    <tr>\n",
       "      <th>mean</th>\n",
       "      <td>15.658535</td>\n",
       "      <td>2.188017</td>\n",
       "    </tr>\n",
       "    <tr>\n",
       "      <th>std</th>\n",
       "      <td>28.771613</td>\n",
       "      <td>2.490335</td>\n",
       "    </tr>\n",
       "    <tr>\n",
       "      <th>min</th>\n",
       "      <td>0.000000</td>\n",
       "      <td>1.000000</td>\n",
       "    </tr>\n",
       "    <tr>\n",
       "      <th>25%</th>\n",
       "      <td>3.990000</td>\n",
       "      <td>1.000000</td>\n",
       "    </tr>\n",
       "    <tr>\n",
       "      <th>50%</th>\n",
       "      <td>7.000000</td>\n",
       "      <td>1.000000</td>\n",
       "    </tr>\n",
       "    <tr>\n",
       "      <th>75%</th>\n",
       "      <td>16.990000</td>\n",
       "      <td>2.000000</td>\n",
       "    </tr>\n",
       "    <tr>\n",
       "      <th>max</th>\n",
       "      <td>1062.550000</td>\n",
       "      <td>262.000000</td>\n",
       "    </tr>\n",
       "  </tbody>\n",
       "</table>\n",
       "</div>"
      ],
      "text/plain": [
       "       payable_rmb_amount        buy_num\n",
       "count       101911.000000  101911.000000\n",
       "mean            15.658535       2.188017\n",
       "std             28.771613       2.490335\n",
       "min              0.000000       1.000000\n",
       "25%              3.990000       1.000000\n",
       "50%              7.000000       1.000000\n",
       "75%             16.990000       2.000000\n",
       "max           1062.550000     262.000000"
      ]
     },
     "execution_count": 13,
     "metadata": {},
     "output_type": "execute_result"
    }
   ],
   "source": [
    "# 用户数101911人(截止190822下午)，人均消费15.65元.75%用户消费17元以下\n",
    "# \n",
    "user_grouped.describe()"
   ]
  },
  {
   "cell_type": "code",
   "execution_count": 14,
   "metadata": {
    "ExecuteTime": {
     "end_time": "2019-08-22T09:11:41.707703Z",
     "start_time": "2019-08-22T09:11:41.012356Z"
    },
    "scrolled": true
   },
   "outputs": [
    {
     "data": {
      "text/plain": [
       "Text(0.5, 1.0, '各月用户支付金额')"
      ]
     },
     "execution_count": 14,
     "metadata": {},
     "output_type": "execute_result"
    },
    {
     "data": {
      "image/png": "[encoded data removed]",
      "text/plain": [
       "<Figure size 720x288 with 1 Axes>"
      ]
     },
     "metadata": {
      "needs_background": "light"
     },
     "output_type": "display_data"
    }
   ],
   "source": [
    "plt.figure(figsize = (10,4))\n",
    "ax = df.groupby('month').payable_rmb_amount.sum().plot()\n",
    "ax.set_xlabel(\"月份\",fontproperties=chinese)\n",
    "ax.set_ylabel(\"实付金额\",fontproperties=chinese)\n",
    "ax.set_title(\"各月用户支付金额\",fontproperties=chinese)"
   ]
  },
  {
   "cell_type": "markdown",
   "metadata": {},
   "source": [
    "#### 19年2-3月销量达到高峰，之后4-5出现一次大幅下降，最后趋于平稳"
   ]
  },
  {
   "cell_type": "code",
   "execution_count": 15,
   "metadata": {
    "ExecuteTime": {
     "end_time": "2019-08-22T09:11:41.915119Z",
     "start_time": "2019-08-22T09:11:41.709666Z"
    },
    "scrolled": false
   },
   "outputs": [
    {
     "data": {
      "text/plain": [
       "Text(0.5, 1.0, '各月用户购买商品数(订单数)')"
      ]
     },
     "execution_count": 15,
     "metadata": {},
     "output_type": "execute_result"
    },
    {
     "data": {
      "image/png": "[encoded data removed]",
      "text/plain": [
       "<Figure size 720x288 with 1 Axes>"
      ]
     },
     "metadata": {
      "needs_background": "light"
     },
     "output_type": "display_data"
    }
   ],
   "source": [
    "plt.figure(figsize = (10,4))\n",
    "ax = df.groupby('month').buy_num.sum().plot()\n",
    "ax.set_xlabel(\"月份\",fontproperties=chinese)\n",
    "ax.set_ylabel(\"商品购买数\",fontproperties=chinese)\n",
    "ax.set_title(\"各月用户购买商品数(订单数)\",fontproperties=chinese)"
   ]
  },
  {
   "cell_type": "markdown",
   "metadata": {},
   "source": [
    "##### 4月销量下滑趋势没有金额幅度大，可能是商品价格下降导致"
   ]
  },
  {
   "cell_type": "code",
   "execution_count": 16,
   "metadata": {
    "ExecuteTime": {
     "end_time": "2019-08-22T09:11:43.298698Z",
     "start_time": "2019-08-22T09:11:41.918109Z"
    }
   },
   "outputs": [
    {
     "data": {
      "text/plain": [
       "Text(0.5, 1.0, '各用户实付金额与购买商品数关系')"
      ]
     },
     "execution_count": 16,
     "metadata": {},
     "output_type": "execute_result"
    },
    {
     "data": {
      "text/plain": [
       "<Figure size 1440x576 with 0 Axes>"
      ]
     },
     "metadata": {},
     "output_type": "display_data"
    },
    {
     "data": {
      "image/png": "[encoded data removed]",
      "text/plain": [
       "<Figure size 432x288 with 1 Axes>"
      ]
     },
     "metadata": {
      "needs_background": "light"
     },
     "output_type": "display_data"
    }
   ],
   "source": [
    "plt.figure(figsize = (20,8))\n",
    "ax = df.groupby('user_id').sum().plot.scatter(\"payable_rmb_amount\",\"buy_num\")\n",
    "ax.set_xlabel(\"实付金额\",fontproperties=chinese)\n",
    "ax.set_ylabel(\"购买商品数\",fontproperties=chinese)\n",
    "ax.set_title(\"各用户实付金额与购买商品数关系\",fontproperties=chinese)"
   ]
  },
  {
   "cell_type": "markdown",
   "metadata": {},
   "source": [
    "#### 总体还算正常，有极少数异常值，但数量不够影响全局"
   ]
  },
  {
   "cell_type": "code",
   "execution_count": 17,
   "metadata": {
    "ExecuteTime": {
     "end_time": "2019-08-22T09:11:44.236229Z",
     "start_time": "2019-08-22T09:11:43.301667Z"
    }
   },
   "outputs": [
    {
     "data": {
      "text/plain": [
       "Text(0.5, 1.0, '用户购买商品数分布')"
      ]
     },
     "execution_count": 17,
     "metadata": {},
     "output_type": "execute_result"
    },
    {
     "data": {
      "image/png": "[encoded data removed]",
      "text/plain": [
       "<Figure size 1152x432 with 2 Axes>"
      ]
     },
     "metadata": {
      "needs_background": "light"
     },
     "output_type": "display_data"
    }
   ],
   "source": [
    "# 画个直方图看看分布\n",
    "plt.figure(figsize=(16,6))\n",
    "plt.subplot(121)\n",
    "ax = df.groupby(\"user_id\").payable_rmb_amount.sum().hist(bins = 50)\n",
    "ax.set_xlabel(\"实付金额\",fontproperties=chinese)\n",
    "ax.set_ylabel(\"用户数\",fontproperties=chinese)\n",
    "ax.set_xlim(0,150)\n",
    "ax.set_title(\"用户消费金额分布\",fontproperties = chinese)\n",
    "plt.subplot(122)\n",
    "ax = df.groupby('user_id').buy_num.count().hist(bins = 50)\n",
    "ax.set_xlabel('商品购买数',fontproperties = chinese)\n",
    "ax.set_ylabel(\"用户数\",fontproperties = chinese)\n",
    "ax.set_xlim(0,2000)\n",
    "ax.set_title(\"用户购买商品数分布\",fontproperties = chinese)"
   ]
  },
  {
   "cell_type": "code",
   "execution_count": 18,
   "metadata": {
    "ExecuteTime": {
     "end_time": "2019-08-22T09:11:44.438232Z",
     "start_time": "2019-08-22T09:11:44.238190Z"
    }
   },
   "outputs": [
    {
     "name": "stdout",
     "output_type": "stream",
     "text": [
      "用户首次消费月份(每月新客数)\n",
      "2019-02-01    35095\n",
      "2019-03-01    22004\n",
      "2019-04-01    12294\n",
      "2019-01-01    10930\n",
      "2019-06-01     9280\n",
      "2019-05-01     6046\n",
      "2019-07-01     4420\n",
      "2019-08-01     1786\n",
      "2018-12-01       56\n",
      "Name: month, dtype: int64\n"
     ]
    }
   ],
   "source": [
    "print(\"用户首次消费月份(每月新客数)\")\n",
    "print(df.groupby(\"user_id\").month.min().value_counts())"
   ]
  },
  {
   "cell_type": "code",
   "execution_count": 19,
   "metadata": {
    "ExecuteTime": {
     "end_time": "2019-08-22T09:11:44.630281Z",
     "start_time": "2019-08-22T09:11:44.440194Z"
    }
   },
   "outputs": [
    {
     "name": "stdout",
     "output_type": "stream",
     "text": [
      "用户末次消费月份：(末次消费)\n",
      "2019-02-01    27370\n",
      "2019-03-01    18260\n",
      "2019-04-01    13375\n",
      "2019-07-01    12861\n",
      "2019-06-01    10728\n",
      "2019-01-01     7477\n",
      "2019-08-01     6849\n",
      "2019-05-01     4968\n",
      "2018-12-01       23\n",
      "Name: month, dtype: int64\n"
     ]
    }
   ],
   "source": [
    "print(\"用户末次消费月份：(末次消费)\")\n",
    "print(df.groupby('user_id').month.max().value_counts())"
   ]
  },
  {
   "cell_type": "markdown",
   "metadata": {},
   "source": [
    "### 复购率:当月购买2次及以上为复购用户"
   ]
  },
  {
   "cell_type": "code",
   "execution_count": 20,
   "metadata": {
    "ExecuteTime": {
     "end_time": "2019-08-22T09:11:45.096327Z",
     "start_time": "2019-08-22T09:11:44.632274Z"
    }
   },
   "outputs": [
    {
     "data": {
      "text/html": [
       "<div>\n",
       "<style scoped>\n",
       "    .dataframe tbody tr th:only-of-type {\n",
       "        vertical-align: middle;\n",
       "    }\n",
       "\n",
       "    .dataframe tbody tr th {\n",
       "        vertical-align: top;\n",
       "    }\n",
       "\n",
       "    .dataframe thead th {\n",
       "        text-align: right;\n",
       "    }\n",
       "</style>\n",
       "<table border=\"1\" class=\"dataframe\">\n",
       "  <thead>\n",
       "    <tr style=\"text-align: right;\">\n",
       "      <th>month</th>\n",
       "      <th>2018-12-01 00:00:00</th>\n",
       "      <th>2019-01-01 00:00:00</th>\n",
       "      <th>2019-02-01 00:00:00</th>\n",
       "      <th>2019-03-01 00:00:00</th>\n",
       "      <th>2019-04-01 00:00:00</th>\n",
       "      <th>2019-05-01 00:00:00</th>\n",
       "      <th>2019-06-01 00:00:00</th>\n",
       "      <th>2019-07-01 00:00:00</th>\n",
       "      <th>2019-08-01 00:00:00</th>\n",
       "    </tr>\n",
       "    <tr>\n",
       "      <th>user_id</th>\n",
       "      <th></th>\n",
       "      <th></th>\n",
       "      <th></th>\n",
       "      <th></th>\n",
       "      <th></th>\n",
       "      <th></th>\n",
       "      <th></th>\n",
       "      <th></th>\n",
       "      <th></th>\n",
       "    </tr>\n",
       "  </thead>\n",
       "  <tbody>\n",
       "    <tr>\n",
       "      <th>10</th>\n",
       "      <td>0.0</td>\n",
       "      <td>0.0</td>\n",
       "      <td>0.0</td>\n",
       "      <td>0.0</td>\n",
       "      <td>0.0</td>\n",
       "      <td>0.0</td>\n",
       "      <td>0.0</td>\n",
       "      <td>0.0</td>\n",
       "      <td>1.0</td>\n",
       "    </tr>\n",
       "    <tr>\n",
       "      <th>10000055</th>\n",
       "      <td>0.0</td>\n",
       "      <td>0.0</td>\n",
       "      <td>0.0</td>\n",
       "      <td>0.0</td>\n",
       "      <td>0.0</td>\n",
       "      <td>0.0</td>\n",
       "      <td>1.0</td>\n",
       "      <td>1.0</td>\n",
       "      <td>0.0</td>\n",
       "    </tr>\n",
       "    <tr>\n",
       "      <th>10000061</th>\n",
       "      <td>0.0</td>\n",
       "      <td>0.0</td>\n",
       "      <td>0.0</td>\n",
       "      <td>0.0</td>\n",
       "      <td>0.0</td>\n",
       "      <td>1.0</td>\n",
       "      <td>0.0</td>\n",
       "      <td>0.0</td>\n",
       "      <td>0.0</td>\n",
       "    </tr>\n",
       "    <tr>\n",
       "      <th>10000128</th>\n",
       "      <td>0.0</td>\n",
       "      <td>0.0</td>\n",
       "      <td>0.0</td>\n",
       "      <td>0.0</td>\n",
       "      <td>1.0</td>\n",
       "      <td>0.0</td>\n",
       "      <td>0.0</td>\n",
       "      <td>0.0</td>\n",
       "      <td>0.0</td>\n",
       "    </tr>\n",
       "    <tr>\n",
       "      <th>10000353</th>\n",
       "      <td>0.0</td>\n",
       "      <td>1.0</td>\n",
       "      <td>0.0</td>\n",
       "      <td>0.0</td>\n",
       "      <td>1.0</td>\n",
       "      <td>1.0</td>\n",
       "      <td>0.0</td>\n",
       "      <td>0.0</td>\n",
       "      <td>0.0</td>\n",
       "    </tr>\n",
       "    <tr>\n",
       "      <th>10000379</th>\n",
       "      <td>0.0</td>\n",
       "      <td>0.0</td>\n",
       "      <td>1.0</td>\n",
       "      <td>0.0</td>\n",
       "      <td>0.0</td>\n",
       "      <td>0.0</td>\n",
       "      <td>0.0</td>\n",
       "      <td>0.0</td>\n",
       "      <td>0.0</td>\n",
       "    </tr>\n",
       "    <tr>\n",
       "      <th>10000422</th>\n",
       "      <td>0.0</td>\n",
       "      <td>0.0</td>\n",
       "      <td>0.0</td>\n",
       "      <td>0.0</td>\n",
       "      <td>0.0</td>\n",
       "      <td>2.0</td>\n",
       "      <td>2.0</td>\n",
       "      <td>1.0</td>\n",
       "      <td>0.0</td>\n",
       "    </tr>\n",
       "    <tr>\n",
       "      <th>1000050</th>\n",
       "      <td>0.0</td>\n",
       "      <td>0.0</td>\n",
       "      <td>0.0</td>\n",
       "      <td>0.0</td>\n",
       "      <td>0.0</td>\n",
       "      <td>0.0</td>\n",
       "      <td>0.0</td>\n",
       "      <td>1.0</td>\n",
       "      <td>0.0</td>\n",
       "    </tr>\n",
       "    <tr>\n",
       "      <th>10000568</th>\n",
       "      <td>0.0</td>\n",
       "      <td>0.0</td>\n",
       "      <td>0.0</td>\n",
       "      <td>0.0</td>\n",
       "      <td>0.0</td>\n",
       "      <td>0.0</td>\n",
       "      <td>1.0</td>\n",
       "      <td>0.0</td>\n",
       "      <td>0.0</td>\n",
       "    </tr>\n",
       "    <tr>\n",
       "      <th>10000646</th>\n",
       "      <td>0.0</td>\n",
       "      <td>0.0</td>\n",
       "      <td>0.0</td>\n",
       "      <td>2.0</td>\n",
       "      <td>0.0</td>\n",
       "      <td>0.0</td>\n",
       "      <td>0.0</td>\n",
       "      <td>0.0</td>\n",
       "      <td>0.0</td>\n",
       "    </tr>\n",
       "  </tbody>\n",
       "</table>\n",
       "</div>"
      ],
      "text/plain": [
       "month     2018-12-01  2019-01-01  2019-02-01  2019-03-01  2019-04-01  \\\n",
       "user_id                                                                \n",
       "10               0.0         0.0         0.0         0.0         0.0   \n",
       "10000055         0.0         0.0         0.0         0.0         0.0   \n",
       "10000061         0.0         0.0         0.0         0.0         0.0   \n",
       "10000128         0.0         0.0         0.0         0.0         1.0   \n",
       "10000353         0.0         1.0         0.0         0.0         1.0   \n",
       "10000379         0.0         0.0         1.0         0.0         0.0   \n",
       "10000422         0.0         0.0         0.0         0.0         0.0   \n",
       "1000050          0.0         0.0         0.0         0.0         0.0   \n",
       "10000568         0.0         0.0         0.0         0.0         0.0   \n",
       "10000646         0.0         0.0         0.0         2.0         0.0   \n",
       "\n",
       "month     2019-05-01  2019-06-01  2019-07-01  2019-08-01  \n",
       "user_id                                                   \n",
       "10               0.0         0.0         0.0         1.0  \n",
       "10000055         0.0         1.0         1.0         0.0  \n",
       "10000061         1.0         0.0         0.0         0.0  \n",
       "10000128         0.0         0.0         0.0         0.0  \n",
       "10000353         1.0         0.0         0.0         0.0  \n",
       "10000379         0.0         0.0         0.0         0.0  \n",
       "10000422         2.0         2.0         1.0         0.0  \n",
       "1000050          0.0         0.0         1.0         0.0  \n",
       "10000568         0.0         1.0         0.0         0.0  \n",
       "10000646         0.0         0.0         0.0         0.0  "
      ]
     },
     "execution_count": 20,
     "metadata": {},
     "output_type": "execute_result"
    }
   ],
   "source": [
    "# 算出每个用户下单月份\n",
    "df_FuGou = df.pivot_table(index='user_id',columns='month',\n",
    "                             values='date',aggfunc='count').fillna(0)\n",
    "df_FuGou.head(10)"
   ]
  },
  {
   "cell_type": "code",
   "execution_count": 21,
   "metadata": {
    "ExecuteTime": {
     "end_time": "2019-08-22T09:11:45.443524Z",
     "start_time": "2019-08-22T09:11:45.098321Z"
    }
   },
   "outputs": [],
   "source": [
    "# 数据转化，消费两次及以上的记为1，一次记为0，没有消费记为NaN\n",
    "df_FuGou_transf = df_FuGou.applymap(lambda x:1 if x > 1 else np.NaN if x == 0 else 0)"
   ]
  },
  {
   "cell_type": "code",
   "execution_count": 22,
   "metadata": {
    "ExecuteTime": {
     "end_time": "2019-08-22T09:11:45.843652Z",
     "start_time": "2019-08-22T09:11:45.445392Z"
    }
   },
   "outputs": [
    {
     "data": {
      "text/plain": [
       "Text(0.5, 1.0, '各月复购率')"
      ]
     },
     "execution_count": 22,
     "metadata": {},
     "output_type": "execute_result"
    },
    {
     "data": {
      "image/png": "[encoded data removed]",
      "text/plain": [
       "<Figure size 720x288 with 1 Axes>"
      ]
     },
     "metadata": {
      "needs_background": "light"
     },
     "output_type": "display_data"
    }
   ],
   "source": [
    "#计算复购率并作图\n",
    "ax = (df_FuGou_transf.sum()/df_FuGou_transf.count()).plot(figsize = (10,4))\n",
    "ax.set_xlabel(\"月份\",fontproperties=chinese)\n",
    "ax.set_ylabel(\"复购百分比\",fontproperties=chinese)\n",
    "ax.set_title(\"各月复购率\",fontproperties=chinese)"
   ]
  },
  {
   "cell_type": "code",
   "execution_count": 25,
   "metadata": {
    "ExecuteTime": {
     "end_time": "2019-08-22T09:15:50.938051Z",
     "start_time": "2019-08-22T09:15:50.671759Z"
    }
   },
   "outputs": [
    {
     "data": {
      "text/plain": [
       "<matplotlib.legend.Legend at 0x1db0066a400>"
      ]
     },
     "execution_count": 25,
     "metadata": {},
     "output_type": "execute_result"
    },
    {
     "data": {
      "image/png": "[encoded data removed]",
      "text/plain": [
       "<Figure size 864x288 with 1 Axes>"
      ]
     },
     "metadata": {
      "needs_background": "light"
     },
     "output_type": "display_data"
    }
   ],
   "source": [
    "# 细分一下\n",
    "\n",
    "fig , ax = plt.subplots(figsize = (12,4))\n",
    "ax.plot(df_FuGou_transf.count())\n",
    "ax.plot(df_FuGou_transf.sum())\n",
    "ax.set_xlabel(\"月份\",fontproperties=chinese)\n",
    "ax.set_ylabel(\"购买人数\",fontproperties=chinese)\n",
    "ax.set_title(\"各月二次消费与总消费用户数对比\")\n",
    "legends = [\"总消费人数\",\"多于二次消费人数\"]\n",
    "ax.legend(legends,prop=chinese,loc='upper right')"
   ]
  },
  {
   "cell_type": "markdown",
   "metadata": {},
   "source": [
    "##### 复购人数从19年3月起开始趋于稳定，证明沉淀下来此部分用户忠诚度很高。"
   ]
  },
  {
   "cell_type": "markdown",
   "metadata": {},
   "source": [
    "### 回购率：某时间段内消费的用户，在下个时间周期内仍消费的占比。"
   ]
  },
  {
   "cell_type": "code",
   "execution_count": 28,
   "metadata": {
    "ExecuteTime": {
     "end_time": "2019-08-22T09:25:44.558309Z",
     "start_time": "2019-08-22T09:25:44.034689Z"
    }
   },
   "outputs": [
    {
     "data": {
      "text/html": [
       "<div>\n",
       "<style scoped>\n",
       "    .dataframe tbody tr th:only-of-type {\n",
       "        vertical-align: middle;\n",
       "    }\n",
       "\n",
       "    .dataframe tbody tr th {\n",
       "        vertical-align: top;\n",
       "    }\n",
       "\n",
       "    .dataframe thead th {\n",
       "        text-align: right;\n",
       "    }\n",
       "</style>\n",
       "<table border=\"1\" class=\"dataframe\">\n",
       "  <thead>\n",
       "    <tr style=\"text-align: right;\">\n",
       "      <th>month</th>\n",
       "      <th>2018-12-01 00:00:00</th>\n",
       "      <th>2019-01-01 00:00:00</th>\n",
       "      <th>2019-02-01 00:00:00</th>\n",
       "      <th>2019-03-01 00:00:00</th>\n",
       "      <th>2019-04-01 00:00:00</th>\n",
       "      <th>2019-05-01 00:00:00</th>\n",
       "      <th>2019-06-01 00:00:00</th>\n",
       "      <th>2019-07-01 00:00:00</th>\n",
       "      <th>2019-08-01 00:00:00</th>\n",
       "    </tr>\n",
       "    <tr>\n",
       "      <th>user_id</th>\n",
       "      <th></th>\n",
       "      <th></th>\n",
       "      <th></th>\n",
       "      <th></th>\n",
       "      <th></th>\n",
       "      <th></th>\n",
       "      <th></th>\n",
       "      <th></th>\n",
       "      <th></th>\n",
       "    </tr>\n",
       "  </thead>\n",
       "  <tbody>\n",
       "    <tr>\n",
       "      <th>10</th>\n",
       "      <td>0.0</td>\n",
       "      <td>0.0</td>\n",
       "      <td>0.0</td>\n",
       "      <td>0.0</td>\n",
       "      <td>0.0</td>\n",
       "      <td>0.0</td>\n",
       "      <td>0.0</td>\n",
       "      <td>0.0</td>\n",
       "      <td>1.0</td>\n",
       "    </tr>\n",
       "    <tr>\n",
       "      <th>10000055</th>\n",
       "      <td>0.0</td>\n",
       "      <td>0.0</td>\n",
       "      <td>0.0</td>\n",
       "      <td>0.0</td>\n",
       "      <td>0.0</td>\n",
       "      <td>0.0</td>\n",
       "      <td>1.0</td>\n",
       "      <td>1.0</td>\n",
       "      <td>0.0</td>\n",
       "    </tr>\n",
       "    <tr>\n",
       "      <th>10000061</th>\n",
       "      <td>0.0</td>\n",
       "      <td>0.0</td>\n",
       "      <td>0.0</td>\n",
       "      <td>0.0</td>\n",
       "      <td>0.0</td>\n",
       "      <td>1.0</td>\n",
       "      <td>0.0</td>\n",
       "      <td>0.0</td>\n",
       "      <td>0.0</td>\n",
       "    </tr>\n",
       "    <tr>\n",
       "      <th>10000128</th>\n",
       "      <td>0.0</td>\n",
       "      <td>0.0</td>\n",
       "      <td>0.0</td>\n",
       "      <td>0.0</td>\n",
       "      <td>1.0</td>\n",
       "      <td>0.0</td>\n",
       "      <td>0.0</td>\n",
       "      <td>0.0</td>\n",
       "      <td>0.0</td>\n",
       "    </tr>\n",
       "    <tr>\n",
       "      <th>10000353</th>\n",
       "      <td>0.0</td>\n",
       "      <td>1.0</td>\n",
       "      <td>0.0</td>\n",
       "      <td>0.0</td>\n",
       "      <td>1.0</td>\n",
       "      <td>1.0</td>\n",
       "      <td>0.0</td>\n",
       "      <td>0.0</td>\n",
       "      <td>0.0</td>\n",
       "    </tr>\n",
       "  </tbody>\n",
       "</table>\n",
       "</div>"
      ],
      "text/plain": [
       "month     2018-12-01  2019-01-01  2019-02-01  2019-03-01  2019-04-01  \\\n",
       "user_id                                                                \n",
       "10               0.0         0.0         0.0         0.0         0.0   \n",
       "10000055         0.0         0.0         0.0         0.0         0.0   \n",
       "10000061         0.0         0.0         0.0         0.0         0.0   \n",
       "10000128         0.0         0.0         0.0         0.0         1.0   \n",
       "10000353         0.0         1.0         0.0         0.0         1.0   \n",
       "\n",
       "month     2019-05-01  2019-06-01  2019-07-01  2019-08-01  \n",
       "user_id                                                   \n",
       "10               0.0         0.0         0.0         1.0  \n",
       "10000055         0.0         1.0         1.0         0.0  \n",
       "10000061         1.0         0.0         0.0         0.0  \n",
       "10000128         0.0         0.0         0.0         0.0  \n",
       "10000353         1.0         0.0         0.0         0.0  "
      ]
     },
     "execution_count": 28,
     "metadata": {},
     "output_type": "execute_result"
    }
   ],
   "source": [
    "# 算出每个用户各月购买次数\n",
    "df_HuiGou = df.pivot_table(index=\"user_id\",columns=\"month\",\n",
    "                          values=\"date\",aggfunc='count').fillna(0)\n",
    "df_HuiGou.head()"
   ]
  },
  {
   "cell_type": "code",
   "execution_count": 30,
   "metadata": {
    "ExecuteTime": {
     "end_time": "2019-08-22T09:27:17.958366Z",
     "start_time": "2019-08-22T09:27:17.599456Z"
    }
   },
   "outputs": [
    {
     "data": {
      "text/html": [
       "<div>\n",
       "<style scoped>\n",
       "    .dataframe tbody tr th:only-of-type {\n",
       "        vertical-align: middle;\n",
       "    }\n",
       "\n",
       "    .dataframe tbody tr th {\n",
       "        vertical-align: top;\n",
       "    }\n",
       "\n",
       "    .dataframe thead th {\n",
       "        text-align: right;\n",
       "    }\n",
       "</style>\n",
       "<table border=\"1\" class=\"dataframe\">\n",
       "  <thead>\n",
       "    <tr style=\"text-align: right;\">\n",
       "      <th>month</th>\n",
       "      <th>2018-12-01 00:00:00</th>\n",
       "      <th>2019-01-01 00:00:00</th>\n",
       "      <th>2019-02-01 00:00:00</th>\n",
       "      <th>2019-03-01 00:00:00</th>\n",
       "      <th>2019-04-01 00:00:00</th>\n",
       "      <th>2019-05-01 00:00:00</th>\n",
       "      <th>2019-06-01 00:00:00</th>\n",
       "      <th>2019-07-01 00:00:00</th>\n",
       "      <th>2019-08-01 00:00:00</th>\n",
       "    </tr>\n",
       "    <tr>\n",
       "      <th>user_id</th>\n",
       "      <th></th>\n",
       "      <th></th>\n",
       "      <th></th>\n",
       "      <th></th>\n",
       "      <th></th>\n",
       "      <th></th>\n",
       "      <th></th>\n",
       "      <th></th>\n",
       "      <th></th>\n",
       "    </tr>\n",
       "  </thead>\n",
       "  <tbody>\n",
       "    <tr>\n",
       "      <th>10</th>\n",
       "      <td>0</td>\n",
       "      <td>0</td>\n",
       "      <td>0</td>\n",
       "      <td>0</td>\n",
       "      <td>0</td>\n",
       "      <td>0</td>\n",
       "      <td>0</td>\n",
       "      <td>0</td>\n",
       "      <td>1</td>\n",
       "    </tr>\n",
       "    <tr>\n",
       "      <th>10000055</th>\n",
       "      <td>0</td>\n",
       "      <td>0</td>\n",
       "      <td>0</td>\n",
       "      <td>0</td>\n",
       "      <td>0</td>\n",
       "      <td>0</td>\n",
       "      <td>1</td>\n",
       "      <td>1</td>\n",
       "      <td>0</td>\n",
       "    </tr>\n",
       "    <tr>\n",
       "      <th>10000061</th>\n",
       "      <td>0</td>\n",
       "      <td>0</td>\n",
       "      <td>0</td>\n",
       "      <td>0</td>\n",
       "      <td>0</td>\n",
       "      <td>1</td>\n",
       "      <td>0</td>\n",
       "      <td>0</td>\n",
       "      <td>0</td>\n",
       "    </tr>\n",
       "    <tr>\n",
       "      <th>10000128</th>\n",
       "      <td>0</td>\n",
       "      <td>0</td>\n",
       "      <td>0</td>\n",
       "      <td>0</td>\n",
       "      <td>1</td>\n",
       "      <td>0</td>\n",
       "      <td>0</td>\n",
       "      <td>0</td>\n",
       "      <td>0</td>\n",
       "    </tr>\n",
       "    <tr>\n",
       "      <th>10000353</th>\n",
       "      <td>0</td>\n",
       "      <td>1</td>\n",
       "      <td>0</td>\n",
       "      <td>0</td>\n",
       "      <td>1</td>\n",
       "      <td>1</td>\n",
       "      <td>0</td>\n",
       "      <td>0</td>\n",
       "      <td>0</td>\n",
       "    </tr>\n",
       "    <tr>\n",
       "      <th>10000379</th>\n",
       "      <td>0</td>\n",
       "      <td>0</td>\n",
       "      <td>1</td>\n",
       "      <td>0</td>\n",
       "      <td>0</td>\n",
       "      <td>0</td>\n",
       "      <td>0</td>\n",
       "      <td>0</td>\n",
       "      <td>0</td>\n",
       "    </tr>\n",
       "    <tr>\n",
       "      <th>10000422</th>\n",
       "      <td>0</td>\n",
       "      <td>0</td>\n",
       "      <td>0</td>\n",
       "      <td>0</td>\n",
       "      <td>0</td>\n",
       "      <td>1</td>\n",
       "      <td>1</td>\n",
       "      <td>1</td>\n",
       "      <td>0</td>\n",
       "    </tr>\n",
       "    <tr>\n",
       "      <th>1000050</th>\n",
       "      <td>0</td>\n",
       "      <td>0</td>\n",
       "      <td>0</td>\n",
       "      <td>0</td>\n",
       "      <td>0</td>\n",
       "      <td>0</td>\n",
       "      <td>0</td>\n",
       "      <td>1</td>\n",
       "      <td>0</td>\n",
       "    </tr>\n",
       "    <tr>\n",
       "      <th>10000568</th>\n",
       "      <td>0</td>\n",
       "      <td>0</td>\n",
       "      <td>0</td>\n",
       "      <td>0</td>\n",
       "      <td>0</td>\n",
       "      <td>0</td>\n",
       "      <td>1</td>\n",
       "      <td>0</td>\n",
       "      <td>0</td>\n",
       "    </tr>\n",
       "    <tr>\n",
       "      <th>10000646</th>\n",
       "      <td>0</td>\n",
       "      <td>0</td>\n",
       "      <td>0</td>\n",
       "      <td>1</td>\n",
       "      <td>0</td>\n",
       "      <td>0</td>\n",
       "      <td>0</td>\n",
       "      <td>0</td>\n",
       "      <td>0</td>\n",
       "    </tr>\n",
       "  </tbody>\n",
       "</table>\n",
       "</div>"
      ],
      "text/plain": [
       "month     2018-12-01  2019-01-01  2019-02-01  2019-03-01  2019-04-01  \\\n",
       "user_id                                                                \n",
       "10                 0           0           0           0           0   \n",
       "10000055           0           0           0           0           0   \n",
       "10000061           0           0           0           0           0   \n",
       "10000128           0           0           0           0           1   \n",
       "10000353           0           1           0           0           1   \n",
       "10000379           0           0           1           0           0   \n",
       "10000422           0           0           0           0           0   \n",
       "1000050            0           0           0           0           0   \n",
       "10000568           0           0           0           0           0   \n",
       "10000646           0           0           0           1           0   \n",
       "\n",
       "month     2019-05-01  2019-06-01  2019-07-01  2019-08-01  \n",
       "user_id                                                   \n",
       "10                 0           0           0           1  \n",
       "10000055           0           1           1           0  \n",
       "10000061           1           0           0           0  \n",
       "10000128           0           0           0           0  \n",
       "10000353           1           0           0           0  \n",
       "10000379           0           0           0           0  \n",
       "10000422           1           1           1           0  \n",
       "1000050            0           0           1           0  \n",
       "10000568           0           1           0           0  \n",
       "10000646           0           0           0           0  "
      ]
     },
     "execution_count": 30,
     "metadata": {},
     "output_type": "execute_result"
    }
   ],
   "source": [
    "# 数据转化，购买过为1，没买为0\n",
    "df_HuiGou_transf = df_HuiGou.applymap(lambda x:1 if x>0 else 0)\n",
    "df_HuiGou_transf.head(10)"
   ]
  },
  {
   "cell_type": "code",
   "execution_count": 38,
   "metadata": {
    "ExecuteTime": {
     "end_time": "2019-08-22T09:38:52.919503Z",
     "start_time": "2019-08-22T09:38:52.913520Z"
    }
   },
   "outputs": [],
   "source": [
    "#定义函数，每个月都要跟后面一个月对比下，\n",
    "#本月有消费且下月也有消费，则本月记为1，\n",
    "#本月有消费且下月没有消费，则本月记为0，\n",
    "#本月没有消费则为NaN，\n",
    "#由于最后个月没有下月数据，规定全为NaN\n",
    "def purchase_return(data):\n",
    "    status = []\n",
    "    for i in range(8):\n",
    "        if data[i] == 1:\n",
    "            if data[i+1] == 1:\n",
    "                status.append(1)\n",
    "            if data[i+1] == 0:\n",
    "                status.append(0)\n",
    "        else:\n",
    "            status.append(np.NaN)\n",
    "    status.append(np.NaN)       \n",
    "    return pd.Series(status)\n",
    "#     return status\n",
    "    "
   ]
  },
  {
   "cell_type": "code",
   "execution_count": 39,
   "metadata": {
    "ExecuteTime": {
     "end_time": "2019-08-22T09:39:39.113216Z",
     "start_time": "2019-08-22T09:38:53.326568Z"
    }
   },
   "outputs": [
    {
     "data": {
      "text/html": [
       "<div>\n",
       "<style scoped>\n",
       "    .dataframe tbody tr th:only-of-type {\n",
       "        vertical-align: middle;\n",
       "    }\n",
       "\n",
       "    .dataframe tbody tr th {\n",
       "        vertical-align: top;\n",
       "    }\n",
       "\n",
       "    .dataframe thead th {\n",
       "        text-align: right;\n",
       "    }\n",
       "</style>\n",
       "<table border=\"1\" class=\"dataframe\">\n",
       "  <thead>\n",
       "    <tr style=\"text-align: right;\">\n",
       "      <th></th>\n",
       "      <th>0</th>\n",
       "      <th>1</th>\n",
       "      <th>2</th>\n",
       "      <th>3</th>\n",
       "      <th>4</th>\n",
       "      <th>5</th>\n",
       "      <th>6</th>\n",
       "      <th>7</th>\n",
       "      <th>8</th>\n",
       "    </tr>\n",
       "    <tr>\n",
       "      <th>user_id</th>\n",
       "      <th></th>\n",
       "      <th></th>\n",
       "      <th></th>\n",
       "      <th></th>\n",
       "      <th></th>\n",
       "      <th></th>\n",
       "      <th></th>\n",
       "      <th></th>\n",
       "      <th></th>\n",
       "    </tr>\n",
       "  </thead>\n",
       "  <tbody>\n",
       "    <tr>\n",
       "      <th>10</th>\n",
       "      <td>NaN</td>\n",
       "      <td>NaN</td>\n",
       "      <td>NaN</td>\n",
       "      <td>NaN</td>\n",
       "      <td>NaN</td>\n",
       "      <td>NaN</td>\n",
       "      <td>NaN</td>\n",
       "      <td>NaN</td>\n",
       "      <td>NaN</td>\n",
       "    </tr>\n",
       "    <tr>\n",
       "      <th>10000055</th>\n",
       "      <td>NaN</td>\n",
       "      <td>NaN</td>\n",
       "      <td>NaN</td>\n",
       "      <td>NaN</td>\n",
       "      <td>NaN</td>\n",
       "      <td>NaN</td>\n",
       "      <td>1.0</td>\n",
       "      <td>0.0</td>\n",
       "      <td>NaN</td>\n",
       "    </tr>\n",
       "    <tr>\n",
       "      <th>10000061</th>\n",
       "      <td>NaN</td>\n",
       "      <td>NaN</td>\n",
       "      <td>NaN</td>\n",
       "      <td>NaN</td>\n",
       "      <td>NaN</td>\n",
       "      <td>0.0</td>\n",
       "      <td>NaN</td>\n",
       "      <td>NaN</td>\n",
       "      <td>NaN</td>\n",
       "    </tr>\n",
       "    <tr>\n",
       "      <th>10000128</th>\n",
       "      <td>NaN</td>\n",
       "      <td>NaN</td>\n",
       "      <td>NaN</td>\n",
       "      <td>NaN</td>\n",
       "      <td>0.0</td>\n",
       "      <td>NaN</td>\n",
       "      <td>NaN</td>\n",
       "      <td>NaN</td>\n",
       "      <td>NaN</td>\n",
       "    </tr>\n",
       "    <tr>\n",
       "      <th>10000353</th>\n",
       "      <td>NaN</td>\n",
       "      <td>0.0</td>\n",
       "      <td>NaN</td>\n",
       "      <td>NaN</td>\n",
       "      <td>1.0</td>\n",
       "      <td>0.0</td>\n",
       "      <td>NaN</td>\n",
       "      <td>NaN</td>\n",
       "      <td>NaN</td>\n",
       "    </tr>\n",
       "  </tbody>\n",
       "</table>\n",
       "</div>"
      ],
      "text/plain": [
       "           0    1   2   3    4    5    6    7   8\n",
       "user_id                                          \n",
       "10       NaN  NaN NaN NaN  NaN  NaN  NaN  NaN NaN\n",
       "10000055 NaN  NaN NaN NaN  NaN  NaN  1.0  0.0 NaN\n",
       "10000061 NaN  NaN NaN NaN  NaN  0.0  NaN  NaN NaN\n",
       "10000128 NaN  NaN NaN NaN  0.0  NaN  NaN  NaN NaN\n",
       "10000353 NaN  0.0 NaN NaN  1.0  0.0  NaN  NaN NaN"
      ]
     },
     "execution_count": 39,
     "metadata": {},
     "output_type": "execute_result"
    }
   ],
   "source": [
    "df_HuiGou_return = df_HuiGou_transf.apply(purchase_return, axis = 1)\n",
    "df_HuiGou_return.head()"
   ]
  },
  {
   "cell_type": "code",
   "execution_count": 42,
   "metadata": {
    "ExecuteTime": {
     "end_time": "2019-08-22T09:43:28.096896Z",
     "start_time": "2019-08-22T09:43:28.070963Z"
    }
   },
   "outputs": [],
   "source": [
    "# 出图看看\n",
    "columns = df.month.sort_values().unique()\n",
    "df_HuiGou_return.columns = columns"
   ]
  },
  {
   "cell_type": "code",
   "execution_count": 43,
   "metadata": {
    "ExecuteTime": {
     "end_time": "2019-08-22T09:47:41.228561Z",
     "start_time": "2019-08-22T09:47:40.977917Z"
    }
   },
   "outputs": [
    {
     "data": {
      "text/plain": [
       "Text(0.5, 1.0, '各月回购率')"
      ]
     },
     "execution_count": 43,
     "metadata": {},
     "output_type": "execute_result"
    },
    {
     "data": {
      "image/png": "[encoded data removed]",
      "text/plain": [
       "<Figure size 720x288 with 1 Axes>"
      ]
     },
     "metadata": {
      "needs_background": "light"
     },
     "output_type": "display_data"
    }
   ],
   "source": [
    "ax = (df_HuiGou_return.sum()/df_HuiGou_return.count()).plot(figsize = (10,4))\n",
    "ax.set_xlabel(\"月份\",fontproperties=chinese)\n",
    "ax.set_ylabel(\"百分比\",fontproperties=chinese)\n",
    "ax.set_title(\"各月回购率\",fontproperties=chinese)"
   ]
  },
  {
   "cell_type": "markdown",
   "metadata": {},
   "source": [
    "##### 6，7月上了什么产品或活动吗？ 回购率超过50%"
   ]
  },
  {
   "cell_type": "code",
   "execution_count": 46,
   "metadata": {
    "ExecuteTime": {
     "end_time": "2019-08-22T10:07:05.525270Z",
     "start_time": "2019-08-22T10:07:05.256264Z"
    }
   },
   "outputs": [
    {
     "data": {
      "text/plain": [
       "<matplotlib.legend.Legend at 0x1db00dcf940>"
      ]
     },
     "execution_count": 46,
     "metadata": {},
     "output_type": "execute_result"
    },
    {
     "data": {
      "image/png": "[encoded data removed]",
      "text/plain": [
       "<Figure size 720x288 with 1 Axes>"
      ]
     },
     "metadata": {
      "needs_background": "light"
     },
     "output_type": "display_data"
    }
   ],
   "source": [
    "# 细化一下\n",
    "\n",
    "fig,ax = plt.subplots(figsize = (10,4))\n",
    "ax.plot(df_HuiGou_return.count()) # 消费人数\n",
    "ax.plot(df_HuiGou_return.sum()) # 回购人数\n",
    "ax.set_xlabel(\"月份\",fontproperties=chinese)\n",
    "ax.set_ylabel(\"用户数\",fontproperties=chinese)\n",
    "legends = [\"各月消费人数\",\"各月回购人数\"]\n",
    "ax.legend(legends,prop=chinese,loc=\"upper right\")"
   ]
  },
  {
   "cell_type": "markdown",
   "metadata": {},
   "source": [
    "#####  与复购人数接近，5000-10000，趋势平稳，证明这部分用户已经养成了固定使用消费习惯。应该是同一拨人，稍后会验证一下。 但是7月表现出下滑趋势。"
   ]
  },
  {
   "cell_type": "markdown",
   "metadata": {},
   "source": [
    "#### 2率都呈现上升趋势，后几个月基本与总消费人数变化趋势相近"
   ]
  },
  {
   "cell_type": "markdown",
   "metadata": {},
   "source": [
    "### 用户分层\n",
    "##### 新用户的定义是第一次消费。活跃用户即老客，在某一个时间窗口内有过消费。不活跃用户则是时间窗口内没有消费过的老客。回流用户是在上一个窗口中没有消费，而在当前时间窗口内有过消费。以上的时间窗口都是按月统计。"
   ]
  },
  {
   "cell_type": "code",
   "execution_count": 66,
   "metadata": {
    "ExecuteTime": {
     "end_time": "2019-08-22T10:37:51.063015Z",
     "start_time": "2019-08-22T10:37:51.056047Z"
    }
   },
   "outputs": [],
   "source": [
    "def active_status(data):\n",
    "    status = []\n",
    "    for i in range(9):\n",
    "        \n",
    "        #若本月没有消费\n",
    "        if data[i] == 0:\n",
    "            if len(status) > 0:\n",
    "                if status[i-1] == '未注册':\n",
    "                    status.append('未注册')\n",
    "                else:\n",
    "                    status.append('不活跃')\n",
    "            else:\n",
    "                status.append('未注册')\n",
    "                \n",
    "        # 若本月有消费\n",
    "        else:\n",
    "            if len(status) == 0:\n",
    "                status.append('新客')\n",
    "            else:\n",
    "                if status[i-1] == '不活跃':\n",
    "                    status.append('回流用户')\n",
    "                elif status[i-1] == '未注册':\n",
    "                    status.append('新客')\n",
    "                else:\n",
    "                    status.append('活跃')\n",
    "    return status"
   ]
  },
  {
   "cell_type": "code",
   "execution_count": 67,
   "metadata": {
    "ExecuteTime": {
     "end_time": "2019-08-22T10:37:51.909739Z",
     "start_time": "2019-08-22T10:37:51.223853Z"
    }
   },
   "outputs": [
    {
     "data": {
      "text/html": [
       "<div>\n",
       "<style scoped>\n",
       "    .dataframe tbody tr th:only-of-type {\n",
       "        vertical-align: middle;\n",
       "    }\n",
       "\n",
       "    .dataframe tbody tr th {\n",
       "        vertical-align: top;\n",
       "    }\n",
       "\n",
       "    .dataframe thead th {\n",
       "        text-align: right;\n",
       "    }\n",
       "</style>\n",
       "<table border=\"1\" class=\"dataframe\">\n",
       "  <thead>\n",
       "    <tr style=\"text-align: right;\">\n",
       "      <th>month</th>\n",
       "      <th>2018-12-01 00:00:00</th>\n",
       "      <th>2019-01-01 00:00:00</th>\n",
       "      <th>2019-02-01 00:00:00</th>\n",
       "      <th>2019-03-01 00:00:00</th>\n",
       "      <th>2019-04-01 00:00:00</th>\n",
       "      <th>2019-05-01 00:00:00</th>\n",
       "      <th>2019-06-01 00:00:00</th>\n",
       "      <th>2019-07-01 00:00:00</th>\n",
       "      <th>2019-08-01 00:00:00</th>\n",
       "    </tr>\n",
       "    <tr>\n",
       "      <th>user_id</th>\n",
       "      <th></th>\n",
       "      <th></th>\n",
       "      <th></th>\n",
       "      <th></th>\n",
       "      <th></th>\n",
       "      <th></th>\n",
       "      <th></th>\n",
       "      <th></th>\n",
       "      <th></th>\n",
       "    </tr>\n",
       "  </thead>\n",
       "  <tbody>\n",
       "    <tr>\n",
       "      <th>10</th>\n",
       "      <td>0.0</td>\n",
       "      <td>0.0</td>\n",
       "      <td>0.0</td>\n",
       "      <td>0.0</td>\n",
       "      <td>0.0</td>\n",
       "      <td>0.0</td>\n",
       "      <td>0.0</td>\n",
       "      <td>0.0</td>\n",
       "      <td>1.0</td>\n",
       "    </tr>\n",
       "    <tr>\n",
       "      <th>10000055</th>\n",
       "      <td>0.0</td>\n",
       "      <td>0.0</td>\n",
       "      <td>0.0</td>\n",
       "      <td>0.0</td>\n",
       "      <td>0.0</td>\n",
       "      <td>0.0</td>\n",
       "      <td>1.0</td>\n",
       "      <td>1.0</td>\n",
       "      <td>0.0</td>\n",
       "    </tr>\n",
       "    <tr>\n",
       "      <th>10000061</th>\n",
       "      <td>0.0</td>\n",
       "      <td>0.0</td>\n",
       "      <td>0.0</td>\n",
       "      <td>0.0</td>\n",
       "      <td>0.0</td>\n",
       "      <td>1.0</td>\n",
       "      <td>0.0</td>\n",
       "      <td>0.0</td>\n",
       "      <td>0.0</td>\n",
       "    </tr>\n",
       "    <tr>\n",
       "      <th>10000128</th>\n",
       "      <td>0.0</td>\n",
       "      <td>0.0</td>\n",
       "      <td>0.0</td>\n",
       "      <td>0.0</td>\n",
       "      <td>1.0</td>\n",
       "      <td>0.0</td>\n",
       "      <td>0.0</td>\n",
       "      <td>0.0</td>\n",
       "      <td>0.0</td>\n",
       "    </tr>\n",
       "    <tr>\n",
       "      <th>10000353</th>\n",
       "      <td>0.0</td>\n",
       "      <td>1.0</td>\n",
       "      <td>0.0</td>\n",
       "      <td>0.0</td>\n",
       "      <td>1.0</td>\n",
       "      <td>1.0</td>\n",
       "      <td>0.0</td>\n",
       "      <td>0.0</td>\n",
       "      <td>0.0</td>\n",
       "    </tr>\n",
       "  </tbody>\n",
       "</table>\n",
       "</div>"
      ],
      "text/plain": [
       "month     2018-12-01  2019-01-01  2019-02-01  2019-03-01  2019-04-01  \\\n",
       "user_id                                                                \n",
       "10               0.0         0.0         0.0         0.0         0.0   \n",
       "10000055         0.0         0.0         0.0         0.0         0.0   \n",
       "10000061         0.0         0.0         0.0         0.0         0.0   \n",
       "10000128         0.0         0.0         0.0         0.0         1.0   \n",
       "10000353         0.0         1.0         0.0         0.0         1.0   \n",
       "\n",
       "month     2019-05-01  2019-06-01  2019-07-01  2019-08-01  \n",
       "user_id                                                   \n",
       "10               0.0         0.0         0.0         1.0  \n",
       "10000055         0.0         1.0         1.0         0.0  \n",
       "10000061         1.0         0.0         0.0         0.0  \n",
       "10000128         0.0         0.0         0.0         0.0  \n",
       "10000353         1.0         0.0         0.0         0.0  "
      ]
     },
     "execution_count": 67,
     "metadata": {},
     "output_type": "execute_result"
    }
   ],
   "source": [
    "# df_PurchaseStatus = \n",
    "df_FenCeng = df.pivot_table(index=\"user_id\",columns=\"month\",\n",
    "                          values=\"date\",aggfunc='count').fillna(0)\n",
    "df_FenCeng.head()"
   ]
  },
  {
   "cell_type": "code",
   "execution_count": 68,
   "metadata": {
    "ExecuteTime": {
     "end_time": "2019-08-22T10:37:52.317523Z",
     "start_time": "2019-08-22T10:37:51.912721Z"
    }
   },
   "outputs": [
    {
     "data": {
      "text/html": [
       "<div>\n",
       "<style scoped>\n",
       "    .dataframe tbody tr th:only-of-type {\n",
       "        vertical-align: middle;\n",
       "    }\n",
       "\n",
       "    .dataframe tbody tr th {\n",
       "        vertical-align: top;\n",
       "    }\n",
       "\n",
       "    .dataframe thead th {\n",
       "        text-align: right;\n",
       "    }\n",
       "</style>\n",
       "<table border=\"1\" class=\"dataframe\">\n",
       "  <thead>\n",
       "    <tr style=\"text-align: right;\">\n",
       "      <th>month</th>\n",
       "      <th>2018-12-01 00:00:00</th>\n",
       "      <th>2019-01-01 00:00:00</th>\n",
       "      <th>2019-02-01 00:00:00</th>\n",
       "      <th>2019-03-01 00:00:00</th>\n",
       "      <th>2019-04-01 00:00:00</th>\n",
       "      <th>2019-05-01 00:00:00</th>\n",
       "      <th>2019-06-01 00:00:00</th>\n",
       "      <th>2019-07-01 00:00:00</th>\n",
       "      <th>2019-08-01 00:00:00</th>\n",
       "    </tr>\n",
       "    <tr>\n",
       "      <th>user_id</th>\n",
       "      <th></th>\n",
       "      <th></th>\n",
       "      <th></th>\n",
       "      <th></th>\n",
       "      <th></th>\n",
       "      <th></th>\n",
       "      <th></th>\n",
       "      <th></th>\n",
       "      <th></th>\n",
       "    </tr>\n",
       "  </thead>\n",
       "  <tbody>\n",
       "    <tr>\n",
       "      <th>10</th>\n",
       "      <td>0</td>\n",
       "      <td>0</td>\n",
       "      <td>0</td>\n",
       "      <td>0</td>\n",
       "      <td>0</td>\n",
       "      <td>0</td>\n",
       "      <td>0</td>\n",
       "      <td>0</td>\n",
       "      <td>1</td>\n",
       "    </tr>\n",
       "    <tr>\n",
       "      <th>10000055</th>\n",
       "      <td>0</td>\n",
       "      <td>0</td>\n",
       "      <td>0</td>\n",
       "      <td>0</td>\n",
       "      <td>0</td>\n",
       "      <td>0</td>\n",
       "      <td>1</td>\n",
       "      <td>1</td>\n",
       "      <td>0</td>\n",
       "    </tr>\n",
       "    <tr>\n",
       "      <th>10000061</th>\n",
       "      <td>0</td>\n",
       "      <td>0</td>\n",
       "      <td>0</td>\n",
       "      <td>0</td>\n",
       "      <td>0</td>\n",
       "      <td>1</td>\n",
       "      <td>0</td>\n",
       "      <td>0</td>\n",
       "      <td>0</td>\n",
       "    </tr>\n",
       "    <tr>\n",
       "      <th>10000128</th>\n",
       "      <td>0</td>\n",
       "      <td>0</td>\n",
       "      <td>0</td>\n",
       "      <td>0</td>\n",
       "      <td>1</td>\n",
       "      <td>0</td>\n",
       "      <td>0</td>\n",
       "      <td>0</td>\n",
       "      <td>0</td>\n",
       "    </tr>\n",
       "    <tr>\n",
       "      <th>10000353</th>\n",
       "      <td>0</td>\n",
       "      <td>1</td>\n",
       "      <td>0</td>\n",
       "      <td>0</td>\n",
       "      <td>1</td>\n",
       "      <td>1</td>\n",
       "      <td>0</td>\n",
       "      <td>0</td>\n",
       "      <td>0</td>\n",
       "    </tr>\n",
       "    <tr>\n",
       "      <th>10000379</th>\n",
       "      <td>0</td>\n",
       "      <td>0</td>\n",
       "      <td>1</td>\n",
       "      <td>0</td>\n",
       "      <td>0</td>\n",
       "      <td>0</td>\n",
       "      <td>0</td>\n",
       "      <td>0</td>\n",
       "      <td>0</td>\n",
       "    </tr>\n",
       "    <tr>\n",
       "      <th>10000422</th>\n",
       "      <td>0</td>\n",
       "      <td>0</td>\n",
       "      <td>0</td>\n",
       "      <td>0</td>\n",
       "      <td>0</td>\n",
       "      <td>1</td>\n",
       "      <td>1</td>\n",
       "      <td>1</td>\n",
       "      <td>0</td>\n",
       "    </tr>\n",
       "    <tr>\n",
       "      <th>1000050</th>\n",
       "      <td>0</td>\n",
       "      <td>0</td>\n",
       "      <td>0</td>\n",
       "      <td>0</td>\n",
       "      <td>0</td>\n",
       "      <td>0</td>\n",
       "      <td>0</td>\n",
       "      <td>1</td>\n",
       "      <td>0</td>\n",
       "    </tr>\n",
       "    <tr>\n",
       "      <th>10000568</th>\n",
       "      <td>0</td>\n",
       "      <td>0</td>\n",
       "      <td>0</td>\n",
       "      <td>0</td>\n",
       "      <td>0</td>\n",
       "      <td>0</td>\n",
       "      <td>1</td>\n",
       "      <td>0</td>\n",
       "      <td>0</td>\n",
       "    </tr>\n",
       "    <tr>\n",
       "      <th>10000646</th>\n",
       "      <td>0</td>\n",
       "      <td>0</td>\n",
       "      <td>0</td>\n",
       "      <td>1</td>\n",
       "      <td>0</td>\n",
       "      <td>0</td>\n",
       "      <td>0</td>\n",
       "      <td>0</td>\n",
       "      <td>0</td>\n",
       "    </tr>\n",
       "  </tbody>\n",
       "</table>\n",
       "</div>"
      ],
      "text/plain": [
       "month     2018-12-01  2019-01-01  2019-02-01  2019-03-01  2019-04-01  \\\n",
       "user_id                                                                \n",
       "10                 0           0           0           0           0   \n",
       "10000055           0           0           0           0           0   \n",
       "10000061           0           0           0           0           0   \n",
       "10000128           0           0           0           0           1   \n",
       "10000353           0           1           0           0           1   \n",
       "10000379           0           0           1           0           0   \n",
       "10000422           0           0           0           0           0   \n",
       "1000050            0           0           0           0           0   \n",
       "10000568           0           0           0           0           0   \n",
       "10000646           0           0           0           1           0   \n",
       "\n",
       "month     2019-05-01  2019-06-01  2019-07-01  2019-08-01  \n",
       "user_id                                                   \n",
       "10                 0           0           0           1  \n",
       "10000055           0           1           1           0  \n",
       "10000061           1           0           0           0  \n",
       "10000128           0           0           0           0  \n",
       "10000353           1           0           0           0  \n",
       "10000379           0           0           0           0  \n",
       "10000422           1           1           1           0  \n",
       "1000050            0           0           1           0  \n",
       "10000568           0           1           0           0  \n",
       "10000646           0           0           0           0  "
      ]
     },
     "execution_count": 68,
     "metadata": {},
     "output_type": "execute_result"
    }
   ],
   "source": [
    "# 数据转化，购买过为1，没买为0\n",
    "df_FenCeng_transf = df_FenCeng.applymap(lambda x:1 if x>0 else 0)\n",
    "df_FenCeng_transf.head(10)"
   ]
  },
  {
   "cell_type": "code",
   "execution_count": 69,
   "metadata": {
    "ExecuteTime": {
     "end_time": "2019-08-22T10:38:44.755699Z",
     "start_time": "2019-08-22T10:37:52.321509Z"
    },
    "scrolled": true
   },
   "outputs": [
    {
     "data": {
      "text/html": [
       "<div>\n",
       "<style scoped>\n",
       "    .dataframe tbody tr th:only-of-type {\n",
       "        vertical-align: middle;\n",
       "    }\n",
       "\n",
       "    .dataframe tbody tr th {\n",
       "        vertical-align: top;\n",
       "    }\n",
       "\n",
       "    .dataframe thead th {\n",
       "        text-align: right;\n",
       "    }\n",
       "</style>\n",
       "<table border=\"1\" class=\"dataframe\">\n",
       "  <thead>\n",
       "    <tr style=\"text-align: right;\">\n",
       "      <th></th>\n",
       "      <th>2018-12-01 00:00:00</th>\n",
       "      <th>2019-01-01 00:00:00</th>\n",
       "      <th>2019-02-01 00:00:00</th>\n",
       "      <th>2019-03-01 00:00:00</th>\n",
       "      <th>2019-04-01 00:00:00</th>\n",
       "      <th>2019-05-01 00:00:00</th>\n",
       "      <th>2019-06-01 00:00:00</th>\n",
       "      <th>2019-07-01 00:00:00</th>\n",
       "      <th>2019-08-01 00:00:00</th>\n",
       "    </tr>\n",
       "    <tr>\n",
       "      <th>user_id</th>\n",
       "      <th></th>\n",
       "      <th></th>\n",
       "      <th></th>\n",
       "      <th></th>\n",
       "      <th></th>\n",
       "      <th></th>\n",
       "      <th></th>\n",
       "      <th></th>\n",
       "      <th></th>\n",
       "    </tr>\n",
       "  </thead>\n",
       "  <tbody>\n",
       "    <tr>\n",
       "      <th>10</th>\n",
       "      <td>未注册</td>\n",
       "      <td>未注册</td>\n",
       "      <td>未注册</td>\n",
       "      <td>未注册</td>\n",
       "      <td>未注册</td>\n",
       "      <td>未注册</td>\n",
       "      <td>未注册</td>\n",
       "      <td>未注册</td>\n",
       "      <td>新客</td>\n",
       "    </tr>\n",
       "    <tr>\n",
       "      <th>10000055</th>\n",
       "      <td>未注册</td>\n",
       "      <td>未注册</td>\n",
       "      <td>未注册</td>\n",
       "      <td>未注册</td>\n",
       "      <td>未注册</td>\n",
       "      <td>未注册</td>\n",
       "      <td>新客</td>\n",
       "      <td>活跃</td>\n",
       "      <td>不活跃</td>\n",
       "    </tr>\n",
       "    <tr>\n",
       "      <th>10000061</th>\n",
       "      <td>未注册</td>\n",
       "      <td>未注册</td>\n",
       "      <td>未注册</td>\n",
       "      <td>未注册</td>\n",
       "      <td>未注册</td>\n",
       "      <td>新客</td>\n",
       "      <td>不活跃</td>\n",
       "      <td>不活跃</td>\n",
       "      <td>不活跃</td>\n",
       "    </tr>\n",
       "    <tr>\n",
       "      <th>10000128</th>\n",
       "      <td>未注册</td>\n",
       "      <td>未注册</td>\n",
       "      <td>未注册</td>\n",
       "      <td>未注册</td>\n",
       "      <td>新客</td>\n",
       "      <td>不活跃</td>\n",
       "      <td>不活跃</td>\n",
       "      <td>不活跃</td>\n",
       "      <td>不活跃</td>\n",
       "    </tr>\n",
       "    <tr>\n",
       "      <th>10000353</th>\n",
       "      <td>未注册</td>\n",
       "      <td>新客</td>\n",
       "      <td>不活跃</td>\n",
       "      <td>不活跃</td>\n",
       "      <td>回流用户</td>\n",
       "      <td>活跃</td>\n",
       "      <td>不活跃</td>\n",
       "      <td>不活跃</td>\n",
       "      <td>不活跃</td>\n",
       "    </tr>\n",
       "  </tbody>\n",
       "</table>\n",
       "</div>"
      ],
      "text/plain": [
       "         2018-12-01 2019-01-01 2019-02-01 2019-03-01 2019-04-01 2019-05-01  \\\n",
       "user_id                                                                      \n",
       "10              未注册        未注册        未注册        未注册        未注册        未注册   \n",
       "10000055        未注册        未注册        未注册        未注册        未注册        未注册   \n",
       "10000061        未注册        未注册        未注册        未注册        未注册         新客   \n",
       "10000128        未注册        未注册        未注册        未注册         新客        不活跃   \n",
       "10000353        未注册         新客        不活跃        不活跃       回流用户         活跃   \n",
       "\n",
       "         2019-06-01 2019-07-01 2019-08-01  \n",
       "user_id                                    \n",
       "10              未注册        未注册         新客  \n",
       "10000055         新客         活跃        不活跃  \n",
       "10000061        不活跃        不活跃        不活跃  \n",
       "10000128        不活跃        不活跃        不活跃  \n",
       "10000353        不活跃        不活跃        不活跃  "
      ]
     },
     "execution_count": 69,
     "metadata": {},
     "output_type": "execute_result"
    }
   ],
   "source": [
    "df_FenCeng_status = df_FenCeng_transf.apply(lambda x: pd.Series(active_status(x)),axis=1)\n",
    "df_FenCeng_status.columns = columns\n",
    "df_FenCeng_status.head()"
   ]
  },
  {
   "cell_type": "code",
   "execution_count": 70,
   "metadata": {
    "ExecuteTime": {
     "end_time": "2019-08-22T10:38:44.949776Z",
     "start_time": "2019-08-22T10:38:44.757693Z"
    }
   },
   "outputs": [
    {
     "data": {
      "text/html": [
       "<div>\n",
       "<style scoped>\n",
       "    .dataframe tbody tr th:only-of-type {\n",
       "        vertical-align: middle;\n",
       "    }\n",
       "\n",
       "    .dataframe tbody tr th {\n",
       "        vertical-align: top;\n",
       "    }\n",
       "\n",
       "    .dataframe thead th {\n",
       "        text-align: right;\n",
       "    }\n",
       "</style>\n",
       "<table border=\"1\" class=\"dataframe\">\n",
       "  <thead>\n",
       "    <tr style=\"text-align: right;\">\n",
       "      <th></th>\n",
       "      <th>2018-12-01 00:00:00</th>\n",
       "      <th>2019-01-01 00:00:00</th>\n",
       "      <th>2019-02-01 00:00:00</th>\n",
       "      <th>2019-03-01 00:00:00</th>\n",
       "      <th>2019-04-01 00:00:00</th>\n",
       "      <th>2019-05-01 00:00:00</th>\n",
       "      <th>2019-06-01 00:00:00</th>\n",
       "      <th>2019-07-01 00:00:00</th>\n",
       "      <th>2019-08-01 00:00:00</th>\n",
       "    </tr>\n",
       "  </thead>\n",
       "  <tbody>\n",
       "    <tr>\n",
       "      <th>不活跃</th>\n",
       "      <td>NaN</td>\n",
       "      <td>38.0</td>\n",
       "      <td>8572</td>\n",
       "      <td>39108</td>\n",
       "      <td>58774</td>\n",
       "      <td>73247</td>\n",
       "      <td>73804</td>\n",
       "      <td>83057</td>\n",
       "      <td>95062</td>\n",
       "    </tr>\n",
       "    <tr>\n",
       "      <th>回流用户</th>\n",
       "      <td>NaN</td>\n",
       "      <td>NaN</td>\n",
       "      <td>12</td>\n",
       "      <td>540</td>\n",
       "      <td>2265</td>\n",
       "      <td>2406</td>\n",
       "      <td>5254</td>\n",
       "      <td>1846</td>\n",
       "      <td>856</td>\n",
       "    </tr>\n",
       "    <tr>\n",
       "      <th>新客</th>\n",
       "      <td>56.0</td>\n",
       "      <td>10930.0</td>\n",
       "      <td>35095</td>\n",
       "      <td>22004</td>\n",
       "      <td>12294</td>\n",
       "      <td>6046</td>\n",
       "      <td>9280</td>\n",
       "      <td>4420</td>\n",
       "      <td>1786</td>\n",
       "    </tr>\n",
       "    <tr>\n",
       "      <th>活跃</th>\n",
       "      <td>NaN</td>\n",
       "      <td>18.0</td>\n",
       "      <td>2402</td>\n",
       "      <td>6433</td>\n",
       "      <td>7046</td>\n",
       "      <td>4726</td>\n",
       "      <td>7367</td>\n",
       "      <td>10802</td>\n",
       "      <td>4207</td>\n",
       "    </tr>\n",
       "  </tbody>\n",
       "</table>\n",
       "</div>"
      ],
      "text/plain": [
       "      2018-12-01  2019-01-01  2019-02-01  2019-03-01  2019-04-01  2019-05-01  \\\n",
       "不活跃          NaN        38.0        8572       39108       58774       73247   \n",
       "回流用户         NaN         NaN          12         540        2265        2406   \n",
       "新客          56.0     10930.0       35095       22004       12294        6046   \n",
       "活跃           NaN        18.0        2402        6433        7046        4726   \n",
       "\n",
       "      2019-06-01  2019-07-01  2019-08-01  \n",
       "不活跃        73804       83057       95062  \n",
       "回流用户        5254        1846         856  \n",
       "新客          9280        4420        1786  \n",
       "活跃          7367       10802        4207  "
      ]
     },
     "execution_count": 70,
     "metadata": {},
     "output_type": "execute_result"
    }
   ],
   "source": [
    "# 统计每月各分类用户，未注册用户数不计数替换成NaN\n",
    "df_FenCeng_count = df_FenCeng_status.replace(\"未注册\",np.NaN).apply(lambda x:pd.value_counts(x))\n",
    "df_FenCeng_count"
   ]
  },
  {
   "cell_type": "code",
   "execution_count": 73,
   "metadata": {
    "ExecuteTime": {
     "end_time": "2019-08-22T10:41:27.305379Z",
     "start_time": "2019-08-22T10:41:27.002624Z"
    }
   },
   "outputs": [
    {
     "data": {
      "text/plain": [
       "Text(0.5, 1.0, '各月各类用户占比')"
      ]
     },
     "execution_count": 73,
     "metadata": {},
     "output_type": "execute_result"
    },
    {
     "data": {
      "image/png": "[encoded data removed]",
      "text/plain": [
       "<Figure size 864x432 with 1 Axes>"
      ]
     },
     "metadata": {
      "needs_background": "light"
     },
     "output_type": "display_data"
    }
   ],
   "source": [
    "# 出图看看\n",
    "ax = df_FenCeng_count.fillna(0).T.plot.area(figsize = (12,6))\n",
    "ax.set_xlabel(\"月份\", fontproperties=chinese)\n",
    "ax.set_ylabel(\"用户数\", fontproperties=chinese)\n",
    "ax.set_title(\"各月各类用户占比\", fontproperties=chinese)"
   ]
  },
  {
   "cell_type": "code",
   "execution_count": 74,
   "metadata": {
    "ExecuteTime": {
     "end_time": "2019-08-22T10:42:47.279702Z",
     "start_time": "2019-08-22T10:42:47.271726Z"
    }
   },
   "outputs": [],
   "source": [
    "# 回流占比：某个时间窗口内回流用户在总用户中的占比。\n",
    "return_rate = df_FenCeng_count.apply(lambda x: x/x.sum())"
   ]
  },
  {
   "cell_type": "code",
   "execution_count": 75,
   "metadata": {
    "ExecuteTime": {
     "end_time": "2019-08-22T10:42:59.963277Z",
     "start_time": "2019-08-22T10:42:59.944286Z"
    }
   },
   "outputs": [
    {
     "data": {
      "text/html": [
       "<div>\n",
       "<style scoped>\n",
       "    .dataframe tbody tr th:only-of-type {\n",
       "        vertical-align: middle;\n",
       "    }\n",
       "\n",
       "    .dataframe tbody tr th {\n",
       "        vertical-align: top;\n",
       "    }\n",
       "\n",
       "    .dataframe thead th {\n",
       "        text-align: right;\n",
       "    }\n",
       "</style>\n",
       "<table border=\"1\" class=\"dataframe\">\n",
       "  <thead>\n",
       "    <tr style=\"text-align: right;\">\n",
       "      <th></th>\n",
       "      <th>2018-12-01 00:00:00</th>\n",
       "      <th>2019-01-01 00:00:00</th>\n",
       "      <th>2019-02-01 00:00:00</th>\n",
       "      <th>2019-03-01 00:00:00</th>\n",
       "      <th>2019-04-01 00:00:00</th>\n",
       "      <th>2019-05-01 00:00:00</th>\n",
       "      <th>2019-06-01 00:00:00</th>\n",
       "      <th>2019-07-01 00:00:00</th>\n",
       "      <th>2019-08-01 00:00:00</th>\n",
       "    </tr>\n",
       "  </thead>\n",
       "  <tbody>\n",
       "    <tr>\n",
       "      <th>不活跃</th>\n",
       "      <td>NaN</td>\n",
       "      <td>0.003459</td>\n",
       "      <td>0.186020</td>\n",
       "      <td>0.574400</td>\n",
       "      <td>0.731211</td>\n",
       "      <td>0.847521</td>\n",
       "      <td>0.771161</td>\n",
       "      <td>0.829533</td>\n",
       "      <td>0.932794</td>\n",
       "    </tr>\n",
       "    <tr>\n",
       "      <th>回流用户</th>\n",
       "      <td>NaN</td>\n",
       "      <td>NaN</td>\n",
       "      <td>0.000260</td>\n",
       "      <td>0.007931</td>\n",
       "      <td>0.028179</td>\n",
       "      <td>0.027839</td>\n",
       "      <td>0.054898</td>\n",
       "      <td>0.018437</td>\n",
       "      <td>0.008399</td>\n",
       "    </tr>\n",
       "    <tr>\n",
       "      <th>新客</th>\n",
       "      <td>1.0</td>\n",
       "      <td>0.994903</td>\n",
       "      <td>0.761594</td>\n",
       "      <td>0.323184</td>\n",
       "      <td>0.152950</td>\n",
       "      <td>0.069957</td>\n",
       "      <td>0.096965</td>\n",
       "      <td>0.044145</td>\n",
       "      <td>0.017525</td>\n",
       "    </tr>\n",
       "    <tr>\n",
       "      <th>活跃</th>\n",
       "      <td>NaN</td>\n",
       "      <td>0.001638</td>\n",
       "      <td>0.052126</td>\n",
       "      <td>0.094485</td>\n",
       "      <td>0.087660</td>\n",
       "      <td>0.054683</td>\n",
       "      <td>0.076976</td>\n",
       "      <td>0.107885</td>\n",
       "      <td>0.041281</td>\n",
       "    </tr>\n",
       "  </tbody>\n",
       "</table>\n",
       "</div>"
      ],
      "text/plain": [
       "      2018-12-01  2019-01-01  2019-02-01  2019-03-01  2019-04-01  2019-05-01  \\\n",
       "不活跃          NaN    0.003459    0.186020    0.574400    0.731211    0.847521   \n",
       "回流用户         NaN         NaN    0.000260    0.007931    0.028179    0.027839   \n",
       "新客           1.0    0.994903    0.761594    0.323184    0.152950    0.069957   \n",
       "活跃           NaN    0.001638    0.052126    0.094485    0.087660    0.054683   \n",
       "\n",
       "      2019-06-01  2019-07-01  2019-08-01  \n",
       "不活跃     0.771161    0.829533    0.932794  \n",
       "回流用户    0.054898    0.018437    0.008399  \n",
       "新客      0.096965    0.044145    0.017525  \n",
       "活跃      0.076976    0.107885    0.041281  "
      ]
     },
     "execution_count": 75,
     "metadata": {},
     "output_type": "execute_result"
    }
   ],
   "source": [
    "return_rate"
   ]
  },
  {
   "cell_type": "code",
   "execution_count": 76,
   "metadata": {
    "ExecuteTime": {
     "end_time": "2019-08-22T10:44:21.628619Z",
     "start_time": "2019-08-22T10:44:21.359336Z"
    }
   },
   "outputs": [
    {
     "data": {
      "text/plain": [
       "Text(0.5, 1.0, '每月回流用户占比')"
      ]
     },
     "execution_count": 76,
     "metadata": {},
     "output_type": "execute_result"
    },
    {
     "data": {
      "image/png": "[encoded data removed]",
      "text/plain": [
       "<Figure size 864x432 with 1 Axes>"
      ]
     },
     "metadata": {
      "needs_background": "light"
     },
     "output_type": "display_data"
    }
   ],
   "source": [
    "ax = return_rate.loc['回流用户'].plot(figsize = (12,6))\n",
    "ax.set_xlabel('月份', fontproperties=chinese) \n",
    "ax.set_ylabel('占比', fontproperties=chinese) \n",
    "ax.set_title('每月回流用户占比', fontproperties=chinese)"
   ]
  },
  {
   "cell_type": "code",
   "execution_count": 77,
   "metadata": {
    "ExecuteTime": {
     "end_time": "2019-08-22T10:45:02.357073Z",
     "start_time": "2019-08-22T10:45:02.101594Z"
    }
   },
   "outputs": [
    {
     "data": {
      "text/plain": [
       "Text(0.5, 1.0, '每月活跃用户占比')"
      ]
     },
     "execution_count": 77,
     "metadata": {},
     "output_type": "execute_result"
    },
    {
     "data": {
      "image/png": "[encoded data removed]",
      "text/plain": [
       "<Figure size 864x432 with 1 Axes>"
      ]
     },
     "metadata": {
      "needs_background": "light"
     },
     "output_type": "display_data"
    }
   ],
   "source": [
    "ax = return_rate.loc['活跃'].plot(figsize = (12,6))\n",
    "ax.set_xlabel('月份', fontproperties=chinese) \n",
    "ax.set_ylabel('占比', fontproperties=chinese) \n",
    "ax.set_title('每月活跃用户占比', fontproperties=chinese)"
   ]
  },
  {
   "cell_type": "markdown",
   "metadata": {},
   "source": [
    "### 用户质量：高质量用户贡献了多少消费？"
   ]
  },
  {
   "cell_type": "code",
   "execution_count": 81,
   "metadata": {
    "ExecuteTime": {
     "end_time": "2019-08-22T11:00:52.827910Z",
     "start_time": "2019-08-22T11:00:52.608554Z"
    }
   },
   "outputs": [],
   "source": [
    "user_amount = df.groupby(\"user_id\").payable_rmb_amount.sum().sort_values().reset_index()\n",
    "user_amount['amount_cumsum'] = user_amount.payable_rmb_amount.cumsum()"
   ]
  },
  {
   "cell_type": "code",
   "execution_count": 82,
   "metadata": {
    "ExecuteTime": {
     "end_time": "2019-08-22T11:00:55.861673Z",
     "start_time": "2019-08-22T11:00:55.843722Z"
    }
   },
   "outputs": [
    {
     "data": {
      "text/html": [
       "<div>\n",
       "<style scoped>\n",
       "    .dataframe tbody tr th:only-of-type {\n",
       "        vertical-align: middle;\n",
       "    }\n",
       "\n",
       "    .dataframe tbody tr th {\n",
       "        vertical-align: top;\n",
       "    }\n",
       "\n",
       "    .dataframe thead th {\n",
       "        text-align: right;\n",
       "    }\n",
       "</style>\n",
       "<table border=\"1\" class=\"dataframe\">\n",
       "  <thead>\n",
       "    <tr style=\"text-align: right;\">\n",
       "      <th></th>\n",
       "      <th>user_id</th>\n",
       "      <th>payable_rmb_amount</th>\n",
       "      <th>amount_cumsum</th>\n",
       "    </tr>\n",
       "  </thead>\n",
       "  <tbody>\n",
       "    <tr>\n",
       "      <th>101906</th>\n",
       "      <td>6999864</td>\n",
       "      <td>693.00</td>\n",
       "      <td>1.592111e+06</td>\n",
       "    </tr>\n",
       "    <tr>\n",
       "      <th>101907</th>\n",
       "      <td>2798554</td>\n",
       "      <td>749.00</td>\n",
       "      <td>1.592860e+06</td>\n",
       "    </tr>\n",
       "    <tr>\n",
       "      <th>101908</th>\n",
       "      <td>3282631</td>\n",
       "      <td>848.99</td>\n",
       "      <td>1.593709e+06</td>\n",
       "    </tr>\n",
       "    <tr>\n",
       "      <th>101909</th>\n",
       "      <td>645982</td>\n",
       "      <td>1005.00</td>\n",
       "      <td>1.594714e+06</td>\n",
       "    </tr>\n",
       "    <tr>\n",
       "      <th>101910</th>\n",
       "      <td>3785486</td>\n",
       "      <td>1062.55</td>\n",
       "      <td>1.595777e+06</td>\n",
       "    </tr>\n",
       "  </tbody>\n",
       "</table>\n",
       "</div>"
      ],
      "text/plain": [
       "        user_id  payable_rmb_amount  amount_cumsum\n",
       "101906  6999864              693.00   1.592111e+06\n",
       "101907  2798554              749.00   1.592860e+06\n",
       "101908  3282631              848.99   1.593709e+06\n",
       "101909   645982             1005.00   1.594714e+06\n",
       "101910  3785486             1062.55   1.595777e+06"
      ]
     },
     "execution_count": 82,
     "metadata": {},
     "output_type": "execute_result"
    }
   ],
   "source": [
    "user_amount.tail()"
   ]
  },
  {
   "cell_type": "code",
   "execution_count": 83,
   "metadata": {
    "ExecuteTime": {
     "end_time": "2019-08-22T11:01:32.476401Z",
     "start_time": "2019-08-22T11:01:32.220043Z"
    },
    "scrolled": true
   },
   "outputs": [
    {
     "data": {
      "text/plain": [
       "Text(0.5, 1.0, '用户累计贡献金额百分比')"
      ]
     },
     "execution_count": 83,
     "metadata": {},
     "output_type": "execute_result"
    },
    {
     "data": {
      "image/png": "[encoded data removed]",
      "text/plain": [
       "<Figure size 432x288 with 1 Axes>"
      ]
     },
     "metadata": {
      "needs_background": "light"
     },
     "output_type": "display_data"
    }
   ],
   "source": [
    "#计算出各阶段金额占总金额的百分比\n",
    "amount_total = user_amount.amount_cumsum.max()\n",
    "user_amount['prop'] = user_amount.amount_cumsum.apply(lambda x: x / amount_total)\n",
    "ax = user_amount.prop.plot()\n",
    "ax.set_xlabel('人数（人）', fontproperties=chinese) \n",
    "ax.set_ylabel('百分数（%）', fontproperties=chinese) \n",
    "ax.set_title('用户累计贡献金额百分比', fontproperties=chinese)"
   ]
  },
  {
   "cell_type": "markdown",
   "metadata": {},
   "source": [
    "##### 典型的二八分布，共101911人中，前80000人贡献了不到40%的消费。。。"
   ]
  },
  {
   "cell_type": "code",
   "execution_count": null,
   "metadata": {},
   "outputs": [],
   "source": []
  },
  {
   "cell_type": "code",
   "execution_count": null,
   "metadata": {},
   "outputs": [],
   "source": []
  },
  {
   "cell_type": "code",
   "execution_count": null,
   "metadata": {},
   "outputs": [],
   "source": []
  },
  {
   "cell_type": "code",
   "execution_count": null,
   "metadata": {},
   "outputs": [],
   "source": []
  },
  {
   "cell_type": "code",
   "execution_count": null,
   "metadata": {},
   "outputs": [],
   "source": []
  },
  {
   "cell_type": "code",
   "execution_count": null,
   "metadata": {},
   "outputs": [],
   "source": []
  },
  {
   "cell_type": "code",
   "execution_count": null,
   "metadata": {},
   "outputs": [],
   "source": []
  },
  {
   "cell_type": "code",
   "execution_count": null,
   "metadata": {},
   "outputs": [],
   "source": []
  },
  {
   "cell_type": "code",
   "execution_count": null,
   "metadata": {},
   "outputs": [],
   "source": []
  },
  {
   "cell_type": "code",
   "execution_count": null,
   "metadata": {},
   "outputs": [],
   "source": []
  },
  {
   "cell_type": "code",
   "execution_count": null,
   "metadata": {},
   "outputs": [],
   "source": []
  },
  {
   "cell_type": "code",
   "execution_count": null,
   "metadata": {},
   "outputs": [],
   "source": []
  },
  {
   "cell_type": "code",
   "execution_count": null,
   "metadata": {},
   "outputs": [],
   "source": []
  },
  {
   "cell_type": "code",
   "execution_count": null,
   "metadata": {},
   "outputs": [],
   "source": []
  },
  {
   "cell_type": "code",
   "execution_count": null,
   "metadata": {},
   "outputs": [],
   "source": []
  },
  {
   "cell_type": "code",
   "execution_count": null,
   "metadata": {},
   "outputs": [],
   "source": []
  },
  {
   "cell_type": "code",
   "execution_count": null,
   "metadata": {},
   "outputs": [],
   "source": []
  }
 ],
 "metadata": {
  "kernelspec": {
   "display_name": "Python 3",
   "language": "python",
   "name": "python3"
  },
  "language_info": {
   "codemirror_mode": {
    "name": "ipython",
    "version": 3
   },
   "file_extension": ".py",
   "mimetype": "text/x-python",
   "name": "python",
   "nbconvert_exporter": "python",
   "pygments_lexer": "ipython3",
   "version": "3.6.5"
  }
 },
 "nbformat": 4,
 "nbformat_minor": 2
}
