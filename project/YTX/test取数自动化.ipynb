{
 "cells": [
  {
   "cell_type": "code",
   "execution_count": 1,
   "metadata": {
    "ExecuteTime": {
     "end_time": "2019-08-30T04:50:13.785895Z",
     "start_time": "2019-08-30T04:50:12.748265Z"
    }
   },
   "outputs": [],
   "source": [
    "import pandas as pd\n",
    "import numpy as np\n",
    "from datetime import datetime\n",
    "from impala.dbapi import connect\n",
    "import warnings\n",
    "warnings.filterwarnings('ignore')\n",
    "pd.set_option('max_colwidth',1000)"
   ]
  },
  {
   "cell_type": "code",
   "execution_count": 2,
   "metadata": {
    "ExecuteTime": {
     "end_time": "2019-08-30T04:50:13.793832Z",
     "start_time": "2019-08-30T04:50:13.788871Z"
    }
   },
   "outputs": [],
   "source": [
    "# 数据库信息\n",
    "port = 21050 # 端口号\n",
    "host = \"172.22.210.29\" # 连接地址\n",
    "database = \"bigtables\" # 数据库名\n",
    "tabls_name = \"shop_order\" # 表名"
   ]
  },
  {
   "cell_type": "code",
   "execution_count": 3,
   "metadata": {
    "ExecuteTime": {
     "end_time": "2019-08-30T04:50:14.504636Z",
     "start_time": "2019-08-30T04:50:13.797801Z"
    }
   },
   "outputs": [],
   "source": [
    "def get_ImpalaDataInfo(riqi):  \n",
    "    conn = connect(host = host,port = port,database = database,timeout = 60 )\n",
    "    SQLHIVE = '''\n",
    "    SELECT \n",
    "    card_num, \n",
    "    ticket_price, \n",
    "    actual_price, \n",
    "    entry_station_name, \n",
    "    exit_station_name, \n",
    "    userid, \n",
    "    province, \n",
    "    city, \n",
    "    gender, \n",
    "    age, \n",
    "    phoneregion, \n",
    "    phonebrand, \n",
    "    phonecarrier, \n",
    "    business_date_str \n",
    "    FROM \n",
    "    icr_user_trans \n",
    "    WHERE ticket_type = \"11\" \n",
    "    AND product_type = \"01\" \n",
    "    AND business_date_str=\"'''\n",
    "    \n",
    "#     print(SQLHIVE + riqi +'\"')\n",
    "    cur_data = conn.cursor()\n",
    "    cur_data.execute(SQLHIVE + str(riqi) +'\"')\n",
    "    data = cur_data.fetchall()\n",
    "    column_names = [\"card_num\", \"ticket_price\", \"actual_price\", \"entry_station_name\", \"exit_station_name\", \"userid\", \"province\", \"city\", \"gender\", \"age\", \"phoneregion\", \"phonebrand\", \"phonecarrier\",\"business_date_str\"]\n",
    "    data = pd.DataFrame(data,columns=column_names)\n",
    "    print(riqi)\n",
    "    print(data.shape)\n",
    "    data.to_csv(\"qrcode\" + str(riqi)+ \"info.csv\",index=False)\n",
    "    print(riqi)\n",
    "    print(\"完成\")"
   ]
  },
  {
   "cell_type": "code",
   "execution_count": 4,
   "metadata": {
    "ExecuteTime": {
     "end_time": "2019-08-30T04:50:14.648789Z",
     "start_time": "2019-08-30T04:50:14.511086Z"
    }
   },
   "outputs": [],
   "source": [
    "def get_ImpalaDataSum(riqi):  \n",
    "    conn = connect(host = host,port = port,database = database,timeout = 60 )\n",
    "    SQLHIVE = '''\n",
    "    SELECT card_num,\n",
    "    credit_point_start_date,\n",
    "    credit_point,\n",
    "    trans_count,\n",
    "    actual_payment,\n",
    "    user_id,province,\n",
    "    city,\n",
    "    gender,\n",
    "    age,\n",
    "    phonebrand,\n",
    "    phonecarrier,\n",
    "    phoneregion\n",
    "    from icr_credit_point_ledger \n",
    "    where substr(credit_point_start_date,1,6) = \"'''\n",
    "    \n",
    "#     print(SQLHIVE + str(riqi) +'\"')\n",
    "    cur_data = conn.cursor()\n",
    "    cur_data.execute(SQLHIVE + str(riqi) +'\"')\n",
    "    data = cur_data.fetchall()\n",
    "    column_names = [\"card_num\", \"credit_point_start_date\", \"credit_point\", \"trans_count\", \"actual_payment\", \"user_id\",\"province\", \"city\", \"gender\", \"age\", \"phonebrand\", \"phonecarrier\", \"phoneregion\"]\n",
    "    data = pd.DataFrame(data,columns=column_names)\n",
    "    print(riqi)\n",
    "    print(data.shape)\n",
    "    data.to_csv(\"D:/work/datasets/info/qrcode\" + str(riqi)+ \"SUM.csv\",index=False)\n",
    "    print(riqi)\n",
    "    print(\"完成\")"
   ]
  },
  {
   "cell_type": "code",
   "execution_count": 6,
   "metadata": {
    "ExecuteTime": {
     "end_time": "2019-08-30T05:10:29.612238Z",
     "start_time": "2019-08-30T05:01:17.786138Z"
    }
   },
   "outputs": [
    {
     "name": "stdout",
     "output_type": "stream",
     "text": [
      "201901\n",
      "(3488703, 13)\n",
      "201901\n",
      "完成\n"
     ]
    }
   ],
   "source": [
    "get_ImpalaDataSum(201901)"
   ]
  },
  {
   "cell_type": "code",
   "execution_count": null,
   "metadata": {},
   "outputs": [],
   "source": []
  },
  {
   "cell_type": "code",
   "execution_count": null,
   "metadata": {},
   "outputs": [],
   "source": []
  },
  {
   "cell_type": "code",
   "execution_count": null,
   "metadata": {},
   "outputs": [],
   "source": []
  }
 ],
 "metadata": {
  "kernelspec": {
   "display_name": "Python 3",
   "language": "python",
   "name": "python3"
  },
  "language_info": {
   "codemirror_mode": {
    "name": "ipython",
    "version": 3
   },
   "file_extension": ".py",
   "mimetype": "text/x-python",
   "name": "python",
   "nbconvert_exporter": "python",
   "pygments_lexer": "ipython3",
   "version": "3.6.5"
  }
 },
 "nbformat": 4,
 "nbformat_minor": 2
}
