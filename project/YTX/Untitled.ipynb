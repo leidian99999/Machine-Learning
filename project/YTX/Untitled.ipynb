{
 "cells": [
  {
   "cell_type": "code",
   "execution_count": 19,
   "metadata": {
    "ExecuteTime": {
     "end_time": "2019-08-30T10:09:46.611048Z",
     "start_time": "2019-08-30T10:09:45.538201Z"
    }
   },
   "outputs": [],
   "source": [
    "import pandas as pd\n",
    "import seaborn as sns\n",
    "import matplotlib.pyplot as plt\n",
    "import pandas_profiling"
   ]
  },
  {
   "cell_type": "code",
   "execution_count": 2,
   "metadata": {
    "ExecuteTime": {
     "end_time": "2019-08-30T09:48:58.193006Z",
     "start_time": "2019-08-30T09:48:58.187976Z"
    }
   },
   "outputs": [],
   "source": [
    "import warnings\n",
    "warnings.filterwarnings('ignore')\n",
    "pd.set_option('max_colwidth',1000)\n",
    "from matplotlib.font_manager import FontProperties\n",
    "chinese = FontProperties(fname = 'C:/Windows/Fonts/msyh.ttc')\n",
    "plt.rcParams['font.sans-serif'] = [u'SimHei']\n",
    "plt.rcParams['axes.unicode_minus'] = False"
   ]
  },
  {
   "cell_type": "code",
   "execution_count": 3,
   "metadata": {
    "ExecuteTime": {
     "end_time": "2019-08-30T09:48:58.299711Z",
     "start_time": "2019-08-30T09:48:58.195988Z"
    }
   },
   "outputs": [],
   "source": [
    "def PhoneSheng(data):\n",
    "    data['phoneregion'] = data['phoneregion'].fillna(\"空\")\n",
    "    data[\"PhoneSheng\"] = data['phoneregion'].apply(lambda x:x[:2])\n",
    "    data['province'] = data['province'].fillna(\"kong\")\n",
    "    data = data[data['province'].str.contains('kong') == False]\n",
    "    data = data[(data[\"age\"] > 0) & (data[\"age\"] < 100)]\n",
    "    data['gender'] = data['gender'].fillna(\"kong\")\n",
    "    data = data[data['gender'].str.contains('kong') == False]\n",
    "    return data"
   ]
  },
  {
   "cell_type": "code",
   "execution_count": 4,
   "metadata": {
    "ExecuteTime": {
     "end_time": "2019-08-30T09:49:08.966016Z",
     "start_time": "2019-08-30T09:48:58.302669Z"
    }
   },
   "outputs": [],
   "source": [
    "customers01 = pd.read_csv('D:/work/datasets/info/qrcode201901SUM.csv')\n",
    "data1 = PhoneSheng(customers01)\n",
    "df1 = data1.sample(n = 20000,replace = False,axis = 0)"
   ]
  },
  {
   "cell_type": "code",
   "execution_count": 5,
   "metadata": {
    "ExecuteTime": {
     "end_time": "2019-08-30T09:49:20.170842Z",
     "start_time": "2019-08-30T09:49:08.967969Z"
    }
   },
   "outputs": [],
   "source": [
    "customers02 = pd.read_csv('D:/work/datasets/info/qrcode201902SUM.csv')\n",
    "data2 = PhoneSheng(customers02)\n",
    "df2 = data2.sample(n = 20000,replace = False,axis = 0)"
   ]
  },
  {
   "cell_type": "code",
   "execution_count": 6,
   "metadata": {
    "ExecuteTime": {
     "end_time": "2019-08-30T09:49:34.048880Z",
     "start_time": "2019-08-30T09:49:20.172803Z"
    }
   },
   "outputs": [],
   "source": [
    "customers03 = pd.read_csv('D:/work/datasets/info/qrcode201903SUM.csv')\n",
    "data3 = PhoneSheng(customers03)\n",
    "df3 = data3.sample(n = 20000,replace = False,axis = 0)"
   ]
  },
  {
   "cell_type": "code",
   "execution_count": 7,
   "metadata": {
    "ExecuteTime": {
     "end_time": "2019-08-30T09:49:59.022993Z",
     "start_time": "2019-08-30T09:49:34.050697Z"
    }
   },
   "outputs": [],
   "source": [
    "customers04 = pd.read_csv('D:/work/datasets/info/qrcode201904SUM.csv')\n",
    "data4 = PhoneSheng(customers04)\n",
    "df4 = data4.sample(n = 20000,replace = False,axis = 0)"
   ]
  },
  {
   "cell_type": "code",
   "execution_count": 8,
   "metadata": {
    "ExecuteTime": {
     "end_time": "2019-08-30T09:50:21.026742Z",
     "start_time": "2019-08-30T09:49:59.024952Z"
    }
   },
   "outputs": [],
   "source": [
    "customers05 = pd.read_csv('D:/work/datasets/info/qrcode201905SUM.csv')\n",
    "data5 = PhoneSheng(customers05)\n",
    "df5 = data5.sample(n = 20000,replace = False,axis = 0)"
   ]
  },
  {
   "cell_type": "code",
   "execution_count": 9,
   "metadata": {
    "ExecuteTime": {
     "end_time": "2019-08-30T09:50:42.934929Z",
     "start_time": "2019-08-30T09:50:21.167955Z"
    }
   },
   "outputs": [],
   "source": [
    "customers06 = pd.read_csv('D:/work/datasets/info/qrcode201906SUM.csv')\n",
    "data6 = PhoneSheng(customers06)\n",
    "df6 = data6.sample(n = 20000,replace = False,axis = 0)"
   ]
  },
  {
   "cell_type": "code",
   "execution_count": 10,
   "metadata": {
    "ExecuteTime": {
     "end_time": "2019-08-30T09:50:43.220849Z",
     "start_time": "2019-08-30T09:50:42.937606Z"
    }
   },
   "outputs": [
    {
     "name": "stdout",
     "output_type": "stream",
     "text": [
      "df1:(20000, 14)\n",
      "df2:(20000, 14)\n",
      "df3:(20000, 14)\n",
      "df4:(20000, 14)\n",
      "df5:(20000, 14)\n",
      "df6:(20000, 14)\n"
     ]
    }
   ],
   "source": [
    "print(\"df1:\" + str(df1.shape))\n",
    "print(\"df2:\" + str(df2.shape))\n",
    "print(\"df3:\" + str(df3.shape))\n",
    "print(\"df4:\" + str(df4.shape))\n",
    "print(\"df5:\" + str(df5.shape))\n",
    "print(\"df6:\" + str(df6.shape))"
   ]
  },
  {
   "cell_type": "code",
   "execution_count": 11,
   "metadata": {
    "ExecuteTime": {
     "end_time": "2019-08-30T09:50:43.276731Z",
     "start_time": "2019-08-30T09:50:43.222843Z"
    }
   },
   "outputs": [
    {
     "name": "stdout",
     "output_type": "stream",
     "text": [
      "样本数：120000\n"
     ]
    }
   ],
   "source": [
    "print(\"样本数：\" + str(df1.shape[0] \n",
    "                   + df2.shape[0] + df3.shape[0] + df4.shape[0]\n",
    "                   + df5.shape[0] + df6.shape[0]))"
   ]
  },
  {
   "cell_type": "code",
   "execution_count": 12,
   "metadata": {
    "ExecuteTime": {
     "end_time": "2019-08-30T09:50:44.069481Z",
     "start_time": "2019-08-30T09:50:43.280691Z"
    }
   },
   "outputs": [
    {
     "data": {
      "text/plain": [
       "(120000, 14)"
      ]
     },
     "execution_count": 12,
     "metadata": {},
     "output_type": "execute_result"
    }
   ],
   "source": [
    "df = pd.concat([df1,df2,df3,df4,df5,df6])\n",
    "df.shape"
   ]
  },
  {
   "cell_type": "code",
   "execution_count": 13,
   "metadata": {
    "ExecuteTime": {
     "end_time": "2019-08-30T09:50:44.141271Z",
     "start_time": "2019-08-30T09:50:44.075416Z"
    },
    "scrolled": true
   },
   "outputs": [
    {
     "data": {
      "text/plain": [
       "Index(['card_num', 'credit_point_start_date', 'credit_point', 'trans_count',\n",
       "       'actual_payment', 'user_id', 'province', 'city', 'gender', 'age',\n",
       "       'phonebrand', 'phonecarrier', 'phoneregion', 'PhoneSheng'],\n",
       "      dtype='object')"
      ]
     },
     "execution_count": 13,
     "metadata": {},
     "output_type": "execute_result"
    }
   ],
   "source": [
    "df.columns"
   ]
  },
  {
   "cell_type": "code",
   "execution_count": 14,
   "metadata": {
    "ExecuteTime": {
     "end_time": "2019-08-30T09:50:44.714756Z",
     "start_time": "2019-08-30T09:50:44.144238Z"
    }
   },
   "outputs": [
    {
     "data": {
      "text/html": [
       "<div>\n",
       "<style scoped>\n",
       "    .dataframe tbody tr th:only-of-type {\n",
       "        vertical-align: middle;\n",
       "    }\n",
       "\n",
       "    .dataframe tbody tr th {\n",
       "        vertical-align: top;\n",
       "    }\n",
       "\n",
       "    .dataframe thead th {\n",
       "        text-align: right;\n",
       "    }\n",
       "</style>\n",
       "<table border=\"1\" class=\"dataframe\">\n",
       "  <thead>\n",
       "    <tr style=\"text-align: right;\">\n",
       "      <th></th>\n",
       "      <th>card_num</th>\n",
       "      <th>credit_point_start_date</th>\n",
       "      <th>credit_point</th>\n",
       "      <th>trans_count</th>\n",
       "      <th>actual_payment</th>\n",
       "      <th>user_id</th>\n",
       "      <th>province</th>\n",
       "      <th>city</th>\n",
       "      <th>gender</th>\n",
       "      <th>age</th>\n",
       "      <th>phonebrand</th>\n",
       "      <th>phonecarrier</th>\n",
       "      <th>phoneregion</th>\n",
       "      <th>PhoneSheng</th>\n",
       "    </tr>\n",
       "  </thead>\n",
       "  <tbody>\n",
       "    <tr>\n",
       "      <th>704416</th>\n",
       "      <td>10100053205004613411</td>\n",
       "      <td>20190101000000</td>\n",
       "      <td>1200</td>\n",
       "      <td>3</td>\n",
       "      <td>1200</td>\n",
       "      <td>6154907.0</td>\n",
       "      <td>宁夏</td>\n",
       "      <td>银川</td>\n",
       "      <td>F</td>\n",
       "      <td>49.0</td>\n",
       "      <td>Honor</td>\n",
       "      <td>NaN</td>\n",
       "      <td>空</td>\n",
       "      <td>空</td>\n",
       "    </tr>\n",
       "    <tr>\n",
       "      <th>1852753</th>\n",
       "      <td>10100053205003336137</td>\n",
       "      <td>20190101000000</td>\n",
       "      <td>1000</td>\n",
       "      <td>2</td>\n",
       "      <td>1000</td>\n",
       "      <td>4800880.0</td>\n",
       "      <td>河南</td>\n",
       "      <td>信阳</td>\n",
       "      <td>F</td>\n",
       "      <td>25.0</td>\n",
       "      <td>vivo</td>\n",
       "      <td>联通</td>\n",
       "      <td>北京</td>\n",
       "      <td>北京</td>\n",
       "    </tr>\n",
       "    <tr>\n",
       "      <th>398367</th>\n",
       "      <td>10100053205008510024</td>\n",
       "      <td>20190101000000</td>\n",
       "      <td>2600</td>\n",
       "      <td>6</td>\n",
       "      <td>2600</td>\n",
       "      <td>10447788.0</td>\n",
       "      <td>湖南</td>\n",
       "      <td>株洲</td>\n",
       "      <td>M</td>\n",
       "      <td>26.0</td>\n",
       "      <td>Apple</td>\n",
       "      <td>移动</td>\n",
       "      <td>上海</td>\n",
       "      <td>上海</td>\n",
       "    </tr>\n",
       "    <tr>\n",
       "      <th>3253381</th>\n",
       "      <td>10100053205007237278</td>\n",
       "      <td>20190101000000</td>\n",
       "      <td>0</td>\n",
       "      <td>0</td>\n",
       "      <td>2500</td>\n",
       "      <td>9099595.0</td>\n",
       "      <td>广西</td>\n",
       "      <td>桂林</td>\n",
       "      <td>F</td>\n",
       "      <td>25.0</td>\n",
       "      <td>Apple</td>\n",
       "      <td>NaN</td>\n",
       "      <td>空</td>\n",
       "      <td>空</td>\n",
       "    </tr>\n",
       "    <tr>\n",
       "      <th>107015</th>\n",
       "      <td>10100053205006708657</td>\n",
       "      <td>20190101000000</td>\n",
       "      <td>17900</td>\n",
       "      <td>38</td>\n",
       "      <td>17900</td>\n",
       "      <td>8520514.0</td>\n",
       "      <td>安徽</td>\n",
       "      <td>淮南</td>\n",
       "      <td>M</td>\n",
       "      <td>39.0</td>\n",
       "      <td>HUAWEI</td>\n",
       "      <td>NaN</td>\n",
       "      <td>空</td>\n",
       "      <td>空</td>\n",
       "    </tr>\n",
       "  </tbody>\n",
       "</table>\n",
       "</div>"
      ],
      "text/plain": [
       "                     card_num  credit_point_start_date  credit_point  \\\n",
       "704416   10100053205004613411           20190101000000          1200   \n",
       "1852753  10100053205003336137           20190101000000          1000   \n",
       "398367   10100053205008510024           20190101000000          2600   \n",
       "3253381  10100053205007237278           20190101000000             0   \n",
       "107015   10100053205006708657           20190101000000         17900   \n",
       "\n",
       "         trans_count  actual_payment     user_id province city gender   age  \\\n",
       "704416             3            1200   6154907.0       宁夏   银川      F  49.0   \n",
       "1852753            2            1000   4800880.0       河南   信阳      F  25.0   \n",
       "398367             6            2600  10447788.0       湖南   株洲      M  26.0   \n",
       "3253381            0            2500   9099595.0       广西   桂林      F  25.0   \n",
       "107015            38           17900   8520514.0       安徽   淮南      M  39.0   \n",
       "\n",
       "        phonebrand phonecarrier phoneregion PhoneSheng  \n",
       "704416       Honor          NaN           空          空  \n",
       "1852753       vivo           联通          北京         北京  \n",
       "398367       Apple           移动          上海         上海  \n",
       "3253381      Apple          NaN           空          空  \n",
       "107015      HUAWEI          NaN           空          空  "
      ]
     },
     "execution_count": 14,
     "metadata": {},
     "output_type": "execute_result"
    }
   ],
   "source": [
    "df.head()"
   ]
  },
  {
   "cell_type": "code",
   "execution_count": 15,
   "metadata": {
    "ExecuteTime": {
     "end_time": "2019-08-30T09:50:44.898274Z",
     "start_time": "2019-08-30T09:50:44.720740Z"
    }
   },
   "outputs": [],
   "source": [
    "data = df[[\"user_id\",\"credit_point_start_date\",\"actual_payment\",\"province\",\"age\",\"gender\"]]"
   ]
  },
  {
   "cell_type": "code",
   "execution_count": 16,
   "metadata": {
    "ExecuteTime": {
     "end_time": "2019-08-30T09:50:44.940101Z",
     "start_time": "2019-08-30T09:50:44.900239Z"
    }
   },
   "outputs": [
    {
     "data": {
      "text/plain": [
       "(120000, 6)"
      ]
     },
     "execution_count": 16,
     "metadata": {},
     "output_type": "execute_result"
    }
   ],
   "source": [
    "data.shape"
   ]
  },
  {
   "cell_type": "code",
   "execution_count": 25,
   "metadata": {
    "ExecuteTime": {
     "end_time": "2019-08-30T10:53:03.403049Z",
     "start_time": "2019-08-30T10:53:03.393075Z"
    }
   },
   "outputs": [],
   "source": [
    "data = data.reset_index()"
   ]
  },
  {
   "cell_type": "code",
   "execution_count": 31,
   "metadata": {
    "ExecuteTime": {
     "end_time": "2019-08-30T11:02:04.925029Z",
     "start_time": "2019-08-30T11:02:04.912092Z"
    }
   },
   "outputs": [],
   "source": [
    "data[\"yuan\"] = data[\"actual_payment\"] / 100\n",
    "data = data.drop(columns=[\"actual_payment\"])"
   ]
  },
  {
   "cell_type": "code",
   "execution_count": 32,
   "metadata": {
    "ExecuteTime": {
     "end_time": "2019-08-30T11:02:07.720691Z",
     "start_time": "2019-08-30T11:02:07.708698Z"
    }
   },
   "outputs": [
    {
     "data": {
      "text/html": [
       "<div>\n",
       "<style scoped>\n",
       "    .dataframe tbody tr th:only-of-type {\n",
       "        vertical-align: middle;\n",
       "    }\n",
       "\n",
       "    .dataframe tbody tr th {\n",
       "        vertical-align: top;\n",
       "    }\n",
       "\n",
       "    .dataframe thead th {\n",
       "        text-align: right;\n",
       "    }\n",
       "</style>\n",
       "<table border=\"1\" class=\"dataframe\">\n",
       "  <thead>\n",
       "    <tr style=\"text-align: right;\">\n",
       "      <th></th>\n",
       "      <th>df_index</th>\n",
       "      <th>user_id</th>\n",
       "      <th>credit_point_start_date</th>\n",
       "      <th>province</th>\n",
       "      <th>age</th>\n",
       "      <th>gender</th>\n",
       "      <th>yuan</th>\n",
       "    </tr>\n",
       "  </thead>\n",
       "  <tbody>\n",
       "    <tr>\n",
       "      <th>0</th>\n",
       "      <td>704416</td>\n",
       "      <td>6154907.0</td>\n",
       "      <td>20190101000000</td>\n",
       "      <td>宁夏</td>\n",
       "      <td>49.0</td>\n",
       "      <td>F</td>\n",
       "      <td>12.0</td>\n",
       "    </tr>\n",
       "    <tr>\n",
       "      <th>1</th>\n",
       "      <td>1852753</td>\n",
       "      <td>4800880.0</td>\n",
       "      <td>20190101000000</td>\n",
       "      <td>河南</td>\n",
       "      <td>25.0</td>\n",
       "      <td>F</td>\n",
       "      <td>10.0</td>\n",
       "    </tr>\n",
       "    <tr>\n",
       "      <th>2</th>\n",
       "      <td>398367</td>\n",
       "      <td>10447788.0</td>\n",
       "      <td>20190101000000</td>\n",
       "      <td>湖南</td>\n",
       "      <td>26.0</td>\n",
       "      <td>M</td>\n",
       "      <td>26.0</td>\n",
       "    </tr>\n",
       "    <tr>\n",
       "      <th>3</th>\n",
       "      <td>3253381</td>\n",
       "      <td>9099595.0</td>\n",
       "      <td>20190101000000</td>\n",
       "      <td>广西</td>\n",
       "      <td>25.0</td>\n",
       "      <td>F</td>\n",
       "      <td>25.0</td>\n",
       "    </tr>\n",
       "    <tr>\n",
       "      <th>4</th>\n",
       "      <td>107015</td>\n",
       "      <td>8520514.0</td>\n",
       "      <td>20190101000000</td>\n",
       "      <td>安徽</td>\n",
       "      <td>39.0</td>\n",
       "      <td>M</td>\n",
       "      <td>179.0</td>\n",
       "    </tr>\n",
       "  </tbody>\n",
       "</table>\n",
       "</div>"
      ],
      "text/plain": [
       "   df_index     user_id  credit_point_start_date province   age gender   yuan\n",
       "0    704416   6154907.0           20190101000000       宁夏  49.0      F   12.0\n",
       "1   1852753   4800880.0           20190101000000       河南  25.0      F   10.0\n",
       "2    398367  10447788.0           20190101000000       湖南  26.0      M   26.0\n",
       "3   3253381   9099595.0           20190101000000       广西  25.0      F   25.0\n",
       "4    107015   8520514.0           20190101000000       安徽  39.0      M  179.0"
      ]
     },
     "execution_count": 32,
     "metadata": {},
     "output_type": "execute_result"
    }
   ],
   "source": [
    "data.head()"
   ]
  },
  {
   "cell_type": "code",
   "execution_count": 33,
   "metadata": {
    "ExecuteTime": {
     "end_time": "2019-08-30T11:02:10.579984Z",
     "start_time": "2019-08-30T11:02:10.519147Z"
    }
   },
   "outputs": [
    {
     "data": {
      "text/html": [
       "<div>\n",
       "<style scoped>\n",
       "    .dataframe tbody tr th:only-of-type {\n",
       "        vertical-align: middle;\n",
       "    }\n",
       "\n",
       "    .dataframe tbody tr th {\n",
       "        vertical-align: top;\n",
       "    }\n",
       "\n",
       "    .dataframe thead th {\n",
       "        text-align: right;\n",
       "    }\n",
       "</style>\n",
       "<table border=\"1\" class=\"dataframe\">\n",
       "  <thead>\n",
       "    <tr style=\"text-align: right;\">\n",
       "      <th></th>\n",
       "      <th>df_index</th>\n",
       "      <th>user_id</th>\n",
       "      <th>credit_point_start_date</th>\n",
       "      <th>age</th>\n",
       "      <th>yuan</th>\n",
       "    </tr>\n",
       "  </thead>\n",
       "  <tbody>\n",
       "    <tr>\n",
       "      <th>count</th>\n",
       "      <td>1.200000e+05</td>\n",
       "      <td>1.200000e+05</td>\n",
       "      <td>1.200000e+05</td>\n",
       "      <td>120000.000000</td>\n",
       "      <td>120000.000000</td>\n",
       "    </tr>\n",
       "    <tr>\n",
       "      <th>mean</th>\n",
       "      <td>1.928572e+06</td>\n",
       "      <td>6.877344e+06</td>\n",
       "      <td>2.019035e+13</td>\n",
       "      <td>30.261200</td>\n",
       "      <td>56.375422</td>\n",
       "    </tr>\n",
       "    <tr>\n",
       "      <th>std</th>\n",
       "      <td>1.134256e+06</td>\n",
       "      <td>4.021008e+06</td>\n",
       "      <td>1.707832e+08</td>\n",
       "      <td>9.136386</td>\n",
       "      <td>62.818250</td>\n",
       "    </tr>\n",
       "    <tr>\n",
       "      <th>min</th>\n",
       "      <td>2.700000e+01</td>\n",
       "      <td>3.500000e+01</td>\n",
       "      <td>2.019010e+13</td>\n",
       "      <td>9.000000</td>\n",
       "      <td>0.000000</td>\n",
       "    </tr>\n",
       "    <tr>\n",
       "      <th>25%</th>\n",
       "      <td>9.493108e+05</td>\n",
       "      <td>3.314142e+06</td>\n",
       "      <td>2.019020e+13</td>\n",
       "      <td>23.000000</td>\n",
       "      <td>10.000000</td>\n",
       "    </tr>\n",
       "    <tr>\n",
       "      <th>50%</th>\n",
       "      <td>1.911661e+06</td>\n",
       "      <td>6.692427e+06</td>\n",
       "      <td>2.019035e+13</td>\n",
       "      <td>28.000000</td>\n",
       "      <td>27.000000</td>\n",
       "    </tr>\n",
       "    <tr>\n",
       "      <th>75%</th>\n",
       "      <td>2.869374e+06</td>\n",
       "      <td>1.029595e+07</td>\n",
       "      <td>2.019050e+13</td>\n",
       "      <td>35.000000</td>\n",
       "      <td>86.000000</td>\n",
       "    </tr>\n",
       "    <tr>\n",
       "      <th>max</th>\n",
       "      <td>4.271123e+06</td>\n",
       "      <td>1.471216e+07</td>\n",
       "      <td>2.019060e+13</td>\n",
       "      <td>86.000000</td>\n",
       "      <td>1178.000000</td>\n",
       "    </tr>\n",
       "  </tbody>\n",
       "</table>\n",
       "</div>"
      ],
      "text/plain": [
       "           df_index       user_id  credit_point_start_date            age  \\\n",
       "count  1.200000e+05  1.200000e+05             1.200000e+05  120000.000000   \n",
       "mean   1.928572e+06  6.877344e+06             2.019035e+13      30.261200   \n",
       "std    1.134256e+06  4.021008e+06             1.707832e+08       9.136386   \n",
       "min    2.700000e+01  3.500000e+01             2.019010e+13       9.000000   \n",
       "25%    9.493108e+05  3.314142e+06             2.019020e+13      23.000000   \n",
       "50%    1.911661e+06  6.692427e+06             2.019035e+13      28.000000   \n",
       "75%    2.869374e+06  1.029595e+07             2.019050e+13      35.000000   \n",
       "max    4.271123e+06  1.471216e+07             2.019060e+13      86.000000   \n",
       "\n",
       "                yuan  \n",
       "count  120000.000000  \n",
       "mean       56.375422  \n",
       "std        62.818250  \n",
       "min         0.000000  \n",
       "25%        10.000000  \n",
       "50%        27.000000  \n",
       "75%        86.000000  \n",
       "max      1178.000000  "
      ]
     },
     "execution_count": 33,
     "metadata": {},
     "output_type": "execute_result"
    }
   ],
   "source": [
    "data.describe()"
   ]
  },
  {
   "cell_type": "code",
   "execution_count": 34,
   "metadata": {
    "ExecuteTime": {
     "end_time": "2019-08-30T11:07:01.820753Z",
     "start_time": "2019-08-30T11:02:16.144731Z"
    }
   },
   "outputs": [],
   "source": [
    "profile = data.profile_report(title = \"二维码用户分析抽样1\")"
   ]
  },
  {
   "cell_type": "code",
   "execution_count": 35,
   "metadata": {
    "ExecuteTime": {
     "end_time": "2019-08-30T11:07:02.138094Z",
     "start_time": "2019-08-30T11:07:01.823716Z"
    }
   },
   "outputs": [],
   "source": [
    "profile.to_file(output_file=\"D:/work/数据分析报告/新建文件夹/二维码用户分析/二维码用户分析抽样1.html\")"
   ]
  },
  {
   "cell_type": "code",
   "execution_count": null,
   "metadata": {},
   "outputs": [],
   "source": []
  }
 ],
 "metadata": {
  "kernelspec": {
   "display_name": "Python 3",
   "language": "python",
   "name": "python3"
  },
  "language_info": {
   "codemirror_mode": {
    "name": "ipython",
    "version": 3
   },
   "file_extension": ".py",
   "mimetype": "text/x-python",
   "name": "python",
   "nbconvert_exporter": "python",
   "pygments_lexer": "ipython3",
   "version": "3.6.5"
  }
 },
 "nbformat": 4,
 "nbformat_minor": 2
}
