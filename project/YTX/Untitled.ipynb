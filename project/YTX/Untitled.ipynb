{
 "cells": [
  {
   "cell_type": "code",
   "execution_count": 1,
   "metadata": {
    "ExecuteTime": {
     "end_time": "2019-08-30T10:09:46.611048Z",
     "start_time": "2019-08-30T10:09:45.538201Z"
    }
   },
   "outputs": [],
   "source": [
    "import pandas as pd\n",
    "import seaborn as sns\n",
    "import matplotlib.pyplot as plt\n",
    "import pandas_profiling"
   ]
  },
  {
   "cell_type": "code",
   "execution_count": 2,
   "metadata": {
    "ExecuteTime": {
     "end_time": "2019-08-30T09:48:58.193006Z",
     "start_time": "2019-08-30T09:48:58.187976Z"
    }
   },
   "outputs": [],
   "source": [
    "import warnings\n",
    "warnings.filterwarnings('ignore')\n",
    "pd.set_option('max_colwidth',1000)\n",
    "from matplotlib.font_manager import FontProperties\n",
    "chinese = FontProperties(fname = 'C:/Windows/Fonts/msyh.ttc')\n",
    "plt.rcParams['font.sans-serif'] = [u'SimHei']\n",
    "plt.rcParams['axes.unicode_minus'] = False"
   ]
  },
  {
   "cell_type": "code",
   "execution_count": 3,
   "metadata": {
    "ExecuteTime": {
     "end_time": "2019-08-30T09:48:58.299711Z",
     "start_time": "2019-08-30T09:48:58.195988Z"
    }
   },
   "outputs": [],
   "source": [
    "def PhoneSheng(data):\n",
    "    data['phoneregion'] = data['phoneregion'].fillna(\"空\")\n",
    "    data[\"PhoneSheng\"] = data['phoneregion'].apply(lambda x:x[:2])\n",
    "    data['province'] = data['province'].fillna(\"kong\")\n",
    "    data = data[data['province'].str.contains('kong') == False]\n",
    "    data = data[(data[\"age\"] > 0) & (data[\"age\"] < 100)]\n",
    "    data['gender'] = data['gender'].fillna(\"kong\")\n",
    "    data = data[data['gender'].str.contains('kong') == False]\n",
    "    return data"
   ]
  },
  {
   "cell_type": "code",
   "execution_count": 4,
   "metadata": {
    "ExecuteTime": {
     "end_time": "2019-08-30T09:49:08.966016Z",
     "start_time": "2019-08-30T09:48:58.302669Z"
    }
   },
   "outputs": [],
   "source": [
    "customers01 = pd.read_csv('D:/work/datasets/info/qrcode201901SUM.csv')\n",
    "data1 = PhoneSheng(customers01)\n",
    "df1 = data1.sample(n = 20000,replace = False,axis = 0,random_state = 444)"
   ]
  },
  {
   "cell_type": "code",
   "execution_count": 5,
   "metadata": {
    "ExecuteTime": {
     "end_time": "2019-08-30T09:49:20.170842Z",
     "start_time": "2019-08-30T09:49:08.967969Z"
    }
   },
   "outputs": [],
   "source": [
    "customers02 = pd.read_csv('D:/work/datasets/info/qrcode201902SUM.csv')\n",
    "data2 = PhoneSheng(customers02)\n",
    "df2 = data2.sample(n = 20000,replace = False,axis = 0,random_state = 444)"
   ]
  },
  {
   "cell_type": "code",
   "execution_count": 6,
   "metadata": {
    "ExecuteTime": {
     "end_time": "2019-08-30T09:49:34.048880Z",
     "start_time": "2019-08-30T09:49:20.172803Z"
    }
   },
   "outputs": [],
   "source": [
    "customers03 = pd.read_csv('D:/work/datasets/info/qrcode201903SUM.csv')\n",
    "data3 = PhoneSheng(customers03)\n",
    "df3 = data3.sample(n = 20000,replace = False,axis = 0,random_state = 444)"
   ]
  },
  {
   "cell_type": "code",
   "execution_count": 7,
   "metadata": {
    "ExecuteTime": {
     "end_time": "2019-08-30T09:49:59.022993Z",
     "start_time": "2019-08-30T09:49:34.050697Z"
    }
   },
   "outputs": [],
   "source": [
    "customers04 = pd.read_csv('D:/work/datasets/info/qrcode201904SUM.csv')\n",
    "data4 = PhoneSheng(customers04)\n",
    "df4 = data4.sample(n = 20000,replace = False,axis = 0,random_state = 444)"
   ]
  },
  {
   "cell_type": "code",
   "execution_count": 8,
   "metadata": {
    "ExecuteTime": {
     "end_time": "2019-08-30T09:50:21.026742Z",
     "start_time": "2019-08-30T09:49:59.024952Z"
    }
   },
   "outputs": [],
   "source": [
    "customers05 = pd.read_csv('D:/work/datasets/info/qrcode201905SUM.csv')\n",
    "data5 = PhoneSheng(customers05)\n",
    "df5 = data5.sample(n = 20000,replace = False,axis = 0,random_state = 444)"
   ]
  },
  {
   "cell_type": "code",
   "execution_count": 9,
   "metadata": {
    "ExecuteTime": {
     "end_time": "2019-08-30T09:50:42.934929Z",
     "start_time": "2019-08-30T09:50:21.167955Z"
    }
   },
   "outputs": [],
   "source": [
    "customers06 = pd.read_csv('D:/work/datasets/info/qrcode201906SUM.csv')\n",
    "data6 = PhoneSheng(customers06)\n",
    "df6 = data6.sample(n = 20000,replace = False,axis = 0,random_state = 444)"
   ]
  },
  {
   "cell_type": "code",
   "execution_count": 10,
   "metadata": {
    "ExecuteTime": {
     "end_time": "2019-08-30T09:50:43.220849Z",
     "start_time": "2019-08-30T09:50:42.937606Z"
    }
   },
   "outputs": [
    {
     "name": "stdout",
     "output_type": "stream",
     "text": [
      "df1:(20000, 14)\n",
      "df2:(20000, 14)\n",
      "df3:(20000, 14)\n",
      "df4:(20000, 14)\n",
      "df5:(20000, 14)\n",
      "df6:(20000, 14)\n"
     ]
    }
   ],
   "source": [
    "print(\"df1:\" + str(df1.shape))\n",
    "print(\"df2:\" + str(df2.shape))\n",
    "print(\"df3:\" + str(df3.shape))\n",
    "print(\"df4:\" + str(df4.shape))\n",
    "print(\"df5:\" + str(df5.shape))\n",
    "print(\"df6:\" + str(df6.shape))"
   ]
  },
  {
   "cell_type": "code",
   "execution_count": 11,
   "metadata": {
    "ExecuteTime": {
     "end_time": "2019-08-30T09:50:43.276731Z",
     "start_time": "2019-08-30T09:50:43.222843Z"
    }
   },
   "outputs": [
    {
     "name": "stdout",
     "output_type": "stream",
     "text": [
      "样本数：120000\n"
     ]
    }
   ],
   "source": [
    "print(\"样本数：\" + str(df1.shape[0] \n",
    "                   + df2.shape[0] + df3.shape[0] + df4.shape[0]\n",
    "                   + df5.shape[0] + df6.shape[0]))"
   ]
  },
  {
   "cell_type": "code",
   "execution_count": 12,
   "metadata": {
    "ExecuteTime": {
     "end_time": "2019-08-30T09:50:44.069481Z",
     "start_time": "2019-08-30T09:50:43.280691Z"
    }
   },
   "outputs": [
    {
     "data": {
      "text/plain": [
       "(120000, 14)"
      ]
     },
     "execution_count": 12,
     "metadata": {},
     "output_type": "execute_result"
    }
   ],
   "source": [
    "df = pd.concat([df1,df2,df3,df4,df5,df6])\n",
    "df.shape"
   ]
  },
  {
   "cell_type": "code",
   "execution_count": 13,
   "metadata": {
    "ExecuteTime": {
     "end_time": "2019-08-30T09:50:44.141271Z",
     "start_time": "2019-08-30T09:50:44.075416Z"
    },
    "scrolled": true
   },
   "outputs": [
    {
     "data": {
      "text/plain": [
       "Index(['card_num', 'credit_point_start_date', 'credit_point', 'trans_count',\n",
       "       'actual_payment', 'user_id', 'province', 'city', 'gender', 'age',\n",
       "       'phonebrand', 'phonecarrier', 'phoneregion', 'PhoneSheng'],\n",
       "      dtype='object')"
      ]
     },
     "execution_count": 13,
     "metadata": {},
     "output_type": "execute_result"
    }
   ],
   "source": [
    "df.columns"
   ]
  },
  {
   "cell_type": "code",
   "execution_count": 14,
   "metadata": {
    "ExecuteTime": {
     "end_time": "2019-08-30T09:50:44.714756Z",
     "start_time": "2019-08-30T09:50:44.144238Z"
    }
   },
   "outputs": [
    {
     "data": {
      "text/html": [
       "<div>\n",
       "<style scoped>\n",
       "    .dataframe tbody tr th:only-of-type {\n",
       "        vertical-align: middle;\n",
       "    }\n",
       "\n",
       "    .dataframe tbody tr th {\n",
       "        vertical-align: top;\n",
       "    }\n",
       "\n",
       "    .dataframe thead th {\n",
       "        text-align: right;\n",
       "    }\n",
       "</style>\n",
       "<table border=\"1\" class=\"dataframe\">\n",
       "  <thead>\n",
       "    <tr style=\"text-align: right;\">\n",
       "      <th></th>\n",
       "      <th>card_num</th>\n",
       "      <th>credit_point_start_date</th>\n",
       "      <th>credit_point</th>\n",
       "      <th>trans_count</th>\n",
       "      <th>actual_payment</th>\n",
       "      <th>user_id</th>\n",
       "      <th>province</th>\n",
       "      <th>city</th>\n",
       "      <th>gender</th>\n",
       "      <th>age</th>\n",
       "      <th>phonebrand</th>\n",
       "      <th>phonecarrier</th>\n",
       "      <th>phoneregion</th>\n",
       "      <th>PhoneSheng</th>\n",
       "    </tr>\n",
       "  </thead>\n",
       "  <tbody>\n",
       "    <tr>\n",
       "      <th>2973737</th>\n",
       "      <td>10100053205008504380</td>\n",
       "      <td>20190101000000</td>\n",
       "      <td>3300</td>\n",
       "      <td>11</td>\n",
       "      <td>3300</td>\n",
       "      <td>10441254.0</td>\n",
       "      <td>内蒙古</td>\n",
       "      <td>巴彦淖尔盟</td>\n",
       "      <td>F</td>\n",
       "      <td>29.0</td>\n",
       "      <td>Apple</td>\n",
       "      <td>NaN</td>\n",
       "      <td>空</td>\n",
       "      <td>空</td>\n",
       "    </tr>\n",
       "    <tr>\n",
       "      <th>2248725</th>\n",
       "      <td>10100053205008434002</td>\n",
       "      <td>20190101000000</td>\n",
       "      <td>600</td>\n",
       "      <td>1</td>\n",
       "      <td>600</td>\n",
       "      <td>10359865.0</td>\n",
       "      <td>吉林</td>\n",
       "      <td>长春</td>\n",
       "      <td>M</td>\n",
       "      <td>35.0</td>\n",
       "      <td>Apple</td>\n",
       "      <td>NaN</td>\n",
       "      <td>空</td>\n",
       "      <td>空</td>\n",
       "    </tr>\n",
       "    <tr>\n",
       "      <th>74007</th>\n",
       "      <td>10100053205001357739</td>\n",
       "      <td>20190101000000</td>\n",
       "      <td>7600</td>\n",
       "      <td>22</td>\n",
       "      <td>12600</td>\n",
       "      <td>2587183.0</td>\n",
       "      <td>江西</td>\n",
       "      <td>南昌</td>\n",
       "      <td>M</td>\n",
       "      <td>25.0</td>\n",
       "      <td>Apple</td>\n",
       "      <td>联通</td>\n",
       "      <td>北京</td>\n",
       "      <td>北京</td>\n",
       "    </tr>\n",
       "    <tr>\n",
       "      <th>1266634</th>\n",
       "      <td>10100053205001243169</td>\n",
       "      <td>20190101000000</td>\n",
       "      <td>2600</td>\n",
       "      <td>7</td>\n",
       "      <td>2600</td>\n",
       "      <td>2462190.0</td>\n",
       "      <td>辽宁</td>\n",
       "      <td>辽阳</td>\n",
       "      <td>M</td>\n",
       "      <td>26.0</td>\n",
       "      <td>Apple</td>\n",
       "      <td>移动</td>\n",
       "      <td>北京</td>\n",
       "      <td>北京</td>\n",
       "    </tr>\n",
       "    <tr>\n",
       "      <th>3366831</th>\n",
       "      <td>10100053205008038297</td>\n",
       "      <td>20190101000000</td>\n",
       "      <td>7400</td>\n",
       "      <td>18</td>\n",
       "      <td>7400</td>\n",
       "      <td>10000679.0</td>\n",
       "      <td>河北</td>\n",
       "      <td>石家庄</td>\n",
       "      <td>F</td>\n",
       "      <td>26.0</td>\n",
       "      <td>Xiaomi</td>\n",
       "      <td>NaN</td>\n",
       "      <td>空</td>\n",
       "      <td>空</td>\n",
       "    </tr>\n",
       "  </tbody>\n",
       "</table>\n",
       "</div>"
      ],
      "text/plain": [
       "                     card_num  credit_point_start_date  credit_point  \\\n",
       "2973737  10100053205008504380           20190101000000          3300   \n",
       "2248725  10100053205008434002           20190101000000           600   \n",
       "74007    10100053205001357739           20190101000000          7600   \n",
       "1266634  10100053205001243169           20190101000000          2600   \n",
       "3366831  10100053205008038297           20190101000000          7400   \n",
       "\n",
       "         trans_count  actual_payment     user_id province   city gender   age  \\\n",
       "2973737           11            3300  10441254.0      内蒙古  巴彦淖尔盟      F  29.0   \n",
       "2248725            1             600  10359865.0       吉林     长春      M  35.0   \n",
       "74007             22           12600   2587183.0       江西     南昌      M  25.0   \n",
       "1266634            7            2600   2462190.0       辽宁     辽阳      M  26.0   \n",
       "3366831           18            7400  10000679.0       河北    石家庄      F  26.0   \n",
       "\n",
       "        phonebrand phonecarrier phoneregion PhoneSheng  \n",
       "2973737      Apple          NaN           空          空  \n",
       "2248725      Apple          NaN           空          空  \n",
       "74007        Apple           联通          北京         北京  \n",
       "1266634      Apple           移动          北京         北京  \n",
       "3366831     Xiaomi          NaN           空          空  "
      ]
     },
     "execution_count": 14,
     "metadata": {},
     "output_type": "execute_result"
    }
   ],
   "source": [
    "df.head()"
   ]
  },
  {
   "cell_type": "code",
   "execution_count": 15,
   "metadata": {
    "ExecuteTime": {
     "end_time": "2019-08-30T09:50:44.898274Z",
     "start_time": "2019-08-30T09:50:44.720740Z"
    }
   },
   "outputs": [],
   "source": [
    "data = df[[\"user_id\",\"credit_point_start_date\",\"actual_payment\",\"province\",\"age\",\"gender\"]]"
   ]
  },
  {
   "cell_type": "code",
   "execution_count": 16,
   "metadata": {
    "ExecuteTime": {
     "end_time": "2019-08-30T09:50:44.940101Z",
     "start_time": "2019-08-30T09:50:44.900239Z"
    }
   },
   "outputs": [
    {
     "data": {
      "text/plain": [
       "(120000, 6)"
      ]
     },
     "execution_count": 16,
     "metadata": {},
     "output_type": "execute_result"
    }
   ],
   "source": [
    "data.shape"
   ]
  },
  {
   "cell_type": "code",
   "execution_count": 17,
   "metadata": {
    "ExecuteTime": {
     "end_time": "2019-08-30T10:53:03.403049Z",
     "start_time": "2019-08-30T10:53:03.393075Z"
    }
   },
   "outputs": [],
   "source": [
    "data = data.reset_index(drop=True)"
   ]
  },
  {
   "cell_type": "code",
   "execution_count": 18,
   "metadata": {
    "ExecuteTime": {
     "end_time": "2019-08-30T11:02:04.925029Z",
     "start_time": "2019-08-30T11:02:04.912092Z"
    }
   },
   "outputs": [],
   "source": [
    "data[\"yuan\"] = data[\"actual_payment\"] / 100\n",
    "data[\"yuan\"] = data[\"yuan\"].astype(\"int\")\n",
    "data = data.drop(columns=[\"actual_payment\"])"
   ]
  },
  {
   "cell_type": "code",
   "execution_count": 19,
   "metadata": {},
   "outputs": [],
   "source": [
    "data[\"user_id\"] = data[\"user_id\"].astype(\"str\")"
   ]
  },
  {
   "cell_type": "code",
   "execution_count": 20,
   "metadata": {},
   "outputs": [],
   "source": [
    "data[\"age\"] = data[\"age\"][:-2].astype(\"int\")"
   ]
  },
  {
   "cell_type": "code",
   "execution_count": 21,
   "metadata": {},
   "outputs": [],
   "source": [
    "data[\"credit_point_start_date\"] = pd.to_datetime(data[\"credit_point_start_date\"])"
   ]
  },
  {
   "cell_type": "code",
   "execution_count": 22,
   "metadata": {
    "ExecuteTime": {
     "end_time": "2019-08-30T11:02:07.720691Z",
     "start_time": "2019-08-30T11:02:07.708698Z"
    }
   },
   "outputs": [
    {
     "data": {
      "text/html": [
       "<div>\n",
       "<style scoped>\n",
       "    .dataframe tbody tr th:only-of-type {\n",
       "        vertical-align: middle;\n",
       "    }\n",
       "\n",
       "    .dataframe tbody tr th {\n",
       "        vertical-align: top;\n",
       "    }\n",
       "\n",
       "    .dataframe thead th {\n",
       "        text-align: right;\n",
       "    }\n",
       "</style>\n",
       "<table border=\"1\" class=\"dataframe\">\n",
       "  <thead>\n",
       "    <tr style=\"text-align: right;\">\n",
       "      <th></th>\n",
       "      <th>user_id</th>\n",
       "      <th>credit_point_start_date</th>\n",
       "      <th>province</th>\n",
       "      <th>age</th>\n",
       "      <th>gender</th>\n",
       "      <th>yuan</th>\n",
       "    </tr>\n",
       "  </thead>\n",
       "  <tbody>\n",
       "    <tr>\n",
       "      <th>0</th>\n",
       "      <td>10441254.0</td>\n",
       "      <td>1970-01-01 05:36:30.101</td>\n",
       "      <td>内蒙古</td>\n",
       "      <td>29.0</td>\n",
       "      <td>F</td>\n",
       "      <td>33</td>\n",
       "    </tr>\n",
       "    <tr>\n",
       "      <th>1</th>\n",
       "      <td>10359865.0</td>\n",
       "      <td>1970-01-01 05:36:30.101</td>\n",
       "      <td>吉林</td>\n",
       "      <td>35.0</td>\n",
       "      <td>M</td>\n",
       "      <td>6</td>\n",
       "    </tr>\n",
       "    <tr>\n",
       "      <th>2</th>\n",
       "      <td>2587183.0</td>\n",
       "      <td>1970-01-01 05:36:30.101</td>\n",
       "      <td>江西</td>\n",
       "      <td>25.0</td>\n",
       "      <td>M</td>\n",
       "      <td>126</td>\n",
       "    </tr>\n",
       "    <tr>\n",
       "      <th>3</th>\n",
       "      <td>2462190.0</td>\n",
       "      <td>1970-01-01 05:36:30.101</td>\n",
       "      <td>辽宁</td>\n",
       "      <td>26.0</td>\n",
       "      <td>M</td>\n",
       "      <td>26</td>\n",
       "    </tr>\n",
       "    <tr>\n",
       "      <th>4</th>\n",
       "      <td>10000679.0</td>\n",
       "      <td>1970-01-01 05:36:30.101</td>\n",
       "      <td>河北</td>\n",
       "      <td>26.0</td>\n",
       "      <td>F</td>\n",
       "      <td>74</td>\n",
       "    </tr>\n",
       "  </tbody>\n",
       "</table>\n",
       "</div>"
      ],
      "text/plain": [
       "      user_id credit_point_start_date province   age gender  yuan\n",
       "0  10441254.0 1970-01-01 05:36:30.101      内蒙古  29.0      F    33\n",
       "1  10359865.0 1970-01-01 05:36:30.101       吉林  35.0      M     6\n",
       "2   2587183.0 1970-01-01 05:36:30.101       江西  25.0      M   126\n",
       "3   2462190.0 1970-01-01 05:36:30.101       辽宁  26.0      M    26\n",
       "4  10000679.0 1970-01-01 05:36:30.101       河北  26.0      F    74"
      ]
     },
     "execution_count": 22,
     "metadata": {},
     "output_type": "execute_result"
    }
   ],
   "source": [
    "data.head()"
   ]
  },
  {
   "cell_type": "code",
   "execution_count": 23,
   "metadata": {
    "ExecuteTime": {
     "end_time": "2019-08-30T11:02:10.579984Z",
     "start_time": "2019-08-30T11:02:10.519147Z"
    }
   },
   "outputs": [
    {
     "data": {
      "text/html": [
       "<div>\n",
       "<style scoped>\n",
       "    .dataframe tbody tr th:only-of-type {\n",
       "        vertical-align: middle;\n",
       "    }\n",
       "\n",
       "    .dataframe tbody tr th {\n",
       "        vertical-align: top;\n",
       "    }\n",
       "\n",
       "    .dataframe thead th {\n",
       "        text-align: right;\n",
       "    }\n",
       "</style>\n",
       "<table border=\"1\" class=\"dataframe\">\n",
       "  <thead>\n",
       "    <tr style=\"text-align: right;\">\n",
       "      <th></th>\n",
       "      <th>age</th>\n",
       "      <th>yuan</th>\n",
       "    </tr>\n",
       "  </thead>\n",
       "  <tbody>\n",
       "    <tr>\n",
       "      <th>count</th>\n",
       "      <td>119998.000000</td>\n",
       "      <td>120000.000000</td>\n",
       "    </tr>\n",
       "    <tr>\n",
       "      <th>mean</th>\n",
       "      <td>30.339156</td>\n",
       "      <td>55.908250</td>\n",
       "    </tr>\n",
       "    <tr>\n",
       "      <th>std</th>\n",
       "      <td>9.224585</td>\n",
       "      <td>62.352574</td>\n",
       "    </tr>\n",
       "    <tr>\n",
       "      <th>min</th>\n",
       "      <td>10.000000</td>\n",
       "      <td>0.000000</td>\n",
       "    </tr>\n",
       "    <tr>\n",
       "      <th>25%</th>\n",
       "      <td>24.000000</td>\n",
       "      <td>10.000000</td>\n",
       "    </tr>\n",
       "    <tr>\n",
       "      <th>50%</th>\n",
       "      <td>28.000000</td>\n",
       "      <td>26.000000</td>\n",
       "    </tr>\n",
       "    <tr>\n",
       "      <th>75%</th>\n",
       "      <td>35.000000</td>\n",
       "      <td>84.000000</td>\n",
       "    </tr>\n",
       "    <tr>\n",
       "      <th>max</th>\n",
       "      <td>91.000000</td>\n",
       "      <td>821.000000</td>\n",
       "    </tr>\n",
       "  </tbody>\n",
       "</table>\n",
       "</div>"
      ],
      "text/plain": [
       "                 age           yuan\n",
       "count  119998.000000  120000.000000\n",
       "mean       30.339156      55.908250\n",
       "std         9.224585      62.352574\n",
       "min        10.000000       0.000000\n",
       "25%        24.000000      10.000000\n",
       "50%        28.000000      26.000000\n",
       "75%        35.000000      84.000000\n",
       "max        91.000000     821.000000"
      ]
     },
     "execution_count": 23,
     "metadata": {},
     "output_type": "execute_result"
    }
   ],
   "source": [
    "data.describe()"
   ]
  },
  {
   "cell_type": "code",
   "execution_count": 24,
   "metadata": {},
   "outputs": [
    {
     "name": "stdout",
     "output_type": "stream",
     "text": [
      "<class 'pandas.core.frame.DataFrame'>\n",
      "RangeIndex: 120000 entries, 0 to 119999\n",
      "Data columns (total 6 columns):\n",
      "user_id                    120000 non-null object\n",
      "credit_point_start_date    120000 non-null datetime64[ns]\n",
      "province                   120000 non-null object\n",
      "age                        119998 non-null float64\n",
      "gender                     120000 non-null object\n",
      "yuan                       120000 non-null int32\n",
      "dtypes: datetime64[ns](1), float64(1), int32(1), object(3)\n",
      "memory usage: 5.0+ MB\n"
     ]
    }
   ],
   "source": [
    "data.info()"
   ]
  },
  {
   "cell_type": "code",
   "execution_count": 25,
   "metadata": {
    "ExecuteTime": {
     "end_time": "2019-08-30T11:07:01.820753Z",
     "start_time": "2019-08-30T11:02:16.144731Z"
    }
   },
   "outputs": [],
   "source": [
    "# profile = data.profile_report(title = \"二维码用户分析抽样1\")"
   ]
  },
  {
   "cell_type": "code",
   "execution_count": 26,
   "metadata": {
    "ExecuteTime": {
     "end_time": "2019-08-30T11:07:02.138094Z",
     "start_time": "2019-08-30T11:07:01.823716Z"
    }
   },
   "outputs": [],
   "source": [
    "# profile.to_file(output_file=\"D:/work/datasets/info/二维码用户分析抽样120000.html\")"
   ]
  },
  {
   "cell_type": "markdown",
   "metadata": {},
   "source": [
    "## EDA"
   ]
  },
  {
   "cell_type": "code",
   "execution_count": 27,
   "metadata": {},
   "outputs": [
    {
     "data": {
      "image/png": "[encoded data removed]",
      "text/plain": [
       "<Figure size 432x288 with 1 Axes>"
      ]
     },
     "metadata": {
      "needs_background": "light"
     },
     "output_type": "display_data"
    }
   ],
   "source": [
    "# 性别分布\n",
    "sns.countplot(x='gender', data=data);\n",
    "plt.title('性别分布');"
   ]
  },
  {
   "cell_type": "code",
   "execution_count": 28,
   "metadata": {},
   "outputs": [
    {
     "data": {
      "image/png": "[encoded data removed]",
      "text/plain": [
       "<Figure size 432x288 with 1 Axes>"
      ]
     },
     "metadata": {
      "needs_background": "light"
     },
     "output_type": "display_data"
    }
   ],
   "source": [
    "# 地域分布\n",
    "sns.countplot(x='province', data=data);\n",
    "plt.title('地域分布');"
   ]
  },
  {
   "cell_type": "code",
   "execution_count": 29,
   "metadata": {},
   "outputs": [
    {
     "data": {
      "image/png": "[encoded data removed]",
      "text/plain": [
       "<Figure size 432x288 with 1 Axes>"
      ]
     },
     "metadata": {
      "needs_background": "light"
     },
     "output_type": "display_data"
    }
   ],
   "source": [
    "# Histogram of ages\n",
    "data.hist('age', bins=50);\n",
    "plt.title('年龄分布');\n",
    "plt.xlabel('age');"
   ]
  },
  {
   "cell_type": "code",
   "execution_count": 31,
   "metadata": {},
   "outputs": [
    {
     "data": {
      "image/png": "[encoded data removed]",
      "text/plain": [
       "<Figure size 432x288 with 1 Axes>"
      ]
     },
     "metadata": {
      "needs_background": "light"
     },
     "output_type": "display_data"
    }
   ],
   "source": [
    "plt.hist('age', data=data[data['gender'] == 'M'], alpha=0.5, label='Male');\n",
    "plt.hist('age', data=data[data['gender'] == 'F'], alpha=0.7, label='Female');\n",
    "plt.title('年龄性别占比');\n",
    "plt.xlabel('age');\n",
    "plt.legend();"
   ]
  },
  {
   "cell_type": "code",
   "execution_count": 33,
   "metadata": {},
   "outputs": [
    {
     "data": {
      "image/png": "[encoded data removed]",
      "text/plain": [
       "<Figure size 432x288 with 1 Axes>"
      ]
     },
     "metadata": {
      "needs_background": "light"
     },
     "output_type": "display_data"
    }
   ],
   "source": [
    "# 消费分布\n",
    "data.hist('yuan');\n",
    "plt.title('yuan');\n",
    "plt.xlabel('Thousands of Dollars');"
   ]
  }
 ],
 "metadata": {
  "kernelspec": {
   "display_name": "Python 3",
   "language": "python",
   "name": "python3"
  },
  "language_info": {
   "codemirror_mode": {
    "name": "ipython",
    "version": 3
   },
   "file_extension": ".py",
   "mimetype": "text/x-python",
   "name": "python",
   "nbconvert_exporter": "python",
   "pygments_lexer": "ipython3",
   "version": "3.7.1"
  }
 },
 "nbformat": 4,
 "nbformat_minor": 2
}
