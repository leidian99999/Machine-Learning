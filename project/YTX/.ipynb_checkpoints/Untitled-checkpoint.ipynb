{
 "cells": [
  {
   "cell_type": "code",
   "execution_count": 1,
   "metadata": {
    "ExecuteTime": {
     "end_time": "2019-08-30T08:20:50.463718Z",
     "start_time": "2019-08-30T08:20:43.164896Z"
    }
   },
   "outputs": [],
   "source": [
    "import pandas as pd\n",
    "import seaborn as sns\n",
    "import matplotlib.pyplot as plt"
   ]
  },
  {
   "cell_type": "code",
   "execution_count": 2,
   "metadata": {
    "ExecuteTime": {
     "end_time": "2019-08-30T08:20:50.481671Z",
     "start_time": "2019-08-30T08:20:50.470697Z"
    }
   },
   "outputs": [],
   "source": [
    "import warnings\n",
    "warnings.filterwarnings('ignore')\n",
    "pd.set_option('max_colwidth',1000)\n",
    "from matplotlib.font_manager import FontProperties\n",
    "chinese = FontProperties(fname = 'C:/Windows/Fonts/msyh.ttc')\n",
    "plt.rcParams['font.sans-serif'] = [u'SimHei']\n",
    "plt.rcParams['axes.unicode_minus'] = False"
   ]
  },
  {
   "cell_type": "code",
   "execution_count": 3,
   "metadata": {
    "ExecuteTime": {
     "end_time": "2019-08-30T08:20:50.587393Z",
     "start_time": "2019-08-30T08:20:50.487650Z"
    }
   },
   "outputs": [],
   "source": [
    "def PhoneSheng(data):\n",
    "    data['phoneregion'] = data['phoneregion'].fillna(\"空\")\n",
    "    data[\"PhoneSheng\"] = data['phoneregion'].apply(lambda x:x[:2])\n",
    "    return data"
   ]
  },
  {
   "cell_type": "code",
   "execution_count": 4,
   "metadata": {
    "ExecuteTime": {
     "end_time": "2019-08-30T08:21:14.425428Z",
     "start_time": "2019-08-30T08:20:50.601349Z"
    }
   },
   "outputs": [],
   "source": [
    "customers01 = pd.read_csv('D:/work/datasets/info/qrcode201901SUM.csv')\n",
    "data1 = PhoneSheng(customers01)"
   ]
  },
  {
   "cell_type": "code",
   "execution_count": 5,
   "metadata": {
    "ExecuteTime": {
     "end_time": "2019-08-30T08:21:30.629295Z",
     "start_time": "2019-08-30T08:21:14.429388Z"
    }
   },
   "outputs": [],
   "source": [
    "customers02 = pd.read_csv('D:/work/datasets/info/qrcode201902SUM.csv')\n",
    "data2 = PhoneSheng(customers02)"
   ]
  },
  {
   "cell_type": "code",
   "execution_count": 6,
   "metadata": {
    "ExecuteTime": {
     "end_time": "2019-08-30T08:21:42.222379Z",
     "start_time": "2019-08-30T08:21:30.634273Z"
    }
   },
   "outputs": [],
   "source": [
    "customers03 = pd.read_csv('D:/work/datasets/info/qrcode201903SUM.csv')\n",
    "data3 = PhoneSheng(customers03)"
   ]
  },
  {
   "cell_type": "code",
   "execution_count": 7,
   "metadata": {
    "ExecuteTime": {
     "end_time": "2019-08-30T08:21:56.712889Z",
     "start_time": "2019-08-30T08:21:42.225371Z"
    }
   },
   "outputs": [],
   "source": [
    "customers04 = pd.read_csv('D:/work/datasets/info/qrcode201904SUM.csv')\n",
    "data4 = PhoneSheng(customers04)"
   ]
  },
  {
   "cell_type": "code",
   "execution_count": 8,
   "metadata": {
    "ExecuteTime": {
     "end_time": "2019-08-30T08:22:17.089743Z",
     "start_time": "2019-08-30T08:21:56.717877Z"
    }
   },
   "outputs": [],
   "source": [
    "customers05 = pd.read_csv('D:/work/datasets/info/qrcode201905SUM.csv')\n",
    "data5 = PhoneSheng(customers05)"
   ]
  },
  {
   "cell_type": "code",
   "execution_count": 9,
   "metadata": {
    "ExecuteTime": {
     "end_time": "2019-08-30T08:22:52.869121Z",
     "start_time": "2019-08-30T08:22:17.094731Z"
    }
   },
   "outputs": [],
   "source": [
    "customers06 = pd.read_csv('D:/work/datasets/info/qrcode201906SUM.csv')\n",
    "data6 = PhoneSheng(customers06)"
   ]
  },
  {
   "cell_type": "code",
   "execution_count": 10,
   "metadata": {
    "ExecuteTime": {
     "end_time": "2019-08-30T08:22:52.891061Z",
     "start_time": "2019-08-30T08:22:52.873107Z"
    }
   },
   "outputs": [
    {
     "name": "stdout",
     "output_type": "stream",
     "text": [
      "data1:(3488703, 14)\n",
      "data2:(3309696, 14)\n",
      "data3:(3774432, 14)\n",
      "data4:(4059881, 14)\n",
      "data5:(4271167, 14)\n",
      "data6:(4299151, 14)\n"
     ]
    }
   ],
   "source": [
    "print(\"data1:\" + str(data1.shape))\n",
    "print(\"data2:\" + str(data2.shape))\n",
    "print(\"data3:\" + str(data3.shape))\n",
    "print(\"data4:\" + str(data4.shape))\n",
    "print(\"data5:\" + str(data5.shape))\n",
    "print(\"data6:\" + str(data6.shape))"
   ]
  },
  {
   "cell_type": "code",
   "execution_count": 11,
   "metadata": {
    "ExecuteTime": {
     "end_time": "2019-08-30T08:22:53.046681Z",
     "start_time": "2019-08-30T08:22:52.895086Z"
    }
   },
   "outputs": [
    {
     "name": "stdout",
     "output_type": "stream",
     "text": [
      "样本数：23203030\n"
     ]
    }
   ],
   "source": [
    "print(\"样本数：\" + str(data1.shape[0] \n",
    "                   + data2.shape[0] + data3.shape[0] + data4.shape[0]\n",
    "                   + data5.shape[0] + data6.shape[0]))"
   ]
  },
  {
   "cell_type": "code",
   "execution_count": 12,
   "metadata": {
    "ExecuteTime": {
     "end_time": "2019-08-30T08:23:31.748939Z",
     "start_time": "2019-08-30T08:22:53.050666Z"
    }
   },
   "outputs": [
    {
     "data": {
      "text/plain": [
       "(23203030, 14)"
      ]
     },
     "execution_count": 12,
     "metadata": {},
     "output_type": "execute_result"
    }
   ],
   "source": [
    "data = pd.concat([data1,data2,data3,data4,data5,data6])\n",
    "data.shape"
   ]
  },
  {
   "cell_type": "code",
   "execution_count": 13,
   "metadata": {
    "ExecuteTime": {
     "end_time": "2019-08-30T08:23:33.230575Z",
     "start_time": "2019-08-30T08:23:32.056239Z"
    },
    "scrolled": true
   },
   "outputs": [
    {
     "data": {
      "text/plain": [
       "Index(['card_num', 'credit_point_start_date', 'credit_point', 'trans_count',\n",
       "       'actual_payment', 'user_id', 'province', 'city', 'gender', 'age',\n",
       "       'phonebrand', 'phonecarrier', 'phoneregion', 'PhoneSheng'],\n",
       "      dtype='object')"
      ]
     },
     "execution_count": 13,
     "metadata": {},
     "output_type": "execute_result"
    }
   ],
   "source": [
    "data.columns"
   ]
  },
  {
   "cell_type": "code",
   "execution_count": 14,
   "metadata": {
    "ExecuteTime": {
     "end_time": "2019-08-30T08:23:35.593865Z",
     "start_time": "2019-08-30T08:23:33.280395Z"
    }
   },
   "outputs": [
    {
     "data": {
      "text/html": [
       "<div>\n",
       "<style scoped>\n",
       "    .dataframe tbody tr th:only-of-type {\n",
       "        vertical-align: middle;\n",
       "    }\n",
       "\n",
       "    .dataframe tbody tr th {\n",
       "        vertical-align: top;\n",
       "    }\n",
       "\n",
       "    .dataframe thead th {\n",
       "        text-align: right;\n",
       "    }\n",
       "</style>\n",
       "<table border=\"1\" class=\"dataframe\">\n",
       "  <thead>\n",
       "    <tr style=\"text-align: right;\">\n",
       "      <th></th>\n",
       "      <th>card_num</th>\n",
       "      <th>credit_point_start_date</th>\n",
       "      <th>credit_point</th>\n",
       "      <th>trans_count</th>\n",
       "      <th>actual_payment</th>\n",
       "      <th>user_id</th>\n",
       "      <th>province</th>\n",
       "      <th>city</th>\n",
       "      <th>gender</th>\n",
       "      <th>age</th>\n",
       "      <th>phonebrand</th>\n",
       "      <th>phonecarrier</th>\n",
       "      <th>phoneregion</th>\n",
       "      <th>PhoneSheng</th>\n",
       "    </tr>\n",
       "  </thead>\n",
       "  <tbody>\n",
       "    <tr>\n",
       "      <th>0</th>\n",
       "      <td>10100053205005100036</td>\n",
       "      <td>20190101000000</td>\n",
       "      <td>1000</td>\n",
       "      <td>2</td>\n",
       "      <td>1000</td>\n",
       "      <td>5932913.0</td>\n",
       "      <td>北京</td>\n",
       "      <td>北京市</td>\n",
       "      <td>M</td>\n",
       "      <td>29.0</td>\n",
       "      <td>Apple</td>\n",
       "      <td>NaN</td>\n",
       "      <td>空</td>\n",
       "      <td>空</td>\n",
       "    </tr>\n",
       "    <tr>\n",
       "      <th>1</th>\n",
       "      <td>10100053205002982393</td>\n",
       "      <td>20190101000000</td>\n",
       "      <td>600</td>\n",
       "      <td>1</td>\n",
       "      <td>600</td>\n",
       "      <td>4305508.0</td>\n",
       "      <td>湖北</td>\n",
       "      <td>孝感</td>\n",
       "      <td>M</td>\n",
       "      <td>32.0</td>\n",
       "      <td>samsung</td>\n",
       "      <td>NaN</td>\n",
       "      <td>空</td>\n",
       "      <td>空</td>\n",
       "    </tr>\n",
       "    <tr>\n",
       "      <th>2</th>\n",
       "      <td>10100053205008437906</td>\n",
       "      <td>20190101000000</td>\n",
       "      <td>1200</td>\n",
       "      <td>2</td>\n",
       "      <td>700</td>\n",
       "      <td>10458765.0</td>\n",
       "      <td>内蒙古</td>\n",
       "      <td>呼伦贝尔盟</td>\n",
       "      <td>M</td>\n",
       "      <td>23.0</td>\n",
       "      <td>OnePlus</td>\n",
       "      <td>NaN</td>\n",
       "      <td>空</td>\n",
       "      <td>空</td>\n",
       "    </tr>\n",
       "    <tr>\n",
       "      <th>3</th>\n",
       "      <td>10100053205007380274</td>\n",
       "      <td>20190101000000</td>\n",
       "      <td>400</td>\n",
       "      <td>1</td>\n",
       "      <td>400</td>\n",
       "      <td>8970324.0</td>\n",
       "      <td>北京</td>\n",
       "      <td>北京市</td>\n",
       "      <td>F</td>\n",
       "      <td>31.0</td>\n",
       "      <td>Xiaomi</td>\n",
       "      <td>NaN</td>\n",
       "      <td>空</td>\n",
       "      <td>空</td>\n",
       "    </tr>\n",
       "    <tr>\n",
       "      <th>4</th>\n",
       "      <td>10100053205007858959</td>\n",
       "      <td>20190101000000</td>\n",
       "      <td>1100</td>\n",
       "      <td>2</td>\n",
       "      <td>1100</td>\n",
       "      <td>9793726.0</td>\n",
       "      <td>山东</td>\n",
       "      <td>济宁</td>\n",
       "      <td>F</td>\n",
       "      <td>18.0</td>\n",
       "      <td>vivo</td>\n",
       "      <td>NaN</td>\n",
       "      <td>空</td>\n",
       "      <td>空</td>\n",
       "    </tr>\n",
       "  </tbody>\n",
       "</table>\n",
       "</div>"
      ],
      "text/plain": [
       "               card_num  credit_point_start_date  credit_point  trans_count  \\\n",
       "0  10100053205005100036           20190101000000          1000            2   \n",
       "1  10100053205002982393           20190101000000           600            1   \n",
       "2  10100053205008437906           20190101000000          1200            2   \n",
       "3  10100053205007380274           20190101000000           400            1   \n",
       "4  10100053205007858959           20190101000000          1100            2   \n",
       "\n",
       "   actual_payment     user_id province   city gender   age phonebrand  \\\n",
       "0            1000   5932913.0       北京    北京市      M  29.0      Apple   \n",
       "1             600   4305508.0       湖北     孝感      M  32.0    samsung   \n",
       "2             700  10458765.0      内蒙古  呼伦贝尔盟      M  23.0    OnePlus   \n",
       "3             400   8970324.0       北京    北京市      F  31.0     Xiaomi   \n",
       "4            1100   9793726.0       山东     济宁      F  18.0       vivo   \n",
       "\n",
       "  phonecarrier phoneregion PhoneSheng  \n",
       "0          NaN           空          空  \n",
       "1          NaN           空          空  \n",
       "2          NaN           空          空  \n",
       "3          NaN           空          空  \n",
       "4          NaN           空          空  "
      ]
     },
     "execution_count": 14,
     "metadata": {},
     "output_type": "execute_result"
    }
   ],
   "source": [
    "data.head()"
   ]
  },
  {
   "cell_type": "code",
   "execution_count": 15,
   "metadata": {
    "ExecuteTime": {
     "end_time": "2019-08-30T08:24:09.365698Z",
     "start_time": "2019-08-30T08:23:35.607824Z"
    }
   },
   "outputs": [],
   "source": [
    "df = data[[\"credit_point_start_date\",\"actual_payment\",\"user_id\",\"province\",\"age\",\"gender\"]]"
   ]
  }
 ],
 "metadata": {
  "kernelspec": {
   "display_name": "Python 3",
   "language": "python",
   "name": "python3"
  },
  "language_info": {
   "codemirror_mode": {
    "name": "ipython",
    "version": 3
   },
   "file_extension": ".py",
   "mimetype": "text/x-python",
   "name": "python",
   "nbconvert_exporter": "python",
   "pygments_lexer": "ipython3",
   "version": "3.6.5"
  }
 },
 "nbformat": 4,
 "nbformat_minor": 2
}
