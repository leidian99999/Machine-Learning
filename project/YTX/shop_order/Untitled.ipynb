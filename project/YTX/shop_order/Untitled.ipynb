{
 "cells": [
  {
   "cell_type": "code",
   "execution_count": 1,
   "metadata": {
    "ExecuteTime": {
     "end_time": "2019-08-28T06:37:15.505840Z",
     "start_time": "2019-08-28T06:37:11.414884Z"
    }
   },
   "outputs": [],
   "source": [
    "import pandas as pd\n",
    "import numpy as np\n",
    "import matplotlib.pyplot as plt\n",
    "from datetime import datetime\n",
    "%matplotlib inline\n",
    "plt.style.use('ggplot')\n",
    "from impala.dbapi import connect\n",
    "import warnings\n",
    "warnings.filterwarnings('ignore')\n",
    "pd.set_option('max_colwidth',1000)\n",
    "from matplotlib.font_manager import FontProperties\n",
    "chinese = FontProperties(fname = 'C:/Windows/Fonts/msyh.ttc')\n",
    "plt.rcParams['font.sans-serif'] = [u'SimHei']\n",
    "plt.rcParams['axes.unicode_minus'] = False"
   ]
  },
  {
   "cell_type": "code",
   "execution_count": 2,
   "metadata": {
    "ExecuteTime": {
     "end_time": "2019-08-28T06:37:16.037124Z",
     "start_time": "2019-08-28T06:37:15.508640Z"
    }
   },
   "outputs": [],
   "source": [
    "df = pd.read_csv(\"D:/GitHub/datasets/shop_order_190101_190731.csv\")"
   ]
  },
  {
   "cell_type": "code",
   "execution_count": 3,
   "metadata": {
    "ExecuteTime": {
     "end_time": "2019-08-28T06:37:34.208052Z",
     "start_time": "2019-08-28T06:37:16.040952Z"
    }
   },
   "outputs": [],
   "source": [
    "order_date_min = df.groupby('user_id').create_date.min()\n",
    "order_date_min = pd.to_datetime(order_date_min)\n",
    "order_date_max = df.groupby('user_id').create_date.max()\n",
    "order_date_max = pd.to_datetime(order_date_max)"
   ]
  },
  {
   "cell_type": "code",
   "execution_count": 4,
   "metadata": {
    "ExecuteTime": {
     "end_time": "2019-08-28T06:37:34.222022Z",
     "start_time": "2019-08-28T06:37:34.210046Z"
    },
    "scrolled": true
   },
   "outputs": [
    {
     "name": "stdout",
     "output_type": "stream",
     "text": [
      "user_id\n",
      "3    2019-02-23 13:17:00\n",
      "11   2019-04-18 17:57:00\n",
      "13   2019-04-29 02:36:00\n",
      "16   2019-04-06 21:35:00\n",
      "35   2019-05-29 10:41:00\n",
      "37   2019-04-29 02:06:00\n",
      "39   2019-04-29 09:38:00\n",
      "58   2019-03-07 09:56:00\n",
      "68   2019-03-20 07:53:00\n",
      "69   2019-07-24 20:51:00\n",
      "Name: create_date, dtype: datetime64[ns]\n",
      "user_id\n",
      "3    2019-02-23 13:17:00\n",
      "11   2019-04-18 17:57:00\n",
      "13   2019-04-29 02:36:00\n",
      "16   2019-04-04 22:21:00\n",
      "35   2019-05-29 10:41:00\n",
      "37   2019-01-13 23:51:00\n",
      "39   2019-01-25 21:02:00\n",
      "58   2019-03-07 09:56:00\n",
      "68   2019-02-13 13:05:00\n",
      "69   2019-07-24 20:51:00\n",
      "Name: create_date, dtype: datetime64[ns]\n"
     ]
    }
   ],
   "source": [
    "print(order_date_max[0:10])\n",
    "print(order_date_min[0:10])"
   ]
  },
  {
   "cell_type": "code",
   "execution_count": 5,
   "metadata": {
    "ExecuteTime": {
     "end_time": "2019-08-28T06:37:35.059964Z",
     "start_time": "2019-08-28T06:37:34.226016Z"
    }
   },
   "outputs": [],
   "source": [
    "life_time = (order_date_max-order_date_min).reset_index()"
   ]
  },
  {
   "cell_type": "code",
   "execution_count": 6,
   "metadata": {
    "ExecuteTime": {
     "end_time": "2019-08-28T06:37:35.243451Z",
     "start_time": "2019-08-28T06:37:35.062841Z"
    }
   },
   "outputs": [
    {
     "data": {
      "text/html": [
       "<div>\n",
       "<style scoped>\n",
       "    .dataframe tbody tr th:only-of-type {\n",
       "        vertical-align: middle;\n",
       "    }\n",
       "\n",
       "    .dataframe tbody tr th {\n",
       "        vertical-align: top;\n",
       "    }\n",
       "\n",
       "    .dataframe thead th {\n",
       "        text-align: right;\n",
       "    }\n",
       "</style>\n",
       "<table border=\"1\" class=\"dataframe\">\n",
       "  <thead>\n",
       "    <tr style=\"text-align: right;\">\n",
       "      <th></th>\n",
       "      <th>user_id</th>\n",
       "      <th>create_date</th>\n",
       "    </tr>\n",
       "  </thead>\n",
       "  <tbody>\n",
       "    <tr>\n",
       "      <th>36276</th>\n",
       "      <td>3050892</td>\n",
       "      <td>209 days 00:34:00</td>\n",
       "    </tr>\n",
       "    <tr>\n",
       "      <th>78660</th>\n",
       "      <td>9879824</td>\n",
       "      <td>206 days 11:22:00</td>\n",
       "    </tr>\n",
       "    <tr>\n",
       "      <th>25655</th>\n",
       "      <td>2248569</td>\n",
       "      <td>203 days 23:36:00</td>\n",
       "    </tr>\n",
       "    <tr>\n",
       "      <th>20335</th>\n",
       "      <td>1812971</td>\n",
       "      <td>203 days 01:32:00</td>\n",
       "    </tr>\n",
       "    <tr>\n",
       "      <th>24271</th>\n",
       "      <td>2128921</td>\n",
       "      <td>201 days 23:55:00</td>\n",
       "    </tr>\n",
       "    <tr>\n",
       "      <th>66998</th>\n",
       "      <td>8180521</td>\n",
       "      <td>201 days 15:39:00</td>\n",
       "    </tr>\n",
       "    <tr>\n",
       "      <th>21954</th>\n",
       "      <td>1971399</td>\n",
       "      <td>199 days 05:43:00</td>\n",
       "    </tr>\n",
       "    <tr>\n",
       "      <th>26730</th>\n",
       "      <td>2307806</td>\n",
       "      <td>197 days 23:45:00</td>\n",
       "    </tr>\n",
       "    <tr>\n",
       "      <th>59707</th>\n",
       "      <td>6455309</td>\n",
       "      <td>196 days 15:25:00</td>\n",
       "    </tr>\n",
       "    <tr>\n",
       "      <th>62713</th>\n",
       "      <td>7021911</td>\n",
       "      <td>196 days 00:38:00</td>\n",
       "    </tr>\n",
       "    <tr>\n",
       "      <th>82215</th>\n",
       "      <td>10392636</td>\n",
       "      <td>195 days 22:34:00</td>\n",
       "    </tr>\n",
       "    <tr>\n",
       "      <th>75341</th>\n",
       "      <td>9552459</td>\n",
       "      <td>195 days 02:41:00</td>\n",
       "    </tr>\n",
       "    <tr>\n",
       "      <th>2220</th>\n",
       "      <td>157207</td>\n",
       "      <td>194 days 17:26:00</td>\n",
       "    </tr>\n",
       "    <tr>\n",
       "      <th>79092</th>\n",
       "      <td>9951302</td>\n",
       "      <td>194 days 15:19:00</td>\n",
       "    </tr>\n",
       "    <tr>\n",
       "      <th>35561</th>\n",
       "      <td>2978513</td>\n",
       "      <td>191 days 19:42:00</td>\n",
       "    </tr>\n",
       "    <tr>\n",
       "      <th>55031</th>\n",
       "      <td>5439130</td>\n",
       "      <td>191 days 02:10:00</td>\n",
       "    </tr>\n",
       "    <tr>\n",
       "      <th>82795</th>\n",
       "      <td>10509194</td>\n",
       "      <td>190 days 14:46:00</td>\n",
       "    </tr>\n",
       "    <tr>\n",
       "      <th>72708</th>\n",
       "      <td>9279127</td>\n",
       "      <td>189 days 23:55:00</td>\n",
       "    </tr>\n",
       "    <tr>\n",
       "      <th>82909</th>\n",
       "      <td>10534878</td>\n",
       "      <td>189 days 23:29:00</td>\n",
       "    </tr>\n",
       "    <tr>\n",
       "      <th>69569</th>\n",
       "      <td>8651397</td>\n",
       "      <td>189 days 21:18:00</td>\n",
       "    </tr>\n",
       "    <tr>\n",
       "      <th>23720</th>\n",
       "      <td>2081148</td>\n",
       "      <td>189 days 20:04:00</td>\n",
       "    </tr>\n",
       "    <tr>\n",
       "      <th>75516</th>\n",
       "      <td>9563480</td>\n",
       "      <td>189 days 16:04:00</td>\n",
       "    </tr>\n",
       "    <tr>\n",
       "      <th>59207</th>\n",
       "      <td>6359385</td>\n",
       "      <td>189 days 14:02:00</td>\n",
       "    </tr>\n",
       "    <tr>\n",
       "      <th>45390</th>\n",
       "      <td>3994247</td>\n",
       "      <td>189 days 12:57:00</td>\n",
       "    </tr>\n",
       "    <tr>\n",
       "      <th>8653</th>\n",
       "      <td>820512</td>\n",
       "      <td>189 days 11:50:00</td>\n",
       "    </tr>\n",
       "    <tr>\n",
       "      <th>55686</th>\n",
       "      <td>5573765</td>\n",
       "      <td>189 days 07:26:00</td>\n",
       "    </tr>\n",
       "    <tr>\n",
       "      <th>53315</th>\n",
       "      <td>5160288</td>\n",
       "      <td>189 days 04:41:00</td>\n",
       "    </tr>\n",
       "    <tr>\n",
       "      <th>79801</th>\n",
       "      <td>10044236</td>\n",
       "      <td>189 days 00:09:00</td>\n",
       "    </tr>\n",
       "    <tr>\n",
       "      <th>31854</th>\n",
       "      <td>2651910</td>\n",
       "      <td>188 days 23:35:00</td>\n",
       "    </tr>\n",
       "    <tr>\n",
       "      <th>53448</th>\n",
       "      <td>5182983</td>\n",
       "      <td>188 days 21:54:00</td>\n",
       "    </tr>\n",
       "    <tr>\n",
       "      <th>...</th>\n",
       "      <td>...</td>\n",
       "      <td>...</td>\n",
       "    </tr>\n",
       "    <tr>\n",
       "      <th>15673</th>\n",
       "      <td>1378376</td>\n",
       "      <td>-24 days +09:11:00</td>\n",
       "    </tr>\n",
       "    <tr>\n",
       "      <th>12853</th>\n",
       "      <td>1152132</td>\n",
       "      <td>-24 days +05:20:00</td>\n",
       "    </tr>\n",
       "    <tr>\n",
       "      <th>18463</th>\n",
       "      <td>1619302</td>\n",
       "      <td>-24 days +04:27:00</td>\n",
       "    </tr>\n",
       "    <tr>\n",
       "      <th>38680</th>\n",
       "      <td>3283143</td>\n",
       "      <td>-24 days +04:14:00</td>\n",
       "    </tr>\n",
       "    <tr>\n",
       "      <th>69034</th>\n",
       "      <td>8534402</td>\n",
       "      <td>-24 days +00:02:00</td>\n",
       "    </tr>\n",
       "    <tr>\n",
       "      <th>3574</th>\n",
       "      <td>291117</td>\n",
       "      <td>-24 days +00:01:00</td>\n",
       "    </tr>\n",
       "    <tr>\n",
       "      <th>95048</th>\n",
       "      <td>12470058</td>\n",
       "      <td>-24 days +00:01:00</td>\n",
       "    </tr>\n",
       "    <tr>\n",
       "      <th>42890</th>\n",
       "      <td>3668817</td>\n",
       "      <td>-24 days +00:00:00</td>\n",
       "    </tr>\n",
       "    <tr>\n",
       "      <th>82707</th>\n",
       "      <td>10485880</td>\n",
       "      <td>-24 days +00:00:00</td>\n",
       "    </tr>\n",
       "    <tr>\n",
       "      <th>16618</th>\n",
       "      <td>1459774</td>\n",
       "      <td>-25 days +23:27:00</td>\n",
       "    </tr>\n",
       "    <tr>\n",
       "      <th>38097</th>\n",
       "      <td>3217505</td>\n",
       "      <td>-25 days +23:00:00</td>\n",
       "    </tr>\n",
       "    <tr>\n",
       "      <th>4955</th>\n",
       "      <td>509813</td>\n",
       "      <td>-25 days +22:12:00</td>\n",
       "    </tr>\n",
       "    <tr>\n",
       "      <th>14673</th>\n",
       "      <td>1301575</td>\n",
       "      <td>-25 days +20:49:00</td>\n",
       "    </tr>\n",
       "    <tr>\n",
       "      <th>47257</th>\n",
       "      <td>4222512</td>\n",
       "      <td>-25 days +12:13:00</td>\n",
       "    </tr>\n",
       "    <tr>\n",
       "      <th>66819</th>\n",
       "      <td>8109563</td>\n",
       "      <td>-25 days +07:58:00</td>\n",
       "    </tr>\n",
       "    <tr>\n",
       "      <th>28413</th>\n",
       "      <td>2399980</td>\n",
       "      <td>-25 days +05:12:00</td>\n",
       "    </tr>\n",
       "    <tr>\n",
       "      <th>38609</th>\n",
       "      <td>3278725</td>\n",
       "      <td>-25 days +00:14:00</td>\n",
       "    </tr>\n",
       "    <tr>\n",
       "      <th>92167</th>\n",
       "      <td>11980879</td>\n",
       "      <td>-25 days +00:00:00</td>\n",
       "    </tr>\n",
       "    <tr>\n",
       "      <th>91438</th>\n",
       "      <td>11844370</td>\n",
       "      <td>-25 days +00:00:00</td>\n",
       "    </tr>\n",
       "    <tr>\n",
       "      <th>97400</th>\n",
       "      <td>13247138</td>\n",
       "      <td>-26 days +19:57:00</td>\n",
       "    </tr>\n",
       "    <tr>\n",
       "      <th>17659</th>\n",
       "      <td>1563149</td>\n",
       "      <td>-26 days +18:39:00</td>\n",
       "    </tr>\n",
       "    <tr>\n",
       "      <th>55831</th>\n",
       "      <td>5589305</td>\n",
       "      <td>-26 days +13:41:00</td>\n",
       "    </tr>\n",
       "    <tr>\n",
       "      <th>72061</th>\n",
       "      <td>9197743</td>\n",
       "      <td>-26 days +09:14:00</td>\n",
       "    </tr>\n",
       "    <tr>\n",
       "      <th>9136</th>\n",
       "      <td>853998</td>\n",
       "      <td>-26 days +08:58:00</td>\n",
       "    </tr>\n",
       "    <tr>\n",
       "      <th>23622</th>\n",
       "      <td>2073366</td>\n",
       "      <td>-26 days +02:32:00</td>\n",
       "    </tr>\n",
       "    <tr>\n",
       "      <th>12597</th>\n",
       "      <td>1132826</td>\n",
       "      <td>-26 days +01:29:00</td>\n",
       "    </tr>\n",
       "    <tr>\n",
       "      <th>84803</th>\n",
       "      <td>10871397</td>\n",
       "      <td>-26 days +00:00:00</td>\n",
       "    </tr>\n",
       "    <tr>\n",
       "      <th>48412</th>\n",
       "      <td>4370861</td>\n",
       "      <td>-26 days +00:00:00</td>\n",
       "    </tr>\n",
       "    <tr>\n",
       "      <th>99576</th>\n",
       "      <td>15640726</td>\n",
       "      <td>-26 days +00:00:00</td>\n",
       "    </tr>\n",
       "    <tr>\n",
       "      <th>30332</th>\n",
       "      <td>2542414</td>\n",
       "      <td>-27 days +21:12:00</td>\n",
       "    </tr>\n",
       "  </tbody>\n",
       "</table>\n",
       "<p>100102 rows × 2 columns</p>\n",
       "</div>"
      ],
      "text/plain": [
       "        user_id        create_date\n",
       "36276   3050892  209 days 00:34:00\n",
       "78660   9879824  206 days 11:22:00\n",
       "25655   2248569  203 days 23:36:00\n",
       "20335   1812971  203 days 01:32:00\n",
       "24271   2128921  201 days 23:55:00\n",
       "66998   8180521  201 days 15:39:00\n",
       "21954   1971399  199 days 05:43:00\n",
       "26730   2307806  197 days 23:45:00\n",
       "59707   6455309  196 days 15:25:00\n",
       "62713   7021911  196 days 00:38:00\n",
       "82215  10392636  195 days 22:34:00\n",
       "75341   9552459  195 days 02:41:00\n",
       "2220     157207  194 days 17:26:00\n",
       "79092   9951302  194 days 15:19:00\n",
       "35561   2978513  191 days 19:42:00\n",
       "55031   5439130  191 days 02:10:00\n",
       "82795  10509194  190 days 14:46:00\n",
       "72708   9279127  189 days 23:55:00\n",
       "82909  10534878  189 days 23:29:00\n",
       "69569   8651397  189 days 21:18:00\n",
       "23720   2081148  189 days 20:04:00\n",
       "75516   9563480  189 days 16:04:00\n",
       "59207   6359385  189 days 14:02:00\n",
       "45390   3994247  189 days 12:57:00\n",
       "8653     820512  189 days 11:50:00\n",
       "55686   5573765  189 days 07:26:00\n",
       "53315   5160288  189 days 04:41:00\n",
       "79801  10044236  189 days 00:09:00\n",
       "31854   2651910  188 days 23:35:00\n",
       "53448   5182983  188 days 21:54:00\n",
       "...         ...                ...\n",
       "15673   1378376 -24 days +09:11:00\n",
       "12853   1152132 -24 days +05:20:00\n",
       "18463   1619302 -24 days +04:27:00\n",
       "38680   3283143 -24 days +04:14:00\n",
       "69034   8534402 -24 days +00:02:00\n",
       "3574     291117 -24 days +00:01:00\n",
       "95048  12470058 -24 days +00:01:00\n",
       "42890   3668817 -24 days +00:00:00\n",
       "82707  10485880 -24 days +00:00:00\n",
       "16618   1459774 -25 days +23:27:00\n",
       "38097   3217505 -25 days +23:00:00\n",
       "4955     509813 -25 days +22:12:00\n",
       "14673   1301575 -25 days +20:49:00\n",
       "47257   4222512 -25 days +12:13:00\n",
       "66819   8109563 -25 days +07:58:00\n",
       "28413   2399980 -25 days +05:12:00\n",
       "38609   3278725 -25 days +00:14:00\n",
       "92167  11980879 -25 days +00:00:00\n",
       "91438  11844370 -25 days +00:00:00\n",
       "97400  13247138 -26 days +19:57:00\n",
       "17659   1563149 -26 days +18:39:00\n",
       "55831   5589305 -26 days +13:41:00\n",
       "72061   9197743 -26 days +09:14:00\n",
       "9136     853998 -26 days +08:58:00\n",
       "23622   2073366 -26 days +02:32:00\n",
       "12597   1132826 -26 days +01:29:00\n",
       "84803  10871397 -26 days +00:00:00\n",
       "48412   4370861 -26 days +00:00:00\n",
       "99576  15640726 -26 days +00:00:00\n",
       "30332   2542414 -27 days +21:12:00\n",
       "\n",
       "[100102 rows x 2 columns]"
      ]
     },
     "execution_count": 6,
     "metadata": {},
     "output_type": "execute_result"
    }
   ],
   "source": [
    "life_time.sort_values(by=\"create_date\",ascending=False)"
   ]
  },
  {
   "cell_type": "code",
   "execution_count": 7,
   "metadata": {
    "ExecuteTime": {
     "end_time": "2019-08-28T06:37:35.634408Z",
     "start_time": "2019-08-28T06:37:35.246411Z"
    }
   },
   "outputs": [],
   "source": [
    "liucun = pd.merge(left = df, \n",
    "                  right = order_date_min.reset_index(), \n",
    "                  how = 'inner', \n",
    "                  on = 'user_id', \n",
    "                  suffixes=('', '_min'))\n"
   ]
  },
  {
   "cell_type": "code",
   "execution_count": 8,
   "metadata": {
    "ExecuteTime": {
     "end_time": "2019-08-28T06:37:35.652268Z",
     "start_time": "2019-08-28T06:37:35.638308Z"
    }
   },
   "outputs": [
    {
     "data": {
      "text/html": [
       "<div>\n",
       "<style scoped>\n",
       "    .dataframe tbody tr th:only-of-type {\n",
       "        vertical-align: middle;\n",
       "    }\n",
       "\n",
       "    .dataframe tbody tr th {\n",
       "        vertical-align: top;\n",
       "    }\n",
       "\n",
       "    .dataframe thead th {\n",
       "        text-align: right;\n",
       "    }\n",
       "</style>\n",
       "<table border=\"1\" class=\"dataframe\">\n",
       "  <thead>\n",
       "    <tr style=\"text-align: right;\">\n",
       "      <th></th>\n",
       "      <th>user_id</th>\n",
       "      <th>create_date</th>\n",
       "      <th>payable_rmb_amount</th>\n",
       "      <th>buy_num</th>\n",
       "      <th>date</th>\n",
       "      <th>month</th>\n",
       "      <th>create_date_min</th>\n",
       "    </tr>\n",
       "  </thead>\n",
       "  <tbody>\n",
       "    <tr>\n",
       "      <th>0</th>\n",
       "      <td>3059210</td>\n",
       "      <td>2019/1/1 7:32</td>\n",
       "      <td>7.0</td>\n",
       "      <td>1</td>\n",
       "      <td>2019/1/1</td>\n",
       "      <td>2019/1/1</td>\n",
       "      <td>2019-01-01 07:32:00</td>\n",
       "    </tr>\n",
       "    <tr>\n",
       "      <th>1</th>\n",
       "      <td>3059210</td>\n",
       "      <td>2019/2/11 20:54</td>\n",
       "      <td>7.0</td>\n",
       "      <td>1</td>\n",
       "      <td>2019/2/11</td>\n",
       "      <td>2019/2/1</td>\n",
       "      <td>2019-01-01 07:32:00</td>\n",
       "    </tr>\n",
       "    <tr>\n",
       "      <th>2</th>\n",
       "      <td>2055349</td>\n",
       "      <td>2019/1/1 7:38</td>\n",
       "      <td>7.0</td>\n",
       "      <td>1</td>\n",
       "      <td>2019/1/1</td>\n",
       "      <td>2019/1/1</td>\n",
       "      <td>2019-01-01 07:38:00</td>\n",
       "    </tr>\n",
       "    <tr>\n",
       "      <th>3</th>\n",
       "      <td>9457140</td>\n",
       "      <td>2019/1/1 8:46</td>\n",
       "      <td>7.0</td>\n",
       "      <td>1</td>\n",
       "      <td>2019/1/1</td>\n",
       "      <td>2019/1/1</td>\n",
       "      <td>2019-01-01 08:46:00</td>\n",
       "    </tr>\n",
       "    <tr>\n",
       "      <th>4</th>\n",
       "      <td>9457140</td>\n",
       "      <td>2019/1/24 10:44</td>\n",
       "      <td>0.1</td>\n",
       "      <td>1</td>\n",
       "      <td>2019/1/24</td>\n",
       "      <td>2019/1/1</td>\n",
       "      <td>2019-01-01 08:46:00</td>\n",
       "    </tr>\n",
       "  </tbody>\n",
       "</table>\n",
       "</div>"
      ],
      "text/plain": [
       "   user_id      create_date  payable_rmb_amount  buy_num       date     month  \\\n",
       "0  3059210    2019/1/1 7:32                 7.0        1   2019/1/1  2019/1/1   \n",
       "1  3059210  2019/2/11 20:54                 7.0        1  2019/2/11  2019/2/1   \n",
       "2  2055349    2019/1/1 7:38                 7.0        1   2019/1/1  2019/1/1   \n",
       "3  9457140    2019/1/1 8:46                 7.0        1   2019/1/1  2019/1/1   \n",
       "4  9457140  2019/1/24 10:44                 0.1        1  2019/1/24  2019/1/1   \n",
       "\n",
       "      create_date_min  \n",
       "0 2019-01-01 07:32:00  \n",
       "1 2019-01-01 07:32:00  \n",
       "2 2019-01-01 07:38:00  \n",
       "3 2019-01-01 08:46:00  \n",
       "4 2019-01-01 08:46:00  "
      ]
     },
     "execution_count": 8,
     "metadata": {},
     "output_type": "execute_result"
    }
   ],
   "source": [
    "liucun.head()"
   ]
  },
  {
   "cell_type": "code",
   "execution_count": 9,
   "metadata": {
    "ExecuteTime": {
     "end_time": "2019-08-28T06:37:35.869591Z",
     "start_time": "2019-08-28T06:37:35.656259Z"
    }
   },
   "outputs": [
    {
     "name": "stdout",
     "output_type": "stream",
     "text": [
      "<class 'pandas.core.frame.DataFrame'>\n",
      "Int64Index: 213843 entries, 0 to 213842\n",
      "Data columns (total 7 columns):\n",
      "user_id               213843 non-null int64\n",
      "create_date           213843 non-null datetime64[ns]\n",
      "payable_rmb_amount    213843 non-null float64\n",
      "buy_num               213843 non-null int64\n",
      "date                  213843 non-null object\n",
      "month                 213843 non-null object\n",
      "create_date_min       213843 non-null datetime64[ns]\n",
      "dtypes: datetime64[ns](2), float64(1), int64(2), object(2)\n",
      "memory usage: 13.1+ MB\n"
     ]
    }
   ],
   "source": [
    "liucun[\"create_date\"] = pd.to_datetime(liucun[\"create_date\"])\n",
    "liucun.info()"
   ]
  },
  {
   "cell_type": "code",
   "execution_count": 10,
   "metadata": {
    "ExecuteTime": {
     "end_time": "2019-08-28T06:37:38.698123Z",
     "start_time": "2019-08-28T06:37:35.872591Z"
    }
   },
   "outputs": [],
   "source": [
    "liucun[\"order_date_diff\"] = liucun.create_date - liucun.create_date_min\n",
    "liucun['date_diff'] = liucun.order_date_diff.apply(lambda x: x/np.timedelta64(1,'D'))\n"
   ]
  },
  {
   "cell_type": "code",
   "execution_count": 11,
   "metadata": {
    "ExecuteTime": {
     "end_time": "2019-08-28T06:37:38.724997Z",
     "start_time": "2019-08-28T06:37:38.703052Z"
    },
    "scrolled": true
   },
   "outputs": [
    {
     "data": {
      "text/html": [
       "<div>\n",
       "<style scoped>\n",
       "    .dataframe tbody tr th:only-of-type {\n",
       "        vertical-align: middle;\n",
       "    }\n",
       "\n",
       "    .dataframe tbody tr th {\n",
       "        vertical-align: top;\n",
       "    }\n",
       "\n",
       "    .dataframe thead th {\n",
       "        text-align: right;\n",
       "    }\n",
       "</style>\n",
       "<table border=\"1\" class=\"dataframe\">\n",
       "  <thead>\n",
       "    <tr style=\"text-align: right;\">\n",
       "      <th></th>\n",
       "      <th>user_id</th>\n",
       "      <th>create_date</th>\n",
       "      <th>payable_rmb_amount</th>\n",
       "      <th>buy_num</th>\n",
       "      <th>date</th>\n",
       "      <th>month</th>\n",
       "      <th>create_date_min</th>\n",
       "      <th>order_date_diff</th>\n",
       "      <th>date_diff</th>\n",
       "    </tr>\n",
       "  </thead>\n",
       "  <tbody>\n",
       "    <tr>\n",
       "      <th>0</th>\n",
       "      <td>3059210</td>\n",
       "      <td>2019-01-01 07:32:00</td>\n",
       "      <td>7.0</td>\n",
       "      <td>1</td>\n",
       "      <td>2019/1/1</td>\n",
       "      <td>2019/1/1</td>\n",
       "      <td>2019-01-01 07:32:00</td>\n",
       "      <td>0 days 00:00:00</td>\n",
       "      <td>0.000000</td>\n",
       "    </tr>\n",
       "    <tr>\n",
       "      <th>1</th>\n",
       "      <td>3059210</td>\n",
       "      <td>2019-02-11 20:54:00</td>\n",
       "      <td>7.0</td>\n",
       "      <td>1</td>\n",
       "      <td>2019/2/11</td>\n",
       "      <td>2019/2/1</td>\n",
       "      <td>2019-01-01 07:32:00</td>\n",
       "      <td>41 days 13:22:00</td>\n",
       "      <td>41.556944</td>\n",
       "    </tr>\n",
       "    <tr>\n",
       "      <th>2</th>\n",
       "      <td>2055349</td>\n",
       "      <td>2019-01-01 07:38:00</td>\n",
       "      <td>7.0</td>\n",
       "      <td>1</td>\n",
       "      <td>2019/1/1</td>\n",
       "      <td>2019/1/1</td>\n",
       "      <td>2019-01-01 07:38:00</td>\n",
       "      <td>0 days 00:00:00</td>\n",
       "      <td>0.000000</td>\n",
       "    </tr>\n",
       "    <tr>\n",
       "      <th>3</th>\n",
       "      <td>9457140</td>\n",
       "      <td>2019-01-01 08:46:00</td>\n",
       "      <td>7.0</td>\n",
       "      <td>1</td>\n",
       "      <td>2019/1/1</td>\n",
       "      <td>2019/1/1</td>\n",
       "      <td>2019-01-01 08:46:00</td>\n",
       "      <td>0 days 00:00:00</td>\n",
       "      <td>0.000000</td>\n",
       "    </tr>\n",
       "    <tr>\n",
       "      <th>4</th>\n",
       "      <td>9457140</td>\n",
       "      <td>2019-01-24 10:44:00</td>\n",
       "      <td>0.1</td>\n",
       "      <td>1</td>\n",
       "      <td>2019/1/24</td>\n",
       "      <td>2019/1/1</td>\n",
       "      <td>2019-01-01 08:46:00</td>\n",
       "      <td>23 days 01:58:00</td>\n",
       "      <td>23.081944</td>\n",
       "    </tr>\n",
       "  </tbody>\n",
       "</table>\n",
       "</div>"
      ],
      "text/plain": [
       "   user_id         create_date  payable_rmb_amount  buy_num       date  \\\n",
       "0  3059210 2019-01-01 07:32:00                 7.0        1   2019/1/1   \n",
       "1  3059210 2019-02-11 20:54:00                 7.0        1  2019/2/11   \n",
       "2  2055349 2019-01-01 07:38:00                 7.0        1   2019/1/1   \n",
       "3  9457140 2019-01-01 08:46:00                 7.0        1   2019/1/1   \n",
       "4  9457140 2019-01-24 10:44:00                 0.1        1  2019/1/24   \n",
       "\n",
       "      month     create_date_min  order_date_diff  date_diff  \n",
       "0  2019/1/1 2019-01-01 07:32:00  0 days 00:00:00   0.000000  \n",
       "1  2019/2/1 2019-01-01 07:32:00 41 days 13:22:00  41.556944  \n",
       "2  2019/1/1 2019-01-01 07:38:00  0 days 00:00:00   0.000000  \n",
       "3  2019/1/1 2019-01-01 08:46:00  0 days 00:00:00   0.000000  \n",
       "4  2019/1/1 2019-01-01 08:46:00 23 days 01:58:00  23.081944  "
      ]
     },
     "execution_count": 11,
     "metadata": {},
     "output_type": "execute_result"
    }
   ],
   "source": [
    "liucun.head()"
   ]
  },
  {
   "cell_type": "code",
   "execution_count": 12,
   "metadata": {
    "ExecuteTime": {
     "end_time": "2019-08-28T06:37:38.860636Z",
     "start_time": "2019-08-28T06:37:38.726994Z"
    }
   },
   "outputs": [],
   "source": [
    "liucun = liucun.sort_values(by=\"order_date_diff\",ascending=True)"
   ]
  },
  {
   "cell_type": "code",
   "execution_count": 13,
   "metadata": {
    "ExecuteTime": {
     "end_time": "2019-08-28T06:37:38.915196Z",
     "start_time": "2019-08-28T06:37:38.862619Z"
    }
   },
   "outputs": [],
   "source": [
    "def diff(group):\n",
    "    d = group.date_diff - group.date_diff.shift(-1)\n",
    "    return d"
   ]
  },
  {
   "cell_type": "code",
   "execution_count": 14,
   "metadata": {
    "ExecuteTime": {
     "end_time": "2019-08-28T06:38:28.282741Z",
     "start_time": "2019-08-28T06:37:38.920181Z"
    }
   },
   "outputs": [],
   "source": [
    "last_diff = liucun.groupby('user_id').apply(diff)"
   ]
  },
  {
   "cell_type": "code",
   "execution_count": 27,
   "metadata": {
    "ExecuteTime": {
     "end_time": "2019-08-28T07:18:05.782563Z",
     "start_time": "2019-08-28T07:18:05.531238Z"
    }
   },
   "outputs": [
    {
     "data": {
      "text/plain": [
       "Text(0.5, 1.0, '用户平均购买周期直方图')"
      ]
     },
     "execution_count": 27,
     "metadata": {},
     "output_type": "execute_result"
    },
    {
     "data": {
      "image/png": "[encoded data removed]",
      "text/plain": [
       "<Figure size 864x432 with 1 Axes>"
      ]
     },
     "metadata": {
      "needs_background": "light"
     },
     "output_type": "display_data"
    }
   ],
   "source": [
    "fig, ax = plt.subplots(figsize = (12,6))\n",
    "ax = last_diff.hist(bins = 10)\n",
    "ax.set_xlabel('时间跨度（天）', fontproperties=chinese) \n",
    "ax.set_ylabel('人数（人）', fontproperties=chinese) \n",
    "# ax.set_xticks(range(1, 70))\n",
    "ax.set_title('用户平均购买周期直方图', fontproperties=chinese)"
   ]
  },
  {
   "cell_type": "code",
   "execution_count": 20,
   "metadata": {
    "ExecuteTime": {
     "end_time": "2019-08-28T06:42:05.062675Z",
     "start_time": "2019-08-28T06:42:05.034743Z"
    }
   },
   "outputs": [],
   "source": [
    "last2 = last_diff.reset_index()"
   ]
  },
  {
   "cell_type": "code",
   "execution_count": 21,
   "metadata": {
    "ExecuteTime": {
     "end_time": "2019-08-28T06:42:28.501946Z",
     "start_time": "2019-08-28T06:42:28.480999Z"
    }
   },
   "outputs": [
    {
     "data": {
      "text/plain": [
       "-8.000000     8409\n",
       "-9.000000     2968\n",
       "-10.000000    1859\n",
       "-11.000000    1188\n",
       "-12.000000     847\n",
       "-13.000000     596\n",
       "-14.000000     531\n",
       "-16.000000     455\n",
       "-0.000694      426\n",
       "-15.000000     323\n",
       " 0.000000      320\n",
       "-17.000000     244\n",
       "-0.001389      211\n",
       "-8.000694      209\n",
       "-18.000000     207\n",
       "-7.999306      203\n",
       "-19.000000     191\n",
       "-8.000694      190\n",
       "-8.000000      181\n",
       "-7.999306      160\n",
       "-7.995139      153\n",
       "-7.999306      144\n",
       "-20.000000     133\n",
       "-8.000000      122\n",
       "-7.997917      121\n",
       "-8.999306      116\n",
       "-8.004861      115\n",
       "-7.997222      114\n",
       "-0.002083      112\n",
       "-8.000000      111\n",
       "              ... \n",
       "-62.707639       1\n",
       "-17.987500       1\n",
       "-32.618056       1\n",
       "-6.172917        1\n",
       "-15.394444       1\n",
       "-32.881944       1\n",
       "-18.240972       1\n",
       "-26.134028       1\n",
       "-49.624306       1\n",
       "-65.975694       1\n",
       "-29.588194       1\n",
       "-28.000000       1\n",
       "-1.961111        1\n",
       "-20.295139       1\n",
       "-37.076389       1\n",
       "-8.533333        1\n",
       "-44.606250       1\n",
       "-84.957639       1\n",
       "-39.009028       1\n",
       "-13.153472       1\n",
       "-18.664583       1\n",
       "-37.420833       1\n",
       "-20.029861       1\n",
       "-75.999306       1\n",
       "-40.402778       1\n",
       "-2.364583        1\n",
       "-37.958333       1\n",
       "-50.879861       1\n",
       "-8.823611        1\n",
       "-0.819444        1\n",
       "Name: date_diff, Length: 50925, dtype: int64"
      ]
     },
     "execution_count": 21,
     "metadata": {},
     "output_type": "execute_result"
    }
   ],
   "source": [
    "last2[\"date_diff\"].value_counts()"
   ]
  },
  {
   "cell_type": "code",
   "execution_count": null,
   "metadata": {},
   "outputs": [],
   "source": []
  }
 ],
 "metadata": {
  "kernelspec": {
   "display_name": "Python 3",
   "language": "python",
   "name": "python3"
  },
  "language_info": {
   "codemirror_mode": {
    "name": "ipython",
    "version": 3
   },
   "file_extension": ".py",
   "mimetype": "text/x-python",
   "name": "python",
   "nbconvert_exporter": "python",
   "pygments_lexer": "ipython3",
   "version": "3.6.5"
  }
 },
 "nbformat": 4,
 "nbformat_minor": 2
}
