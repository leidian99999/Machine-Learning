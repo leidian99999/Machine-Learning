{
 "cells": [
  {
   "cell_type": "code",
   "execution_count": 1,
   "metadata": {
    "ExecuteTime": {
     "end_time": "2019-08-28T12:39:13.048807Z",
     "start_time": "2019-08-28T12:39:11.965011Z"
    }
   },
   "outputs": [],
   "source": [
    "import pandas as pd\n",
    "import numpy as np\n",
    "from datetime import datetime\n",
    "from impala.dbapi import connect\n",
    "import warnings\n",
    "warnings.filterwarnings('ignore')\n",
    "pd.set_option('max_colwidth',1000)"
   ]
  },
  {
   "cell_type": "code",
   "execution_count": 2,
   "metadata": {
    "ExecuteTime": {
     "end_time": "2019-08-28T12:39:13.059628Z",
     "start_time": "2019-08-28T12:39:13.051614Z"
    }
   },
   "outputs": [],
   "source": [
    "# 查询所有字段\n",
    "def list_col(localhost,database, port,tabls_name):\n",
    "    db = connect(localhost,port,database)\n",
    "    cursor = db.cursor()\n",
    "    cursor.execute(\"select * from %s\" % tabls_name)\n",
    "    col_name_list = [tuple[0] for tuple in cursor.description]\n",
    "    db.close()\n",
    "    return col_name_list"
   ]
  },
  {
   "cell_type": "code",
   "execution_count": 3,
   "metadata": {
    "ExecuteTime": {
     "end_time": "2019-08-28T12:39:13.963965Z",
     "start_time": "2019-08-28T12:39:13.062586Z"
    }
   },
   "outputs": [],
   "source": [
    "# 列出所有的表\n",
    "def list_table(localhost,database,port):\n",
    "    db = connect(localhost,database,port)\n",
    "    cursor = db.cursor()\n",
    "    cursor.execute(\"show tables\")\n",
    "    table_list = [tuple[0] for tuple in cursor.fetchall()]\n",
    "    db.close()\n",
    "    return table_list"
   ]
  },
  {
   "cell_type": "code",
   "execution_count": 4,
   "metadata": {
    "ExecuteTime": {
     "end_time": "2019-08-28T12:39:14.095738Z",
     "start_time": "2019-08-28T12:39:13.971953Z"
    }
   },
   "outputs": [],
   "source": [
    "# 数据库信息\n",
    "port = 21050 # 端口号\n",
    "host = \"172.22.210.29\" # 连接地址\n",
    "database = \"bigtables\" # 数据库名\n",
    "tabls_name = \"shop_order\" # 表名"
   ]
  },
  {
   "cell_type": "code",
   "execution_count": 5,
   "metadata": {
    "ExecuteTime": {
     "end_time": "2019-08-28T12:39:22.603389Z",
     "start_time": "2019-08-28T12:39:14.097663Z"
    }
   },
   "outputs": [],
   "source": [
    "table_names = list_table(host,port,database) \n",
    "# print('库中所有表名:',*table_names,sep = '\\n  ')\n",
    "column_names = list_col(host,database, port,tabls_name)\n",
    "# column_names = [\"user_id\",\"create_date\",\"payable_rmb_amount\",\"buy_num\",\"status\"]\n",
    "# print('表中所有字段名:',*column_names,sep = '\\n  ')"
   ]
  },
  {
   "cell_type": "code",
   "execution_count": null,
   "metadata": {
    "ExecuteTime": {
     "start_time": "2019-08-28T12:39:11.978Z"
    }
   },
   "outputs": [],
   "source": [
    "conn = connect(host = host,port = port,database = database,timeout = 3600 )\n",
    "cur_data = conn.cursor()\n",
    "cur_data.execute('''SELECT *\n",
    "FROM icr_user_trans\n",
    "WHERE ticket_type = \"11\"\n",
    "  AND product_type = \"01\"\n",
    "  AND business_date_str BETWEEN '20190101' AND '20190630';''')\n",
    "data = cur_data.fetchall()\n",
    "data = pd.DataFrame(data,columns=column_names)"
   ]
  },
  {
   "cell_type": "code",
   "execution_count": null,
   "metadata": {
    "ExecuteTime": {
     "start_time": "2019-08-28T12:39:11.981Z"
    }
   },
   "outputs": [],
   "source": [
    "data.shape"
   ]
  },
  {
   "cell_type": "code",
   "execution_count": null,
   "metadata": {
    "ExecuteTime": {
     "start_time": "2019-08-28T12:39:11.983Z"
    }
   },
   "outputs": [],
   "source": [
    "data.to_csv(\"qrcode1901.csv\",index=False)"
   ]
  },
  {
   "cell_type": "code",
   "execution_count": null,
   "metadata": {},
   "outputs": [],
   "source": []
  }
 ],
 "metadata": {
  "kernelspec": {
   "display_name": "Python 3",
   "language": "python",
   "name": "python3"
  },
  "language_info": {
   "codemirror_mode": {
    "name": "ipython",
    "version": 3
   },
   "file_extension": ".py",
   "mimetype": "text/x-python",
   "name": "python",
   "nbconvert_exporter": "python",
   "pygments_lexer": "ipython3",
   "version": "3.6.5"
  }
 },
 "nbformat": 4,
 "nbformat_minor": 2
}
