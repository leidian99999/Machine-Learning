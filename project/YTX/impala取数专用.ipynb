{
 "cells": [
  {
   "cell_type": "code",
   "execution_count": 1,
   "metadata": {
    "ExecuteTime": {
     "end_time": "2019-08-29T06:50:50.039464Z",
     "start_time": "2019-08-29T06:50:49.025991Z"
    }
   },
   "outputs": [],
   "source": [
    "import pandas as pd\n",
    "import numpy as np\n",
    "from datetime import datetime\n",
    "from impala.dbapi import connect\n",
    "import warnings\n",
    "warnings.filterwarnings('ignore')\n",
    "pd.set_option('max_colwidth',1000)"
   ]
  },
  {
   "cell_type": "code",
   "execution_count": 2,
   "metadata": {
    "ExecuteTime": {
     "end_time": "2019-08-29T06:50:50.047258Z",
     "start_time": "2019-08-29T06:50:50.041305Z"
    }
   },
   "outputs": [],
   "source": [
    "# 查询所有字段\n",
    "def list_col(localhost,database, port,tabls_name):\n",
    "    db = connect(localhost,port,database)\n",
    "    cursor = db.cursor()\n",
    "    cursor.execute(\"select * from %s\" % tabls_name)\n",
    "    col_name_list = [tuple[0] for tuple in cursor.description]\n",
    "    db.close()\n",
    "    return col_name_list"
   ]
  },
  {
   "cell_type": "code",
   "execution_count": 3,
   "metadata": {
    "ExecuteTime": {
     "end_time": "2019-08-29T06:50:50.445242Z",
     "start_time": "2019-08-29T06:50:50.050251Z"
    }
   },
   "outputs": [],
   "source": [
    "# 列出所有的表\n",
    "def list_table(localhost,database,port):\n",
    "    db = connect(localhost,database,port)\n",
    "    cursor = db.cursor()\n",
    "    cursor.execute(\"show tables\")\n",
    "    table_list = [tuple[0] for tuple in cursor.fetchall()]\n",
    "    db.close()\n",
    "    return table_list"
   ]
  },
  {
   "cell_type": "code",
   "execution_count": 4,
   "metadata": {
    "ExecuteTime": {
     "end_time": "2019-08-29T06:50:50.556006Z",
     "start_time": "2019-08-29T06:50:50.459160Z"
    }
   },
   "outputs": [],
   "source": [
    "# 数据库信息\n",
    "port = 21050 # 端口号\n",
    "host = \"172.22.210.29\" # 连接地址\n",
    "database = \"bigtables\" # 数据库名\n",
    "tabls_name = \"shop_order\" # 表名"
   ]
  },
  {
   "cell_type": "code",
   "execution_count": 5,
   "metadata": {
    "ExecuteTime": {
     "end_time": "2019-08-29T06:50:59.390236Z",
     "start_time": "2019-08-29T06:50:50.567976Z"
    }
   },
   "outputs": [],
   "source": [
    "table_names = list_table(host,port,database) \n",
    "# print('库中所有表名:',*table_names,sep = '\\n  ')\n",
    "column_names = list_col(host,database, port,tabls_name)\n",
    "# column_names = [\"user_id\",\"create_date\",\"payable_rmb_amount\",\"buy_num\",\"status\"]\n",
    "# print('表中所有字段名:',*column_names,sep = '\\n  ')"
   ]
  },
  {
   "cell_type": "code",
   "execution_count": null,
   "metadata": {},
   "outputs": [],
   "source": [
    "# conn = connect(host = host,port = port,database = database,timeout = 60 )\n",
    "# cur_data = conn.cursor()\n",
    "# cur_data.execute('''SELECT \n",
    "# card_num,\n",
    "# ticket_price,\n",
    "# actual_price,\n",
    "# entry_station_name,\n",
    "# exit_station_name,\n",
    "# userid,\n",
    "# province,\n",
    "# city,\n",
    "# gender,\n",
    "# age,\n",
    "# phoneregion,\n",
    "# phonebrand,\n",
    "# phonecarrier,\n",
    "# business_date_str\n",
    "# FROM icr_user_trans\n",
    "# WHERE ticket_type = \"11\"\n",
    "#   AND product_type = \"01\"\n",
    "#   AND business_date_str BETWEEN '20190101' AND '20190101';''')\n",
    "# data = cur_data.fetchall()"
   ]
  },
  {
   "cell_type": "code",
   "execution_count": 11,
   "metadata": {
    "ExecuteTime": {
     "end_time": "2019-08-29T08:01:08.088972Z",
     "start_time": "2019-08-29T07:56:53.962733Z"
    }
   },
   "outputs": [],
   "source": []
  },
  {
   "cell_type": "code",
   "execution_count": 13,
   "metadata": {
    "ExecuteTime": {
     "end_time": "2019-08-29T08:04:03.591597Z",
     "start_time": "2019-08-29T08:04:03.586610Z"
    }
   },
   "outputs": [],
   "source": [
    "column_names = [\"card_num\", \"ticket_price\", \"actual_price\", \"entry_station_name\", \"exit_station_name\", \"userid\", \"province\", \"city\", \"gender\", \"age\", \"phoneregion\", \"phonebrand\", \"phonecarrier\",\"business_date_str\"]"
   ]
  },
  {
   "cell_type": "code",
   "execution_count": 14,
   "metadata": {
    "ExecuteTime": {
     "end_time": "2019-08-29T08:04:06.700296Z",
     "start_time": "2019-08-29T08:04:04.670940Z"
    }
   },
   "outputs": [],
   "source": [
    "data = pd.DataFrame(data,columns=column_names)"
   ]
  },
  {
   "cell_type": "code",
   "execution_count": 15,
   "metadata": {
    "ExecuteTime": {
     "end_time": "2019-08-29T08:04:06.708974Z",
     "start_time": "2019-08-29T08:04:06.702991Z"
    }
   },
   "outputs": [
    {
     "data": {
      "text/plain": [
       "(954180, 14)"
      ]
     },
     "execution_count": 15,
     "metadata": {},
     "output_type": "execute_result"
    }
   ],
   "source": [
    "data.shape"
   ]
  },
  {
   "cell_type": "code",
   "execution_count": 16,
   "metadata": {
    "ExecuteTime": {
     "end_time": "2019-08-29T08:04:12.700105Z",
     "start_time": "2019-08-29T08:04:12.680127Z"
    },
    "scrolled": true
   },
   "outputs": [
    {
     "data": {
      "text/html": [
       "<div>\n",
       "<style scoped>\n",
       "    .dataframe tbody tr th:only-of-type {\n",
       "        vertical-align: middle;\n",
       "    }\n",
       "\n",
       "    .dataframe tbody tr th {\n",
       "        vertical-align: top;\n",
       "    }\n",
       "\n",
       "    .dataframe thead th {\n",
       "        text-align: right;\n",
       "    }\n",
       "</style>\n",
       "<table border=\"1\" class=\"dataframe\">\n",
       "  <thead>\n",
       "    <tr style=\"text-align: right;\">\n",
       "      <th></th>\n",
       "      <th>card_num</th>\n",
       "      <th>ticket_price</th>\n",
       "      <th>actual_price</th>\n",
       "      <th>entry_station_name</th>\n",
       "      <th>exit_station_name</th>\n",
       "      <th>userid</th>\n",
       "      <th>province</th>\n",
       "      <th>city</th>\n",
       "      <th>gender</th>\n",
       "      <th>age</th>\n",
       "      <th>phoneregion</th>\n",
       "      <th>phonebrand</th>\n",
       "      <th>phonecarrier</th>\n",
       "      <th>business_date_str</th>\n",
       "    </tr>\n",
       "  </thead>\n",
       "  <tbody>\n",
       "    <tr>\n",
       "      <th>0</th>\n",
       "      <td>10100053205007436757</td>\n",
       "      <td>300</td>\n",
       "      <td>300</td>\n",
       "      <td>五道口</td>\n",
       "      <td>苏州街</td>\n",
       "      <td>9317717</td>\n",
       "      <td>甘肃</td>\n",
       "      <td>张掖</td>\n",
       "      <td>F</td>\n",
       "      <td>30.0</td>\n",
       "      <td>北京</td>\n",
       "      <td>HUAWEI</td>\n",
       "      <td>联通</td>\n",
       "      <td>20190101</td>\n",
       "    </tr>\n",
       "    <tr>\n",
       "      <th>1</th>\n",
       "      <td>10100053205003832276</td>\n",
       "      <td>600</td>\n",
       "      <td>600</td>\n",
       "      <td>南锣鼓巷</td>\n",
       "      <td>次渠南</td>\n",
       "      <td>5367238</td>\n",
       "      <td>浙江</td>\n",
       "      <td>温州</td>\n",
       "      <td>F</td>\n",
       "      <td>32.0</td>\n",
       "      <td>浙江 温州</td>\n",
       "      <td>vivo</td>\n",
       "      <td>联通</td>\n",
       "      <td>20190101</td>\n",
       "    </tr>\n",
       "    <tr>\n",
       "      <th>2</th>\n",
       "      <td>10100053205008252304</td>\n",
       "      <td>500</td>\n",
       "      <td>500</td>\n",
       "      <td>北宫门</td>\n",
       "      <td>王府井</td>\n",
       "      <td>10150341</td>\n",
       "      <td>广东</td>\n",
       "      <td>广州</td>\n",
       "      <td>F</td>\n",
       "      <td>31.0</td>\n",
       "      <td>广东 广州市</td>\n",
       "      <td>Honor</td>\n",
       "      <td>电信</td>\n",
       "      <td>20190101</td>\n",
       "    </tr>\n",
       "    <tr>\n",
       "      <th>3</th>\n",
       "      <td>10100053205003887210</td>\n",
       "      <td>700</td>\n",
       "      <td>700</td>\n",
       "      <td>南邵</td>\n",
       "      <td>角门西</td>\n",
       "      <td>5336577</td>\n",
       "      <td>江苏</td>\n",
       "      <td>无锡</td>\n",
       "      <td>M</td>\n",
       "      <td>31.0</td>\n",
       "      <td>北京</td>\n",
       "      <td>Apple</td>\n",
       "      <td>移动</td>\n",
       "      <td>20190101</td>\n",
       "    </tr>\n",
       "    <tr>\n",
       "      <th>4</th>\n",
       "      <td>10100053205004126730</td>\n",
       "      <td>500</td>\n",
       "      <td>500</td>\n",
       "      <td>崔各庄</td>\n",
       "      <td>石门</td>\n",
       "      <td>5603508</td>\n",
       "      <td>北京</td>\n",
       "      <td>北京市</td>\n",
       "      <td>F</td>\n",
       "      <td>17.0</td>\n",
       "      <td>北京</td>\n",
       "      <td>OPPO</td>\n",
       "      <td>移动</td>\n",
       "      <td>20190101</td>\n",
       "    </tr>\n",
       "  </tbody>\n",
       "</table>\n",
       "</div>"
      ],
      "text/plain": [
       "               card_num  ticket_price  actual_price entry_station_name  \\\n",
       "0  10100053205007436757           300           300                五道口   \n",
       "1  10100053205003832276           600           600               南锣鼓巷   \n",
       "2  10100053205008252304           500           500                北宫门   \n",
       "3  10100053205003887210           700           700                 南邵   \n",
       "4  10100053205004126730           500           500                崔各庄   \n",
       "\n",
       "  exit_station_name    userid province city gender   age phoneregion  \\\n",
       "0               苏州街   9317717       甘肃   张掖      F  30.0          北京   \n",
       "1               次渠南   5367238       浙江   温州      F  32.0       浙江 温州   \n",
       "2               王府井  10150341       广东   广州      F  31.0      广东 广州市   \n",
       "3               角门西   5336577       江苏   无锡      M  31.0          北京   \n",
       "4                石门   5603508       北京  北京市      F  17.0          北京   \n",
       "\n",
       "  phonebrand phonecarrier business_date_str  \n",
       "0     HUAWEI           联通          20190101  \n",
       "1       vivo           联通          20190101  \n",
       "2      Honor           电信          20190101  \n",
       "3      Apple           移动          20190101  \n",
       "4       OPPO           移动          20190101  "
      ]
     },
     "execution_count": 16,
     "metadata": {},
     "output_type": "execute_result"
    }
   ],
   "source": [
    "data.head()"
   ]
  },
  {
   "cell_type": "code",
   "execution_count": 17,
   "metadata": {
    "ExecuteTime": {
     "end_time": "2019-08-29T08:04:21.913227Z",
     "start_time": "2019-08-29T08:04:16.045382Z"
    }
   },
   "outputs": [],
   "source": [
    "data.to_csv(\"qrcode190101info.csv\",index=False)"
   ]
  },
  {
   "cell_type": "code",
   "execution_count": null,
   "metadata": {},
   "outputs": [],
   "source": []
  }
 ],
 "metadata": {
  "kernelspec": {
   "display_name": "Python 3",
   "language": "python",
   "name": "python3"
  },
  "language_info": {
   "codemirror_mode": {
    "name": "ipython",
    "version": 3
   },
   "file_extension": ".py",
   "mimetype": "text/x-python",
   "name": "python",
   "nbconvert_exporter": "python",
   "pygments_lexer": "ipython3",
   "version": "3.6.5"
  }
 },
 "nbformat": 4,
 "nbformat_minor": 2
}
