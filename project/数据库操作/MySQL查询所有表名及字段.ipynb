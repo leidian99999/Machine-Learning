{
 "cells": [
  {
   "cell_type": "code",
   "execution_count": 1,
   "metadata": {},
   "outputs": [],
   "source": [
    "import pymysql"
   ]
  },
  {
   "cell_type": "code",
   "execution_count": 2,
   "metadata": {},
   "outputs": [],
   "source": [
    "# 查询所有字段\n",
    "def list_col(localhost, username, password, database, tabls_name):\n",
    "    db = pymysql.connect(localhost, username, password, database, charset=\"utf8\")\n",
    "    cursor = db.cursor()\n",
    "    cursor.execute(\"select * from %s\" % tabls_name)\n",
    "    col_name_list = [tuple[0] for tuple in cursor.description]\n",
    "    db.close()\n",
    "    return col_name_list"
   ]
  },
  {
   "cell_type": "code",
   "execution_count": 3,
   "metadata": {},
   "outputs": [],
   "source": [
    "# 列出所有的表\n",
    "def list_table(localhost, username, password, database):\n",
    "    db = pymysql.connect(localhost, username, password, database, charset=\"utf8\")\n",
    "    cursor = db.cursor()\n",
    "    cursor.execute(\"show tables\")\n",
    "    table_list = [tuple[0] for tuple in cursor.fetchall()]\n",
    "    db.close()\n",
    "    return table_list"
   ]
  },
  {
   "cell_type": "code",
   "execution_count": 5,
   "metadata": {
    "scrolled": true
   },
   "outputs": [],
   "source": [
    "username = \"readtest\" # 用户名\n",
    "password = \"Ryx@2017\" # 连接密码\n",
    "localhost = \"rr-2zeam7183985tg357.mysql.rds.aliyuncs.com\" # 连接地址\n",
    "database = \"ruubypayanalysis\" # 数据库名"
   ]
  },
  {
   "cell_type": "code",
   "execution_count": 8,
   "metadata": {},
   "outputs": [
    {
     "name": "stdout",
     "output_type": "stream",
     "text": [
      "库中所有表名:\n",
      "  analysis_about_fam_number\n",
      "  analysis_about_famandqrcode_day_transaction_info\n",
      "  analysis_about_finance_trans\n",
      "  analysis_about_paytype_day_info\n",
      "  analysis_about_qrtrans_number\n",
      "  analysis_accountbalance\n",
      "  analysis_bus\n",
      "  analysis_business_types_data\n",
      "  analysis_data_write\n",
      "  analysis_data_write_type\n",
      "  analysis_famorder_ticketnumber\n",
      "  analysis_integral_activity\n",
      "  analysis_integral_change_details\n",
      "  analysis_jf_accountbalance_order\n",
      "  analysis_jf_prroduct_details\n",
      "  analysis_obps_shard\n",
      "  analysis_paychannel_fam_trading\n",
      "  analysis_pool_change_details\n",
      "  analysis_regular_ticket\n",
      "  analysis_types_data\n",
      "  analysis_usercenter_basic\n",
      "  current_about_qrtrans_number_line\n",
      "  current_analysis_about_fam_number\n",
      "  current_obps_line_shard\n",
      "  current_paychannel_discount\n",
      "  current_qrtrans_paychannel\n",
      "  current_user_count\n",
      "  electronic_invoice_count\n",
      "  electronic_invoice_detail\n",
      "  invoicedata_details\n"
     ]
    }
   ],
   "source": [
    "# 获取所有表，返回的是一个可迭代对象\n",
    "tables = list_table(localhost, username, password, database) \n",
    "print('库中所有表名:',*tables,sep = '\\n  ')"
   ]
  },
  {
   "cell_type": "code",
   "execution_count": 9,
   "metadata": {},
   "outputs": [
    {
     "name": "stdout",
     "output_type": "stream",
     "text": [
      "表中所有字段名:\n",
      "  id\n",
      "  name\n",
      "  type\n",
      "  num\n",
      "  time\n",
      "  user\n",
      "  write_time\n"
     ]
    }
   ],
   "source": [
    "# 获取所有字段\n",
    "columns = list_col(localhost, username, password, database, 'analysis_data_write')\n",
    "print('表中所有字段名:',*columns,sep = '\\n  ')"
   ]
  },
  {
   "cell_type": "code",
   "execution_count": null,
   "metadata": {},
   "outputs": [],
   "source": []
  }
 ],
 "metadata": {
  "kernelspec": {
   "display_name": "Python 3",
   "language": "python",
   "name": "python3"
  },
  "language_info": {
   "codemirror_mode": {
    "name": "ipython",
    "version": 3
   },
   "file_extension": ".py",
   "mimetype": "text/x-python",
   "name": "python",
   "nbconvert_exporter": "python",
   "pygments_lexer": "ipython3",
   "version": "3.6.5"
  }
 },
 "nbformat": 4,
 "nbformat_minor": 2
}
