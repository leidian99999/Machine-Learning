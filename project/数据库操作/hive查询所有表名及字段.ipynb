{
 "cells": [
  {
   "cell_type": "code",
   "execution_count": 1,
   "metadata": {},
   "outputs": [],
   "source": [
    "from impala.dbapi import connect"
   ]
  },
  {
   "cell_type": "code",
   "execution_count": 2,
   "metadata": {},
   "outputs": [],
   "source": [
    "# 查询所有字段\n",
    "def list_col(localhost,database, port,tabls_name):\n",
    "    db = connect(localhost,port,database)\n",
    "    cursor = db.cursor()\n",
    "    cursor.execute(\"select * from %s\" % tabls_name)\n",
    "    col_name_list = [tuple[0] for tuple in cursor.description]\n",
    "    db.close()\n",
    "    return col_name_list"
   ]
  },
  {
   "cell_type": "code",
   "execution_count": 3,
   "metadata": {},
   "outputs": [],
   "source": [
    "# 列出所有的表\n",
    "def list_table(localhost,database,port):\n",
    "    db = connect(localhost,database,port)\n",
    "    cursor = db.cursor()\n",
    "    cursor.execute(\"show tables\")\n",
    "    table_list = [tuple[0] for tuple in cursor.fetchall()]\n",
    "    db.close()\n",
    "    return table_list"
   ]
  },
  {
   "cell_type": "code",
   "execution_count": 12,
   "metadata": {},
   "outputs": [],
   "source": [
    "# username = \"\" # 用户名\n",
    "# password = \"\" # 连接密码\n",
    "port = 21050\n",
    "localhost = \"172.22.210.29\" # 连接地址\n",
    "database = \"bigtables\" # 数据库名\n",
    "tabls_name = \"shop_order\""
   ]
  },
  {
   "cell_type": "code",
   "execution_count": 11,
   "metadata": {
    "collapsed": true
   },
   "outputs": [
    {
     "name": "stdout",
     "output_type": "stream",
     "text": [
      "库中所有表名:\n",
      "  ad_click\n",
      "  bak_icr_user_trans\n",
      "  base_user_info\n",
      "  finance_user_account_sub\n",
      "  finance_user_action\n",
      "  finance_user_trade\n",
      "  icr_credit_point_ledger\n",
      "  icr_user_trans\n",
      "  marketing_jf_account\n",
      "  marketing_jf_account_record\n",
      "  marketing_jf_user_coupon\n",
      "  mpms_ticket_order\n",
      "  mpms_trade_order\n",
      "  redenvelope_account\n",
      "  redenvelope_account_record\n",
      "  shop_hx_order\n",
      "  shop_hx_order_item\n",
      "  shop_hx_payment_flow\n",
      "  shop_order\n",
      "  shop_sp_invoice\n",
      "  survery_answers\n",
      "  survery_result\n",
      "  tfs_app_order\n",
      "  user_share\n"
     ]
    }
   ],
   "source": [
    "tables = list_table(localhost,port,database) \n",
    "print('库中所有表名:',*tables,sep = '\\n  ')"
   ]
  },
  {
   "cell_type": "code",
   "execution_count": 14,
   "metadata": {},
   "outputs": [
    {
     "name": "stdout",
     "output_type": "stream",
     "text": [
      "['order_no', 'user_id', 'user_card_no', 'total_amount', 'total_rmb_amount', 'payable_rmb_amount', 'payable_amount', 'status', 'create_date', 'payment_date', 'pay_order_no', 'payment_channel_no', 'payment_channel', 'fail_reason', 'fail_code', 'close_date', 'finish_date', 'refund_date', 'reward_amount', 'user_rmb_amount', 'paychannel_discount_amount', 'product_id', 'product_name', 'product_sub_name', 'product_image', 'conpon_card_num', 'buy_num', 'amount', 'amount_rmb', 'num', 'object_type', 'object_id', 'external_order_no', 'goods_valid_startdate', 'goods_valid_enddate', 'province', 'city', 'gender', 'age', 'regdate', 'phoneregion', 'phonebrand', 'phonecarrier', 'cardnumber', 'cardnickname', 'cardtype', 'securetype', 'paymentmethod', 'binddate', 'cardstatus', 'firstentry', 'dt']\n"
     ]
    }
   ],
   "source": [
    "columns = list_col(localhost,database, port,tabls_name)\n",
    "print('表中所有字段名:',*tables,sep = '\\n  ')"
   ]
  },
  {
   "cell_type": "code",
   "execution_count": null,
   "metadata": {},
   "outputs": [],
   "source": []
  }
 ],
 "metadata": {
  "kernelspec": {
   "display_name": "Python 3",
   "language": "python",
   "name": "python3"
  },
  "language_info": {
   "codemirror_mode": {
    "name": "ipython",
    "version": 3
   },
   "file_extension": ".py",
   "mimetype": "text/x-python",
   "name": "python",
   "nbconvert_exporter": "python",
   "pygments_lexer": "ipython3",
   "version": "3.6.5"
  }
 },
 "nbformat": 4,
 "nbformat_minor": 2
}
