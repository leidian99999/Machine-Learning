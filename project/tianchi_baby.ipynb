{
 "cells": [
  {
   "cell_type": "code",
   "execution_count": 1,
   "metadata": {},
   "outputs": [
    {
     "name": "stderr",
     "output_type": "stream",
     "text": [
      "d:\\python\\py35\\lib\\importlib\\_bootstrap.py:222: RuntimeWarning: numpy.dtype size changed, may indicate binary incompatibility. Expected 96, got 88\n",
      "  return f(*args, **kwds)\n"
     ]
    }
   ],
   "source": [
    "import pandas as pd\n",
    "import numpy as np\n",
    "import matplotlib.pyplot as plt"
   ]
  },
  {
   "cell_type": "code",
   "execution_count": 3,
   "metadata": {},
   "outputs": [],
   "source": [
    "data_baby = pd.read_csv(r\"D:\\Python\\dataset\\tianchi_baby\\(sample)sam_tianchi_mum_baby.csv\")\n",
    "data_trading = pd.read_csv(r\"D:\\Python\\dataset\\tianchi_baby\\(sample)sam_tianchi_mum_baby_trade_history.csv\")"
   ]
  },
  {
   "cell_type": "markdown",
   "metadata": {},
   "source": [
    "### 描述性统计"
   ]
  },
  {
   "cell_type": "code",
   "execution_count": 4,
   "metadata": {},
   "outputs": [],
   "source": [
    "# 1.根据婴幼儿数据集中的出生日期，利用Excel绘制出生日期的散点图；然后，发现是否存在异常值、缺失值等"
   ]
  },
  {
   "cell_type": "code",
   "execution_count": null,
   "metadata": {},
   "outputs": [],
   "source": [
    "# 2.根据宝妈购买商品数据集中的购买商品日期，利用Excel绘制商品购买的散点图；然后，发现是否存在异常值、缺失值等；"
   ]
  },
  {
   "cell_type": "code",
   "execution_count": null,
   "metadata": {},
   "outputs": [],
   "source": [
    "# 3.根据宝妈购买商品数据集中的property字段，汇总分类商品；然后，将分类商品按照时间汇总，找出不同时段下品类占比较大的商品大类或小类；"
   ]
  },
  {
   "cell_type": "markdown",
   "metadata": {},
   "source": [
    "## 期待解决的业务问题"
   ]
  },
  {
   "cell_type": "markdown",
   "metadata": {},
   "source": [
    "### 第一层：\n",
    "\n",
    "婴幼儿出生时间分布及原因分析；\n",
    "\n",
    "婴幼儿商品购买数量分布及对商品畅按畅销度划分；\n",
    "\n",
    "从性别、年龄、时间（月份）3个维度分析对婴幼儿商品购买数量的影响；"
   ]
  },
  {
   "cell_type": "markdown",
   "metadata": {},
   "source": [
    "## 第二层（深层次探究，不在本文章的探讨范围内）：\n",
    "\n",
    "提供更加准确的商品推荐机制\n",
    "\n",
    "预测事件1：基于宝妈购买商品的数据集，预测婴幼儿年龄；\n",
    "\n",
    "预测事件2：基于婴幼儿年龄性别数据集，预测用户可能购买的商品类型；\n",
    "\n",
    "注：因为探究性别、年龄、时间等不同维度对购买数量的影响，因此本文的研究集中在宝妈购买商品数据集和婴幼儿数据集的合并表上， 二者的合并表才能够反映更加全面的信息。"
   ]
  },
  {
   "cell_type": "code",
   "execution_count": null,
   "metadata": {},
   "outputs": [],
   "source": []
  },
  {
   "cell_type": "code",
   "execution_count": null,
   "metadata": {},
   "outputs": [],
   "source": []
  },
  {
   "cell_type": "code",
   "execution_count": null,
   "metadata": {},
   "outputs": [],
   "source": []
  }
 ],
 "metadata": {
  "kernelspec": {
   "display_name": "Python 3",
   "language": "python",
   "name": "python3"
  },
  "language_info": {
   "codemirror_mode": {
    "name": "ipython",
    "version": 3
   },
   "file_extension": ".py",
   "mimetype": "text/x-python",
   "name": "python",
   "nbconvert_exporter": "python",
   "pygments_lexer": "ipython3",
   "version": "3.5.2"
  }
 },
 "nbformat": 4,
 "nbformat_minor": 2
}
