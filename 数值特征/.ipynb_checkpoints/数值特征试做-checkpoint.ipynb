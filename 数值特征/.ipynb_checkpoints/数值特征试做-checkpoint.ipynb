{
 "cells": [
  {
   "cell_type": "markdown",
   "metadata": {},
   "source": [
    "# 离散值处理"
   ]
  },
  {
   "cell_type": "markdown",
   "metadata": {},
   "source": [
    "### 字段说明\n",
    "Rank:排名\n",
    "Name:游戏名\n",
    "Platform:平台\n",
    "Year:发售年份\n",
    "Genre:游戏类型\n",
    "Publisher:发行商\n",
    "NA_Sales:北美地区销量\n",
    "EU_Sales:欧洲地区销量\n",
    "JP_Sales:日本地区销量\n",
    "Other_Sales:其他地区销量\n",
    "Global_Sales:全球销量"
   ]
  },
  {
   "cell_type": "code",
   "execution_count": 1,
   "metadata": {},
   "outputs": [],
   "source": [
    "import pandas as pd\n",
    "import numpy as np"
   ]
  },
  {
   "cell_type": "code",
   "execution_count": 5,
   "metadata": {},
   "outputs": [
    {
     "data": {
      "text/html": [
       "<div>\n",
       "<style scoped>\n",
       "    .dataframe tbody tr th:only-of-type {\n",
       "        vertical-align: middle;\n",
       "    }\n",
       "\n",
       "    .dataframe tbody tr th {\n",
       "        vertical-align: top;\n",
       "    }\n",
       "\n",
       "    .dataframe thead th {\n",
       "        text-align: right;\n",
       "    }\n",
       "</style>\n",
       "<table border=\"1\" class=\"dataframe\">\n",
       "  <thead>\n",
       "    <tr style=\"text-align: right;\">\n",
       "      <th></th>\n",
       "      <th>Name</th>\n",
       "      <th>Platform</th>\n",
       "      <th>Year</th>\n",
       "      <th>Genre</th>\n",
       "      <th>Publisher</th>\n",
       "    </tr>\n",
       "  </thead>\n",
       "  <tbody>\n",
       "    <tr>\n",
       "      <th>0</th>\n",
       "      <td>Wii Sports</td>\n",
       "      <td>Wii</td>\n",
       "      <td>2006.0</td>\n",
       "      <td>Sports</td>\n",
       "      <td>Nintendo</td>\n",
       "    </tr>\n",
       "    <tr>\n",
       "      <th>1</th>\n",
       "      <td>Super Mario Bros.</td>\n",
       "      <td>NES</td>\n",
       "      <td>1985.0</td>\n",
       "      <td>Platform</td>\n",
       "      <td>Nintendo</td>\n",
       "    </tr>\n",
       "    <tr>\n",
       "      <th>2</th>\n",
       "      <td>Mario Kart Wii</td>\n",
       "      <td>Wii</td>\n",
       "      <td>2008.0</td>\n",
       "      <td>Racing</td>\n",
       "      <td>Nintendo</td>\n",
       "    </tr>\n",
       "    <tr>\n",
       "      <th>3</th>\n",
       "      <td>Wii Sports Resort</td>\n",
       "      <td>Wii</td>\n",
       "      <td>2009.0</td>\n",
       "      <td>Sports</td>\n",
       "      <td>Nintendo</td>\n",
       "    </tr>\n",
       "    <tr>\n",
       "      <th>4</th>\n",
       "      <td>Pokemon Red/Pokemon Blue</td>\n",
       "      <td>GB</td>\n",
       "      <td>1996.0</td>\n",
       "      <td>Role-Playing</td>\n",
       "      <td>Nintendo</td>\n",
       "    </tr>\n",
       "    <tr>\n",
       "      <th>5</th>\n",
       "      <td>Tetris</td>\n",
       "      <td>GB</td>\n",
       "      <td>1989.0</td>\n",
       "      <td>Puzzle</td>\n",
       "      <td>Nintendo</td>\n",
       "    </tr>\n",
       "    <tr>\n",
       "      <th>6</th>\n",
       "      <td>New Super Mario Bros.</td>\n",
       "      <td>DS</td>\n",
       "      <td>2006.0</td>\n",
       "      <td>Platform</td>\n",
       "      <td>Nintendo</td>\n",
       "    </tr>\n",
       "  </tbody>\n",
       "</table>\n",
       "</div>"
      ],
      "text/plain": [
       "                       Name Platform    Year         Genre Publisher\n",
       "0                Wii Sports      Wii  2006.0        Sports  Nintendo\n",
       "1         Super Mario Bros.      NES  1985.0      Platform  Nintendo\n",
       "2            Mario Kart Wii      Wii  2008.0        Racing  Nintendo\n",
       "3         Wii Sports Resort      Wii  2009.0        Sports  Nintendo\n",
       "4  Pokemon Red/Pokemon Blue       GB  1996.0  Role-Playing  Nintendo\n",
       "5                    Tetris       GB  1989.0        Puzzle  Nintendo\n",
       "6     New Super Mario Bros.       DS  2006.0      Platform  Nintendo"
      ]
     },
     "execution_count": 5,
     "metadata": {},
     "output_type": "execute_result"
    }
   ],
   "source": [
    "vg_df = pd.read_csv(\"datasets/vgsales.csv\",encoding = \"ISO-8859-1\")\n",
    "vg_df.shape"
   ]
  },
  {
   "cell_type": "code",
   "execution_count": 6,
   "metadata": {},
   "outputs": [
    {
     "data": {
      "text/html": [
       "<div>\n",
       "<style scoped>\n",
       "    .dataframe tbody tr th:only-of-type {\n",
       "        vertical-align: middle;\n",
       "    }\n",
       "\n",
       "    .dataframe tbody tr th {\n",
       "        vertical-align: top;\n",
       "    }\n",
       "\n",
       "    .dataframe thead th {\n",
       "        text-align: right;\n",
       "    }\n",
       "</style>\n",
       "<table border=\"1\" class=\"dataframe\">\n",
       "  <thead>\n",
       "    <tr style=\"text-align: right;\">\n",
       "      <th></th>\n",
       "      <th>Rank</th>\n",
       "      <th>Name</th>\n",
       "      <th>Platform</th>\n",
       "      <th>Year</th>\n",
       "      <th>Genre</th>\n",
       "      <th>Publisher</th>\n",
       "      <th>NA_Sales</th>\n",
       "      <th>EU_Sales</th>\n",
       "      <th>JP_Sales</th>\n",
       "      <th>Other_Sales</th>\n",
       "      <th>Global_Sales</th>\n",
       "    </tr>\n",
       "  </thead>\n",
       "  <tbody>\n",
       "    <tr>\n",
       "      <th>0</th>\n",
       "      <td>1</td>\n",
       "      <td>Wii Sports</td>\n",
       "      <td>Wii</td>\n",
       "      <td>2006.0</td>\n",
       "      <td>Sports</td>\n",
       "      <td>Nintendo</td>\n",
       "      <td>41.49</td>\n",
       "      <td>29.02</td>\n",
       "      <td>3.77</td>\n",
       "      <td>8.46</td>\n",
       "      <td>82.74</td>\n",
       "    </tr>\n",
       "    <tr>\n",
       "      <th>1</th>\n",
       "      <td>2</td>\n",
       "      <td>Super Mario Bros.</td>\n",
       "      <td>NES</td>\n",
       "      <td>1985.0</td>\n",
       "      <td>Platform</td>\n",
       "      <td>Nintendo</td>\n",
       "      <td>29.08</td>\n",
       "      <td>3.58</td>\n",
       "      <td>6.81</td>\n",
       "      <td>0.77</td>\n",
       "      <td>40.24</td>\n",
       "    </tr>\n",
       "    <tr>\n",
       "      <th>2</th>\n",
       "      <td>3</td>\n",
       "      <td>Mario Kart Wii</td>\n",
       "      <td>Wii</td>\n",
       "      <td>2008.0</td>\n",
       "      <td>Racing</td>\n",
       "      <td>Nintendo</td>\n",
       "      <td>15.85</td>\n",
       "      <td>12.88</td>\n",
       "      <td>3.79</td>\n",
       "      <td>3.31</td>\n",
       "      <td>35.82</td>\n",
       "    </tr>\n",
       "    <tr>\n",
       "      <th>3</th>\n",
       "      <td>4</td>\n",
       "      <td>Wii Sports Resort</td>\n",
       "      <td>Wii</td>\n",
       "      <td>2009.0</td>\n",
       "      <td>Sports</td>\n",
       "      <td>Nintendo</td>\n",
       "      <td>15.75</td>\n",
       "      <td>11.01</td>\n",
       "      <td>3.28</td>\n",
       "      <td>2.96</td>\n",
       "      <td>33.00</td>\n",
       "    </tr>\n",
       "    <tr>\n",
       "      <th>4</th>\n",
       "      <td>5</td>\n",
       "      <td>Pokemon Red/Pokemon Blue</td>\n",
       "      <td>GB</td>\n",
       "      <td>1996.0</td>\n",
       "      <td>Role-Playing</td>\n",
       "      <td>Nintendo</td>\n",
       "      <td>11.27</td>\n",
       "      <td>8.89</td>\n",
       "      <td>10.22</td>\n",
       "      <td>1.00</td>\n",
       "      <td>31.37</td>\n",
       "    </tr>\n",
       "  </tbody>\n",
       "</table>\n",
       "</div>"
      ],
      "text/plain": [
       "   Rank                      Name Platform    Year         Genre Publisher  \\\n",
       "0     1                Wii Sports      Wii  2006.0        Sports  Nintendo   \n",
       "1     2         Super Mario Bros.      NES  1985.0      Platform  Nintendo   \n",
       "2     3            Mario Kart Wii      Wii  2008.0        Racing  Nintendo   \n",
       "3     4         Wii Sports Resort      Wii  2009.0        Sports  Nintendo   \n",
       "4     5  Pokemon Red/Pokemon Blue       GB  1996.0  Role-Playing  Nintendo   \n",
       "\n",
       "   NA_Sales  EU_Sales  JP_Sales  Other_Sales  Global_Sales  \n",
       "0     41.49     29.02      3.77         8.46         82.74  \n",
       "1     29.08      3.58      6.81         0.77         40.24  \n",
       "2     15.85     12.88      3.79         3.31         35.82  \n",
       "3     15.75     11.01      3.28         2.96         33.00  \n",
       "4     11.27      8.89     10.22         1.00         31.37  "
      ]
     },
     "execution_count": 6,
     "metadata": {},
     "output_type": "execute_result"
    }
   ],
   "source": [
    "vg_df.head() \n",
    "vg_df[['Name','Platform','Year','Genre','Publisher']].iloc[0:7] #查看制定行和列"
   ]
  },
  {
   "cell_type": "code",
   "execution_count": 7,
   "metadata": {},
   "outputs": [
    {
     "data": {
      "text/plain": [
       "array(['Action', 'Adventure', 'Fighting', 'Misc', 'Platform', 'Puzzle',\n",
       "       'Racing', 'Role-Playing', 'Shooter', 'Simulation', 'Sports',\n",
       "       'Strategy'], dtype=object)"
      ]
     },
     "execution_count": 7,
     "metadata": {},
     "output_type": "execute_result"
    }
   ],
   "source": [
    "# 游戏种类（取某列唯一值，二者效果相同）\n",
    "genre = np.unique(vg_df['Genre']);genre\n",
    "# genreA = pd.unique(vg_df['Genre']);genreA"
   ]
  },
  {
   "cell_type": "markdown",
   "metadata": {},
   "source": [
    "## LabelEncoder标签编码"
   ]
  },
  {
   "cell_type": "markdown",
   "metadata": {},
   "source": [
    "#### 将离散属性用数字表示，将转换成连续的数值型变量。即是对不连续的数字或者文本进行编号"
   ]
  },
  {
   "cell_type": "markdown",
   "metadata": {},
   "source": [
    "### Label encoding在某些情况下很有用，但是场景限制很多。再举一例：比如有[dog,cat,dog,mouse,cat]，我们把其转换为[1,2,1,3,2]。这里就产生了一个奇怪的现象：dog和mouse的平均值是cat。所以目前还没有发现标签编码的广泛使用。"
   ]
  },
  {
   "cell_type": "code",
   "execution_count": 26,
   "metadata": {},
   "outputs": [],
   "source": [
    "from sklearn.preprocessing import LabelEncoder"
   ]
  },
  {
   "cell_type": "code",
   "execution_count": 11,
   "metadata": {},
   "outputs": [
    {
     "data": {
      "text/plain": [
       "LabelEncoder()"
      ]
     },
     "execution_count": 11,
     "metadata": {},
     "output_type": "execute_result"
    }
   ],
   "source": [
    "gle = LabelEncoder();gle"
   ]
  },
  {
   "cell_type": "code",
   "execution_count": 12,
   "metadata": {},
   "outputs": [
    {
     "data": {
      "text/plain": [
       "array([10,  4,  6, ...,  6,  5,  4], dtype=int64)"
      ]
     },
     "execution_count": 12,
     "metadata": {},
     "output_type": "execute_result"
    }
   ],
   "source": [
    "# 各游戏类型对应编码\n",
    "genre_labels = gle.fit_transform(vg_df['Genre']) #等同于 fit + transform\n",
    "genre_labels"
   ]
  },
  {
   "cell_type": "code",
   "execution_count": 13,
   "metadata": {},
   "outputs": [
    {
     "data": {
      "text/plain": [
       "array(['Action', 'Adventure', 'Fighting', 'Misc', 'Platform', 'Puzzle',\n",
       "       'Racing', 'Role-Playing', 'Shooter', 'Simulation', 'Sports',\n",
       "       'Strategy'], dtype=object)"
      ]
     },
     "execution_count": 13,
     "metadata": {},
     "output_type": "execute_result"
    }
   ],
   "source": [
    "gle.classes_  (list(gle.classes_))\n",
    "#所含所有离散类型（相当于np.unique(vg_df['Genre'])）"
   ]
  },
  {
   "cell_type": "code",
   "execution_count": 18,
   "metadata": {},
   "outputs": [
    {
     "data": {
      "text/plain": [
       "{0: 'Action',\n",
       " 1: 'Adventure',\n",
       " 2: 'Fighting',\n",
       " 3: 'Misc',\n",
       " 4: 'Platform',\n",
       " 5: 'Puzzle',\n",
       " 6: 'Racing',\n",
       " 7: 'Role-Playing',\n",
       " 8: 'Shooter',\n",
       " 9: 'Simulation',\n",
       " 10: 'Sports',\n",
       " 11: 'Strategy'}"
      ]
     },
     "execution_count": 18,
     "metadata": {},
     "output_type": "execute_result"
    }
   ],
   "source": [
    "# 列出所有属性对应的数字\n",
    "genre_mappings = {index: label for index, label in enumerate(gle.classes_)}\n",
    "genre_mappings"
   ]
  },
  {
   "cell_type": "code",
   "execution_count": 27,
   "metadata": {},
   "outputs": [
    {
     "data": {
      "text/html": [
       "<div>\n",
       "<style scoped>\n",
       "    .dataframe tbody tr th:only-of-type {\n",
       "        vertical-align: middle;\n",
       "    }\n",
       "\n",
       "    .dataframe tbody tr th {\n",
       "        vertical-align: top;\n",
       "    }\n",
       "\n",
       "    .dataframe thead th {\n",
       "        text-align: right;\n",
       "    }\n",
       "</style>\n",
       "<table border=\"1\" class=\"dataframe\">\n",
       "  <thead>\n",
       "    <tr style=\"text-align: right;\">\n",
       "      <th></th>\n",
       "      <th>Name</th>\n",
       "      <th>Platform</th>\n",
       "      <th>Year</th>\n",
       "      <th>Genre</th>\n",
       "      <th>GenreLabel</th>\n",
       "    </tr>\n",
       "  </thead>\n",
       "  <tbody>\n",
       "    <tr>\n",
       "      <th>1</th>\n",
       "      <td>Super Mario Bros.</td>\n",
       "      <td>NES</td>\n",
       "      <td>1985.0</td>\n",
       "      <td>Platform</td>\n",
       "      <td>4</td>\n",
       "    </tr>\n",
       "    <tr>\n",
       "      <th>2</th>\n",
       "      <td>Mario Kart Wii</td>\n",
       "      <td>Wii</td>\n",
       "      <td>2008.0</td>\n",
       "      <td>Racing</td>\n",
       "      <td>6</td>\n",
       "    </tr>\n",
       "    <tr>\n",
       "      <th>3</th>\n",
       "      <td>Wii Sports Resort</td>\n",
       "      <td>Wii</td>\n",
       "      <td>2009.0</td>\n",
       "      <td>Sports</td>\n",
       "      <td>10</td>\n",
       "    </tr>\n",
       "    <tr>\n",
       "      <th>4</th>\n",
       "      <td>Pokemon Red/Pokemon Blue</td>\n",
       "      <td>GB</td>\n",
       "      <td>1996.0</td>\n",
       "      <td>Role-Playing</td>\n",
       "      <td>7</td>\n",
       "    </tr>\n",
       "    <tr>\n",
       "      <th>5</th>\n",
       "      <td>Tetris</td>\n",
       "      <td>GB</td>\n",
       "      <td>1989.0</td>\n",
       "      <td>Puzzle</td>\n",
       "      <td>5</td>\n",
       "    </tr>\n",
       "    <tr>\n",
       "      <th>6</th>\n",
       "      <td>New Super Mario Bros.</td>\n",
       "      <td>DS</td>\n",
       "      <td>2006.0</td>\n",
       "      <td>Platform</td>\n",
       "      <td>4</td>\n",
       "    </tr>\n",
       "  </tbody>\n",
       "</table>\n",
       "</div>"
      ],
      "text/plain": [
       "                       Name Platform    Year         Genre  GenreLabel\n",
       "1         Super Mario Bros.      NES  1985.0      Platform           4\n",
       "2            Mario Kart Wii      Wii  2008.0        Racing           6\n",
       "3         Wii Sports Resort      Wii  2009.0        Sports          10\n",
       "4  Pokemon Red/Pokemon Blue       GB  1996.0  Role-Playing           7\n",
       "5                    Tetris       GB  1989.0        Puzzle           5\n",
       "6     New Super Mario Bros.       DS  2006.0      Platform           4"
      ]
     },
     "execution_count": 27,
     "metadata": {},
     "output_type": "execute_result"
    }
   ],
   "source": [
    "vg_df['GenreLabel'] = genre_labels\n",
    "vg_df[['Name','Platform','Year','Genre','GenreLabel']].iloc[1:7]"
   ]
  },
  {
   "cell_type": "markdown",
   "metadata": {},
   "source": [
    "## Map"
   ]
  },
  {
   "cell_type": "code",
   "execution_count": 33,
   "metadata": {},
   "outputs": [
    {
     "data": {
      "text/plain": [
       "(800, 13)"
      ]
     },
     "execution_count": 33,
     "metadata": {},
     "output_type": "execute_result"
    }
   ],
   "source": [
    "poke_df = pd.read_csv('datasets/Pokemon.csv', encoding='utf-8')\n",
    "poke_df.shape"
   ]
  },
  {
   "cell_type": "code",
   "execution_count": 31,
   "metadata": {
    "collapsed": true
   },
   "outputs": [
    {
     "data": {
      "text/plain": [
       "<bound method NDFrame.sample of        #                       Name    Type 1    Type 2  Total   HP  Attack  \\\n",
       "0      6  CharizardMega Charizard Y      Fire    Flying    634   78     104   \n",
       "1    460                  Abomasnow     Grass       Ice    494   90      92   \n",
       "2    161                    Sentret    Normal       NaN    215   35      46   \n",
       "3    667                     Litleo      Fire    Normal    369   62      50   \n",
       "4    224                  Octillery     Water       NaN    480   75     105   \n",
       "5    694                 Helioptile  Electric    Normal    289   44      38   \n",
       "6    483                     Dialga     Steel    Dragon    680  100     120   \n",
       "7    386        DeoxysDefense Forme   Psychic       NaN    600   50      70   \n",
       "8     78                   Rapidash      Fire       NaN    500   65     100   \n",
       "9    581                     Swanna     Water    Flying    473   75      87   \n",
       "10   236                    Tyrogue  Fighting       NaN    210   35      35   \n",
       "11   103                  Exeggutor     Grass   Psychic    520   95      95   \n",
       "12   266                    Silcoon       Bug       NaN    205   50      35   \n",
       "13   319      SharpedoMega Sharpedo     Water      Dark    560   70     140   \n",
       "14   641      TornadusTherian Forme    Flying       NaN    580   79     100   \n",
       "15   470                    Leafeon     Grass       NaN    525   65     110   \n",
       "16   392                  Infernape      Fire  Fighting    534   76     104   \n",
       "17   506                   Lillipup    Normal       NaN    275   45      60   \n",
       "18   208        SteelixMega Steelix     Steel    Ground    610   75     125   \n",
       "19   339                   Barboach     Water    Ground    288   50      48   \n",
       "20   278                    Wingull     Water    Flying    270   40      30   \n",
       "21   480                       Uxie   Psychic       NaN    580   75      75   \n",
       "22   312                      Minun  Electric       NaN    405   60      40   \n",
       "23   126                     Magmar      Fire       NaN    495   65      95   \n",
       "24   645    LandorusIncarnate Forme    Ground    Flying    600   89     125   \n",
       "25    42                     Golbat    Poison    Flying    455   75      80   \n",
       "26   605                     Elgyem   Psychic       NaN    335   55      55   \n",
       "27    55                    Golduck     Water       NaN    500   80      82   \n",
       "28   673                     Gogoat     Grass       NaN    531  123     100   \n",
       "29   109                    Koffing    Poison       NaN    340   40      65   \n",
       "..   ...                        ...       ...       ...    ...  ...     ...   \n",
       "770  130      GyaradosMega Gyarados     Water      Dark    640   95     155   \n",
       "771   80                    Slowbro     Water   Psychic    490   95      75   \n",
       "772  430                  Honchkrow      Dark    Flying    505  100     125   \n",
       "773  453                   Croagunk    Poison  Fighting    300   48      61   \n",
       "774  683                 Aromatisse     Fairy       NaN    462  101      72   \n",
       "775  200                 Misdreavus     Ghost       NaN    435   60      60   \n",
       "776  521                   Unfezant    Normal    Flying    488   80     115   \n",
       "777  503                   Samurott     Water       NaN    528   95     100   \n",
       "778  363                     Spheal       Ice     Water    290   70      40   \n",
       "779  607                    Litwick     Ghost      Fire    275   50      30   \n",
       "780  442                  Spiritomb     Ghost      Dark    485   50      92   \n",
       "781  233                   Porygon2    Normal       NaN    515   85      80   \n",
       "782  421                    Cherrim     Grass       NaN    450   70      60   \n",
       "783  326                    Grumpig   Psychic       NaN    470   80      45   \n",
       "784  235                   Smeargle    Normal       NaN    250   55      20   \n",
       "785  255                    Torchic      Fire       NaN    310   45      60   \n",
       "786  164                    Noctowl    Normal    Flying    442  100      50   \n",
       "787  259                  Marshtomp     Water    Ground    405   70      85   \n",
       "788  357                    Tropius     Grass    Flying    460   99      68   \n",
       "789  458                    Mantyke     Water    Flying    345   45      20   \n",
       "790  680                   Doublade     Steel     Ghost    448   59     110   \n",
       "791  524                 Roggenrola      Rock       NaN    280   55      75   \n",
       "792  120                     Staryu     Water       NaN    340   30      45   \n",
       "793  133                      Eevee    Normal       NaN    325   55      55   \n",
       "794  584                  Vanilluxe       Ice       NaN    535   71      95   \n",
       "795  648         MeloettaAria Forme    Normal   Psychic    600  100      77   \n",
       "796  697                  Tyrantrum      Rock    Dragon    521   82     121   \n",
       "797   66                     Machop  Fighting       NaN    305   70      80   \n",
       "798  217                   Ursaring    Normal       NaN    500   90     130   \n",
       "799   32                   Nidoran♂    Poison       NaN    273   46      57   \n",
       "\n",
       "     Defense  Sp. Atk  Sp. Def  Speed Generation  Legendary  \n",
       "0         78      159      115    100      Gen 1      False  \n",
       "1         75       92       85     60      Gen 4      False  \n",
       "2         34       35       45     20      Gen 2      False  \n",
       "3         58       73       54     72      Gen 6      False  \n",
       "4         75      105       75     45      Gen 2      False  \n",
       "5         33       61       43     70      Gen 6      False  \n",
       "6        120      150      100     90      Gen 4       True  \n",
       "7        160       70      160     90      Gen 3       True  \n",
       "8         70       80       80    105      Gen 1      False  \n",
       "9         63       87       63     98      Gen 5      False  \n",
       "10        35       35       35     35      Gen 2      False  \n",
       "11        85      125       65     55      Gen 1      False  \n",
       "12        55       25       25     15      Gen 3      False  \n",
       "13        70      110       65    105      Gen 3      False  \n",
       "14        80      110       90    121      Gen 5       True  \n",
       "15       130       60       65     95      Gen 4      False  \n",
       "16        71      104       71    108      Gen 4      False  \n",
       "17        45       25       45     55      Gen 5      False  \n",
       "18       230       55       95     30      Gen 2      False  \n",
       "19        43       46       41     60      Gen 3      False  \n",
       "20        30       55       30     85      Gen 3      False  \n",
       "21       130       75      130     95      Gen 4       True  \n",
       "22        50       75       85     95      Gen 3      False  \n",
       "23        57      100       85     93      Gen 1      False  \n",
       "24        90      115       80    101      Gen 5       True  \n",
       "25        70       65       75     90      Gen 1      False  \n",
       "26        55       85       55     30      Gen 5      False  \n",
       "27        78       95       80     85      Gen 1      False  \n",
       "28        62       97       81     68      Gen 6      False  \n",
       "29        95       60       45     35      Gen 1      False  \n",
       "..       ...      ...      ...    ...        ...        ...  \n",
       "770      109       70      130     81      Gen 1      False  \n",
       "771      110      100       80     30      Gen 1      False  \n",
       "772       52      105       52     71      Gen 4      False  \n",
       "773       40       61       40     50      Gen 4      False  \n",
       "774       72       99       89     29      Gen 6      False  \n",
       "775       60       85       85     85      Gen 2      False  \n",
       "776       80       65       55     93      Gen 5      False  \n",
       "777       85      108       70     70      Gen 5      False  \n",
       "778       50       55       50     25      Gen 3      False  \n",
       "779       55       65       55     20      Gen 5      False  \n",
       "780      108       92      108     35      Gen 4      False  \n",
       "781       90      105       95     60      Gen 2      False  \n",
       "782       70       87       78     85      Gen 4      False  \n",
       "783       65       90      110     80      Gen 3      False  \n",
       "784       35       20       45     75      Gen 2      False  \n",
       "785       40       70       50     45      Gen 3      False  \n",
       "786       50       76       96     70      Gen 2      False  \n",
       "787       70       60       70     50      Gen 3      False  \n",
       "788       83       72       87     51      Gen 3      False  \n",
       "789       50       60      120     50      Gen 4      False  \n",
       "790      150       45       49     35      Gen 6      False  \n",
       "791       85       25       25     15      Gen 5      False  \n",
       "792       55       70       55     85      Gen 1      False  \n",
       "793       50       45       65     55      Gen 1      False  \n",
       "794       85      110       95     79      Gen 5      False  \n",
       "795       77      128      128     90      Gen 5      False  \n",
       "796      119       69       59     71      Gen 6      False  \n",
       "797       50       35       35     35      Gen 1      False  \n",
       "798       75       75       75     55      Gen 2      False  \n",
       "799       40       40       40     50      Gen 1      False  \n",
       "\n",
       "[800 rows x 13 columns]>"
      ]
     },
     "execution_count": 31,
     "metadata": {},
     "output_type": "execute_result"
    }
   ],
   "source": [
    "poke_df = poke_df.sample(random_state=1, frac=1).reset_index(drop=True) # 更多请参考dataframe.set_index().py\n",
    "\n",
    "np.unique(poke_df['Generation'])"
   ]
  },
  {
   "cell_type": "code",
   "execution_count": 32,
   "metadata": {},
   "outputs": [
    {
     "data": {
      "text/plain": [
       "(800, 13)"
      ]
     },
     "execution_count": 32,
     "metadata": {},
     "output_type": "execute_result"
    }
   ],
   "source": [
    "poke_df.shape"
   ]
  },
  {
   "cell_type": "code",
   "execution_count": null,
   "metadata": {},
   "outputs": [],
   "source": []
  }
 ],
 "metadata": {
  "kernelspec": {
   "display_name": "Python 3",
   "language": "python",
   "name": "python3"
  },
  "language_info": {
   "codemirror_mode": {
    "name": "ipython",
    "version": 3
   },
   "file_extension": ".py",
   "mimetype": "text/x-python",
   "name": "python",
   "nbconvert_exporter": "python",
   "pygments_lexer": "ipython3",
   "version": "3.5.2"
  }
 },
 "nbformat": 4,
 "nbformat_minor": 2
}
